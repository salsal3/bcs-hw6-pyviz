{
 "cells": [
  {
   "cell_type": "markdown",
   "source": [
    "# San Francisco Housing Cost Analysis\n",
    "\n",
    "In this assignment, you will perform fundamental analysis for the San Francisco housing market to allow potential real estate investors to choose rental investment properties."
   ],
   "metadata": {}
  },
  {
   "cell_type": "code",
   "execution_count": 76,
   "source": [
    "# imports\r\n",
    "## I'd run into a 'TypeError' that many in the class were affected by. After spending some time researching, I found it to be a compatibility issue between numpy and pandas, likely from recent updates made to the environments. I've included the code to install them below just as a reference, as well as print() functions to check the installed versions.\r\n",
    "##!pip install numpy==1.16.5 --user\r\n",
    "##!pip install pandas==0.25.3 --user\r\n",
    "\r\n",
    "import panel as pn\r\n",
    "pn.extension('plotly')\r\n",
    "import plotly.express as px\r\n",
    "import pandas as pd\r\n",
    "import hvplot.pandas\r\n",
    "import matplotlib.pyplot as plt\r\n",
    "import numpy as np\r\n",
    "import os\r\n",
    "from pathlib import Path\r\n",
    "from dotenv import load_dotenv\r\n",
    "\r\n",
    "import warnings\r\n",
    "warnings.filterwarnings('ignore')"
   ],
   "outputs": [],
   "metadata": {}
  },
  {
   "cell_type": "code",
   "execution_count": 77,
   "source": [
    "print(f'numpy v{np.__version__} is currently installed.')\r\n",
    "print(f'pandas v{pd.__version__} is currently installed.')\r\n",
    "print(f'panel v{pn.__version__} is currently installed.')"
   ],
   "outputs": [
    {
     "output_type": "stream",
     "name": "stdout",
     "text": [
      "numpy v1.16.5 is currently installed.\n",
      "pandas v0.25.3 is currently installed.\n",
      "panel v0.11.3 is currently installed.\n"
     ]
    }
   ],
   "metadata": {}
  },
  {
   "cell_type": "code",
   "execution_count": 78,
   "source": [
    "# Read the Mapbox API key\r\n",
    "load_dotenv('token.env')\r\n",
    "map_box_api = os.getenv(\"mapbox\")"
   ],
   "outputs": [],
   "metadata": {}
  },
  {
   "cell_type": "markdown",
   "source": [
    "## Load Data"
   ],
   "metadata": {}
  },
  {
   "cell_type": "code",
   "execution_count": 79,
   "source": [
    "# Read the census data into a Pandas DataFrame\r\n",
    "file_path = Path(\"Data/sfo_neighborhoods_census_data.csv\")\r\n",
    "sfo_data = pd.read_csv(file_path, index_col=\"year\")\r\n",
    "sfo_data.head()"
   ],
   "outputs": [
    {
     "output_type": "execute_result",
     "data": {
      "text/plain": [
       "          neighborhood  sale_price_sqr_foot  housing_units  gross_rent\n",
       "year                                                                  \n",
       "2010      Alamo Square           291.182945         372560        1239\n",
       "2010        Anza Vista           267.932583         372560        1239\n",
       "2010           Bayview           170.098665         372560        1239\n",
       "2010  Buena Vista Park           347.394919         372560        1239\n",
       "2010  Central Richmond           319.027623         372560        1239"
      ],
      "text/html": [
       "<div>\n",
       "<style scoped>\n",
       "    .dataframe tbody tr th:only-of-type {\n",
       "        vertical-align: middle;\n",
       "    }\n",
       "\n",
       "    .dataframe tbody tr th {\n",
       "        vertical-align: top;\n",
       "    }\n",
       "\n",
       "    .dataframe thead th {\n",
       "        text-align: right;\n",
       "    }\n",
       "</style>\n",
       "<table border=\"1\" class=\"dataframe\">\n",
       "  <thead>\n",
       "    <tr style=\"text-align: right;\">\n",
       "      <th></th>\n",
       "      <th>neighborhood</th>\n",
       "      <th>sale_price_sqr_foot</th>\n",
       "      <th>housing_units</th>\n",
       "      <th>gross_rent</th>\n",
       "    </tr>\n",
       "    <tr>\n",
       "      <th>year</th>\n",
       "      <th></th>\n",
       "      <th></th>\n",
       "      <th></th>\n",
       "      <th></th>\n",
       "    </tr>\n",
       "  </thead>\n",
       "  <tbody>\n",
       "    <tr>\n",
       "      <th>2010</th>\n",
       "      <td>Alamo Square</td>\n",
       "      <td>291.182945</td>\n",
       "      <td>372560</td>\n",
       "      <td>1239</td>\n",
       "    </tr>\n",
       "    <tr>\n",
       "      <th>2010</th>\n",
       "      <td>Anza Vista</td>\n",
       "      <td>267.932583</td>\n",
       "      <td>372560</td>\n",
       "      <td>1239</td>\n",
       "    </tr>\n",
       "    <tr>\n",
       "      <th>2010</th>\n",
       "      <td>Bayview</td>\n",
       "      <td>170.098665</td>\n",
       "      <td>372560</td>\n",
       "      <td>1239</td>\n",
       "    </tr>\n",
       "    <tr>\n",
       "      <th>2010</th>\n",
       "      <td>Buena Vista Park</td>\n",
       "      <td>347.394919</td>\n",
       "      <td>372560</td>\n",
       "      <td>1239</td>\n",
       "    </tr>\n",
       "    <tr>\n",
       "      <th>2010</th>\n",
       "      <td>Central Richmond</td>\n",
       "      <td>319.027623</td>\n",
       "      <td>372560</td>\n",
       "      <td>1239</td>\n",
       "    </tr>\n",
       "  </tbody>\n",
       "</table>\n",
       "</div>"
      ]
     },
     "metadata": {},
     "execution_count": 79
    }
   ],
   "metadata": {}
  },
  {
   "cell_type": "markdown",
   "source": [
    "- - - "
   ],
   "metadata": {}
  },
  {
   "cell_type": "markdown",
   "source": [
    "## Housing Units Per Year\n",
    "\n",
    "In this section, you will calculate the number of housing units per year and visualize the results as a bar chart using the Pandas plot function.\n",
    "\n",
    "**Hint:** Use the Pandas `groupby` function.\n",
    "\n",
    "**Optional challenge:** Use the min, max, and std to scale the y limits of the chart.\n",
    "\n"
   ],
   "metadata": {}
  },
  {
   "cell_type": "code",
   "execution_count": 80,
   "source": [
    "# Calculate the mean number of housing units per year (hint: use groupby)\r\n",
    "sfo_data = sfo_data.rename(\r\n",
    "    columns={\r\n",
    "        'neighborhood':'Neighborhood',\r\n",
    "        'sale_price_sqr_foot':'Sale Price/SqFt',\r\n",
    "        'housing_units':'Housing Units',\r\n",
    "        'gross_rent':'Gross Rent'\r\n",
    "    }\r\n",
    ").rename_axis('Year').fillna(0).astype({'Sale Price/SqFt': int})\r\n",
    "\r\n",
    "## Checked for nulls and filled with 0\r\n",
    "# print(sfo_data.isna().sum())\r\n",
    "# print(sfo_data.dtypes)\r\n",
    "\r\n",
    "print(sfo_data.head())\r\n",
    "print()\r\n",
    "\r\n",
    "avg_housingUnits = sfo_data.groupby('Year')['Housing Units'].mean().to_frame()\r\n",
    "avg_housingUnits"
   ],
   "outputs": [
    {
     "output_type": "stream",
     "name": "stdout",
     "text": [
      "          Neighborhood  Sale Price/SqFt  Housing Units  Gross Rent\n",
      "Year                                                              \n",
      "2010      Alamo Square              291         372560        1239\n",
      "2010        Anza Vista              267         372560        1239\n",
      "2010           Bayview              170         372560        1239\n",
      "2010  Buena Vista Park              347         372560        1239\n",
      "2010  Central Richmond              319         372560        1239\n",
      "\n"
     ]
    },
    {
     "output_type": "execute_result",
     "data": {
      "text/plain": [
       "      Housing Units\n",
       "Year               \n",
       "2010         372560\n",
       "2011         374507\n",
       "2012         376454\n",
       "2013         378401\n",
       "2014         380348\n",
       "2015         382295\n",
       "2016         384242"
      ],
      "text/html": [
       "<div>\n",
       "<style scoped>\n",
       "    .dataframe tbody tr th:only-of-type {\n",
       "        vertical-align: middle;\n",
       "    }\n",
       "\n",
       "    .dataframe tbody tr th {\n",
       "        vertical-align: top;\n",
       "    }\n",
       "\n",
       "    .dataframe thead th {\n",
       "        text-align: right;\n",
       "    }\n",
       "</style>\n",
       "<table border=\"1\" class=\"dataframe\">\n",
       "  <thead>\n",
       "    <tr style=\"text-align: right;\">\n",
       "      <th></th>\n",
       "      <th>Housing Units</th>\n",
       "    </tr>\n",
       "    <tr>\n",
       "      <th>Year</th>\n",
       "      <th></th>\n",
       "    </tr>\n",
       "  </thead>\n",
       "  <tbody>\n",
       "    <tr>\n",
       "      <th>2010</th>\n",
       "      <td>372560</td>\n",
       "    </tr>\n",
       "    <tr>\n",
       "      <th>2011</th>\n",
       "      <td>374507</td>\n",
       "    </tr>\n",
       "    <tr>\n",
       "      <th>2012</th>\n",
       "      <td>376454</td>\n",
       "    </tr>\n",
       "    <tr>\n",
       "      <th>2013</th>\n",
       "      <td>378401</td>\n",
       "    </tr>\n",
       "    <tr>\n",
       "      <th>2014</th>\n",
       "      <td>380348</td>\n",
       "    </tr>\n",
       "    <tr>\n",
       "      <th>2015</th>\n",
       "      <td>382295</td>\n",
       "    </tr>\n",
       "    <tr>\n",
       "      <th>2016</th>\n",
       "      <td>384242</td>\n",
       "    </tr>\n",
       "  </tbody>\n",
       "</table>\n",
       "</div>"
      ]
     },
     "metadata": {},
     "execution_count": 80
    }
   ],
   "metadata": {}
  },
  {
   "cell_type": "code",
   "execution_count": 81,
   "source": [
    "# Save the dataframe as a csv file\r\n",
    "avg_housingUnits.to_csv('average_units_per_year.csv', sep=',', header=['Avg. Housing Units'])"
   ],
   "outputs": [],
   "metadata": {}
  },
  {
   "cell_type": "code",
   "execution_count": 82,
   "source": [
    "# Use the Pandas plot function to plot the average housing units per year.\r\n",
    "# Note: You will need to manually adjust the y limit of the chart using the min and max values from above.\r\n",
    "plot_avg_housingUnits = avg_housingUnits.plot(kind='bar', legend=False)\r\n",
    "\r\n",
    "plot_avg_housingUnits.set_xlabel('Year', fontsize=12)\r\n",
    "plot_avg_housingUnits.set_ylabel('Housing Units', fontsize=12)\r\n",
    "plot_avg_housingUnits.set_title('Housing Units in San Francisco from 2010 to 2016', fontsize=14, fontweight='bold')\r\n",
    "\r\n",
    "plot_avg_housingUnits = plot_avg_housingUnits.figure"
   ],
   "outputs": [
    {
     "output_type": "display_data",
     "data": {
      "text/plain": [
       "<Figure size 432x288 with 1 Axes>"
      ],
      "image/svg+xml": "<?xml version=\"1.0\" encoding=\"utf-8\" standalone=\"no\"?>\r\n<!DOCTYPE svg PUBLIC \"-//W3C//DTD SVG 1.1//EN\"\r\n  \"http://www.w3.org/Graphics/SVG/1.1/DTD/svg11.dtd\">\r\n<!-- Created with matplotlib (https://matplotlib.org/) -->\r\n<svg height=\"296.541562pt\" version=\"1.1\" viewBox=\"0 0 440.331094 296.541562\" width=\"440.331094pt\" xmlns=\"http://www.w3.org/2000/svg\" xmlns:xlink=\"http://www.w3.org/1999/xlink\">\r\n <defs>\r\n  <style type=\"text/css\">\r\n*{stroke-linecap:butt;stroke-linejoin:round;}\r\n  </style>\r\n </defs>\r\n <g id=\"figure_1\">\r\n  <g id=\"patch_1\">\r\n   <path d=\"M 0 296.541562 \r\nL 440.331094 296.541562 \r\nL 440.331094 0 \r\nL 0 0 \r\nz\r\n\" style=\"fill:none;\"/>\r\n  </g>\r\n  <g id=\"axes_1\">\r\n   <g id=\"patch_2\">\r\n    <path d=\"M 67.98875 241.277812 \r\nL 402.78875 241.277812 \r\nL 402.78875 23.837812 \r\nL 67.98875 23.837812 \r\nz\r\n\" style=\"fill:#ffffff;\"/>\r\n   </g>\r\n   <g id=\"patch_3\">\r\n    <path clip-path=\"url(#pf1f8c0ec56)\" d=\"M 79.945893 241.277812 \r\nL 103.860179 241.277812 \r\nL 103.860179 40.488066 \r\nL 79.945893 40.488066 \r\nz\r\n\" style=\"fill:#1f77b4;\"/>\r\n   </g>\r\n   <g id=\"patch_4\">\r\n    <path clip-path=\"url(#pf1f8c0ec56)\" d=\"M 127.774464 241.277812 \r\nL 151.68875 241.277812 \r\nL 151.68875 39.438738 \r\nL 127.774464 39.438738 \r\nz\r\n\" style=\"fill:#1f77b4;\"/>\r\n   </g>\r\n   <g id=\"patch_5\">\r\n    <path clip-path=\"url(#pf1f8c0ec56)\" d=\"M 175.603036 241.277812 \r\nL 199.517321 241.277812 \r\nL 199.517321 38.38941 \r\nL 175.603036 38.38941 \r\nz\r\n\" style=\"fill:#1f77b4;\"/>\r\n   </g>\r\n   <g id=\"patch_6\">\r\n    <path clip-path=\"url(#pf1f8c0ec56)\" d=\"M 223.431607 241.277812 \r\nL 247.345893 241.277812 \r\nL 247.345893 37.340082 \r\nL 223.431607 37.340082 \r\nz\r\n\" style=\"fill:#1f77b4;\"/>\r\n   </g>\r\n   <g id=\"patch_7\">\r\n    <path clip-path=\"url(#pf1f8c0ec56)\" d=\"M 271.260179 241.277812 \r\nL 295.174464 241.277812 \r\nL 295.174464 36.290754 \r\nL 271.260179 36.290754 \r\nz\r\n\" style=\"fill:#1f77b4;\"/>\r\n   </g>\r\n   <g id=\"patch_8\">\r\n    <path clip-path=\"url(#pf1f8c0ec56)\" d=\"M 319.08875 241.277812 \r\nL 343.003036 241.277812 \r\nL 343.003036 35.241426 \r\nL 319.08875 35.241426 \r\nz\r\n\" style=\"fill:#1f77b4;\"/>\r\n   </g>\r\n   <g id=\"patch_9\">\r\n    <path clip-path=\"url(#pf1f8c0ec56)\" d=\"M 366.917321 241.277812 \r\nL 390.831607 241.277812 \r\nL 390.831607 34.192098 \r\nL 366.917321 34.192098 \r\nz\r\n\" style=\"fill:#1f77b4;\"/>\r\n   </g>\r\n   <g id=\"matplotlib.axis_1\">\r\n    <g id=\"xtick_1\">\r\n     <g id=\"line2d_1\">\r\n      <defs>\r\n       <path d=\"M 0 0 \r\nL 0 3.5 \r\n\" id=\"m79de3a6bbb\" style=\"stroke:#000000;stroke-width:0.8;\"/>\r\n      </defs>\r\n      <g>\r\n       <use style=\"stroke:#000000;stroke-width:0.8;\" x=\"91.903036\" xlink:href=\"#m79de3a6bbb\" y=\"241.277812\"/>\r\n      </g>\r\n     </g>\r\n     <g id=\"text_1\">\r\n      <!-- 2010 -->\r\n      <defs>\r\n       <path d=\"M 19.1875 8.296875 \r\nL 53.609375 8.296875 \r\nL 53.609375 0 \r\nL 7.328125 0 \r\nL 7.328125 8.296875 \r\nQ 12.9375 14.109375 22.625 23.890625 \r\nQ 32.328125 33.6875 34.8125 36.53125 \r\nQ 39.546875 41.84375 41.421875 45.53125 \r\nQ 43.3125 49.21875 43.3125 52.78125 \r\nQ 43.3125 58.59375 39.234375 62.25 \r\nQ 35.15625 65.921875 28.609375 65.921875 \r\nQ 23.96875 65.921875 18.8125 64.3125 \r\nQ 13.671875 62.703125 7.8125 59.421875 \r\nL 7.8125 69.390625 \r\nQ 13.765625 71.78125 18.9375 73 \r\nQ 24.125 74.21875 28.421875 74.21875 \r\nQ 39.75 74.21875 46.484375 68.546875 \r\nQ 53.21875 62.890625 53.21875 53.421875 \r\nQ 53.21875 48.921875 51.53125 44.890625 \r\nQ 49.859375 40.875 45.40625 35.40625 \r\nQ 44.1875 33.984375 37.640625 27.21875 \r\nQ 31.109375 20.453125 19.1875 8.296875 \r\nz\r\n\" id=\"DejaVuSans-50\"/>\r\n       <path d=\"M 31.78125 66.40625 \r\nQ 24.171875 66.40625 20.328125 58.90625 \r\nQ 16.5 51.421875 16.5 36.375 \r\nQ 16.5 21.390625 20.328125 13.890625 \r\nQ 24.171875 6.390625 31.78125 6.390625 \r\nQ 39.453125 6.390625 43.28125 13.890625 \r\nQ 47.125 21.390625 47.125 36.375 \r\nQ 47.125 51.421875 43.28125 58.90625 \r\nQ 39.453125 66.40625 31.78125 66.40625 \r\nz\r\nM 31.78125 74.21875 \r\nQ 44.046875 74.21875 50.515625 64.515625 \r\nQ 56.984375 54.828125 56.984375 36.375 \r\nQ 56.984375 17.96875 50.515625 8.265625 \r\nQ 44.046875 -1.421875 31.78125 -1.421875 \r\nQ 19.53125 -1.421875 13.0625 8.265625 \r\nQ 6.59375 17.96875 6.59375 36.375 \r\nQ 6.59375 54.828125 13.0625 64.515625 \r\nQ 19.53125 74.21875 31.78125 74.21875 \r\nz\r\n\" id=\"DejaVuSans-48\"/>\r\n       <path d=\"M 12.40625 8.296875 \r\nL 28.515625 8.296875 \r\nL 28.515625 63.921875 \r\nL 10.984375 60.40625 \r\nL 10.984375 69.390625 \r\nL 28.421875 72.90625 \r\nL 38.28125 72.90625 \r\nL 38.28125 8.296875 \r\nL 54.390625 8.296875 \r\nL 54.390625 0 \r\nL 12.40625 0 \r\nz\r\n\" id=\"DejaVuSans-49\"/>\r\n      </defs>\r\n      <g transform=\"translate(94.662411 273.727812)rotate(-90)scale(0.1 -0.1)\">\r\n       <use xlink:href=\"#DejaVuSans-50\"/>\r\n       <use x=\"63.623047\" xlink:href=\"#DejaVuSans-48\"/>\r\n       <use x=\"127.246094\" xlink:href=\"#DejaVuSans-49\"/>\r\n       <use x=\"190.869141\" xlink:href=\"#DejaVuSans-48\"/>\r\n      </g>\r\n     </g>\r\n    </g>\r\n    <g id=\"xtick_2\">\r\n     <g id=\"line2d_2\">\r\n      <g>\r\n       <use style=\"stroke:#000000;stroke-width:0.8;\" x=\"139.731607\" xlink:href=\"#m79de3a6bbb\" y=\"241.277812\"/>\r\n      </g>\r\n     </g>\r\n     <g id=\"text_2\">\r\n      <!-- 2011 -->\r\n      <g transform=\"translate(142.490982 273.727812)rotate(-90)scale(0.1 -0.1)\">\r\n       <use xlink:href=\"#DejaVuSans-50\"/>\r\n       <use x=\"63.623047\" xlink:href=\"#DejaVuSans-48\"/>\r\n       <use x=\"127.246094\" xlink:href=\"#DejaVuSans-49\"/>\r\n       <use x=\"190.869141\" xlink:href=\"#DejaVuSans-49\"/>\r\n      </g>\r\n     </g>\r\n    </g>\r\n    <g id=\"xtick_3\">\r\n     <g id=\"line2d_3\">\r\n      <g>\r\n       <use style=\"stroke:#000000;stroke-width:0.8;\" x=\"187.560179\" xlink:href=\"#m79de3a6bbb\" y=\"241.277812\"/>\r\n      </g>\r\n     </g>\r\n     <g id=\"text_3\">\r\n      <!-- 2012 -->\r\n      <g transform=\"translate(190.319554 273.727812)rotate(-90)scale(0.1 -0.1)\">\r\n       <use xlink:href=\"#DejaVuSans-50\"/>\r\n       <use x=\"63.623047\" xlink:href=\"#DejaVuSans-48\"/>\r\n       <use x=\"127.246094\" xlink:href=\"#DejaVuSans-49\"/>\r\n       <use x=\"190.869141\" xlink:href=\"#DejaVuSans-50\"/>\r\n      </g>\r\n     </g>\r\n    </g>\r\n    <g id=\"xtick_4\">\r\n     <g id=\"line2d_4\">\r\n      <g>\r\n       <use style=\"stroke:#000000;stroke-width:0.8;\" x=\"235.38875\" xlink:href=\"#m79de3a6bbb\" y=\"241.277812\"/>\r\n      </g>\r\n     </g>\r\n     <g id=\"text_4\">\r\n      <!-- 2013 -->\r\n      <defs>\r\n       <path d=\"M 40.578125 39.3125 \r\nQ 47.65625 37.796875 51.625 33 \r\nQ 55.609375 28.21875 55.609375 21.1875 \r\nQ 55.609375 10.40625 48.1875 4.484375 \r\nQ 40.765625 -1.421875 27.09375 -1.421875 \r\nQ 22.515625 -1.421875 17.65625 -0.515625 \r\nQ 12.796875 0.390625 7.625 2.203125 \r\nL 7.625 11.71875 \r\nQ 11.71875 9.328125 16.59375 8.109375 \r\nQ 21.484375 6.890625 26.8125 6.890625 \r\nQ 36.078125 6.890625 40.9375 10.546875 \r\nQ 45.796875 14.203125 45.796875 21.1875 \r\nQ 45.796875 27.640625 41.28125 31.265625 \r\nQ 36.765625 34.90625 28.71875 34.90625 \r\nL 20.21875 34.90625 \r\nL 20.21875 43.015625 \r\nL 29.109375 43.015625 \r\nQ 36.375 43.015625 40.234375 45.921875 \r\nQ 44.09375 48.828125 44.09375 54.296875 \r\nQ 44.09375 59.90625 40.109375 62.90625 \r\nQ 36.140625 65.921875 28.71875 65.921875 \r\nQ 24.65625 65.921875 20.015625 65.03125 \r\nQ 15.375 64.15625 9.8125 62.3125 \r\nL 9.8125 71.09375 \r\nQ 15.4375 72.65625 20.34375 73.4375 \r\nQ 25.25 74.21875 29.59375 74.21875 \r\nQ 40.828125 74.21875 47.359375 69.109375 \r\nQ 53.90625 64.015625 53.90625 55.328125 \r\nQ 53.90625 49.265625 50.4375 45.09375 \r\nQ 46.96875 40.921875 40.578125 39.3125 \r\nz\r\n\" id=\"DejaVuSans-51\"/>\r\n      </defs>\r\n      <g transform=\"translate(238.148125 273.727812)rotate(-90)scale(0.1 -0.1)\">\r\n       <use xlink:href=\"#DejaVuSans-50\"/>\r\n       <use x=\"63.623047\" xlink:href=\"#DejaVuSans-48\"/>\r\n       <use x=\"127.246094\" xlink:href=\"#DejaVuSans-49\"/>\r\n       <use x=\"190.869141\" xlink:href=\"#DejaVuSans-51\"/>\r\n      </g>\r\n     </g>\r\n    </g>\r\n    <g id=\"xtick_5\">\r\n     <g id=\"line2d_5\">\r\n      <g>\r\n       <use style=\"stroke:#000000;stroke-width:0.8;\" x=\"283.217321\" xlink:href=\"#m79de3a6bbb\" y=\"241.277812\"/>\r\n      </g>\r\n     </g>\r\n     <g id=\"text_5\">\r\n      <!-- 2014 -->\r\n      <defs>\r\n       <path d=\"M 37.796875 64.3125 \r\nL 12.890625 25.390625 \r\nL 37.796875 25.390625 \r\nz\r\nM 35.203125 72.90625 \r\nL 47.609375 72.90625 \r\nL 47.609375 25.390625 \r\nL 58.015625 25.390625 \r\nL 58.015625 17.1875 \r\nL 47.609375 17.1875 \r\nL 47.609375 0 \r\nL 37.796875 0 \r\nL 37.796875 17.1875 \r\nL 4.890625 17.1875 \r\nL 4.890625 26.703125 \r\nz\r\n\" id=\"DejaVuSans-52\"/>\r\n      </defs>\r\n      <g transform=\"translate(285.976696 273.727812)rotate(-90)scale(0.1 -0.1)\">\r\n       <use xlink:href=\"#DejaVuSans-50\"/>\r\n       <use x=\"63.623047\" xlink:href=\"#DejaVuSans-48\"/>\r\n       <use x=\"127.246094\" xlink:href=\"#DejaVuSans-49\"/>\r\n       <use x=\"190.869141\" xlink:href=\"#DejaVuSans-52\"/>\r\n      </g>\r\n     </g>\r\n    </g>\r\n    <g id=\"xtick_6\">\r\n     <g id=\"line2d_6\">\r\n      <g>\r\n       <use style=\"stroke:#000000;stroke-width:0.8;\" x=\"331.045893\" xlink:href=\"#m79de3a6bbb\" y=\"241.277812\"/>\r\n      </g>\r\n     </g>\r\n     <g id=\"text_6\">\r\n      <!-- 2015 -->\r\n      <defs>\r\n       <path d=\"M 10.796875 72.90625 \r\nL 49.515625 72.90625 \r\nL 49.515625 64.59375 \r\nL 19.828125 64.59375 \r\nL 19.828125 46.734375 \r\nQ 21.96875 47.46875 24.109375 47.828125 \r\nQ 26.265625 48.1875 28.421875 48.1875 \r\nQ 40.625 48.1875 47.75 41.5 \r\nQ 54.890625 34.8125 54.890625 23.390625 \r\nQ 54.890625 11.625 47.5625 5.09375 \r\nQ 40.234375 -1.421875 26.90625 -1.421875 \r\nQ 22.3125 -1.421875 17.546875 -0.640625 \r\nQ 12.796875 0.140625 7.71875 1.703125 \r\nL 7.71875 11.625 \r\nQ 12.109375 9.234375 16.796875 8.0625 \r\nQ 21.484375 6.890625 26.703125 6.890625 \r\nQ 35.15625 6.890625 40.078125 11.328125 \r\nQ 45.015625 15.765625 45.015625 23.390625 \r\nQ 45.015625 31 40.078125 35.4375 \r\nQ 35.15625 39.890625 26.703125 39.890625 \r\nQ 22.75 39.890625 18.8125 39.015625 \r\nQ 14.890625 38.140625 10.796875 36.28125 \r\nz\r\n\" id=\"DejaVuSans-53\"/>\r\n      </defs>\r\n      <g transform=\"translate(333.805268 273.727812)rotate(-90)scale(0.1 -0.1)\">\r\n       <use xlink:href=\"#DejaVuSans-50\"/>\r\n       <use x=\"63.623047\" xlink:href=\"#DejaVuSans-48\"/>\r\n       <use x=\"127.246094\" xlink:href=\"#DejaVuSans-49\"/>\r\n       <use x=\"190.869141\" xlink:href=\"#DejaVuSans-53\"/>\r\n      </g>\r\n     </g>\r\n    </g>\r\n    <g id=\"xtick_7\">\r\n     <g id=\"line2d_7\">\r\n      <g>\r\n       <use style=\"stroke:#000000;stroke-width:0.8;\" x=\"378.874464\" xlink:href=\"#m79de3a6bbb\" y=\"241.277812\"/>\r\n      </g>\r\n     </g>\r\n     <g id=\"text_7\">\r\n      <!-- 2016 -->\r\n      <defs>\r\n       <path d=\"M 33.015625 40.375 \r\nQ 26.375 40.375 22.484375 35.828125 \r\nQ 18.609375 31.296875 18.609375 23.390625 \r\nQ 18.609375 15.53125 22.484375 10.953125 \r\nQ 26.375 6.390625 33.015625 6.390625 \r\nQ 39.65625 6.390625 43.53125 10.953125 \r\nQ 47.40625 15.53125 47.40625 23.390625 \r\nQ 47.40625 31.296875 43.53125 35.828125 \r\nQ 39.65625 40.375 33.015625 40.375 \r\nz\r\nM 52.59375 71.296875 \r\nL 52.59375 62.3125 \r\nQ 48.875 64.0625 45.09375 64.984375 \r\nQ 41.3125 65.921875 37.59375 65.921875 \r\nQ 27.828125 65.921875 22.671875 59.328125 \r\nQ 17.53125 52.734375 16.796875 39.40625 \r\nQ 19.671875 43.65625 24.015625 45.921875 \r\nQ 28.375 48.1875 33.59375 48.1875 \r\nQ 44.578125 48.1875 50.953125 41.515625 \r\nQ 57.328125 34.859375 57.328125 23.390625 \r\nQ 57.328125 12.15625 50.6875 5.359375 \r\nQ 44.046875 -1.421875 33.015625 -1.421875 \r\nQ 20.359375 -1.421875 13.671875 8.265625 \r\nQ 6.984375 17.96875 6.984375 36.375 \r\nQ 6.984375 53.65625 15.1875 63.9375 \r\nQ 23.390625 74.21875 37.203125 74.21875 \r\nQ 40.921875 74.21875 44.703125 73.484375 \r\nQ 48.484375 72.75 52.59375 71.296875 \r\nz\r\n\" id=\"DejaVuSans-54\"/>\r\n      </defs>\r\n      <g transform=\"translate(381.633839 273.727812)rotate(-90)scale(0.1 -0.1)\">\r\n       <use xlink:href=\"#DejaVuSans-50\"/>\r\n       <use x=\"63.623047\" xlink:href=\"#DejaVuSans-48\"/>\r\n       <use x=\"127.246094\" xlink:href=\"#DejaVuSans-49\"/>\r\n       <use x=\"190.869141\" xlink:href=\"#DejaVuSans-54\"/>\r\n      </g>\r\n     </g>\r\n    </g>\r\n    <g id=\"text_8\">\r\n     <!-- Year -->\r\n     <defs>\r\n      <path d=\"M -0.203125 72.90625 \r\nL 10.40625 72.90625 \r\nL 30.609375 42.921875 \r\nL 50.6875 72.90625 \r\nL 61.28125 72.90625 \r\nL 35.5 34.71875 \r\nL 35.5 0 \r\nL 25.59375 0 \r\nL 25.59375 34.71875 \r\nz\r\n\" id=\"DejaVuSans-89\"/>\r\n      <path d=\"M 56.203125 29.59375 \r\nL 56.203125 25.203125 \r\nL 14.890625 25.203125 \r\nQ 15.484375 15.921875 20.484375 11.0625 \r\nQ 25.484375 6.203125 34.421875 6.203125 \r\nQ 39.59375 6.203125 44.453125 7.46875 \r\nQ 49.3125 8.734375 54.109375 11.28125 \r\nL 54.109375 2.78125 \r\nQ 49.265625 0.734375 44.1875 -0.34375 \r\nQ 39.109375 -1.421875 33.890625 -1.421875 \r\nQ 20.796875 -1.421875 13.15625 6.1875 \r\nQ 5.515625 13.8125 5.515625 26.8125 \r\nQ 5.515625 40.234375 12.765625 48.109375 \r\nQ 20.015625 56 32.328125 56 \r\nQ 43.359375 56 49.78125 48.890625 \r\nQ 56.203125 41.796875 56.203125 29.59375 \r\nz\r\nM 47.21875 32.234375 \r\nQ 47.125 39.59375 43.09375 43.984375 \r\nQ 39.0625 48.390625 32.421875 48.390625 \r\nQ 24.90625 48.390625 20.390625 44.140625 \r\nQ 15.875 39.890625 15.1875 32.171875 \r\nz\r\n\" id=\"DejaVuSans-101\"/>\r\n      <path d=\"M 34.28125 27.484375 \r\nQ 23.390625 27.484375 19.1875 25 \r\nQ 14.984375 22.515625 14.984375 16.5 \r\nQ 14.984375 11.71875 18.140625 8.90625 \r\nQ 21.296875 6.109375 26.703125 6.109375 \r\nQ 34.1875 6.109375 38.703125 11.40625 \r\nQ 43.21875 16.703125 43.21875 25.484375 \r\nL 43.21875 27.484375 \r\nz\r\nM 52.203125 31.203125 \r\nL 52.203125 0 \r\nL 43.21875 0 \r\nL 43.21875 8.296875 \r\nQ 40.140625 3.328125 35.546875 0.953125 \r\nQ 30.953125 -1.421875 24.3125 -1.421875 \r\nQ 15.921875 -1.421875 10.953125 3.296875 \r\nQ 6 8.015625 6 15.921875 \r\nQ 6 25.140625 12.171875 29.828125 \r\nQ 18.359375 34.515625 30.609375 34.515625 \r\nL 43.21875 34.515625 \r\nL 43.21875 35.40625 \r\nQ 43.21875 41.609375 39.140625 45 \r\nQ 35.0625 48.390625 27.6875 48.390625 \r\nQ 23 48.390625 18.546875 47.265625 \r\nQ 14.109375 46.140625 10.015625 43.890625 \r\nL 10.015625 52.203125 \r\nQ 14.9375 54.109375 19.578125 55.046875 \r\nQ 24.21875 56 28.609375 56 \r\nQ 40.484375 56 46.34375 49.84375 \r\nQ 52.203125 43.703125 52.203125 31.203125 \r\nz\r\n\" id=\"DejaVuSans-97\"/>\r\n      <path d=\"M 41.109375 46.296875 \r\nQ 39.59375 47.171875 37.8125 47.578125 \r\nQ 36.03125 48 33.890625 48 \r\nQ 26.265625 48 22.1875 43.046875 \r\nQ 18.109375 38.09375 18.109375 28.8125 \r\nL 18.109375 0 \r\nL 9.078125 0 \r\nL 9.078125 54.6875 \r\nL 18.109375 54.6875 \r\nL 18.109375 46.1875 \r\nQ 20.953125 51.171875 25.484375 53.578125 \r\nQ 30.03125 56 36.53125 56 \r\nQ 37.453125 56 38.578125 55.875 \r\nQ 39.703125 55.765625 41.0625 55.515625 \r\nz\r\n\" id=\"DejaVuSans-114\"/>\r\n     </defs>\r\n     <g transform=\"translate(221.900937 286.845937)scale(0.12 -0.12)\">\r\n      <use xlink:href=\"#DejaVuSans-89\"/>\r\n      <use x=\"60.880859\" xlink:href=\"#DejaVuSans-101\"/>\r\n      <use x=\"122.404297\" xlink:href=\"#DejaVuSans-97\"/>\r\n      <use x=\"183.683594\" xlink:href=\"#DejaVuSans-114\"/>\r\n     </g>\r\n    </g>\r\n   </g>\r\n   <g id=\"matplotlib.axis_2\">\r\n    <g id=\"ytick_1\">\r\n     <g id=\"line2d_8\">\r\n      <defs>\r\n       <path d=\"M 0 0 \r\nL -3.5 0 \r\n\" id=\"m5b34d38e56\" style=\"stroke:#000000;stroke-width:0.8;\"/>\r\n      </defs>\r\n      <g>\r\n       <use style=\"stroke:#000000;stroke-width:0.8;\" x=\"67.98875\" xlink:href=\"#m5b34d38e56\" y=\"241.277812\"/>\r\n      </g>\r\n     </g>\r\n     <g id=\"text_9\">\r\n      <!-- 0 -->\r\n      <g transform=\"translate(54.62625 245.077031)scale(0.1 -0.1)\">\r\n       <use xlink:href=\"#DejaVuSans-48\"/>\r\n      </g>\r\n     </g>\r\n    </g>\r\n    <g id=\"ytick_2\">\r\n     <g id=\"line2d_9\">\r\n      <g>\r\n       <use style=\"stroke:#000000;stroke-width:0.8;\" x=\"67.98875\" xlink:href=\"#m5b34d38e56\" y=\"214.330509\"/>\r\n      </g>\r\n     </g>\r\n     <g id=\"text_10\">\r\n      <!-- 50000 -->\r\n      <g transform=\"translate(29.17625 218.129728)scale(0.1 -0.1)\">\r\n       <use xlink:href=\"#DejaVuSans-53\"/>\r\n       <use x=\"63.623047\" xlink:href=\"#DejaVuSans-48\"/>\r\n       <use x=\"127.246094\" xlink:href=\"#DejaVuSans-48\"/>\r\n       <use x=\"190.869141\" xlink:href=\"#DejaVuSans-48\"/>\r\n       <use x=\"254.492188\" xlink:href=\"#DejaVuSans-48\"/>\r\n      </g>\r\n     </g>\r\n    </g>\r\n    <g id=\"ytick_3\">\r\n     <g id=\"line2d_10\">\r\n      <g>\r\n       <use style=\"stroke:#000000;stroke-width:0.8;\" x=\"67.98875\" xlink:href=\"#m5b34d38e56\" y=\"187.383206\"/>\r\n      </g>\r\n     </g>\r\n     <g id=\"text_11\">\r\n      <!-- 100000 -->\r\n      <g transform=\"translate(22.81375 191.182425)scale(0.1 -0.1)\">\r\n       <use xlink:href=\"#DejaVuSans-49\"/>\r\n       <use x=\"63.623047\" xlink:href=\"#DejaVuSans-48\"/>\r\n       <use x=\"127.246094\" xlink:href=\"#DejaVuSans-48\"/>\r\n       <use x=\"190.869141\" xlink:href=\"#DejaVuSans-48\"/>\r\n       <use x=\"254.492188\" xlink:href=\"#DejaVuSans-48\"/>\r\n       <use x=\"318.115234\" xlink:href=\"#DejaVuSans-48\"/>\r\n      </g>\r\n     </g>\r\n    </g>\r\n    <g id=\"ytick_4\">\r\n     <g id=\"line2d_11\">\r\n      <g>\r\n       <use style=\"stroke:#000000;stroke-width:0.8;\" x=\"67.98875\" xlink:href=\"#m5b34d38e56\" y=\"160.435903\"/>\r\n      </g>\r\n     </g>\r\n     <g id=\"text_12\">\r\n      <!-- 150000 -->\r\n      <g transform=\"translate(22.81375 164.235121)scale(0.1 -0.1)\">\r\n       <use xlink:href=\"#DejaVuSans-49\"/>\r\n       <use x=\"63.623047\" xlink:href=\"#DejaVuSans-53\"/>\r\n       <use x=\"127.246094\" xlink:href=\"#DejaVuSans-48\"/>\r\n       <use x=\"190.869141\" xlink:href=\"#DejaVuSans-48\"/>\r\n       <use x=\"254.492188\" xlink:href=\"#DejaVuSans-48\"/>\r\n       <use x=\"318.115234\" xlink:href=\"#DejaVuSans-48\"/>\r\n      </g>\r\n     </g>\r\n    </g>\r\n    <g id=\"ytick_5\">\r\n     <g id=\"line2d_12\">\r\n      <g>\r\n       <use style=\"stroke:#000000;stroke-width:0.8;\" x=\"67.98875\" xlink:href=\"#m5b34d38e56\" y=\"133.488599\"/>\r\n      </g>\r\n     </g>\r\n     <g id=\"text_13\">\r\n      <!-- 200000 -->\r\n      <g transform=\"translate(22.81375 137.287818)scale(0.1 -0.1)\">\r\n       <use xlink:href=\"#DejaVuSans-50\"/>\r\n       <use x=\"63.623047\" xlink:href=\"#DejaVuSans-48\"/>\r\n       <use x=\"127.246094\" xlink:href=\"#DejaVuSans-48\"/>\r\n       <use x=\"190.869141\" xlink:href=\"#DejaVuSans-48\"/>\r\n       <use x=\"254.492188\" xlink:href=\"#DejaVuSans-48\"/>\r\n       <use x=\"318.115234\" xlink:href=\"#DejaVuSans-48\"/>\r\n      </g>\r\n     </g>\r\n    </g>\r\n    <g id=\"ytick_6\">\r\n     <g id=\"line2d_13\">\r\n      <g>\r\n       <use style=\"stroke:#000000;stroke-width:0.8;\" x=\"67.98875\" xlink:href=\"#m5b34d38e56\" y=\"106.541296\"/>\r\n      </g>\r\n     </g>\r\n     <g id=\"text_14\">\r\n      <!-- 250000 -->\r\n      <g transform=\"translate(22.81375 110.340515)scale(0.1 -0.1)\">\r\n       <use xlink:href=\"#DejaVuSans-50\"/>\r\n       <use x=\"63.623047\" xlink:href=\"#DejaVuSans-53\"/>\r\n       <use x=\"127.246094\" xlink:href=\"#DejaVuSans-48\"/>\r\n       <use x=\"190.869141\" xlink:href=\"#DejaVuSans-48\"/>\r\n       <use x=\"254.492188\" xlink:href=\"#DejaVuSans-48\"/>\r\n       <use x=\"318.115234\" xlink:href=\"#DejaVuSans-48\"/>\r\n      </g>\r\n     </g>\r\n    </g>\r\n    <g id=\"ytick_7\">\r\n     <g id=\"line2d_14\">\r\n      <g>\r\n       <use style=\"stroke:#000000;stroke-width:0.8;\" x=\"67.98875\" xlink:href=\"#m5b34d38e56\" y=\"79.593993\"/>\r\n      </g>\r\n     </g>\r\n     <g id=\"text_15\">\r\n      <!-- 300000 -->\r\n      <g transform=\"translate(22.81375 83.393211)scale(0.1 -0.1)\">\r\n       <use xlink:href=\"#DejaVuSans-51\"/>\r\n       <use x=\"63.623047\" xlink:href=\"#DejaVuSans-48\"/>\r\n       <use x=\"127.246094\" xlink:href=\"#DejaVuSans-48\"/>\r\n       <use x=\"190.869141\" xlink:href=\"#DejaVuSans-48\"/>\r\n       <use x=\"254.492188\" xlink:href=\"#DejaVuSans-48\"/>\r\n       <use x=\"318.115234\" xlink:href=\"#DejaVuSans-48\"/>\r\n      </g>\r\n     </g>\r\n    </g>\r\n    <g id=\"ytick_8\">\r\n     <g id=\"line2d_15\">\r\n      <g>\r\n       <use style=\"stroke:#000000;stroke-width:0.8;\" x=\"67.98875\" xlink:href=\"#m5b34d38e56\" y=\"52.646689\"/>\r\n      </g>\r\n     </g>\r\n     <g id=\"text_16\">\r\n      <!-- 350000 -->\r\n      <g transform=\"translate(22.81375 56.445908)scale(0.1 -0.1)\">\r\n       <use xlink:href=\"#DejaVuSans-51\"/>\r\n       <use x=\"63.623047\" xlink:href=\"#DejaVuSans-53\"/>\r\n       <use x=\"127.246094\" xlink:href=\"#DejaVuSans-48\"/>\r\n       <use x=\"190.869141\" xlink:href=\"#DejaVuSans-48\"/>\r\n       <use x=\"254.492188\" xlink:href=\"#DejaVuSans-48\"/>\r\n       <use x=\"318.115234\" xlink:href=\"#DejaVuSans-48\"/>\r\n      </g>\r\n     </g>\r\n    </g>\r\n    <g id=\"ytick_9\">\r\n     <g id=\"line2d_16\">\r\n      <g>\r\n       <use style=\"stroke:#000000;stroke-width:0.8;\" x=\"67.98875\" xlink:href=\"#m5b34d38e56\" y=\"25.699386\"/>\r\n      </g>\r\n     </g>\r\n     <g id=\"text_17\">\r\n      <!-- 400000 -->\r\n      <g transform=\"translate(22.81375 29.498605)scale(0.1 -0.1)\">\r\n       <use xlink:href=\"#DejaVuSans-52\"/>\r\n       <use x=\"63.623047\" xlink:href=\"#DejaVuSans-48\"/>\r\n       <use x=\"127.246094\" xlink:href=\"#DejaVuSans-48\"/>\r\n       <use x=\"190.869141\" xlink:href=\"#DejaVuSans-48\"/>\r\n       <use x=\"254.492188\" xlink:href=\"#DejaVuSans-48\"/>\r\n       <use x=\"318.115234\" xlink:href=\"#DejaVuSans-48\"/>\r\n      </g>\r\n     </g>\r\n    </g>\r\n    <g id=\"text_18\">\r\n     <!-- Housing Units -->\r\n     <defs>\r\n      <path d=\"M 9.8125 72.90625 \r\nL 19.671875 72.90625 \r\nL 19.671875 43.015625 \r\nL 55.515625 43.015625 \r\nL 55.515625 72.90625 \r\nL 65.375 72.90625 \r\nL 65.375 0 \r\nL 55.515625 0 \r\nL 55.515625 34.71875 \r\nL 19.671875 34.71875 \r\nL 19.671875 0 \r\nL 9.8125 0 \r\nz\r\n\" id=\"DejaVuSans-72\"/>\r\n      <path d=\"M 30.609375 48.390625 \r\nQ 23.390625 48.390625 19.1875 42.75 \r\nQ 14.984375 37.109375 14.984375 27.296875 \r\nQ 14.984375 17.484375 19.15625 11.84375 \r\nQ 23.34375 6.203125 30.609375 6.203125 \r\nQ 37.796875 6.203125 41.984375 11.859375 \r\nQ 46.1875 17.53125 46.1875 27.296875 \r\nQ 46.1875 37.015625 41.984375 42.703125 \r\nQ 37.796875 48.390625 30.609375 48.390625 \r\nz\r\nM 30.609375 56 \r\nQ 42.328125 56 49.015625 48.375 \r\nQ 55.71875 40.765625 55.71875 27.296875 \r\nQ 55.71875 13.875 49.015625 6.21875 \r\nQ 42.328125 -1.421875 30.609375 -1.421875 \r\nQ 18.84375 -1.421875 12.171875 6.21875 \r\nQ 5.515625 13.875 5.515625 27.296875 \r\nQ 5.515625 40.765625 12.171875 48.375 \r\nQ 18.84375 56 30.609375 56 \r\nz\r\n\" id=\"DejaVuSans-111\"/>\r\n      <path d=\"M 8.5 21.578125 \r\nL 8.5 54.6875 \r\nL 17.484375 54.6875 \r\nL 17.484375 21.921875 \r\nQ 17.484375 14.15625 20.5 10.265625 \r\nQ 23.53125 6.390625 29.59375 6.390625 \r\nQ 36.859375 6.390625 41.078125 11.03125 \r\nQ 45.3125 15.671875 45.3125 23.6875 \r\nL 45.3125 54.6875 \r\nL 54.296875 54.6875 \r\nL 54.296875 0 \r\nL 45.3125 0 \r\nL 45.3125 8.40625 \r\nQ 42.046875 3.421875 37.71875 1 \r\nQ 33.40625 -1.421875 27.6875 -1.421875 \r\nQ 18.265625 -1.421875 13.375 4.4375 \r\nQ 8.5 10.296875 8.5 21.578125 \r\nz\r\nM 31.109375 56 \r\nz\r\n\" id=\"DejaVuSans-117\"/>\r\n      <path d=\"M 44.28125 53.078125 \r\nL 44.28125 44.578125 \r\nQ 40.484375 46.53125 36.375 47.5 \r\nQ 32.28125 48.484375 27.875 48.484375 \r\nQ 21.1875 48.484375 17.84375 46.4375 \r\nQ 14.5 44.390625 14.5 40.28125 \r\nQ 14.5 37.15625 16.890625 35.375 \r\nQ 19.28125 33.59375 26.515625 31.984375 \r\nL 29.59375 31.296875 \r\nQ 39.15625 29.25 43.1875 25.515625 \r\nQ 47.21875 21.78125 47.21875 15.09375 \r\nQ 47.21875 7.46875 41.1875 3.015625 \r\nQ 35.15625 -1.421875 24.609375 -1.421875 \r\nQ 20.21875 -1.421875 15.453125 -0.5625 \r\nQ 10.6875 0.296875 5.421875 2 \r\nL 5.421875 11.28125 \r\nQ 10.40625 8.6875 15.234375 7.390625 \r\nQ 20.0625 6.109375 24.8125 6.109375 \r\nQ 31.15625 6.109375 34.5625 8.28125 \r\nQ 37.984375 10.453125 37.984375 14.40625 \r\nQ 37.984375 18.0625 35.515625 20.015625 \r\nQ 33.0625 21.96875 24.703125 23.78125 \r\nL 21.578125 24.515625 \r\nQ 13.234375 26.265625 9.515625 29.90625 \r\nQ 5.8125 33.546875 5.8125 39.890625 \r\nQ 5.8125 47.609375 11.28125 51.796875 \r\nQ 16.75 56 26.8125 56 \r\nQ 31.78125 56 36.171875 55.265625 \r\nQ 40.578125 54.546875 44.28125 53.078125 \r\nz\r\n\" id=\"DejaVuSans-115\"/>\r\n      <path d=\"M 9.421875 54.6875 \r\nL 18.40625 54.6875 \r\nL 18.40625 0 \r\nL 9.421875 0 \r\nz\r\nM 9.421875 75.984375 \r\nL 18.40625 75.984375 \r\nL 18.40625 64.59375 \r\nL 9.421875 64.59375 \r\nz\r\n\" id=\"DejaVuSans-105\"/>\r\n      <path d=\"M 54.890625 33.015625 \r\nL 54.890625 0 \r\nL 45.90625 0 \r\nL 45.90625 32.71875 \r\nQ 45.90625 40.484375 42.875 44.328125 \r\nQ 39.84375 48.1875 33.796875 48.1875 \r\nQ 26.515625 48.1875 22.3125 43.546875 \r\nQ 18.109375 38.921875 18.109375 30.90625 \r\nL 18.109375 0 \r\nL 9.078125 0 \r\nL 9.078125 54.6875 \r\nL 18.109375 54.6875 \r\nL 18.109375 46.1875 \r\nQ 21.34375 51.125 25.703125 53.5625 \r\nQ 30.078125 56 35.796875 56 \r\nQ 45.21875 56 50.046875 50.171875 \r\nQ 54.890625 44.34375 54.890625 33.015625 \r\nz\r\n\" id=\"DejaVuSans-110\"/>\r\n      <path d=\"M 45.40625 27.984375 \r\nQ 45.40625 37.75 41.375 43.109375 \r\nQ 37.359375 48.484375 30.078125 48.484375 \r\nQ 22.859375 48.484375 18.828125 43.109375 \r\nQ 14.796875 37.75 14.796875 27.984375 \r\nQ 14.796875 18.265625 18.828125 12.890625 \r\nQ 22.859375 7.515625 30.078125 7.515625 \r\nQ 37.359375 7.515625 41.375 12.890625 \r\nQ 45.40625 18.265625 45.40625 27.984375 \r\nz\r\nM 54.390625 6.78125 \r\nQ 54.390625 -7.171875 48.1875 -13.984375 \r\nQ 42 -20.796875 29.203125 -20.796875 \r\nQ 24.46875 -20.796875 20.265625 -20.09375 \r\nQ 16.0625 -19.390625 12.109375 -17.921875 \r\nL 12.109375 -9.1875 \r\nQ 16.0625 -11.328125 19.921875 -12.34375 \r\nQ 23.78125 -13.375 27.78125 -13.375 \r\nQ 36.625 -13.375 41.015625 -8.765625 \r\nQ 45.40625 -4.15625 45.40625 5.171875 \r\nL 45.40625 9.625 \r\nQ 42.625 4.78125 38.28125 2.390625 \r\nQ 33.9375 0 27.875 0 \r\nQ 17.828125 0 11.671875 7.65625 \r\nQ 5.515625 15.328125 5.515625 27.984375 \r\nQ 5.515625 40.671875 11.671875 48.328125 \r\nQ 17.828125 56 27.875 56 \r\nQ 33.9375 56 38.28125 53.609375 \r\nQ 42.625 51.21875 45.40625 46.390625 \r\nL 45.40625 54.6875 \r\nL 54.390625 54.6875 \r\nz\r\n\" id=\"DejaVuSans-103\"/>\r\n      <path id=\"DejaVuSans-32\"/>\r\n      <path d=\"M 8.6875 72.90625 \r\nL 18.609375 72.90625 \r\nL 18.609375 28.609375 \r\nQ 18.609375 16.890625 22.84375 11.734375 \r\nQ 27.09375 6.59375 36.625 6.59375 \r\nQ 46.09375 6.59375 50.34375 11.734375 \r\nQ 54.59375 16.890625 54.59375 28.609375 \r\nL 54.59375 72.90625 \r\nL 64.5 72.90625 \r\nL 64.5 27.390625 \r\nQ 64.5 13.140625 57.4375 5.859375 \r\nQ 50.390625 -1.421875 36.625 -1.421875 \r\nQ 22.796875 -1.421875 15.734375 5.859375 \r\nQ 8.6875 13.140625 8.6875 27.390625 \r\nz\r\n\" id=\"DejaVuSans-85\"/>\r\n      <path d=\"M 18.3125 70.21875 \r\nL 18.3125 54.6875 \r\nL 36.8125 54.6875 \r\nL 36.8125 47.703125 \r\nL 18.3125 47.703125 \r\nL 18.3125 18.015625 \r\nQ 18.3125 11.328125 20.140625 9.421875 \r\nQ 21.96875 7.515625 27.59375 7.515625 \r\nL 36.8125 7.515625 \r\nL 36.8125 0 \r\nL 27.59375 0 \r\nQ 17.1875 0 13.234375 3.875 \r\nQ 9.28125 7.765625 9.28125 18.015625 \r\nL 9.28125 47.703125 \r\nL 2.6875 47.703125 \r\nL 2.6875 54.6875 \r\nL 9.28125 54.6875 \r\nL 9.28125 70.21875 \r\nz\r\n\" id=\"DejaVuSans-116\"/>\r\n     </defs>\r\n     <g transform=\"translate(16.318125 174.193125)rotate(-90)scale(0.12 -0.12)\">\r\n      <use xlink:href=\"#DejaVuSans-72\"/>\r\n      <use x=\"75.195312\" xlink:href=\"#DejaVuSans-111\"/>\r\n      <use x=\"136.376953\" xlink:href=\"#DejaVuSans-117\"/>\r\n      <use x=\"199.755859\" xlink:href=\"#DejaVuSans-115\"/>\r\n      <use x=\"251.855469\" xlink:href=\"#DejaVuSans-105\"/>\r\n      <use x=\"279.638672\" xlink:href=\"#DejaVuSans-110\"/>\r\n      <use x=\"343.017578\" xlink:href=\"#DejaVuSans-103\"/>\r\n      <use x=\"406.494141\" xlink:href=\"#DejaVuSans-32\"/>\r\n      <use x=\"438.28125\" xlink:href=\"#DejaVuSans-85\"/>\r\n      <use x=\"511.474609\" xlink:href=\"#DejaVuSans-110\"/>\r\n      <use x=\"574.853516\" xlink:href=\"#DejaVuSans-105\"/>\r\n      <use x=\"602.636719\" xlink:href=\"#DejaVuSans-116\"/>\r\n      <use x=\"641.845703\" xlink:href=\"#DejaVuSans-115\"/>\r\n     </g>\r\n    </g>\r\n   </g>\r\n   <g id=\"patch_10\">\r\n    <path d=\"M 67.98875 241.277812 \r\nL 67.98875 23.837812 \r\n\" style=\"fill:none;stroke:#000000;stroke-linecap:square;stroke-linejoin:miter;stroke-width:0.8;\"/>\r\n   </g>\r\n   <g id=\"patch_11\">\r\n    <path d=\"M 402.78875 241.277812 \r\nL 402.78875 23.837812 \r\n\" style=\"fill:none;stroke:#000000;stroke-linecap:square;stroke-linejoin:miter;stroke-width:0.8;\"/>\r\n   </g>\r\n   <g id=\"patch_12\">\r\n    <path d=\"M 67.98875 241.277812 \r\nL 402.78875 241.277812 \r\n\" style=\"fill:none;stroke:#000000;stroke-linecap:square;stroke-linejoin:miter;stroke-width:0.8;\"/>\r\n   </g>\r\n   <g id=\"patch_13\">\r\n    <path d=\"M 67.98875 23.837812 \r\nL 402.78875 23.837812 \r\n\" style=\"fill:none;stroke:#000000;stroke-linecap:square;stroke-linejoin:miter;stroke-width:0.8;\"/>\r\n   </g>\r\n   <g id=\"text_19\">\r\n    <!-- Housing Units in San Francisco from 2010 to 2016 -->\r\n    <defs>\r\n     <path d=\"M 9.1875 72.90625 \r\nL 27.984375 72.90625 \r\nL 27.984375 45.125 \r\nL 55.71875 45.125 \r\nL 55.71875 72.90625 \r\nL 74.515625 72.90625 \r\nL 74.515625 0 \r\nL 55.71875 0 \r\nL 55.71875 30.90625 \r\nL 27.984375 30.90625 \r\nL 27.984375 0 \r\nL 9.1875 0 \r\nz\r\n\" id=\"DejaVuSans-Bold-72\"/>\r\n     <path d=\"M 34.421875 43.5 \r\nQ 28.609375 43.5 25.5625 39.328125 \r\nQ 22.515625 35.15625 22.515625 27.296875 \r\nQ 22.515625 19.4375 25.5625 15.25 \r\nQ 28.609375 11.078125 34.421875 11.078125 \r\nQ 40.140625 11.078125 43.15625 15.25 \r\nQ 46.1875 19.4375 46.1875 27.296875 \r\nQ 46.1875 35.15625 43.15625 39.328125 \r\nQ 40.140625 43.5 34.421875 43.5 \r\nz\r\nM 34.421875 56 \r\nQ 48.53125 56 56.46875 48.375 \r\nQ 64.40625 40.765625 64.40625 27.296875 \r\nQ 64.40625 13.8125 56.46875 6.1875 \r\nQ 48.53125 -1.421875 34.421875 -1.421875 \r\nQ 20.265625 -1.421875 12.28125 6.1875 \r\nQ 4.296875 13.8125 4.296875 27.296875 \r\nQ 4.296875 40.765625 12.28125 48.375 \r\nQ 20.265625 56 34.421875 56 \r\nz\r\n\" id=\"DejaVuSans-Bold-111\"/>\r\n     <path d=\"M 7.8125 21.296875 \r\nL 7.8125 54.6875 \r\nL 25.390625 54.6875 \r\nL 25.390625 49.21875 \r\nQ 25.390625 44.78125 25.34375 38.0625 \r\nQ 25.296875 31.34375 25.296875 29.109375 \r\nQ 25.296875 22.515625 25.640625 19.609375 \r\nQ 25.984375 16.703125 26.8125 15.375 \r\nQ 27.875 13.671875 29.609375 12.734375 \r\nQ 31.34375 11.8125 33.59375 11.8125 \r\nQ 39.0625 11.8125 42.1875 16.015625 \r\nQ 45.3125 20.21875 45.3125 27.6875 \r\nL 45.3125 54.6875 \r\nL 62.796875 54.6875 \r\nL 62.796875 0 \r\nL 45.3125 0 \r\nL 45.3125 7.90625 \r\nQ 41.359375 3.125 36.9375 0.84375 \r\nQ 32.515625 -1.421875 27.203125 -1.421875 \r\nQ 17.71875 -1.421875 12.765625 4.390625 \r\nQ 7.8125 10.203125 7.8125 21.296875 \r\nz\r\n\" id=\"DejaVuSans-Bold-117\"/>\r\n     <path d=\"M 51.125 52.984375 \r\nL 51.125 39.703125 \r\nQ 45.515625 42.046875 40.28125 43.21875 \r\nQ 35.0625 44.390625 30.421875 44.390625 \r\nQ 25.4375 44.390625 23.015625 43.140625 \r\nQ 20.609375 41.890625 20.609375 39.3125 \r\nQ 20.609375 37.203125 22.4375 36.078125 \r\nQ 24.265625 34.96875 29 34.421875 \r\nL 32.078125 33.984375 \r\nQ 45.515625 32.28125 50.140625 28.375 \r\nQ 54.78125 24.46875 54.78125 16.109375 \r\nQ 54.78125 7.375 48.328125 2.96875 \r\nQ 41.890625 -1.421875 29.109375 -1.421875 \r\nQ 23.6875 -1.421875 17.890625 -0.5625 \r\nQ 12.109375 0.296875 6 2 \r\nL 6 15.28125 \r\nQ 11.234375 12.75 16.71875 11.46875 \r\nQ 22.21875 10.203125 27.875 10.203125 \r\nQ 33.015625 10.203125 35.59375 11.609375 \r\nQ 38.1875 13.03125 38.1875 15.828125 \r\nQ 38.1875 18.171875 36.40625 19.3125 \r\nQ 34.625 20.453125 29.296875 21.09375 \r\nL 26.21875 21.484375 \r\nQ 14.546875 22.953125 9.859375 26.90625 \r\nQ 5.171875 30.859375 5.171875 38.921875 \r\nQ 5.171875 47.609375 11.125 51.796875 \r\nQ 17.09375 56 29.390625 56 \r\nQ 34.234375 56 39.546875 55.265625 \r\nQ 44.875 54.546875 51.125 52.984375 \r\nz\r\n\" id=\"DejaVuSans-Bold-115\"/>\r\n     <path d=\"M 8.40625 54.6875 \r\nL 25.875 54.6875 \r\nL 25.875 0 \r\nL 8.40625 0 \r\nz\r\nM 8.40625 75.984375 \r\nL 25.875 75.984375 \r\nL 25.875 61.71875 \r\nL 8.40625 61.71875 \r\nz\r\n\" id=\"DejaVuSans-Bold-105\"/>\r\n     <path d=\"M 63.375 33.296875 \r\nL 63.375 0 \r\nL 45.796875 0 \r\nL 45.796875 5.421875 \r\nL 45.796875 25.484375 \r\nQ 45.796875 32.5625 45.484375 35.25 \r\nQ 45.171875 37.9375 44.390625 39.203125 \r\nQ 43.359375 40.921875 41.59375 41.875 \r\nQ 39.84375 42.828125 37.59375 42.828125 \r\nQ 32.125 42.828125 29 38.59375 \r\nQ 25.875 34.375 25.875 26.90625 \r\nL 25.875 0 \r\nL 8.40625 0 \r\nL 8.40625 54.6875 \r\nL 25.875 54.6875 \r\nL 25.875 46.6875 \r\nQ 29.828125 51.46875 34.265625 53.734375 \r\nQ 38.71875 56 44.09375 56 \r\nQ 53.5625 56 58.46875 50.1875 \r\nQ 63.375 44.390625 63.375 33.296875 \r\nz\r\n\" id=\"DejaVuSans-Bold-110\"/>\r\n     <path d=\"M 45.609375 9.28125 \r\nQ 42 4.5 37.640625 2.25 \r\nQ 33.296875 0 27.59375 0 \r\nQ 17.578125 0 11.03125 7.875 \r\nQ 4.5 15.765625 4.5 27.984375 \r\nQ 4.5 40.234375 11.03125 48.0625 \r\nQ 17.578125 55.90625 27.59375 55.90625 \r\nQ 33.296875 55.90625 37.640625 53.65625 \r\nQ 42 51.421875 45.609375 46.578125 \r\nL 45.609375 54.6875 \r\nL 63.1875 54.6875 \r\nL 63.1875 5.515625 \r\nQ 63.1875 -7.671875 54.859375 -14.625 \r\nQ 46.53125 -21.578125 30.71875 -21.578125 \r\nQ 25.59375 -21.578125 20.796875 -20.796875 \r\nQ 16.015625 -20.015625 11.1875 -18.40625 \r\nL 11.1875 -4.78125 \r\nQ 15.765625 -7.421875 20.15625 -8.71875 \r\nQ 24.5625 -10.015625 29 -10.015625 \r\nQ 37.59375 -10.015625 41.59375 -6.25 \r\nQ 45.609375 -2.484375 45.609375 5.515625 \r\nz\r\nM 34.078125 43.3125 \r\nQ 28.65625 43.3125 25.625 39.296875 \r\nQ 22.609375 35.296875 22.609375 27.984375 \r\nQ 22.609375 20.453125 25.53125 16.578125 \r\nQ 28.46875 12.703125 34.078125 12.703125 \r\nQ 39.546875 12.703125 42.578125 16.703125 \r\nQ 45.609375 20.703125 45.609375 27.984375 \r\nQ 45.609375 35.296875 42.578125 39.296875 \r\nQ 39.546875 43.3125 34.078125 43.3125 \r\nz\r\n\" id=\"DejaVuSans-Bold-103\"/>\r\n     <path id=\"DejaVuSans-Bold-32\"/>\r\n     <path d=\"M 9.1875 72.90625 \r\nL 27.984375 72.90625 \r\nL 27.984375 29.203125 \r\nQ 27.984375 20.171875 30.9375 16.28125 \r\nQ 33.890625 12.40625 40.578125 12.40625 \r\nQ 47.3125 12.40625 50.265625 16.28125 \r\nQ 53.21875 20.171875 53.21875 29.203125 \r\nL 53.21875 72.90625 \r\nL 72.015625 72.90625 \r\nL 72.015625 29.203125 \r\nQ 72.015625 13.71875 64.25 6.140625 \r\nQ 56.5 -1.421875 40.578125 -1.421875 \r\nQ 24.703125 -1.421875 16.9375 6.140625 \r\nQ 9.1875 13.71875 9.1875 29.203125 \r\nz\r\n\" id=\"DejaVuSans-Bold-85\"/>\r\n     <path d=\"M 27.484375 70.21875 \r\nL 27.484375 54.6875 \r\nL 45.515625 54.6875 \r\nL 45.515625 42.1875 \r\nL 27.484375 42.1875 \r\nL 27.484375 19 \r\nQ 27.484375 15.1875 29 13.84375 \r\nQ 30.515625 12.5 35.015625 12.5 \r\nL 44 12.5 \r\nL 44 0 \r\nL 29 0 \r\nQ 18.65625 0 14.328125 4.3125 \r\nQ 10.015625 8.640625 10.015625 19 \r\nL 10.015625 42.1875 \r\nL 1.3125 42.1875 \r\nL 1.3125 54.6875 \r\nL 10.015625 54.6875 \r\nL 10.015625 70.21875 \r\nz\r\n\" id=\"DejaVuSans-Bold-116\"/>\r\n     <path d=\"M 59.90625 70.609375 \r\nL 59.90625 55.171875 \r\nQ 53.90625 57.859375 48.1875 59.21875 \r\nQ 42.484375 60.59375 37.40625 60.59375 \r\nQ 30.671875 60.59375 27.4375 58.734375 \r\nQ 24.21875 56.890625 24.21875 52.984375 \r\nQ 24.21875 50.046875 26.390625 48.40625 \r\nQ 28.5625 46.78125 34.28125 45.609375 \r\nL 42.28125 44 \r\nQ 54.4375 41.546875 59.5625 36.5625 \r\nQ 64.703125 31.59375 64.703125 22.40625 \r\nQ 64.703125 10.359375 57.546875 4.46875 \r\nQ 50.390625 -1.421875 35.6875 -1.421875 \r\nQ 28.765625 -1.421875 21.78125 -0.09375 \r\nQ 14.796875 1.21875 7.8125 3.8125 \r\nL 7.8125 19.671875 \r\nQ 14.796875 15.96875 21.3125 14.078125 \r\nQ 27.828125 12.203125 33.890625 12.203125 \r\nQ 40.046875 12.203125 43.3125 14.25 \r\nQ 46.578125 16.3125 46.578125 20.125 \r\nQ 46.578125 23.53125 44.359375 25.390625 \r\nQ 42.140625 27.25 35.5 28.71875 \r\nL 28.21875 30.328125 \r\nQ 17.28125 32.671875 12.21875 37.796875 \r\nQ 7.171875 42.921875 7.171875 51.609375 \r\nQ 7.171875 62.5 14.203125 68.359375 \r\nQ 21.234375 74.21875 34.421875 74.21875 \r\nQ 40.4375 74.21875 46.78125 73.3125 \r\nQ 53.125 72.40625 59.90625 70.609375 \r\nz\r\n\" id=\"DejaVuSans-Bold-83\"/>\r\n     <path d=\"M 32.90625 24.609375 \r\nQ 27.4375 24.609375 24.671875 22.75 \r\nQ 21.921875 20.90625 21.921875 17.28125 \r\nQ 21.921875 13.96875 24.140625 12.078125 \r\nQ 26.375 10.203125 30.328125 10.203125 \r\nQ 35.25 10.203125 38.625 13.734375 \r\nQ 42 17.28125 42 22.609375 \r\nL 42 24.609375 \r\nz\r\nM 59.625 31.203125 \r\nL 59.625 0 \r\nL 42 0 \r\nL 42 8.109375 \r\nQ 38.484375 3.125 34.078125 0.84375 \r\nQ 29.6875 -1.421875 23.390625 -1.421875 \r\nQ 14.890625 -1.421875 9.59375 3.53125 \r\nQ 4.296875 8.5 4.296875 16.40625 \r\nQ 4.296875 26.03125 10.90625 30.515625 \r\nQ 17.53125 35.015625 31.6875 35.015625 \r\nL 42 35.015625 \r\nL 42 36.375 \r\nQ 42 40.53125 38.71875 42.453125 \r\nQ 35.453125 44.390625 28.515625 44.390625 \r\nQ 22.90625 44.390625 18.0625 43.265625 \r\nQ 13.234375 42.140625 9.078125 39.890625 \r\nL 9.078125 53.21875 \r\nQ 14.703125 54.59375 20.359375 55.296875 \r\nQ 26.03125 56 31.6875 56 \r\nQ 46.484375 56 53.046875 50.171875 \r\nQ 59.625 44.34375 59.625 31.203125 \r\nz\r\n\" id=\"DejaVuSans-Bold-97\"/>\r\n     <path d=\"M 9.1875 72.90625 \r\nL 59.90625 72.90625 \r\nL 59.90625 58.6875 \r\nL 27.984375 58.6875 \r\nL 27.984375 45.125 \r\nL 58.015625 45.125 \r\nL 58.015625 30.90625 \r\nL 27.984375 30.90625 \r\nL 27.984375 0 \r\nL 9.1875 0 \r\nz\r\n\" id=\"DejaVuSans-Bold-70\"/>\r\n     <path d=\"M 49.03125 39.796875 \r\nQ 46.734375 40.875 44.453125 41.375 \r\nQ 42.1875 41.890625 39.890625 41.890625 \r\nQ 33.15625 41.890625 29.515625 37.5625 \r\nQ 25.875 33.25 25.875 25.203125 \r\nL 25.875 0 \r\nL 8.40625 0 \r\nL 8.40625 54.6875 \r\nL 25.875 54.6875 \r\nL 25.875 45.703125 \r\nQ 29.25 51.078125 33.609375 53.53125 \r\nQ 37.984375 56 44.09375 56 \r\nQ 44.96875 56 45.984375 55.921875 \r\nQ 47.015625 55.859375 48.96875 55.609375 \r\nz\r\n\" id=\"DejaVuSans-Bold-114\"/>\r\n     <path d=\"M 52.59375 52.984375 \r\nL 52.59375 38.71875 \r\nQ 49.03125 41.15625 45.4375 42.328125 \r\nQ 41.84375 43.5 37.984375 43.5 \r\nQ 30.671875 43.5 26.59375 39.234375 \r\nQ 22.515625 34.96875 22.515625 27.296875 \r\nQ 22.515625 19.625 26.59375 15.34375 \r\nQ 30.671875 11.078125 37.984375 11.078125 \r\nQ 42.09375 11.078125 45.78125 12.296875 \r\nQ 49.46875 13.53125 52.59375 15.921875 \r\nL 52.59375 1.609375 \r\nQ 48.484375 0.09375 44.265625 -0.65625 \r\nQ 40.046875 -1.421875 35.796875 -1.421875 \r\nQ 21 -1.421875 12.640625 6.171875 \r\nQ 4.296875 13.765625 4.296875 27.296875 \r\nQ 4.296875 40.828125 12.640625 48.40625 \r\nQ 21 56 35.796875 56 \r\nQ 40.09375 56 44.265625 55.25 \r\nQ 48.4375 54.5 52.59375 52.984375 \r\nz\r\n\" id=\"DejaVuSans-Bold-99\"/>\r\n     <path d=\"M 44.390625 75.984375 \r\nL 44.390625 64.5 \r\nL 34.71875 64.5 \r\nQ 31 64.5 29.53125 63.15625 \r\nQ 28.078125 61.8125 28.078125 58.5 \r\nL 28.078125 54.6875 \r\nL 43.015625 54.6875 \r\nL 43.015625 42.1875 \r\nL 28.078125 42.1875 \r\nL 28.078125 0 \r\nL 10.59375 0 \r\nL 10.59375 42.1875 \r\nL 1.90625 42.1875 \r\nL 1.90625 54.6875 \r\nL 10.59375 54.6875 \r\nL 10.59375 58.5 \r\nQ 10.59375 67.4375 15.578125 71.703125 \r\nQ 20.5625 75.984375 31 75.984375 \r\nz\r\n\" id=\"DejaVuSans-Bold-102\"/>\r\n     <path d=\"M 59.078125 45.609375 \r\nQ 62.40625 50.6875 66.96875 53.34375 \r\nQ 71.53125 56 77 56 \r\nQ 86.421875 56 91.359375 50.1875 \r\nQ 96.296875 44.390625 96.296875 33.296875 \r\nL 96.296875 0 \r\nL 78.71875 0 \r\nL 78.71875 28.515625 \r\nQ 78.765625 29.15625 78.78125 29.828125 \r\nQ 78.8125 30.515625 78.8125 31.78125 \r\nQ 78.8125 37.59375 77.09375 40.203125 \r\nQ 75.390625 42.828125 71.578125 42.828125 \r\nQ 66.609375 42.828125 63.890625 38.71875 \r\nQ 61.1875 34.625 61.078125 26.859375 \r\nL 61.078125 0 \r\nL 43.5 0 \r\nL 43.5 28.515625 \r\nQ 43.5 37.59375 41.9375 40.203125 \r\nQ 40.375 42.828125 36.375 42.828125 \r\nQ 31.34375 42.828125 28.609375 38.703125 \r\nQ 25.875 34.578125 25.875 26.90625 \r\nL 25.875 0 \r\nL 8.296875 0 \r\nL 8.296875 54.6875 \r\nL 25.875 54.6875 \r\nL 25.875 46.6875 \r\nQ 29.109375 51.3125 33.28125 53.65625 \r\nQ 37.453125 56 42.484375 56 \r\nQ 48.140625 56 52.484375 53.265625 \r\nQ 56.84375 50.53125 59.078125 45.609375 \r\nz\r\n\" id=\"DejaVuSans-Bold-109\"/>\r\n     <path d=\"M 28.8125 13.8125 \r\nL 60.890625 13.8125 \r\nL 60.890625 0 \r\nL 7.90625 0 \r\nL 7.90625 13.8125 \r\nL 34.515625 37.3125 \r\nQ 38.09375 40.53125 39.796875 43.609375 \r\nQ 41.5 46.6875 41.5 50 \r\nQ 41.5 55.125 38.0625 58.25 \r\nQ 34.625 61.375 28.90625 61.375 \r\nQ 24.515625 61.375 19.28125 59.5 \r\nQ 14.0625 57.625 8.109375 53.90625 \r\nL 8.109375 69.921875 \r\nQ 14.453125 72.015625 20.65625 73.109375 \r\nQ 26.859375 74.21875 32.8125 74.21875 \r\nQ 45.90625 74.21875 53.15625 68.453125 \r\nQ 60.40625 62.703125 60.40625 52.390625 \r\nQ 60.40625 46.4375 57.328125 41.28125 \r\nQ 54.25 36.140625 44.390625 27.484375 \r\nz\r\n\" id=\"DejaVuSans-Bold-50\"/>\r\n     <path d=\"M 46 36.53125 \r\nQ 46 50.203125 43.4375 55.78125 \r\nQ 40.875 61.375 34.8125 61.375 \r\nQ 28.765625 61.375 26.171875 55.78125 \r\nQ 23.578125 50.203125 23.578125 36.53125 \r\nQ 23.578125 22.703125 26.171875 17.03125 \r\nQ 28.765625 11.375 34.8125 11.375 \r\nQ 40.828125 11.375 43.40625 17.03125 \r\nQ 46 22.703125 46 36.53125 \r\nz\r\nM 64.796875 36.375 \r\nQ 64.796875 18.265625 56.984375 8.421875 \r\nQ 49.171875 -1.421875 34.8125 -1.421875 \r\nQ 20.40625 -1.421875 12.59375 8.421875 \r\nQ 4.78125 18.265625 4.78125 36.375 \r\nQ 4.78125 54.546875 12.59375 64.375 \r\nQ 20.40625 74.21875 34.8125 74.21875 \r\nQ 49.171875 74.21875 56.984375 64.375 \r\nQ 64.796875 54.546875 64.796875 36.375 \r\nz\r\n\" id=\"DejaVuSans-Bold-48\"/>\r\n     <path d=\"M 11.71875 12.984375 \r\nL 28.328125 12.984375 \r\nL 28.328125 60.109375 \r\nL 11.28125 56.59375 \r\nL 11.28125 69.390625 \r\nL 28.21875 72.90625 \r\nL 46.09375 72.90625 \r\nL 46.09375 12.984375 \r\nL 62.703125 12.984375 \r\nL 62.703125 0 \r\nL 11.71875 0 \r\nz\r\n\" id=\"DejaVuSans-Bold-49\"/>\r\n     <path d=\"M 36.1875 35.984375 \r\nQ 31.25 35.984375 28.78125 32.78125 \r\nQ 26.3125 29.59375 26.3125 23.1875 \r\nQ 26.3125 16.796875 28.78125 13.59375 \r\nQ 31.25 10.40625 36.1875 10.40625 \r\nQ 41.15625 10.40625 43.625 13.59375 \r\nQ 46.09375 16.796875 46.09375 23.1875 \r\nQ 46.09375 29.59375 43.625 32.78125 \r\nQ 41.15625 35.984375 36.1875 35.984375 \r\nz\r\nM 59.421875 71 \r\nL 59.421875 57.515625 \r\nQ 54.78125 59.71875 50.671875 60.765625 \r\nQ 46.578125 61.8125 42.671875 61.8125 \r\nQ 34.28125 61.8125 29.59375 57.140625 \r\nQ 24.90625 52.484375 24.125 43.3125 \r\nQ 27.34375 45.703125 31.09375 46.890625 \r\nQ 34.859375 48.09375 39.3125 48.09375 \r\nQ 50.484375 48.09375 57.34375 41.546875 \r\nQ 64.203125 35.015625 64.203125 24.421875 \r\nQ 64.203125 12.703125 56.53125 5.640625 \r\nQ 48.875 -1.421875 35.984375 -1.421875 \r\nQ 21.78125 -1.421875 13.984375 8.171875 \r\nQ 6.203125 17.78125 6.203125 35.40625 \r\nQ 6.203125 53.46875 15.3125 63.796875 \r\nQ 24.421875 74.125 40.28125 74.125 \r\nQ 45.3125 74.125 50.046875 73.34375 \r\nQ 54.78125 72.5625 59.421875 71 \r\nz\r\n\" id=\"DejaVuSans-Bold-54\"/>\r\n    </defs>\r\n    <g transform=\"translate(37.646406 17.837812)scale(0.14 -0.14)\">\r\n     <use xlink:href=\"#DejaVuSans-Bold-72\"/>\r\n     <use x=\"83.691406\" xlink:href=\"#DejaVuSans-Bold-111\"/>\r\n     <use x=\"152.392578\" xlink:href=\"#DejaVuSans-Bold-117\"/>\r\n     <use x=\"223.583984\" xlink:href=\"#DejaVuSans-Bold-115\"/>\r\n     <use x=\"283.105469\" xlink:href=\"#DejaVuSans-Bold-105\"/>\r\n     <use x=\"317.382812\" xlink:href=\"#DejaVuSans-Bold-110\"/>\r\n     <use x=\"388.574219\" xlink:href=\"#DejaVuSans-Bold-103\"/>\r\n     <use x=\"460.15625\" xlink:href=\"#DejaVuSans-Bold-32\"/>\r\n     <use x=\"494.970703\" xlink:href=\"#DejaVuSans-Bold-85\"/>\r\n     <use x=\"576.171875\" xlink:href=\"#DejaVuSans-Bold-110\"/>\r\n     <use x=\"647.363281\" xlink:href=\"#DejaVuSans-Bold-105\"/>\r\n     <use x=\"681.640625\" xlink:href=\"#DejaVuSans-Bold-116\"/>\r\n     <use x=\"729.443359\" xlink:href=\"#DejaVuSans-Bold-115\"/>\r\n     <use x=\"788.964844\" xlink:href=\"#DejaVuSans-Bold-32\"/>\r\n     <use x=\"823.779297\" xlink:href=\"#DejaVuSans-Bold-105\"/>\r\n     <use x=\"858.056641\" xlink:href=\"#DejaVuSans-Bold-110\"/>\r\n     <use x=\"929.248047\" xlink:href=\"#DejaVuSans-Bold-32\"/>\r\n     <use x=\"964.0625\" xlink:href=\"#DejaVuSans-Bold-83\"/>\r\n     <use x=\"1036.083984\" xlink:href=\"#DejaVuSans-Bold-97\"/>\r\n     <use x=\"1103.564453\" xlink:href=\"#DejaVuSans-Bold-110\"/>\r\n     <use x=\"1174.755859\" xlink:href=\"#DejaVuSans-Bold-32\"/>\r\n     <use x=\"1209.570312\" xlink:href=\"#DejaVuSans-Bold-70\"/>\r\n     <use x=\"1277.787109\" xlink:href=\"#DejaVuSans-Bold-114\"/>\r\n     <use x=\"1327.103516\" xlink:href=\"#DejaVuSans-Bold-97\"/>\r\n     <use x=\"1394.583984\" xlink:href=\"#DejaVuSans-Bold-110\"/>\r\n     <use x=\"1465.775391\" xlink:href=\"#DejaVuSans-Bold-99\"/>\r\n     <use x=\"1525.052734\" xlink:href=\"#DejaVuSans-Bold-105\"/>\r\n     <use x=\"1559.330078\" xlink:href=\"#DejaVuSans-Bold-115\"/>\r\n     <use x=\"1618.851562\" xlink:href=\"#DejaVuSans-Bold-99\"/>\r\n     <use x=\"1678.128906\" xlink:href=\"#DejaVuSans-Bold-111\"/>\r\n     <use x=\"1746.830078\" xlink:href=\"#DejaVuSans-Bold-32\"/>\r\n     <use x=\"1781.644531\" xlink:href=\"#DejaVuSans-Bold-102\"/>\r\n     <use x=\"1825.150391\" xlink:href=\"#DejaVuSans-Bold-114\"/>\r\n     <use x=\"1874.466797\" xlink:href=\"#DejaVuSans-Bold-111\"/>\r\n     <use x=\"1943.167969\" xlink:href=\"#DejaVuSans-Bold-109\"/>\r\n     <use x=\"2047.367188\" xlink:href=\"#DejaVuSans-Bold-32\"/>\r\n     <use x=\"2082.181641\" xlink:href=\"#DejaVuSans-Bold-50\"/>\r\n     <use x=\"2151.761719\" xlink:href=\"#DejaVuSans-Bold-48\"/>\r\n     <use x=\"2221.341797\" xlink:href=\"#DejaVuSans-Bold-49\"/>\r\n     <use x=\"2290.921875\" xlink:href=\"#DejaVuSans-Bold-48\"/>\r\n     <use x=\"2360.501953\" xlink:href=\"#DejaVuSans-Bold-32\"/>\r\n     <use x=\"2395.316406\" xlink:href=\"#DejaVuSans-Bold-116\"/>\r\n     <use x=\"2443.119141\" xlink:href=\"#DejaVuSans-Bold-111\"/>\r\n     <use x=\"2511.820312\" xlink:href=\"#DejaVuSans-Bold-32\"/>\r\n     <use x=\"2546.634766\" xlink:href=\"#DejaVuSans-Bold-50\"/>\r\n     <use x=\"2616.214844\" xlink:href=\"#DejaVuSans-Bold-48\"/>\r\n     <use x=\"2685.794922\" xlink:href=\"#DejaVuSans-Bold-49\"/>\r\n     <use x=\"2755.375\" xlink:href=\"#DejaVuSans-Bold-54\"/>\r\n    </g>\r\n   </g>\r\n  </g>\r\n </g>\r\n <defs>\r\n  <clipPath id=\"pf1f8c0ec56\">\r\n   <rect height=\"217.44\" width=\"334.8\" x=\"67.98875\" y=\"23.837812\"/>\r\n  </clipPath>\r\n </defs>\r\n</svg>\r\n",
      "image/png": "[encoded data removed]"
     },
     "metadata": {
      "needs_background": "light"
     }
    }
   ],
   "metadata": {}
  },
  {
   "cell_type": "code",
   "execution_count": 107,
   "source": [
    "# Optional Challenge: Use the min, max, and std to scale the y limits of the chart\r\n",
    "print(avg_housingUnits,'\\n')\r\n",
    "\r\n",
    "std_housingUnits = avg_housingUnits['Housing Units'].std()\r\n",
    "std_housingUnits = int(std_housingUnits)\r\n",
    "print(f'The standard deviation is {std_housingUnits}. Its type is {type(std_housingUnits)}\\n')\r\n",
    "\r\n",
    "min_housingUnits = avg_housingUnits['Housing Units'].min()\r\n",
    "print(f'The min is {min_housingUnits}. Its type is {type(min_housingUnits)}\\n')\r\n",
    "\r\n",
    "max_housingUnits = avg_housingUnits['Housing Units'].max()\r\n",
    "print(f'The max is {max_housingUnits}. Its type is {type(max_housingUnits)}\\n')\r\n",
    "\r\n",
    "min = min_housingUnits - std_housingUnits\r\n",
    "max = max_housingUnits + std_housingUnits\r\n",
    "\r\n",
    "scaled_avg_housingUnits = avg_housingUnits.plot(kind='bar', legend=False)\r\n",
    "\r\n",
    "## Used the shorter methods for practice\r\n",
    "plt.xlabel('Year', fontsize=12)\r\n",
    "plt.ylabel('Housing Units', fontsize=12)\r\n",
    "plt.title('Housing Units in San Francisco from 2010 to 2016', fontsize=14, fontweight='bold')\r\n",
    "plt.ylim(min, max)\r\n",
    "\r\n",
    "scaled_avg_housingUnits"
   ],
   "outputs": [
    {
     "output_type": "stream",
     "name": "stdout",
     "text": [
      "      Housing Units\n",
      "Year               \n",
      "2010         372560\n",
      "2011         374507\n",
      "2012         376454\n",
      "2013         378401\n",
      "2014         380348\n",
      "2015         382295\n",
      "2016         384242 \n",
      "\n",
      "The standard deviation is 4206. Its type is <class 'int'>\n",
      "\n",
      "The min is 372560. Its type is <class 'int'>\n",
      "\n",
      "The max is 384242. Its type is <class 'int'>\n",
      "\n"
     ]
    },
    {
     "output_type": "execute_result",
     "data": {
      "text/plain": [
       "<matplotlib.axes._subplots.AxesSubplot at 0x29c70e42548>"
      ]
     },
     "metadata": {},
     "execution_count": 107
    },
    {
     "output_type": "display_data",
     "data": {
      "text/plain": [
       "<Figure size 432x288 with 1 Axes>"
      ],
      "image/svg+xml": "<?xml version=\"1.0\" encoding=\"utf-8\" standalone=\"no\"?>\r\n<!DOCTYPE svg PUBLIC \"-//W3C//DTD SVG 1.1//EN\"\r\n  \"http://www.w3.org/Graphics/SVG/1.1/DTD/svg11.dtd\">\r\n<!-- Created with matplotlib (https://matplotlib.org/) -->\r\n<svg height=\"296.541562pt\" version=\"1.1\" viewBox=\"0 0 440.331094 296.541562\" width=\"440.331094pt\" xmlns=\"http://www.w3.org/2000/svg\" xmlns:xlink=\"http://www.w3.org/1999/xlink\">\r\n <defs>\r\n  <style type=\"text/css\">\r\n*{stroke-linecap:butt;stroke-linejoin:round;}\r\n  </style>\r\n </defs>\r\n <g id=\"figure_1\">\r\n  <g id=\"patch_1\">\r\n   <path d=\"M 0 296.541562 \r\nL 440.331094 296.541562 \r\nL 440.331094 0 \r\nL 0 0 \r\nz\r\n\" style=\"fill:none;\"/>\r\n  </g>\r\n  <g id=\"axes_1\">\r\n   <g id=\"patch_2\">\r\n    <path d=\"M 67.98875 241.277812 \r\nL 402.78875 241.277812 \r\nL 402.78875 23.837812 \r\nL 67.98875 23.837812 \r\nz\r\n\" style=\"fill:#ffffff;\"/>\r\n   </g>\r\n   <g id=\"patch_3\">\r\n    <path clip-path=\"url(#pb18dee79dc)\" d=\"M 79.945893 4227.288251 \r\nL 103.860179 4227.288251 \r\nL 103.860179 195.764095 \r\nL 79.945893 195.764095 \r\nz\r\n\" style=\"fill:#1f77b4;\"/>\r\n   </g>\r\n   <g id=\"patch_4\">\r\n    <path clip-path=\"url(#pb18dee79dc)\" d=\"M 127.774464 4227.288251 \r\nL 151.68875 4227.288251 \r\nL 151.68875 174.695334 \r\nL 127.774464 174.695334 \r\nz\r\n\" style=\"fill:#1f77b4;\"/>\r\n   </g>\r\n   <g id=\"patch_5\">\r\n    <path clip-path=\"url(#pb18dee79dc)\" d=\"M 175.603036 4227.288251 \r\nL 199.517321 4227.288251 \r\nL 199.517321 153.626573 \r\nL 175.603036 153.626573 \r\nz\r\n\" style=\"fill:#1f77b4;\"/>\r\n   </g>\r\n   <g id=\"patch_6\">\r\n    <path clip-path=\"url(#pb18dee79dc)\" d=\"M 223.431607 4227.288251 \r\nL 247.345893 4227.288251 \r\nL 247.345893 132.557813 \r\nL 223.431607 132.557813 \r\nz\r\n\" style=\"fill:#1f77b4;\"/>\r\n   </g>\r\n   <g id=\"patch_7\">\r\n    <path clip-path=\"url(#pb18dee79dc)\" d=\"M 271.260179 4227.288251 \r\nL 295.174464 4227.288251 \r\nL 295.174464 111.489052 \r\nL 271.260179 111.489052 \r\nz\r\n\" style=\"fill:#1f77b4;\"/>\r\n   </g>\r\n   <g id=\"patch_8\">\r\n    <path clip-path=\"url(#pb18dee79dc)\" d=\"M 319.08875 4227.288251 \r\nL 343.003036 4227.288251 \r\nL 343.003036 90.420291 \r\nL 319.08875 90.420291 \r\nz\r\n\" style=\"fill:#1f77b4;\"/>\r\n   </g>\r\n   <g id=\"patch_9\">\r\n    <path clip-path=\"url(#pb18dee79dc)\" d=\"M 366.917321 4227.288251 \r\nL 390.831607 4227.288251 \r\nL 390.831607 69.35153 \r\nL 366.917321 69.35153 \r\nz\r\n\" style=\"fill:#1f77b4;\"/>\r\n   </g>\r\n   <g id=\"matplotlib.axis_1\">\r\n    <g id=\"xtick_1\">\r\n     <g id=\"line2d_1\">\r\n      <defs>\r\n       <path d=\"M 0 0 \r\nL 0 3.5 \r\n\" id=\"meacd740598\" style=\"stroke:#000000;stroke-width:0.8;\"/>\r\n      </defs>\r\n      <g>\r\n       <use style=\"stroke:#000000;stroke-width:0.8;\" x=\"91.903036\" xlink:href=\"#meacd740598\" y=\"241.277812\"/>\r\n      </g>\r\n     </g>\r\n     <g id=\"text_1\">\r\n      <!-- 2010 -->\r\n      <defs>\r\n       <path d=\"M 19.1875 8.296875 \r\nL 53.609375 8.296875 \r\nL 53.609375 0 \r\nL 7.328125 0 \r\nL 7.328125 8.296875 \r\nQ 12.9375 14.109375 22.625 23.890625 \r\nQ 32.328125 33.6875 34.8125 36.53125 \r\nQ 39.546875 41.84375 41.421875 45.53125 \r\nQ 43.3125 49.21875 43.3125 52.78125 \r\nQ 43.3125 58.59375 39.234375 62.25 \r\nQ 35.15625 65.921875 28.609375 65.921875 \r\nQ 23.96875 65.921875 18.8125 64.3125 \r\nQ 13.671875 62.703125 7.8125 59.421875 \r\nL 7.8125 69.390625 \r\nQ 13.765625 71.78125 18.9375 73 \r\nQ 24.125 74.21875 28.421875 74.21875 \r\nQ 39.75 74.21875 46.484375 68.546875 \r\nQ 53.21875 62.890625 53.21875 53.421875 \r\nQ 53.21875 48.921875 51.53125 44.890625 \r\nQ 49.859375 40.875 45.40625 35.40625 \r\nQ 44.1875 33.984375 37.640625 27.21875 \r\nQ 31.109375 20.453125 19.1875 8.296875 \r\nz\r\n\" id=\"DejaVuSans-50\"/>\r\n       <path d=\"M 31.78125 66.40625 \r\nQ 24.171875 66.40625 20.328125 58.90625 \r\nQ 16.5 51.421875 16.5 36.375 \r\nQ 16.5 21.390625 20.328125 13.890625 \r\nQ 24.171875 6.390625 31.78125 6.390625 \r\nQ 39.453125 6.390625 43.28125 13.890625 \r\nQ 47.125 21.390625 47.125 36.375 \r\nQ 47.125 51.421875 43.28125 58.90625 \r\nQ 39.453125 66.40625 31.78125 66.40625 \r\nz\r\nM 31.78125 74.21875 \r\nQ 44.046875 74.21875 50.515625 64.515625 \r\nQ 56.984375 54.828125 56.984375 36.375 \r\nQ 56.984375 17.96875 50.515625 8.265625 \r\nQ 44.046875 -1.421875 31.78125 -1.421875 \r\nQ 19.53125 -1.421875 13.0625 8.265625 \r\nQ 6.59375 17.96875 6.59375 36.375 \r\nQ 6.59375 54.828125 13.0625 64.515625 \r\nQ 19.53125 74.21875 31.78125 74.21875 \r\nz\r\n\" id=\"DejaVuSans-48\"/>\r\n       <path d=\"M 12.40625 8.296875 \r\nL 28.515625 8.296875 \r\nL 28.515625 63.921875 \r\nL 10.984375 60.40625 \r\nL 10.984375 69.390625 \r\nL 28.421875 72.90625 \r\nL 38.28125 72.90625 \r\nL 38.28125 8.296875 \r\nL 54.390625 8.296875 \r\nL 54.390625 0 \r\nL 12.40625 0 \r\nz\r\n\" id=\"DejaVuSans-49\"/>\r\n      </defs>\r\n      <g transform=\"translate(94.662411 273.727812)rotate(-90)scale(0.1 -0.1)\">\r\n       <use xlink:href=\"#DejaVuSans-50\"/>\r\n       <use x=\"63.623047\" xlink:href=\"#DejaVuSans-48\"/>\r\n       <use x=\"127.246094\" xlink:href=\"#DejaVuSans-49\"/>\r\n       <use x=\"190.869141\" xlink:href=\"#DejaVuSans-48\"/>\r\n      </g>\r\n     </g>\r\n    </g>\r\n    <g id=\"xtick_2\">\r\n     <g id=\"line2d_2\">\r\n      <g>\r\n       <use style=\"stroke:#000000;stroke-width:0.8;\" x=\"139.731607\" xlink:href=\"#meacd740598\" y=\"241.277812\"/>\r\n      </g>\r\n     </g>\r\n     <g id=\"text_2\">\r\n      <!-- 2011 -->\r\n      <g transform=\"translate(142.490982 273.727812)rotate(-90)scale(0.1 -0.1)\">\r\n       <use xlink:href=\"#DejaVuSans-50\"/>\r\n       <use x=\"63.623047\" xlink:href=\"#DejaVuSans-48\"/>\r\n       <use x=\"127.246094\" xlink:href=\"#DejaVuSans-49\"/>\r\n       <use x=\"190.869141\" xlink:href=\"#DejaVuSans-49\"/>\r\n      </g>\r\n     </g>\r\n    </g>\r\n    <g id=\"xtick_3\">\r\n     <g id=\"line2d_3\">\r\n      <g>\r\n       <use style=\"stroke:#000000;stroke-width:0.8;\" x=\"187.560179\" xlink:href=\"#meacd740598\" y=\"241.277812\"/>\r\n      </g>\r\n     </g>\r\n     <g id=\"text_3\">\r\n      <!-- 2012 -->\r\n      <g transform=\"translate(190.319554 273.727812)rotate(-90)scale(0.1 -0.1)\">\r\n       <use xlink:href=\"#DejaVuSans-50\"/>\r\n       <use x=\"63.623047\" xlink:href=\"#DejaVuSans-48\"/>\r\n       <use x=\"127.246094\" xlink:href=\"#DejaVuSans-49\"/>\r\n       <use x=\"190.869141\" xlink:href=\"#DejaVuSans-50\"/>\r\n      </g>\r\n     </g>\r\n    </g>\r\n    <g id=\"xtick_4\">\r\n     <g id=\"line2d_4\">\r\n      <g>\r\n       <use style=\"stroke:#000000;stroke-width:0.8;\" x=\"235.38875\" xlink:href=\"#meacd740598\" y=\"241.277812\"/>\r\n      </g>\r\n     </g>\r\n     <g id=\"text_4\">\r\n      <!-- 2013 -->\r\n      <defs>\r\n       <path d=\"M 40.578125 39.3125 \r\nQ 47.65625 37.796875 51.625 33 \r\nQ 55.609375 28.21875 55.609375 21.1875 \r\nQ 55.609375 10.40625 48.1875 4.484375 \r\nQ 40.765625 -1.421875 27.09375 -1.421875 \r\nQ 22.515625 -1.421875 17.65625 -0.515625 \r\nQ 12.796875 0.390625 7.625 2.203125 \r\nL 7.625 11.71875 \r\nQ 11.71875 9.328125 16.59375 8.109375 \r\nQ 21.484375 6.890625 26.8125 6.890625 \r\nQ 36.078125 6.890625 40.9375 10.546875 \r\nQ 45.796875 14.203125 45.796875 21.1875 \r\nQ 45.796875 27.640625 41.28125 31.265625 \r\nQ 36.765625 34.90625 28.71875 34.90625 \r\nL 20.21875 34.90625 \r\nL 20.21875 43.015625 \r\nL 29.109375 43.015625 \r\nQ 36.375 43.015625 40.234375 45.921875 \r\nQ 44.09375 48.828125 44.09375 54.296875 \r\nQ 44.09375 59.90625 40.109375 62.90625 \r\nQ 36.140625 65.921875 28.71875 65.921875 \r\nQ 24.65625 65.921875 20.015625 65.03125 \r\nQ 15.375 64.15625 9.8125 62.3125 \r\nL 9.8125 71.09375 \r\nQ 15.4375 72.65625 20.34375 73.4375 \r\nQ 25.25 74.21875 29.59375 74.21875 \r\nQ 40.828125 74.21875 47.359375 69.109375 \r\nQ 53.90625 64.015625 53.90625 55.328125 \r\nQ 53.90625 49.265625 50.4375 45.09375 \r\nQ 46.96875 40.921875 40.578125 39.3125 \r\nz\r\n\" id=\"DejaVuSans-51\"/>\r\n      </defs>\r\n      <g transform=\"translate(238.148125 273.727812)rotate(-90)scale(0.1 -0.1)\">\r\n       <use xlink:href=\"#DejaVuSans-50\"/>\r\n       <use x=\"63.623047\" xlink:href=\"#DejaVuSans-48\"/>\r\n       <use x=\"127.246094\" xlink:href=\"#DejaVuSans-49\"/>\r\n       <use x=\"190.869141\" xlink:href=\"#DejaVuSans-51\"/>\r\n      </g>\r\n     </g>\r\n    </g>\r\n    <g id=\"xtick_5\">\r\n     <g id=\"line2d_5\">\r\n      <g>\r\n       <use style=\"stroke:#000000;stroke-width:0.8;\" x=\"283.217321\" xlink:href=\"#meacd740598\" y=\"241.277812\"/>\r\n      </g>\r\n     </g>\r\n     <g id=\"text_5\">\r\n      <!-- 2014 -->\r\n      <defs>\r\n       <path d=\"M 37.796875 64.3125 \r\nL 12.890625 25.390625 \r\nL 37.796875 25.390625 \r\nz\r\nM 35.203125 72.90625 \r\nL 47.609375 72.90625 \r\nL 47.609375 25.390625 \r\nL 58.015625 25.390625 \r\nL 58.015625 17.1875 \r\nL 47.609375 17.1875 \r\nL 47.609375 0 \r\nL 37.796875 0 \r\nL 37.796875 17.1875 \r\nL 4.890625 17.1875 \r\nL 4.890625 26.703125 \r\nz\r\n\" id=\"DejaVuSans-52\"/>\r\n      </defs>\r\n      <g transform=\"translate(285.976696 273.727812)rotate(-90)scale(0.1 -0.1)\">\r\n       <use xlink:href=\"#DejaVuSans-50\"/>\r\n       <use x=\"63.623047\" xlink:href=\"#DejaVuSans-48\"/>\r\n       <use x=\"127.246094\" xlink:href=\"#DejaVuSans-49\"/>\r\n       <use x=\"190.869141\" xlink:href=\"#DejaVuSans-52\"/>\r\n      </g>\r\n     </g>\r\n    </g>\r\n    <g id=\"xtick_6\">\r\n     <g id=\"line2d_6\">\r\n      <g>\r\n       <use style=\"stroke:#000000;stroke-width:0.8;\" x=\"331.045893\" xlink:href=\"#meacd740598\" y=\"241.277812\"/>\r\n      </g>\r\n     </g>\r\n     <g id=\"text_6\">\r\n      <!-- 2015 -->\r\n      <defs>\r\n       <path d=\"M 10.796875 72.90625 \r\nL 49.515625 72.90625 \r\nL 49.515625 64.59375 \r\nL 19.828125 64.59375 \r\nL 19.828125 46.734375 \r\nQ 21.96875 47.46875 24.109375 47.828125 \r\nQ 26.265625 48.1875 28.421875 48.1875 \r\nQ 40.625 48.1875 47.75 41.5 \r\nQ 54.890625 34.8125 54.890625 23.390625 \r\nQ 54.890625 11.625 47.5625 5.09375 \r\nQ 40.234375 -1.421875 26.90625 -1.421875 \r\nQ 22.3125 -1.421875 17.546875 -0.640625 \r\nQ 12.796875 0.140625 7.71875 1.703125 \r\nL 7.71875 11.625 \r\nQ 12.109375 9.234375 16.796875 8.0625 \r\nQ 21.484375 6.890625 26.703125 6.890625 \r\nQ 35.15625 6.890625 40.078125 11.328125 \r\nQ 45.015625 15.765625 45.015625 23.390625 \r\nQ 45.015625 31 40.078125 35.4375 \r\nQ 35.15625 39.890625 26.703125 39.890625 \r\nQ 22.75 39.890625 18.8125 39.015625 \r\nQ 14.890625 38.140625 10.796875 36.28125 \r\nz\r\n\" id=\"DejaVuSans-53\"/>\r\n      </defs>\r\n      <g transform=\"translate(333.805268 273.727812)rotate(-90)scale(0.1 -0.1)\">\r\n       <use xlink:href=\"#DejaVuSans-50\"/>\r\n       <use x=\"63.623047\" xlink:href=\"#DejaVuSans-48\"/>\r\n       <use x=\"127.246094\" xlink:href=\"#DejaVuSans-49\"/>\r\n       <use x=\"190.869141\" xlink:href=\"#DejaVuSans-53\"/>\r\n      </g>\r\n     </g>\r\n    </g>\r\n    <g id=\"xtick_7\">\r\n     <g id=\"line2d_7\">\r\n      <g>\r\n       <use style=\"stroke:#000000;stroke-width:0.8;\" x=\"378.874464\" xlink:href=\"#meacd740598\" y=\"241.277812\"/>\r\n      </g>\r\n     </g>\r\n     <g id=\"text_7\">\r\n      <!-- 2016 -->\r\n      <defs>\r\n       <path d=\"M 33.015625 40.375 \r\nQ 26.375 40.375 22.484375 35.828125 \r\nQ 18.609375 31.296875 18.609375 23.390625 \r\nQ 18.609375 15.53125 22.484375 10.953125 \r\nQ 26.375 6.390625 33.015625 6.390625 \r\nQ 39.65625 6.390625 43.53125 10.953125 \r\nQ 47.40625 15.53125 47.40625 23.390625 \r\nQ 47.40625 31.296875 43.53125 35.828125 \r\nQ 39.65625 40.375 33.015625 40.375 \r\nz\r\nM 52.59375 71.296875 \r\nL 52.59375 62.3125 \r\nQ 48.875 64.0625 45.09375 64.984375 \r\nQ 41.3125 65.921875 37.59375 65.921875 \r\nQ 27.828125 65.921875 22.671875 59.328125 \r\nQ 17.53125 52.734375 16.796875 39.40625 \r\nQ 19.671875 43.65625 24.015625 45.921875 \r\nQ 28.375 48.1875 33.59375 48.1875 \r\nQ 44.578125 48.1875 50.953125 41.515625 \r\nQ 57.328125 34.859375 57.328125 23.390625 \r\nQ 57.328125 12.15625 50.6875 5.359375 \r\nQ 44.046875 -1.421875 33.015625 -1.421875 \r\nQ 20.359375 -1.421875 13.671875 8.265625 \r\nQ 6.984375 17.96875 6.984375 36.375 \r\nQ 6.984375 53.65625 15.1875 63.9375 \r\nQ 23.390625 74.21875 37.203125 74.21875 \r\nQ 40.921875 74.21875 44.703125 73.484375 \r\nQ 48.484375 72.75 52.59375 71.296875 \r\nz\r\n\" id=\"DejaVuSans-54\"/>\r\n      </defs>\r\n      <g transform=\"translate(381.633839 273.727812)rotate(-90)scale(0.1 -0.1)\">\r\n       <use xlink:href=\"#DejaVuSans-50\"/>\r\n       <use x=\"63.623047\" xlink:href=\"#DejaVuSans-48\"/>\r\n       <use x=\"127.246094\" xlink:href=\"#DejaVuSans-49\"/>\r\n       <use x=\"190.869141\" xlink:href=\"#DejaVuSans-54\"/>\r\n      </g>\r\n     </g>\r\n    </g>\r\n    <g id=\"text_8\">\r\n     <!-- Year -->\r\n     <defs>\r\n      <path d=\"M -0.203125 72.90625 \r\nL 10.40625 72.90625 \r\nL 30.609375 42.921875 \r\nL 50.6875 72.90625 \r\nL 61.28125 72.90625 \r\nL 35.5 34.71875 \r\nL 35.5 0 \r\nL 25.59375 0 \r\nL 25.59375 34.71875 \r\nz\r\n\" id=\"DejaVuSans-89\"/>\r\n      <path d=\"M 56.203125 29.59375 \r\nL 56.203125 25.203125 \r\nL 14.890625 25.203125 \r\nQ 15.484375 15.921875 20.484375 11.0625 \r\nQ 25.484375 6.203125 34.421875 6.203125 \r\nQ 39.59375 6.203125 44.453125 7.46875 \r\nQ 49.3125 8.734375 54.109375 11.28125 \r\nL 54.109375 2.78125 \r\nQ 49.265625 0.734375 44.1875 -0.34375 \r\nQ 39.109375 -1.421875 33.890625 -1.421875 \r\nQ 20.796875 -1.421875 13.15625 6.1875 \r\nQ 5.515625 13.8125 5.515625 26.8125 \r\nQ 5.515625 40.234375 12.765625 48.109375 \r\nQ 20.015625 56 32.328125 56 \r\nQ 43.359375 56 49.78125 48.890625 \r\nQ 56.203125 41.796875 56.203125 29.59375 \r\nz\r\nM 47.21875 32.234375 \r\nQ 47.125 39.59375 43.09375 43.984375 \r\nQ 39.0625 48.390625 32.421875 48.390625 \r\nQ 24.90625 48.390625 20.390625 44.140625 \r\nQ 15.875 39.890625 15.1875 32.171875 \r\nz\r\n\" id=\"DejaVuSans-101\"/>\r\n      <path d=\"M 34.28125 27.484375 \r\nQ 23.390625 27.484375 19.1875 25 \r\nQ 14.984375 22.515625 14.984375 16.5 \r\nQ 14.984375 11.71875 18.140625 8.90625 \r\nQ 21.296875 6.109375 26.703125 6.109375 \r\nQ 34.1875 6.109375 38.703125 11.40625 \r\nQ 43.21875 16.703125 43.21875 25.484375 \r\nL 43.21875 27.484375 \r\nz\r\nM 52.203125 31.203125 \r\nL 52.203125 0 \r\nL 43.21875 0 \r\nL 43.21875 8.296875 \r\nQ 40.140625 3.328125 35.546875 0.953125 \r\nQ 30.953125 -1.421875 24.3125 -1.421875 \r\nQ 15.921875 -1.421875 10.953125 3.296875 \r\nQ 6 8.015625 6 15.921875 \r\nQ 6 25.140625 12.171875 29.828125 \r\nQ 18.359375 34.515625 30.609375 34.515625 \r\nL 43.21875 34.515625 \r\nL 43.21875 35.40625 \r\nQ 43.21875 41.609375 39.140625 45 \r\nQ 35.0625 48.390625 27.6875 48.390625 \r\nQ 23 48.390625 18.546875 47.265625 \r\nQ 14.109375 46.140625 10.015625 43.890625 \r\nL 10.015625 52.203125 \r\nQ 14.9375 54.109375 19.578125 55.046875 \r\nQ 24.21875 56 28.609375 56 \r\nQ 40.484375 56 46.34375 49.84375 \r\nQ 52.203125 43.703125 52.203125 31.203125 \r\nz\r\n\" id=\"DejaVuSans-97\"/>\r\n      <path d=\"M 41.109375 46.296875 \r\nQ 39.59375 47.171875 37.8125 47.578125 \r\nQ 36.03125 48 33.890625 48 \r\nQ 26.265625 48 22.1875 43.046875 \r\nQ 18.109375 38.09375 18.109375 28.8125 \r\nL 18.109375 0 \r\nL 9.078125 0 \r\nL 9.078125 54.6875 \r\nL 18.109375 54.6875 \r\nL 18.109375 46.1875 \r\nQ 20.953125 51.171875 25.484375 53.578125 \r\nQ 30.03125 56 36.53125 56 \r\nQ 37.453125 56 38.578125 55.875 \r\nQ 39.703125 55.765625 41.0625 55.515625 \r\nz\r\n\" id=\"DejaVuSans-114\"/>\r\n     </defs>\r\n     <g transform=\"translate(221.900937 286.845937)scale(0.12 -0.12)\">\r\n      <use xlink:href=\"#DejaVuSans-89\"/>\r\n      <use x=\"60.880859\" xlink:href=\"#DejaVuSans-101\"/>\r\n      <use x=\"122.404297\" xlink:href=\"#DejaVuSans-97\"/>\r\n      <use x=\"183.683594\" xlink:href=\"#DejaVuSans-114\"/>\r\n     </g>\r\n    </g>\r\n   </g>\r\n   <g id=\"matplotlib.axis_2\">\r\n    <g id=\"ytick_1\">\r\n     <g id=\"line2d_8\">\r\n      <defs>\r\n       <path d=\"M 0 0 \r\nL -3.5 0 \r\n\" id=\"me5208cb2c6\" style=\"stroke:#000000;stroke-width:0.8;\"/>\r\n      </defs>\r\n      <g>\r\n       <use style=\"stroke:#000000;stroke-width:0.8;\" x=\"67.98875\" xlink:href=\"#me5208cb2c6\" y=\"223.466215\"/>\r\n      </g>\r\n     </g>\r\n     <g id=\"text_9\">\r\n      <!-- 370000 -->\r\n      <defs>\r\n       <path d=\"M 8.203125 72.90625 \r\nL 55.078125 72.90625 \r\nL 55.078125 68.703125 \r\nL 28.609375 0 \r\nL 18.3125 0 \r\nL 43.21875 64.59375 \r\nL 8.203125 64.59375 \r\nz\r\n\" id=\"DejaVuSans-55\"/>\r\n      </defs>\r\n      <g transform=\"translate(22.81375 227.265434)scale(0.1 -0.1)\">\r\n       <use xlink:href=\"#DejaVuSans-51\"/>\r\n       <use x=\"63.623047\" xlink:href=\"#DejaVuSans-55\"/>\r\n       <use x=\"127.246094\" xlink:href=\"#DejaVuSans-48\"/>\r\n       <use x=\"190.869141\" xlink:href=\"#DejaVuSans-48\"/>\r\n       <use x=\"254.492188\" xlink:href=\"#DejaVuSans-48\"/>\r\n       <use x=\"318.115234\" xlink:href=\"#DejaVuSans-48\"/>\r\n      </g>\r\n     </g>\r\n    </g>\r\n    <g id=\"ytick_2\">\r\n     <g id=\"line2d_9\">\r\n      <g>\r\n       <use style=\"stroke:#000000;stroke-width:0.8;\" x=\"67.98875\" xlink:href=\"#me5208cb2c6\" y=\"196.413363\"/>\r\n      </g>\r\n     </g>\r\n     <g id=\"text_10\">\r\n      <!-- 372500 -->\r\n      <g transform=\"translate(22.81375 200.212582)scale(0.1 -0.1)\">\r\n       <use xlink:href=\"#DejaVuSans-51\"/>\r\n       <use x=\"63.623047\" xlink:href=\"#DejaVuSans-55\"/>\r\n       <use x=\"127.246094\" xlink:href=\"#DejaVuSans-50\"/>\r\n       <use x=\"190.869141\" xlink:href=\"#DejaVuSans-53\"/>\r\n       <use x=\"254.492188\" xlink:href=\"#DejaVuSans-48\"/>\r\n       <use x=\"318.115234\" xlink:href=\"#DejaVuSans-48\"/>\r\n      </g>\r\n     </g>\r\n    </g>\r\n    <g id=\"ytick_3\">\r\n     <g id=\"line2d_10\">\r\n      <g>\r\n       <use style=\"stroke:#000000;stroke-width:0.8;\" x=\"67.98875\" xlink:href=\"#me5208cb2c6\" y=\"169.360512\"/>\r\n      </g>\r\n     </g>\r\n     <g id=\"text_11\">\r\n      <!-- 375000 -->\r\n      <g transform=\"translate(22.81375 173.159731)scale(0.1 -0.1)\">\r\n       <use xlink:href=\"#DejaVuSans-51\"/>\r\n       <use x=\"63.623047\" xlink:href=\"#DejaVuSans-55\"/>\r\n       <use x=\"127.246094\" xlink:href=\"#DejaVuSans-53\"/>\r\n       <use x=\"190.869141\" xlink:href=\"#DejaVuSans-48\"/>\r\n       <use x=\"254.492188\" xlink:href=\"#DejaVuSans-48\"/>\r\n       <use x=\"318.115234\" xlink:href=\"#DejaVuSans-48\"/>\r\n      </g>\r\n     </g>\r\n    </g>\r\n    <g id=\"ytick_4\">\r\n     <g id=\"line2d_11\">\r\n      <g>\r\n       <use style=\"stroke:#000000;stroke-width:0.8;\" x=\"67.98875\" xlink:href=\"#me5208cb2c6\" y=\"142.30766\"/>\r\n      </g>\r\n     </g>\r\n     <g id=\"text_12\">\r\n      <!-- 377500 -->\r\n      <g transform=\"translate(22.81375 146.106879)scale(0.1 -0.1)\">\r\n       <use xlink:href=\"#DejaVuSans-51\"/>\r\n       <use x=\"63.623047\" xlink:href=\"#DejaVuSans-55\"/>\r\n       <use x=\"127.246094\" xlink:href=\"#DejaVuSans-55\"/>\r\n       <use x=\"190.869141\" xlink:href=\"#DejaVuSans-53\"/>\r\n       <use x=\"254.492188\" xlink:href=\"#DejaVuSans-48\"/>\r\n       <use x=\"318.115234\" xlink:href=\"#DejaVuSans-48\"/>\r\n      </g>\r\n     </g>\r\n    </g>\r\n    <g id=\"ytick_5\">\r\n     <g id=\"line2d_12\">\r\n      <g>\r\n       <use style=\"stroke:#000000;stroke-width:0.8;\" x=\"67.98875\" xlink:href=\"#me5208cb2c6\" y=\"115.254809\"/>\r\n      </g>\r\n     </g>\r\n     <g id=\"text_13\">\r\n      <!-- 380000 -->\r\n      <defs>\r\n       <path d=\"M 31.78125 34.625 \r\nQ 24.75 34.625 20.71875 30.859375 \r\nQ 16.703125 27.09375 16.703125 20.515625 \r\nQ 16.703125 13.921875 20.71875 10.15625 \r\nQ 24.75 6.390625 31.78125 6.390625 \r\nQ 38.8125 6.390625 42.859375 10.171875 \r\nQ 46.921875 13.96875 46.921875 20.515625 \r\nQ 46.921875 27.09375 42.890625 30.859375 \r\nQ 38.875 34.625 31.78125 34.625 \r\nz\r\nM 21.921875 38.8125 \r\nQ 15.578125 40.375 12.03125 44.71875 \r\nQ 8.5 49.078125 8.5 55.328125 \r\nQ 8.5 64.0625 14.71875 69.140625 \r\nQ 20.953125 74.21875 31.78125 74.21875 \r\nQ 42.671875 74.21875 48.875 69.140625 \r\nQ 55.078125 64.0625 55.078125 55.328125 \r\nQ 55.078125 49.078125 51.53125 44.71875 \r\nQ 48 40.375 41.703125 38.8125 \r\nQ 48.828125 37.15625 52.796875 32.3125 \r\nQ 56.78125 27.484375 56.78125 20.515625 \r\nQ 56.78125 9.90625 50.3125 4.234375 \r\nQ 43.84375 -1.421875 31.78125 -1.421875 \r\nQ 19.734375 -1.421875 13.25 4.234375 \r\nQ 6.78125 9.90625 6.78125 20.515625 \r\nQ 6.78125 27.484375 10.78125 32.3125 \r\nQ 14.796875 37.15625 21.921875 38.8125 \r\nz\r\nM 18.3125 54.390625 \r\nQ 18.3125 48.734375 21.84375 45.5625 \r\nQ 25.390625 42.390625 31.78125 42.390625 \r\nQ 38.140625 42.390625 41.71875 45.5625 \r\nQ 45.3125 48.734375 45.3125 54.390625 \r\nQ 45.3125 60.0625 41.71875 63.234375 \r\nQ 38.140625 66.40625 31.78125 66.40625 \r\nQ 25.390625 66.40625 21.84375 63.234375 \r\nQ 18.3125 60.0625 18.3125 54.390625 \r\nz\r\n\" id=\"DejaVuSans-56\"/>\r\n      </defs>\r\n      <g transform=\"translate(22.81375 119.054027)scale(0.1 -0.1)\">\r\n       <use xlink:href=\"#DejaVuSans-51\"/>\r\n       <use x=\"63.623047\" xlink:href=\"#DejaVuSans-56\"/>\r\n       <use x=\"127.246094\" xlink:href=\"#DejaVuSans-48\"/>\r\n       <use x=\"190.869141\" xlink:href=\"#DejaVuSans-48\"/>\r\n       <use x=\"254.492188\" xlink:href=\"#DejaVuSans-48\"/>\r\n       <use x=\"318.115234\" xlink:href=\"#DejaVuSans-48\"/>\r\n      </g>\r\n     </g>\r\n    </g>\r\n    <g id=\"ytick_6\">\r\n     <g id=\"line2d_13\">\r\n      <g>\r\n       <use style=\"stroke:#000000;stroke-width:0.8;\" x=\"67.98875\" xlink:href=\"#me5208cb2c6\" y=\"88.201957\"/>\r\n      </g>\r\n     </g>\r\n     <g id=\"text_14\">\r\n      <!-- 382500 -->\r\n      <g transform=\"translate(22.81375 92.001176)scale(0.1 -0.1)\">\r\n       <use xlink:href=\"#DejaVuSans-51\"/>\r\n       <use x=\"63.623047\" xlink:href=\"#DejaVuSans-56\"/>\r\n       <use x=\"127.246094\" xlink:href=\"#DejaVuSans-50\"/>\r\n       <use x=\"190.869141\" xlink:href=\"#DejaVuSans-53\"/>\r\n       <use x=\"254.492188\" xlink:href=\"#DejaVuSans-48\"/>\r\n       <use x=\"318.115234\" xlink:href=\"#DejaVuSans-48\"/>\r\n      </g>\r\n     </g>\r\n    </g>\r\n    <g id=\"ytick_7\">\r\n     <g id=\"line2d_14\">\r\n      <g>\r\n       <use style=\"stroke:#000000;stroke-width:0.8;\" x=\"67.98875\" xlink:href=\"#me5208cb2c6\" y=\"61.149105\"/>\r\n      </g>\r\n     </g>\r\n     <g id=\"text_15\">\r\n      <!-- 385000 -->\r\n      <g transform=\"translate(22.81375 64.948324)scale(0.1 -0.1)\">\r\n       <use xlink:href=\"#DejaVuSans-51\"/>\r\n       <use x=\"63.623047\" xlink:href=\"#DejaVuSans-56\"/>\r\n       <use x=\"127.246094\" xlink:href=\"#DejaVuSans-53\"/>\r\n       <use x=\"190.869141\" xlink:href=\"#DejaVuSans-48\"/>\r\n       <use x=\"254.492188\" xlink:href=\"#DejaVuSans-48\"/>\r\n       <use x=\"318.115234\" xlink:href=\"#DejaVuSans-48\"/>\r\n      </g>\r\n     </g>\r\n    </g>\r\n    <g id=\"ytick_8\">\r\n     <g id=\"line2d_15\">\r\n      <g>\r\n       <use style=\"stroke:#000000;stroke-width:0.8;\" x=\"67.98875\" xlink:href=\"#me5208cb2c6\" y=\"34.096254\"/>\r\n      </g>\r\n     </g>\r\n     <g id=\"text_16\">\r\n      <!-- 387500 -->\r\n      <g transform=\"translate(22.81375 37.895473)scale(0.1 -0.1)\">\r\n       <use xlink:href=\"#DejaVuSans-51\"/>\r\n       <use x=\"63.623047\" xlink:href=\"#DejaVuSans-56\"/>\r\n       <use x=\"127.246094\" xlink:href=\"#DejaVuSans-55\"/>\r\n       <use x=\"190.869141\" xlink:href=\"#DejaVuSans-53\"/>\r\n       <use x=\"254.492188\" xlink:href=\"#DejaVuSans-48\"/>\r\n       <use x=\"318.115234\" xlink:href=\"#DejaVuSans-48\"/>\r\n      </g>\r\n     </g>\r\n    </g>\r\n    <g id=\"text_17\">\r\n     <!-- Housing Units -->\r\n     <defs>\r\n      <path d=\"M 9.8125 72.90625 \r\nL 19.671875 72.90625 \r\nL 19.671875 43.015625 \r\nL 55.515625 43.015625 \r\nL 55.515625 72.90625 \r\nL 65.375 72.90625 \r\nL 65.375 0 \r\nL 55.515625 0 \r\nL 55.515625 34.71875 \r\nL 19.671875 34.71875 \r\nL 19.671875 0 \r\nL 9.8125 0 \r\nz\r\n\" id=\"DejaVuSans-72\"/>\r\n      <path d=\"M 30.609375 48.390625 \r\nQ 23.390625 48.390625 19.1875 42.75 \r\nQ 14.984375 37.109375 14.984375 27.296875 \r\nQ 14.984375 17.484375 19.15625 11.84375 \r\nQ 23.34375 6.203125 30.609375 6.203125 \r\nQ 37.796875 6.203125 41.984375 11.859375 \r\nQ 46.1875 17.53125 46.1875 27.296875 \r\nQ 46.1875 37.015625 41.984375 42.703125 \r\nQ 37.796875 48.390625 30.609375 48.390625 \r\nz\r\nM 30.609375 56 \r\nQ 42.328125 56 49.015625 48.375 \r\nQ 55.71875 40.765625 55.71875 27.296875 \r\nQ 55.71875 13.875 49.015625 6.21875 \r\nQ 42.328125 -1.421875 30.609375 -1.421875 \r\nQ 18.84375 -1.421875 12.171875 6.21875 \r\nQ 5.515625 13.875 5.515625 27.296875 \r\nQ 5.515625 40.765625 12.171875 48.375 \r\nQ 18.84375 56 30.609375 56 \r\nz\r\n\" id=\"DejaVuSans-111\"/>\r\n      <path d=\"M 8.5 21.578125 \r\nL 8.5 54.6875 \r\nL 17.484375 54.6875 \r\nL 17.484375 21.921875 \r\nQ 17.484375 14.15625 20.5 10.265625 \r\nQ 23.53125 6.390625 29.59375 6.390625 \r\nQ 36.859375 6.390625 41.078125 11.03125 \r\nQ 45.3125 15.671875 45.3125 23.6875 \r\nL 45.3125 54.6875 \r\nL 54.296875 54.6875 \r\nL 54.296875 0 \r\nL 45.3125 0 \r\nL 45.3125 8.40625 \r\nQ 42.046875 3.421875 37.71875 1 \r\nQ 33.40625 -1.421875 27.6875 -1.421875 \r\nQ 18.265625 -1.421875 13.375 4.4375 \r\nQ 8.5 10.296875 8.5 21.578125 \r\nz\r\nM 31.109375 56 \r\nz\r\n\" id=\"DejaVuSans-117\"/>\r\n      <path d=\"M 44.28125 53.078125 \r\nL 44.28125 44.578125 \r\nQ 40.484375 46.53125 36.375 47.5 \r\nQ 32.28125 48.484375 27.875 48.484375 \r\nQ 21.1875 48.484375 17.84375 46.4375 \r\nQ 14.5 44.390625 14.5 40.28125 \r\nQ 14.5 37.15625 16.890625 35.375 \r\nQ 19.28125 33.59375 26.515625 31.984375 \r\nL 29.59375 31.296875 \r\nQ 39.15625 29.25 43.1875 25.515625 \r\nQ 47.21875 21.78125 47.21875 15.09375 \r\nQ 47.21875 7.46875 41.1875 3.015625 \r\nQ 35.15625 -1.421875 24.609375 -1.421875 \r\nQ 20.21875 -1.421875 15.453125 -0.5625 \r\nQ 10.6875 0.296875 5.421875 2 \r\nL 5.421875 11.28125 \r\nQ 10.40625 8.6875 15.234375 7.390625 \r\nQ 20.0625 6.109375 24.8125 6.109375 \r\nQ 31.15625 6.109375 34.5625 8.28125 \r\nQ 37.984375 10.453125 37.984375 14.40625 \r\nQ 37.984375 18.0625 35.515625 20.015625 \r\nQ 33.0625 21.96875 24.703125 23.78125 \r\nL 21.578125 24.515625 \r\nQ 13.234375 26.265625 9.515625 29.90625 \r\nQ 5.8125 33.546875 5.8125 39.890625 \r\nQ 5.8125 47.609375 11.28125 51.796875 \r\nQ 16.75 56 26.8125 56 \r\nQ 31.78125 56 36.171875 55.265625 \r\nQ 40.578125 54.546875 44.28125 53.078125 \r\nz\r\n\" id=\"DejaVuSans-115\"/>\r\n      <path d=\"M 9.421875 54.6875 \r\nL 18.40625 54.6875 \r\nL 18.40625 0 \r\nL 9.421875 0 \r\nz\r\nM 9.421875 75.984375 \r\nL 18.40625 75.984375 \r\nL 18.40625 64.59375 \r\nL 9.421875 64.59375 \r\nz\r\n\" id=\"DejaVuSans-105\"/>\r\n      <path d=\"M 54.890625 33.015625 \r\nL 54.890625 0 \r\nL 45.90625 0 \r\nL 45.90625 32.71875 \r\nQ 45.90625 40.484375 42.875 44.328125 \r\nQ 39.84375 48.1875 33.796875 48.1875 \r\nQ 26.515625 48.1875 22.3125 43.546875 \r\nQ 18.109375 38.921875 18.109375 30.90625 \r\nL 18.109375 0 \r\nL 9.078125 0 \r\nL 9.078125 54.6875 \r\nL 18.109375 54.6875 \r\nL 18.109375 46.1875 \r\nQ 21.34375 51.125 25.703125 53.5625 \r\nQ 30.078125 56 35.796875 56 \r\nQ 45.21875 56 50.046875 50.171875 \r\nQ 54.890625 44.34375 54.890625 33.015625 \r\nz\r\n\" id=\"DejaVuSans-110\"/>\r\n      <path d=\"M 45.40625 27.984375 \r\nQ 45.40625 37.75 41.375 43.109375 \r\nQ 37.359375 48.484375 30.078125 48.484375 \r\nQ 22.859375 48.484375 18.828125 43.109375 \r\nQ 14.796875 37.75 14.796875 27.984375 \r\nQ 14.796875 18.265625 18.828125 12.890625 \r\nQ 22.859375 7.515625 30.078125 7.515625 \r\nQ 37.359375 7.515625 41.375 12.890625 \r\nQ 45.40625 18.265625 45.40625 27.984375 \r\nz\r\nM 54.390625 6.78125 \r\nQ 54.390625 -7.171875 48.1875 -13.984375 \r\nQ 42 -20.796875 29.203125 -20.796875 \r\nQ 24.46875 -20.796875 20.265625 -20.09375 \r\nQ 16.0625 -19.390625 12.109375 -17.921875 \r\nL 12.109375 -9.1875 \r\nQ 16.0625 -11.328125 19.921875 -12.34375 \r\nQ 23.78125 -13.375 27.78125 -13.375 \r\nQ 36.625 -13.375 41.015625 -8.765625 \r\nQ 45.40625 -4.15625 45.40625 5.171875 \r\nL 45.40625 9.625 \r\nQ 42.625 4.78125 38.28125 2.390625 \r\nQ 33.9375 0 27.875 0 \r\nQ 17.828125 0 11.671875 7.65625 \r\nQ 5.515625 15.328125 5.515625 27.984375 \r\nQ 5.515625 40.671875 11.671875 48.328125 \r\nQ 17.828125 56 27.875 56 \r\nQ 33.9375 56 38.28125 53.609375 \r\nQ 42.625 51.21875 45.40625 46.390625 \r\nL 45.40625 54.6875 \r\nL 54.390625 54.6875 \r\nz\r\n\" id=\"DejaVuSans-103\"/>\r\n      <path id=\"DejaVuSans-32\"/>\r\n      <path d=\"M 8.6875 72.90625 \r\nL 18.609375 72.90625 \r\nL 18.609375 28.609375 \r\nQ 18.609375 16.890625 22.84375 11.734375 \r\nQ 27.09375 6.59375 36.625 6.59375 \r\nQ 46.09375 6.59375 50.34375 11.734375 \r\nQ 54.59375 16.890625 54.59375 28.609375 \r\nL 54.59375 72.90625 \r\nL 64.5 72.90625 \r\nL 64.5 27.390625 \r\nQ 64.5 13.140625 57.4375 5.859375 \r\nQ 50.390625 -1.421875 36.625 -1.421875 \r\nQ 22.796875 -1.421875 15.734375 5.859375 \r\nQ 8.6875 13.140625 8.6875 27.390625 \r\nz\r\n\" id=\"DejaVuSans-85\"/>\r\n      <path d=\"M 18.3125 70.21875 \r\nL 18.3125 54.6875 \r\nL 36.8125 54.6875 \r\nL 36.8125 47.703125 \r\nL 18.3125 47.703125 \r\nL 18.3125 18.015625 \r\nQ 18.3125 11.328125 20.140625 9.421875 \r\nQ 21.96875 7.515625 27.59375 7.515625 \r\nL 36.8125 7.515625 \r\nL 36.8125 0 \r\nL 27.59375 0 \r\nQ 17.1875 0 13.234375 3.875 \r\nQ 9.28125 7.765625 9.28125 18.015625 \r\nL 9.28125 47.703125 \r\nL 2.6875 47.703125 \r\nL 2.6875 54.6875 \r\nL 9.28125 54.6875 \r\nL 9.28125 70.21875 \r\nz\r\n\" id=\"DejaVuSans-116\"/>\r\n     </defs>\r\n     <g transform=\"translate(16.318125 174.193125)rotate(-90)scale(0.12 -0.12)\">\r\n      <use xlink:href=\"#DejaVuSans-72\"/>\r\n      <use x=\"75.195312\" xlink:href=\"#DejaVuSans-111\"/>\r\n      <use x=\"136.376953\" xlink:href=\"#DejaVuSans-117\"/>\r\n      <use x=\"199.755859\" xlink:href=\"#DejaVuSans-115\"/>\r\n      <use x=\"251.855469\" xlink:href=\"#DejaVuSans-105\"/>\r\n      <use x=\"279.638672\" xlink:href=\"#DejaVuSans-110\"/>\r\n      <use x=\"343.017578\" xlink:href=\"#DejaVuSans-103\"/>\r\n      <use x=\"406.494141\" xlink:href=\"#DejaVuSans-32\"/>\r\n      <use x=\"438.28125\" xlink:href=\"#DejaVuSans-85\"/>\r\n      <use x=\"511.474609\" xlink:href=\"#DejaVuSans-110\"/>\r\n      <use x=\"574.853516\" xlink:href=\"#DejaVuSans-105\"/>\r\n      <use x=\"602.636719\" xlink:href=\"#DejaVuSans-116\"/>\r\n      <use x=\"641.845703\" xlink:href=\"#DejaVuSans-115\"/>\r\n     </g>\r\n    </g>\r\n   </g>\r\n   <g id=\"patch_10\">\r\n    <path d=\"M 67.98875 241.277812 \r\nL 67.98875 23.837812 \r\n\" style=\"fill:none;stroke:#000000;stroke-linecap:square;stroke-linejoin:miter;stroke-width:0.8;\"/>\r\n   </g>\r\n   <g id=\"patch_11\">\r\n    <path d=\"M 402.78875 241.277812 \r\nL 402.78875 23.837812 \r\n\" style=\"fill:none;stroke:#000000;stroke-linecap:square;stroke-linejoin:miter;stroke-width:0.8;\"/>\r\n   </g>\r\n   <g id=\"patch_12\">\r\n    <path d=\"M 67.98875 241.277812 \r\nL 402.78875 241.277812 \r\n\" style=\"fill:none;stroke:#000000;stroke-linecap:square;stroke-linejoin:miter;stroke-width:0.8;\"/>\r\n   </g>\r\n   <g id=\"patch_13\">\r\n    <path d=\"M 67.98875 23.837812 \r\nL 402.78875 23.837812 \r\n\" style=\"fill:none;stroke:#000000;stroke-linecap:square;stroke-linejoin:miter;stroke-width:0.8;\"/>\r\n   </g>\r\n   <g id=\"text_18\">\r\n    <!-- Housing Units in San Francisco from 2010 to 2016 -->\r\n    <defs>\r\n     <path d=\"M 9.1875 72.90625 \r\nL 27.984375 72.90625 \r\nL 27.984375 45.125 \r\nL 55.71875 45.125 \r\nL 55.71875 72.90625 \r\nL 74.515625 72.90625 \r\nL 74.515625 0 \r\nL 55.71875 0 \r\nL 55.71875 30.90625 \r\nL 27.984375 30.90625 \r\nL 27.984375 0 \r\nL 9.1875 0 \r\nz\r\n\" id=\"DejaVuSans-Bold-72\"/>\r\n     <path d=\"M 34.421875 43.5 \r\nQ 28.609375 43.5 25.5625 39.328125 \r\nQ 22.515625 35.15625 22.515625 27.296875 \r\nQ 22.515625 19.4375 25.5625 15.25 \r\nQ 28.609375 11.078125 34.421875 11.078125 \r\nQ 40.140625 11.078125 43.15625 15.25 \r\nQ 46.1875 19.4375 46.1875 27.296875 \r\nQ 46.1875 35.15625 43.15625 39.328125 \r\nQ 40.140625 43.5 34.421875 43.5 \r\nz\r\nM 34.421875 56 \r\nQ 48.53125 56 56.46875 48.375 \r\nQ 64.40625 40.765625 64.40625 27.296875 \r\nQ 64.40625 13.8125 56.46875 6.1875 \r\nQ 48.53125 -1.421875 34.421875 -1.421875 \r\nQ 20.265625 -1.421875 12.28125 6.1875 \r\nQ 4.296875 13.8125 4.296875 27.296875 \r\nQ 4.296875 40.765625 12.28125 48.375 \r\nQ 20.265625 56 34.421875 56 \r\nz\r\n\" id=\"DejaVuSans-Bold-111\"/>\r\n     <path d=\"M 7.8125 21.296875 \r\nL 7.8125 54.6875 \r\nL 25.390625 54.6875 \r\nL 25.390625 49.21875 \r\nQ 25.390625 44.78125 25.34375 38.0625 \r\nQ 25.296875 31.34375 25.296875 29.109375 \r\nQ 25.296875 22.515625 25.640625 19.609375 \r\nQ 25.984375 16.703125 26.8125 15.375 \r\nQ 27.875 13.671875 29.609375 12.734375 \r\nQ 31.34375 11.8125 33.59375 11.8125 \r\nQ 39.0625 11.8125 42.1875 16.015625 \r\nQ 45.3125 20.21875 45.3125 27.6875 \r\nL 45.3125 54.6875 \r\nL 62.796875 54.6875 \r\nL 62.796875 0 \r\nL 45.3125 0 \r\nL 45.3125 7.90625 \r\nQ 41.359375 3.125 36.9375 0.84375 \r\nQ 32.515625 -1.421875 27.203125 -1.421875 \r\nQ 17.71875 -1.421875 12.765625 4.390625 \r\nQ 7.8125 10.203125 7.8125 21.296875 \r\nz\r\n\" id=\"DejaVuSans-Bold-117\"/>\r\n     <path d=\"M 51.125 52.984375 \r\nL 51.125 39.703125 \r\nQ 45.515625 42.046875 40.28125 43.21875 \r\nQ 35.0625 44.390625 30.421875 44.390625 \r\nQ 25.4375 44.390625 23.015625 43.140625 \r\nQ 20.609375 41.890625 20.609375 39.3125 \r\nQ 20.609375 37.203125 22.4375 36.078125 \r\nQ 24.265625 34.96875 29 34.421875 \r\nL 32.078125 33.984375 \r\nQ 45.515625 32.28125 50.140625 28.375 \r\nQ 54.78125 24.46875 54.78125 16.109375 \r\nQ 54.78125 7.375 48.328125 2.96875 \r\nQ 41.890625 -1.421875 29.109375 -1.421875 \r\nQ 23.6875 -1.421875 17.890625 -0.5625 \r\nQ 12.109375 0.296875 6 2 \r\nL 6 15.28125 \r\nQ 11.234375 12.75 16.71875 11.46875 \r\nQ 22.21875 10.203125 27.875 10.203125 \r\nQ 33.015625 10.203125 35.59375 11.609375 \r\nQ 38.1875 13.03125 38.1875 15.828125 \r\nQ 38.1875 18.171875 36.40625 19.3125 \r\nQ 34.625 20.453125 29.296875 21.09375 \r\nL 26.21875 21.484375 \r\nQ 14.546875 22.953125 9.859375 26.90625 \r\nQ 5.171875 30.859375 5.171875 38.921875 \r\nQ 5.171875 47.609375 11.125 51.796875 \r\nQ 17.09375 56 29.390625 56 \r\nQ 34.234375 56 39.546875 55.265625 \r\nQ 44.875 54.546875 51.125 52.984375 \r\nz\r\n\" id=\"DejaVuSans-Bold-115\"/>\r\n     <path d=\"M 8.40625 54.6875 \r\nL 25.875 54.6875 \r\nL 25.875 0 \r\nL 8.40625 0 \r\nz\r\nM 8.40625 75.984375 \r\nL 25.875 75.984375 \r\nL 25.875 61.71875 \r\nL 8.40625 61.71875 \r\nz\r\n\" id=\"DejaVuSans-Bold-105\"/>\r\n     <path d=\"M 63.375 33.296875 \r\nL 63.375 0 \r\nL 45.796875 0 \r\nL 45.796875 5.421875 \r\nL 45.796875 25.484375 \r\nQ 45.796875 32.5625 45.484375 35.25 \r\nQ 45.171875 37.9375 44.390625 39.203125 \r\nQ 43.359375 40.921875 41.59375 41.875 \r\nQ 39.84375 42.828125 37.59375 42.828125 \r\nQ 32.125 42.828125 29 38.59375 \r\nQ 25.875 34.375 25.875 26.90625 \r\nL 25.875 0 \r\nL 8.40625 0 \r\nL 8.40625 54.6875 \r\nL 25.875 54.6875 \r\nL 25.875 46.6875 \r\nQ 29.828125 51.46875 34.265625 53.734375 \r\nQ 38.71875 56 44.09375 56 \r\nQ 53.5625 56 58.46875 50.1875 \r\nQ 63.375 44.390625 63.375 33.296875 \r\nz\r\n\" id=\"DejaVuSans-Bold-110\"/>\r\n     <path d=\"M 45.609375 9.28125 \r\nQ 42 4.5 37.640625 2.25 \r\nQ 33.296875 0 27.59375 0 \r\nQ 17.578125 0 11.03125 7.875 \r\nQ 4.5 15.765625 4.5 27.984375 \r\nQ 4.5 40.234375 11.03125 48.0625 \r\nQ 17.578125 55.90625 27.59375 55.90625 \r\nQ 33.296875 55.90625 37.640625 53.65625 \r\nQ 42 51.421875 45.609375 46.578125 \r\nL 45.609375 54.6875 \r\nL 63.1875 54.6875 \r\nL 63.1875 5.515625 \r\nQ 63.1875 -7.671875 54.859375 -14.625 \r\nQ 46.53125 -21.578125 30.71875 -21.578125 \r\nQ 25.59375 -21.578125 20.796875 -20.796875 \r\nQ 16.015625 -20.015625 11.1875 -18.40625 \r\nL 11.1875 -4.78125 \r\nQ 15.765625 -7.421875 20.15625 -8.71875 \r\nQ 24.5625 -10.015625 29 -10.015625 \r\nQ 37.59375 -10.015625 41.59375 -6.25 \r\nQ 45.609375 -2.484375 45.609375 5.515625 \r\nz\r\nM 34.078125 43.3125 \r\nQ 28.65625 43.3125 25.625 39.296875 \r\nQ 22.609375 35.296875 22.609375 27.984375 \r\nQ 22.609375 20.453125 25.53125 16.578125 \r\nQ 28.46875 12.703125 34.078125 12.703125 \r\nQ 39.546875 12.703125 42.578125 16.703125 \r\nQ 45.609375 20.703125 45.609375 27.984375 \r\nQ 45.609375 35.296875 42.578125 39.296875 \r\nQ 39.546875 43.3125 34.078125 43.3125 \r\nz\r\n\" id=\"DejaVuSans-Bold-103\"/>\r\n     <path id=\"DejaVuSans-Bold-32\"/>\r\n     <path d=\"M 9.1875 72.90625 \r\nL 27.984375 72.90625 \r\nL 27.984375 29.203125 \r\nQ 27.984375 20.171875 30.9375 16.28125 \r\nQ 33.890625 12.40625 40.578125 12.40625 \r\nQ 47.3125 12.40625 50.265625 16.28125 \r\nQ 53.21875 20.171875 53.21875 29.203125 \r\nL 53.21875 72.90625 \r\nL 72.015625 72.90625 \r\nL 72.015625 29.203125 \r\nQ 72.015625 13.71875 64.25 6.140625 \r\nQ 56.5 -1.421875 40.578125 -1.421875 \r\nQ 24.703125 -1.421875 16.9375 6.140625 \r\nQ 9.1875 13.71875 9.1875 29.203125 \r\nz\r\n\" id=\"DejaVuSans-Bold-85\"/>\r\n     <path d=\"M 27.484375 70.21875 \r\nL 27.484375 54.6875 \r\nL 45.515625 54.6875 \r\nL 45.515625 42.1875 \r\nL 27.484375 42.1875 \r\nL 27.484375 19 \r\nQ 27.484375 15.1875 29 13.84375 \r\nQ 30.515625 12.5 35.015625 12.5 \r\nL 44 12.5 \r\nL 44 0 \r\nL 29 0 \r\nQ 18.65625 0 14.328125 4.3125 \r\nQ 10.015625 8.640625 10.015625 19 \r\nL 10.015625 42.1875 \r\nL 1.3125 42.1875 \r\nL 1.3125 54.6875 \r\nL 10.015625 54.6875 \r\nL 10.015625 70.21875 \r\nz\r\n\" id=\"DejaVuSans-Bold-116\"/>\r\n     <path d=\"M 59.90625 70.609375 \r\nL 59.90625 55.171875 \r\nQ 53.90625 57.859375 48.1875 59.21875 \r\nQ 42.484375 60.59375 37.40625 60.59375 \r\nQ 30.671875 60.59375 27.4375 58.734375 \r\nQ 24.21875 56.890625 24.21875 52.984375 \r\nQ 24.21875 50.046875 26.390625 48.40625 \r\nQ 28.5625 46.78125 34.28125 45.609375 \r\nL 42.28125 44 \r\nQ 54.4375 41.546875 59.5625 36.5625 \r\nQ 64.703125 31.59375 64.703125 22.40625 \r\nQ 64.703125 10.359375 57.546875 4.46875 \r\nQ 50.390625 -1.421875 35.6875 -1.421875 \r\nQ 28.765625 -1.421875 21.78125 -0.09375 \r\nQ 14.796875 1.21875 7.8125 3.8125 \r\nL 7.8125 19.671875 \r\nQ 14.796875 15.96875 21.3125 14.078125 \r\nQ 27.828125 12.203125 33.890625 12.203125 \r\nQ 40.046875 12.203125 43.3125 14.25 \r\nQ 46.578125 16.3125 46.578125 20.125 \r\nQ 46.578125 23.53125 44.359375 25.390625 \r\nQ 42.140625 27.25 35.5 28.71875 \r\nL 28.21875 30.328125 \r\nQ 17.28125 32.671875 12.21875 37.796875 \r\nQ 7.171875 42.921875 7.171875 51.609375 \r\nQ 7.171875 62.5 14.203125 68.359375 \r\nQ 21.234375 74.21875 34.421875 74.21875 \r\nQ 40.4375 74.21875 46.78125 73.3125 \r\nQ 53.125 72.40625 59.90625 70.609375 \r\nz\r\n\" id=\"DejaVuSans-Bold-83\"/>\r\n     <path d=\"M 32.90625 24.609375 \r\nQ 27.4375 24.609375 24.671875 22.75 \r\nQ 21.921875 20.90625 21.921875 17.28125 \r\nQ 21.921875 13.96875 24.140625 12.078125 \r\nQ 26.375 10.203125 30.328125 10.203125 \r\nQ 35.25 10.203125 38.625 13.734375 \r\nQ 42 17.28125 42 22.609375 \r\nL 42 24.609375 \r\nz\r\nM 59.625 31.203125 \r\nL 59.625 0 \r\nL 42 0 \r\nL 42 8.109375 \r\nQ 38.484375 3.125 34.078125 0.84375 \r\nQ 29.6875 -1.421875 23.390625 -1.421875 \r\nQ 14.890625 -1.421875 9.59375 3.53125 \r\nQ 4.296875 8.5 4.296875 16.40625 \r\nQ 4.296875 26.03125 10.90625 30.515625 \r\nQ 17.53125 35.015625 31.6875 35.015625 \r\nL 42 35.015625 \r\nL 42 36.375 \r\nQ 42 40.53125 38.71875 42.453125 \r\nQ 35.453125 44.390625 28.515625 44.390625 \r\nQ 22.90625 44.390625 18.0625 43.265625 \r\nQ 13.234375 42.140625 9.078125 39.890625 \r\nL 9.078125 53.21875 \r\nQ 14.703125 54.59375 20.359375 55.296875 \r\nQ 26.03125 56 31.6875 56 \r\nQ 46.484375 56 53.046875 50.171875 \r\nQ 59.625 44.34375 59.625 31.203125 \r\nz\r\n\" id=\"DejaVuSans-Bold-97\"/>\r\n     <path d=\"M 9.1875 72.90625 \r\nL 59.90625 72.90625 \r\nL 59.90625 58.6875 \r\nL 27.984375 58.6875 \r\nL 27.984375 45.125 \r\nL 58.015625 45.125 \r\nL 58.015625 30.90625 \r\nL 27.984375 30.90625 \r\nL 27.984375 0 \r\nL 9.1875 0 \r\nz\r\n\" id=\"DejaVuSans-Bold-70\"/>\r\n     <path d=\"M 49.03125 39.796875 \r\nQ 46.734375 40.875 44.453125 41.375 \r\nQ 42.1875 41.890625 39.890625 41.890625 \r\nQ 33.15625 41.890625 29.515625 37.5625 \r\nQ 25.875 33.25 25.875 25.203125 \r\nL 25.875 0 \r\nL 8.40625 0 \r\nL 8.40625 54.6875 \r\nL 25.875 54.6875 \r\nL 25.875 45.703125 \r\nQ 29.25 51.078125 33.609375 53.53125 \r\nQ 37.984375 56 44.09375 56 \r\nQ 44.96875 56 45.984375 55.921875 \r\nQ 47.015625 55.859375 48.96875 55.609375 \r\nz\r\n\" id=\"DejaVuSans-Bold-114\"/>\r\n     <path d=\"M 52.59375 52.984375 \r\nL 52.59375 38.71875 \r\nQ 49.03125 41.15625 45.4375 42.328125 \r\nQ 41.84375 43.5 37.984375 43.5 \r\nQ 30.671875 43.5 26.59375 39.234375 \r\nQ 22.515625 34.96875 22.515625 27.296875 \r\nQ 22.515625 19.625 26.59375 15.34375 \r\nQ 30.671875 11.078125 37.984375 11.078125 \r\nQ 42.09375 11.078125 45.78125 12.296875 \r\nQ 49.46875 13.53125 52.59375 15.921875 \r\nL 52.59375 1.609375 \r\nQ 48.484375 0.09375 44.265625 -0.65625 \r\nQ 40.046875 -1.421875 35.796875 -1.421875 \r\nQ 21 -1.421875 12.640625 6.171875 \r\nQ 4.296875 13.765625 4.296875 27.296875 \r\nQ 4.296875 40.828125 12.640625 48.40625 \r\nQ 21 56 35.796875 56 \r\nQ 40.09375 56 44.265625 55.25 \r\nQ 48.4375 54.5 52.59375 52.984375 \r\nz\r\n\" id=\"DejaVuSans-Bold-99\"/>\r\n     <path d=\"M 44.390625 75.984375 \r\nL 44.390625 64.5 \r\nL 34.71875 64.5 \r\nQ 31 64.5 29.53125 63.15625 \r\nQ 28.078125 61.8125 28.078125 58.5 \r\nL 28.078125 54.6875 \r\nL 43.015625 54.6875 \r\nL 43.015625 42.1875 \r\nL 28.078125 42.1875 \r\nL 28.078125 0 \r\nL 10.59375 0 \r\nL 10.59375 42.1875 \r\nL 1.90625 42.1875 \r\nL 1.90625 54.6875 \r\nL 10.59375 54.6875 \r\nL 10.59375 58.5 \r\nQ 10.59375 67.4375 15.578125 71.703125 \r\nQ 20.5625 75.984375 31 75.984375 \r\nz\r\n\" id=\"DejaVuSans-Bold-102\"/>\r\n     <path d=\"M 59.078125 45.609375 \r\nQ 62.40625 50.6875 66.96875 53.34375 \r\nQ 71.53125 56 77 56 \r\nQ 86.421875 56 91.359375 50.1875 \r\nQ 96.296875 44.390625 96.296875 33.296875 \r\nL 96.296875 0 \r\nL 78.71875 0 \r\nL 78.71875 28.515625 \r\nQ 78.765625 29.15625 78.78125 29.828125 \r\nQ 78.8125 30.515625 78.8125 31.78125 \r\nQ 78.8125 37.59375 77.09375 40.203125 \r\nQ 75.390625 42.828125 71.578125 42.828125 \r\nQ 66.609375 42.828125 63.890625 38.71875 \r\nQ 61.1875 34.625 61.078125 26.859375 \r\nL 61.078125 0 \r\nL 43.5 0 \r\nL 43.5 28.515625 \r\nQ 43.5 37.59375 41.9375 40.203125 \r\nQ 40.375 42.828125 36.375 42.828125 \r\nQ 31.34375 42.828125 28.609375 38.703125 \r\nQ 25.875 34.578125 25.875 26.90625 \r\nL 25.875 0 \r\nL 8.296875 0 \r\nL 8.296875 54.6875 \r\nL 25.875 54.6875 \r\nL 25.875 46.6875 \r\nQ 29.109375 51.3125 33.28125 53.65625 \r\nQ 37.453125 56 42.484375 56 \r\nQ 48.140625 56 52.484375 53.265625 \r\nQ 56.84375 50.53125 59.078125 45.609375 \r\nz\r\n\" id=\"DejaVuSans-Bold-109\"/>\r\n     <path d=\"M 28.8125 13.8125 \r\nL 60.890625 13.8125 \r\nL 60.890625 0 \r\nL 7.90625 0 \r\nL 7.90625 13.8125 \r\nL 34.515625 37.3125 \r\nQ 38.09375 40.53125 39.796875 43.609375 \r\nQ 41.5 46.6875 41.5 50 \r\nQ 41.5 55.125 38.0625 58.25 \r\nQ 34.625 61.375 28.90625 61.375 \r\nQ 24.515625 61.375 19.28125 59.5 \r\nQ 14.0625 57.625 8.109375 53.90625 \r\nL 8.109375 69.921875 \r\nQ 14.453125 72.015625 20.65625 73.109375 \r\nQ 26.859375 74.21875 32.8125 74.21875 \r\nQ 45.90625 74.21875 53.15625 68.453125 \r\nQ 60.40625 62.703125 60.40625 52.390625 \r\nQ 60.40625 46.4375 57.328125 41.28125 \r\nQ 54.25 36.140625 44.390625 27.484375 \r\nz\r\n\" id=\"DejaVuSans-Bold-50\"/>\r\n     <path d=\"M 46 36.53125 \r\nQ 46 50.203125 43.4375 55.78125 \r\nQ 40.875 61.375 34.8125 61.375 \r\nQ 28.765625 61.375 26.171875 55.78125 \r\nQ 23.578125 50.203125 23.578125 36.53125 \r\nQ 23.578125 22.703125 26.171875 17.03125 \r\nQ 28.765625 11.375 34.8125 11.375 \r\nQ 40.828125 11.375 43.40625 17.03125 \r\nQ 46 22.703125 46 36.53125 \r\nz\r\nM 64.796875 36.375 \r\nQ 64.796875 18.265625 56.984375 8.421875 \r\nQ 49.171875 -1.421875 34.8125 -1.421875 \r\nQ 20.40625 -1.421875 12.59375 8.421875 \r\nQ 4.78125 18.265625 4.78125 36.375 \r\nQ 4.78125 54.546875 12.59375 64.375 \r\nQ 20.40625 74.21875 34.8125 74.21875 \r\nQ 49.171875 74.21875 56.984375 64.375 \r\nQ 64.796875 54.546875 64.796875 36.375 \r\nz\r\n\" id=\"DejaVuSans-Bold-48\"/>\r\n     <path d=\"M 11.71875 12.984375 \r\nL 28.328125 12.984375 \r\nL 28.328125 60.109375 \r\nL 11.28125 56.59375 \r\nL 11.28125 69.390625 \r\nL 28.21875 72.90625 \r\nL 46.09375 72.90625 \r\nL 46.09375 12.984375 \r\nL 62.703125 12.984375 \r\nL 62.703125 0 \r\nL 11.71875 0 \r\nz\r\n\" id=\"DejaVuSans-Bold-49\"/>\r\n     <path d=\"M 36.1875 35.984375 \r\nQ 31.25 35.984375 28.78125 32.78125 \r\nQ 26.3125 29.59375 26.3125 23.1875 \r\nQ 26.3125 16.796875 28.78125 13.59375 \r\nQ 31.25 10.40625 36.1875 10.40625 \r\nQ 41.15625 10.40625 43.625 13.59375 \r\nQ 46.09375 16.796875 46.09375 23.1875 \r\nQ 46.09375 29.59375 43.625 32.78125 \r\nQ 41.15625 35.984375 36.1875 35.984375 \r\nz\r\nM 59.421875 71 \r\nL 59.421875 57.515625 \r\nQ 54.78125 59.71875 50.671875 60.765625 \r\nQ 46.578125 61.8125 42.671875 61.8125 \r\nQ 34.28125 61.8125 29.59375 57.140625 \r\nQ 24.90625 52.484375 24.125 43.3125 \r\nQ 27.34375 45.703125 31.09375 46.890625 \r\nQ 34.859375 48.09375 39.3125 48.09375 \r\nQ 50.484375 48.09375 57.34375 41.546875 \r\nQ 64.203125 35.015625 64.203125 24.421875 \r\nQ 64.203125 12.703125 56.53125 5.640625 \r\nQ 48.875 -1.421875 35.984375 -1.421875 \r\nQ 21.78125 -1.421875 13.984375 8.171875 \r\nQ 6.203125 17.78125 6.203125 35.40625 \r\nQ 6.203125 53.46875 15.3125 63.796875 \r\nQ 24.421875 74.125 40.28125 74.125 \r\nQ 45.3125 74.125 50.046875 73.34375 \r\nQ 54.78125 72.5625 59.421875 71 \r\nz\r\n\" id=\"DejaVuSans-Bold-54\"/>\r\n    </defs>\r\n    <g transform=\"translate(37.646406 17.837812)scale(0.14 -0.14)\">\r\n     <use xlink:href=\"#DejaVuSans-Bold-72\"/>\r\n     <use x=\"83.691406\" xlink:href=\"#DejaVuSans-Bold-111\"/>\r\n     <use x=\"152.392578\" xlink:href=\"#DejaVuSans-Bold-117\"/>\r\n     <use x=\"223.583984\" xlink:href=\"#DejaVuSans-Bold-115\"/>\r\n     <use x=\"283.105469\" xlink:href=\"#DejaVuSans-Bold-105\"/>\r\n     <use x=\"317.382812\" xlink:href=\"#DejaVuSans-Bold-110\"/>\r\n     <use x=\"388.574219\" xlink:href=\"#DejaVuSans-Bold-103\"/>\r\n     <use x=\"460.15625\" xlink:href=\"#DejaVuSans-Bold-32\"/>\r\n     <use x=\"494.970703\" xlink:href=\"#DejaVuSans-Bold-85\"/>\r\n     <use x=\"576.171875\" xlink:href=\"#DejaVuSans-Bold-110\"/>\r\n     <use x=\"647.363281\" xlink:href=\"#DejaVuSans-Bold-105\"/>\r\n     <use x=\"681.640625\" xlink:href=\"#DejaVuSans-Bold-116\"/>\r\n     <use x=\"729.443359\" xlink:href=\"#DejaVuSans-Bold-115\"/>\r\n     <use x=\"788.964844\" xlink:href=\"#DejaVuSans-Bold-32\"/>\r\n     <use x=\"823.779297\" xlink:href=\"#DejaVuSans-Bold-105\"/>\r\n     <use x=\"858.056641\" xlink:href=\"#DejaVuSans-Bold-110\"/>\r\n     <use x=\"929.248047\" xlink:href=\"#DejaVuSans-Bold-32\"/>\r\n     <use x=\"964.0625\" xlink:href=\"#DejaVuSans-Bold-83\"/>\r\n     <use x=\"1036.083984\" xlink:href=\"#DejaVuSans-Bold-97\"/>\r\n     <use x=\"1103.564453\" xlink:href=\"#DejaVuSans-Bold-110\"/>\r\n     <use x=\"1174.755859\" xlink:href=\"#DejaVuSans-Bold-32\"/>\r\n     <use x=\"1209.570312\" xlink:href=\"#DejaVuSans-Bold-70\"/>\r\n     <use x=\"1277.787109\" xlink:href=\"#DejaVuSans-Bold-114\"/>\r\n     <use x=\"1327.103516\" xlink:href=\"#DejaVuSans-Bold-97\"/>\r\n     <use x=\"1394.583984\" xlink:href=\"#DejaVuSans-Bold-110\"/>\r\n     <use x=\"1465.775391\" xlink:href=\"#DejaVuSans-Bold-99\"/>\r\n     <use x=\"1525.052734\" xlink:href=\"#DejaVuSans-Bold-105\"/>\r\n     <use x=\"1559.330078\" xlink:href=\"#DejaVuSans-Bold-115\"/>\r\n     <use x=\"1618.851562\" xlink:href=\"#DejaVuSans-Bold-99\"/>\r\n     <use x=\"1678.128906\" xlink:href=\"#DejaVuSans-Bold-111\"/>\r\n     <use x=\"1746.830078\" xlink:href=\"#DejaVuSans-Bold-32\"/>\r\n     <use x=\"1781.644531\" xlink:href=\"#DejaVuSans-Bold-102\"/>\r\n     <use x=\"1825.150391\" xlink:href=\"#DejaVuSans-Bold-114\"/>\r\n     <use x=\"1874.466797\" xlink:href=\"#DejaVuSans-Bold-111\"/>\r\n     <use x=\"1943.167969\" xlink:href=\"#DejaVuSans-Bold-109\"/>\r\n     <use x=\"2047.367188\" xlink:href=\"#DejaVuSans-Bold-32\"/>\r\n     <use x=\"2082.181641\" xlink:href=\"#DejaVuSans-Bold-50\"/>\r\n     <use x=\"2151.761719\" xlink:href=\"#DejaVuSans-Bold-48\"/>\r\n     <use x=\"2221.341797\" xlink:href=\"#DejaVuSans-Bold-49\"/>\r\n     <use x=\"2290.921875\" xlink:href=\"#DejaVuSans-Bold-48\"/>\r\n     <use x=\"2360.501953\" xlink:href=\"#DejaVuSans-Bold-32\"/>\r\n     <use x=\"2395.316406\" xlink:href=\"#DejaVuSans-Bold-116\"/>\r\n     <use x=\"2443.119141\" xlink:href=\"#DejaVuSans-Bold-111\"/>\r\n     <use x=\"2511.820312\" xlink:href=\"#DejaVuSans-Bold-32\"/>\r\n     <use x=\"2546.634766\" xlink:href=\"#DejaVuSans-Bold-50\"/>\r\n     <use x=\"2616.214844\" xlink:href=\"#DejaVuSans-Bold-48\"/>\r\n     <use x=\"2685.794922\" xlink:href=\"#DejaVuSans-Bold-49\"/>\r\n     <use x=\"2755.375\" xlink:href=\"#DejaVuSans-Bold-54\"/>\r\n    </g>\r\n   </g>\r\n  </g>\r\n </g>\r\n <defs>\r\n  <clipPath id=\"pb18dee79dc\">\r\n   <rect height=\"217.44\" width=\"334.8\" x=\"67.98875\" y=\"23.837812\"/>\r\n  </clipPath>\r\n </defs>\r\n</svg>\r\n",
      "image/png": "[encoded data removed]"
     },
     "metadata": {
      "needs_background": "light"
     }
    }
   ],
   "metadata": {}
  },
  {
   "cell_type": "markdown",
   "source": [
    "## Average Housing Costs in San Francisco Per Year\n",
    "\n",
    "In this section, you will calculate the average monthly rent and the average price per square foot for each year. An investor may wish to better understand the sales price of the rental property over time. For example, a customer will want to know if they should expect an increase or decrease in the property value over time so they can determine how long to hold the rental property.  Plot the results as two line charts.\n",
    "\n",
    "**Optional challenge:** Plot each line chart in a different color."
   ],
   "metadata": {}
  },
  {
   "cell_type": "code",
   "execution_count": 84,
   "source": [
    "# Calculate the average sale price per square foot and average gross rent\r\n",
    "avg_salePrice_per_year = sfo_data.groupby('Year')['Sale Price/SqFt']\\\r\n",
    "                                 .mean()\\\r\n",
    "                                 .to_frame()\\\r\n",
    "                                 .astype(int)\r\n",
    "avg_salePrice_per_year.rename(columns={'Sale Price/SqFt':'Avg. Sale Price/SqFt'}, inplace=True)\r\n",
    "print(type(avg_salePrice_per_year),'\\n')\r\n",
    "\r\n",
    "avg_salePrice_per_year"
   ],
   "outputs": [
    {
     "output_type": "stream",
     "name": "stdout",
     "text": [
      "<class 'pandas.core.frame.DataFrame'> \n",
      "\n"
     ]
    },
    {
     "output_type": "execute_result",
     "data": {
      "text/plain": [
       "      Avg. Sale Price/SqFt\n",
       "Year                      \n",
       "2010                   368\n",
       "2011                   341\n",
       "2012                   398\n",
       "2013                   474\n",
       "2014                   555\n",
       "2015                   599\n",
       "2016                   682"
      ],
      "text/html": [
       "<div>\n",
       "<style scoped>\n",
       "    .dataframe tbody tr th:only-of-type {\n",
       "        vertical-align: middle;\n",
       "    }\n",
       "\n",
       "    .dataframe tbody tr th {\n",
       "        vertical-align: top;\n",
       "    }\n",
       "\n",
       "    .dataframe thead th {\n",
       "        text-align: right;\n",
       "    }\n",
       "</style>\n",
       "<table border=\"1\" class=\"dataframe\">\n",
       "  <thead>\n",
       "    <tr style=\"text-align: right;\">\n",
       "      <th></th>\n",
       "      <th>Avg. Sale Price/SqFt</th>\n",
       "    </tr>\n",
       "    <tr>\n",
       "      <th>Year</th>\n",
       "      <th></th>\n",
       "    </tr>\n",
       "  </thead>\n",
       "  <tbody>\n",
       "    <tr>\n",
       "      <th>2010</th>\n",
       "      <td>368</td>\n",
       "    </tr>\n",
       "    <tr>\n",
       "      <th>2011</th>\n",
       "      <td>341</td>\n",
       "    </tr>\n",
       "    <tr>\n",
       "      <th>2012</th>\n",
       "      <td>398</td>\n",
       "    </tr>\n",
       "    <tr>\n",
       "      <th>2013</th>\n",
       "      <td>474</td>\n",
       "    </tr>\n",
       "    <tr>\n",
       "      <th>2014</th>\n",
       "      <td>555</td>\n",
       "    </tr>\n",
       "    <tr>\n",
       "      <th>2015</th>\n",
       "      <td>599</td>\n",
       "    </tr>\n",
       "    <tr>\n",
       "      <th>2016</th>\n",
       "      <td>682</td>\n",
       "    </tr>\n",
       "  </tbody>\n",
       "</table>\n",
       "</div>"
      ]
     },
     "metadata": {},
     "execution_count": 84
    }
   ],
   "metadata": {}
  },
  {
   "cell_type": "code",
   "execution_count": 85,
   "source": [
    "avg_grossRent_per_year = sfo_data.groupby('Year')['Gross Rent'].mean().to_frame()\r\n",
    "avg_grossRent_per_year.rename(columns={'Gross Rent':'Avg. Gross Rent'},inplace=True)\r\n",
    "print(type(avg_grossRent_per_year))\r\n",
    "\r\n",
    "avg_grossRent_per_year"
   ],
   "outputs": [
    {
     "output_type": "stream",
     "name": "stdout",
     "text": [
      "<class 'pandas.core.frame.DataFrame'>\n"
     ]
    },
    {
     "output_type": "execute_result",
     "data": {
      "text/plain": [
       "      Avg. Gross Rent\n",
       "Year                 \n",
       "2010             1239\n",
       "2011             1530\n",
       "2012             2324\n",
       "2013             2971\n",
       "2014             3528\n",
       "2015             3739\n",
       "2016             4390"
      ],
      "text/html": [
       "<div>\n",
       "<style scoped>\n",
       "    .dataframe tbody tr th:only-of-type {\n",
       "        vertical-align: middle;\n",
       "    }\n",
       "\n",
       "    .dataframe tbody tr th {\n",
       "        vertical-align: top;\n",
       "    }\n",
       "\n",
       "    .dataframe thead th {\n",
       "        text-align: right;\n",
       "    }\n",
       "</style>\n",
       "<table border=\"1\" class=\"dataframe\">\n",
       "  <thead>\n",
       "    <tr style=\"text-align: right;\">\n",
       "      <th></th>\n",
       "      <th>Avg. Gross Rent</th>\n",
       "    </tr>\n",
       "    <tr>\n",
       "      <th>Year</th>\n",
       "      <th></th>\n",
       "    </tr>\n",
       "  </thead>\n",
       "  <tbody>\n",
       "    <tr>\n",
       "      <th>2010</th>\n",
       "      <td>1239</td>\n",
       "    </tr>\n",
       "    <tr>\n",
       "      <th>2011</th>\n",
       "      <td>1530</td>\n",
       "    </tr>\n",
       "    <tr>\n",
       "      <th>2012</th>\n",
       "      <td>2324</td>\n",
       "    </tr>\n",
       "    <tr>\n",
       "      <th>2013</th>\n",
       "      <td>2971</td>\n",
       "    </tr>\n",
       "    <tr>\n",
       "      <th>2014</th>\n",
       "      <td>3528</td>\n",
       "    </tr>\n",
       "    <tr>\n",
       "      <th>2015</th>\n",
       "      <td>3739</td>\n",
       "    </tr>\n",
       "    <tr>\n",
       "      <th>2016</th>\n",
       "      <td>4390</td>\n",
       "    </tr>\n",
       "  </tbody>\n",
       "</table>\n",
       "</div>"
      ]
     },
     "metadata": {},
     "execution_count": 85
    }
   ],
   "metadata": {}
  },
  {
   "cell_type": "code",
   "execution_count": 86,
   "source": [
    "# Create two line charts, one to plot the average sale price per square foot and another for average gross rent\r\n",
    "\r\n",
    "# Line chart for average sale price per square foot\r\n",
    "plot_avg_salePrice = avg_salePrice_per_year.plot(legend=False)\r\n",
    "plot_avg_salePrice.set_xlabel('Year', fontsize=12)\r\n",
    "plot_avg_salePrice.set_ylabel('Price per SqFt', fontsize=12)\r\n",
    "plot_avg_salePrice.set_title('Average Price per SqFt by Year', fontsize=14, fontweight='bold')\r\n",
    "plot_avg_salePrice = plot_avg_salePrice.figure\r\n",
    "\r\n",
    "# Line chart for average gross rent\r\n",
    "plot_avg_grossRent = avg_grossRent_per_year.plot(legend=False, color='red')\r\n",
    "plot_avg_grossRent.set_xlabel('Year', fontsize=12)\r\n",
    "plot_avg_grossRent.set_ylabel('Gross Rent', fontsize=12)\r\n",
    "plot_avg_grossRent.set_title('Average Gross Rent by Year', fontsize=14, fontweight='bold')\r\n",
    "plot_avg_grossRent = plot_avg_grossRent.figure\r\n",
    "\r\n",
    "plt.show()"
   ],
   "outputs": [
    {
     "output_type": "display_data",
     "data": {
      "text/plain": [
       "<Figure size 432x288 with 1 Axes>"
      ],
      "image/svg+xml": "<?xml version=\"1.0\" encoding=\"utf-8\" standalone=\"no\"?>\r\n<!DOCTYPE svg PUBLIC \"-//W3C//DTD SVG 1.1//EN\"\r\n  \"http://www.w3.org/Graphics/SVG/1.1/DTD/svg11.dtd\">\r\n<!-- Created with matplotlib (https://matplotlib.org/) -->\r\n<svg height=\"280.769687pt\" version=\"1.1\" viewBox=\"0 0 403.62625 280.769687\" width=\"403.62625pt\" xmlns=\"http://www.w3.org/2000/svg\" xmlns:xlink=\"http://www.w3.org/1999/xlink\">\r\n <defs>\r\n  <style type=\"text/css\">\r\n*{stroke-linecap:butt;stroke-linejoin:round;}\r\n  </style>\r\n </defs>\r\n <g id=\"figure_1\">\r\n  <g id=\"patch_1\">\r\n   <path d=\"M 0 280.769687 \r\nL 403.62625 280.769687 \r\nL 403.62625 0 \r\nL 0 0 \r\nz\r\n\" style=\"fill:none;\"/>\r\n  </g>\r\n  <g id=\"axes_1\">\r\n   <g id=\"patch_2\">\r\n    <path d=\"M 48.90125 241.277812 \r\nL 383.70125 241.277812 \r\nL 383.70125 23.837812 \r\nL 48.90125 23.837812 \r\nz\r\n\" style=\"fill:#ffffff;\"/>\r\n   </g>\r\n   <g id=\"matplotlib.axis_1\">\r\n    <g id=\"xtick_1\">\r\n     <g id=\"line2d_1\">\r\n      <defs>\r\n       <path d=\"M 0 0 \r\nL 0 3.5 \r\n\" id=\"me8c0c2fd22\" style=\"stroke:#000000;stroke-width:0.8;\"/>\r\n      </defs>\r\n      <g>\r\n       <use style=\"stroke:#000000;stroke-width:0.8;\" x=\"48.90125\" xlink:href=\"#me8c0c2fd22\" y=\"241.277812\"/>\r\n      </g>\r\n     </g>\r\n     <g id=\"text_1\">\r\n      <!-- 2010 -->\r\n      <defs>\r\n       <path d=\"M 19.1875 8.296875 \r\nL 53.609375 8.296875 \r\nL 53.609375 0 \r\nL 7.328125 0 \r\nL 7.328125 8.296875 \r\nQ 12.9375 14.109375 22.625 23.890625 \r\nQ 32.328125 33.6875 34.8125 36.53125 \r\nQ 39.546875 41.84375 41.421875 45.53125 \r\nQ 43.3125 49.21875 43.3125 52.78125 \r\nQ 43.3125 58.59375 39.234375 62.25 \r\nQ 35.15625 65.921875 28.609375 65.921875 \r\nQ 23.96875 65.921875 18.8125 64.3125 \r\nQ 13.671875 62.703125 7.8125 59.421875 \r\nL 7.8125 69.390625 \r\nQ 13.765625 71.78125 18.9375 73 \r\nQ 24.125 74.21875 28.421875 74.21875 \r\nQ 39.75 74.21875 46.484375 68.546875 \r\nQ 53.21875 62.890625 53.21875 53.421875 \r\nQ 53.21875 48.921875 51.53125 44.890625 \r\nQ 49.859375 40.875 45.40625 35.40625 \r\nQ 44.1875 33.984375 37.640625 27.21875 \r\nQ 31.109375 20.453125 19.1875 8.296875 \r\nz\r\n\" id=\"DejaVuSans-50\"/>\r\n       <path d=\"M 31.78125 66.40625 \r\nQ 24.171875 66.40625 20.328125 58.90625 \r\nQ 16.5 51.421875 16.5 36.375 \r\nQ 16.5 21.390625 20.328125 13.890625 \r\nQ 24.171875 6.390625 31.78125 6.390625 \r\nQ 39.453125 6.390625 43.28125 13.890625 \r\nQ 47.125 21.390625 47.125 36.375 \r\nQ 47.125 51.421875 43.28125 58.90625 \r\nQ 39.453125 66.40625 31.78125 66.40625 \r\nz\r\nM 31.78125 74.21875 \r\nQ 44.046875 74.21875 50.515625 64.515625 \r\nQ 56.984375 54.828125 56.984375 36.375 \r\nQ 56.984375 17.96875 50.515625 8.265625 \r\nQ 44.046875 -1.421875 31.78125 -1.421875 \r\nQ 19.53125 -1.421875 13.0625 8.265625 \r\nQ 6.59375 17.96875 6.59375 36.375 \r\nQ 6.59375 54.828125 13.0625 64.515625 \r\nQ 19.53125 74.21875 31.78125 74.21875 \r\nz\r\n\" id=\"DejaVuSans-48\"/>\r\n       <path d=\"M 12.40625 8.296875 \r\nL 28.515625 8.296875 \r\nL 28.515625 63.921875 \r\nL 10.984375 60.40625 \r\nL 10.984375 69.390625 \r\nL 28.421875 72.90625 \r\nL 38.28125 72.90625 \r\nL 38.28125 8.296875 \r\nL 54.390625 8.296875 \r\nL 54.390625 0 \r\nL 12.40625 0 \r\nz\r\n\" id=\"DejaVuSans-49\"/>\r\n      </defs>\r\n      <g transform=\"translate(36.17625 255.87625)scale(0.1 -0.1)\">\r\n       <use xlink:href=\"#DejaVuSans-50\"/>\r\n       <use x=\"63.623047\" xlink:href=\"#DejaVuSans-48\"/>\r\n       <use x=\"127.246094\" xlink:href=\"#DejaVuSans-49\"/>\r\n       <use x=\"190.869141\" xlink:href=\"#DejaVuSans-48\"/>\r\n      </g>\r\n     </g>\r\n    </g>\r\n    <g id=\"xtick_2\">\r\n     <g id=\"line2d_2\">\r\n      <g>\r\n       <use style=\"stroke:#000000;stroke-width:0.8;\" x=\"104.70125\" xlink:href=\"#me8c0c2fd22\" y=\"241.277812\"/>\r\n      </g>\r\n     </g>\r\n     <g id=\"text_2\">\r\n      <!-- 2011 -->\r\n      <g transform=\"translate(91.97625 255.87625)scale(0.1 -0.1)\">\r\n       <use xlink:href=\"#DejaVuSans-50\"/>\r\n       <use x=\"63.623047\" xlink:href=\"#DejaVuSans-48\"/>\r\n       <use x=\"127.246094\" xlink:href=\"#DejaVuSans-49\"/>\r\n       <use x=\"190.869141\" xlink:href=\"#DejaVuSans-49\"/>\r\n      </g>\r\n     </g>\r\n    </g>\r\n    <g id=\"xtick_3\">\r\n     <g id=\"line2d_3\">\r\n      <g>\r\n       <use style=\"stroke:#000000;stroke-width:0.8;\" x=\"160.50125\" xlink:href=\"#me8c0c2fd22\" y=\"241.277812\"/>\r\n      </g>\r\n     </g>\r\n     <g id=\"text_3\">\r\n      <!-- 2012 -->\r\n      <g transform=\"translate(147.77625 255.87625)scale(0.1 -0.1)\">\r\n       <use xlink:href=\"#DejaVuSans-50\"/>\r\n       <use x=\"63.623047\" xlink:href=\"#DejaVuSans-48\"/>\r\n       <use x=\"127.246094\" xlink:href=\"#DejaVuSans-49\"/>\r\n       <use x=\"190.869141\" xlink:href=\"#DejaVuSans-50\"/>\r\n      </g>\r\n     </g>\r\n    </g>\r\n    <g id=\"xtick_4\">\r\n     <g id=\"line2d_4\">\r\n      <g>\r\n       <use style=\"stroke:#000000;stroke-width:0.8;\" x=\"216.30125\" xlink:href=\"#me8c0c2fd22\" y=\"241.277812\"/>\r\n      </g>\r\n     </g>\r\n     <g id=\"text_4\">\r\n      <!-- 2013 -->\r\n      <defs>\r\n       <path d=\"M 40.578125 39.3125 \r\nQ 47.65625 37.796875 51.625 33 \r\nQ 55.609375 28.21875 55.609375 21.1875 \r\nQ 55.609375 10.40625 48.1875 4.484375 \r\nQ 40.765625 -1.421875 27.09375 -1.421875 \r\nQ 22.515625 -1.421875 17.65625 -0.515625 \r\nQ 12.796875 0.390625 7.625 2.203125 \r\nL 7.625 11.71875 \r\nQ 11.71875 9.328125 16.59375 8.109375 \r\nQ 21.484375 6.890625 26.8125 6.890625 \r\nQ 36.078125 6.890625 40.9375 10.546875 \r\nQ 45.796875 14.203125 45.796875 21.1875 \r\nQ 45.796875 27.640625 41.28125 31.265625 \r\nQ 36.765625 34.90625 28.71875 34.90625 \r\nL 20.21875 34.90625 \r\nL 20.21875 43.015625 \r\nL 29.109375 43.015625 \r\nQ 36.375 43.015625 40.234375 45.921875 \r\nQ 44.09375 48.828125 44.09375 54.296875 \r\nQ 44.09375 59.90625 40.109375 62.90625 \r\nQ 36.140625 65.921875 28.71875 65.921875 \r\nQ 24.65625 65.921875 20.015625 65.03125 \r\nQ 15.375 64.15625 9.8125 62.3125 \r\nL 9.8125 71.09375 \r\nQ 15.4375 72.65625 20.34375 73.4375 \r\nQ 25.25 74.21875 29.59375 74.21875 \r\nQ 40.828125 74.21875 47.359375 69.109375 \r\nQ 53.90625 64.015625 53.90625 55.328125 \r\nQ 53.90625 49.265625 50.4375 45.09375 \r\nQ 46.96875 40.921875 40.578125 39.3125 \r\nz\r\n\" id=\"DejaVuSans-51\"/>\r\n      </defs>\r\n      <g transform=\"translate(203.57625 255.87625)scale(0.1 -0.1)\">\r\n       <use xlink:href=\"#DejaVuSans-50\"/>\r\n       <use x=\"63.623047\" xlink:href=\"#DejaVuSans-48\"/>\r\n       <use x=\"127.246094\" xlink:href=\"#DejaVuSans-49\"/>\r\n       <use x=\"190.869141\" xlink:href=\"#DejaVuSans-51\"/>\r\n      </g>\r\n     </g>\r\n    </g>\r\n    <g id=\"xtick_5\">\r\n     <g id=\"line2d_5\">\r\n      <g>\r\n       <use style=\"stroke:#000000;stroke-width:0.8;\" x=\"272.10125\" xlink:href=\"#me8c0c2fd22\" y=\"241.277812\"/>\r\n      </g>\r\n     </g>\r\n     <g id=\"text_5\">\r\n      <!-- 2014 -->\r\n      <defs>\r\n       <path d=\"M 37.796875 64.3125 \r\nL 12.890625 25.390625 \r\nL 37.796875 25.390625 \r\nz\r\nM 35.203125 72.90625 \r\nL 47.609375 72.90625 \r\nL 47.609375 25.390625 \r\nL 58.015625 25.390625 \r\nL 58.015625 17.1875 \r\nL 47.609375 17.1875 \r\nL 47.609375 0 \r\nL 37.796875 0 \r\nL 37.796875 17.1875 \r\nL 4.890625 17.1875 \r\nL 4.890625 26.703125 \r\nz\r\n\" id=\"DejaVuSans-52\"/>\r\n      </defs>\r\n      <g transform=\"translate(259.37625 255.87625)scale(0.1 -0.1)\">\r\n       <use xlink:href=\"#DejaVuSans-50\"/>\r\n       <use x=\"63.623047\" xlink:href=\"#DejaVuSans-48\"/>\r\n       <use x=\"127.246094\" xlink:href=\"#DejaVuSans-49\"/>\r\n       <use x=\"190.869141\" xlink:href=\"#DejaVuSans-52\"/>\r\n      </g>\r\n     </g>\r\n    </g>\r\n    <g id=\"xtick_6\">\r\n     <g id=\"line2d_6\">\r\n      <g>\r\n       <use style=\"stroke:#000000;stroke-width:0.8;\" x=\"327.90125\" xlink:href=\"#me8c0c2fd22\" y=\"241.277812\"/>\r\n      </g>\r\n     </g>\r\n     <g id=\"text_6\">\r\n      <!-- 2015 -->\r\n      <defs>\r\n       <path d=\"M 10.796875 72.90625 \r\nL 49.515625 72.90625 \r\nL 49.515625 64.59375 \r\nL 19.828125 64.59375 \r\nL 19.828125 46.734375 \r\nQ 21.96875 47.46875 24.109375 47.828125 \r\nQ 26.265625 48.1875 28.421875 48.1875 \r\nQ 40.625 48.1875 47.75 41.5 \r\nQ 54.890625 34.8125 54.890625 23.390625 \r\nQ 54.890625 11.625 47.5625 5.09375 \r\nQ 40.234375 -1.421875 26.90625 -1.421875 \r\nQ 22.3125 -1.421875 17.546875 -0.640625 \r\nQ 12.796875 0.140625 7.71875 1.703125 \r\nL 7.71875 11.625 \r\nQ 12.109375 9.234375 16.796875 8.0625 \r\nQ 21.484375 6.890625 26.703125 6.890625 \r\nQ 35.15625 6.890625 40.078125 11.328125 \r\nQ 45.015625 15.765625 45.015625 23.390625 \r\nQ 45.015625 31 40.078125 35.4375 \r\nQ 35.15625 39.890625 26.703125 39.890625 \r\nQ 22.75 39.890625 18.8125 39.015625 \r\nQ 14.890625 38.140625 10.796875 36.28125 \r\nz\r\n\" id=\"DejaVuSans-53\"/>\r\n      </defs>\r\n      <g transform=\"translate(315.17625 255.87625)scale(0.1 -0.1)\">\r\n       <use xlink:href=\"#DejaVuSans-50\"/>\r\n       <use x=\"63.623047\" xlink:href=\"#DejaVuSans-48\"/>\r\n       <use x=\"127.246094\" xlink:href=\"#DejaVuSans-49\"/>\r\n       <use x=\"190.869141\" xlink:href=\"#DejaVuSans-53\"/>\r\n      </g>\r\n     </g>\r\n    </g>\r\n    <g id=\"xtick_7\">\r\n     <g id=\"line2d_7\">\r\n      <g>\r\n       <use style=\"stroke:#000000;stroke-width:0.8;\" x=\"383.70125\" xlink:href=\"#me8c0c2fd22\" y=\"241.277812\"/>\r\n      </g>\r\n     </g>\r\n     <g id=\"text_7\">\r\n      <!-- 2016 -->\r\n      <defs>\r\n       <path d=\"M 33.015625 40.375 \r\nQ 26.375 40.375 22.484375 35.828125 \r\nQ 18.609375 31.296875 18.609375 23.390625 \r\nQ 18.609375 15.53125 22.484375 10.953125 \r\nQ 26.375 6.390625 33.015625 6.390625 \r\nQ 39.65625 6.390625 43.53125 10.953125 \r\nQ 47.40625 15.53125 47.40625 23.390625 \r\nQ 47.40625 31.296875 43.53125 35.828125 \r\nQ 39.65625 40.375 33.015625 40.375 \r\nz\r\nM 52.59375 71.296875 \r\nL 52.59375 62.3125 \r\nQ 48.875 64.0625 45.09375 64.984375 \r\nQ 41.3125 65.921875 37.59375 65.921875 \r\nQ 27.828125 65.921875 22.671875 59.328125 \r\nQ 17.53125 52.734375 16.796875 39.40625 \r\nQ 19.671875 43.65625 24.015625 45.921875 \r\nQ 28.375 48.1875 33.59375 48.1875 \r\nQ 44.578125 48.1875 50.953125 41.515625 \r\nQ 57.328125 34.859375 57.328125 23.390625 \r\nQ 57.328125 12.15625 50.6875 5.359375 \r\nQ 44.046875 -1.421875 33.015625 -1.421875 \r\nQ 20.359375 -1.421875 13.671875 8.265625 \r\nQ 6.984375 17.96875 6.984375 36.375 \r\nQ 6.984375 53.65625 15.1875 63.9375 \r\nQ 23.390625 74.21875 37.203125 74.21875 \r\nQ 40.921875 74.21875 44.703125 73.484375 \r\nQ 48.484375 72.75 52.59375 71.296875 \r\nz\r\n\" id=\"DejaVuSans-54\"/>\r\n      </defs>\r\n      <g transform=\"translate(370.97625 255.87625)scale(0.1 -0.1)\">\r\n       <use xlink:href=\"#DejaVuSans-50\"/>\r\n       <use x=\"63.623047\" xlink:href=\"#DejaVuSans-48\"/>\r\n       <use x=\"127.246094\" xlink:href=\"#DejaVuSans-49\"/>\r\n       <use x=\"190.869141\" xlink:href=\"#DejaVuSans-54\"/>\r\n      </g>\r\n     </g>\r\n    </g>\r\n    <g id=\"text_8\">\r\n     <!-- Year -->\r\n     <defs>\r\n      <path d=\"M -0.203125 72.90625 \r\nL 10.40625 72.90625 \r\nL 30.609375 42.921875 \r\nL 50.6875 72.90625 \r\nL 61.28125 72.90625 \r\nL 35.5 34.71875 \r\nL 35.5 0 \r\nL 25.59375 0 \r\nL 25.59375 34.71875 \r\nz\r\n\" id=\"DejaVuSans-89\"/>\r\n      <path d=\"M 56.203125 29.59375 \r\nL 56.203125 25.203125 \r\nL 14.890625 25.203125 \r\nQ 15.484375 15.921875 20.484375 11.0625 \r\nQ 25.484375 6.203125 34.421875 6.203125 \r\nQ 39.59375 6.203125 44.453125 7.46875 \r\nQ 49.3125 8.734375 54.109375 11.28125 \r\nL 54.109375 2.78125 \r\nQ 49.265625 0.734375 44.1875 -0.34375 \r\nQ 39.109375 -1.421875 33.890625 -1.421875 \r\nQ 20.796875 -1.421875 13.15625 6.1875 \r\nQ 5.515625 13.8125 5.515625 26.8125 \r\nQ 5.515625 40.234375 12.765625 48.109375 \r\nQ 20.015625 56 32.328125 56 \r\nQ 43.359375 56 49.78125 48.890625 \r\nQ 56.203125 41.796875 56.203125 29.59375 \r\nz\r\nM 47.21875 32.234375 \r\nQ 47.125 39.59375 43.09375 43.984375 \r\nQ 39.0625 48.390625 32.421875 48.390625 \r\nQ 24.90625 48.390625 20.390625 44.140625 \r\nQ 15.875 39.890625 15.1875 32.171875 \r\nz\r\n\" id=\"DejaVuSans-101\"/>\r\n      <path d=\"M 34.28125 27.484375 \r\nQ 23.390625 27.484375 19.1875 25 \r\nQ 14.984375 22.515625 14.984375 16.5 \r\nQ 14.984375 11.71875 18.140625 8.90625 \r\nQ 21.296875 6.109375 26.703125 6.109375 \r\nQ 34.1875 6.109375 38.703125 11.40625 \r\nQ 43.21875 16.703125 43.21875 25.484375 \r\nL 43.21875 27.484375 \r\nz\r\nM 52.203125 31.203125 \r\nL 52.203125 0 \r\nL 43.21875 0 \r\nL 43.21875 8.296875 \r\nQ 40.140625 3.328125 35.546875 0.953125 \r\nQ 30.953125 -1.421875 24.3125 -1.421875 \r\nQ 15.921875 -1.421875 10.953125 3.296875 \r\nQ 6 8.015625 6 15.921875 \r\nQ 6 25.140625 12.171875 29.828125 \r\nQ 18.359375 34.515625 30.609375 34.515625 \r\nL 43.21875 34.515625 \r\nL 43.21875 35.40625 \r\nQ 43.21875 41.609375 39.140625 45 \r\nQ 35.0625 48.390625 27.6875 48.390625 \r\nQ 23 48.390625 18.546875 47.265625 \r\nQ 14.109375 46.140625 10.015625 43.890625 \r\nL 10.015625 52.203125 \r\nQ 14.9375 54.109375 19.578125 55.046875 \r\nQ 24.21875 56 28.609375 56 \r\nQ 40.484375 56 46.34375 49.84375 \r\nQ 52.203125 43.703125 52.203125 31.203125 \r\nz\r\n\" id=\"DejaVuSans-97\"/>\r\n      <path d=\"M 41.109375 46.296875 \r\nQ 39.59375 47.171875 37.8125 47.578125 \r\nQ 36.03125 48 33.890625 48 \r\nQ 26.265625 48 22.1875 43.046875 \r\nQ 18.109375 38.09375 18.109375 28.8125 \r\nL 18.109375 0 \r\nL 9.078125 0 \r\nL 9.078125 54.6875 \r\nL 18.109375 54.6875 \r\nL 18.109375 46.1875 \r\nQ 20.953125 51.171875 25.484375 53.578125 \r\nQ 30.03125 56 36.53125 56 \r\nQ 37.453125 56 38.578125 55.875 \r\nQ 39.703125 55.765625 41.0625 55.515625 \r\nz\r\n\" id=\"DejaVuSans-114\"/>\r\n     </defs>\r\n     <g transform=\"translate(202.813438 271.074062)scale(0.12 -0.12)\">\r\n      <use xlink:href=\"#DejaVuSans-89\"/>\r\n      <use x=\"60.880859\" xlink:href=\"#DejaVuSans-101\"/>\r\n      <use x=\"122.404297\" xlink:href=\"#DejaVuSans-97\"/>\r\n      <use x=\"183.683594\" xlink:href=\"#DejaVuSans-114\"/>\r\n     </g>\r\n    </g>\r\n   </g>\r\n   <g id=\"matplotlib.axis_2\">\r\n    <g id=\"ytick_1\">\r\n     <g id=\"line2d_8\">\r\n      <defs>\r\n       <path d=\"M 0 0 \r\nL -3.5 0 \r\n\" id=\"m8c58c9d6af\" style=\"stroke:#000000;stroke-width:0.8;\"/>\r\n      </defs>\r\n      <g>\r\n       <use style=\"stroke:#000000;stroke-width:0.8;\" x=\"48.90125\" xlink:href=\"#m8c58c9d6af\" y=\"226.177007\"/>\r\n      </g>\r\n     </g>\r\n     <g id=\"text_9\">\r\n      <!-- 350 -->\r\n      <g transform=\"translate(22.81375 229.976226)scale(0.1 -0.1)\">\r\n       <use xlink:href=\"#DejaVuSans-51\"/>\r\n       <use x=\"63.623047\" xlink:href=\"#DejaVuSans-53\"/>\r\n       <use x=\"127.246094\" xlink:href=\"#DejaVuSans-48\"/>\r\n      </g>\r\n     </g>\r\n    </g>\r\n    <g id=\"ytick_2\">\r\n     <g id=\"line2d_9\">\r\n      <g>\r\n       <use style=\"stroke:#000000;stroke-width:0.8;\" x=\"48.90125\" xlink:href=\"#m8c58c9d6af\" y=\"197.192737\"/>\r\n      </g>\r\n     </g>\r\n     <g id=\"text_10\">\r\n      <!-- 400 -->\r\n      <g transform=\"translate(22.81375 200.991955)scale(0.1 -0.1)\">\r\n       <use xlink:href=\"#DejaVuSans-52\"/>\r\n       <use x=\"63.623047\" xlink:href=\"#DejaVuSans-48\"/>\r\n       <use x=\"127.246094\" xlink:href=\"#DejaVuSans-48\"/>\r\n      </g>\r\n     </g>\r\n    </g>\r\n    <g id=\"ytick_3\">\r\n     <g id=\"line2d_10\">\r\n      <g>\r\n       <use style=\"stroke:#000000;stroke-width:0.8;\" x=\"48.90125\" xlink:href=\"#m8c58c9d6af\" y=\"168.208466\"/>\r\n      </g>\r\n     </g>\r\n     <g id=\"text_11\">\r\n      <!-- 450 -->\r\n      <g transform=\"translate(22.81375 172.007684)scale(0.1 -0.1)\">\r\n       <use xlink:href=\"#DejaVuSans-52\"/>\r\n       <use x=\"63.623047\" xlink:href=\"#DejaVuSans-53\"/>\r\n       <use x=\"127.246094\" xlink:href=\"#DejaVuSans-48\"/>\r\n      </g>\r\n     </g>\r\n    </g>\r\n    <g id=\"ytick_4\">\r\n     <g id=\"line2d_11\">\r\n      <g>\r\n       <use style=\"stroke:#000000;stroke-width:0.8;\" x=\"48.90125\" xlink:href=\"#m8c58c9d6af\" y=\"139.224195\"/>\r\n      </g>\r\n     </g>\r\n     <g id=\"text_12\">\r\n      <!-- 500 -->\r\n      <g transform=\"translate(22.81375 143.023414)scale(0.1 -0.1)\">\r\n       <use xlink:href=\"#DejaVuSans-53\"/>\r\n       <use x=\"63.623047\" xlink:href=\"#DejaVuSans-48\"/>\r\n       <use x=\"127.246094\" xlink:href=\"#DejaVuSans-48\"/>\r\n      </g>\r\n     </g>\r\n    </g>\r\n    <g id=\"ytick_5\">\r\n     <g id=\"line2d_12\">\r\n      <g>\r\n       <use style=\"stroke:#000000;stroke-width:0.8;\" x=\"48.90125\" xlink:href=\"#m8c58c9d6af\" y=\"110.239924\"/>\r\n      </g>\r\n     </g>\r\n     <g id=\"text_13\">\r\n      <!-- 550 -->\r\n      <g transform=\"translate(22.81375 114.039143)scale(0.1 -0.1)\">\r\n       <use xlink:href=\"#DejaVuSans-53\"/>\r\n       <use x=\"63.623047\" xlink:href=\"#DejaVuSans-53\"/>\r\n       <use x=\"127.246094\" xlink:href=\"#DejaVuSans-48\"/>\r\n      </g>\r\n     </g>\r\n    </g>\r\n    <g id=\"ytick_6\">\r\n     <g id=\"line2d_13\">\r\n      <g>\r\n       <use style=\"stroke:#000000;stroke-width:0.8;\" x=\"48.90125\" xlink:href=\"#m8c58c9d6af\" y=\"81.255653\"/>\r\n      </g>\r\n     </g>\r\n     <g id=\"text_14\">\r\n      <!-- 600 -->\r\n      <g transform=\"translate(22.81375 85.054872)scale(0.1 -0.1)\">\r\n       <use xlink:href=\"#DejaVuSans-54\"/>\r\n       <use x=\"63.623047\" xlink:href=\"#DejaVuSans-48\"/>\r\n       <use x=\"127.246094\" xlink:href=\"#DejaVuSans-48\"/>\r\n      </g>\r\n     </g>\r\n    </g>\r\n    <g id=\"ytick_7\">\r\n     <g id=\"line2d_14\">\r\n      <g>\r\n       <use style=\"stroke:#000000;stroke-width:0.8;\" x=\"48.90125\" xlink:href=\"#m8c58c9d6af\" y=\"52.271382\"/>\r\n      </g>\r\n     </g>\r\n     <g id=\"text_15\">\r\n      <!-- 650 -->\r\n      <g transform=\"translate(22.81375 56.070601)scale(0.1 -0.1)\">\r\n       <use xlink:href=\"#DejaVuSans-54\"/>\r\n       <use x=\"63.623047\" xlink:href=\"#DejaVuSans-53\"/>\r\n       <use x=\"127.246094\" xlink:href=\"#DejaVuSans-48\"/>\r\n      </g>\r\n     </g>\r\n    </g>\r\n    <g id=\"text_16\">\r\n     <!-- Price per SqFt -->\r\n     <defs>\r\n      <path d=\"M 19.671875 64.796875 \r\nL 19.671875 37.40625 \r\nL 32.078125 37.40625 \r\nQ 38.96875 37.40625 42.71875 40.96875 \r\nQ 46.484375 44.53125 46.484375 51.125 \r\nQ 46.484375 57.671875 42.71875 61.234375 \r\nQ 38.96875 64.796875 32.078125 64.796875 \r\nz\r\nM 9.8125 72.90625 \r\nL 32.078125 72.90625 \r\nQ 44.34375 72.90625 50.609375 67.359375 \r\nQ 56.890625 61.8125 56.890625 51.125 \r\nQ 56.890625 40.328125 50.609375 34.8125 \r\nQ 44.34375 29.296875 32.078125 29.296875 \r\nL 19.671875 29.296875 \r\nL 19.671875 0 \r\nL 9.8125 0 \r\nz\r\n\" id=\"DejaVuSans-80\"/>\r\n      <path d=\"M 9.421875 54.6875 \r\nL 18.40625 54.6875 \r\nL 18.40625 0 \r\nL 9.421875 0 \r\nz\r\nM 9.421875 75.984375 \r\nL 18.40625 75.984375 \r\nL 18.40625 64.59375 \r\nL 9.421875 64.59375 \r\nz\r\n\" id=\"DejaVuSans-105\"/>\r\n      <path d=\"M 48.78125 52.59375 \r\nL 48.78125 44.1875 \r\nQ 44.96875 46.296875 41.140625 47.34375 \r\nQ 37.3125 48.390625 33.40625 48.390625 \r\nQ 24.65625 48.390625 19.8125 42.84375 \r\nQ 14.984375 37.3125 14.984375 27.296875 \r\nQ 14.984375 17.28125 19.8125 11.734375 \r\nQ 24.65625 6.203125 33.40625 6.203125 \r\nQ 37.3125 6.203125 41.140625 7.25 \r\nQ 44.96875 8.296875 48.78125 10.40625 \r\nL 48.78125 2.09375 \r\nQ 45.015625 0.34375 40.984375 -0.53125 \r\nQ 36.96875 -1.421875 32.421875 -1.421875 \r\nQ 20.0625 -1.421875 12.78125 6.34375 \r\nQ 5.515625 14.109375 5.515625 27.296875 \r\nQ 5.515625 40.671875 12.859375 48.328125 \r\nQ 20.21875 56 33.015625 56 \r\nQ 37.15625 56 41.109375 55.140625 \r\nQ 45.0625 54.296875 48.78125 52.59375 \r\nz\r\n\" id=\"DejaVuSans-99\"/>\r\n      <path id=\"DejaVuSans-32\"/>\r\n      <path d=\"M 18.109375 8.203125 \r\nL 18.109375 -20.796875 \r\nL 9.078125 -20.796875 \r\nL 9.078125 54.6875 \r\nL 18.109375 54.6875 \r\nL 18.109375 46.390625 \r\nQ 20.953125 51.265625 25.265625 53.625 \r\nQ 29.59375 56 35.59375 56 \r\nQ 45.5625 56 51.78125 48.09375 \r\nQ 58.015625 40.1875 58.015625 27.296875 \r\nQ 58.015625 14.40625 51.78125 6.484375 \r\nQ 45.5625 -1.421875 35.59375 -1.421875 \r\nQ 29.59375 -1.421875 25.265625 0.953125 \r\nQ 20.953125 3.328125 18.109375 8.203125 \r\nz\r\nM 48.6875 27.296875 \r\nQ 48.6875 37.203125 44.609375 42.84375 \r\nQ 40.53125 48.484375 33.40625 48.484375 \r\nQ 26.265625 48.484375 22.1875 42.84375 \r\nQ 18.109375 37.203125 18.109375 27.296875 \r\nQ 18.109375 17.390625 22.1875 11.75 \r\nQ 26.265625 6.109375 33.40625 6.109375 \r\nQ 40.53125 6.109375 44.609375 11.75 \r\nQ 48.6875 17.390625 48.6875 27.296875 \r\nz\r\n\" id=\"DejaVuSans-112\"/>\r\n      <path d=\"M 53.515625 70.515625 \r\nL 53.515625 60.890625 \r\nQ 47.90625 63.578125 42.921875 64.890625 \r\nQ 37.9375 66.21875 33.296875 66.21875 \r\nQ 25.25 66.21875 20.875 63.09375 \r\nQ 16.5 59.96875 16.5 54.203125 \r\nQ 16.5 49.359375 19.40625 46.890625 \r\nQ 22.3125 44.4375 30.421875 42.921875 \r\nL 36.375 41.703125 \r\nQ 47.40625 39.59375 52.65625 34.296875 \r\nQ 57.90625 29 57.90625 20.125 \r\nQ 57.90625 9.515625 50.796875 4.046875 \r\nQ 43.703125 -1.421875 29.984375 -1.421875 \r\nQ 24.8125 -1.421875 18.96875 -0.25 \r\nQ 13.140625 0.921875 6.890625 3.21875 \r\nL 6.890625 13.375 \r\nQ 12.890625 10.015625 18.65625 8.296875 \r\nQ 24.421875 6.59375 29.984375 6.59375 \r\nQ 38.421875 6.59375 43.015625 9.90625 \r\nQ 47.609375 13.234375 47.609375 19.390625 \r\nQ 47.609375 24.75 44.3125 27.78125 \r\nQ 41.015625 30.8125 33.5 32.328125 \r\nL 27.484375 33.5 \r\nQ 16.453125 35.6875 11.515625 40.375 \r\nQ 6.59375 45.0625 6.59375 53.421875 \r\nQ 6.59375 63.09375 13.40625 68.65625 \r\nQ 20.21875 74.21875 32.171875 74.21875 \r\nQ 37.3125 74.21875 42.625 73.28125 \r\nQ 47.953125 72.359375 53.515625 70.515625 \r\nz\r\n\" id=\"DejaVuSans-83\"/>\r\n      <path d=\"M 14.796875 27.296875 \r\nQ 14.796875 17.390625 18.875 11.75 \r\nQ 22.953125 6.109375 30.078125 6.109375 \r\nQ 37.203125 6.109375 41.296875 11.75 \r\nQ 45.40625 17.390625 45.40625 27.296875 \r\nQ 45.40625 37.203125 41.296875 42.84375 \r\nQ 37.203125 48.484375 30.078125 48.484375 \r\nQ 22.953125 48.484375 18.875 42.84375 \r\nQ 14.796875 37.203125 14.796875 27.296875 \r\nz\r\nM 45.40625 8.203125 \r\nQ 42.578125 3.328125 38.25 0.953125 \r\nQ 33.9375 -1.421875 27.875 -1.421875 \r\nQ 17.96875 -1.421875 11.734375 6.484375 \r\nQ 5.515625 14.40625 5.515625 27.296875 \r\nQ 5.515625 40.1875 11.734375 48.09375 \r\nQ 17.96875 56 27.875 56 \r\nQ 33.9375 56 38.25 53.625 \r\nQ 42.578125 51.265625 45.40625 46.390625 \r\nL 45.40625 54.6875 \r\nL 54.390625 54.6875 \r\nL 54.390625 -20.796875 \r\nL 45.40625 -20.796875 \r\nz\r\n\" id=\"DejaVuSans-113\"/>\r\n      <path d=\"M 9.8125 72.90625 \r\nL 51.703125 72.90625 \r\nL 51.703125 64.59375 \r\nL 19.671875 64.59375 \r\nL 19.671875 43.109375 \r\nL 48.578125 43.109375 \r\nL 48.578125 34.8125 \r\nL 19.671875 34.8125 \r\nL 19.671875 0 \r\nL 9.8125 0 \r\nz\r\n\" id=\"DejaVuSans-70\"/>\r\n      <path d=\"M 18.3125 70.21875 \r\nL 18.3125 54.6875 \r\nL 36.8125 54.6875 \r\nL 36.8125 47.703125 \r\nL 18.3125 47.703125 \r\nL 18.3125 18.015625 \r\nQ 18.3125 11.328125 20.140625 9.421875 \r\nQ 21.96875 7.515625 27.59375 7.515625 \r\nL 36.8125 7.515625 \r\nL 36.8125 0 \r\nL 27.59375 0 \r\nQ 17.1875 0 13.234375 3.875 \r\nQ 9.28125 7.765625 9.28125 18.015625 \r\nL 9.28125 47.703125 \r\nL 2.6875 47.703125 \r\nL 2.6875 54.6875 \r\nL 9.28125 54.6875 \r\nL 9.28125 70.21875 \r\nz\r\n\" id=\"DejaVuSans-116\"/>\r\n     </defs>\r\n     <g transform=\"translate(16.318125 174.501562)rotate(-90)scale(0.12 -0.12)\">\r\n      <use xlink:href=\"#DejaVuSans-80\"/>\r\n      <use x=\"60.287109\" xlink:href=\"#DejaVuSans-114\"/>\r\n      <use x=\"101.400391\" xlink:href=\"#DejaVuSans-105\"/>\r\n      <use x=\"129.183594\" xlink:href=\"#DejaVuSans-99\"/>\r\n      <use x=\"184.164062\" xlink:href=\"#DejaVuSans-101\"/>\r\n      <use x=\"245.6875\" xlink:href=\"#DejaVuSans-32\"/>\r\n      <use x=\"277.474609\" xlink:href=\"#DejaVuSans-112\"/>\r\n      <use x=\"340.951172\" xlink:href=\"#DejaVuSans-101\"/>\r\n      <use x=\"402.474609\" xlink:href=\"#DejaVuSans-114\"/>\r\n      <use x=\"443.587891\" xlink:href=\"#DejaVuSans-32\"/>\r\n      <use x=\"475.375\" xlink:href=\"#DejaVuSans-83\"/>\r\n      <use x=\"538.851562\" xlink:href=\"#DejaVuSans-113\"/>\r\n      <use x=\"602.328125\" xlink:href=\"#DejaVuSans-70\"/>\r\n      <use x=\"659.847656\" xlink:href=\"#DejaVuSans-116\"/>\r\n     </g>\r\n    </g>\r\n   </g>\r\n   <g id=\"line2d_15\">\r\n    <path clip-path=\"url(#p8d24be8017)\" d=\"M 48.90125 215.74267 \r\nL 104.70125 231.394176 \r\nL 160.50125 198.352107 \r\nL 216.30125 154.296016 \r\nL 272.10125 107.341497 \r\nL 327.90125 81.835338 \r\nL 383.70125 33.721449 \r\n\" style=\"fill:none;stroke:#1f77b4;stroke-linecap:square;stroke-width:1.5;\"/>\r\n   </g>\r\n   <g id=\"patch_3\">\r\n    <path d=\"M 48.90125 241.277812 \r\nL 48.90125 23.837812 \r\n\" style=\"fill:none;stroke:#000000;stroke-linecap:square;stroke-linejoin:miter;stroke-width:0.8;\"/>\r\n   </g>\r\n   <g id=\"patch_4\">\r\n    <path d=\"M 383.70125 241.277812 \r\nL 383.70125 23.837812 \r\n\" style=\"fill:none;stroke:#000000;stroke-linecap:square;stroke-linejoin:miter;stroke-width:0.8;\"/>\r\n   </g>\r\n   <g id=\"patch_5\">\r\n    <path d=\"M 48.90125 241.277812 \r\nL 383.70125 241.277812 \r\n\" style=\"fill:none;stroke:#000000;stroke-linecap:square;stroke-linejoin:miter;stroke-width:0.8;\"/>\r\n   </g>\r\n   <g id=\"patch_6\">\r\n    <path d=\"M 48.90125 23.837812 \r\nL 383.70125 23.837812 \r\n\" style=\"fill:none;stroke:#000000;stroke-linecap:square;stroke-linejoin:miter;stroke-width:0.8;\"/>\r\n   </g>\r\n   <g id=\"text_17\">\r\n    <!-- Average Price per SqFt by Year -->\r\n    <defs>\r\n     <path d=\"M 53.421875 13.28125 \r\nL 24.03125 13.28125 \r\nL 19.390625 0 \r\nL 0.484375 0 \r\nL 27.484375 72.90625 \r\nL 49.90625 72.90625 \r\nL 76.90625 0 \r\nL 58.015625 0 \r\nz\r\nM 28.71875 26.8125 \r\nL 48.6875 26.8125 \r\nL 38.71875 55.8125 \r\nz\r\n\" id=\"DejaVuSans-Bold-65\"/>\r\n     <path d=\"M 1.515625 54.6875 \r\nL 19 54.6875 \r\nL 32.625 16.890625 \r\nL 46.1875 54.6875 \r\nL 63.71875 54.6875 \r\nL 42.1875 0 \r\nL 23 0 \r\nz\r\n\" id=\"DejaVuSans-Bold-118\"/>\r\n     <path d=\"M 62.984375 27.484375 \r\nL 62.984375 22.515625 \r\nL 22.125 22.515625 \r\nQ 22.75 16.359375 26.5625 13.28125 \r\nQ 30.375 10.203125 37.203125 10.203125 \r\nQ 42.71875 10.203125 48.5 11.84375 \r\nQ 54.296875 13.484375 60.40625 16.796875 \r\nL 60.40625 3.328125 \r\nQ 54.203125 0.984375 48 -0.21875 \r\nQ 41.796875 -1.421875 35.59375 -1.421875 \r\nQ 20.75 -1.421875 12.515625 6.125 \r\nQ 4.296875 13.671875 4.296875 27.296875 \r\nQ 4.296875 40.671875 12.375 48.328125 \r\nQ 20.453125 56 34.625 56 \r\nQ 47.515625 56 55.25 48.234375 \r\nQ 62.984375 40.484375 62.984375 27.484375 \r\nz\r\nM 45.015625 33.296875 \r\nQ 45.015625 38.28125 42.109375 41.328125 \r\nQ 39.203125 44.390625 34.515625 44.390625 \r\nQ 29.4375 44.390625 26.265625 41.53125 \r\nQ 23.09375 38.671875 22.3125 33.296875 \r\nz\r\n\" id=\"DejaVuSans-Bold-101\"/>\r\n     <path d=\"M 49.03125 39.796875 \r\nQ 46.734375 40.875 44.453125 41.375 \r\nQ 42.1875 41.890625 39.890625 41.890625 \r\nQ 33.15625 41.890625 29.515625 37.5625 \r\nQ 25.875 33.25 25.875 25.203125 \r\nL 25.875 0 \r\nL 8.40625 0 \r\nL 8.40625 54.6875 \r\nL 25.875 54.6875 \r\nL 25.875 45.703125 \r\nQ 29.25 51.078125 33.609375 53.53125 \r\nQ 37.984375 56 44.09375 56 \r\nQ 44.96875 56 45.984375 55.921875 \r\nQ 47.015625 55.859375 48.96875 55.609375 \r\nz\r\n\" id=\"DejaVuSans-Bold-114\"/>\r\n     <path d=\"M 32.90625 24.609375 \r\nQ 27.4375 24.609375 24.671875 22.75 \r\nQ 21.921875 20.90625 21.921875 17.28125 \r\nQ 21.921875 13.96875 24.140625 12.078125 \r\nQ 26.375 10.203125 30.328125 10.203125 \r\nQ 35.25 10.203125 38.625 13.734375 \r\nQ 42 17.28125 42 22.609375 \r\nL 42 24.609375 \r\nz\r\nM 59.625 31.203125 \r\nL 59.625 0 \r\nL 42 0 \r\nL 42 8.109375 \r\nQ 38.484375 3.125 34.078125 0.84375 \r\nQ 29.6875 -1.421875 23.390625 -1.421875 \r\nQ 14.890625 -1.421875 9.59375 3.53125 \r\nQ 4.296875 8.5 4.296875 16.40625 \r\nQ 4.296875 26.03125 10.90625 30.515625 \r\nQ 17.53125 35.015625 31.6875 35.015625 \r\nL 42 35.015625 \r\nL 42 36.375 \r\nQ 42 40.53125 38.71875 42.453125 \r\nQ 35.453125 44.390625 28.515625 44.390625 \r\nQ 22.90625 44.390625 18.0625 43.265625 \r\nQ 13.234375 42.140625 9.078125 39.890625 \r\nL 9.078125 53.21875 \r\nQ 14.703125 54.59375 20.359375 55.296875 \r\nQ 26.03125 56 31.6875 56 \r\nQ 46.484375 56 53.046875 50.171875 \r\nQ 59.625 44.34375 59.625 31.203125 \r\nz\r\n\" id=\"DejaVuSans-Bold-97\"/>\r\n     <path d=\"M 45.609375 9.28125 \r\nQ 42 4.5 37.640625 2.25 \r\nQ 33.296875 0 27.59375 0 \r\nQ 17.578125 0 11.03125 7.875 \r\nQ 4.5 15.765625 4.5 27.984375 \r\nQ 4.5 40.234375 11.03125 48.0625 \r\nQ 17.578125 55.90625 27.59375 55.90625 \r\nQ 33.296875 55.90625 37.640625 53.65625 \r\nQ 42 51.421875 45.609375 46.578125 \r\nL 45.609375 54.6875 \r\nL 63.1875 54.6875 \r\nL 63.1875 5.515625 \r\nQ 63.1875 -7.671875 54.859375 -14.625 \r\nQ 46.53125 -21.578125 30.71875 -21.578125 \r\nQ 25.59375 -21.578125 20.796875 -20.796875 \r\nQ 16.015625 -20.015625 11.1875 -18.40625 \r\nL 11.1875 -4.78125 \r\nQ 15.765625 -7.421875 20.15625 -8.71875 \r\nQ 24.5625 -10.015625 29 -10.015625 \r\nQ 37.59375 -10.015625 41.59375 -6.25 \r\nQ 45.609375 -2.484375 45.609375 5.515625 \r\nz\r\nM 34.078125 43.3125 \r\nQ 28.65625 43.3125 25.625 39.296875 \r\nQ 22.609375 35.296875 22.609375 27.984375 \r\nQ 22.609375 20.453125 25.53125 16.578125 \r\nQ 28.46875 12.703125 34.078125 12.703125 \r\nQ 39.546875 12.703125 42.578125 16.703125 \r\nQ 45.609375 20.703125 45.609375 27.984375 \r\nQ 45.609375 35.296875 42.578125 39.296875 \r\nQ 39.546875 43.3125 34.078125 43.3125 \r\nz\r\n\" id=\"DejaVuSans-Bold-103\"/>\r\n     <path id=\"DejaVuSans-Bold-32\"/>\r\n     <path d=\"M 9.1875 72.90625 \r\nL 40.375 72.90625 \r\nQ 54.296875 72.90625 61.734375 66.71875 \r\nQ 69.1875 60.546875 69.1875 49.125 \r\nQ 69.1875 37.640625 61.734375 31.46875 \r\nQ 54.296875 25.296875 40.375 25.296875 \r\nL 27.984375 25.296875 \r\nL 27.984375 0 \r\nL 9.1875 0 \r\nz\r\nM 27.984375 59.28125 \r\nL 27.984375 38.921875 \r\nL 38.375 38.921875 \r\nQ 43.84375 38.921875 46.828125 41.578125 \r\nQ 49.8125 44.234375 49.8125 49.125 \r\nQ 49.8125 54 46.828125 56.640625 \r\nQ 43.84375 59.28125 38.375 59.28125 \r\nz\r\n\" id=\"DejaVuSans-Bold-80\"/>\r\n     <path d=\"M 8.40625 54.6875 \r\nL 25.875 54.6875 \r\nL 25.875 0 \r\nL 8.40625 0 \r\nz\r\nM 8.40625 75.984375 \r\nL 25.875 75.984375 \r\nL 25.875 61.71875 \r\nL 8.40625 61.71875 \r\nz\r\n\" id=\"DejaVuSans-Bold-105\"/>\r\n     <path d=\"M 52.59375 52.984375 \r\nL 52.59375 38.71875 \r\nQ 49.03125 41.15625 45.4375 42.328125 \r\nQ 41.84375 43.5 37.984375 43.5 \r\nQ 30.671875 43.5 26.59375 39.234375 \r\nQ 22.515625 34.96875 22.515625 27.296875 \r\nQ 22.515625 19.625 26.59375 15.34375 \r\nQ 30.671875 11.078125 37.984375 11.078125 \r\nQ 42.09375 11.078125 45.78125 12.296875 \r\nQ 49.46875 13.53125 52.59375 15.921875 \r\nL 52.59375 1.609375 \r\nQ 48.484375 0.09375 44.265625 -0.65625 \r\nQ 40.046875 -1.421875 35.796875 -1.421875 \r\nQ 21 -1.421875 12.640625 6.171875 \r\nQ 4.296875 13.765625 4.296875 27.296875 \r\nQ 4.296875 40.828125 12.640625 48.40625 \r\nQ 21 56 35.796875 56 \r\nQ 40.09375 56 44.265625 55.25 \r\nQ 48.4375 54.5 52.59375 52.984375 \r\nz\r\n\" id=\"DejaVuSans-Bold-99\"/>\r\n     <path d=\"M 25.875 7.90625 \r\nL 25.875 -20.796875 \r\nL 8.40625 -20.796875 \r\nL 8.40625 54.6875 \r\nL 25.875 54.6875 \r\nL 25.875 46.6875 \r\nQ 29.5 51.46875 33.890625 53.734375 \r\nQ 38.28125 56 44 56 \r\nQ 54.109375 56 60.59375 47.96875 \r\nQ 67.09375 39.9375 67.09375 27.296875 \r\nQ 67.09375 14.65625 60.59375 6.609375 \r\nQ 54.109375 -1.421875 44 -1.421875 \r\nQ 38.28125 -1.421875 33.890625 0.84375 \r\nQ 29.5 3.125 25.875 7.90625 \r\nz\r\nM 37.5 43.3125 \r\nQ 31.890625 43.3125 28.875 39.1875 \r\nQ 25.875 35.0625 25.875 27.296875 \r\nQ 25.875 19.53125 28.875 15.40625 \r\nQ 31.890625 11.28125 37.5 11.28125 \r\nQ 43.109375 11.28125 46.0625 15.375 \r\nQ 49.03125 19.484375 49.03125 27.296875 \r\nQ 49.03125 35.109375 46.0625 39.203125 \r\nQ 43.109375 43.3125 37.5 43.3125 \r\nz\r\n\" id=\"DejaVuSans-Bold-112\"/>\r\n     <path d=\"M 59.90625 70.609375 \r\nL 59.90625 55.171875 \r\nQ 53.90625 57.859375 48.1875 59.21875 \r\nQ 42.484375 60.59375 37.40625 60.59375 \r\nQ 30.671875 60.59375 27.4375 58.734375 \r\nQ 24.21875 56.890625 24.21875 52.984375 \r\nQ 24.21875 50.046875 26.390625 48.40625 \r\nQ 28.5625 46.78125 34.28125 45.609375 \r\nL 42.28125 44 \r\nQ 54.4375 41.546875 59.5625 36.5625 \r\nQ 64.703125 31.59375 64.703125 22.40625 \r\nQ 64.703125 10.359375 57.546875 4.46875 \r\nQ 50.390625 -1.421875 35.6875 -1.421875 \r\nQ 28.765625 -1.421875 21.78125 -0.09375 \r\nQ 14.796875 1.21875 7.8125 3.8125 \r\nL 7.8125 19.671875 \r\nQ 14.796875 15.96875 21.3125 14.078125 \r\nQ 27.828125 12.203125 33.890625 12.203125 \r\nQ 40.046875 12.203125 43.3125 14.25 \r\nQ 46.578125 16.3125 46.578125 20.125 \r\nQ 46.578125 23.53125 44.359375 25.390625 \r\nQ 42.140625 27.25 35.5 28.71875 \r\nL 28.21875 30.328125 \r\nQ 17.28125 32.671875 12.21875 37.796875 \r\nQ 7.171875 42.921875 7.171875 51.609375 \r\nQ 7.171875 62.5 14.203125 68.359375 \r\nQ 21.234375 74.21875 34.421875 74.21875 \r\nQ 40.4375 74.21875 46.78125 73.3125 \r\nQ 53.125 72.40625 59.90625 70.609375 \r\nz\r\n\" id=\"DejaVuSans-Bold-83\"/>\r\n     <path d=\"M 34.078125 43.3125 \r\nQ 28.515625 43.3125 25.5625 39.203125 \r\nQ 22.609375 35.109375 22.609375 27.296875 \r\nQ 22.609375 19.484375 25.5625 15.375 \r\nQ 28.515625 11.28125 34.078125 11.28125 \r\nQ 39.703125 11.28125 42.65625 15.375 \r\nQ 45.609375 19.484375 45.609375 27.296875 \r\nQ 45.609375 35.109375 42.65625 39.203125 \r\nQ 39.703125 43.3125 34.078125 43.3125 \r\nz\r\nM 45.609375 7.90625 \r\nQ 42 3.078125 37.640625 0.828125 \r\nQ 33.296875 -1.421875 27.59375 -1.421875 \r\nQ 17.484375 -1.421875 10.984375 6.609375 \r\nQ 4.5 14.65625 4.5 27.296875 \r\nQ 4.5 39.9375 10.984375 47.921875 \r\nQ 17.484375 55.90625 27.59375 55.90625 \r\nQ 33.296875 55.90625 37.640625 53.65625 \r\nQ 42 51.421875 45.609375 46.578125 \r\nL 45.609375 54.6875 \r\nL 63.1875 54.6875 \r\nL 63.1875 -20.796875 \r\nL 45.609375 -20.796875 \r\nz\r\n\" id=\"DejaVuSans-Bold-113\"/>\r\n     <path d=\"M 9.1875 72.90625 \r\nL 59.90625 72.90625 \r\nL 59.90625 58.6875 \r\nL 27.984375 58.6875 \r\nL 27.984375 45.125 \r\nL 58.015625 45.125 \r\nL 58.015625 30.90625 \r\nL 27.984375 30.90625 \r\nL 27.984375 0 \r\nL 9.1875 0 \r\nz\r\n\" id=\"DejaVuSans-Bold-70\"/>\r\n     <path d=\"M 27.484375 70.21875 \r\nL 27.484375 54.6875 \r\nL 45.515625 54.6875 \r\nL 45.515625 42.1875 \r\nL 27.484375 42.1875 \r\nL 27.484375 19 \r\nQ 27.484375 15.1875 29 13.84375 \r\nQ 30.515625 12.5 35.015625 12.5 \r\nL 44 12.5 \r\nL 44 0 \r\nL 29 0 \r\nQ 18.65625 0 14.328125 4.3125 \r\nQ 10.015625 8.640625 10.015625 19 \r\nL 10.015625 42.1875 \r\nL 1.3125 42.1875 \r\nL 1.3125 54.6875 \r\nL 10.015625 54.6875 \r\nL 10.015625 70.21875 \r\nz\r\n\" id=\"DejaVuSans-Bold-116\"/>\r\n     <path d=\"M 37.5 11.28125 \r\nQ 43.109375 11.28125 46.0625 15.375 \r\nQ 49.03125 19.484375 49.03125 27.296875 \r\nQ 49.03125 35.109375 46.0625 39.203125 \r\nQ 43.109375 43.3125 37.5 43.3125 \r\nQ 31.890625 43.3125 28.875 39.1875 \r\nQ 25.875 35.0625 25.875 27.296875 \r\nQ 25.875 19.53125 28.875 15.40625 \r\nQ 31.890625 11.28125 37.5 11.28125 \r\nz\r\nM 25.875 46.6875 \r\nQ 29.5 51.46875 33.890625 53.734375 \r\nQ 38.28125 56 44 56 \r\nQ 54.109375 56 60.59375 47.96875 \r\nQ 67.09375 39.9375 67.09375 27.296875 \r\nQ 67.09375 14.65625 60.59375 6.609375 \r\nQ 54.109375 -1.421875 44 -1.421875 \r\nQ 38.28125 -1.421875 33.890625 0.84375 \r\nQ 29.5 3.125 25.875 7.90625 \r\nL 25.875 0 \r\nL 8.40625 0 \r\nL 8.40625 75.984375 \r\nL 25.875 75.984375 \r\nz\r\n\" id=\"DejaVuSans-Bold-98\"/>\r\n     <path d=\"M 1.21875 54.6875 \r\nL 18.703125 54.6875 \r\nL 33.40625 17.578125 \r\nL 45.90625 54.6875 \r\nL 63.375 54.6875 \r\nL 40.375 -5.171875 \r\nQ 36.921875 -14.3125 32.296875 -17.9375 \r\nQ 27.6875 -21.578125 20.125 -21.578125 \r\nL 10.015625 -21.578125 \r\nL 10.015625 -10.109375 \r\nL 15.484375 -10.109375 \r\nQ 19.921875 -10.109375 21.9375 -8.6875 \r\nQ 23.96875 -7.28125 25.09375 -3.609375 \r\nL 25.59375 -2.09375 \r\nz\r\n\" id=\"DejaVuSans-Bold-121\"/>\r\n     <path d=\"M -0.984375 72.90625 \r\nL 19.578125 72.90625 \r\nL 36.1875 46.921875 \r\nL 52.78125 72.90625 \r\nL 73.390625 72.90625 \r\nL 45.609375 30.71875 \r\nL 45.609375 0 \r\nL 26.8125 0 \r\nL 26.8125 30.71875 \r\nz\r\n\" id=\"DejaVuSans-Bold-89\"/>\r\n    </defs>\r\n    <g transform=\"translate(92.632031 17.837812)scale(0.14 -0.14)\">\r\n     <use xlink:href=\"#DejaVuSans-Bold-65\"/>\r\n     <use x=\"77.345703\" xlink:href=\"#DejaVuSans-Bold-118\"/>\r\n     <use x=\"142.53125\" xlink:href=\"#DejaVuSans-Bold-101\"/>\r\n     <use x=\"210.353516\" xlink:href=\"#DejaVuSans-Bold-114\"/>\r\n     <use x=\"259.669922\" xlink:href=\"#DejaVuSans-Bold-97\"/>\r\n     <use x=\"327.150391\" xlink:href=\"#DejaVuSans-Bold-103\"/>\r\n     <use x=\"398.732422\" xlink:href=\"#DejaVuSans-Bold-101\"/>\r\n     <use x=\"466.554688\" xlink:href=\"#DejaVuSans-Bold-32\"/>\r\n     <use x=\"501.369141\" xlink:href=\"#DejaVuSans-Bold-80\"/>\r\n     <use x=\"574.660156\" xlink:href=\"#DejaVuSans-Bold-114\"/>\r\n     <use x=\"623.976562\" xlink:href=\"#DejaVuSans-Bold-105\"/>\r\n     <use x=\"658.253906\" xlink:href=\"#DejaVuSans-Bold-99\"/>\r\n     <use x=\"717.53125\" xlink:href=\"#DejaVuSans-Bold-101\"/>\r\n     <use x=\"785.353516\" xlink:href=\"#DejaVuSans-Bold-32\"/>\r\n     <use x=\"820.167969\" xlink:href=\"#DejaVuSans-Bold-112\"/>\r\n     <use x=\"891.75\" xlink:href=\"#DejaVuSans-Bold-101\"/>\r\n     <use x=\"959.572266\" xlink:href=\"#DejaVuSans-Bold-114\"/>\r\n     <use x=\"1008.888672\" xlink:href=\"#DejaVuSans-Bold-32\"/>\r\n     <use x=\"1043.703125\" xlink:href=\"#DejaVuSans-Bold-83\"/>\r\n     <use x=\"1115.724609\" xlink:href=\"#DejaVuSans-Bold-113\"/>\r\n     <use x=\"1187.306641\" xlink:href=\"#DejaVuSans-Bold-70\"/>\r\n     <use x=\"1255.617188\" xlink:href=\"#DejaVuSans-Bold-116\"/>\r\n     <use x=\"1303.419922\" xlink:href=\"#DejaVuSans-Bold-32\"/>\r\n     <use x=\"1338.234375\" xlink:href=\"#DejaVuSans-Bold-98\"/>\r\n     <use x=\"1409.816406\" xlink:href=\"#DejaVuSans-Bold-121\"/>\r\n     <use x=\"1475.001953\" xlink:href=\"#DejaVuSans-Bold-32\"/>\r\n     <use x=\"1509.816406\" xlink:href=\"#DejaVuSans-Bold-89\"/>\r\n     <use x=\"1582.087891\" xlink:href=\"#DejaVuSans-Bold-101\"/>\r\n     <use x=\"1649.910156\" xlink:href=\"#DejaVuSans-Bold-97\"/>\r\n     <use x=\"1717.390625\" xlink:href=\"#DejaVuSans-Bold-114\"/>\r\n    </g>\r\n   </g>\r\n  </g>\r\n </g>\r\n <defs>\r\n  <clipPath id=\"p8d24be8017\">\r\n   <rect height=\"217.44\" width=\"334.8\" x=\"48.90125\" y=\"23.837812\"/>\r\n  </clipPath>\r\n </defs>\r\n</svg>\r\n",
      "image/png": "[encoded data removed]"
     },
     "metadata": {
      "needs_background": "light"
     }
    },
    {
     "output_type": "display_data",
     "data": {
      "text/plain": [
       "<Figure size 432x288 with 1 Axes>"
      ],
      "image/svg+xml": "<?xml version=\"1.0\" encoding=\"utf-8\" standalone=\"no\"?>\r\n<!DOCTYPE svg PUBLIC \"-//W3C//DTD SVG 1.1//EN\"\r\n  \"http://www.w3.org/Graphics/SVG/1.1/DTD/svg11.dtd\">\r\n<!-- Created with matplotlib (https://matplotlib.org/) -->\r\n<svg height=\"280.769687pt\" version=\"1.1\" viewBox=\"0 0 409.98875 280.769687\" width=\"409.98875pt\" xmlns=\"http://www.w3.org/2000/svg\" xmlns:xlink=\"http://www.w3.org/1999/xlink\">\r\n <defs>\r\n  <style type=\"text/css\">\r\n*{stroke-linecap:butt;stroke-linejoin:round;}\r\n  </style>\r\n </defs>\r\n <g id=\"figure_1\">\r\n  <g id=\"patch_1\">\r\n   <path d=\"M 0 280.769687 \r\nL 409.98875 280.769687 \r\nL 409.98875 0 \r\nL 0 0 \r\nz\r\n\" style=\"fill:none;\"/>\r\n  </g>\r\n  <g id=\"axes_1\">\r\n   <g id=\"patch_2\">\r\n    <path d=\"M 55.26375 241.277812 \r\nL 390.06375 241.277812 \r\nL 390.06375 23.837812 \r\nL 55.26375 23.837812 \r\nz\r\n\" style=\"fill:#ffffff;\"/>\r\n   </g>\r\n   <g id=\"matplotlib.axis_1\">\r\n    <g id=\"xtick_1\">\r\n     <g id=\"line2d_1\">\r\n      <defs>\r\n       <path d=\"M 0 0 \r\nL 0 3.5 \r\n\" id=\"mdad2367855\" style=\"stroke:#000000;stroke-width:0.8;\"/>\r\n      </defs>\r\n      <g>\r\n       <use style=\"stroke:#000000;stroke-width:0.8;\" x=\"55.26375\" xlink:href=\"#mdad2367855\" y=\"241.277812\"/>\r\n      </g>\r\n     </g>\r\n     <g id=\"text_1\">\r\n      <!-- 2010 -->\r\n      <defs>\r\n       <path d=\"M 19.1875 8.296875 \r\nL 53.609375 8.296875 \r\nL 53.609375 0 \r\nL 7.328125 0 \r\nL 7.328125 8.296875 \r\nQ 12.9375 14.109375 22.625 23.890625 \r\nQ 32.328125 33.6875 34.8125 36.53125 \r\nQ 39.546875 41.84375 41.421875 45.53125 \r\nQ 43.3125 49.21875 43.3125 52.78125 \r\nQ 43.3125 58.59375 39.234375 62.25 \r\nQ 35.15625 65.921875 28.609375 65.921875 \r\nQ 23.96875 65.921875 18.8125 64.3125 \r\nQ 13.671875 62.703125 7.8125 59.421875 \r\nL 7.8125 69.390625 \r\nQ 13.765625 71.78125 18.9375 73 \r\nQ 24.125 74.21875 28.421875 74.21875 \r\nQ 39.75 74.21875 46.484375 68.546875 \r\nQ 53.21875 62.890625 53.21875 53.421875 \r\nQ 53.21875 48.921875 51.53125 44.890625 \r\nQ 49.859375 40.875 45.40625 35.40625 \r\nQ 44.1875 33.984375 37.640625 27.21875 \r\nQ 31.109375 20.453125 19.1875 8.296875 \r\nz\r\n\" id=\"DejaVuSans-50\"/>\r\n       <path d=\"M 31.78125 66.40625 \r\nQ 24.171875 66.40625 20.328125 58.90625 \r\nQ 16.5 51.421875 16.5 36.375 \r\nQ 16.5 21.390625 20.328125 13.890625 \r\nQ 24.171875 6.390625 31.78125 6.390625 \r\nQ 39.453125 6.390625 43.28125 13.890625 \r\nQ 47.125 21.390625 47.125 36.375 \r\nQ 47.125 51.421875 43.28125 58.90625 \r\nQ 39.453125 66.40625 31.78125 66.40625 \r\nz\r\nM 31.78125 74.21875 \r\nQ 44.046875 74.21875 50.515625 64.515625 \r\nQ 56.984375 54.828125 56.984375 36.375 \r\nQ 56.984375 17.96875 50.515625 8.265625 \r\nQ 44.046875 -1.421875 31.78125 -1.421875 \r\nQ 19.53125 -1.421875 13.0625 8.265625 \r\nQ 6.59375 17.96875 6.59375 36.375 \r\nQ 6.59375 54.828125 13.0625 64.515625 \r\nQ 19.53125 74.21875 31.78125 74.21875 \r\nz\r\n\" id=\"DejaVuSans-48\"/>\r\n       <path d=\"M 12.40625 8.296875 \r\nL 28.515625 8.296875 \r\nL 28.515625 63.921875 \r\nL 10.984375 60.40625 \r\nL 10.984375 69.390625 \r\nL 28.421875 72.90625 \r\nL 38.28125 72.90625 \r\nL 38.28125 8.296875 \r\nL 54.390625 8.296875 \r\nL 54.390625 0 \r\nL 12.40625 0 \r\nz\r\n\" id=\"DejaVuSans-49\"/>\r\n      </defs>\r\n      <g transform=\"translate(42.53875 255.87625)scale(0.1 -0.1)\">\r\n       <use xlink:href=\"#DejaVuSans-50\"/>\r\n       <use x=\"63.623047\" xlink:href=\"#DejaVuSans-48\"/>\r\n       <use x=\"127.246094\" xlink:href=\"#DejaVuSans-49\"/>\r\n       <use x=\"190.869141\" xlink:href=\"#DejaVuSans-48\"/>\r\n      </g>\r\n     </g>\r\n    </g>\r\n    <g id=\"xtick_2\">\r\n     <g id=\"line2d_2\">\r\n      <g>\r\n       <use style=\"stroke:#000000;stroke-width:0.8;\" x=\"111.06375\" xlink:href=\"#mdad2367855\" y=\"241.277812\"/>\r\n      </g>\r\n     </g>\r\n     <g id=\"text_2\">\r\n      <!-- 2011 -->\r\n      <g transform=\"translate(98.33875 255.87625)scale(0.1 -0.1)\">\r\n       <use xlink:href=\"#DejaVuSans-50\"/>\r\n       <use x=\"63.623047\" xlink:href=\"#DejaVuSans-48\"/>\r\n       <use x=\"127.246094\" xlink:href=\"#DejaVuSans-49\"/>\r\n       <use x=\"190.869141\" xlink:href=\"#DejaVuSans-49\"/>\r\n      </g>\r\n     </g>\r\n    </g>\r\n    <g id=\"xtick_3\">\r\n     <g id=\"line2d_3\">\r\n      <g>\r\n       <use style=\"stroke:#000000;stroke-width:0.8;\" x=\"166.86375\" xlink:href=\"#mdad2367855\" y=\"241.277812\"/>\r\n      </g>\r\n     </g>\r\n     <g id=\"text_3\">\r\n      <!-- 2012 -->\r\n      <g transform=\"translate(154.13875 255.87625)scale(0.1 -0.1)\">\r\n       <use xlink:href=\"#DejaVuSans-50\"/>\r\n       <use x=\"63.623047\" xlink:href=\"#DejaVuSans-48\"/>\r\n       <use x=\"127.246094\" xlink:href=\"#DejaVuSans-49\"/>\r\n       <use x=\"190.869141\" xlink:href=\"#DejaVuSans-50\"/>\r\n      </g>\r\n     </g>\r\n    </g>\r\n    <g id=\"xtick_4\">\r\n     <g id=\"line2d_4\">\r\n      <g>\r\n       <use style=\"stroke:#000000;stroke-width:0.8;\" x=\"222.66375\" xlink:href=\"#mdad2367855\" y=\"241.277812\"/>\r\n      </g>\r\n     </g>\r\n     <g id=\"text_4\">\r\n      <!-- 2013 -->\r\n      <defs>\r\n       <path d=\"M 40.578125 39.3125 \r\nQ 47.65625 37.796875 51.625 33 \r\nQ 55.609375 28.21875 55.609375 21.1875 \r\nQ 55.609375 10.40625 48.1875 4.484375 \r\nQ 40.765625 -1.421875 27.09375 -1.421875 \r\nQ 22.515625 -1.421875 17.65625 -0.515625 \r\nQ 12.796875 0.390625 7.625 2.203125 \r\nL 7.625 11.71875 \r\nQ 11.71875 9.328125 16.59375 8.109375 \r\nQ 21.484375 6.890625 26.8125 6.890625 \r\nQ 36.078125 6.890625 40.9375 10.546875 \r\nQ 45.796875 14.203125 45.796875 21.1875 \r\nQ 45.796875 27.640625 41.28125 31.265625 \r\nQ 36.765625 34.90625 28.71875 34.90625 \r\nL 20.21875 34.90625 \r\nL 20.21875 43.015625 \r\nL 29.109375 43.015625 \r\nQ 36.375 43.015625 40.234375 45.921875 \r\nQ 44.09375 48.828125 44.09375 54.296875 \r\nQ 44.09375 59.90625 40.109375 62.90625 \r\nQ 36.140625 65.921875 28.71875 65.921875 \r\nQ 24.65625 65.921875 20.015625 65.03125 \r\nQ 15.375 64.15625 9.8125 62.3125 \r\nL 9.8125 71.09375 \r\nQ 15.4375 72.65625 20.34375 73.4375 \r\nQ 25.25 74.21875 29.59375 74.21875 \r\nQ 40.828125 74.21875 47.359375 69.109375 \r\nQ 53.90625 64.015625 53.90625 55.328125 \r\nQ 53.90625 49.265625 50.4375 45.09375 \r\nQ 46.96875 40.921875 40.578125 39.3125 \r\nz\r\n\" id=\"DejaVuSans-51\"/>\r\n      </defs>\r\n      <g transform=\"translate(209.93875 255.87625)scale(0.1 -0.1)\">\r\n       <use xlink:href=\"#DejaVuSans-50\"/>\r\n       <use x=\"63.623047\" xlink:href=\"#DejaVuSans-48\"/>\r\n       <use x=\"127.246094\" xlink:href=\"#DejaVuSans-49\"/>\r\n       <use x=\"190.869141\" xlink:href=\"#DejaVuSans-51\"/>\r\n      </g>\r\n     </g>\r\n    </g>\r\n    <g id=\"xtick_5\">\r\n     <g id=\"line2d_5\">\r\n      <g>\r\n       <use style=\"stroke:#000000;stroke-width:0.8;\" x=\"278.46375\" xlink:href=\"#mdad2367855\" y=\"241.277812\"/>\r\n      </g>\r\n     </g>\r\n     <g id=\"text_5\">\r\n      <!-- 2014 -->\r\n      <defs>\r\n       <path d=\"M 37.796875 64.3125 \r\nL 12.890625 25.390625 \r\nL 37.796875 25.390625 \r\nz\r\nM 35.203125 72.90625 \r\nL 47.609375 72.90625 \r\nL 47.609375 25.390625 \r\nL 58.015625 25.390625 \r\nL 58.015625 17.1875 \r\nL 47.609375 17.1875 \r\nL 47.609375 0 \r\nL 37.796875 0 \r\nL 37.796875 17.1875 \r\nL 4.890625 17.1875 \r\nL 4.890625 26.703125 \r\nz\r\n\" id=\"DejaVuSans-52\"/>\r\n      </defs>\r\n      <g transform=\"translate(265.73875 255.87625)scale(0.1 -0.1)\">\r\n       <use xlink:href=\"#DejaVuSans-50\"/>\r\n       <use x=\"63.623047\" xlink:href=\"#DejaVuSans-48\"/>\r\n       <use x=\"127.246094\" xlink:href=\"#DejaVuSans-49\"/>\r\n       <use x=\"190.869141\" xlink:href=\"#DejaVuSans-52\"/>\r\n      </g>\r\n     </g>\r\n    </g>\r\n    <g id=\"xtick_6\">\r\n     <g id=\"line2d_6\">\r\n      <g>\r\n       <use style=\"stroke:#000000;stroke-width:0.8;\" x=\"334.26375\" xlink:href=\"#mdad2367855\" y=\"241.277812\"/>\r\n      </g>\r\n     </g>\r\n     <g id=\"text_6\">\r\n      <!-- 2015 -->\r\n      <defs>\r\n       <path d=\"M 10.796875 72.90625 \r\nL 49.515625 72.90625 \r\nL 49.515625 64.59375 \r\nL 19.828125 64.59375 \r\nL 19.828125 46.734375 \r\nQ 21.96875 47.46875 24.109375 47.828125 \r\nQ 26.265625 48.1875 28.421875 48.1875 \r\nQ 40.625 48.1875 47.75 41.5 \r\nQ 54.890625 34.8125 54.890625 23.390625 \r\nQ 54.890625 11.625 47.5625 5.09375 \r\nQ 40.234375 -1.421875 26.90625 -1.421875 \r\nQ 22.3125 -1.421875 17.546875 -0.640625 \r\nQ 12.796875 0.140625 7.71875 1.703125 \r\nL 7.71875 11.625 \r\nQ 12.109375 9.234375 16.796875 8.0625 \r\nQ 21.484375 6.890625 26.703125 6.890625 \r\nQ 35.15625 6.890625 40.078125 11.328125 \r\nQ 45.015625 15.765625 45.015625 23.390625 \r\nQ 45.015625 31 40.078125 35.4375 \r\nQ 35.15625 39.890625 26.703125 39.890625 \r\nQ 22.75 39.890625 18.8125 39.015625 \r\nQ 14.890625 38.140625 10.796875 36.28125 \r\nz\r\n\" id=\"DejaVuSans-53\"/>\r\n      </defs>\r\n      <g transform=\"translate(321.53875 255.87625)scale(0.1 -0.1)\">\r\n       <use xlink:href=\"#DejaVuSans-50\"/>\r\n       <use x=\"63.623047\" xlink:href=\"#DejaVuSans-48\"/>\r\n       <use x=\"127.246094\" xlink:href=\"#DejaVuSans-49\"/>\r\n       <use x=\"190.869141\" xlink:href=\"#DejaVuSans-53\"/>\r\n      </g>\r\n     </g>\r\n    </g>\r\n    <g id=\"xtick_7\">\r\n     <g id=\"line2d_7\">\r\n      <g>\r\n       <use style=\"stroke:#000000;stroke-width:0.8;\" x=\"390.06375\" xlink:href=\"#mdad2367855\" y=\"241.277812\"/>\r\n      </g>\r\n     </g>\r\n     <g id=\"text_7\">\r\n      <!-- 2016 -->\r\n      <defs>\r\n       <path d=\"M 33.015625 40.375 \r\nQ 26.375 40.375 22.484375 35.828125 \r\nQ 18.609375 31.296875 18.609375 23.390625 \r\nQ 18.609375 15.53125 22.484375 10.953125 \r\nQ 26.375 6.390625 33.015625 6.390625 \r\nQ 39.65625 6.390625 43.53125 10.953125 \r\nQ 47.40625 15.53125 47.40625 23.390625 \r\nQ 47.40625 31.296875 43.53125 35.828125 \r\nQ 39.65625 40.375 33.015625 40.375 \r\nz\r\nM 52.59375 71.296875 \r\nL 52.59375 62.3125 \r\nQ 48.875 64.0625 45.09375 64.984375 \r\nQ 41.3125 65.921875 37.59375 65.921875 \r\nQ 27.828125 65.921875 22.671875 59.328125 \r\nQ 17.53125 52.734375 16.796875 39.40625 \r\nQ 19.671875 43.65625 24.015625 45.921875 \r\nQ 28.375 48.1875 33.59375 48.1875 \r\nQ 44.578125 48.1875 50.953125 41.515625 \r\nQ 57.328125 34.859375 57.328125 23.390625 \r\nQ 57.328125 12.15625 50.6875 5.359375 \r\nQ 44.046875 -1.421875 33.015625 -1.421875 \r\nQ 20.359375 -1.421875 13.671875 8.265625 \r\nQ 6.984375 17.96875 6.984375 36.375 \r\nQ 6.984375 53.65625 15.1875 63.9375 \r\nQ 23.390625 74.21875 37.203125 74.21875 \r\nQ 40.921875 74.21875 44.703125 73.484375 \r\nQ 48.484375 72.75 52.59375 71.296875 \r\nz\r\n\" id=\"DejaVuSans-54\"/>\r\n      </defs>\r\n      <g transform=\"translate(377.33875 255.87625)scale(0.1 -0.1)\">\r\n       <use xlink:href=\"#DejaVuSans-50\"/>\r\n       <use x=\"63.623047\" xlink:href=\"#DejaVuSans-48\"/>\r\n       <use x=\"127.246094\" xlink:href=\"#DejaVuSans-49\"/>\r\n       <use x=\"190.869141\" xlink:href=\"#DejaVuSans-54\"/>\r\n      </g>\r\n     </g>\r\n    </g>\r\n    <g id=\"text_8\">\r\n     <!-- Year -->\r\n     <defs>\r\n      <path d=\"M -0.203125 72.90625 \r\nL 10.40625 72.90625 \r\nL 30.609375 42.921875 \r\nL 50.6875 72.90625 \r\nL 61.28125 72.90625 \r\nL 35.5 34.71875 \r\nL 35.5 0 \r\nL 25.59375 0 \r\nL 25.59375 34.71875 \r\nz\r\n\" id=\"DejaVuSans-89\"/>\r\n      <path d=\"M 56.203125 29.59375 \r\nL 56.203125 25.203125 \r\nL 14.890625 25.203125 \r\nQ 15.484375 15.921875 20.484375 11.0625 \r\nQ 25.484375 6.203125 34.421875 6.203125 \r\nQ 39.59375 6.203125 44.453125 7.46875 \r\nQ 49.3125 8.734375 54.109375 11.28125 \r\nL 54.109375 2.78125 \r\nQ 49.265625 0.734375 44.1875 -0.34375 \r\nQ 39.109375 -1.421875 33.890625 -1.421875 \r\nQ 20.796875 -1.421875 13.15625 6.1875 \r\nQ 5.515625 13.8125 5.515625 26.8125 \r\nQ 5.515625 40.234375 12.765625 48.109375 \r\nQ 20.015625 56 32.328125 56 \r\nQ 43.359375 56 49.78125 48.890625 \r\nQ 56.203125 41.796875 56.203125 29.59375 \r\nz\r\nM 47.21875 32.234375 \r\nQ 47.125 39.59375 43.09375 43.984375 \r\nQ 39.0625 48.390625 32.421875 48.390625 \r\nQ 24.90625 48.390625 20.390625 44.140625 \r\nQ 15.875 39.890625 15.1875 32.171875 \r\nz\r\n\" id=\"DejaVuSans-101\"/>\r\n      <path d=\"M 34.28125 27.484375 \r\nQ 23.390625 27.484375 19.1875 25 \r\nQ 14.984375 22.515625 14.984375 16.5 \r\nQ 14.984375 11.71875 18.140625 8.90625 \r\nQ 21.296875 6.109375 26.703125 6.109375 \r\nQ 34.1875 6.109375 38.703125 11.40625 \r\nQ 43.21875 16.703125 43.21875 25.484375 \r\nL 43.21875 27.484375 \r\nz\r\nM 52.203125 31.203125 \r\nL 52.203125 0 \r\nL 43.21875 0 \r\nL 43.21875 8.296875 \r\nQ 40.140625 3.328125 35.546875 0.953125 \r\nQ 30.953125 -1.421875 24.3125 -1.421875 \r\nQ 15.921875 -1.421875 10.953125 3.296875 \r\nQ 6 8.015625 6 15.921875 \r\nQ 6 25.140625 12.171875 29.828125 \r\nQ 18.359375 34.515625 30.609375 34.515625 \r\nL 43.21875 34.515625 \r\nL 43.21875 35.40625 \r\nQ 43.21875 41.609375 39.140625 45 \r\nQ 35.0625 48.390625 27.6875 48.390625 \r\nQ 23 48.390625 18.546875 47.265625 \r\nQ 14.109375 46.140625 10.015625 43.890625 \r\nL 10.015625 52.203125 \r\nQ 14.9375 54.109375 19.578125 55.046875 \r\nQ 24.21875 56 28.609375 56 \r\nQ 40.484375 56 46.34375 49.84375 \r\nQ 52.203125 43.703125 52.203125 31.203125 \r\nz\r\n\" id=\"DejaVuSans-97\"/>\r\n      <path d=\"M 41.109375 46.296875 \r\nQ 39.59375 47.171875 37.8125 47.578125 \r\nQ 36.03125 48 33.890625 48 \r\nQ 26.265625 48 22.1875 43.046875 \r\nQ 18.109375 38.09375 18.109375 28.8125 \r\nL 18.109375 0 \r\nL 9.078125 0 \r\nL 9.078125 54.6875 \r\nL 18.109375 54.6875 \r\nL 18.109375 46.1875 \r\nQ 20.953125 51.171875 25.484375 53.578125 \r\nQ 30.03125 56 36.53125 56 \r\nQ 37.453125 56 38.578125 55.875 \r\nQ 39.703125 55.765625 41.0625 55.515625 \r\nz\r\n\" id=\"DejaVuSans-114\"/>\r\n     </defs>\r\n     <g transform=\"translate(209.175938 271.074062)scale(0.12 -0.12)\">\r\n      <use xlink:href=\"#DejaVuSans-89\"/>\r\n      <use x=\"60.880859\" xlink:href=\"#DejaVuSans-101\"/>\r\n      <use x=\"122.404297\" xlink:href=\"#DejaVuSans-97\"/>\r\n      <use x=\"183.683594\" xlink:href=\"#DejaVuSans-114\"/>\r\n     </g>\r\n    </g>\r\n   </g>\r\n   <g id=\"matplotlib.axis_2\">\r\n    <g id=\"ytick_1\">\r\n     <g id=\"line2d_8\">\r\n      <defs>\r\n       <path d=\"M 0 0 \r\nL -3.5 0 \r\n\" id=\"m05b123b7ef\" style=\"stroke:#000000;stroke-width:0.8;\"/>\r\n      </defs>\r\n      <g>\r\n       <use style=\"stroke:#000000;stroke-width:0.8;\" x=\"55.26375\" xlink:href=\"#m05b123b7ef\" y=\"215.020777\"/>\r\n      </g>\r\n     </g>\r\n     <g id=\"text_9\">\r\n      <!-- 1500 -->\r\n      <g transform=\"translate(22.81375 218.819995)scale(0.1 -0.1)\">\r\n       <use xlink:href=\"#DejaVuSans-49\"/>\r\n       <use x=\"63.623047\" xlink:href=\"#DejaVuSans-53\"/>\r\n       <use x=\"127.246094\" xlink:href=\"#DejaVuSans-48\"/>\r\n       <use x=\"190.869141\" xlink:href=\"#DejaVuSans-48\"/>\r\n      </g>\r\n     </g>\r\n    </g>\r\n    <g id=\"ytick_2\">\r\n     <g id=\"line2d_9\">\r\n      <g>\r\n       <use style=\"stroke:#000000;stroke-width:0.8;\" x=\"55.26375\" xlink:href=\"#m05b123b7ef\" y=\"183.654111\"/>\r\n      </g>\r\n     </g>\r\n     <g id=\"text_10\">\r\n      <!-- 2000 -->\r\n      <g transform=\"translate(22.81375 187.45333)scale(0.1 -0.1)\">\r\n       <use xlink:href=\"#DejaVuSans-50\"/>\r\n       <use x=\"63.623047\" xlink:href=\"#DejaVuSans-48\"/>\r\n       <use x=\"127.246094\" xlink:href=\"#DejaVuSans-48\"/>\r\n       <use x=\"190.869141\" xlink:href=\"#DejaVuSans-48\"/>\r\n      </g>\r\n     </g>\r\n    </g>\r\n    <g id=\"ytick_3\">\r\n     <g id=\"line2d_10\">\r\n      <g>\r\n       <use style=\"stroke:#000000;stroke-width:0.8;\" x=\"55.26375\" xlink:href=\"#m05b123b7ef\" y=\"152.287445\"/>\r\n      </g>\r\n     </g>\r\n     <g id=\"text_11\">\r\n      <!-- 2500 -->\r\n      <g transform=\"translate(22.81375 156.086664)scale(0.1 -0.1)\">\r\n       <use xlink:href=\"#DejaVuSans-50\"/>\r\n       <use x=\"63.623047\" xlink:href=\"#DejaVuSans-53\"/>\r\n       <use x=\"127.246094\" xlink:href=\"#DejaVuSans-48\"/>\r\n       <use x=\"190.869141\" xlink:href=\"#DejaVuSans-48\"/>\r\n      </g>\r\n     </g>\r\n    </g>\r\n    <g id=\"ytick_4\">\r\n     <g id=\"line2d_11\">\r\n      <g>\r\n       <use style=\"stroke:#000000;stroke-width:0.8;\" x=\"55.26375\" xlink:href=\"#m05b123b7ef\" y=\"120.92078\"/>\r\n      </g>\r\n     </g>\r\n     <g id=\"text_12\">\r\n      <!-- 3000 -->\r\n      <g transform=\"translate(22.81375 124.719998)scale(0.1 -0.1)\">\r\n       <use xlink:href=\"#DejaVuSans-51\"/>\r\n       <use x=\"63.623047\" xlink:href=\"#DejaVuSans-48\"/>\r\n       <use x=\"127.246094\" xlink:href=\"#DejaVuSans-48\"/>\r\n       <use x=\"190.869141\" xlink:href=\"#DejaVuSans-48\"/>\r\n      </g>\r\n     </g>\r\n    </g>\r\n    <g id=\"ytick_5\">\r\n     <g id=\"line2d_12\">\r\n      <g>\r\n       <use style=\"stroke:#000000;stroke-width:0.8;\" x=\"55.26375\" xlink:href=\"#m05b123b7ef\" y=\"89.554114\"/>\r\n      </g>\r\n     </g>\r\n     <g id=\"text_13\">\r\n      <!-- 3500 -->\r\n      <g transform=\"translate(22.81375 93.353333)scale(0.1 -0.1)\">\r\n       <use xlink:href=\"#DejaVuSans-51\"/>\r\n       <use x=\"63.623047\" xlink:href=\"#DejaVuSans-53\"/>\r\n       <use x=\"127.246094\" xlink:href=\"#DejaVuSans-48\"/>\r\n       <use x=\"190.869141\" xlink:href=\"#DejaVuSans-48\"/>\r\n      </g>\r\n     </g>\r\n    </g>\r\n    <g id=\"ytick_6\">\r\n     <g id=\"line2d_13\">\r\n      <g>\r\n       <use style=\"stroke:#000000;stroke-width:0.8;\" x=\"55.26375\" xlink:href=\"#m05b123b7ef\" y=\"58.187448\"/>\r\n      </g>\r\n     </g>\r\n     <g id=\"text_14\">\r\n      <!-- 4000 -->\r\n      <g transform=\"translate(22.81375 61.986667)scale(0.1 -0.1)\">\r\n       <use xlink:href=\"#DejaVuSans-52\"/>\r\n       <use x=\"63.623047\" xlink:href=\"#DejaVuSans-48\"/>\r\n       <use x=\"127.246094\" xlink:href=\"#DejaVuSans-48\"/>\r\n       <use x=\"190.869141\" xlink:href=\"#DejaVuSans-48\"/>\r\n      </g>\r\n     </g>\r\n    </g>\r\n    <g id=\"ytick_7\">\r\n     <g id=\"line2d_14\">\r\n      <g>\r\n       <use style=\"stroke:#000000;stroke-width:0.8;\" x=\"55.26375\" xlink:href=\"#m05b123b7ef\" y=\"26.820782\"/>\r\n      </g>\r\n     </g>\r\n     <g id=\"text_15\">\r\n      <!-- 4500 -->\r\n      <g transform=\"translate(22.81375 30.620001)scale(0.1 -0.1)\">\r\n       <use xlink:href=\"#DejaVuSans-52\"/>\r\n       <use x=\"63.623047\" xlink:href=\"#DejaVuSans-53\"/>\r\n       <use x=\"127.246094\" xlink:href=\"#DejaVuSans-48\"/>\r\n       <use x=\"190.869141\" xlink:href=\"#DejaVuSans-48\"/>\r\n      </g>\r\n     </g>\r\n    </g>\r\n    <g id=\"text_16\">\r\n     <!-- Gross Rent -->\r\n     <defs>\r\n      <path d=\"M 59.515625 10.40625 \r\nL 59.515625 29.984375 \r\nL 43.40625 29.984375 \r\nL 43.40625 38.09375 \r\nL 69.28125 38.09375 \r\nL 69.28125 6.78125 \r\nQ 63.578125 2.734375 56.6875 0.65625 \r\nQ 49.8125 -1.421875 42 -1.421875 \r\nQ 24.90625 -1.421875 15.25 8.5625 \r\nQ 5.609375 18.5625 5.609375 36.375 \r\nQ 5.609375 54.25 15.25 64.234375 \r\nQ 24.90625 74.21875 42 74.21875 \r\nQ 49.125 74.21875 55.546875 72.453125 \r\nQ 61.96875 70.703125 67.390625 67.28125 \r\nL 67.390625 56.78125 \r\nQ 61.921875 61.421875 55.765625 63.765625 \r\nQ 49.609375 66.109375 42.828125 66.109375 \r\nQ 29.4375 66.109375 22.71875 58.640625 \r\nQ 16.015625 51.171875 16.015625 36.375 \r\nQ 16.015625 21.625 22.71875 14.15625 \r\nQ 29.4375 6.6875 42.828125 6.6875 \r\nQ 48.046875 6.6875 52.140625 7.59375 \r\nQ 56.25 8.5 59.515625 10.40625 \r\nz\r\n\" id=\"DejaVuSans-71\"/>\r\n      <path d=\"M 30.609375 48.390625 \r\nQ 23.390625 48.390625 19.1875 42.75 \r\nQ 14.984375 37.109375 14.984375 27.296875 \r\nQ 14.984375 17.484375 19.15625 11.84375 \r\nQ 23.34375 6.203125 30.609375 6.203125 \r\nQ 37.796875 6.203125 41.984375 11.859375 \r\nQ 46.1875 17.53125 46.1875 27.296875 \r\nQ 46.1875 37.015625 41.984375 42.703125 \r\nQ 37.796875 48.390625 30.609375 48.390625 \r\nz\r\nM 30.609375 56 \r\nQ 42.328125 56 49.015625 48.375 \r\nQ 55.71875 40.765625 55.71875 27.296875 \r\nQ 55.71875 13.875 49.015625 6.21875 \r\nQ 42.328125 -1.421875 30.609375 -1.421875 \r\nQ 18.84375 -1.421875 12.171875 6.21875 \r\nQ 5.515625 13.875 5.515625 27.296875 \r\nQ 5.515625 40.765625 12.171875 48.375 \r\nQ 18.84375 56 30.609375 56 \r\nz\r\n\" id=\"DejaVuSans-111\"/>\r\n      <path d=\"M 44.28125 53.078125 \r\nL 44.28125 44.578125 \r\nQ 40.484375 46.53125 36.375 47.5 \r\nQ 32.28125 48.484375 27.875 48.484375 \r\nQ 21.1875 48.484375 17.84375 46.4375 \r\nQ 14.5 44.390625 14.5 40.28125 \r\nQ 14.5 37.15625 16.890625 35.375 \r\nQ 19.28125 33.59375 26.515625 31.984375 \r\nL 29.59375 31.296875 \r\nQ 39.15625 29.25 43.1875 25.515625 \r\nQ 47.21875 21.78125 47.21875 15.09375 \r\nQ 47.21875 7.46875 41.1875 3.015625 \r\nQ 35.15625 -1.421875 24.609375 -1.421875 \r\nQ 20.21875 -1.421875 15.453125 -0.5625 \r\nQ 10.6875 0.296875 5.421875 2 \r\nL 5.421875 11.28125 \r\nQ 10.40625 8.6875 15.234375 7.390625 \r\nQ 20.0625 6.109375 24.8125 6.109375 \r\nQ 31.15625 6.109375 34.5625 8.28125 \r\nQ 37.984375 10.453125 37.984375 14.40625 \r\nQ 37.984375 18.0625 35.515625 20.015625 \r\nQ 33.0625 21.96875 24.703125 23.78125 \r\nL 21.578125 24.515625 \r\nQ 13.234375 26.265625 9.515625 29.90625 \r\nQ 5.8125 33.546875 5.8125 39.890625 \r\nQ 5.8125 47.609375 11.28125 51.796875 \r\nQ 16.75 56 26.8125 56 \r\nQ 31.78125 56 36.171875 55.265625 \r\nQ 40.578125 54.546875 44.28125 53.078125 \r\nz\r\n\" id=\"DejaVuSans-115\"/>\r\n      <path id=\"DejaVuSans-32\"/>\r\n      <path d=\"M 44.390625 34.1875 \r\nQ 47.5625 33.109375 50.5625 29.59375 \r\nQ 53.5625 26.078125 56.59375 19.921875 \r\nL 66.609375 0 \r\nL 56 0 \r\nL 46.6875 18.703125 \r\nQ 43.0625 26.03125 39.671875 28.421875 \r\nQ 36.28125 30.8125 30.421875 30.8125 \r\nL 19.671875 30.8125 \r\nL 19.671875 0 \r\nL 9.8125 0 \r\nL 9.8125 72.90625 \r\nL 32.078125 72.90625 \r\nQ 44.578125 72.90625 50.734375 67.671875 \r\nQ 56.890625 62.453125 56.890625 51.90625 \r\nQ 56.890625 45.015625 53.6875 40.46875 \r\nQ 50.484375 35.9375 44.390625 34.1875 \r\nz\r\nM 19.671875 64.796875 \r\nL 19.671875 38.921875 \r\nL 32.078125 38.921875 \r\nQ 39.203125 38.921875 42.84375 42.21875 \r\nQ 46.484375 45.515625 46.484375 51.90625 \r\nQ 46.484375 58.296875 42.84375 61.546875 \r\nQ 39.203125 64.796875 32.078125 64.796875 \r\nz\r\n\" id=\"DejaVuSans-82\"/>\r\n      <path d=\"M 54.890625 33.015625 \r\nL 54.890625 0 \r\nL 45.90625 0 \r\nL 45.90625 32.71875 \r\nQ 45.90625 40.484375 42.875 44.328125 \r\nQ 39.84375 48.1875 33.796875 48.1875 \r\nQ 26.515625 48.1875 22.3125 43.546875 \r\nQ 18.109375 38.921875 18.109375 30.90625 \r\nL 18.109375 0 \r\nL 9.078125 0 \r\nL 9.078125 54.6875 \r\nL 18.109375 54.6875 \r\nL 18.109375 46.1875 \r\nQ 21.34375 51.125 25.703125 53.5625 \r\nQ 30.078125 56 35.796875 56 \r\nQ 45.21875 56 50.046875 50.171875 \r\nQ 54.890625 44.34375 54.890625 33.015625 \r\nz\r\n\" id=\"DejaVuSans-110\"/>\r\n      <path d=\"M 18.3125 70.21875 \r\nL 18.3125 54.6875 \r\nL 36.8125 54.6875 \r\nL 36.8125 47.703125 \r\nL 18.3125 47.703125 \r\nL 18.3125 18.015625 \r\nQ 18.3125 11.328125 20.140625 9.421875 \r\nQ 21.96875 7.515625 27.59375 7.515625 \r\nL 36.8125 7.515625 \r\nL 36.8125 0 \r\nL 27.59375 0 \r\nQ 17.1875 0 13.234375 3.875 \r\nQ 9.28125 7.765625 9.28125 18.015625 \r\nL 9.28125 47.703125 \r\nL 2.6875 47.703125 \r\nL 2.6875 54.6875 \r\nL 9.28125 54.6875 \r\nL 9.28125 70.21875 \r\nz\r\n\" id=\"DejaVuSans-116\"/>\r\n     </defs>\r\n     <g transform=\"translate(16.318125 165.512812)rotate(-90)scale(0.12 -0.12)\">\r\n      <use xlink:href=\"#DejaVuSans-71\"/>\r\n      <use x=\"77.490234\" xlink:href=\"#DejaVuSans-114\"/>\r\n      <use x=\"118.572266\" xlink:href=\"#DejaVuSans-111\"/>\r\n      <use x=\"179.753906\" xlink:href=\"#DejaVuSans-115\"/>\r\n      <use x=\"231.853516\" xlink:href=\"#DejaVuSans-115\"/>\r\n      <use x=\"283.953125\" xlink:href=\"#DejaVuSans-32\"/>\r\n      <use x=\"315.740234\" xlink:href=\"#DejaVuSans-82\"/>\r\n      <use x=\"385.160156\" xlink:href=\"#DejaVuSans-101\"/>\r\n      <use x=\"446.683594\" xlink:href=\"#DejaVuSans-110\"/>\r\n      <use x=\"510.0625\" xlink:href=\"#DejaVuSans-116\"/>\r\n     </g>\r\n    </g>\r\n   </g>\r\n   <g id=\"line2d_15\">\r\n    <path clip-path=\"url(#p37d4f5b7da)\" d=\"M 55.26375 231.394176 \r\nL 111.06375 213.138777 \r\nL 166.86375 163.328512 \r\nL 222.66375 122.740046 \r\nL 278.46375 87.797581 \r\nL 334.26375 74.560848 \r\nL 390.06375 33.721449 \r\n\" style=\"fill:none;stroke:#ff0000;stroke-linecap:square;stroke-width:1.5;\"/>\r\n   </g>\r\n   <g id=\"patch_3\">\r\n    <path d=\"M 55.26375 241.277812 \r\nL 55.26375 23.837812 \r\n\" style=\"fill:none;stroke:#000000;stroke-linecap:square;stroke-linejoin:miter;stroke-width:0.8;\"/>\r\n   </g>\r\n   <g id=\"patch_4\">\r\n    <path d=\"M 390.06375 241.277812 \r\nL 390.06375 23.837812 \r\n\" style=\"fill:none;stroke:#000000;stroke-linecap:square;stroke-linejoin:miter;stroke-width:0.8;\"/>\r\n   </g>\r\n   <g id=\"patch_5\">\r\n    <path d=\"M 55.26375 241.277812 \r\nL 390.06375 241.277812 \r\n\" style=\"fill:none;stroke:#000000;stroke-linecap:square;stroke-linejoin:miter;stroke-width:0.8;\"/>\r\n   </g>\r\n   <g id=\"patch_6\">\r\n    <path d=\"M 55.26375 23.837812 \r\nL 390.06375 23.837812 \r\n\" style=\"fill:none;stroke:#000000;stroke-linecap:square;stroke-linejoin:miter;stroke-width:0.8;\"/>\r\n   </g>\r\n   <g id=\"text_17\">\r\n    <!-- Average Gross Rent by Year -->\r\n    <defs>\r\n     <path d=\"M 53.421875 13.28125 \r\nL 24.03125 13.28125 \r\nL 19.390625 0 \r\nL 0.484375 0 \r\nL 27.484375 72.90625 \r\nL 49.90625 72.90625 \r\nL 76.90625 0 \r\nL 58.015625 0 \r\nz\r\nM 28.71875 26.8125 \r\nL 48.6875 26.8125 \r\nL 38.71875 55.8125 \r\nz\r\n\" id=\"DejaVuSans-Bold-65\"/>\r\n     <path d=\"M 1.515625 54.6875 \r\nL 19 54.6875 \r\nL 32.625 16.890625 \r\nL 46.1875 54.6875 \r\nL 63.71875 54.6875 \r\nL 42.1875 0 \r\nL 23 0 \r\nz\r\n\" id=\"DejaVuSans-Bold-118\"/>\r\n     <path d=\"M 62.984375 27.484375 \r\nL 62.984375 22.515625 \r\nL 22.125 22.515625 \r\nQ 22.75 16.359375 26.5625 13.28125 \r\nQ 30.375 10.203125 37.203125 10.203125 \r\nQ 42.71875 10.203125 48.5 11.84375 \r\nQ 54.296875 13.484375 60.40625 16.796875 \r\nL 60.40625 3.328125 \r\nQ 54.203125 0.984375 48 -0.21875 \r\nQ 41.796875 -1.421875 35.59375 -1.421875 \r\nQ 20.75 -1.421875 12.515625 6.125 \r\nQ 4.296875 13.671875 4.296875 27.296875 \r\nQ 4.296875 40.671875 12.375 48.328125 \r\nQ 20.453125 56 34.625 56 \r\nQ 47.515625 56 55.25 48.234375 \r\nQ 62.984375 40.484375 62.984375 27.484375 \r\nz\r\nM 45.015625 33.296875 \r\nQ 45.015625 38.28125 42.109375 41.328125 \r\nQ 39.203125 44.390625 34.515625 44.390625 \r\nQ 29.4375 44.390625 26.265625 41.53125 \r\nQ 23.09375 38.671875 22.3125 33.296875 \r\nz\r\n\" id=\"DejaVuSans-Bold-101\"/>\r\n     <path d=\"M 49.03125 39.796875 \r\nQ 46.734375 40.875 44.453125 41.375 \r\nQ 42.1875 41.890625 39.890625 41.890625 \r\nQ 33.15625 41.890625 29.515625 37.5625 \r\nQ 25.875 33.25 25.875 25.203125 \r\nL 25.875 0 \r\nL 8.40625 0 \r\nL 8.40625 54.6875 \r\nL 25.875 54.6875 \r\nL 25.875 45.703125 \r\nQ 29.25 51.078125 33.609375 53.53125 \r\nQ 37.984375 56 44.09375 56 \r\nQ 44.96875 56 45.984375 55.921875 \r\nQ 47.015625 55.859375 48.96875 55.609375 \r\nz\r\n\" id=\"DejaVuSans-Bold-114\"/>\r\n     <path d=\"M 32.90625 24.609375 \r\nQ 27.4375 24.609375 24.671875 22.75 \r\nQ 21.921875 20.90625 21.921875 17.28125 \r\nQ 21.921875 13.96875 24.140625 12.078125 \r\nQ 26.375 10.203125 30.328125 10.203125 \r\nQ 35.25 10.203125 38.625 13.734375 \r\nQ 42 17.28125 42 22.609375 \r\nL 42 24.609375 \r\nz\r\nM 59.625 31.203125 \r\nL 59.625 0 \r\nL 42 0 \r\nL 42 8.109375 \r\nQ 38.484375 3.125 34.078125 0.84375 \r\nQ 29.6875 -1.421875 23.390625 -1.421875 \r\nQ 14.890625 -1.421875 9.59375 3.53125 \r\nQ 4.296875 8.5 4.296875 16.40625 \r\nQ 4.296875 26.03125 10.90625 30.515625 \r\nQ 17.53125 35.015625 31.6875 35.015625 \r\nL 42 35.015625 \r\nL 42 36.375 \r\nQ 42 40.53125 38.71875 42.453125 \r\nQ 35.453125 44.390625 28.515625 44.390625 \r\nQ 22.90625 44.390625 18.0625 43.265625 \r\nQ 13.234375 42.140625 9.078125 39.890625 \r\nL 9.078125 53.21875 \r\nQ 14.703125 54.59375 20.359375 55.296875 \r\nQ 26.03125 56 31.6875 56 \r\nQ 46.484375 56 53.046875 50.171875 \r\nQ 59.625 44.34375 59.625 31.203125 \r\nz\r\n\" id=\"DejaVuSans-Bold-97\"/>\r\n     <path d=\"M 45.609375 9.28125 \r\nQ 42 4.5 37.640625 2.25 \r\nQ 33.296875 0 27.59375 0 \r\nQ 17.578125 0 11.03125 7.875 \r\nQ 4.5 15.765625 4.5 27.984375 \r\nQ 4.5 40.234375 11.03125 48.0625 \r\nQ 17.578125 55.90625 27.59375 55.90625 \r\nQ 33.296875 55.90625 37.640625 53.65625 \r\nQ 42 51.421875 45.609375 46.578125 \r\nL 45.609375 54.6875 \r\nL 63.1875 54.6875 \r\nL 63.1875 5.515625 \r\nQ 63.1875 -7.671875 54.859375 -14.625 \r\nQ 46.53125 -21.578125 30.71875 -21.578125 \r\nQ 25.59375 -21.578125 20.796875 -20.796875 \r\nQ 16.015625 -20.015625 11.1875 -18.40625 \r\nL 11.1875 -4.78125 \r\nQ 15.765625 -7.421875 20.15625 -8.71875 \r\nQ 24.5625 -10.015625 29 -10.015625 \r\nQ 37.59375 -10.015625 41.59375 -6.25 \r\nQ 45.609375 -2.484375 45.609375 5.515625 \r\nz\r\nM 34.078125 43.3125 \r\nQ 28.65625 43.3125 25.625 39.296875 \r\nQ 22.609375 35.296875 22.609375 27.984375 \r\nQ 22.609375 20.453125 25.53125 16.578125 \r\nQ 28.46875 12.703125 34.078125 12.703125 \r\nQ 39.546875 12.703125 42.578125 16.703125 \r\nQ 45.609375 20.703125 45.609375 27.984375 \r\nQ 45.609375 35.296875 42.578125 39.296875 \r\nQ 39.546875 43.3125 34.078125 43.3125 \r\nz\r\n\" id=\"DejaVuSans-Bold-103\"/>\r\n     <path id=\"DejaVuSans-Bold-32\"/>\r\n     <path d=\"M 74.703125 5.421875 \r\nQ 67.671875 2 60.109375 0.28125 \r\nQ 52.546875 -1.421875 44.484375 -1.421875 \r\nQ 26.265625 -1.421875 15.625 8.765625 \r\nQ 4.984375 18.953125 4.984375 36.375 \r\nQ 4.984375 54 15.8125 64.109375 \r\nQ 26.65625 74.21875 45.515625 74.21875 \r\nQ 52.78125 74.21875 59.4375 72.84375 \r\nQ 66.109375 71.484375 72.015625 68.796875 \r\nL 72.015625 53.71875 \r\nQ 65.921875 57.171875 59.890625 58.875 \r\nQ 53.859375 60.59375 47.796875 60.59375 \r\nQ 36.578125 60.59375 30.5 54.3125 \r\nQ 24.421875 48.046875 24.421875 36.375 \r\nQ 24.421875 24.8125 30.28125 18.5 \r\nQ 36.140625 12.203125 46.921875 12.203125 \r\nQ 49.859375 12.203125 52.375 12.5625 \r\nQ 54.890625 12.9375 56.890625 13.71875 \r\nL 56.890625 27.875 \r\nL 45.40625 27.875 \r\nL 45.40625 40.484375 \r\nL 74.703125 40.484375 \r\nz\r\n\" id=\"DejaVuSans-Bold-71\"/>\r\n     <path d=\"M 34.421875 43.5 \r\nQ 28.609375 43.5 25.5625 39.328125 \r\nQ 22.515625 35.15625 22.515625 27.296875 \r\nQ 22.515625 19.4375 25.5625 15.25 \r\nQ 28.609375 11.078125 34.421875 11.078125 \r\nQ 40.140625 11.078125 43.15625 15.25 \r\nQ 46.1875 19.4375 46.1875 27.296875 \r\nQ 46.1875 35.15625 43.15625 39.328125 \r\nQ 40.140625 43.5 34.421875 43.5 \r\nz\r\nM 34.421875 56 \r\nQ 48.53125 56 56.46875 48.375 \r\nQ 64.40625 40.765625 64.40625 27.296875 \r\nQ 64.40625 13.8125 56.46875 6.1875 \r\nQ 48.53125 -1.421875 34.421875 -1.421875 \r\nQ 20.265625 -1.421875 12.28125 6.1875 \r\nQ 4.296875 13.8125 4.296875 27.296875 \r\nQ 4.296875 40.765625 12.28125 48.375 \r\nQ 20.265625 56 34.421875 56 \r\nz\r\n\" id=\"DejaVuSans-Bold-111\"/>\r\n     <path d=\"M 51.125 52.984375 \r\nL 51.125 39.703125 \r\nQ 45.515625 42.046875 40.28125 43.21875 \r\nQ 35.0625 44.390625 30.421875 44.390625 \r\nQ 25.4375 44.390625 23.015625 43.140625 \r\nQ 20.609375 41.890625 20.609375 39.3125 \r\nQ 20.609375 37.203125 22.4375 36.078125 \r\nQ 24.265625 34.96875 29 34.421875 \r\nL 32.078125 33.984375 \r\nQ 45.515625 32.28125 50.140625 28.375 \r\nQ 54.78125 24.46875 54.78125 16.109375 \r\nQ 54.78125 7.375 48.328125 2.96875 \r\nQ 41.890625 -1.421875 29.109375 -1.421875 \r\nQ 23.6875 -1.421875 17.890625 -0.5625 \r\nQ 12.109375 0.296875 6 2 \r\nL 6 15.28125 \r\nQ 11.234375 12.75 16.71875 11.46875 \r\nQ 22.21875 10.203125 27.875 10.203125 \r\nQ 33.015625 10.203125 35.59375 11.609375 \r\nQ 38.1875 13.03125 38.1875 15.828125 \r\nQ 38.1875 18.171875 36.40625 19.3125 \r\nQ 34.625 20.453125 29.296875 21.09375 \r\nL 26.21875 21.484375 \r\nQ 14.546875 22.953125 9.859375 26.90625 \r\nQ 5.171875 30.859375 5.171875 38.921875 \r\nQ 5.171875 47.609375 11.125 51.796875 \r\nQ 17.09375 56 29.390625 56 \r\nQ 34.234375 56 39.546875 55.265625 \r\nQ 44.875 54.546875 51.125 52.984375 \r\nz\r\n\" id=\"DejaVuSans-Bold-115\"/>\r\n     <path d=\"M 35.890625 40.578125 \r\nQ 41.796875 40.578125 44.359375 42.765625 \r\nQ 46.921875 44.96875 46.921875 50 \r\nQ 46.921875 54.984375 44.359375 57.125 \r\nQ 41.796875 59.28125 35.890625 59.28125 \r\nL 27.984375 59.28125 \r\nL 27.984375 40.578125 \r\nz\r\nM 27.984375 27.59375 \r\nL 27.984375 0 \r\nL 9.1875 0 \r\nL 9.1875 72.90625 \r\nL 37.890625 72.90625 \r\nQ 52.296875 72.90625 59 68.0625 \r\nQ 65.71875 63.234375 65.71875 52.78125 \r\nQ 65.71875 45.5625 62.21875 40.921875 \r\nQ 58.734375 36.28125 51.703125 34.078125 \r\nQ 55.5625 33.203125 58.609375 30.09375 \r\nQ 61.671875 27 64.796875 20.703125 \r\nL 75 0 \r\nL 54.984375 0 \r\nL 46.09375 18.109375 \r\nQ 43.40625 23.578125 40.640625 25.578125 \r\nQ 37.890625 27.59375 33.296875 27.59375 \r\nz\r\n\" id=\"DejaVuSans-Bold-82\"/>\r\n     <path d=\"M 63.375 33.296875 \r\nL 63.375 0 \r\nL 45.796875 0 \r\nL 45.796875 5.421875 \r\nL 45.796875 25.484375 \r\nQ 45.796875 32.5625 45.484375 35.25 \r\nQ 45.171875 37.9375 44.390625 39.203125 \r\nQ 43.359375 40.921875 41.59375 41.875 \r\nQ 39.84375 42.828125 37.59375 42.828125 \r\nQ 32.125 42.828125 29 38.59375 \r\nQ 25.875 34.375 25.875 26.90625 \r\nL 25.875 0 \r\nL 8.40625 0 \r\nL 8.40625 54.6875 \r\nL 25.875 54.6875 \r\nL 25.875 46.6875 \r\nQ 29.828125 51.46875 34.265625 53.734375 \r\nQ 38.71875 56 44.09375 56 \r\nQ 53.5625 56 58.46875 50.1875 \r\nQ 63.375 44.390625 63.375 33.296875 \r\nz\r\n\" id=\"DejaVuSans-Bold-110\"/>\r\n     <path d=\"M 27.484375 70.21875 \r\nL 27.484375 54.6875 \r\nL 45.515625 54.6875 \r\nL 45.515625 42.1875 \r\nL 27.484375 42.1875 \r\nL 27.484375 19 \r\nQ 27.484375 15.1875 29 13.84375 \r\nQ 30.515625 12.5 35.015625 12.5 \r\nL 44 12.5 \r\nL 44 0 \r\nL 29 0 \r\nQ 18.65625 0 14.328125 4.3125 \r\nQ 10.015625 8.640625 10.015625 19 \r\nL 10.015625 42.1875 \r\nL 1.3125 42.1875 \r\nL 1.3125 54.6875 \r\nL 10.015625 54.6875 \r\nL 10.015625 70.21875 \r\nz\r\n\" id=\"DejaVuSans-Bold-116\"/>\r\n     <path d=\"M 37.5 11.28125 \r\nQ 43.109375 11.28125 46.0625 15.375 \r\nQ 49.03125 19.484375 49.03125 27.296875 \r\nQ 49.03125 35.109375 46.0625 39.203125 \r\nQ 43.109375 43.3125 37.5 43.3125 \r\nQ 31.890625 43.3125 28.875 39.1875 \r\nQ 25.875 35.0625 25.875 27.296875 \r\nQ 25.875 19.53125 28.875 15.40625 \r\nQ 31.890625 11.28125 37.5 11.28125 \r\nz\r\nM 25.875 46.6875 \r\nQ 29.5 51.46875 33.890625 53.734375 \r\nQ 38.28125 56 44 56 \r\nQ 54.109375 56 60.59375 47.96875 \r\nQ 67.09375 39.9375 67.09375 27.296875 \r\nQ 67.09375 14.65625 60.59375 6.609375 \r\nQ 54.109375 -1.421875 44 -1.421875 \r\nQ 38.28125 -1.421875 33.890625 0.84375 \r\nQ 29.5 3.125 25.875 7.90625 \r\nL 25.875 0 \r\nL 8.40625 0 \r\nL 8.40625 75.984375 \r\nL 25.875 75.984375 \r\nz\r\n\" id=\"DejaVuSans-Bold-98\"/>\r\n     <path d=\"M 1.21875 54.6875 \r\nL 18.703125 54.6875 \r\nL 33.40625 17.578125 \r\nL 45.90625 54.6875 \r\nL 63.375 54.6875 \r\nL 40.375 -5.171875 \r\nQ 36.921875 -14.3125 32.296875 -17.9375 \r\nQ 27.6875 -21.578125 20.125 -21.578125 \r\nL 10.015625 -21.578125 \r\nL 10.015625 -10.109375 \r\nL 15.484375 -10.109375 \r\nQ 19.921875 -10.109375 21.9375 -8.6875 \r\nQ 23.96875 -7.28125 25.09375 -3.609375 \r\nL 25.59375 -2.09375 \r\nz\r\n\" id=\"DejaVuSans-Bold-121\"/>\r\n     <path d=\"M -0.984375 72.90625 \r\nL 19.578125 72.90625 \r\nL 36.1875 46.921875 \r\nL 52.78125 72.90625 \r\nL 73.390625 72.90625 \r\nL 45.609375 30.71875 \r\nL 45.609375 0 \r\nL 26.8125 0 \r\nL 26.8125 30.71875 \r\nz\r\n\" id=\"DejaVuSans-Bold-89\"/>\r\n    </defs>\r\n    <g transform=\"translate(111.895312 17.837812)scale(0.14 -0.14)\">\r\n     <use xlink:href=\"#DejaVuSans-Bold-65\"/>\r\n     <use x=\"77.345703\" xlink:href=\"#DejaVuSans-Bold-118\"/>\r\n     <use x=\"142.53125\" xlink:href=\"#DejaVuSans-Bold-101\"/>\r\n     <use x=\"210.353516\" xlink:href=\"#DejaVuSans-Bold-114\"/>\r\n     <use x=\"259.669922\" xlink:href=\"#DejaVuSans-Bold-97\"/>\r\n     <use x=\"327.150391\" xlink:href=\"#DejaVuSans-Bold-103\"/>\r\n     <use x=\"398.732422\" xlink:href=\"#DejaVuSans-Bold-101\"/>\r\n     <use x=\"466.554688\" xlink:href=\"#DejaVuSans-Bold-32\"/>\r\n     <use x=\"501.369141\" xlink:href=\"#DejaVuSans-Bold-71\"/>\r\n     <use x=\"583.449219\" xlink:href=\"#DejaVuSans-Bold-114\"/>\r\n     <use x=\"632.765625\" xlink:href=\"#DejaVuSans-Bold-111\"/>\r\n     <use x=\"701.466797\" xlink:href=\"#DejaVuSans-Bold-115\"/>\r\n     <use x=\"760.988281\" xlink:href=\"#DejaVuSans-Bold-115\"/>\r\n     <use x=\"820.509766\" xlink:href=\"#DejaVuSans-Bold-32\"/>\r\n     <use x=\"855.324219\" xlink:href=\"#DejaVuSans-Bold-82\"/>\r\n     <use x=\"932.326172\" xlink:href=\"#DejaVuSans-Bold-101\"/>\r\n     <use x=\"1000.148438\" xlink:href=\"#DejaVuSans-Bold-110\"/>\r\n     <use x=\"1071.339844\" xlink:href=\"#DejaVuSans-Bold-116\"/>\r\n     <use x=\"1119.142578\" xlink:href=\"#DejaVuSans-Bold-32\"/>\r\n     <use x=\"1153.957031\" xlink:href=\"#DejaVuSans-Bold-98\"/>\r\n     <use x=\"1225.539062\" xlink:href=\"#DejaVuSans-Bold-121\"/>\r\n     <use x=\"1290.724609\" xlink:href=\"#DejaVuSans-Bold-32\"/>\r\n     <use x=\"1325.539062\" xlink:href=\"#DejaVuSans-Bold-89\"/>\r\n     <use x=\"1397.810547\" xlink:href=\"#DejaVuSans-Bold-101\"/>\r\n     <use x=\"1465.632812\" xlink:href=\"#DejaVuSans-Bold-97\"/>\r\n     <use x=\"1533.113281\" xlink:href=\"#DejaVuSans-Bold-114\"/>\r\n    </g>\r\n   </g>\r\n  </g>\r\n </g>\r\n <defs>\r\n  <clipPath id=\"p37d4f5b7da\">\r\n   <rect height=\"217.44\" width=\"334.8\" x=\"55.26375\" y=\"23.837812\"/>\r\n  </clipPath>\r\n </defs>\r\n</svg>\r\n",
      "image/png": "[encoded data removed]"
     },
     "metadata": {
      "needs_background": "light"
     }
    }
   ],
   "metadata": {}
  },
  {
   "cell_type": "markdown",
   "source": [
    "- - - "
   ],
   "metadata": {}
  },
  {
   "cell_type": "markdown",
   "source": [
    "## Average Prices by Neighborhood\n",
    "\n",
    "In this section, you will use hvplot to create two interactive visulizations of average prices with a dropdown selector for the neighborhood. The first visualization will be a line plot showing the trend of average price per square foot over time for each neighborhood.  The second will be a line plot showing the trend of average montly rent over time for each neighborhood.\n",
    "\n",
    "**Hint:** It will be easier to create a new DataFrame from grouping the data and calculating the mean prices for each year and neighborhood"
   ],
   "metadata": {}
  },
  {
   "cell_type": "code",
   "execution_count": 87,
   "source": [
    "# Group by year and neighborhood and then create a new dataframe of the mean values\r\n",
    "print(sfo_data.head(),'\\n')\r\n",
    "print(type(sfo_data.groupby(['Year','Neighborhood'])))\r\n",
    "\r\n",
    "sfo_neighborhood = sfo_data.groupby(['Year','Neighborhood']).apply(lambda x: x)\r\n",
    "print(type(sfo_neighborhood))\r\n",
    "\r\n",
    "sfo_neighborhood.head()"
   ],
   "outputs": [
    {
     "output_type": "stream",
     "name": "stdout",
     "text": [
      "          Neighborhood  Sale Price/SqFt  Housing Units  Gross Rent\n",
      "Year                                                              \n",
      "2010      Alamo Square              291         372560        1239\n",
      "2010        Anza Vista              267         372560        1239\n",
      "2010           Bayview              170         372560        1239\n",
      "2010  Buena Vista Park              347         372560        1239\n",
      "2010  Central Richmond              319         372560        1239 \n",
      "\n",
      "<class 'pandas.core.groupby.generic.DataFrameGroupBy'>\n",
      "<class 'pandas.core.frame.DataFrame'>\n"
     ]
    },
    {
     "output_type": "execute_result",
     "data": {
      "text/plain": [
       "          Neighborhood  Sale Price/SqFt  Housing Units  Gross Rent\n",
       "Year                                                              \n",
       "2010      Alamo Square              291         372560        1239\n",
       "2010        Anza Vista              267         372560        1239\n",
       "2010           Bayview              170         372560        1239\n",
       "2010  Buena Vista Park              347         372560        1239\n",
       "2010  Central Richmond              319         372560        1239"
      ],
      "text/html": [
       "<div>\n",
       "<style scoped>\n",
       "    .dataframe tbody tr th:only-of-type {\n",
       "        vertical-align: middle;\n",
       "    }\n",
       "\n",
       "    .dataframe tbody tr th {\n",
       "        vertical-align: top;\n",
       "    }\n",
       "\n",
       "    .dataframe thead th {\n",
       "        text-align: right;\n",
       "    }\n",
       "</style>\n",
       "<table border=\"1\" class=\"dataframe\">\n",
       "  <thead>\n",
       "    <tr style=\"text-align: right;\">\n",
       "      <th></th>\n",
       "      <th>Neighborhood</th>\n",
       "      <th>Sale Price/SqFt</th>\n",
       "      <th>Housing Units</th>\n",
       "      <th>Gross Rent</th>\n",
       "    </tr>\n",
       "    <tr>\n",
       "      <th>Year</th>\n",
       "      <th></th>\n",
       "      <th></th>\n",
       "      <th></th>\n",
       "      <th></th>\n",
       "    </tr>\n",
       "  </thead>\n",
       "  <tbody>\n",
       "    <tr>\n",
       "      <th>2010</th>\n",
       "      <td>Alamo Square</td>\n",
       "      <td>291</td>\n",
       "      <td>372560</td>\n",
       "      <td>1239</td>\n",
       "    </tr>\n",
       "    <tr>\n",
       "      <th>2010</th>\n",
       "      <td>Anza Vista</td>\n",
       "      <td>267</td>\n",
       "      <td>372560</td>\n",
       "      <td>1239</td>\n",
       "    </tr>\n",
       "    <tr>\n",
       "      <th>2010</th>\n",
       "      <td>Bayview</td>\n",
       "      <td>170</td>\n",
       "      <td>372560</td>\n",
       "      <td>1239</td>\n",
       "    </tr>\n",
       "    <tr>\n",
       "      <th>2010</th>\n",
       "      <td>Buena Vista Park</td>\n",
       "      <td>347</td>\n",
       "      <td>372560</td>\n",
       "      <td>1239</td>\n",
       "    </tr>\n",
       "    <tr>\n",
       "      <th>2010</th>\n",
       "      <td>Central Richmond</td>\n",
       "      <td>319</td>\n",
       "      <td>372560</td>\n",
       "      <td>1239</td>\n",
       "    </tr>\n",
       "  </tbody>\n",
       "</table>\n",
       "</div>"
      ]
     },
     "metadata": {},
     "execution_count": 87
    }
   ],
   "metadata": {}
  },
  {
   "cell_type": "code",
   "execution_count": 88,
   "source": [
    "# Use hvplot to create an interactive line chart of the average price per sq ft.\r\n",
    "# The plot should have a dropdown selector for the neighborhood\r\n",
    "\r\n",
    "sale_price_by_neighborhood = sfo_neighborhood.rename(columns={'Sale Price/SqFt':'Avg. Sale Price/SqFt'}).groupby(['Year','Neighborhood'])['Avg. Sale Price/SqFt'].mean().to_frame()\r\n",
    "print(sale_price_by_neighborhood, type(sale_price_by_neighborhood))\r\n",
    "\r\n",
    "plot_sale_price_by_neighborhood = sale_price_by_neighborhood.hvplot(\r\n",
    "    x='Year',\r\n",
    "    y='Avg. Sale Price/SqFt',\r\n",
    "    ylabel='Avg. Sale Price per Square Foot',\r\n",
    "    groupby='Neighborhood',\r\n",
    "    dynamic=False\r\n",
    "    )\r\n",
    "plot_sale_price_by_neighborhood"
   ],
   "outputs": [
    {
     "output_type": "stream",
     "name": "stdout",
     "text": [
      "                             Avg. Sale Price/SqFt\n",
      "Year Neighborhood                                \n",
      "2010 Alamo Square                             291\n",
      "     Anza Vista                               267\n",
      "     Bayview                                  170\n",
      "     Buena Vista Park                         347\n",
      "     Central Richmond                         319\n",
      "...                                           ...\n",
      "2016 Telegraph Hill                           903\n",
      "     Twin Peaks                               970\n",
      "     Van Ness/ Civic Center                   552\n",
      "     Visitacion Valley                        328\n",
      "     Westwood Park                            631\n",
      "\n",
      "[397 rows x 1 columns] <class 'pandas.core.frame.DataFrame'>\n"
     ]
    },
    {
     "output_type": "display_data",
     "data": {},
     "metadata": {}
    },
    {
     "output_type": "execute_result",
     "data": {
      "application/vnd.holoviews_exec.v0+json": "",
      "text/plain": [
       ":HoloMap   [Neighborhood]\n",
       "   :Curve   [Year]   (Avg. Sale Price/SqFt)"
      ],
      "text/html": [
       "<div id='5636'>\n",
       "\n",
       "\n",
       "\n",
       "\n",
       "\n",
       "  <div class=\"bk-root\" id=\"684b2539-7d2f-47d3-9f87-dceeedb1352e\" data-root-id=\"5636\"></div>\n",
       "</div>\n",
       "<script type=\"application/javascript\">(function(root) {\n",
       "  function embed_document(root) {\n",
       "    var docs_json = {\"0547684d-8b2c-4b2f-8756-1855b0024bf9\":{\"defs\":[],\"roots\":{\"references\":[{\"attributes\":{\"overlay\":{\"id\":\"5663\"}},\"id\":\"5661\",\"type\":\"BoxZoomTool\"},{\"attributes\":{\"axis\":{\"id\":\"5650\"},\"grid_line_color\":null,\"ticker\":null},\"id\":\"5653\",\"type\":\"Grid\"},{\"attributes\":{},\"id\":\"5651\",\"type\":\"BasicTicker\"},{\"attributes\":{\"margin\":[5,5,5,5],\"name\":\"VSpacer75126\",\"sizing_mode\":\"stretch_height\"},\"id\":\"5720\",\"type\":\"Spacer\"},{\"attributes\":{\"data\":{\"Avg. Sale Price/SqFt\":{\"__ndarray__\":\"IwEAABABAAC3AAAAgwEAAOQBAABaAgAAVAEAAA==\",\"dtype\":\"int32\",\"order\":\"little\",\"shape\":[7]},\"Avg_full_stop_Sale_Price_over_SqFt\":{\"__ndarray__\":\"IwEAABABAAC3AAAAgwEAAOQBAABaAgAAVAEAAA==\",\"dtype\":\"int32\",\"order\":\"little\",\"shape\":[7]},\"Year\":[2010,2011,2012,2013,2014,2015,2016]},\"selected\":{\"id\":\"5672\"},\"selection_policy\":{\"id\":\"5706\"}},\"id\":\"5671\",\"type\":\"ColumnDataSource\"},{\"attributes\":{\"source\":{\"id\":\"5671\"}},\"id\":\"5678\",\"type\":\"CDSView\"},{\"attributes\":{\"js_property_callbacks\":{\"change:value\":[{\"id\":\"5735\"}]},\"margin\":[20,20,20,20],\"min_width\":250,\"options\":[\"Alamo Square\",\"Anza Vista\",\"Bayview\",\"Bayview Heights\",\"Bernal Heights \",\"Buena Vista Park\",\"Central Richmond\",\"Central Sunset\",\"Clarendon Heights\",\"Corona Heights\",\"Cow Hollow\",\"Croker Amazon\",\"Diamond Heights\",\"Downtown \",\"Duboce Triangle\",\"Eureka Valley/Dolores Heights\",\"Excelsior\",\"Financial District North\",\"Financial District South\",\"Forest Knolls\",\"Glen Park\",\"Golden Gate Heights\",\"Haight Ashbury\",\"Hayes Valley\",\"Hunters Point\",\"Ingleside \",\"Ingleside Heights\",\"Inner Mission\",\"Inner Parkside\",\"Inner Richmond\",\"Inner Sunset\",\"Jordan Park/Laurel Heights\",\"Lake --The Presidio\",\"Lone Mountain\",\"Lower Pacific Heights\",\"Marina\",\"Merced Heights\",\"Midtown Terrace\",\"Miraloma Park\",\"Mission Bay\",\"Mission Dolores\",\"Mission Terrace\",\"Nob Hill\",\"Noe Valley\",\"North Beach\",\"North Waterfront\",\"Oceanview\",\"Outer Mission\",\"Outer Parkside\",\"Outer Richmond \",\"Outer Sunset\",\"Pacific Heights\",\"Park North\",\"Parkside\",\"Parnassus/Ashbury Heights\",\"Portola\",\"Potrero Hill\",\"Presidio Heights\",\"Russian Hill\",\"Silver Terrace\",\"South Beach\",\"South of Market\",\"Sunnyside\",\"Telegraph Hill\",\"Twin Peaks\",\"Union Square District\",\"Van Ness/ Civic Center\",\"Visitacion Valley\",\"West Portal\",\"Western Addition\",\"Westwood Highlands\",\"Westwood Park\",\"Yerba Buena\"],\"title\":\"Neighborhood\",\"value\":\"Alamo Square\",\"width\":250},\"id\":\"5722\",\"type\":\"Select\"},{\"attributes\":{\"children\":[{\"id\":\"5722\"}],\"css_classes\":[\"panel-widget-box\"],\"margin\":[5,5,5,5],\"name\":\"WidgetBox75119\"},\"id\":\"5721\",\"type\":\"Column\"},{\"attributes\":{},\"id\":\"5648\",\"type\":\"LinearScale\"},{\"attributes\":{\"axis\":{\"id\":\"5654\"},\"dimension\":1,\"grid_line_color\":null,\"ticker\":null},\"id\":\"5657\",\"type\":\"Grid\"},{\"attributes\":{},\"id\":\"5706\",\"type\":\"UnionRenderers\"},{\"attributes\":{\"axis_label\":\"Year\",\"formatter\":{\"id\":\"5682\"},\"major_label_policy\":{\"id\":\"5681\"},\"ticker\":{\"id\":\"5651\"}},\"id\":\"5650\",\"type\":\"LinearAxis\"},{\"attributes\":{\"margin\":[5,5,5,5],\"name\":\"HSpacer75130\",\"sizing_mode\":\"stretch_width\"},\"id\":\"5718\",\"type\":\"Spacer\"},{\"attributes\":{\"end\":643.9,\"reset_end\":643.9,\"reset_start\":141.1,\"start\":141.1,\"tags\":[[[\"Avg. Sale Price/SqFt\",\"Avg. Sale Price/SqFt\",null]]]},\"id\":\"5639\",\"type\":\"Range1d\"},{\"attributes\":{\"margin\":[5,5,5,5],\"name\":\"VSpacer75127\",\"sizing_mode\":\"stretch_height\"},\"id\":\"5723\",\"type\":\"Spacer\"},{\"attributes\":{},\"id\":\"5655\",\"type\":\"BasicTicker\"},{\"attributes\":{\"end\":2016.0,\"reset_end\":2016.0,\"reset_start\":2010.0,\"start\":2010.0,\"tags\":[[[\"Year\",\"Year\",null]]]},\"id\":\"5638\",\"type\":\"Range1d\"},{\"attributes\":{\"axis_label\":\"Avg. Sale Price per Square Foot\",\"formatter\":{\"id\":\"5685\"},\"major_label_policy\":{\"id\":\"5684\"},\"ticker\":{\"id\":\"5655\"}},\"id\":\"5654\",\"type\":\"LinearAxis\"},{\"attributes\":{\"callback\":null,\"renderers\":[{\"id\":\"5677\"}],\"tags\":[\"hv_created\"],\"tooltips\":[[\"Year\",\"@{Year}\"],[\"Avg. Sale Price/SqFt\",\"@{Avg_full_stop_Sale_Price_over_SqFt}\"]]},\"id\":\"5640\",\"type\":\"HoverTool\"},{\"attributes\":{},\"id\":\"5672\",\"type\":\"Selection\"},{\"attributes\":{\"active_multi\":null,\"tools\":[{\"id\":\"5640\"},{\"id\":\"5658\"},{\"id\":\"5659\"},{\"id\":\"5660\"},{\"id\":\"5661\"},{\"id\":\"5662\"}]},\"id\":\"5664\",\"type\":\"Toolbar\"},{\"attributes\":{\"margin\":[5,5,5,5],\"name\":\"HSpacer75129\",\"sizing_mode\":\"stretch_width\"},\"id\":\"5637\",\"type\":\"Spacer\"},{\"attributes\":{},\"id\":\"5684\",\"type\":\"AllLabels\"},{\"attributes\":{\"bottom_units\":\"screen\",\"fill_alpha\":0.5,\"fill_color\":\"lightgrey\",\"left_units\":\"screen\",\"level\":\"overlay\",\"line_alpha\":1.0,\"line_color\":\"black\",\"line_dash\":[4,4],\"line_width\":2,\"right_units\":\"screen\",\"syncable\":false,\"top_units\":\"screen\"},\"id\":\"5663\",\"type\":\"BoxAnnotation\"},{\"attributes\":{\"below\":[{\"id\":\"5650\"}],\"center\":[{\"id\":\"5653\"},{\"id\":\"5657\"}],\"height\":300,\"left\":[{\"id\":\"5654\"}],\"margin\":[5,5,5,5],\"min_border_bottom\":10,\"min_border_left\":10,\"min_border_right\":10,\"min_border_top\":10,\"renderers\":[{\"id\":\"5677\"}],\"sizing_mode\":\"fixed\",\"title\":{\"id\":\"5642\"},\"toolbar\":{\"id\":\"5664\"},\"width\":700,\"x_range\":{\"id\":\"5638\"},\"x_scale\":{\"id\":\"5646\"},\"y_range\":{\"id\":\"5639\"},\"y_scale\":{\"id\":\"5648\"}},\"id\":\"5641\",\"subtype\":\"Figure\",\"type\":\"Plot\"},{\"attributes\":{\"state\":{\"Alamo Square\":{\"content\":\"{\\\"events\\\": [{\\\"attr\\\": \\\"start\\\", \\\"kind\\\": \\\"ModelChanged\\\", \\\"model\\\": {\\\"id\\\": \\\"5639\\\"}, \\\"new\\\": 141.1}, {\\\"attr\\\": \\\"reset_start\\\", \\\"kind\\\": \\\"ModelChanged\\\", \\\"model\\\": {\\\"id\\\": \\\"5639\\\"}, \\\"new\\\": 141.1}, {\\\"attr\\\": \\\"end\\\", \\\"kind\\\": \\\"ModelChanged\\\", \\\"model\\\": {\\\"id\\\": \\\"5639\\\"}, \\\"new\\\": 643.9}, {\\\"attr\\\": \\\"reset_end\\\", \\\"kind\\\": \\\"ModelChanged\\\", \\\"model\\\": {\\\"id\\\": \\\"5639\\\"}, \\\"new\\\": 643.9}, {\\\"attr\\\": \\\"text\\\", \\\"kind\\\": \\\"ModelChanged\\\", \\\"model\\\": {\\\"id\\\": \\\"5642\\\"}, \\\"new\\\": \\\"Neighborhood: Alamo Square\\\"}, {\\\"cols\\\": null, \\\"column_source\\\": {\\\"id\\\": \\\"5671\\\"}, \\\"kind\\\": \\\"ColumnDataChanged\\\", \\\"new\\\": {\\\"Avg. Sale Price/SqFt\\\": {\\\"__ndarray__\\\": \\\"IwEAABABAAC3AAAAgwEAAOQBAABaAgAAVAEAAA==\\\", \\\"dtype\\\": \\\"int32\\\", \\\"order\\\": \\\"little\\\", \\\"shape\\\": [7]}, \\\"Avg_full_stop_Sale_Price_over_SqFt\\\": {\\\"__ndarray__\\\": \\\"IwEAABABAAC3AAAAgwEAAOQBAABaAgAAVAEAAA==\\\", \\\"dtype\\\": \\\"int32\\\", \\\"order\\\": \\\"little\\\", \\\"shape\\\": [7]}, \\\"Year\\\": [2010, 2011, 2012, 2013, 2014, 2015, 2016]}}], \\\"references\\\": []}\",\"header\":\"{\\\"msgid\\\": \\\"6266\\\", \\\"msgtype\\\": \\\"PATCH-DOC\\\"}\",\"metadata\":\"{}\"},\"Anza Vista\":{\"content\":\"{\\\"events\\\": [{\\\"attr\\\": \\\"end\\\", \\\"kind\\\": \\\"ModelChanged\\\", \\\"model\\\": {\\\"id\\\": \\\"5638\\\"}, \\\"new\\\": 2016.0}, {\\\"attr\\\": \\\"reset_end\\\", \\\"kind\\\": \\\"ModelChanged\\\", \\\"model\\\": {\\\"id\\\": \\\"5638\\\"}, \\\"new\\\": 2016.0}, {\\\"attr\\\": \\\"start\\\", \\\"kind\\\": \\\"ModelChanged\\\", \\\"model\\\": {\\\"id\\\": \\\"5639\\\"}, \\\"new\\\": 34.8}, {\\\"attr\\\": \\\"reset_start\\\", \\\"kind\\\": \\\"ModelChanged\\\", \\\"model\\\": {\\\"id\\\": \\\"5639\\\"}, \\\"new\\\": 34.8}, {\\\"attr\\\": \\\"end\\\", \\\"kind\\\": \\\"ModelChanged\\\", \\\"model\\\": {\\\"id\\\": \\\"5639\\\"}, \\\"new\\\": 673.2}, {\\\"attr\\\": \\\"reset_end\\\", \\\"kind\\\": \\\"ModelChanged\\\", \\\"model\\\": {\\\"id\\\": \\\"5639\\\"}, \\\"new\\\": 673.2}, {\\\"attr\\\": \\\"text\\\", \\\"kind\\\": \\\"ModelChanged\\\", \\\"model\\\": {\\\"id\\\": \\\"5642\\\"}, \\\"new\\\": \\\"Neighborhood: Anza Vista\\\"}, {\\\"cols\\\": null, \\\"column_source\\\": {\\\"id\\\": \\\"5671\\\"}, \\\"kind\\\": \\\"ColumnDataChanged\\\", \\\"new\\\": {\\\"Avg. Sale Price/SqFt\\\": {\\\"__ndarray__\\\": \\\"CwEAAFgBAADFAQAAbAIAANEBAABYAAAA\\\", \\\"dtype\\\": \\\"int32\\\", \\\"order\\\": \\\"little\\\", \\\"shape\\\": [6]}, \\\"Avg_full_stop_Sale_Price_over_SqFt\\\": {\\\"__ndarray__\\\": \\\"CwEAAFgBAADFAQAAbAIAANEBAABYAAAA\\\", \\\"dtype\\\": \\\"int32\\\", \\\"order\\\": \\\"little\\\", \\\"shape\\\": [6]}, \\\"Year\\\": [2010, 2012, 2013, 2014, 2015, 2016]}}], \\\"references\\\": []}\",\"header\":\"{\\\"msgid\\\": \\\"6259\\\", \\\"msgtype\\\": \\\"PATCH-DOC\\\"}\",\"metadata\":\"{}\"},\"Bayview\":{\"content\":\"{\\\"events\\\": [{\\\"attr\\\": \\\"start\\\", \\\"kind\\\": \\\"ModelChanged\\\", \\\"model\\\": {\\\"id\\\": \\\"5638\\\"}, \\\"new\\\": 2010.0}, {\\\"attr\\\": \\\"reset_start\\\", \\\"kind\\\": \\\"ModelChanged\\\", \\\"model\\\": {\\\"id\\\": \\\"5638\\\"}, \\\"new\\\": 2010.0}, {\\\"attr\\\": \\\"end\\\", \\\"kind\\\": \\\"ModelChanged\\\", \\\"model\\\": {\\\"id\\\": \\\"5638\\\"}, \\\"new\\\": 2014.0}, {\\\"attr\\\": \\\"reset_end\\\", \\\"kind\\\": \\\"ModelChanged\\\", \\\"model\\\": {\\\"id\\\": \\\"5638\\\"}, \\\"new\\\": 2014.0}, {\\\"attr\\\": \\\"start\\\", \\\"kind\\\": \\\"ModelChanged\\\", \\\"model\\\": {\\\"id\\\": \\\"5639\\\"}, \\\"new\\\": 155.6}, {\\\"attr\\\": \\\"reset_start\\\", \\\"kind\\\": \\\"ModelChanged\\\", \\\"model\\\": {\\\"id\\\": \\\"5639\\\"}, \\\"new\\\": 155.6}, {\\\"attr\\\": \\\"end\\\", \\\"kind\\\": \\\"ModelChanged\\\", \\\"model\\\": {\\\"id\\\": \\\"5639\\\"}, \\\"new\\\": 268.4}, {\\\"attr\\\": \\\"reset_end\\\", \\\"kind\\\": \\\"ModelChanged\\\", \\\"model\\\": {\\\"id\\\": \\\"5639\\\"}, \\\"new\\\": 268.4}, {\\\"attr\\\": \\\"text\\\", \\\"kind\\\": \\\"ModelChanged\\\", \\\"model\\\": {\\\"id\\\": \\\"5642\\\"}, \\\"new\\\": \\\"Neighborhood: Bayview\\\"}, {\\\"cols\\\": null, \\\"column_source\\\": {\\\"id\\\": \\\"5671\\\"}, \\\"kind\\\": \\\"ColumnDataChanged\\\", \\\"new\\\": {\\\"Avg. Sale Price/SqFt\\\": {\\\"__ndarray__\\\": \\\"qgAAAKwAAAClAAAAAwEAAP4AAAA=\\\", \\\"dtype\\\": \\\"int32\\\", \\\"order\\\": \\\"little\\\", \\\"shape\\\": [5]}, \\\"Avg_full_stop_Sale_Price_over_SqFt\\\": {\\\"__ndarray__\\\": \\\"qgAAAKwAAAClAAAAAwEAAP4AAAA=\\\", \\\"dtype\\\": \\\"int32\\\", \\\"order\\\": \\\"little\\\", \\\"shape\\\": [5]}, \\\"Year\\\": [2010, 2011, 2012, 2013, 2014]}}], \\\"references\\\": []}\",\"header\":\"{\\\"msgid\\\": \\\"6252\\\", \\\"msgtype\\\": \\\"PATCH-DOC\\\"}\",\"metadata\":\"{}\"},\"Bayview Heights\":{\"content\":\"{\\\"events\\\": [{\\\"attr\\\": \\\"start\\\", \\\"kind\\\": \\\"ModelChanged\\\", \\\"model\\\": {\\\"id\\\": \\\"5638\\\"}, \\\"new\\\": 2014.0}, {\\\"attr\\\": \\\"reset_start\\\", \\\"kind\\\": \\\"ModelChanged\\\", \\\"model\\\": {\\\"id\\\": \\\"5638\\\"}, \\\"new\\\": 2014.0}, {\\\"attr\\\": \\\"start\\\", \\\"kind\\\": \\\"ModelChanged\\\", \\\"model\\\": {\\\"id\\\": \\\"5639\\\"}, \\\"new\\\": 588.8}, {\\\"attr\\\": \\\"reset_start\\\", \\\"kind\\\": \\\"ModelChanged\\\", \\\"model\\\": {\\\"id\\\": \\\"5639\\\"}, \\\"new\\\": 588.8}, {\\\"attr\\\": \\\"end\\\", \\\"kind\\\": \\\"ModelChanged\\\", \\\"model\\\": {\\\"id\\\": \\\"5639\\\"}, \\\"new\\\": 591.2}, {\\\"attr\\\": \\\"reset_end\\\", \\\"kind\\\": \\\"ModelChanged\\\", \\\"model\\\": {\\\"id\\\": \\\"5639\\\"}, \\\"new\\\": 591.2}, {\\\"attr\\\": \\\"text\\\", \\\"kind\\\": \\\"ModelChanged\\\", \\\"model\\\": {\\\"id\\\": \\\"5642\\\"}, \\\"new\\\": \\\"Neighborhood: Bayview Heights\\\"}, {\\\"cols\\\": null, \\\"column_source\\\": {\\\"id\\\": \\\"5671\\\"}, \\\"kind\\\": \\\"ColumnDataChanged\\\", \\\"new\\\": {\\\"Avg. Sale Price/SqFt\\\": {\\\"__ndarray__\\\": \\\"TgIAAA==\\\", \\\"dtype\\\": \\\"int32\\\", \\\"order\\\": \\\"little\\\", \\\"shape\\\": [1]}, \\\"Avg_full_stop_Sale_Price_over_SqFt\\\": {\\\"__ndarray__\\\": \\\"TgIAAA==\\\", \\\"dtype\\\": \\\"int32\\\", \\\"order\\\": \\\"little\\\", \\\"shape\\\": [1]}, \\\"Year\\\": [2015]}}], \\\"references\\\": []}\",\"header\":\"{\\\"msgid\\\": \\\"6245\\\", \\\"msgtype\\\": \\\"PATCH-DOC\\\"}\",\"metadata\":\"{}\"},\"Bernal Heights \":{\"content\":\"{\\\"events\\\": [{\\\"attr\\\": \\\"start\\\", \\\"kind\\\": \\\"ModelChanged\\\", \\\"model\\\": {\\\"id\\\": \\\"5638\\\"}, \\\"new\\\": 2011.0}, {\\\"attr\\\": \\\"reset_start\\\", \\\"kind\\\": \\\"ModelChanged\\\", \\\"model\\\": {\\\"id\\\": \\\"5638\\\"}, \\\"new\\\": 2011.0}, {\\\"attr\\\": \\\"start\\\", \\\"kind\\\": \\\"ModelChanged\\\", \\\"model\\\": {\\\"id\\\": \\\"5639\\\"}, \\\"new\\\": 306.2}, {\\\"attr\\\": \\\"reset_start\\\", \\\"kind\\\": \\\"ModelChanged\\\", \\\"model\\\": {\\\"id\\\": \\\"5639\\\"}, \\\"new\\\": 306.2}, {\\\"attr\\\": \\\"end\\\", \\\"kind\\\": \\\"ModelChanged\\\", \\\"model\\\": {\\\"id\\\": \\\"5639\\\"}, \\\"new\\\": 1047.8}, {\\\"attr\\\": \\\"reset_end\\\", \\\"kind\\\": \\\"ModelChanged\\\", \\\"model\\\": {\\\"id\\\": \\\"5639\\\"}, \\\"new\\\": 1047.8}, {\\\"attr\\\": \\\"text\\\", \\\"kind\\\": \\\"ModelChanged\\\", \\\"model\\\": {\\\"id\\\": \\\"5642\\\"}, \\\"new\\\": \\\"Neighborhood: Bernal Heights\\\"}, {\\\"cols\\\": null, \\\"column_source\\\": {\\\"id\\\": \\\"5671\\\"}, \\\"kind\\\": \\\"ColumnDataChanged\\\", \\\"new\\\": {\\\"Avg. Sale Price/SqFt\\\": {\\\"__ndarray__\\\": \\\"1wEAAHABAAB2AgAAIAIAAMoBAADaAwAA\\\", \\\"dtype\\\": \\\"int32\\\", \\\"order\\\": \\\"little\\\", \\\"shape\\\": [6]}, \\\"Avg_full_stop_Sale_Price_over_SqFt\\\": {\\\"__ndarray__\\\": \\\"1wEAAHABAAB2AgAAIAIAAMoBAADaAwAA\\\", \\\"dtype\\\": \\\"int32\\\", \\\"order\\\": \\\"little\\\", \\\"shape\\\": [6]}, \\\"Year\\\": [2011, 2012, 2013, 2014, 2015, 2016]}}], \\\"references\\\": []}\",\"header\":\"{\\\"msgid\\\": \\\"6238\\\", \\\"msgtype\\\": \\\"PATCH-DOC\\\"}\",\"metadata\":\"{}\"},\"Buena Vista Park\":{\"content\":\"{\\\"events\\\": [{\\\"attr\\\": \\\"start\\\", \\\"kind\\\": \\\"ModelChanged\\\", \\\"model\\\": {\\\"id\\\": \\\"5639\\\"}, \\\"new\\\": 103.0}, {\\\"attr\\\": \\\"reset_start\\\", \\\"kind\\\": \\\"ModelChanged\\\", \\\"model\\\": {\\\"id\\\": \\\"5639\\\"}, \\\"new\\\": 103.0}, {\\\"attr\\\": \\\"end\\\", \\\"kind\\\": \\\"ModelChanged\\\", \\\"model\\\": {\\\"id\\\": \\\"5639\\\"}, \\\"new\\\": 919.0}, {\\\"attr\\\": \\\"reset_end\\\", \\\"kind\\\": \\\"ModelChanged\\\", \\\"model\\\": {\\\"id\\\": \\\"5639\\\"}, \\\"new\\\": 919.0}, {\\\"attr\\\": \\\"text\\\", \\\"kind\\\": \\\"ModelChanged\\\", \\\"model\\\": {\\\"id\\\": \\\"5642\\\"}, \\\"new\\\": \\\"Neighborhood: Buena Vista Park\\\"}, {\\\"cols\\\": null, \\\"column_source\\\": {\\\"id\\\": \\\"5671\\\"}, \\\"kind\\\": \\\"ColumnDataChanged\\\", \\\"new\\\": {\\\"Avg. Sale Price/SqFt\\\": {\\\"__ndarray__\\\": \\\"WwEAAKsAAABSAQAAxwEAACcCAABTAwAA\\\", \\\"dtype\\\": \\\"int32\\\", \\\"order\\\": \\\"little\\\", \\\"shape\\\": [6]}, \\\"Avg_full_stop_Sale_Price_over_SqFt\\\": {\\\"__ndarray__\\\": \\\"WwEAAKsAAABSAQAAxwEAACcCAABTAwAA\\\", \\\"dtype\\\": \\\"int32\\\", \\\"order\\\": \\\"little\\\", \\\"shape\\\": [6]}, \\\"Year\\\": [2010, 2011, 2012, 2013, 2015, 2016]}}], \\\"references\\\": []}\",\"header\":\"{\\\"msgid\\\": \\\"6231\\\", \\\"msgtype\\\": \\\"PATCH-DOC\\\"}\",\"metadata\":\"{}\"},\"Central Richmond\":{\"content\":\"{\\\"events\\\": [{\\\"attr\\\": \\\"start\\\", \\\"kind\\\": \\\"ModelChanged\\\", \\\"model\\\": {\\\"id\\\": \\\"5639\\\"}, \\\"new\\\": 221.0}, {\\\"attr\\\": \\\"reset_start\\\", \\\"kind\\\": \\\"ModelChanged\\\", \\\"model\\\": {\\\"id\\\": \\\"5639\\\"}, \\\"new\\\": 221.0}, {\\\"attr\\\": \\\"end\\\", \\\"kind\\\": \\\"ModelChanged\\\", \\\"model\\\": {\\\"id\\\": \\\"5639\\\"}, \\\"new\\\": 701.0}, {\\\"attr\\\": \\\"reset_end\\\", \\\"kind\\\": \\\"ModelChanged\\\", \\\"model\\\": {\\\"id\\\": \\\"5639\\\"}, \\\"new\\\": 701.0}, {\\\"attr\\\": \\\"text\\\", \\\"kind\\\": \\\"ModelChanged\\\", \\\"model\\\": {\\\"id\\\": \\\"5642\\\"}, \\\"new\\\": \\\"Neighborhood: Central Richmond\\\"}, {\\\"cols\\\": null, \\\"column_source\\\": {\\\"id\\\": \\\"5671\\\"}, \\\"kind\\\": \\\"ColumnDataChanged\\\", \\\"new\\\": {\\\"Avg. Sale Price/SqFt\\\": {\\\"__ndarray__\\\": \\\"PwEAAAUBAAAXAQAAVwEAAKcBAADZAQAAlQIAAA==\\\", \\\"dtype\\\": \\\"int32\\\", \\\"order\\\": \\\"little\\\", \\\"shape\\\": [7]}, \\\"Avg_full_stop_Sale_Price_over_SqFt\\\": {\\\"__ndarray__\\\": \\\"PwEAAAUBAAAXAQAAVwEAAKcBAADZAQAAlQIAAA==\\\", \\\"dtype\\\": \\\"int32\\\", \\\"order\\\": \\\"little\\\", \\\"shape\\\": [7]}, \\\"Year\\\": [2010, 2011, 2012, 2013, 2014, 2015, 2016]}}], \\\"references\\\": []}\",\"header\":\"{\\\"msgid\\\": \\\"6224\\\", \\\"msgtype\\\": \\\"PATCH-DOC\\\"}\",\"metadata\":\"{}\"},\"Central Sunset\":{\"content\":\"{\\\"events\\\": [{\\\"attr\\\": \\\"start\\\", \\\"kind\\\": \\\"ModelChanged\\\", \\\"model\\\": {\\\"id\\\": \\\"5638\\\"}, \\\"new\\\": 2010.0}, {\\\"attr\\\": \\\"reset_start\\\", \\\"kind\\\": \\\"ModelChanged\\\", \\\"model\\\": {\\\"id\\\": \\\"5638\\\"}, \\\"new\\\": 2010.0}, {\\\"attr\\\": \\\"end\\\", \\\"kind\\\": \\\"ModelChanged\\\", \\\"model\\\": {\\\"id\\\": \\\"5638\\\"}, \\\"new\\\": 2016.0}, {\\\"attr\\\": \\\"reset_end\\\", \\\"kind\\\": \\\"ModelChanged\\\", \\\"model\\\": {\\\"id\\\": \\\"5638\\\"}, \\\"new\\\": 2016.0}, {\\\"attr\\\": \\\"start\\\", \\\"kind\\\": \\\"ModelChanged\\\", \\\"model\\\": {\\\"id\\\": \\\"5639\\\"}, \\\"new\\\": 304.9}, {\\\"attr\\\": \\\"reset_start\\\", \\\"kind\\\": \\\"ModelChanged\\\", \\\"model\\\": {\\\"id\\\": \\\"5639\\\"}, \\\"new\\\": 304.9}, {\\\"attr\\\": \\\"end\\\", \\\"kind\\\": \\\"ModelChanged\\\", \\\"model\\\": {\\\"id\\\": \\\"5639\\\"}, \\\"new\\\": 606.1}, {\\\"attr\\\": \\\"reset_end\\\", \\\"kind\\\": \\\"ModelChanged\\\", \\\"model\\\": {\\\"id\\\": \\\"5639\\\"}, \\\"new\\\": 606.1}, {\\\"attr\\\": \\\"text\\\", \\\"kind\\\": \\\"ModelChanged\\\", \\\"model\\\": {\\\"id\\\": \\\"5642\\\"}, \\\"new\\\": \\\"Neighborhood: Central Sunset\\\"}, {\\\"cols\\\": null, \\\"column_source\\\": {\\\"id\\\": \\\"5671\\\"}, \\\"kind\\\": \\\"ColumnDataChanged\\\", \\\"new\\\": {\\\"Avg. Sale Price/SqFt\\\": {\\\"__ndarray__\\\": \\\"ogEAAIcBAABOAQAASgEAAMgBAADFAQAARQIAAA==\\\", \\\"dtype\\\": \\\"int32\\\", \\\"order\\\": \\\"little\\\", \\\"shape\\\": [7]}, \\\"Avg_full_stop_Sale_Price_over_SqFt\\\": {\\\"__ndarray__\\\": \\\"ogEAAIcBAABOAQAASgEAAMgBAADFAQAARQIAAA==\\\", \\\"dtype\\\": \\\"int32\\\", \\\"order\\\": \\\"little\\\", \\\"shape\\\": [7]}, \\\"Year\\\": [2010, 2011, 2012, 2013, 2014, 2015, 2016]}}], \\\"references\\\": []}\",\"header\":\"{\\\"msgid\\\": \\\"6217\\\", \\\"msgtype\\\": \\\"PATCH-DOC\\\"}\",\"metadata\":\"{}\"},\"Clarendon Heights\":{\"content\":\"{\\\"events\\\": [{\\\"attr\\\": \\\"start\\\", \\\"kind\\\": \\\"ModelChanged\\\", \\\"model\\\": {\\\"id\\\": \\\"5638\\\"}, \\\"new\\\": 2011.0}, {\\\"attr\\\": \\\"reset_start\\\", \\\"kind\\\": \\\"ModelChanged\\\", \\\"model\\\": {\\\"id\\\": \\\"5638\\\"}, \\\"new\\\": 2011.0}, {\\\"attr\\\": \\\"end\\\", \\\"kind\\\": \\\"ModelChanged\\\", \\\"model\\\": {\\\"id\\\": \\\"5638\\\"}, \\\"new\\\": 2013.0}, {\\\"attr\\\": \\\"reset_end\\\", \\\"kind\\\": \\\"ModelChanged\\\", \\\"model\\\": {\\\"id\\\": \\\"5638\\\"}, \\\"new\\\": 2013.0}, {\\\"attr\\\": \\\"start\\\", \\\"kind\\\": \\\"ModelChanged\\\", \\\"model\\\": {\\\"id\\\": \\\"5639\\\"}, \\\"new\\\": 446.3}, {\\\"attr\\\": \\\"reset_start\\\", \\\"kind\\\": \\\"ModelChanged\\\", \\\"model\\\": {\\\"id\\\": \\\"5639\\\"}, \\\"new\\\": 446.3}, {\\\"attr\\\": \\\"end\\\", \\\"kind\\\": \\\"ModelChanged\\\", \\\"model\\\": {\\\"id\\\": \\\"5639\\\"}, \\\"new\\\": 526.7}, {\\\"attr\\\": \\\"reset_end\\\", \\\"kind\\\": \\\"ModelChanged\\\", \\\"model\\\": {\\\"id\\\": \\\"5639\\\"}, \\\"new\\\": 526.7}, {\\\"attr\\\": \\\"text\\\", \\\"kind\\\": \\\"ModelChanged\\\", \\\"model\\\": {\\\"id\\\": \\\"5642\\\"}, \\\"new\\\": \\\"Neighborhood: Clarendon Heights\\\"}, {\\\"cols\\\": null, \\\"column_source\\\": {\\\"id\\\": \\\"5671\\\"}, \\\"kind\\\": \\\"ColumnDataChanged\\\", \\\"new\\\": {\\\"Avg. Sale Price/SqFt\\\": {\\\"__ndarray__\\\": \\\"CAIAAMUBAAA=\\\", \\\"dtype\\\": \\\"int32\\\", \\\"order\\\": \\\"little\\\", \\\"shape\\\": [2]}, \\\"Avg_full_stop_Sale_Price_over_SqFt\\\": {\\\"__ndarray__\\\": \\\"CAIAAMUBAAA=\\\", \\\"dtype\\\": \\\"int32\\\", \\\"order\\\": \\\"little\\\", \\\"shape\\\": [2]}, \\\"Year\\\": [2011, 2013]}}], \\\"references\\\": []}\",\"header\":\"{\\\"msgid\\\": \\\"6210\\\", \\\"msgtype\\\": \\\"PATCH-DOC\\\"}\",\"metadata\":\"{}\"},\"Corona Heights\":{\"content\":\"{\\\"events\\\": [{\\\"attr\\\": \\\"end\\\", \\\"kind\\\": \\\"ModelChanged\\\", \\\"model\\\": {\\\"id\\\": \\\"5638\\\"}, \\\"new\\\": 2015.0}, {\\\"attr\\\": \\\"reset_end\\\", \\\"kind\\\": \\\"ModelChanged\\\", \\\"model\\\": {\\\"id\\\": \\\"5638\\\"}, \\\"new\\\": 2015.0}, {\\\"attr\\\": \\\"start\\\", \\\"kind\\\": \\\"ModelChanged\\\", \\\"model\\\": {\\\"id\\\": \\\"5639\\\"}, \\\"new\\\": 134.2}, {\\\"attr\\\": \\\"reset_start\\\", \\\"kind\\\": \\\"ModelChanged\\\", \\\"model\\\": {\\\"id\\\": \\\"5639\\\"}, \\\"new\\\": 134.2}, {\\\"attr\\\": \\\"end\\\", \\\"kind\\\": \\\"ModelChanged\\\", \\\"model\\\": {\\\"id\\\": \\\"5639\\\"}, \\\"new\\\": 1187.8}, {\\\"attr\\\": \\\"reset_end\\\", \\\"kind\\\": \\\"ModelChanged\\\", \\\"model\\\": {\\\"id\\\": \\\"5639\\\"}, \\\"new\\\": 1187.8}, {\\\"attr\\\": \\\"text\\\", \\\"kind\\\": \\\"ModelChanged\\\", \\\"model\\\": {\\\"id\\\": \\\"5642\\\"}, \\\"new\\\": \\\"Neighborhood: Corona Heights\\\"}, {\\\"cols\\\": null, \\\"column_source\\\": {\\\"id\\\": \\\"5671\\\"}, \\\"kind\\\": \\\"ColumnDataChanged\\\", \\\"new\\\": {\\\"Avg. Sale Price/SqFt\\\": {\\\"__ndarray__\\\": \\\"cQEAAN4AAABkAQAAeAMAAEwEAAA=\\\", \\\"dtype\\\": \\\"int32\\\", \\\"order\\\": \\\"little\\\", \\\"shape\\\": [5]}, \\\"Avg_full_stop_Sale_Price_over_SqFt\\\": {\\\"__ndarray__\\\": \\\"cQEAAN4AAABkAQAAeAMAAEwEAAA=\\\", \\\"dtype\\\": \\\"int32\\\", \\\"order\\\": \\\"little\\\", \\\"shape\\\": [5]}, \\\"Year\\\": [2010, 2011, 2012, 2014, 2015]}}], \\\"references\\\": []}\",\"header\":\"{\\\"msgid\\\": \\\"6203\\\", \\\"msgtype\\\": \\\"PATCH-DOC\\\"}\",\"metadata\":\"{}\"},\"Cow Hollow\":{\"content\":\"{\\\"events\\\": [{\\\"attr\\\": \\\"start\\\", \\\"kind\\\": \\\"ModelChanged\\\", \\\"model\\\": {\\\"id\\\": \\\"5639\\\"}, \\\"new\\\": 323.1}, {\\\"attr\\\": \\\"reset_start\\\", \\\"kind\\\": \\\"ModelChanged\\\", \\\"model\\\": {\\\"id\\\": \\\"5639\\\"}, \\\"new\\\": 323.1}, {\\\"attr\\\": \\\"end\\\", \\\"kind\\\": \\\"ModelChanged\\\", \\\"model\\\": {\\\"id\\\": \\\"5639\\\"}, \\\"new\\\": 1125.9}, {\\\"attr\\\": \\\"reset_end\\\", \\\"kind\\\": \\\"ModelChanged\\\", \\\"model\\\": {\\\"id\\\": \\\"5639\\\"}, \\\"new\\\": 1125.9}, {\\\"attr\\\": \\\"text\\\", \\\"kind\\\": \\\"ModelChanged\\\", \\\"model\\\": {\\\"id\\\": \\\"5642\\\"}, \\\"new\\\": \\\"Neighborhood: Cow Hollow\\\"}, {\\\"cols\\\": null, \\\"column_source\\\": {\\\"id\\\": \\\"5671\\\"}, \\\"kind\\\": \\\"ColumnDataChanged\\\", \\\"new\\\": {\\\"Avg. Sale Price/SqFt\\\": {\\\"__ndarray__\\\": \\\"OQIAAIYBAACEAgAAwwIAALMCAABWAgAAIwQAAA==\\\", \\\"dtype\\\": \\\"int32\\\", \\\"order\\\": \\\"little\\\", \\\"shape\\\": [7]}, \\\"Avg_full_stop_Sale_Price_over_SqFt\\\": {\\\"__ndarray__\\\": \\\"OQIAAIYBAACEAgAAwwIAALMCAABWAgAAIwQAAA==\\\", \\\"dtype\\\": \\\"int32\\\", \\\"order\\\": \\\"little\\\", \\\"shape\\\": [7]}, \\\"Year\\\": [2010, 2011, 2012, 2013, 2014, 2015, 2016]}}], \\\"references\\\": []}\",\"header\":\"{\\\"msgid\\\": \\\"6196\\\", \\\"msgtype\\\": \\\"PATCH-DOC\\\"}\",\"metadata\":\"{}\"},\"Croker Amazon\":{\"content\":\"{\\\"events\\\": [{\\\"attr\\\": \\\"end\\\", \\\"kind\\\": \\\"ModelChanged\\\", \\\"model\\\": {\\\"id\\\": \\\"5638\\\"}, \\\"new\\\": 2016.0}, {\\\"attr\\\": \\\"reset_end\\\", \\\"kind\\\": \\\"ModelChanged\\\", \\\"model\\\": {\\\"id\\\": \\\"5638\\\"}, \\\"new\\\": 2016.0}, {\\\"attr\\\": \\\"start\\\", \\\"kind\\\": \\\"ModelChanged\\\", \\\"model\\\": {\\\"id\\\": \\\"5639\\\"}, \\\"new\\\": 102.9}, {\\\"attr\\\": \\\"reset_start\\\", \\\"kind\\\": \\\"ModelChanged\\\", \\\"model\\\": {\\\"id\\\": \\\"5639\\\"}, \\\"new\\\": 102.9}, {\\\"attr\\\": \\\"end\\\", \\\"kind\\\": \\\"ModelChanged\\\", \\\"model\\\": {\\\"id\\\": \\\"5639\\\"}, \\\"new\\\": 608.1}, {\\\"attr\\\": \\\"reset_end\\\", \\\"kind\\\": \\\"ModelChanged\\\", \\\"model\\\": {\\\"id\\\": \\\"5639\\\"}, \\\"new\\\": 608.1}, {\\\"attr\\\": \\\"text\\\", \\\"kind\\\": \\\"ModelChanged\\\", \\\"model\\\": {\\\"id\\\": \\\"5642\\\"}, \\\"new\\\": \\\"Neighborhood: Croker Amazon\\\"}, {\\\"cols\\\": null, \\\"column_source\\\": {\\\"id\\\": \\\"5671\\\"}, \\\"kind\\\": \\\"ColumnDataChanged\\\", \\\"new\\\": {\\\"Avg. Sale Price/SqFt\\\": {\\\"__ndarray__\\\": \\\"pQAAAJEAAACfAQAA3wAAAC0BAAA2AgAA\\\", \\\"dtype\\\": \\\"int32\\\", \\\"order\\\": \\\"little\\\", \\\"shape\\\": [6]}, \\\"Avg_full_stop_Sale_Price_over_SqFt\\\": {\\\"__ndarray__\\\": \\\"pQAAAJEAAACfAQAA3wAAAC0BAAA2AgAA\\\", \\\"dtype\\\": \\\"int32\\\", \\\"order\\\": \\\"little\\\", \\\"shape\\\": [6]}, \\\"Year\\\": [2010, 2011, 2012, 2013, 2015, 2016]}}], \\\"references\\\": []}\",\"header\":\"{\\\"msgid\\\": \\\"6189\\\", \\\"msgtype\\\": \\\"PATCH-DOC\\\"}\",\"metadata\":\"{}\"},\"Diamond Heights\":{\"content\":\"{\\\"events\\\": [{\\\"attr\\\": \\\"end\\\", \\\"kind\\\": \\\"ModelChanged\\\", \\\"model\\\": {\\\"id\\\": \\\"5638\\\"}, \\\"new\\\": 2013.0}, {\\\"attr\\\": \\\"reset_end\\\", \\\"kind\\\": \\\"ModelChanged\\\", \\\"model\\\": {\\\"id\\\": \\\"5638\\\"}, \\\"new\\\": 2013.0}, {\\\"attr\\\": \\\"start\\\", \\\"kind\\\": \\\"ModelChanged\\\", \\\"model\\\": {\\\"id\\\": \\\"5639\\\"}, \\\"new\\\": 349.3}, {\\\"attr\\\": \\\"reset_start\\\", \\\"kind\\\": \\\"ModelChanged\\\", \\\"model\\\": {\\\"id\\\": \\\"5639\\\"}, \\\"new\\\": 349.3}, {\\\"attr\\\": \\\"end\\\", \\\"kind\\\": \\\"ModelChanged\\\", \\\"model\\\": {\\\"id\\\": \\\"5639\\\"}, \\\"new\\\": 549.7}, {\\\"attr\\\": \\\"reset_end\\\", \\\"kind\\\": \\\"ModelChanged\\\", \\\"model\\\": {\\\"id\\\": \\\"5639\\\"}, \\\"new\\\": 549.7}, {\\\"attr\\\": \\\"text\\\", \\\"kind\\\": \\\"ModelChanged\\\", \\\"model\\\": {\\\"id\\\": \\\"5642\\\"}, \\\"new\\\": \\\"Neighborhood: Diamond Heights\\\"}, {\\\"cols\\\": null, \\\"column_source\\\": {\\\"id\\\": \\\"5671\\\"}, \\\"kind\\\": \\\"ColumnDataChanged\\\", \\\"new\\\": {\\\"Avg. Sale Price/SqFt\\\": {\\\"__ndarray__\\\": \\\"yAEAAH4BAABuAQAAFQIAAA==\\\", \\\"dtype\\\": \\\"int32\\\", \\\"order\\\": \\\"little\\\", \\\"shape\\\": [4]}, \\\"Avg_full_stop_Sale_Price_over_SqFt\\\": {\\\"__ndarray__\\\": \\\"yAEAAH4BAABuAQAAFQIAAA==\\\", \\\"dtype\\\": \\\"int32\\\", \\\"order\\\": \\\"little\\\", \\\"shape\\\": [4]}, \\\"Year\\\": [2010, 2011, 2012, 2013]}}], \\\"references\\\": []}\",\"header\":\"{\\\"msgid\\\": \\\"6182\\\", \\\"msgtype\\\": \\\"PATCH-DOC\\\"}\",\"metadata\":\"{}\"},\"Downtown \":{\"content\":\"{\\\"events\\\": [{\\\"attr\\\": \\\"start\\\", \\\"kind\\\": \\\"ModelChanged\\\", \\\"model\\\": {\\\"id\\\": \\\"5638\\\"}, \\\"new\\\": 2010.0}, {\\\"attr\\\": \\\"reset_start\\\", \\\"kind\\\": \\\"ModelChanged\\\", \\\"model\\\": {\\\"id\\\": \\\"5638\\\"}, \\\"new\\\": 2010.0}, {\\\"attr\\\": \\\"end\\\", \\\"kind\\\": \\\"ModelChanged\\\", \\\"model\\\": {\\\"id\\\": \\\"5638\\\"}, \\\"new\\\": 2016.0}, {\\\"attr\\\": \\\"reset_end\\\", \\\"kind\\\": \\\"ModelChanged\\\", \\\"model\\\": {\\\"id\\\": \\\"5638\\\"}, \\\"new\\\": 2016.0}, {\\\"attr\\\": \\\"start\\\", \\\"kind\\\": \\\"ModelChanged\\\", \\\"model\\\": {\\\"id\\\": \\\"5639\\\"}, \\\"new\\\": 185.6}, {\\\"attr\\\": \\\"reset_start\\\", \\\"kind\\\": \\\"ModelChanged\\\", \\\"model\\\": {\\\"id\\\": \\\"5639\\\"}, \\\"new\\\": 185.6}, {\\\"attr\\\": \\\"end\\\", \\\"kind\\\": \\\"ModelChanged\\\", \\\"model\\\": {\\\"id\\\": \\\"5639\\\"}, \\\"new\\\": 766.4}, {\\\"attr\\\": \\\"reset_end\\\", \\\"kind\\\": \\\"ModelChanged\\\", \\\"model\\\": {\\\"id\\\": \\\"5639\\\"}, \\\"new\\\": 766.4}, {\\\"attr\\\": \\\"text\\\", \\\"kind\\\": \\\"ModelChanged\\\", \\\"model\\\": {\\\"id\\\": \\\"5642\\\"}, \\\"new\\\": \\\"Neighborhood: Downtown\\\"}, {\\\"cols\\\": null, \\\"column_source\\\": {\\\"id\\\": \\\"5671\\\"}, \\\"kind\\\": \\\"ColumnDataChanged\\\", \\\"new\\\": {\\\"Avg. Sale Price/SqFt\\\": {\\\"__ndarray__\\\": \\\"8QAAAOoAAAANAQAAaQEAAKwBAADlAQAAzgIAAA==\\\", \\\"dtype\\\": \\\"int32\\\", \\\"order\\\": \\\"little\\\", \\\"shape\\\": [7]}, \\\"Avg_full_stop_Sale_Price_over_SqFt\\\": {\\\"__ndarray__\\\": \\\"8QAAAOoAAAANAQAAaQEAAKwBAADlAQAAzgIAAA==\\\", \\\"dtype\\\": \\\"int32\\\", \\\"order\\\": \\\"little\\\", \\\"shape\\\": [7]}, \\\"Year\\\": [2010, 2011, 2012, 2013, 2014, 2015, 2016]}}], \\\"references\\\": []}\",\"header\":\"{\\\"msgid\\\": \\\"6175\\\", \\\"msgtype\\\": \\\"PATCH-DOC\\\"}\",\"metadata\":\"{}\"},\"Duboce Triangle\":{\"content\":\"{\\\"events\\\": [{\\\"attr\\\": \\\"start\\\", \\\"kind\\\": \\\"ModelChanged\\\", \\\"model\\\": {\\\"id\\\": \\\"5638\\\"}, \\\"new\\\": 2011.0}, {\\\"attr\\\": \\\"reset_start\\\", \\\"kind\\\": \\\"ModelChanged\\\", \\\"model\\\": {\\\"id\\\": \\\"5638\\\"}, \\\"new\\\": 2011.0}, {\\\"attr\\\": \\\"end\\\", \\\"kind\\\": \\\"ModelChanged\\\", \\\"model\\\": {\\\"id\\\": \\\"5638\\\"}, \\\"new\\\": 2015.0}, {\\\"attr\\\": \\\"reset_end\\\", \\\"kind\\\": \\\"ModelChanged\\\", \\\"model\\\": {\\\"id\\\": \\\"5638\\\"}, \\\"new\\\": 2015.0}, {\\\"attr\\\": \\\"start\\\", \\\"kind\\\": \\\"ModelChanged\\\", \\\"model\\\": {\\\"id\\\": \\\"5639\\\"}, \\\"new\\\": 261.4}, {\\\"attr\\\": \\\"reset_start\\\", \\\"kind\\\": \\\"ModelChanged\\\", \\\"model\\\": {\\\"id\\\": \\\"5639\\\"}, \\\"new\\\": 261.4}, {\\\"attr\\\": \\\"end\\\", \\\"kind\\\": \\\"ModelChanged\\\", \\\"model\\\": {\\\"id\\\": \\\"5639\\\"}, \\\"new\\\": 664.6}, {\\\"attr\\\": \\\"reset_end\\\", \\\"kind\\\": \\\"ModelChanged\\\", \\\"model\\\": {\\\"id\\\": \\\"5639\\\"}, \\\"new\\\": 664.6}, {\\\"attr\\\": \\\"text\\\", \\\"kind\\\": \\\"ModelChanged\\\", \\\"model\\\": {\\\"id\\\": \\\"5642\\\"}, \\\"new\\\": \\\"Neighborhood: Duboce Triangle\\\"}, {\\\"cols\\\": null, \\\"column_source\\\": {\\\"id\\\": \\\"5671\\\"}, \\\"kind\\\": \\\"ColumnDataChanged\\\", \\\"new\\\": {\\\"Avg. Sale Price/SqFt\\\": {\\\"__ndarray__\\\": \\\"JwEAAMQBAAB2AgAAdwIAAA==\\\", \\\"dtype\\\": \\\"int32\\\", \\\"order\\\": \\\"little\\\", \\\"shape\\\": [4]}, \\\"Avg_full_stop_Sale_Price_over_SqFt\\\": {\\\"__ndarray__\\\": \\\"JwEAAMQBAAB2AgAAdwIAAA==\\\", \\\"dtype\\\": \\\"int32\\\", \\\"order\\\": \\\"little\\\", \\\"shape\\\": [4]}, \\\"Year\\\": [2011, 2012, 2014, 2015]}}], \\\"references\\\": []}\",\"header\":\"{\\\"msgid\\\": \\\"6168\\\", \\\"msgtype\\\": \\\"PATCH-DOC\\\"}\",\"metadata\":\"{}\"},\"Eureka Valley/Dolores Heights\":{\"content\":\"{\\\"events\\\": [{\\\"attr\\\": \\\"start\\\", \\\"kind\\\": \\\"ModelChanged\\\", \\\"model\\\": {\\\"id\\\": \\\"5639\\\"}, \\\"new\\\": 340.7}, {\\\"attr\\\": \\\"reset_start\\\", \\\"kind\\\": \\\"ModelChanged\\\", \\\"model\\\": {\\\"id\\\": \\\"5639\\\"}, \\\"new\\\": 340.7}, {\\\"attr\\\": \\\"end\\\", \\\"kind\\\": \\\"ModelChanged\\\", \\\"model\\\": {\\\"id\\\": \\\"5639\\\"}, \\\"new\\\": 1088.3}, {\\\"attr\\\": \\\"reset_end\\\", \\\"kind\\\": \\\"ModelChanged\\\", \\\"model\\\": {\\\"id\\\": \\\"5639\\\"}, \\\"new\\\": 1088.3}, {\\\"attr\\\": \\\"text\\\", \\\"kind\\\": \\\"ModelChanged\\\", \\\"model\\\": {\\\"id\\\": \\\"5642\\\"}, \\\"new\\\": \\\"Neighborhood: Eureka Valley/Dolores Heights\\\"}, {\\\"cols\\\": null, \\\"column_source\\\": {\\\"id\\\": \\\"5671\\\"}, \\\"kind\\\": \\\"ColumnDataChanged\\\", \\\"new\\\": {\\\"Avg. Sale Price/SqFt\\\": {\\\"__ndarray__\\\": \\\"kwEAAJ0BAAAMAgAAYAIAANgCAAAWAwAAAgQAAA==\\\", \\\"dtype\\\": \\\"int32\\\", \\\"order\\\": \\\"little\\\", \\\"shape\\\": [7]}, \\\"Avg_full_stop_Sale_Price_over_SqFt\\\": {\\\"__ndarray__\\\": \\\"kwEAAJ0BAAAMAgAAYAIAANgCAAAWAwAAAgQAAA==\\\", \\\"dtype\\\": \\\"int32\\\", \\\"order\\\": \\\"little\\\", \\\"shape\\\": [7]}, \\\"Year\\\": [2010, 2011, 2012, 2013, 2014, 2015, 2016]}}], \\\"references\\\": []}\",\"header\":\"{\\\"msgid\\\": \\\"6161\\\", \\\"msgtype\\\": \\\"PATCH-DOC\\\"}\",\"metadata\":\"{}\"},\"Excelsior\":{\"content\":\"{\\\"events\\\": [{\\\"attr\\\": \\\"start\\\", \\\"kind\\\": \\\"ModelChanged\\\", \\\"model\\\": {\\\"id\\\": \\\"5639\\\"}, \\\"new\\\": 264.5}, {\\\"attr\\\": \\\"reset_start\\\", \\\"kind\\\": \\\"ModelChanged\\\", \\\"model\\\": {\\\"id\\\": \\\"5639\\\"}, \\\"new\\\": 264.5}, {\\\"attr\\\": \\\"end\\\", \\\"kind\\\": \\\"ModelChanged\\\", \\\"model\\\": {\\\"id\\\": \\\"5639\\\"}, \\\"new\\\": 558.5}, {\\\"attr\\\": \\\"reset_end\\\", \\\"kind\\\": \\\"ModelChanged\\\", \\\"model\\\": {\\\"id\\\": \\\"5639\\\"}, \\\"new\\\": 558.5}, {\\\"attr\\\": \\\"text\\\", \\\"kind\\\": \\\"ModelChanged\\\", \\\"model\\\": {\\\"id\\\": \\\"5642\\\"}, \\\"new\\\": \\\"Neighborhood: Excelsior\\\"}, {\\\"cols\\\": null, \\\"column_source\\\": {\\\"id\\\": \\\"5671\\\"}, \\\"kind\\\": \\\"ColumnDataChanged\\\", \\\"new\\\": {\\\"Avg. Sale Price/SqFt\\\": {\\\"__ndarray__\\\": \\\"bAEAAHMBAAAhAQAAZgEAAJ4BAAAWAgAA\\\", \\\"dtype\\\": \\\"int32\\\", \\\"order\\\": \\\"little\\\", \\\"shape\\\": [6]}, \\\"Avg_full_stop_Sale_Price_over_SqFt\\\": {\\\"__ndarray__\\\": \\\"bAEAAHMBAAAhAQAAZgEAAJ4BAAAWAgAA\\\", \\\"dtype\\\": \\\"int32\\\", \\\"order\\\": \\\"little\\\", \\\"shape\\\": [6]}, \\\"Year\\\": [2010, 2012, 2013, 2014, 2015, 2016]}}], \\\"references\\\": []}\",\"header\":\"{\\\"msgid\\\": \\\"6154\\\", \\\"msgtype\\\": \\\"PATCH-DOC\\\"}\",\"metadata\":\"{}\"},\"Financial District North\":{\"content\":\"{\\\"events\\\": [{\\\"attr\\\": \\\"end\\\", \\\"kind\\\": \\\"ModelChanged\\\", \\\"model\\\": {\\\"id\\\": \\\"5638\\\"}, \\\"new\\\": 2016.0}, {\\\"attr\\\": \\\"reset_end\\\", \\\"kind\\\": \\\"ModelChanged\\\", \\\"model\\\": {\\\"id\\\": \\\"5638\\\"}, \\\"new\\\": 2016.0}, {\\\"attr\\\": \\\"start\\\", \\\"kind\\\": \\\"ModelChanged\\\", \\\"model\\\": {\\\"id\\\": \\\"5639\\\"}, \\\"new\\\": -69.4}, {\\\"attr\\\": \\\"reset_start\\\", \\\"kind\\\": \\\"ModelChanged\\\", \\\"model\\\": {\\\"id\\\": \\\"5639\\\"}, \\\"new\\\": -69.4}, {\\\"attr\\\": \\\"end\\\", \\\"kind\\\": \\\"ModelChanged\\\", \\\"model\\\": {\\\"id\\\": \\\"5639\\\"}, \\\"new\\\": 763.4}, {\\\"attr\\\": \\\"reset_end\\\", \\\"kind\\\": \\\"ModelChanged\\\", \\\"model\\\": {\\\"id\\\": \\\"5639\\\"}, \\\"new\\\": 763.4}, {\\\"attr\\\": \\\"text\\\", \\\"kind\\\": \\\"ModelChanged\\\", \\\"model\\\": {\\\"id\\\": \\\"5642\\\"}, \\\"new\\\": \\\"Neighborhood: Financial District North\\\"}, {\\\"cols\\\": null, \\\"column_source\\\": {\\\"id\\\": \\\"5671\\\"}, \\\"kind\\\": \\\"ColumnDataChanged\\\", \\\"new\\\": {\\\"Avg. Sale Price/SqFt\\\": {\\\"__ndarray__\\\": \\\"kQEAABkBAAAeAQAAEgEAAJkBAAC2AgAAAAAAAA==\\\", \\\"dtype\\\": \\\"int32\\\", \\\"order\\\": \\\"little\\\", \\\"shape\\\": [7]}, \\\"Avg_full_stop_Sale_Price_over_SqFt\\\": {\\\"__ndarray__\\\": \\\"kQEAABkBAAAeAQAAEgEAAJkBAAC2AgAAAAAAAA==\\\", \\\"dtype\\\": \\\"int32\\\", \\\"order\\\": \\\"little\\\", \\\"shape\\\": [7]}, \\\"Year\\\": [2010, 2011, 2012, 2013, 2014, 2015, 2016]}}], \\\"references\\\": []}\",\"header\":\"{\\\"msgid\\\": \\\"6147\\\", \\\"msgtype\\\": \\\"PATCH-DOC\\\"}\",\"metadata\":\"{}\"},\"Financial District South\":{\"content\":\"{\\\"events\\\": [{\\\"attr\\\": \\\"end\\\", \\\"kind\\\": \\\"ModelChanged\\\", \\\"model\\\": {\\\"id\\\": \\\"5638\\\"}, \\\"new\\\": 2015.0}, {\\\"attr\\\": \\\"reset_end\\\", \\\"kind\\\": \\\"ModelChanged\\\", \\\"model\\\": {\\\"id\\\": \\\"5638\\\"}, \\\"new\\\": 2015.0}, {\\\"attr\\\": \\\"start\\\", \\\"kind\\\": \\\"ModelChanged\\\", \\\"model\\\": {\\\"id\\\": \\\"5639\\\"}, \\\"new\\\": 108.8}, {\\\"attr\\\": \\\"reset_start\\\", \\\"kind\\\": \\\"ModelChanged\\\", \\\"model\\\": {\\\"id\\\": \\\"5639\\\"}, \\\"new\\\": 108.8}, {\\\"attr\\\": \\\"end\\\", \\\"kind\\\": \\\"ModelChanged\\\", \\\"model\\\": {\\\"id\\\": \\\"5639\\\"}, \\\"new\\\": 747.2}, {\\\"attr\\\": \\\"reset_end\\\", \\\"kind\\\": \\\"ModelChanged\\\", \\\"model\\\": {\\\"id\\\": \\\"5639\\\"}, \\\"new\\\": 747.2}, {\\\"attr\\\": \\\"text\\\", \\\"kind\\\": \\\"ModelChanged\\\", \\\"model\\\": {\\\"id\\\": \\\"5642\\\"}, \\\"new\\\": \\\"Neighborhood: Financial District South\\\"}, {\\\"cols\\\": null, \\\"column_source\\\": {\\\"id\\\": \\\"5671\\\"}, \\\"kind\\\": \\\"ColumnDataChanged\\\", \\\"new\\\": {\\\"Avg. Sale Price/SqFt\\\": {\\\"__ndarray__\\\": \\\"ogAAAGIBAABlAgAAtgIAAMUBAAA=\\\", \\\"dtype\\\": \\\"int32\\\", \\\"order\\\": \\\"little\\\", \\\"shape\\\": [5]}, \\\"Avg_full_stop_Sale_Price_over_SqFt\\\": {\\\"__ndarray__\\\": \\\"ogAAAGIBAABlAgAAtgIAAMUBAAA=\\\", \\\"dtype\\\": \\\"int32\\\", \\\"order\\\": \\\"little\\\", \\\"shape\\\": [5]}, \\\"Year\\\": [2010, 2011, 2012, 2014, 2015]}}], \\\"references\\\": []}\",\"header\":\"{\\\"msgid\\\": \\\"6140\\\", \\\"msgtype\\\": \\\"PATCH-DOC\\\"}\",\"metadata\":\"{}\"},\"Forest Knolls\":{\"content\":\"{\\\"events\\\": [{\\\"attr\\\": \\\"end\\\", \\\"kind\\\": \\\"ModelChanged\\\", \\\"model\\\": {\\\"id\\\": \\\"5638\\\"}, \\\"new\\\": 2012.0}, {\\\"attr\\\": \\\"reset_end\\\", \\\"kind\\\": \\\"ModelChanged\\\", \\\"model\\\": {\\\"id\\\": \\\"5638\\\"}, \\\"new\\\": 2012.0}, {\\\"attr\\\": \\\"start\\\", \\\"kind\\\": \\\"ModelChanged\\\", \\\"model\\\": {\\\"id\\\": \\\"5639\\\"}, \\\"new\\\": 186.5}, {\\\"attr\\\": \\\"reset_start\\\", \\\"kind\\\": \\\"ModelChanged\\\", \\\"model\\\": {\\\"id\\\": \\\"5639\\\"}, \\\"new\\\": 186.5}, {\\\"attr\\\": \\\"end\\\", \\\"kind\\\": \\\"ModelChanged\\\", \\\"model\\\": {\\\"id\\\": \\\"5639\\\"}, \\\"new\\\": 456.5}, {\\\"attr\\\": \\\"reset_end\\\", \\\"kind\\\": \\\"ModelChanged\\\", \\\"model\\\": {\\\"id\\\": \\\"5639\\\"}, \\\"new\\\": 456.5}, {\\\"attr\\\": \\\"text\\\", \\\"kind\\\": \\\"ModelChanged\\\", \\\"model\\\": {\\\"id\\\": \\\"5642\\\"}, \\\"new\\\": \\\"Neighborhood: Forest Knolls\\\"}, {\\\"cols\\\": null, \\\"column_source\\\": {\\\"id\\\": \\\"5671\\\"}, \\\"kind\\\": \\\"ColumnDataChanged\\\", \\\"new\\\": {\\\"Avg. Sale Price/SqFt\\\": {\\\"__ndarray__\\\": \\\"0QAAALIBAAA=\\\", \\\"dtype\\\": \\\"int32\\\", \\\"order\\\": \\\"little\\\", \\\"shape\\\": [2]}, \\\"Avg_full_stop_Sale_Price_over_SqFt\\\": {\\\"__ndarray__\\\": \\\"0QAAALIBAAA=\\\", \\\"dtype\\\": \\\"int32\\\", \\\"order\\\": \\\"little\\\", \\\"shape\\\": [2]}, \\\"Year\\\": [2010, 2012]}}], \\\"references\\\": []}\",\"header\":\"{\\\"msgid\\\": \\\"6133\\\", \\\"msgtype\\\": \\\"PATCH-DOC\\\"}\",\"metadata\":\"{}\"},\"Glen Park\":{\"content\":\"{\\\"events\\\": [{\\\"attr\\\": \\\"end\\\", \\\"kind\\\": \\\"ModelChanged\\\", \\\"model\\\": {\\\"id\\\": \\\"5638\\\"}, \\\"new\\\": 2016.0}, {\\\"attr\\\": \\\"reset_end\\\", \\\"kind\\\": \\\"ModelChanged\\\", \\\"model\\\": {\\\"id\\\": \\\"5638\\\"}, \\\"new\\\": 2016.0}, {\\\"attr\\\": \\\"start\\\", \\\"kind\\\": \\\"ModelChanged\\\", \\\"model\\\": {\\\"id\\\": \\\"5639\\\"}, \\\"new\\\": 408.2}, {\\\"attr\\\": \\\"reset_start\\\", \\\"kind\\\": \\\"ModelChanged\\\", \\\"model\\\": {\\\"id\\\": \\\"5639\\\"}, \\\"new\\\": 408.2}, {\\\"attr\\\": \\\"end\\\", \\\"kind\\\": \\\"ModelChanged\\\", \\\"model\\\": {\\\"id\\\": \\\"5639\\\"}, \\\"new\\\": 993.8}, {\\\"attr\\\": \\\"reset_end\\\", \\\"kind\\\": \\\"ModelChanged\\\", \\\"model\\\": {\\\"id\\\": \\\"5639\\\"}, \\\"new\\\": 993.8}, {\\\"attr\\\": \\\"text\\\", \\\"kind\\\": \\\"ModelChanged\\\", \\\"model\\\": {\\\"id\\\": \\\"5642\\\"}, \\\"new\\\": \\\"Neighborhood: Glen Park\\\"}, {\\\"cols\\\": null, \\\"column_source\\\": {\\\"id\\\": \\\"5671\\\"}, \\\"kind\\\": \\\"ColumnDataChanged\\\", \\\"new\\\": {\\\"Avg. Sale Price/SqFt\\\": {\\\"__ndarray__\\\": \\\"ywIAAMkBAADKAQAAKQIAAGQCAACxAwAA\\\", \\\"dtype\\\": \\\"int32\\\", \\\"order\\\": \\\"little\\\", \\\"shape\\\": [6]}, \\\"Avg_full_stop_Sale_Price_over_SqFt\\\": {\\\"__ndarray__\\\": \\\"ywIAAMkBAADKAQAAKQIAAGQCAACxAwAA\\\", \\\"dtype\\\": \\\"int32\\\", \\\"order\\\": \\\"little\\\", \\\"shape\\\": [6]}, \\\"Year\\\": [2010, 2011, 2013, 2014, 2015, 2016]}}], \\\"references\\\": []}\",\"header\":\"{\\\"msgid\\\": \\\"6126\\\", \\\"msgtype\\\": \\\"PATCH-DOC\\\"}\",\"metadata\":\"{}\"},\"Golden Gate Heights\":{\"content\":\"{\\\"events\\\": [{\\\"attr\\\": \\\"end\\\", \\\"kind\\\": \\\"ModelChanged\\\", \\\"model\\\": {\\\"id\\\": \\\"5638\\\"}, \\\"new\\\": 2015.0}, {\\\"attr\\\": \\\"reset_end\\\", \\\"kind\\\": \\\"ModelChanged\\\", \\\"model\\\": {\\\"id\\\": \\\"5638\\\"}, \\\"new\\\": 2015.0}, {\\\"attr\\\": \\\"start\\\", \\\"kind\\\": \\\"ModelChanged\\\", \\\"model\\\": {\\\"id\\\": \\\"5639\\\"}, \\\"new\\\": 287.2}, {\\\"attr\\\": \\\"reset_start\\\", \\\"kind\\\": \\\"ModelChanged\\\", \\\"model\\\": {\\\"id\\\": \\\"5639\\\"}, \\\"new\\\": 287.2}, {\\\"attr\\\": \\\"end\\\", \\\"kind\\\": \\\"ModelChanged\\\", \\\"model\\\": {\\\"id\\\": \\\"5639\\\"}, \\\"new\\\": 1016.8}, {\\\"attr\\\": \\\"reset_end\\\", \\\"kind\\\": \\\"ModelChanged\\\", \\\"model\\\": {\\\"id\\\": \\\"5639\\\"}, \\\"new\\\": 1016.8}, {\\\"attr\\\": \\\"text\\\", \\\"kind\\\": \\\"ModelChanged\\\", \\\"model\\\": {\\\"id\\\": \\\"5642\\\"}, \\\"new\\\": \\\"Neighborhood: Golden Gate Heights\\\"}, {\\\"cols\\\": null, \\\"column_source\\\": {\\\"id\\\": \\\"5671\\\"}, \\\"kind\\\": \\\"ColumnDataChanged\\\", \\\"new\\\": {\\\"Avg. Sale Price/SqFt\\\": {\\\"__ndarray__\\\": \\\"JwIAAFwBAAC8AwAANwIAAAQDAAA=\\\", \\\"dtype\\\": \\\"int32\\\", \\\"order\\\": \\\"little\\\", \\\"shape\\\": [5]}, \\\"Avg_full_stop_Sale_Price_over_SqFt\\\": {\\\"__ndarray__\\\": \\\"JwIAAFwBAAC8AwAANwIAAAQDAAA=\\\", \\\"dtype\\\": \\\"int32\\\", \\\"order\\\": \\\"little\\\", \\\"shape\\\": [5]}, \\\"Year\\\": [2010, 2011, 2013, 2014, 2015]}}], \\\"references\\\": []}\",\"header\":\"{\\\"msgid\\\": \\\"6119\\\", \\\"msgtype\\\": \\\"PATCH-DOC\\\"}\",\"metadata\":\"{}\"},\"Haight Ashbury\":{\"content\":\"{\\\"events\\\": [{\\\"attr\\\": \\\"start\\\", \\\"kind\\\": \\\"ModelChanged\\\", \\\"model\\\": {\\\"id\\\": \\\"5639\\\"}, \\\"new\\\": 222.0}, {\\\"attr\\\": \\\"reset_start\\\", \\\"kind\\\": \\\"ModelChanged\\\", \\\"model\\\": {\\\"id\\\": \\\"5639\\\"}, \\\"new\\\": 222.0}, {\\\"attr\\\": \\\"end\\\", \\\"kind\\\": \\\"ModelChanged\\\", \\\"model\\\": {\\\"id\\\": \\\"5639\\\"}, \\\"new\\\": 606.0}, {\\\"attr\\\": \\\"reset_end\\\", \\\"kind\\\": \\\"ModelChanged\\\", \\\"model\\\": {\\\"id\\\": \\\"5639\\\"}, \\\"new\\\": 606.0}, {\\\"attr\\\": \\\"text\\\", \\\"kind\\\": \\\"ModelChanged\\\", \\\"model\\\": {\\\"id\\\": \\\"5642\\\"}, \\\"new\\\": \\\"Neighborhood: Haight Ashbury\\\"}, {\\\"cols\\\": null, \\\"column_source\\\": {\\\"id\\\": \\\"5671\\\"}, \\\"kind\\\": \\\"ColumnDataChanged\\\", \\\"new\\\": {\\\"Avg. Sale Price/SqFt\\\": {\\\"__ndarray__\\\": \\\"/gAAAIgBAACiAQAA3gEAAPABAAA+AgAAEwIAAA==\\\", \\\"dtype\\\": \\\"int32\\\", \\\"order\\\": \\\"little\\\", \\\"shape\\\": [7]}, \\\"Avg_full_stop_Sale_Price_over_SqFt\\\": {\\\"__ndarray__\\\": \\\"/gAAAIgBAACiAQAA3gEAAPABAAA+AgAAEwIAAA==\\\", \\\"dtype\\\": \\\"int32\\\", \\\"order\\\": \\\"little\\\", \\\"shape\\\": [7]}, \\\"Year\\\": [2010, 2011, 2012, 2013, 2014, 2015, 2016]}}], \\\"references\\\": []}\",\"header\":\"{\\\"msgid\\\": \\\"6112\\\", \\\"msgtype\\\": \\\"PATCH-DOC\\\"}\",\"metadata\":\"{}\"},\"Hayes Valley\":{\"content\":\"{\\\"events\\\": [{\\\"attr\\\": \\\"end\\\", \\\"kind\\\": \\\"ModelChanged\\\", \\\"model\\\": {\\\"id\\\": \\\"5638\\\"}, \\\"new\\\": 2016.0}, {\\\"attr\\\": \\\"reset_end\\\", \\\"kind\\\": \\\"ModelChanged\\\", \\\"model\\\": {\\\"id\\\": \\\"5638\\\"}, \\\"new\\\": 2016.0}, {\\\"attr\\\": \\\"start\\\", \\\"kind\\\": \\\"ModelChanged\\\", \\\"model\\\": {\\\"id\\\": \\\"5639\\\"}, \\\"new\\\": 138.9}, {\\\"attr\\\": \\\"reset_start\\\", \\\"kind\\\": \\\"ModelChanged\\\", \\\"model\\\": {\\\"id\\\": \\\"5639\\\"}, \\\"new\\\": 138.9}, {\\\"attr\\\": \\\"end\\\", \\\"kind\\\": \\\"ModelChanged\\\", \\\"model\\\": {\\\"id\\\": \\\"5639\\\"}, \\\"new\\\": 572.1}, {\\\"attr\\\": \\\"reset_end\\\", \\\"kind\\\": \\\"ModelChanged\\\", \\\"model\\\": {\\\"id\\\": \\\"5639\\\"}, \\\"new\\\": 572.1}, {\\\"attr\\\": \\\"text\\\", \\\"kind\\\": \\\"ModelChanged\\\", \\\"model\\\": {\\\"id\\\": \\\"5642\\\"}, \\\"new\\\": \\\"Neighborhood: Hayes Valley\\\"}, {\\\"cols\\\": null, \\\"column_source\\\": {\\\"id\\\": \\\"5671\\\"}, \\\"kind\\\": \\\"ColumnDataChanged\\\", \\\"new\\\": {\\\"Avg. Sale Price/SqFt\\\": {\\\"__ndarray__\\\": \\\"EAEAABgBAAAyAQAA6wEAAKwBAAAYAgAArwAAAA==\\\", \\\"dtype\\\": \\\"int32\\\", \\\"order\\\": \\\"little\\\", \\\"shape\\\": [7]}, \\\"Avg_full_stop_Sale_Price_over_SqFt\\\": {\\\"__ndarray__\\\": \\\"EAEAABgBAAAyAQAA6wEAAKwBAAAYAgAArwAAAA==\\\", \\\"dtype\\\": \\\"int32\\\", \\\"order\\\": \\\"little\\\", \\\"shape\\\": [7]}, \\\"Year\\\": [2010, 2011, 2012, 2013, 2014, 2015, 2016]}}], \\\"references\\\": []}\",\"header\":\"{\\\"msgid\\\": \\\"6105\\\", \\\"msgtype\\\": \\\"PATCH-DOC\\\"}\",\"metadata\":\"{}\"},\"Hunters Point\":{\"content\":\"{\\\"events\\\": [{\\\"attr\\\": \\\"start\\\", \\\"kind\\\": \\\"ModelChanged\\\", \\\"model\\\": {\\\"id\\\": \\\"5639\\\"}, \\\"new\\\": -17.0}, {\\\"attr\\\": \\\"reset_start\\\", \\\"kind\\\": \\\"ModelChanged\\\", \\\"model\\\": {\\\"id\\\": \\\"5639\\\"}, \\\"new\\\": -17.0}, {\\\"attr\\\": \\\"end\\\", \\\"kind\\\": \\\"ModelChanged\\\", \\\"model\\\": {\\\"id\\\": \\\"5639\\\"}, \\\"new\\\": 187.0}, {\\\"attr\\\": \\\"reset_end\\\", \\\"kind\\\": \\\"ModelChanged\\\", \\\"model\\\": {\\\"id\\\": \\\"5639\\\"}, \\\"new\\\": 187.0}, {\\\"attr\\\": \\\"text\\\", \\\"kind\\\": \\\"ModelChanged\\\", \\\"model\\\": {\\\"id\\\": \\\"5642\\\"}, \\\"new\\\": \\\"Neighborhood: Hunters Point\\\"}, {\\\"cols\\\": null, \\\"column_source\\\": {\\\"id\\\": \\\"5671\\\"}, \\\"kind\\\": \\\"ColumnDataChanged\\\", \\\"new\\\": {\\\"Avg. Sale Price/SqFt\\\": {\\\"__ndarray__\\\": \\\"qgAAAAAAAAA=\\\", \\\"dtype\\\": \\\"int32\\\", \\\"order\\\": \\\"little\\\", \\\"shape\\\": [2]}, \\\"Avg_full_stop_Sale_Price_over_SqFt\\\": {\\\"__ndarray__\\\": \\\"qgAAAAAAAAA=\\\", \\\"dtype\\\": \\\"int32\\\", \\\"order\\\": \\\"little\\\", \\\"shape\\\": [2]}, \\\"Year\\\": [2010, 2015]}}], \\\"references\\\": []}\",\"header\":\"{\\\"msgid\\\": \\\"6098\\\", \\\"msgtype\\\": \\\"PATCH-DOC\\\"}\",\"metadata\":\"{}\"},\"Ingleside \":{\"content\":\"{\\\"events\\\": [{\\\"attr\\\": \\\"start\\\", \\\"kind\\\": \\\"ModelChanged\\\", \\\"model\\\": {\\\"id\\\": \\\"5638\\\"}, \\\"new\\\": 2010.0}, {\\\"attr\\\": \\\"reset_start\\\", \\\"kind\\\": \\\"ModelChanged\\\", \\\"model\\\": {\\\"id\\\": \\\"5638\\\"}, \\\"new\\\": 2010.0}, {\\\"attr\\\": \\\"end\\\", \\\"kind\\\": \\\"ModelChanged\\\", \\\"model\\\": {\\\"id\\\": \\\"5638\\\"}, \\\"new\\\": 2015.0}, {\\\"attr\\\": \\\"reset_end\\\", \\\"kind\\\": \\\"ModelChanged\\\", \\\"model\\\": {\\\"id\\\": \\\"5638\\\"}, \\\"new\\\": 2015.0}, {\\\"attr\\\": \\\"start\\\", \\\"kind\\\": \\\"ModelChanged\\\", \\\"model\\\": {\\\"id\\\": \\\"5639\\\"}, \\\"new\\\": 146.5}, {\\\"attr\\\": \\\"reset_start\\\", \\\"kind\\\": \\\"ModelChanged\\\", \\\"model\\\": {\\\"id\\\": \\\"5639\\\"}, \\\"new\\\": 146.5}, {\\\"attr\\\": \\\"end\\\", \\\"kind\\\": \\\"ModelChanged\\\", \\\"model\\\": {\\\"id\\\": \\\"5639\\\"}, \\\"new\\\": 692.5}, {\\\"attr\\\": \\\"reset_end\\\", \\\"kind\\\": \\\"ModelChanged\\\", \\\"model\\\": {\\\"id\\\": \\\"5639\\\"}, \\\"new\\\": 692.5}, {\\\"attr\\\": \\\"text\\\", \\\"kind\\\": \\\"ModelChanged\\\", \\\"model\\\": {\\\"id\\\": \\\"5642\\\"}, \\\"new\\\": \\\"Neighborhood: Ingleside\\\"}, {\\\"cols\\\": null, \\\"column_source\\\": {\\\"id\\\": \\\"5671\\\"}, \\\"kind\\\": \\\"ColumnDataChanged\\\", \\\"new\\\": {\\\"Avg. Sale Price/SqFt\\\": {\\\"__ndarray__\\\": \\\"EwEAAGQBAACHAgAAwAAAAA==\\\", \\\"dtype\\\": \\\"int32\\\", \\\"order\\\": \\\"little\\\", \\\"shape\\\": [4]}, \\\"Avg_full_stop_Sale_Price_over_SqFt\\\": {\\\"__ndarray__\\\": \\\"EwEAAGQBAACHAgAAwAAAAA==\\\", \\\"dtype\\\": \\\"int32\\\", \\\"order\\\": \\\"little\\\", \\\"shape\\\": [4]}, \\\"Year\\\": [2010, 2011, 2014, 2015]}}], \\\"references\\\": []}\",\"header\":\"{\\\"msgid\\\": \\\"6091\\\", \\\"msgtype\\\": \\\"PATCH-DOC\\\"}\",\"metadata\":\"{}\"},\"Ingleside Heights\":{\"content\":\"{\\\"events\\\": [{\\\"attr\\\": \\\"start\\\", \\\"kind\\\": \\\"ModelChanged\\\", \\\"model\\\": {\\\"id\\\": \\\"5638\\\"}, \\\"new\\\": 2011.0}, {\\\"attr\\\": \\\"reset_start\\\", \\\"kind\\\": \\\"ModelChanged\\\", \\\"model\\\": {\\\"id\\\": \\\"5638\\\"}, \\\"new\\\": 2011.0}, {\\\"attr\\\": \\\"start\\\", \\\"kind\\\": \\\"ModelChanged\\\", \\\"model\\\": {\\\"id\\\": \\\"5639\\\"}, \\\"new\\\": 160.7}, {\\\"attr\\\": \\\"reset_start\\\", \\\"kind\\\": \\\"ModelChanged\\\", \\\"model\\\": {\\\"id\\\": \\\"5639\\\"}, \\\"new\\\": 160.7}, {\\\"attr\\\": \\\"end\\\", \\\"kind\\\": \\\"ModelChanged\\\", \\\"model\\\": {\\\"id\\\": \\\"5639\\\"}, \\\"new\\\": 608.3}, {\\\"attr\\\": \\\"reset_end\\\", \\\"kind\\\": \\\"ModelChanged\\\", \\\"model\\\": {\\\"id\\\": \\\"5639\\\"}, \\\"new\\\": 608.3}, {\\\"attr\\\": \\\"text\\\", \\\"kind\\\": \\\"ModelChanged\\\", \\\"model\\\": {\\\"id\\\": \\\"5642\\\"}, \\\"new\\\": \\\"Neighborhood: Ingleside Heights\\\"}, {\\\"cols\\\": null, \\\"column_source\\\": {\\\"id\\\": \\\"5671\\\"}, \\\"kind\\\": \\\"ColumnDataChanged\\\", \\\"new\\\": {\\\"Avg. Sale Price/SqFt\\\": {\\\"__ndarray__\\\": \\\"xgAAADsCAAA=\\\", \\\"dtype\\\": \\\"int32\\\", \\\"order\\\": \\\"little\\\", \\\"shape\\\": [2]}, \\\"Avg_full_stop_Sale_Price_over_SqFt\\\": {\\\"__ndarray__\\\": \\\"xgAAADsCAAA=\\\", \\\"dtype\\\": \\\"int32\\\", \\\"order\\\": \\\"little\\\", \\\"shape\\\": [2]}, \\\"Year\\\": [2011, 2016]}}], \\\"references\\\": []}\",\"header\":\"{\\\"msgid\\\": \\\"6084\\\", \\\"msgtype\\\": \\\"PATCH-DOC\\\"}\",\"metadata\":\"{}\"},\"Inner Mission\":{\"content\":\"{\\\"events\\\": [{\\\"attr\\\": \\\"start\\\", \\\"kind\\\": \\\"ModelChanged\\\", \\\"model\\\": {\\\"id\\\": \\\"5639\\\"}, \\\"new\\\": 197.1}, {\\\"attr\\\": \\\"reset_start\\\", \\\"kind\\\": \\\"ModelChanged\\\", \\\"model\\\": {\\\"id\\\": \\\"5639\\\"}, \\\"new\\\": 197.1}, {\\\"attr\\\": \\\"end\\\", \\\"kind\\\": \\\"ModelChanged\\\", \\\"model\\\": {\\\"id\\\": \\\"5639\\\"}, \\\"new\\\": 687.9}, {\\\"attr\\\": \\\"reset_end\\\", \\\"kind\\\": \\\"ModelChanged\\\", \\\"model\\\": {\\\"id\\\": \\\"5639\\\"}, \\\"new\\\": 687.9}, {\\\"attr\\\": \\\"text\\\", \\\"kind\\\": \\\"ModelChanged\\\", \\\"model\\\": {\\\"id\\\": \\\"5642\\\"}, \\\"new\\\": \\\"Neighborhood: Inner Mission\\\"}, {\\\"cols\\\": null, \\\"column_source\\\": {\\\"id\\\": \\\"5671\\\"}, \\\"kind\\\": \\\"ColumnDataChanged\\\", \\\"new\\\": {\\\"Avg. Sale Price/SqFt\\\": {\\\"__ndarray__\\\": \\\"7gAAABsBAABQAQAAeQEAANABAACzAQAAhwIAAA==\\\", \\\"dtype\\\": \\\"int32\\\", \\\"order\\\": \\\"little\\\", \\\"shape\\\": [7]}, \\\"Avg_full_stop_Sale_Price_over_SqFt\\\": {\\\"__ndarray__\\\": \\\"7gAAABsBAABQAQAAeQEAANABAACzAQAAhwIAAA==\\\", \\\"dtype\\\": \\\"int32\\\", \\\"order\\\": \\\"little\\\", \\\"shape\\\": [7]}, \\\"Year\\\": [2010, 2011, 2012, 2013, 2014, 2015, 2016]}}], \\\"references\\\": []}\",\"header\":\"{\\\"msgid\\\": \\\"6077\\\", \\\"msgtype\\\": \\\"PATCH-DOC\\\"}\",\"metadata\":\"{}\"},\"Inner Parkside\":{\"content\":\"{\\\"events\\\": [{\\\"attr\\\": \\\"start\\\", \\\"kind\\\": \\\"ModelChanged\\\", \\\"model\\\": {\\\"id\\\": \\\"5639\\\"}, \\\"new\\\": 142.7}, {\\\"attr\\\": \\\"reset_start\\\", \\\"kind\\\": \\\"ModelChanged\\\", \\\"model\\\": {\\\"id\\\": \\\"5639\\\"}, \\\"new\\\": 142.7}, {\\\"attr\\\": \\\"end\\\", \\\"kind\\\": \\\"ModelChanged\\\", \\\"model\\\": {\\\"id\\\": \\\"5639\\\"}, \\\"new\\\": 818.3}, {\\\"attr\\\": \\\"reset_end\\\", \\\"kind\\\": \\\"ModelChanged\\\", \\\"model\\\": {\\\"id\\\": \\\"5639\\\"}, \\\"new\\\": 818.3}, {\\\"attr\\\": \\\"text\\\", \\\"kind\\\": \\\"ModelChanged\\\", \\\"model\\\": {\\\"id\\\": \\\"5642\\\"}, \\\"new\\\": \\\"Neighborhood: Inner Parkside\\\"}, {\\\"cols\\\": null, \\\"column_source\\\": {\\\"id\\\": \\\"5671\\\"}, \\\"kind\\\": \\\"ColumnDataChanged\\\", \\\"new\\\": {\\\"Avg. Sale Price/SqFt\\\": {\\\"__ndarray__\\\": \\\"xwAAAFUCAAD6AgAABgIAAA==\\\", \\\"dtype\\\": \\\"int32\\\", \\\"order\\\": \\\"little\\\", \\\"shape\\\": [4]}, \\\"Avg_full_stop_Sale_Price_over_SqFt\\\": {\\\"__ndarray__\\\": \\\"xwAAAFUCAAD6AgAABgIAAA==\\\", \\\"dtype\\\": \\\"int32\\\", \\\"order\\\": \\\"little\\\", \\\"shape\\\": [4]}, \\\"Year\\\": [2010, 2014, 2015, 2016]}}], \\\"references\\\": []}\",\"header\":\"{\\\"msgid\\\": \\\"6070\\\", \\\"msgtype\\\": \\\"PATCH-DOC\\\"}\",\"metadata\":\"{}\"},\"Inner Richmond\":{\"content\":\"{\\\"events\\\": [{\\\"attr\\\": \\\"start\\\", \\\"kind\\\": \\\"ModelChanged\\\", \\\"model\\\": {\\\"id\\\": \\\"5639\\\"}, \\\"new\\\": 264.2}, {\\\"attr\\\": \\\"reset_start\\\", \\\"kind\\\": \\\"ModelChanged\\\", \\\"model\\\": {\\\"id\\\": \\\"5639\\\"}, \\\"new\\\": 264.2}, {\\\"attr\\\": \\\"end\\\", \\\"kind\\\": \\\"ModelChanged\\\", \\\"model\\\": {\\\"id\\\": \\\"5639\\\"}, \\\"new\\\": 513.8}, {\\\"attr\\\": \\\"reset_end\\\", \\\"kind\\\": \\\"ModelChanged\\\", \\\"model\\\": {\\\"id\\\": \\\"5639\\\"}, \\\"new\\\": 513.8}, {\\\"attr\\\": \\\"text\\\", \\\"kind\\\": \\\"ModelChanged\\\", \\\"model\\\": {\\\"id\\\": \\\"5642\\\"}, \\\"new\\\": \\\"Neighborhood: Inner Richmond\\\"}, {\\\"cols\\\": null, \\\"column_source\\\": {\\\"id\\\": \\\"5671\\\"}, \\\"kind\\\": \\\"ColumnDataChanged\\\", \\\"new\\\": {\\\"Avg. Sale Price/SqFt\\\": {\\\"__ndarray__\\\": \\\"HQEAAGgBAAB1AQAALgEAAK4BAADtAQAAkwEAAA==\\\", \\\"dtype\\\": \\\"int32\\\", \\\"order\\\": \\\"little\\\", \\\"shape\\\": [7]}, \\\"Avg_full_stop_Sale_Price_over_SqFt\\\": {\\\"__ndarray__\\\": \\\"HQEAAGgBAAB1AQAALgEAAK4BAADtAQAAkwEAAA==\\\", \\\"dtype\\\": \\\"int32\\\", \\\"order\\\": \\\"little\\\", \\\"shape\\\": [7]}, \\\"Year\\\": [2010, 2011, 2012, 2013, 2014, 2015, 2016]}}], \\\"references\\\": []}\",\"header\":\"{\\\"msgid\\\": \\\"6063\\\", \\\"msgtype\\\": \\\"PATCH-DOC\\\"}\",\"metadata\":\"{}\"},\"Inner Sunset\":{\"content\":\"{\\\"events\\\": [{\\\"attr\\\": \\\"start\\\", \\\"kind\\\": \\\"ModelChanged\\\", \\\"model\\\": {\\\"id\\\": \\\"5639\\\"}, \\\"new\\\": 238.6}, {\\\"attr\\\": \\\"reset_start\\\", \\\"kind\\\": \\\"ModelChanged\\\", \\\"model\\\": {\\\"id\\\": \\\"5639\\\"}, \\\"new\\\": 238.6}, {\\\"attr\\\": \\\"end\\\", \\\"kind\\\": \\\"ModelChanged\\\", \\\"model\\\": {\\\"id\\\": \\\"5639\\\"}, \\\"new\\\": 675.4}, {\\\"attr\\\": \\\"reset_end\\\", \\\"kind\\\": \\\"ModelChanged\\\", \\\"model\\\": {\\\"id\\\": \\\"5639\\\"}, \\\"new\\\": 675.4}, {\\\"attr\\\": \\\"text\\\", \\\"kind\\\": \\\"ModelChanged\\\", \\\"model\\\": {\\\"id\\\": \\\"5642\\\"}, \\\"new\\\": \\\"Neighborhood: Inner Sunset\\\"}, {\\\"cols\\\": null, \\\"column_source\\\": {\\\"id\\\": \\\"5671\\\"}, \\\"kind\\\": \\\"ColumnDataChanged\\\", \\\"new\\\": {\\\"Avg. Sale Price/SqFt\\\": {\\\"__ndarray__\\\": \\\"EwEAAC4BAABFAQAAswEAANYBAAB/AgAAvQEAAA==\\\", \\\"dtype\\\": \\\"int32\\\", \\\"order\\\": \\\"little\\\", \\\"shape\\\": [7]}, \\\"Avg_full_stop_Sale_Price_over_SqFt\\\": {\\\"__ndarray__\\\": \\\"EwEAAC4BAABFAQAAswEAANYBAAB/AgAAvQEAAA==\\\", \\\"dtype\\\": \\\"int32\\\", \\\"order\\\": \\\"little\\\", \\\"shape\\\": [7]}, \\\"Year\\\": [2010, 2011, 2012, 2013, 2014, 2015, 2016]}}], \\\"references\\\": []}\",\"header\":\"{\\\"msgid\\\": \\\"6056\\\", \\\"msgtype\\\": \\\"PATCH-DOC\\\"}\",\"metadata\":\"{}\"},\"Jordan Park/Laurel Heights\":{\"content\":\"{\\\"events\\\": [{\\\"attr\\\": \\\"end\\\", \\\"kind\\\": \\\"ModelChanged\\\", \\\"model\\\": {\\\"id\\\": \\\"5638\\\"}, \\\"new\\\": 2016.0}, {\\\"attr\\\": \\\"reset_end\\\", \\\"kind\\\": \\\"ModelChanged\\\", \\\"model\\\": {\\\"id\\\": \\\"5638\\\"}, \\\"new\\\": 2016.0}, {\\\"attr\\\": \\\"start\\\", \\\"kind\\\": \\\"ModelChanged\\\", \\\"model\\\": {\\\"id\\\": \\\"5639\\\"}, \\\"new\\\": 350.9}, {\\\"attr\\\": \\\"reset_start\\\", \\\"kind\\\": \\\"ModelChanged\\\", \\\"model\\\": {\\\"id\\\": \\\"5639\\\"}, \\\"new\\\": 350.9}, {\\\"attr\\\": \\\"end\\\", \\\"kind\\\": \\\"ModelChanged\\\", \\\"model\\\": {\\\"id\\\": \\\"5639\\\"}, \\\"new\\\": 736.1}, {\\\"attr\\\": \\\"reset_end\\\", \\\"kind\\\": \\\"ModelChanged\\\", \\\"model\\\": {\\\"id\\\": \\\"5639\\\"}, \\\"new\\\": 736.1}, {\\\"attr\\\": \\\"text\\\", \\\"kind\\\": \\\"ModelChanged\\\", \\\"model\\\": {\\\"id\\\": \\\"5642\\\"}, \\\"new\\\": \\\"Neighborhood: Jordan Park/Laurel Heights\\\"}, {\\\"cols\\\": null, \\\"column_source\\\": {\\\"id\\\": \\\"5671\\\"}, \\\"kind\\\": \\\"ColumnDataChanged\\\", \\\"new\\\": {\\\"Avg. Sale Price/SqFt\\\": {\\\"__ndarray__\\\": \\\"owEAAGICAAB/AQAASAIAAKoBAABAAgAAwAIAAA==\\\", \\\"dtype\\\": \\\"int32\\\", \\\"order\\\": \\\"little\\\", \\\"shape\\\": [7]}, \\\"Avg_full_stop_Sale_Price_over_SqFt\\\": {\\\"__ndarray__\\\": \\\"owEAAGICAAB/AQAASAIAAKoBAABAAgAAwAIAAA==\\\", \\\"dtype\\\": \\\"int32\\\", \\\"order\\\": \\\"little\\\", \\\"shape\\\": [7]}, \\\"Year\\\": [2010, 2011, 2012, 2013, 2014, 2015, 2016]}}], \\\"references\\\": []}\",\"header\":\"{\\\"msgid\\\": \\\"6049\\\", \\\"msgtype\\\": \\\"PATCH-DOC\\\"}\",\"metadata\":\"{}\"},\"Lake --The Presidio\":{\"content\":\"{\\\"events\\\": [{\\\"attr\\\": \\\"start\\\", \\\"kind\\\": \\\"ModelChanged\\\", \\\"model\\\": {\\\"id\\\": \\\"5639\\\"}, \\\"new\\\": 295.2}, {\\\"attr\\\": \\\"reset_start\\\", \\\"kind\\\": \\\"ModelChanged\\\", \\\"model\\\": {\\\"id\\\": \\\"5639\\\"}, \\\"new\\\": 295.2}, {\\\"attr\\\": \\\"end\\\", \\\"kind\\\": \\\"ModelChanged\\\", \\\"model\\\": {\\\"id\\\": \\\"5639\\\"}, \\\"new\\\": 592.8}, {\\\"attr\\\": \\\"reset_end\\\", \\\"kind\\\": \\\"ModelChanged\\\", \\\"model\\\": {\\\"id\\\": \\\"5639\\\"}, \\\"new\\\": 592.8}, {\\\"attr\\\": \\\"text\\\", \\\"kind\\\": \\\"ModelChanged\\\", \\\"model\\\": {\\\"id\\\": \\\"5642\\\"}, \\\"new\\\": \\\"Neighborhood: Lake --The Presidio\\\"}, {\\\"cols\\\": null, \\\"column_source\\\": {\\\"id\\\": \\\"5671\\\"}, \\\"kind\\\": \\\"ColumnDataChanged\\\", \\\"new\\\": {\\\"Avg. Sale Price/SqFt\\\": {\\\"__ndarray__\\\": \\\"QAEAAEoBAAB8AQAAOAIAALABAACqAQAA\\\", \\\"dtype\\\": \\\"int32\\\", \\\"order\\\": \\\"little\\\", \\\"shape\\\": [6]}, \\\"Avg_full_stop_Sale_Price_over_SqFt\\\": {\\\"__ndarray__\\\": \\\"QAEAAEoBAAB8AQAAOAIAALABAACqAQAA\\\", \\\"dtype\\\": \\\"int32\\\", \\\"order\\\": \\\"little\\\", \\\"shape\\\": [6]}, \\\"Year\\\": [2010, 2011, 2012, 2013, 2014, 2015]}}], \\\"references\\\": []}\",\"header\":\"{\\\"msgid\\\": \\\"6042\\\", \\\"msgtype\\\": \\\"PATCH-DOC\\\"}\",\"metadata\":\"{}\"},\"Lone Mountain\":{\"content\":\"{\\\"events\\\": [{\\\"attr\\\": \\\"end\\\", \\\"kind\\\": \\\"ModelChanged\\\", \\\"model\\\": {\\\"id\\\": \\\"5638\\\"}, \\\"new\\\": 2015.0}, {\\\"attr\\\": \\\"reset_end\\\", \\\"kind\\\": \\\"ModelChanged\\\", \\\"model\\\": {\\\"id\\\": \\\"5638\\\"}, \\\"new\\\": 2015.0}, {\\\"attr\\\": \\\"start\\\", \\\"kind\\\": \\\"ModelChanged\\\", \\\"model\\\": {\\\"id\\\": \\\"5639\\\"}, \\\"new\\\": 252.5}, {\\\"attr\\\": \\\"reset_start\\\", \\\"kind\\\": \\\"ModelChanged\\\", \\\"model\\\": {\\\"id\\\": \\\"5639\\\"}, \\\"new\\\": 252.5}, {\\\"attr\\\": \\\"end\\\", \\\"kind\\\": \\\"ModelChanged\\\", \\\"model\\\": {\\\"id\\\": \\\"5639\\\"}, \\\"new\\\": 978.5}, {\\\"attr\\\": \\\"reset_end\\\", \\\"kind\\\": \\\"ModelChanged\\\", \\\"model\\\": {\\\"id\\\": \\\"5639\\\"}, \\\"new\\\": 978.5}, {\\\"attr\\\": \\\"text\\\", \\\"kind\\\": \\\"ModelChanged\\\", \\\"model\\\": {\\\"id\\\": \\\"5642\\\"}, \\\"new\\\": \\\"Neighborhood: Lone Mountain\\\"}, {\\\"cols\\\": null, \\\"column_source\\\": {\\\"id\\\": \\\"5671\\\"}, \\\"kind\\\": \\\"ColumnDataChanged\\\", \\\"new\\\": {\\\"Avg. Sale Price/SqFt\\\": {\\\"__ndarray__\\\": \\\"jgEAADkBAAAhAgAAeAEAAD0BAACWAwAA\\\", \\\"dtype\\\": \\\"int32\\\", \\\"order\\\": \\\"little\\\", \\\"shape\\\": [6]}, \\\"Avg_full_stop_Sale_Price_over_SqFt\\\": {\\\"__ndarray__\\\": \\\"jgEAADkBAAAhAgAAeAEAAD0BAACWAwAA\\\", \\\"dtype\\\": \\\"int32\\\", \\\"order\\\": \\\"little\\\", \\\"shape\\\": [6]}, \\\"Year\\\": [2010, 2011, 2012, 2013, 2014, 2015]}}], \\\"references\\\": []}\",\"header\":\"{\\\"msgid\\\": \\\"6035\\\", \\\"msgtype\\\": \\\"PATCH-DOC\\\"}\",\"metadata\":\"{}\"},\"Lower Pacific Heights\":{\"content\":\"{\\\"events\\\": [{\\\"attr\\\": \\\"start\\\", \\\"kind\\\": \\\"ModelChanged\\\", \\\"model\\\": {\\\"id\\\": \\\"5639\\\"}, \\\"new\\\": 253.3}, {\\\"attr\\\": \\\"reset_start\\\", \\\"kind\\\": \\\"ModelChanged\\\", \\\"model\\\": {\\\"id\\\": \\\"5639\\\"}, \\\"new\\\": 253.3}, {\\\"attr\\\": \\\"end\\\", \\\"kind\\\": \\\"ModelChanged\\\", \\\"model\\\": {\\\"id\\\": \\\"5639\\\"}, \\\"new\\\": 849.7}, {\\\"attr\\\": \\\"reset_end\\\", \\\"kind\\\": \\\"ModelChanged\\\", \\\"model\\\": {\\\"id\\\": \\\"5639\\\"}, \\\"new\\\": 849.7}, {\\\"attr\\\": \\\"text\\\", \\\"kind\\\": \\\"ModelChanged\\\", \\\"model\\\": {\\\"id\\\": \\\"5642\\\"}, \\\"new\\\": \\\"Neighborhood: Lower Pacific Heights\\\"}, {\\\"cols\\\": null, \\\"column_source\\\": {\\\"id\\\": \\\"5671\\\"}, \\\"kind\\\": \\\"ColumnDataChanged\\\", \\\"new\\\": {\\\"Avg. Sale Price/SqFt\\\": {\\\"__ndarray__\\\": \\\"dgEAAC8BAACMAQAAJAIAAMwCAAAgAwAAfAIAAA==\\\", \\\"dtype\\\": \\\"int32\\\", \\\"order\\\": \\\"little\\\", \\\"shape\\\": [7]}, \\\"Avg_full_stop_Sale_Price_over_SqFt\\\": {\\\"__ndarray__\\\": \\\"dgEAAC8BAACMAQAAJAIAAMwCAAAgAwAAfAIAAA==\\\", \\\"dtype\\\": \\\"int32\\\", \\\"order\\\": \\\"little\\\", \\\"shape\\\": [7]}, \\\"Year\\\": [2010, 2011, 2012, 2013, 2014, 2015, 2016]}}], \\\"references\\\": []}\",\"header\":\"{\\\"msgid\\\": \\\"6028\\\", \\\"msgtype\\\": \\\"PATCH-DOC\\\"}\",\"metadata\":\"{}\"},\"Marina\":{\"content\":\"{\\\"events\\\": [{\\\"attr\\\": \\\"start\\\", \\\"kind\\\": \\\"ModelChanged\\\", \\\"model\\\": {\\\"id\\\": \\\"5638\\\"}, \\\"new\\\": 2010.0}, {\\\"attr\\\": \\\"reset_start\\\", \\\"kind\\\": \\\"ModelChanged\\\", \\\"model\\\": {\\\"id\\\": \\\"5638\\\"}, \\\"new\\\": 2010.0}, {\\\"attr\\\": \\\"start\\\", \\\"kind\\\": \\\"ModelChanged\\\", \\\"model\\\": {\\\"id\\\": \\\"5639\\\"}, \\\"new\\\": 312.5}, {\\\"attr\\\": \\\"reset_start\\\", \\\"kind\\\": \\\"ModelChanged\\\", \\\"model\\\": {\\\"id\\\": \\\"5639\\\"}, \\\"new\\\": 312.5}, {\\\"attr\\\": \\\"end\\\", \\\"kind\\\": \\\"ModelChanged\\\", \\\"model\\\": {\\\"id\\\": \\\"5639\\\"}, \\\"new\\\": 1206.5}, {\\\"attr\\\": \\\"reset_end\\\", \\\"kind\\\": \\\"ModelChanged\\\", \\\"model\\\": {\\\"id\\\": \\\"5639\\\"}, \\\"new\\\": 1206.5}, {\\\"attr\\\": \\\"text\\\", \\\"kind\\\": \\\"ModelChanged\\\", \\\"model\\\": {\\\"id\\\": \\\"5642\\\"}, \\\"new\\\": \\\"Neighborhood: Marina\\\"}, {\\\"cols\\\": null, \\\"column_source\\\": {\\\"id\\\": \\\"5671\\\"}, \\\"kind\\\": \\\"ColumnDataChanged\\\", \\\"new\\\": {\\\"Avg. Sale Price/SqFt\\\": {\\\"__ndarray__\\\": \\\"gwEAAIYBAAC9AQAAjwIAAIICAABsBAAArwEAAA==\\\", \\\"dtype\\\": \\\"int32\\\", \\\"order\\\": \\\"little\\\", \\\"shape\\\": [7]}, \\\"Avg_full_stop_Sale_Price_over_SqFt\\\": {\\\"__ndarray__\\\": \\\"gwEAAIYBAAC9AQAAjwIAAIICAABsBAAArwEAAA==\\\", \\\"dtype\\\": \\\"int32\\\", \\\"order\\\": \\\"little\\\", \\\"shape\\\": [7]}, \\\"Year\\\": [2010, 2011, 2012, 2013, 2014, 2015, 2016]}}], \\\"references\\\": []}\",\"header\":\"{\\\"msgid\\\": \\\"6021\\\", \\\"msgtype\\\": \\\"PATCH-DOC\\\"}\",\"metadata\":\"{}\"},\"Merced Heights\":{\"content\":\"{\\\"events\\\": [{\\\"attr\\\": \\\"end\\\", \\\"kind\\\": \\\"ModelChanged\\\", \\\"model\\\": {\\\"id\\\": \\\"5638\\\"}, \\\"new\\\": 2016.0}, {\\\"attr\\\": \\\"reset_end\\\", \\\"kind\\\": \\\"ModelChanged\\\", \\\"model\\\": {\\\"id\\\": \\\"5638\\\"}, \\\"new\\\": 2016.0}, {\\\"attr\\\": \\\"start\\\", \\\"kind\\\": \\\"ModelChanged\\\", \\\"model\\\": {\\\"id\\\": \\\"5639\\\"}, \\\"new\\\": 321.5}, {\\\"attr\\\": \\\"reset_start\\\", \\\"kind\\\": \\\"ModelChanged\\\", \\\"model\\\": {\\\"id\\\": \\\"5639\\\"}, \\\"new\\\": 321.5}, {\\\"attr\\\": \\\"end\\\", \\\"kind\\\": \\\"ModelChanged\\\", \\\"model\\\": {\\\"id\\\": \\\"5639\\\"}, \\\"new\\\": 1515.5}, {\\\"attr\\\": \\\"reset_end\\\", \\\"kind\\\": \\\"ModelChanged\\\", \\\"model\\\": {\\\"id\\\": \\\"5639\\\"}, \\\"new\\\": 1515.5}, {\\\"attr\\\": \\\"text\\\", \\\"kind\\\": \\\"ModelChanged\\\", \\\"model\\\": {\\\"id\\\": \\\"5642\\\"}, \\\"new\\\": \\\"Neighborhood: Merced Heights\\\"}, {\\\"cols\\\": null, \\\"column_source\\\": {\\\"id\\\": \\\"5671\\\"}, \\\"kind\\\": \\\"ColumnDataChanged\\\", \\\"new\\\": {\\\"Avg. Sale Price/SqFt\\\": {\\\"__ndarray__\\\": \\\"pQEAABACAACIBQAA\\\", \\\"dtype\\\": \\\"int32\\\", \\\"order\\\": \\\"little\\\", \\\"shape\\\": [3]}, \\\"Avg_full_stop_Sale_Price_over_SqFt\\\": {\\\"__ndarray__\\\": \\\"pQEAABACAACIBQAA\\\", \\\"dtype\\\": \\\"int32\\\", \\\"order\\\": \\\"little\\\", \\\"shape\\\": [3]}, \\\"Year\\\": [2012, 2014, 2016]}}], \\\"references\\\": []}\",\"header\":\"{\\\"msgid\\\": \\\"6014\\\", \\\"msgtype\\\": \\\"PATCH-DOC\\\"}\",\"metadata\":\"{}\"},\"Midtown Terrace\":{\"content\":\"{\\\"events\\\": [{\\\"attr\\\": \\\"start\\\", \\\"kind\\\": \\\"ModelChanged\\\", \\\"model\\\": {\\\"id\\\": \\\"5638\\\"}, \\\"new\\\": 2012.0}, {\\\"attr\\\": \\\"reset_start\\\", \\\"kind\\\": \\\"ModelChanged\\\", \\\"model\\\": {\\\"id\\\": \\\"5638\\\"}, \\\"new\\\": 2012.0}, {\\\"attr\\\": \\\"end\\\", \\\"kind\\\": \\\"ModelChanged\\\", \\\"model\\\": {\\\"id\\\": \\\"5638\\\"}, \\\"new\\\": 2013.0}, {\\\"attr\\\": \\\"reset_end\\\", \\\"kind\\\": \\\"ModelChanged\\\", \\\"model\\\": {\\\"id\\\": \\\"5638\\\"}, \\\"new\\\": 2013.0}, {\\\"attr\\\": \\\"start\\\", \\\"kind\\\": \\\"ModelChanged\\\", \\\"model\\\": {\\\"id\\\": \\\"5639\\\"}, \\\"new\\\": 366.4}, {\\\"attr\\\": \\\"reset_start\\\", \\\"kind\\\": \\\"ModelChanged\\\", \\\"model\\\": {\\\"id\\\": \\\"5639\\\"}, \\\"new\\\": 366.4}, {\\\"attr\\\": \\\"end\\\", \\\"kind\\\": \\\"ModelChanged\\\", \\\"model\\\": {\\\"id\\\": \\\"5639\\\"}, \\\"new\\\": 733.6}, {\\\"attr\\\": \\\"reset_end\\\", \\\"kind\\\": \\\"ModelChanged\\\", \\\"model\\\": {\\\"id\\\": \\\"5639\\\"}, \\\"new\\\": 733.6}, {\\\"attr\\\": \\\"text\\\", \\\"kind\\\": \\\"ModelChanged\\\", \\\"model\\\": {\\\"id\\\": \\\"5642\\\"}, \\\"new\\\": \\\"Neighborhood: Midtown Terrace\\\"}, {\\\"cols\\\": null, \\\"column_source\\\": {\\\"id\\\": \\\"5671\\\"}, \\\"kind\\\": \\\"ColumnDataChanged\\\", \\\"new\\\": {\\\"Avg. Sale Price/SqFt\\\": {\\\"__ndarray__\\\": \\\"jQEAAL8CAAA=\\\", \\\"dtype\\\": \\\"int32\\\", \\\"order\\\": \\\"little\\\", \\\"shape\\\": [2]}, \\\"Avg_full_stop_Sale_Price_over_SqFt\\\": {\\\"__ndarray__\\\": \\\"jQEAAL8CAAA=\\\", \\\"dtype\\\": \\\"int32\\\", \\\"order\\\": \\\"little\\\", \\\"shape\\\": [2]}, \\\"Year\\\": [2012, 2013]}}], \\\"references\\\": []}\",\"header\":\"{\\\"msgid\\\": \\\"6007\\\", \\\"msgtype\\\": \\\"PATCH-DOC\\\"}\",\"metadata\":\"{}\"},\"Miraloma Park\":{\"content\":\"{\\\"events\\\": [{\\\"attr\\\": \\\"end\\\", \\\"kind\\\": \\\"ModelChanged\\\", \\\"model\\\": {\\\"id\\\": \\\"5638\\\"}, \\\"new\\\": 2014.0}, {\\\"attr\\\": \\\"reset_end\\\", \\\"kind\\\": \\\"ModelChanged\\\", \\\"model\\\": {\\\"id\\\": \\\"5638\\\"}, \\\"new\\\": 2014.0}, {\\\"attr\\\": \\\"start\\\", \\\"kind\\\": \\\"ModelChanged\\\", \\\"model\\\": {\\\"id\\\": \\\"5639\\\"}, \\\"new\\\": 328.7}, {\\\"attr\\\": \\\"reset_start\\\", \\\"kind\\\": \\\"ModelChanged\\\", \\\"model\\\": {\\\"id\\\": \\\"5639\\\"}, \\\"new\\\": 328.7}, {\\\"attr\\\": \\\"end\\\", \\\"kind\\\": \\\"ModelChanged\\\", \\\"model\\\": {\\\"id\\\": \\\"5639\\\"}, \\\"new\\\": 1352.3}, {\\\"attr\\\": \\\"reset_end\\\", \\\"kind\\\": \\\"ModelChanged\\\", \\\"model\\\": {\\\"id\\\": \\\"5639\\\"}, \\\"new\\\": 1352.3}, {\\\"attr\\\": \\\"text\\\", \\\"kind\\\": \\\"ModelChanged\\\", \\\"model\\\": {\\\"id\\\": \\\"5642\\\"}, \\\"new\\\": \\\"Neighborhood: Miraloma Park\\\"}, {\\\"cols\\\": null, \\\"column_source\\\": {\\\"id\\\": \\\"5671\\\"}, \\\"kind\\\": \\\"ColumnDataChanged\\\", \\\"new\\\": {\\\"Avg. Sale Price/SqFt\\\": {\\\"__ndarray__\\\": \\\"qAIAAJ4BAAD0AgAA8wQAAA==\\\", \\\"dtype\\\": \\\"int32\\\", \\\"order\\\": \\\"little\\\", \\\"shape\\\": [4]}, \\\"Avg_full_stop_Sale_Price_over_SqFt\\\": {\\\"__ndarray__\\\": \\\"qAIAAJ4BAAD0AgAA8wQAAA==\\\", \\\"dtype\\\": \\\"int32\\\", \\\"order\\\": \\\"little\\\", \\\"shape\\\": [4]}, \\\"Year\\\": [2010, 2011, 2012, 2014]}}], \\\"references\\\": []}\",\"header\":\"{\\\"msgid\\\": \\\"6000\\\", \\\"msgtype\\\": \\\"PATCH-DOC\\\"}\",\"metadata\":\"{}\"},\"Mission Bay\":{\"content\":\"{\\\"events\\\": [{\\\"attr\\\": \\\"end\\\", \\\"kind\\\": \\\"ModelChanged\\\", \\\"model\\\": {\\\"id\\\": \\\"5638\\\"}, \\\"new\\\": 2016.0}, {\\\"attr\\\": \\\"reset_end\\\", \\\"kind\\\": \\\"ModelChanged\\\", \\\"model\\\": {\\\"id\\\": \\\"5638\\\"}, \\\"new\\\": 2016.0}, {\\\"attr\\\": \\\"start\\\", \\\"kind\\\": \\\"ModelChanged\\\", \\\"model\\\": {\\\"id\\\": \\\"5639\\\"}, \\\"new\\\": -92.4}, {\\\"attr\\\": \\\"reset_start\\\", \\\"kind\\\": \\\"ModelChanged\\\", \\\"model\\\": {\\\"id\\\": \\\"5639\\\"}, \\\"new\\\": -92.4}, {\\\"attr\\\": \\\"end\\\", \\\"kind\\\": \\\"ModelChanged\\\", \\\"model\\\": {\\\"id\\\": \\\"5639\\\"}, \\\"new\\\": 1016.4}, {\\\"attr\\\": \\\"reset_end\\\", \\\"kind\\\": \\\"ModelChanged\\\", \\\"model\\\": {\\\"id\\\": \\\"5639\\\"}, \\\"new\\\": 1016.4}, {\\\"attr\\\": \\\"text\\\", \\\"kind\\\": \\\"ModelChanged\\\", \\\"model\\\": {\\\"id\\\": \\\"5642\\\"}, \\\"new\\\": \\\"Neighborhood: Mission Bay\\\"}, {\\\"cols\\\": null, \\\"column_source\\\": {\\\"id\\\": \\\"5671\\\"}, \\\"kind\\\": \\\"ColumnDataChanged\\\", \\\"new\\\": {\\\"Avg. Sale Price/SqFt\\\": {\\\"__ndarray__\\\": \\\"6QEAAPoBAACxAgAAAAAAANwAAACcAwAA\\\", \\\"dtype\\\": \\\"int32\\\", \\\"order\\\": \\\"little\\\", \\\"shape\\\": [6]}, \\\"Avg_full_stop_Sale_Price_over_SqFt\\\": {\\\"__ndarray__\\\": \\\"6QEAAPoBAACxAgAAAAAAANwAAACcAwAA\\\", \\\"dtype\\\": \\\"int32\\\", \\\"order\\\": \\\"little\\\", \\\"shape\\\": [6]}, \\\"Year\\\": [2010, 2011, 2012, 2013, 2014, 2016]}}], \\\"references\\\": []}\",\"header\":\"{\\\"msgid\\\": \\\"5993\\\", \\\"msgtype\\\": \\\"PATCH-DOC\\\"}\",\"metadata\":\"{}\"},\"Mission Dolores\":{\"content\":\"{\\\"events\\\": [{\\\"attr\\\": \\\"end\\\", \\\"kind\\\": \\\"ModelChanged\\\", \\\"model\\\": {\\\"id\\\": \\\"5638\\\"}, \\\"new\\\": 2015.0}, {\\\"attr\\\": \\\"reset_end\\\", \\\"kind\\\": \\\"ModelChanged\\\", \\\"model\\\": {\\\"id\\\": \\\"5638\\\"}, \\\"new\\\": 2015.0}, {\\\"attr\\\": \\\"start\\\", \\\"kind\\\": \\\"ModelChanged\\\", \\\"model\\\": {\\\"id\\\": \\\"5639\\\"}, \\\"new\\\": 218.5}, {\\\"attr\\\": \\\"reset_start\\\", \\\"kind\\\": \\\"ModelChanged\\\", \\\"model\\\": {\\\"id\\\": \\\"5639\\\"}, \\\"new\\\": 218.5}, {\\\"attr\\\": \\\"end\\\", \\\"kind\\\": \\\"ModelChanged\\\", \\\"model\\\": {\\\"id\\\": \\\"5639\\\"}, \\\"new\\\": 680.5}, {\\\"attr\\\": \\\"reset_end\\\", \\\"kind\\\": \\\"ModelChanged\\\", \\\"model\\\": {\\\"id\\\": \\\"5639\\\"}, \\\"new\\\": 680.5}, {\\\"attr\\\": \\\"text\\\", \\\"kind\\\": \\\"ModelChanged\\\", \\\"model\\\": {\\\"id\\\": \\\"5642\\\"}, \\\"new\\\": \\\"Neighborhood: Mission Dolores\\\"}, {\\\"cols\\\": null, \\\"column_source\\\": {\\\"id\\\": \\\"5671\\\"}, \\\"kind\\\": \\\"ColumnDataChanged\\\", \\\"new\\\": {\\\"Avg. Sale Price/SqFt\\\": {\\\"__ndarray__\\\": \\\"AQEAACUBAABAAQAAqwEAAIICAAA7AgAA\\\", \\\"dtype\\\": \\\"int32\\\", \\\"order\\\": \\\"little\\\", \\\"shape\\\": [6]}, \\\"Avg_full_stop_Sale_Price_over_SqFt\\\": {\\\"__ndarray__\\\": \\\"AQEAACUBAABAAQAAqwEAAIICAAA7AgAA\\\", \\\"dtype\\\": \\\"int32\\\", \\\"order\\\": \\\"little\\\", \\\"shape\\\": [6]}, \\\"Year\\\": [2010, 2011, 2012, 2013, 2014, 2015]}}], \\\"references\\\": []}\",\"header\":\"{\\\"msgid\\\": \\\"5986\\\", \\\"msgtype\\\": \\\"PATCH-DOC\\\"}\",\"metadata\":\"{}\"},\"Mission Terrace\":{\"content\":\"{\\\"events\\\": [{\\\"attr\\\": \\\"start\\\", \\\"kind\\\": \\\"ModelChanged\\\", \\\"model\\\": {\\\"id\\\": \\\"5639\\\"}, \\\"new\\\": 200.3}, {\\\"attr\\\": \\\"reset_start\\\", \\\"kind\\\": \\\"ModelChanged\\\", \\\"model\\\": {\\\"id\\\": \\\"5639\\\"}, \\\"new\\\": 200.3}, {\\\"attr\\\": \\\"end\\\", \\\"kind\\\": \\\"ModelChanged\\\", \\\"model\\\": {\\\"id\\\": \\\"5639\\\"}, \\\"new\\\": 940.7}, {\\\"attr\\\": \\\"reset_end\\\", \\\"kind\\\": \\\"ModelChanged\\\", \\\"model\\\": {\\\"id\\\": \\\"5639\\\"}, \\\"new\\\": 940.7}, {\\\"attr\\\": \\\"text\\\", \\\"kind\\\": \\\"ModelChanged\\\", \\\"model\\\": {\\\"id\\\": \\\"5642\\\"}, \\\"new\\\": \\\"Neighborhood: Mission Terrace\\\"}, {\\\"cols\\\": null, \\\"column_source\\\": {\\\"id\\\": \\\"5671\\\"}, \\\"kind\\\": \\\"ColumnDataChanged\\\", \\\"new\\\": {\\\"Avg. Sale Price/SqFt\\\": {\\\"__ndarray__\\\": \\\"BgEAAE8CAAAsAQAARwIAAG8DAAA=\\\", \\\"dtype\\\": \\\"int32\\\", \\\"order\\\": \\\"little\\\", \\\"shape\\\": [5]}, \\\"Avg_full_stop_Sale_Price_over_SqFt\\\": {\\\"__ndarray__\\\": \\\"BgEAAE8CAAAsAQAARwIAAG8DAAA=\\\", \\\"dtype\\\": \\\"int32\\\", \\\"order\\\": \\\"little\\\", \\\"shape\\\": [5]}, \\\"Year\\\": [2010, 2013, 2014, 2015, 2016]}}], \\\"references\\\": []}\",\"header\":\"{\\\"msgid\\\": \\\"5979\\\", \\\"msgtype\\\": \\\"PATCH-DOC\\\"}\",\"metadata\":\"{}\"},\"Nob Hill\":{\"content\":\"{\\\"events\\\": [{\\\"attr\\\": \\\"start\\\", \\\"kind\\\": \\\"ModelChanged\\\", \\\"model\\\": {\\\"id\\\": \\\"5639\\\"}, \\\"new\\\": 260.0}, {\\\"attr\\\": \\\"reset_start\\\", \\\"kind\\\": \\\"ModelChanged\\\", \\\"model\\\": {\\\"id\\\": \\\"5639\\\"}, \\\"new\\\": 260.0}, {\\\"attr\\\": \\\"end\\\", \\\"kind\\\": \\\"ModelChanged\\\", \\\"model\\\": {\\\"id\\\": \\\"5639\\\"}, \\\"new\\\": 824.0}, {\\\"attr\\\": \\\"reset_end\\\", \\\"kind\\\": \\\"ModelChanged\\\", \\\"model\\\": {\\\"id\\\": \\\"5639\\\"}, \\\"new\\\": 824.0}, {\\\"attr\\\": \\\"text\\\", \\\"kind\\\": \\\"ModelChanged\\\", \\\"model\\\": {\\\"id\\\": \\\"5642\\\"}, \\\"new\\\": \\\"Neighborhood: Nob Hill\\\"}, {\\\"cols\\\": null, \\\"column_source\\\": {\\\"id\\\": \\\"5671\\\"}, \\\"kind\\\": \\\"ColumnDataChanged\\\", \\\"new\\\": {\\\"Avg. Sale Price/SqFt\\\": {\\\"__ndarray__\\\": \\\"MwEAAFQBAAAzAQAA0gEAAN4BAAARAgAACQMAAA==\\\", \\\"dtype\\\": \\\"int32\\\", \\\"order\\\": \\\"little\\\", \\\"shape\\\": [7]}, \\\"Avg_full_stop_Sale_Price_over_SqFt\\\": {\\\"__ndarray__\\\": \\\"MwEAAFQBAAAzAQAA0gEAAN4BAAARAgAACQMAAA==\\\", \\\"dtype\\\": \\\"int32\\\", \\\"order\\\": \\\"little\\\", \\\"shape\\\": [7]}, \\\"Year\\\": [2010, 2011, 2012, 2013, 2014, 2015, 2016]}}], \\\"references\\\": []}\",\"header\":\"{\\\"msgid\\\": \\\"5972\\\", \\\"msgtype\\\": \\\"PATCH-DOC\\\"}\",\"metadata\":\"{}\"},\"Noe Valley\":{\"content\":\"{\\\"events\\\": [{\\\"attr\\\": \\\"start\\\", \\\"kind\\\": \\\"ModelChanged\\\", \\\"model\\\": {\\\"id\\\": \\\"5638\\\"}, \\\"new\\\": 2010.0}, {\\\"attr\\\": \\\"reset_start\\\", \\\"kind\\\": \\\"ModelChanged\\\", \\\"model\\\": {\\\"id\\\": \\\"5638\\\"}, \\\"new\\\": 2010.0}, {\\\"attr\\\": \\\"start\\\", \\\"kind\\\": \\\"ModelChanged\\\", \\\"model\\\": {\\\"id\\\": \\\"5639\\\"}, \\\"new\\\": 330.4}, {\\\"attr\\\": \\\"reset_start\\\", \\\"kind\\\": \\\"ModelChanged\\\", \\\"model\\\": {\\\"id\\\": \\\"5639\\\"}, \\\"new\\\": 330.4}, {\\\"attr\\\": \\\"end\\\", \\\"kind\\\": \\\"ModelChanged\\\", \\\"model\\\": {\\\"id\\\": \\\"5639\\\"}, \\\"new\\\": 841.6}, {\\\"attr\\\": \\\"reset_end\\\", \\\"kind\\\": \\\"ModelChanged\\\", \\\"model\\\": {\\\"id\\\": \\\"5639\\\"}, \\\"new\\\": 841.6}, {\\\"attr\\\": \\\"text\\\", \\\"kind\\\": \\\"ModelChanged\\\", \\\"model\\\": {\\\"id\\\": \\\"5642\\\"}, \\\"new\\\": \\\"Neighborhood: Noe Valley\\\"}, {\\\"cols\\\": null, \\\"column_source\\\": {\\\"id\\\": \\\"5671\\\"}, \\\"kind\\\": \\\"ColumnDataChanged\\\", \\\"new\\\": {\\\"Avg. Sale Price/SqFt\\\": {\\\"__ndarray__\\\": \\\"fQEAAHUBAACsAQAAZwIAAI4CAAAgAgAAHwMAAA==\\\", \\\"dtype\\\": \\\"int32\\\", \\\"order\\\": \\\"little\\\", \\\"shape\\\": [7]}, \\\"Avg_full_stop_Sale_Price_over_SqFt\\\": {\\\"__ndarray__\\\": \\\"fQEAAHUBAACsAQAAZwIAAI4CAAAgAgAAHwMAAA==\\\", \\\"dtype\\\": \\\"int32\\\", \\\"order\\\": \\\"little\\\", \\\"shape\\\": [7]}, \\\"Year\\\": [2010, 2011, 2012, 2013, 2014, 2015, 2016]}}], \\\"references\\\": []}\",\"header\":\"{\\\"msgid\\\": \\\"5965\\\", \\\"msgtype\\\": \\\"PATCH-DOC\\\"}\",\"metadata\":\"{}\"},\"North Beach\":{\"content\":\"{\\\"events\\\": [{\\\"attr\\\": \\\"end\\\", \\\"kind\\\": \\\"ModelChanged\\\", \\\"model\\\": {\\\"id\\\": \\\"5638\\\"}, \\\"new\\\": 2016.0}, {\\\"attr\\\": \\\"reset_end\\\", \\\"kind\\\": \\\"ModelChanged\\\", \\\"model\\\": {\\\"id\\\": \\\"5638\\\"}, \\\"new\\\": 2016.0}, {\\\"attr\\\": \\\"start\\\", \\\"kind\\\": \\\"ModelChanged\\\", \\\"model\\\": {\\\"id\\\": \\\"5639\\\"}, \\\"new\\\": 267.3}, {\\\"attr\\\": \\\"reset_start\\\", \\\"kind\\\": \\\"ModelChanged\\\", \\\"model\\\": {\\\"id\\\": \\\"5639\\\"}, \\\"new\\\": 267.3}, {\\\"attr\\\": \\\"end\\\", \\\"kind\\\": \\\"ModelChanged\\\", \\\"model\\\": {\\\"id\\\": \\\"5639\\\"}, \\\"new\\\": 539.7}, {\\\"attr\\\": \\\"reset_end\\\", \\\"kind\\\": \\\"ModelChanged\\\", \\\"model\\\": {\\\"id\\\": \\\"5639\\\"}, \\\"new\\\": 539.7}, {\\\"attr\\\": \\\"text\\\", \\\"kind\\\": \\\"ModelChanged\\\", \\\"model\\\": {\\\"id\\\": \\\"5642\\\"}, \\\"new\\\": \\\"Neighborhood: North Beach\\\"}, {\\\"cols\\\": null, \\\"column_source\\\": {\\\"id\\\": \\\"5671\\\"}, \\\"kind\\\": \\\"ColumnDataChanged\\\", \\\"new\\\": {\\\"Avg. Sale Price/SqFt\\\": {\\\"__ndarray__\\\": \\\"IgEAAAUCAACJAQAAwAEAAJcBAAA=\\\", \\\"dtype\\\": \\\"int32\\\", \\\"order\\\": \\\"little\\\", \\\"shape\\\": [5]}, \\\"Avg_full_stop_Sale_Price_over_SqFt\\\": {\\\"__ndarray__\\\": \\\"IgEAAAUCAACJAQAAwAEAAJcBAAA=\\\", \\\"dtype\\\": \\\"int32\\\", \\\"order\\\": \\\"little\\\", \\\"shape\\\": [5]}, \\\"Year\\\": [2011, 2012, 2013, 2015, 2016]}}], \\\"references\\\": []}\",\"header\":\"{\\\"msgid\\\": \\\"5958\\\", \\\"msgtype\\\": \\\"PATCH-DOC\\\"}\",\"metadata\":\"{}\"},\"North Waterfront\":{\"content\":\"{\\\"events\\\": [{\\\"attr\\\": \\\"start\\\", \\\"kind\\\": \\\"ModelChanged\\\", \\\"model\\\": {\\\"id\\\": \\\"5638\\\"}, \\\"new\\\": 2011.0}, {\\\"attr\\\": \\\"reset_start\\\", \\\"kind\\\": \\\"ModelChanged\\\", \\\"model\\\": {\\\"id\\\": \\\"5638\\\"}, \\\"new\\\": 2011.0}, {\\\"attr\\\": \\\"start\\\", \\\"kind\\\": \\\"ModelChanged\\\", \\\"model\\\": {\\\"id\\\": \\\"5639\\\"}, \\\"new\\\": 291.6}, {\\\"attr\\\": \\\"reset_start\\\", \\\"kind\\\": \\\"ModelChanged\\\", \\\"model\\\": {\\\"id\\\": \\\"5639\\\"}, \\\"new\\\": 291.6}, {\\\"attr\\\": \\\"end\\\", \\\"kind\\\": \\\"ModelChanged\\\", \\\"model\\\": {\\\"id\\\": \\\"5639\\\"}, \\\"new\\\": 944.4}, {\\\"attr\\\": \\\"reset_end\\\", \\\"kind\\\": \\\"ModelChanged\\\", \\\"model\\\": {\\\"id\\\": \\\"5639\\\"}, \\\"new\\\": 944.4}, {\\\"attr\\\": \\\"text\\\", \\\"kind\\\": \\\"ModelChanged\\\", \\\"model\\\": {\\\"id\\\": \\\"5642\\\"}, \\\"new\\\": \\\"Neighborhood: North Waterfront\\\"}, {\\\"cols\\\": null, \\\"column_source\\\": {\\\"id\\\": \\\"5671\\\"}, \\\"kind\\\": \\\"ColumnDataChanged\\\", \\\"new\\\": {\\\"Avg. Sale Price/SqFt\\\": {\\\"__ndarray__\\\": \\\"WgEAAIYBAADjAQAAewEAAHoDAAA=\\\", \\\"dtype\\\": \\\"int32\\\", \\\"order\\\": \\\"little\\\", \\\"shape\\\": [5]}, \\\"Avg_full_stop_Sale_Price_over_SqFt\\\": {\\\"__ndarray__\\\": \\\"WgEAAIYBAADjAQAAewEAAHoDAAA=\\\", \\\"dtype\\\": \\\"int32\\\", \\\"order\\\": \\\"little\\\", \\\"shape\\\": [5]}, \\\"Year\\\": [2011, 2012, 2013, 2014, 2015]}}], \\\"references\\\": []}\",\"header\":\"{\\\"msgid\\\": \\\"5951\\\", \\\"msgtype\\\": \\\"PATCH-DOC\\\"}\",\"metadata\":\"{}\"},\"Oceanview\":{\"content\":\"{\\\"events\\\": [{\\\"attr\\\": \\\"start\\\", \\\"kind\\\": \\\"ModelChanged\\\", \\\"model\\\": {\\\"id\\\": \\\"5638\\\"}, \\\"new\\\": 2010.0}, {\\\"attr\\\": \\\"reset_start\\\", \\\"kind\\\": \\\"ModelChanged\\\", \\\"model\\\": {\\\"id\\\": \\\"5638\\\"}, \\\"new\\\": 2010.0}, {\\\"attr\\\": \\\"end\\\", \\\"kind\\\": \\\"ModelChanged\\\", \\\"model\\\": {\\\"id\\\": \\\"5638\\\"}, \\\"new\\\": 2015.0}, {\\\"attr\\\": \\\"reset_end\\\", \\\"kind\\\": \\\"ModelChanged\\\", \\\"model\\\": {\\\"id\\\": \\\"5638\\\"}, \\\"new\\\": 2015.0}, {\\\"attr\\\": \\\"start\\\", \\\"kind\\\": \\\"ModelChanged\\\", \\\"model\\\": {\\\"id\\\": \\\"5639\\\"}, \\\"new\\\": 247.3}, {\\\"attr\\\": \\\"reset_start\\\", \\\"kind\\\": \\\"ModelChanged\\\", \\\"model\\\": {\\\"id\\\": \\\"5639\\\"}, \\\"new\\\": 247.3}, {\\\"attr\\\": \\\"end\\\", \\\"kind\\\": \\\"ModelChanged\\\", \\\"model\\\": {\\\"id\\\": \\\"5639\\\"}, \\\"new\\\": 459.7}, {\\\"attr\\\": \\\"reset_end\\\", \\\"kind\\\": \\\"ModelChanged\\\", \\\"model\\\": {\\\"id\\\": \\\"5639\\\"}, \\\"new\\\": 459.7}, {\\\"attr\\\": \\\"text\\\", \\\"kind\\\": \\\"ModelChanged\\\", \\\"model\\\": {\\\"id\\\": \\\"5642\\\"}, \\\"new\\\": \\\"Neighborhood: Oceanview\\\"}, {\\\"cols\\\": null, \\\"column_source\\\": {\\\"id\\\": \\\"5671\\\"}, \\\"kind\\\": \\\"ColumnDataChanged\\\", \\\"new\\\": {\\\"Avg. Sale Price/SqFt\\\": {\\\"__ndarray__\\\": \\\"GgEAALoBAAAJAQAA\\\", \\\"dtype\\\": \\\"int32\\\", \\\"order\\\": \\\"little\\\", \\\"shape\\\": [3]}, \\\"Avg_full_stop_Sale_Price_over_SqFt\\\": {\\\"__ndarray__\\\": \\\"GgEAALoBAAAJAQAA\\\", \\\"dtype\\\": \\\"int32\\\", \\\"order\\\": \\\"little\\\", \\\"shape\\\": [3]}, \\\"Year\\\": [2010, 2012, 2015]}}], \\\"references\\\": []}\",\"header\":\"{\\\"msgid\\\": \\\"5944\\\", \\\"msgtype\\\": \\\"PATCH-DOC\\\"}\",\"metadata\":\"{}\"},\"Outer Mission\":{\"content\":\"{\\\"events\\\": [{\\\"attr\\\": \\\"start\\\", \\\"kind\\\": \\\"ModelChanged\\\", \\\"model\\\": {\\\"id\\\": \\\"5638\\\"}, \\\"new\\\": 2011.0}, {\\\"attr\\\": \\\"reset_start\\\", \\\"kind\\\": \\\"ModelChanged\\\", \\\"model\\\": {\\\"id\\\": \\\"5638\\\"}, \\\"new\\\": 2011.0}, {\\\"attr\\\": \\\"start\\\", \\\"kind\\\": \\\"ModelChanged\\\", \\\"model\\\": {\\\"id\\\": \\\"5639\\\"}, \\\"new\\\": -12.400000000000006}, {\\\"attr\\\": \\\"reset_start\\\", \\\"kind\\\": \\\"ModelChanged\\\", \\\"model\\\": {\\\"id\\\": \\\"5639\\\"}, \\\"new\\\": -12.400000000000006}, {\\\"attr\\\": \\\"end\\\", \\\"kind\\\": \\\"ModelChanged\\\", \\\"model\\\": {\\\"id\\\": \\\"5639\\\"}, \\\"new\\\": 616.4}, {\\\"attr\\\": \\\"reset_end\\\", \\\"kind\\\": \\\"ModelChanged\\\", \\\"model\\\": {\\\"id\\\": \\\"5639\\\"}, \\\"new\\\": 616.4}, {\\\"attr\\\": \\\"text\\\", \\\"kind\\\": \\\"ModelChanged\\\", \\\"model\\\": {\\\"id\\\": \\\"5642\\\"}, \\\"new\\\": \\\"Neighborhood: Outer Mission\\\"}, {\\\"cols\\\": null, \\\"column_source\\\": {\\\"id\\\": \\\"5671\\\"}, \\\"kind\\\": \\\"ColumnDataChanged\\\", \\\"new\\\": {\\\"Avg. Sale Price/SqFt\\\": {\\\"__ndarray__\\\": \\\"jgAAAN0AAAA0AgAAKAAAAA==\\\", \\\"dtype\\\": \\\"int32\\\", \\\"order\\\": \\\"little\\\", \\\"shape\\\": [4]}, \\\"Avg_full_stop_Sale_Price_over_SqFt\\\": {\\\"__ndarray__\\\": \\\"jgAAAN0AAAA0AgAAKAAAAA==\\\", \\\"dtype\\\": \\\"int32\\\", \\\"order\\\": \\\"little\\\", \\\"shape\\\": [4]}, \\\"Year\\\": [2011, 2012, 2015, 2016]}}], \\\"references\\\": []}\",\"header\":\"{\\\"msgid\\\": \\\"5937\\\", \\\"msgtype\\\": \\\"PATCH-DOC\\\"}\",\"metadata\":\"{}\"},\"Outer Parkside\":{\"content\":\"{\\\"events\\\": [{\\\"attr\\\": \\\"start\\\", \\\"kind\\\": \\\"ModelChanged\\\", \\\"model\\\": {\\\"id\\\": \\\"5639\\\"}, \\\"new\\\": 191.9}, {\\\"attr\\\": \\\"reset_start\\\", \\\"kind\\\": \\\"ModelChanged\\\", \\\"model\\\": {\\\"id\\\": \\\"5639\\\"}, \\\"new\\\": 191.9}, {\\\"attr\\\": \\\"end\\\", \\\"kind\\\": \\\"ModelChanged\\\", \\\"model\\\": {\\\"id\\\": \\\"5639\\\"}, \\\"new\\\": 781.1}, {\\\"attr\\\": \\\"reset_end\\\", \\\"kind\\\": \\\"ModelChanged\\\", \\\"model\\\": {\\\"id\\\": \\\"5639\\\"}, \\\"new\\\": 781.1}, {\\\"attr\\\": \\\"text\\\", \\\"kind\\\": \\\"ModelChanged\\\", \\\"model\\\": {\\\"id\\\": \\\"5642\\\"}, \\\"new\\\": \\\"Neighborhood: Outer Parkside\\\"}, {\\\"cols\\\": null, \\\"column_source\\\": {\\\"id\\\": \\\"5671\\\"}, \\\"kind\\\": \\\"ColumnDataChanged\\\", \\\"new\\\": {\\\"Avg. Sale Price/SqFt\\\": {\\\"__ndarray__\\\": \\\"sAEAAPEAAAA4AQAAdAEAAIoCAACMAgAA3AIAAA==\\\", \\\"dtype\\\": \\\"int32\\\", \\\"order\\\": \\\"little\\\", \\\"shape\\\": [7]}, \\\"Avg_full_stop_Sale_Price_over_SqFt\\\": {\\\"__ndarray__\\\": \\\"sAEAAPEAAAA4AQAAdAEAAIoCAACMAgAA3AIAAA==\\\", \\\"dtype\\\": \\\"int32\\\", \\\"order\\\": \\\"little\\\", \\\"shape\\\": [7]}, \\\"Year\\\": [2010, 2011, 2012, 2013, 2014, 2015, 2016]}}], \\\"references\\\": []}\",\"header\":\"{\\\"msgid\\\": \\\"5930\\\", \\\"msgtype\\\": \\\"PATCH-DOC\\\"}\",\"metadata\":\"{}\"},\"Outer Richmond \":{\"content\":\"{\\\"events\\\": [{\\\"attr\\\": \\\"start\\\", \\\"kind\\\": \\\"ModelChanged\\\", \\\"model\\\": {\\\"id\\\": \\\"5639\\\"}, \\\"new\\\": 178.5}, {\\\"attr\\\": \\\"reset_start\\\", \\\"kind\\\": \\\"ModelChanged\\\", \\\"model\\\": {\\\"id\\\": \\\"5639\\\"}, \\\"new\\\": 178.5}, {\\\"attr\\\": \\\"end\\\", \\\"kind\\\": \\\"ModelChanged\\\", \\\"model\\\": {\\\"id\\\": \\\"5639\\\"}, \\\"new\\\": 1288.5}, {\\\"attr\\\": \\\"reset_end\\\", \\\"kind\\\": \\\"ModelChanged\\\", \\\"model\\\": {\\\"id\\\": \\\"5639\\\"}, \\\"new\\\": 1288.5}, {\\\"attr\\\": \\\"text\\\", \\\"kind\\\": \\\"ModelChanged\\\", \\\"model\\\": {\\\"id\\\": \\\"5642\\\"}, \\\"new\\\": \\\"Neighborhood: Outer Richmond\\\"}, {\\\"cols\\\": null, \\\"column_source\\\": {\\\"id\\\": \\\"5671\\\"}, \\\"kind\\\": \\\"ColumnDataChanged\\\", \\\"new\\\": {\\\"Avg. Sale Price/SqFt\\\": {\\\"__ndarray__\\\": \\\"UgEAAA8BAABSAQAATAEAAJEBAAC2AQAArAQAAA==\\\", \\\"dtype\\\": \\\"int32\\\", \\\"order\\\": \\\"little\\\", \\\"shape\\\": [7]}, \\\"Avg_full_stop_Sale_Price_over_SqFt\\\": {\\\"__ndarray__\\\": \\\"UgEAAA8BAABSAQAATAEAAJEBAAC2AQAArAQAAA==\\\", \\\"dtype\\\": \\\"int32\\\", \\\"order\\\": \\\"little\\\", \\\"shape\\\": [7]}, \\\"Year\\\": [2010, 2011, 2012, 2013, 2014, 2015, 2016]}}], \\\"references\\\": []}\",\"header\":\"{\\\"msgid\\\": \\\"5923\\\", \\\"msgtype\\\": \\\"PATCH-DOC\\\"}\",\"metadata\":\"{}\"},\"Outer Sunset\":{\"content\":\"{\\\"events\\\": [{\\\"attr\\\": \\\"start\\\", \\\"kind\\\": \\\"ModelChanged\\\", \\\"model\\\": {\\\"id\\\": \\\"5639\\\"}, \\\"new\\\": 275.7}, {\\\"attr\\\": \\\"reset_start\\\", \\\"kind\\\": \\\"ModelChanged\\\", \\\"model\\\": {\\\"id\\\": \\\"5639\\\"}, \\\"new\\\": 275.7}, {\\\"attr\\\": \\\"end\\\", \\\"kind\\\": \\\"ModelChanged\\\", \\\"model\\\": {\\\"id\\\": \\\"5639\\\"}, \\\"new\\\": 531.3}, {\\\"attr\\\": \\\"reset_end\\\", \\\"kind\\\": \\\"ModelChanged\\\", \\\"model\\\": {\\\"id\\\": \\\"5639\\\"}, \\\"new\\\": 531.3}, {\\\"attr\\\": \\\"text\\\", \\\"kind\\\": \\\"ModelChanged\\\", \\\"model\\\": {\\\"id\\\": \\\"5642\\\"}, \\\"new\\\": \\\"Neighborhood: Outer Sunset\\\"}, {\\\"cols\\\": null, \\\"column_source\\\": {\\\"id\\\": \\\"5671\\\"}, \\\"kind\\\": \\\"ColumnDataChanged\\\", \\\"new\\\": {\\\"Avg. Sale Price/SqFt\\\": {\\\"__ndarray__\\\": \\\"cAEAACkBAACdAQAAQgEAAOoBAABlAQAA/gEAAA==\\\", \\\"dtype\\\": \\\"int32\\\", \\\"order\\\": \\\"little\\\", \\\"shape\\\": [7]}, \\\"Avg_full_stop_Sale_Price_over_SqFt\\\": {\\\"__ndarray__\\\": \\\"cAEAACkBAACdAQAAQgEAAOoBAABlAQAA/gEAAA==\\\", \\\"dtype\\\": \\\"int32\\\", \\\"order\\\": \\\"little\\\", \\\"shape\\\": [7]}, \\\"Year\\\": [2010, 2011, 2012, 2013, 2014, 2015, 2016]}}], \\\"references\\\": []}\",\"header\":\"{\\\"msgid\\\": \\\"5916\\\", \\\"msgtype\\\": \\\"PATCH-DOC\\\"}\",\"metadata\":\"{}\"},\"Pacific Heights\":{\"content\":\"{\\\"events\\\": [{\\\"attr\\\": \\\"start\\\", \\\"kind\\\": \\\"ModelChanged\\\", \\\"model\\\": {\\\"id\\\": \\\"5639\\\"}, \\\"new\\\": 446.0}, {\\\"attr\\\": \\\"reset_start\\\", \\\"kind\\\": \\\"ModelChanged\\\", \\\"model\\\": {\\\"id\\\": \\\"5639\\\"}, \\\"new\\\": 446.0}, {\\\"attr\\\": \\\"end\\\", \\\"kind\\\": \\\"ModelChanged\\\", \\\"model\\\": {\\\"id\\\": \\\"5639\\\"}, \\\"new\\\": 1046.0}, {\\\"attr\\\": \\\"reset_end\\\", \\\"kind\\\": \\\"ModelChanged\\\", \\\"model\\\": {\\\"id\\\": \\\"5639\\\"}, \\\"new\\\": 1046.0}, {\\\"attr\\\": \\\"text\\\", \\\"kind\\\": \\\"ModelChanged\\\", \\\"model\\\": {\\\"id\\\": \\\"5642\\\"}, \\\"new\\\": \\\"Neighborhood: Pacific Heights\\\"}, {\\\"cols\\\": null, \\\"column_source\\\": {\\\"id\\\": \\\"5671\\\"}, \\\"kind\\\": \\\"ColumnDataChanged\\\", \\\"new\\\": {\\\"Avg. Sale Price/SqFt\\\": {\\\"__ndarray__\\\": \\\"8AEAAP0BAABKAgAA9wEAADgDAACOAwAA5AMAAA==\\\", \\\"dtype\\\": \\\"int32\\\", \\\"order\\\": \\\"little\\\", \\\"shape\\\": [7]}, \\\"Avg_full_stop_Sale_Price_over_SqFt\\\": {\\\"__ndarray__\\\": \\\"8AEAAP0BAABKAgAA9wEAADgDAACOAwAA5AMAAA==\\\", \\\"dtype\\\": \\\"int32\\\", \\\"order\\\": \\\"little\\\", \\\"shape\\\": [7]}, \\\"Year\\\": [2010, 2011, 2012, 2013, 2014, 2015, 2016]}}], \\\"references\\\": []}\",\"header\":\"{\\\"msgid\\\": \\\"5909\\\", \\\"msgtype\\\": \\\"PATCH-DOC\\\"}\",\"metadata\":\"{}\"},\"Park North\":{\"content\":\"{\\\"events\\\": [{\\\"attr\\\": \\\"end\\\", \\\"kind\\\": \\\"ModelChanged\\\", \\\"model\\\": {\\\"id\\\": \\\"5638\\\"}, \\\"new\\\": 2016.0}, {\\\"attr\\\": \\\"reset_end\\\", \\\"kind\\\": \\\"ModelChanged\\\", \\\"model\\\": {\\\"id\\\": \\\"5638\\\"}, \\\"new\\\": 2016.0}, {\\\"attr\\\": \\\"start\\\", \\\"kind\\\": \\\"ModelChanged\\\", \\\"model\\\": {\\\"id\\\": \\\"5639\\\"}, \\\"new\\\": 170.5}, {\\\"attr\\\": \\\"reset_start\\\", \\\"kind\\\": \\\"ModelChanged\\\", \\\"model\\\": {\\\"id\\\": \\\"5639\\\"}, \\\"new\\\": 170.5}, {\\\"attr\\\": \\\"end\\\", \\\"kind\\\": \\\"ModelChanged\\\", \\\"model\\\": {\\\"id\\\": \\\"5639\\\"}, \\\"new\\\": 656.5}, {\\\"attr\\\": \\\"reset_end\\\", \\\"kind\\\": \\\"ModelChanged\\\", \\\"model\\\": {\\\"id\\\": \\\"5639\\\"}, \\\"new\\\": 656.5}, {\\\"attr\\\": \\\"text\\\", \\\"kind\\\": \\\"ModelChanged\\\", \\\"model\\\": {\\\"id\\\": \\\"5642\\\"}, \\\"new\\\": \\\"Neighborhood: Park North\\\"}, {\\\"cols\\\": null, \\\"column_source\\\": {\\\"id\\\": \\\"5671\\\"}, \\\"kind\\\": \\\"ColumnDataChanged\\\", \\\"new\\\": {\\\"Avg. Sale Price/SqFt\\\": {\\\"__ndarray__\\\": \\\"RgEAACEBAAAgAQAAAAIAAHMBAABoAgAA0wAAAA==\\\", \\\"dtype\\\": \\\"int32\\\", \\\"order\\\": \\\"little\\\", \\\"shape\\\": [7]}, \\\"Avg_full_stop_Sale_Price_over_SqFt\\\": {\\\"__ndarray__\\\": \\\"RgEAACEBAAAgAQAAAAIAAHMBAABoAgAA0wAAAA==\\\", \\\"dtype\\\": \\\"int32\\\", \\\"order\\\": \\\"little\\\", \\\"shape\\\": [7]}, \\\"Year\\\": [2010, 2011, 2012, 2013, 2014, 2015, 2016]}}], \\\"references\\\": []}\",\"header\":\"{\\\"msgid\\\": \\\"5902\\\", \\\"msgtype\\\": \\\"PATCH-DOC\\\"}\",\"metadata\":\"{}\"},\"Parkside\":{\"content\":\"{\\\"events\\\": [{\\\"attr\\\": \\\"end\\\", \\\"kind\\\": \\\"ModelChanged\\\", \\\"model\\\": {\\\"id\\\": \\\"5638\\\"}, \\\"new\\\": 2015.0}, {\\\"attr\\\": \\\"reset_end\\\", \\\"kind\\\": \\\"ModelChanged\\\", \\\"model\\\": {\\\"id\\\": \\\"5638\\\"}, \\\"new\\\": 2015.0}, {\\\"attr\\\": \\\"start\\\", \\\"kind\\\": \\\"ModelChanged\\\", \\\"model\\\": {\\\"id\\\": \\\"5639\\\"}, \\\"new\\\": -44.6}, {\\\"attr\\\": \\\"reset_start\\\", \\\"kind\\\": \\\"ModelChanged\\\", \\\"model\\\": {\\\"id\\\": \\\"5639\\\"}, \\\"new\\\": -44.6}, {\\\"attr\\\": \\\"end\\\", \\\"kind\\\": \\\"ModelChanged\\\", \\\"model\\\": {\\\"id\\\": \\\"5639\\\"}, \\\"new\\\": 490.6}, {\\\"attr\\\": \\\"reset_end\\\", \\\"kind\\\": \\\"ModelChanged\\\", \\\"model\\\": {\\\"id\\\": \\\"5639\\\"}, \\\"new\\\": 490.6}, {\\\"attr\\\": \\\"text\\\", \\\"kind\\\": \\\"ModelChanged\\\", \\\"model\\\": {\\\"id\\\": \\\"5642\\\"}, \\\"new\\\": \\\"Neighborhood: Parkside\\\"}, {\\\"cols\\\": null, \\\"column_source\\\": {\\\"id\\\": \\\"5671\\\"}, \\\"kind\\\": \\\"ColumnDataChanged\\\", \\\"new\\\": {\\\"Avg. Sale Price/SqFt\\\": {\\\"__ndarray__\\\": \\\"EgEAANkAAAB6AQAAbAEAAL4BAAAAAAAA\\\", \\\"dtype\\\": \\\"int32\\\", \\\"order\\\": \\\"little\\\", \\\"shape\\\": [6]}, \\\"Avg_full_stop_Sale_Price_over_SqFt\\\": {\\\"__ndarray__\\\": \\\"EgEAANkAAAB6AQAAbAEAAL4BAAAAAAAA\\\", \\\"dtype\\\": \\\"int32\\\", \\\"order\\\": \\\"little\\\", \\\"shape\\\": [6]}, \\\"Year\\\": [2010, 2011, 2012, 2013, 2014, 2015]}}], \\\"references\\\": []}\",\"header\":\"{\\\"msgid\\\": \\\"5895\\\", \\\"msgtype\\\": \\\"PATCH-DOC\\\"}\",\"metadata\":\"{}\"},\"Parnassus/Ashbury Heights\":{\"content\":\"{\\\"events\\\": [{\\\"attr\\\": \\\"end\\\", \\\"kind\\\": \\\"ModelChanged\\\", \\\"model\\\": {\\\"id\\\": \\\"5638\\\"}, \\\"new\\\": 2016.0}, {\\\"attr\\\": \\\"reset_end\\\", \\\"kind\\\": \\\"ModelChanged\\\", \\\"model\\\": {\\\"id\\\": \\\"5638\\\"}, \\\"new\\\": 2016.0}, {\\\"attr\\\": \\\"start\\\", \\\"kind\\\": \\\"ModelChanged\\\", \\\"model\\\": {\\\"id\\\": \\\"5639\\\"}, \\\"new\\\": 346.8}, {\\\"attr\\\": \\\"reset_start\\\", \\\"kind\\\": \\\"ModelChanged\\\", \\\"model\\\": {\\\"id\\\": \\\"5639\\\"}, \\\"new\\\": 346.8}, {\\\"attr\\\": \\\"end\\\", \\\"kind\\\": \\\"ModelChanged\\\", \\\"model\\\": {\\\"id\\\": \\\"5639\\\"}, \\\"new\\\": 1285.2}, {\\\"attr\\\": \\\"reset_end\\\", \\\"kind\\\": \\\"ModelChanged\\\", \\\"model\\\": {\\\"id\\\": \\\"5639\\\"}, \\\"new\\\": 1285.2}, {\\\"attr\\\": \\\"text\\\", \\\"kind\\\": \\\"ModelChanged\\\", \\\"model\\\": {\\\"id\\\": \\\"5642\\\"}, \\\"new\\\": \\\"Neighborhood: Parnassus/Ashbury Heights\\\"}, {\\\"cols\\\": null, \\\"column_source\\\": {\\\"id\\\": \\\"5671\\\"}, \\\"kind\\\": \\\"ColumnDataChanged\\\", \\\"new\\\": {\\\"Avg. Sale Price/SqFt\\\": {\\\"__ndarray__\\\": \\\"sgEAANIBAAADAgAAqQEAAAUDAABdAgAAtwQAAA==\\\", \\\"dtype\\\": \\\"int32\\\", \\\"order\\\": \\\"little\\\", \\\"shape\\\": [7]}, \\\"Avg_full_stop_Sale_Price_over_SqFt\\\": {\\\"__ndarray__\\\": \\\"sgEAANIBAAADAgAAqQEAAAUDAABdAgAAtwQAAA==\\\", \\\"dtype\\\": \\\"int32\\\", \\\"order\\\": \\\"little\\\", \\\"shape\\\": [7]}, \\\"Year\\\": [2010, 2011, 2012, 2013, 2014, 2015, 2016]}}], \\\"references\\\": []}\",\"header\":\"{\\\"msgid\\\": \\\"5888\\\", \\\"msgtype\\\": \\\"PATCH-DOC\\\"}\",\"metadata\":\"{}\"},\"Portola\":{\"content\":\"{\\\"events\\\": [{\\\"attr\\\": \\\"end\\\", \\\"kind\\\": \\\"ModelChanged\\\", \\\"model\\\": {\\\"id\\\": \\\"5638\\\"}, \\\"new\\\": 2014.0}, {\\\"attr\\\": \\\"reset_end\\\", \\\"kind\\\": \\\"ModelChanged\\\", \\\"model\\\": {\\\"id\\\": \\\"5638\\\"}, \\\"new\\\": 2014.0}, {\\\"attr\\\": \\\"start\\\", \\\"kind\\\": \\\"ModelChanged\\\", \\\"model\\\": {\\\"id\\\": \\\"5639\\\"}, \\\"new\\\": 175.0}, {\\\"attr\\\": \\\"reset_start\\\", \\\"kind\\\": \\\"ModelChanged\\\", \\\"model\\\": {\\\"id\\\": \\\"5639\\\"}, \\\"new\\\": 175.0}, {\\\"attr\\\": \\\"end\\\", \\\"kind\\\": \\\"ModelChanged\\\", \\\"model\\\": {\\\"id\\\": \\\"5639\\\"}, \\\"new\\\": 571.0}, {\\\"attr\\\": \\\"reset_end\\\", \\\"kind\\\": \\\"ModelChanged\\\", \\\"model\\\": {\\\"id\\\": \\\"5639\\\"}, \\\"new\\\": 571.0}, {\\\"attr\\\": \\\"text\\\", \\\"kind\\\": \\\"ModelChanged\\\", \\\"model\\\": {\\\"id\\\": \\\"5642\\\"}, \\\"new\\\": \\\"Neighborhood: Portola\\\"}, {\\\"cols\\\": null, \\\"column_source\\\": {\\\"id\\\": \\\"5671\\\"}, \\\"kind\\\": \\\"ColumnDataChanged\\\", \\\"new\\\": {\\\"Avg. Sale Price/SqFt\\\": {\\\"__ndarray__\\\": \\\"LgEAANAAAABfAQAA6wAAABoCAAA=\\\", \\\"dtype\\\": \\\"int32\\\", \\\"order\\\": \\\"little\\\", \\\"shape\\\": [5]}, \\\"Avg_full_stop_Sale_Price_over_SqFt\\\": {\\\"__ndarray__\\\": \\\"LgEAANAAAABfAQAA6wAAABoCAAA=\\\", \\\"dtype\\\": \\\"int32\\\", \\\"order\\\": \\\"little\\\", \\\"shape\\\": [5]}, \\\"Year\\\": [2010, 2011, 2012, 2013, 2014]}}], \\\"references\\\": []}\",\"header\":\"{\\\"msgid\\\": \\\"5881\\\", \\\"msgtype\\\": \\\"PATCH-DOC\\\"}\",\"metadata\":\"{}\"},\"Potrero Hill\":{\"content\":\"{\\\"events\\\": [{\\\"attr\\\": \\\"start\\\", \\\"kind\\\": \\\"ModelChanged\\\", \\\"model\\\": {\\\"id\\\": \\\"5639\\\"}, \\\"new\\\": 408.1}, {\\\"attr\\\": \\\"reset_start\\\", \\\"kind\\\": \\\"ModelChanged\\\", \\\"model\\\": {\\\"id\\\": \\\"5639\\\"}, \\\"new\\\": 408.1}, {\\\"attr\\\": \\\"end\\\", \\\"kind\\\": \\\"ModelChanged\\\", \\\"model\\\": {\\\"id\\\": \\\"5639\\\"}, \\\"new\\\": 1102.9}, {\\\"attr\\\": \\\"reset_end\\\", \\\"kind\\\": \\\"ModelChanged\\\", \\\"model\\\": {\\\"id\\\": \\\"5639\\\"}, \\\"new\\\": 1102.9}, {\\\"attr\\\": \\\"text\\\", \\\"kind\\\": \\\"ModelChanged\\\", \\\"model\\\": {\\\"id\\\": \\\"5642\\\"}, \\\"new\\\": \\\"Neighborhood: Potrero Hill\\\"}, {\\\"cols\\\": null, \\\"column_source\\\": {\\\"id\\\": \\\"5671\\\"}, \\\"kind\\\": \\\"ColumnDataChanged\\\", \\\"new\\\": {\\\"Avg. Sale Price/SqFt\\\": {\\\"__ndarray__\\\": \\\"6wEAAPcBAADSAQAAVgIAABUEAAA1AwAAwwIAAA==\\\", \\\"dtype\\\": \\\"int32\\\", \\\"order\\\": \\\"little\\\", \\\"shape\\\": [7]}, \\\"Avg_full_stop_Sale_Price_over_SqFt\\\": {\\\"__ndarray__\\\": \\\"6wEAAPcBAADSAQAAVgIAABUEAAA1AwAAwwIAAA==\\\", \\\"dtype\\\": \\\"int32\\\", \\\"order\\\": \\\"little\\\", \\\"shape\\\": [7]}, \\\"Year\\\": [2010, 2011, 2012, 2013, 2014, 2015, 2016]}}], \\\"references\\\": []}\",\"header\":\"{\\\"msgid\\\": \\\"5874\\\", \\\"msgtype\\\": \\\"PATCH-DOC\\\"}\",\"metadata\":\"{}\"},\"Presidio Heights\":{\"content\":\"{\\\"events\\\": [{\\\"attr\\\": \\\"start\\\", \\\"kind\\\": \\\"ModelChanged\\\", \\\"model\\\": {\\\"id\\\": \\\"5639\\\"}, \\\"new\\\": -146.5}, {\\\"attr\\\": \\\"reset_start\\\", \\\"kind\\\": \\\"ModelChanged\\\", \\\"model\\\": {\\\"id\\\": \\\"5639\\\"}, \\\"new\\\": -146.5}, {\\\"attr\\\": \\\"end\\\", \\\"kind\\\": \\\"ModelChanged\\\", \\\"model\\\": {\\\"id\\\": \\\"5639\\\"}, \\\"new\\\": 1611.5}, {\\\"attr\\\": \\\"reset_end\\\", \\\"kind\\\": \\\"ModelChanged\\\", \\\"model\\\": {\\\"id\\\": \\\"5639\\\"}, \\\"new\\\": 1611.5}, {\\\"attr\\\": \\\"text\\\", \\\"kind\\\": \\\"ModelChanged\\\", \\\"model\\\": {\\\"id\\\": \\\"5642\\\"}, \\\"new\\\": \\\"Neighborhood: Presidio Heights\\\"}, {\\\"cols\\\": null, \\\"column_source\\\": {\\\"id\\\": \\\"5671\\\"}, \\\"kind\\\": \\\"ColumnDataChanged\\\", \\\"new\\\": {\\\"Avg. Sale Price/SqFt\\\": {\\\"__ndarray__\\\": \\\"JQIAAO0BAACqAQAAAAIAAFsCAAAAAAAAuQUAAA==\\\", \\\"dtype\\\": \\\"int32\\\", \\\"order\\\": \\\"little\\\", \\\"shape\\\": [7]}, \\\"Avg_full_stop_Sale_Price_over_SqFt\\\": {\\\"__ndarray__\\\": \\\"JQIAAO0BAACqAQAAAAIAAFsCAAAAAAAAuQUAAA==\\\", \\\"dtype\\\": \\\"int32\\\", \\\"order\\\": \\\"little\\\", \\\"shape\\\": [7]}, \\\"Year\\\": [2010, 2011, 2012, 2013, 2014, 2015, 2016]}}], \\\"references\\\": []}\",\"header\":\"{\\\"msgid\\\": \\\"5867\\\", \\\"msgtype\\\": \\\"PATCH-DOC\\\"}\",\"metadata\":\"{}\"},\"Russian Hill\":{\"content\":\"{\\\"events\\\": [{\\\"attr\\\": \\\"start\\\", \\\"kind\\\": \\\"ModelChanged\\\", \\\"model\\\": {\\\"id\\\": \\\"5638\\\"}, \\\"new\\\": 2010.0}, {\\\"attr\\\": \\\"reset_start\\\", \\\"kind\\\": \\\"ModelChanged\\\", \\\"model\\\": {\\\"id\\\": \\\"5638\\\"}, \\\"new\\\": 2010.0}, {\\\"attr\\\": \\\"end\\\", \\\"kind\\\": \\\"ModelChanged\\\", \\\"model\\\": {\\\"id\\\": \\\"5638\\\"}, \\\"new\\\": 2016.0}, {\\\"attr\\\": \\\"reset_end\\\", \\\"kind\\\": \\\"ModelChanged\\\", \\\"model\\\": {\\\"id\\\": \\\"5638\\\"}, \\\"new\\\": 2016.0}, {\\\"attr\\\": \\\"start\\\", \\\"kind\\\": \\\"ModelChanged\\\", \\\"model\\\": {\\\"id\\\": \\\"5639\\\"}, \\\"new\\\": 295.8}, {\\\"attr\\\": \\\"reset_start\\\", \\\"kind\\\": \\\"ModelChanged\\\", \\\"model\\\": {\\\"id\\\": \\\"5639\\\"}, \\\"new\\\": 295.8}, {\\\"attr\\\": \\\"end\\\", \\\"kind\\\": \\\"ModelChanged\\\", \\\"model\\\": {\\\"id\\\": \\\"5639\\\"}, \\\"new\\\": 1090.2}, {\\\"attr\\\": \\\"reset_end\\\", \\\"kind\\\": \\\"ModelChanged\\\", \\\"model\\\": {\\\"id\\\": \\\"5639\\\"}, \\\"new\\\": 1090.2}, {\\\"attr\\\": \\\"text\\\", \\\"kind\\\": \\\"ModelChanged\\\", \\\"model\\\": {\\\"id\\\": \\\"5642\\\"}, \\\"new\\\": \\\"Neighborhood: Russian Hill\\\"}, {\\\"cols\\\": null, \\\"column_source\\\": {\\\"id\\\": \\\"5671\\\"}, \\\"kind\\\": \\\"ColumnDataChanged\\\", \\\"new\\\": {\\\"Avg. Sale Price/SqFt\\\": {\\\"__ndarray__\\\": \\\"agEAAMABAACeAQAA+gEAAMoCAAAZAwAAAAQAAA==\\\", \\\"dtype\\\": \\\"int32\\\", \\\"order\\\": \\\"little\\\", \\\"shape\\\": [7]}, \\\"Avg_full_stop_Sale_Price_over_SqFt\\\": {\\\"__ndarray__\\\": \\\"agEAAMABAACeAQAA+gEAAMoCAAAZAwAAAAQAAA==\\\", \\\"dtype\\\": \\\"int32\\\", \\\"order\\\": \\\"little\\\", \\\"shape\\\": [7]}, \\\"Year\\\": [2010, 2011, 2012, 2013, 2014, 2015, 2016]}}], \\\"references\\\": []}\",\"header\":\"{\\\"msgid\\\": \\\"5860\\\", \\\"msgtype\\\": \\\"PATCH-DOC\\\"}\",\"metadata\":\"{}\"},\"Silver Terrace\":{\"content\":\"{\\\"events\\\": [{\\\"attr\\\": \\\"start\\\", \\\"kind\\\": \\\"ModelChanged\\\", \\\"model\\\": {\\\"id\\\": \\\"5638\\\"}, \\\"new\\\": 2013.0}, {\\\"attr\\\": \\\"reset_start\\\", \\\"kind\\\": \\\"ModelChanged\\\", \\\"model\\\": {\\\"id\\\": \\\"5638\\\"}, \\\"new\\\": 2013.0}, {\\\"attr\\\": \\\"end\\\", \\\"kind\\\": \\\"ModelChanged\\\", \\\"model\\\": {\\\"id\\\": \\\"5638\\\"}, \\\"new\\\": 2015.0}, {\\\"attr\\\": \\\"reset_end\\\", \\\"kind\\\": \\\"ModelChanged\\\", \\\"model\\\": {\\\"id\\\": \\\"5638\\\"}, \\\"new\\\": 2015.0}, {\\\"attr\\\": \\\"start\\\", \\\"kind\\\": \\\"ModelChanged\\\", \\\"model\\\": {\\\"id\\\": \\\"5639\\\"}, \\\"new\\\": 168.8}, {\\\"attr\\\": \\\"reset_start\\\", \\\"kind\\\": \\\"ModelChanged\\\", \\\"model\\\": {\\\"id\\\": \\\"5639\\\"}, \\\"new\\\": 168.8}, {\\\"attr\\\": \\\"end\\\", \\\"kind\\\": \\\"ModelChanged\\\", \\\"model\\\": {\\\"id\\\": \\\"5639\\\"}, \\\"new\\\": 171.2}, {\\\"attr\\\": \\\"reset_end\\\", \\\"kind\\\": \\\"ModelChanged\\\", \\\"model\\\": {\\\"id\\\": \\\"5639\\\"}, \\\"new\\\": 171.2}, {\\\"attr\\\": \\\"text\\\", \\\"kind\\\": \\\"ModelChanged\\\", \\\"model\\\": {\\\"id\\\": \\\"5642\\\"}, \\\"new\\\": \\\"Neighborhood: Silver Terrace\\\"}, {\\\"cols\\\": null, \\\"column_source\\\": {\\\"id\\\": \\\"5671\\\"}, \\\"kind\\\": \\\"ColumnDataChanged\\\", \\\"new\\\": {\\\"Avg. Sale Price/SqFt\\\": {\\\"__ndarray__\\\": \\\"qgAAAA==\\\", \\\"dtype\\\": \\\"int32\\\", \\\"order\\\": \\\"little\\\", \\\"shape\\\": [1]}, \\\"Avg_full_stop_Sale_Price_over_SqFt\\\": {\\\"__ndarray__\\\": \\\"qgAAAA==\\\", \\\"dtype\\\": \\\"int32\\\", \\\"order\\\": \\\"little\\\", \\\"shape\\\": [1]}, \\\"Year\\\": [2014]}}], \\\"references\\\": []}\",\"header\":\"{\\\"msgid\\\": \\\"5853\\\", \\\"msgtype\\\": \\\"PATCH-DOC\\\"}\",\"metadata\":\"{}\"},\"South Beach\":{\"content\":\"{\\\"events\\\": [{\\\"attr\\\": \\\"end\\\", \\\"kind\\\": \\\"ModelChanged\\\", \\\"model\\\": {\\\"id\\\": \\\"5638\\\"}, \\\"new\\\": 2014.0}, {\\\"attr\\\": \\\"reset_end\\\", \\\"kind\\\": \\\"ModelChanged\\\", \\\"model\\\": {\\\"id\\\": \\\"5638\\\"}, \\\"new\\\": 2014.0}, {\\\"attr\\\": \\\"start\\\", \\\"kind\\\": \\\"ModelChanged\\\", \\\"model\\\": {\\\"id\\\": \\\"5639\\\"}, \\\"new\\\": 323.1}, {\\\"attr\\\": \\\"reset_start\\\", \\\"kind\\\": \\\"ModelChanged\\\", \\\"model\\\": {\\\"id\\\": \\\"5639\\\"}, \\\"new\\\": 323.1}, {\\\"attr\\\": \\\"end\\\", \\\"kind\\\": \\\"ModelChanged\\\", \\\"model\\\": {\\\"id\\\": \\\"5639\\\"}, \\\"new\\\": 1101.9}, {\\\"attr\\\": \\\"reset_end\\\", \\\"kind\\\": \\\"ModelChanged\\\", \\\"model\\\": {\\\"id\\\": \\\"5639\\\"}, \\\"new\\\": 1101.9}, {\\\"attr\\\": \\\"text\\\", \\\"kind\\\": \\\"ModelChanged\\\", \\\"model\\\": {\\\"id\\\": \\\"5642\\\"}, \\\"new\\\": \\\"Neighborhood: South Beach\\\"}, {\\\"cols\\\": null, \\\"column_source\\\": {\\\"id\\\": \\\"5671\\\"}, \\\"kind\\\": \\\"ColumnDataChanged\\\", \\\"new\\\": {\\\"Avg. Sale Price/SqFt\\\": {\\\"__ndarray__\\\": \\\"DQQAAIQBAAAMAgAA\\\", \\\"dtype\\\": \\\"int32\\\", \\\"order\\\": \\\"little\\\", \\\"shape\\\": [3]}, \\\"Avg_full_stop_Sale_Price_over_SqFt\\\": {\\\"__ndarray__\\\": \\\"DQQAAIQBAAAMAgAA\\\", \\\"dtype\\\": \\\"int32\\\", \\\"order\\\": \\\"little\\\", \\\"shape\\\": [3]}, \\\"Year\\\": [2010, 2011, 2014]}}], \\\"references\\\": []}\",\"header\":\"{\\\"msgid\\\": \\\"5846\\\", \\\"msgtype\\\": \\\"PATCH-DOC\\\"}\",\"metadata\":\"{}\"},\"South of Market\":{\"content\":\"{\\\"events\\\": [{\\\"attr\\\": \\\"start\\\", \\\"kind\\\": \\\"ModelChanged\\\", \\\"model\\\": {\\\"id\\\": \\\"5639\\\"}, \\\"new\\\": 258.8}, {\\\"attr\\\": \\\"reset_start\\\", \\\"kind\\\": \\\"ModelChanged\\\", \\\"model\\\": {\\\"id\\\": \\\"5639\\\"}, \\\"new\\\": 258.8}, {\\\"attr\\\": \\\"end\\\", \\\"kind\\\": \\\"ModelChanged\\\", \\\"model\\\": {\\\"id\\\": \\\"5639\\\"}, \\\"new\\\": 1197.2}, {\\\"attr\\\": \\\"reset_end\\\", \\\"kind\\\": \\\"ModelChanged\\\", \\\"model\\\": {\\\"id\\\": \\\"5639\\\"}, \\\"new\\\": 1197.2}, {\\\"attr\\\": \\\"text\\\", \\\"kind\\\": \\\"ModelChanged\\\", \\\"model\\\": {\\\"id\\\": \\\"5642\\\"}, \\\"new\\\": \\\"Neighborhood: South of Market\\\"}, {\\\"cols\\\": null, \\\"column_source\\\": {\\\"id\\\": \\\"5671\\\"}, \\\"kind\\\": \\\"ColumnDataChanged\\\", \\\"new\\\": {\\\"Avg. Sale Price/SqFt\\\": {\\\"__ndarray__\\\": \\\"kQEAAFEBAADPAQAApAEAAF8EAADNAgAAEwIAAA==\\\", \\\"dtype\\\": \\\"int32\\\", \\\"order\\\": \\\"little\\\", \\\"shape\\\": [7]}, \\\"Avg_full_stop_Sale_Price_over_SqFt\\\": {\\\"__ndarray__\\\": \\\"kQEAAFEBAADPAQAApAEAAF8EAADNAgAAEwIAAA==\\\", \\\"dtype\\\": \\\"int32\\\", \\\"order\\\": \\\"little\\\", \\\"shape\\\": [7]}, \\\"Year\\\": [2010, 2011, 2012, 2013, 2014, 2015, 2016]}}], \\\"references\\\": []}\",\"header\":\"{\\\"msgid\\\": \\\"5839\\\", \\\"msgtype\\\": \\\"PATCH-DOC\\\"}\",\"metadata\":\"{}\"},\"Sunnyside\":{\"content\":\"{\\\"events\\\": [{\\\"attr\\\": \\\"start\\\", \\\"kind\\\": \\\"ModelChanged\\\", \\\"model\\\": {\\\"id\\\": \\\"5639\\\"}, \\\"new\\\": 405.6}, {\\\"attr\\\": \\\"reset_start\\\", \\\"kind\\\": \\\"ModelChanged\\\", \\\"model\\\": {\\\"id\\\": \\\"5639\\\"}, \\\"new\\\": 405.6}, {\\\"attr\\\": \\\"end\\\", \\\"kind\\\": \\\"ModelChanged\\\", \\\"model\\\": {\\\"id\\\": \\\"5639\\\"}, \\\"new\\\": 782.4}, {\\\"attr\\\": \\\"reset_end\\\", \\\"kind\\\": \\\"ModelChanged\\\", \\\"model\\\": {\\\"id\\\": \\\"5639\\\"}, \\\"new\\\": 782.4}, {\\\"attr\\\": \\\"text\\\", \\\"kind\\\": \\\"ModelChanged\\\", \\\"model\\\": {\\\"id\\\": \\\"5642\\\"}, \\\"new\\\": \\\"Neighborhood: Sunnyside\\\"}, {\\\"cols\\\": null, \\\"column_source\\\": {\\\"id\\\": \\\"5671\\\"}, \\\"kind\\\": \\\"ColumnDataChanged\\\", \\\"new\\\": {\\\"Avg. Sale Price/SqFt\\\": {\\\"__ndarray__\\\": \\\"HgIAALUBAAD5AQAA7QEAALcBAADvAgAA\\\", \\\"dtype\\\": \\\"int32\\\", \\\"order\\\": \\\"little\\\", \\\"shape\\\": [6]}, \\\"Avg_full_stop_Sale_Price_over_SqFt\\\": {\\\"__ndarray__\\\": \\\"HgIAALUBAAD5AQAA7QEAALcBAADvAgAA\\\", \\\"dtype\\\": \\\"int32\\\", \\\"order\\\": \\\"little\\\", \\\"shape\\\": [6]}, \\\"Year\\\": [2010, 2011, 2013, 2014, 2015, 2016]}}], \\\"references\\\": []}\",\"header\":\"{\\\"msgid\\\": \\\"5832\\\", \\\"msgtype\\\": \\\"PATCH-DOC\\\"}\",\"metadata\":\"{}\"},\"Telegraph Hill\":{\"content\":\"{\\\"events\\\": [{\\\"attr\\\": \\\"start\\\", \\\"kind\\\": \\\"ModelChanged\\\", \\\"model\\\": {\\\"id\\\": \\\"5639\\\"}, \\\"new\\\": 411.9}, {\\\"attr\\\": \\\"reset_start\\\", \\\"kind\\\": \\\"ModelChanged\\\", \\\"model\\\": {\\\"id\\\": \\\"5639\\\"}, \\\"new\\\": 411.9}, {\\\"attr\\\": \\\"end\\\", \\\"kind\\\": \\\"ModelChanged\\\", \\\"model\\\": {\\\"id\\\": \\\"5639\\\"}, \\\"new\\\": 1049.1}, {\\\"attr\\\": \\\"reset_end\\\", \\\"kind\\\": \\\"ModelChanged\\\", \\\"model\\\": {\\\"id\\\": \\\"5639\\\"}, \\\"new\\\": 1049.1}, {\\\"attr\\\": \\\"text\\\", \\\"kind\\\": \\\"ModelChanged\\\", \\\"model\\\": {\\\"id\\\": \\\"5642\\\"}, \\\"new\\\": \\\"Neighborhood: Telegraph Hill\\\"}, {\\\"cols\\\": null, \\\"column_source\\\": {\\\"id\\\": \\\"5671\\\"}, \\\"kind\\\": \\\"ColumnDataChanged\\\", \\\"new\\\": {\\\"Avg. Sale Price/SqFt\\\": {\\\"__ndarray__\\\": \\\"DAIAAOMBAADRAQAAjQIAAMQCAADkAwAAhwMAAA==\\\", \\\"dtype\\\": \\\"int32\\\", \\\"order\\\": \\\"little\\\", \\\"shape\\\": [7]}, \\\"Avg_full_stop_Sale_Price_over_SqFt\\\": {\\\"__ndarray__\\\": \\\"DAIAAOMBAADRAQAAjQIAAMQCAADkAwAAhwMAAA==\\\", \\\"dtype\\\": \\\"int32\\\", \\\"order\\\": \\\"little\\\", \\\"shape\\\": [7]}, \\\"Year\\\": [2010, 2011, 2012, 2013, 2014, 2015, 2016]}}], \\\"references\\\": []}\",\"header\":\"{\\\"msgid\\\": \\\"5825\\\", \\\"msgtype\\\": \\\"PATCH-DOC\\\"}\",\"metadata\":\"{}\"},\"Twin Peaks\":{\"content\":\"{\\\"events\\\": [{\\\"attr\\\": \\\"end\\\", \\\"kind\\\": \\\"ModelChanged\\\", \\\"model\\\": {\\\"id\\\": \\\"5638\\\"}, \\\"new\\\": 2016.0}, {\\\"attr\\\": \\\"reset_end\\\", \\\"kind\\\": \\\"ModelChanged\\\", \\\"model\\\": {\\\"id\\\": \\\"5638\\\"}, \\\"new\\\": 2016.0}, {\\\"attr\\\": \\\"start\\\", \\\"kind\\\": \\\"ModelChanged\\\", \\\"model\\\": {\\\"id\\\": \\\"5639\\\"}, \\\"new\\\": 215.39999999999998}, {\\\"attr\\\": \\\"reset_start\\\", \\\"kind\\\": \\\"ModelChanged\\\", \\\"model\\\": {\\\"id\\\": \\\"5639\\\"}, \\\"new\\\": 215.39999999999998}, {\\\"attr\\\": \\\"end\\\", \\\"kind\\\": \\\"ModelChanged\\\", \\\"model\\\": {\\\"id\\\": \\\"5639\\\"}, \\\"new\\\": 1038.6}, {\\\"attr\\\": \\\"reset_end\\\", \\\"kind\\\": \\\"ModelChanged\\\", \\\"model\\\": {\\\"id\\\": \\\"5639\\\"}, \\\"new\\\": 1038.6}, {\\\"attr\\\": \\\"text\\\", \\\"kind\\\": \\\"ModelChanged\\\", \\\"model\\\": {\\\"id\\\": \\\"5642\\\"}, \\\"new\\\": \\\"Neighborhood: Twin Peaks\\\"}, {\\\"cols\\\": null, \\\"column_source\\\": {\\\"id\\\": \\\"5671\\\"}, \\\"kind\\\": \\\"ColumnDataChanged\\\", \\\"new\\\": {\\\"Avg. Sale Price/SqFt\\\": {\\\"__ndarray__\\\": \\\"SwEAABwBAAAwAQAAngEAADICAAChAQAAygMAAA==\\\", \\\"dtype\\\": \\\"int32\\\", \\\"order\\\": \\\"little\\\", \\\"shape\\\": [7]}, \\\"Avg_full_stop_Sale_Price_over_SqFt\\\": {\\\"__ndarray__\\\": \\\"SwEAABwBAAAwAQAAngEAADICAAChAQAAygMAAA==\\\", \\\"dtype\\\": \\\"int32\\\", \\\"order\\\": \\\"little\\\", \\\"shape\\\": [7]}, \\\"Year\\\": [2010, 2011, 2012, 2013, 2014, 2015, 2016]}}], \\\"references\\\": []}\",\"header\":\"{\\\"msgid\\\": \\\"5818\\\", \\\"msgtype\\\": \\\"PATCH-DOC\\\"}\",\"metadata\":\"{}\"},\"Union Square District\":{\"content\":\"{\\\"events\\\": [{\\\"attr\\\": \\\"end\\\", \\\"kind\\\": \\\"ModelChanged\\\", \\\"model\\\": {\\\"id\\\": \\\"5638\\\"}, \\\"new\\\": 2015.0}, {\\\"attr\\\": \\\"reset_end\\\", \\\"kind\\\": \\\"ModelChanged\\\", \\\"model\\\": {\\\"id\\\": \\\"5638\\\"}, \\\"new\\\": 2015.0}, {\\\"attr\\\": \\\"start\\\", \\\"kind\\\": \\\"ModelChanged\\\", \\\"model\\\": {\\\"id\\\": \\\"5639\\\"}, \\\"new\\\": 106.39999999999998}, {\\\"attr\\\": \\\"reset_start\\\", \\\"kind\\\": \\\"ModelChanged\\\", \\\"model\\\": {\\\"id\\\": \\\"5639\\\"}, \\\"new\\\": 106.39999999999998}, {\\\"attr\\\": \\\"end\\\", \\\"kind\\\": \\\"ModelChanged\\\", \\\"model\\\": {\\\"id\\\": \\\"5639\\\"}, \\\"new\\\": 2453.6}, {\\\"attr\\\": \\\"reset_end\\\", \\\"kind\\\": \\\"ModelChanged\\\", \\\"model\\\": {\\\"id\\\": \\\"5639\\\"}, \\\"new\\\": 2453.6}, {\\\"attr\\\": \\\"text\\\", \\\"kind\\\": \\\"ModelChanged\\\", \\\"model\\\": {\\\"id\\\": \\\"5642\\\"}, \\\"new\\\": \\\"Neighborhood: Union Square District\\\"}, {\\\"cols\\\": null, \\\"column_source\\\": {\\\"id\\\": \\\"5671\\\"}, \\\"kind\\\": \\\"ColumnDataChanged\\\", \\\"new\\\": {\\\"Avg. Sale Price/SqFt\\\": {\\\"__ndarray__\\\": \\\"OQIAAC4BAAC9AQAACgUAAC4CAADSCAAA\\\", \\\"dtype\\\": \\\"int32\\\", \\\"order\\\": \\\"little\\\", \\\"shape\\\": [6]}, \\\"Avg_full_stop_Sale_Price_over_SqFt\\\": {\\\"__ndarray__\\\": \\\"OQIAAC4BAAC9AQAACgUAAC4CAADSCAAA\\\", \\\"dtype\\\": \\\"int32\\\", \\\"order\\\": \\\"little\\\", \\\"shape\\\": [6]}, \\\"Year\\\": [2010, 2011, 2012, 2013, 2014, 2015]}}], \\\"references\\\": []}\",\"header\":\"{\\\"msgid\\\": \\\"5811\\\", \\\"msgtype\\\": \\\"PATCH-DOC\\\"}\",\"metadata\":\"{}\"},\"Van Ness/ Civic Center\":{\"content\":\"{\\\"events\\\": [{\\\"attr\\\": \\\"start\\\", \\\"kind\\\": \\\"ModelChanged\\\", \\\"model\\\": {\\\"id\\\": \\\"5638\\\"}, \\\"new\\\": 2010.0}, {\\\"attr\\\": \\\"reset_start\\\", \\\"kind\\\": \\\"ModelChanged\\\", \\\"model\\\": {\\\"id\\\": \\\"5638\\\"}, \\\"new\\\": 2010.0}, {\\\"attr\\\": \\\"start\\\", \\\"kind\\\": \\\"ModelChanged\\\", \\\"model\\\": {\\\"id\\\": \\\"5639\\\"}, \\\"new\\\": 51.099999999999994}, {\\\"attr\\\": \\\"reset_start\\\", \\\"kind\\\": \\\"ModelChanged\\\", \\\"model\\\": {\\\"id\\\": \\\"5639\\\"}, \\\"new\\\": 51.099999999999994}, {\\\"attr\\\": \\\"end\\\", \\\"kind\\\": \\\"ModelChanged\\\", \\\"model\\\": {\\\"id\\\": \\\"5639\\\"}, \\\"new\\\": 733.9}, {\\\"attr\\\": \\\"reset_end\\\", \\\"kind\\\": \\\"ModelChanged\\\", \\\"model\\\": {\\\"id\\\": \\\"5639\\\"}, \\\"new\\\": 733.9}, {\\\"attr\\\": \\\"text\\\", \\\"kind\\\": \\\"ModelChanged\\\", \\\"model\\\": {\\\"id\\\": \\\"5642\\\"}, \\\"new\\\": \\\"Neighborhood: Van Ness/ Civic Center\\\"}, {\\\"cols\\\": null, \\\"column_source\\\": {\\\"id\\\": \\\"5671\\\"}, \\\"kind\\\": \\\"ColumnDataChanged\\\", \\\"new\\\": {\\\"Avg. Sale Price/SqFt\\\": {\\\"__ndarray__\\\": \\\"bAAAAIABAABZAQAAHQEAANsBAAClAgAAKAIAAA==\\\", \\\"dtype\\\": \\\"int32\\\", \\\"order\\\": \\\"little\\\", \\\"shape\\\": [7]}, \\\"Avg_full_stop_Sale_Price_over_SqFt\\\": {\\\"__ndarray__\\\": \\\"bAAAAIABAABZAQAAHQEAANsBAAClAgAAKAIAAA==\\\", \\\"dtype\\\": \\\"int32\\\", \\\"order\\\": \\\"little\\\", \\\"shape\\\": [7]}, \\\"Year\\\": [2010, 2011, 2012, 2013, 2014, 2015, 2016]}}], \\\"references\\\": []}\",\"header\":\"{\\\"msgid\\\": \\\"5804\\\", \\\"msgtype\\\": \\\"PATCH-DOC\\\"}\",\"metadata\":\"{}\"},\"Visitacion Valley\":{\"content\":\"{\\\"events\\\": [{\\\"attr\\\": \\\"start\\\", \\\"kind\\\": \\\"ModelChanged\\\", \\\"model\\\": {\\\"id\\\": \\\"5638\\\"}, \\\"new\\\": 2013.0}, {\\\"attr\\\": \\\"reset_start\\\", \\\"kind\\\": \\\"ModelChanged\\\", \\\"model\\\": {\\\"id\\\": \\\"5638\\\"}, \\\"new\\\": 2013.0}, {\\\"attr\\\": \\\"end\\\", \\\"kind\\\": \\\"ModelChanged\\\", \\\"model\\\": {\\\"id\\\": \\\"5638\\\"}, \\\"new\\\": 2016.0}, {\\\"attr\\\": \\\"reset_end\\\", \\\"kind\\\": \\\"ModelChanged\\\", \\\"model\\\": {\\\"id\\\": \\\"5638\\\"}, \\\"new\\\": 2016.0}, {\\\"attr\\\": \\\"start\\\", \\\"kind\\\": \\\"ModelChanged\\\", \\\"model\\\": {\\\"id\\\": \\\"5639\\\"}, \\\"new\\\": 277.4}, {\\\"attr\\\": \\\"reset_start\\\", \\\"kind\\\": \\\"ModelChanged\\\", \\\"model\\\": {\\\"id\\\": \\\"5639\\\"}, \\\"new\\\": 277.4}, {\\\"attr\\\": \\\"end\\\", \\\"kind\\\": \\\"ModelChanged\\\", \\\"model\\\": {\\\"id\\\": \\\"5639\\\"}, \\\"new\\\": 332.6}, {\\\"attr\\\": \\\"reset_end\\\", \\\"kind\\\": \\\"ModelChanged\\\", \\\"model\\\": {\\\"id\\\": \\\"5639\\\"}, \\\"new\\\": 332.6}, {\\\"attr\\\": \\\"text\\\", \\\"kind\\\": \\\"ModelChanged\\\", \\\"model\\\": {\\\"id\\\": \\\"5642\\\"}, \\\"new\\\": \\\"Neighborhood: Visitacion Valley\\\"}, {\\\"cols\\\": null, \\\"column_source\\\": {\\\"id\\\": \\\"5671\\\"}, \\\"kind\\\": \\\"ColumnDataChanged\\\", \\\"new\\\": {\\\"Avg. Sale Price/SqFt\\\": {\\\"__ndarray__\\\": \\\"JQEAABoBAAAuAQAASAEAAA==\\\", \\\"dtype\\\": \\\"int32\\\", \\\"order\\\": \\\"little\\\", \\\"shape\\\": [4]}, \\\"Avg_full_stop_Sale_Price_over_SqFt\\\": {\\\"__ndarray__\\\": \\\"JQEAABoBAAAuAQAASAEAAA==\\\", \\\"dtype\\\": \\\"int32\\\", \\\"order\\\": \\\"little\\\", \\\"shape\\\": [4]}, \\\"Year\\\": [2013, 2014, 2015, 2016]}}], \\\"references\\\": []}\",\"header\":\"{\\\"msgid\\\": \\\"5797\\\", \\\"msgtype\\\": \\\"PATCH-DOC\\\"}\",\"metadata\":\"{}\"},\"West Portal\":{\"content\":\"{\\\"events\\\": [{\\\"attr\\\": \\\"end\\\", \\\"kind\\\": \\\"ModelChanged\\\", \\\"model\\\": {\\\"id\\\": \\\"5638\\\"}, \\\"new\\\": 2014.0}, {\\\"attr\\\": \\\"reset_end\\\", \\\"kind\\\": \\\"ModelChanged\\\", \\\"model\\\": {\\\"id\\\": \\\"5638\\\"}, \\\"new\\\": 2014.0}, {\\\"attr\\\": \\\"start\\\", \\\"kind\\\": \\\"ModelChanged\\\", \\\"model\\\": {\\\"id\\\": \\\"5639\\\"}, \\\"new\\\": 288.8}, {\\\"attr\\\": \\\"reset_start\\\", \\\"kind\\\": \\\"ModelChanged\\\", \\\"model\\\": {\\\"id\\\": \\\"5639\\\"}, \\\"new\\\": 288.8}, {\\\"attr\\\": \\\"end\\\", \\\"kind\\\": \\\"ModelChanged\\\", \\\"model\\\": {\\\"id\\\": \\\"5639\\\"}, \\\"new\\\": 723.2}, {\\\"attr\\\": \\\"reset_end\\\", \\\"kind\\\": \\\"ModelChanged\\\", \\\"model\\\": {\\\"id\\\": \\\"5639\\\"}, \\\"new\\\": 723.2}, {\\\"attr\\\": \\\"text\\\", \\\"kind\\\": \\\"ModelChanged\\\", \\\"model\\\": {\\\"id\\\": \\\"5642\\\"}, \\\"new\\\": \\\"Neighborhood: West Portal\\\"}, {\\\"cols\\\": null, \\\"column_source\\\": {\\\"id\\\": \\\"5671\\\"}, \\\"kind\\\": \\\"ColumnDataChanged\\\", \\\"new\\\": {\\\"Avg. Sale Price/SqFt\\\": {\\\"__ndarray__\\\": \\\"iAEAAEUBAABMAgAArwIAAA==\\\", \\\"dtype\\\": \\\"int32\\\", \\\"order\\\": \\\"little\\\", \\\"shape\\\": [4]}, \\\"Avg_full_stop_Sale_Price_over_SqFt\\\": {\\\"__ndarray__\\\": \\\"iAEAAEUBAABMAgAArwIAAA==\\\", \\\"dtype\\\": \\\"int32\\\", \\\"order\\\": \\\"little\\\", \\\"shape\\\": [4]}, \\\"Year\\\": [2010, 2012, 2013, 2014]}}], \\\"references\\\": []}\",\"header\":\"{\\\"msgid\\\": \\\"5790\\\", \\\"msgtype\\\": \\\"PATCH-DOC\\\"}\",\"metadata\":\"{}\"},\"Western Addition\":{\"content\":\"{\\\"events\\\": [{\\\"attr\\\": \\\"start\\\", \\\"kind\\\": \\\"ModelChanged\\\", \\\"model\\\": {\\\"id\\\": \\\"5638\\\"}, \\\"new\\\": 2010.0}, {\\\"attr\\\": \\\"reset_start\\\", \\\"kind\\\": \\\"ModelChanged\\\", \\\"model\\\": {\\\"id\\\": \\\"5638\\\"}, \\\"new\\\": 2010.0}, {\\\"attr\\\": \\\"end\\\", \\\"kind\\\": \\\"ModelChanged\\\", \\\"model\\\": {\\\"id\\\": \\\"5638\\\"}, \\\"new\\\": 2015.0}, {\\\"attr\\\": \\\"reset_end\\\", \\\"kind\\\": \\\"ModelChanged\\\", \\\"model\\\": {\\\"id\\\": \\\"5638\\\"}, \\\"new\\\": 2015.0}, {\\\"attr\\\": \\\"start\\\", \\\"kind\\\": \\\"ModelChanged\\\", \\\"model\\\": {\\\"id\\\": \\\"5639\\\"}, \\\"new\\\": 188.4}, {\\\"attr\\\": \\\"reset_start\\\", \\\"kind\\\": \\\"ModelChanged\\\", \\\"model\\\": {\\\"id\\\": \\\"5639\\\"}, \\\"new\\\": 188.4}, {\\\"attr\\\": \\\"end\\\", \\\"kind\\\": \\\"ModelChanged\\\", \\\"model\\\": {\\\"id\\\": \\\"5639\\\"}, \\\"new\\\": 507.6}, {\\\"attr\\\": \\\"reset_end\\\", \\\"kind\\\": \\\"ModelChanged\\\", \\\"model\\\": {\\\"id\\\": \\\"5639\\\"}, \\\"new\\\": 507.6}, {\\\"attr\\\": \\\"text\\\", \\\"kind\\\": \\\"ModelChanged\\\", \\\"model\\\": {\\\"id\\\": \\\"5642\\\"}, \\\"new\\\": \\\"Neighborhood: Western Addition\\\"}, {\\\"cols\\\": null, \\\"column_source\\\": {\\\"id\\\": \\\"5671\\\"}, \\\"kind\\\": \\\"ColumnDataChanged\\\", \\\"new\\\": {\\\"Avg. Sale Price/SqFt\\\": {\\\"__ndarray__\\\": \\\"1wAAAOMAAAASAQAA2QAAAK0BAADhAQAA\\\", \\\"dtype\\\": \\\"int32\\\", \\\"order\\\": \\\"little\\\", \\\"shape\\\": [6]}, \\\"Avg_full_stop_Sale_Price_over_SqFt\\\": {\\\"__ndarray__\\\": \\\"1wAAAOMAAAASAQAA2QAAAK0BAADhAQAA\\\", \\\"dtype\\\": \\\"int32\\\", \\\"order\\\": \\\"little\\\", \\\"shape\\\": [6]}, \\\"Year\\\": [2010, 2011, 2012, 2013, 2014, 2015]}}], \\\"references\\\": []}\",\"header\":\"{\\\"msgid\\\": \\\"5783\\\", \\\"msgtype\\\": \\\"PATCH-DOC\\\"}\",\"metadata\":\"{}\"},\"Westwood Highlands\":{\"content\":\"{\\\"events\\\": [{\\\"attr\\\": \\\"start\\\", \\\"kind\\\": \\\"ModelChanged\\\", \\\"model\\\": {\\\"id\\\": \\\"5638\\\"}, \\\"new\\\": 2011.0}, {\\\"attr\\\": \\\"reset_start\\\", \\\"kind\\\": \\\"ModelChanged\\\", \\\"model\\\": {\\\"id\\\": \\\"5638\\\"}, \\\"new\\\": 2011.0}, {\\\"attr\\\": \\\"end\\\", \\\"kind\\\": \\\"ModelChanged\\\", \\\"model\\\": {\\\"id\\\": \\\"5638\\\"}, \\\"new\\\": 2013.0}, {\\\"attr\\\": \\\"reset_end\\\", \\\"kind\\\": \\\"ModelChanged\\\", \\\"model\\\": {\\\"id\\\": \\\"5638\\\"}, \\\"new\\\": 2013.0}, {\\\"attr\\\": \\\"start\\\", \\\"kind\\\": \\\"ModelChanged\\\", \\\"model\\\": {\\\"id\\\": \\\"5639\\\"}, \\\"new\\\": 277.3}, {\\\"attr\\\": \\\"reset_start\\\", \\\"kind\\\": \\\"ModelChanged\\\", \\\"model\\\": {\\\"id\\\": \\\"5639\\\"}, \\\"new\\\": 277.3}, {\\\"attr\\\": \\\"end\\\", \\\"kind\\\": \\\"ModelChanged\\\", \\\"model\\\": {\\\"id\\\": \\\"5639\\\"}, \\\"new\\\": 789.7}, {\\\"attr\\\": \\\"reset_end\\\", \\\"kind\\\": \\\"ModelChanged\\\", \\\"model\\\": {\\\"id\\\": \\\"5639\\\"}, \\\"new\\\": 789.7}, {\\\"attr\\\": \\\"text\\\", \\\"kind\\\": \\\"ModelChanged\\\", \\\"model\\\": {\\\"id\\\": \\\"5642\\\"}, \\\"new\\\": \\\"Neighborhood: Westwood Highlands\\\"}, {\\\"cols\\\": null, \\\"column_source\\\": {\\\"id\\\": \\\"5671\\\"}, \\\"kind\\\": \\\"ColumnDataChanged\\\", \\\"new\\\": {\\\"Avg. Sale Price/SqFt\\\": {\\\"__ndarray__\\\": \\\"QAEAAOsCAAA=\\\", \\\"dtype\\\": \\\"int32\\\", \\\"order\\\": \\\"little\\\", \\\"shape\\\": [2]}, \\\"Avg_full_stop_Sale_Price_over_SqFt\\\": {\\\"__ndarray__\\\": \\\"QAEAAOsCAAA=\\\", \\\"dtype\\\": \\\"int32\\\", \\\"order\\\": \\\"little\\\", \\\"shape\\\": [2]}, \\\"Year\\\": [2011, 2013]}}], \\\"references\\\": []}\",\"header\":\"{\\\"msgid\\\": \\\"5776\\\", \\\"msgtype\\\": \\\"PATCH-DOC\\\"}\",\"metadata\":\"{}\"},\"Westwood Park\":{\"content\":\"{\\\"events\\\": [{\\\"attr\\\": \\\"start\\\", \\\"kind\\\": \\\"ModelChanged\\\", \\\"model\\\": {\\\"id\\\": \\\"5638\\\"}, \\\"new\\\": 2014.0}, {\\\"attr\\\": \\\"reset_start\\\", \\\"kind\\\": \\\"ModelChanged\\\", \\\"model\\\": {\\\"id\\\": \\\"5638\\\"}, \\\"new\\\": 2014.0}, {\\\"attr\\\": \\\"end\\\", \\\"kind\\\": \\\"ModelChanged\\\", \\\"model\\\": {\\\"id\\\": \\\"5638\\\"}, \\\"new\\\": 2016.0}, {\\\"attr\\\": \\\"reset_end\\\", \\\"kind\\\": \\\"ModelChanged\\\", \\\"model\\\": {\\\"id\\\": \\\"5638\\\"}, \\\"new\\\": 2016.0}, {\\\"attr\\\": \\\"start\\\", \\\"kind\\\": \\\"ModelChanged\\\", \\\"model\\\": {\\\"id\\\": \\\"5639\\\"}, \\\"new\\\": 619.9}, {\\\"attr\\\": \\\"reset_start\\\", \\\"kind\\\": \\\"ModelChanged\\\", \\\"model\\\": {\\\"id\\\": \\\"5639\\\"}, \\\"new\\\": 619.9}, {\\\"attr\\\": \\\"end\\\", \\\"kind\\\": \\\"ModelChanged\\\", \\\"model\\\": {\\\"id\\\": \\\"5639\\\"}, \\\"new\\\": 753.1}, {\\\"attr\\\": \\\"reset_end\\\", \\\"kind\\\": \\\"ModelChanged\\\", \\\"model\\\": {\\\"id\\\": \\\"5639\\\"}, \\\"new\\\": 753.1}, {\\\"attr\\\": \\\"text\\\", \\\"kind\\\": \\\"ModelChanged\\\", \\\"model\\\": {\\\"id\\\": \\\"5642\\\"}, \\\"new\\\": \\\"Neighborhood: Westwood Park\\\"}, {\\\"cols\\\": null, \\\"column_source\\\": {\\\"id\\\": \\\"5671\\\"}, \\\"kind\\\": \\\"ColumnDataChanged\\\", \\\"new\\\": {\\\"Avg. Sale Price/SqFt\\\": {\\\"__ndarray__\\\": \\\"5gIAAHcCAAA=\\\", \\\"dtype\\\": \\\"int32\\\", \\\"order\\\": \\\"little\\\", \\\"shape\\\": [2]}, \\\"Avg_full_stop_Sale_Price_over_SqFt\\\": {\\\"__ndarray__\\\": \\\"5gIAAHcCAAA=\\\", \\\"dtype\\\": \\\"int32\\\", \\\"order\\\": \\\"little\\\", \\\"shape\\\": [2]}, \\\"Year\\\": [2014, 2016]}}], \\\"references\\\": []}\",\"header\":\"{\\\"msgid\\\": \\\"5769\\\", \\\"msgtype\\\": \\\"PATCH-DOC\\\"}\",\"metadata\":\"{}\"},\"Yerba Buena\":{\"content\":\"{\\\"events\\\": [{\\\"attr\\\": \\\"end\\\", \\\"kind\\\": \\\"ModelChanged\\\", \\\"model\\\": {\\\"id\\\": \\\"5638\\\"}, \\\"new\\\": 2015.0}, {\\\"attr\\\": \\\"reset_end\\\", \\\"kind\\\": \\\"ModelChanged\\\", \\\"model\\\": {\\\"id\\\": \\\"5638\\\"}, \\\"new\\\": 2015.0}, {\\\"attr\\\": \\\"start\\\", \\\"kind\\\": \\\"ModelChanged\\\", \\\"model\\\": {\\\"id\\\": \\\"5639\\\"}, \\\"new\\\": 270.0}, {\\\"attr\\\": \\\"reset_start\\\", \\\"kind\\\": \\\"ModelChanged\\\", \\\"model\\\": {\\\"id\\\": \\\"5639\\\"}, \\\"new\\\": 270.0}, {\\\"attr\\\": \\\"end\\\", \\\"kind\\\": \\\"ModelChanged\\\", \\\"model\\\": {\\\"id\\\": \\\"5639\\\"}, \\\"new\\\": 1026.0}, {\\\"attr\\\": \\\"reset_end\\\", \\\"kind\\\": \\\"ModelChanged\\\", \\\"model\\\": {\\\"id\\\": \\\"5639\\\"}, \\\"new\\\": 1026.0}, {\\\"attr\\\": \\\"text\\\", \\\"kind\\\": \\\"ModelChanged\\\", \\\"model\\\": {\\\"id\\\": \\\"5642\\\"}, \\\"new\\\": \\\"Neighborhood: Yerba Buena\\\"}, {\\\"cols\\\": null, \\\"column_source\\\": {\\\"id\\\": \\\"5671\\\"}, \\\"kind\\\": \\\"ColumnDataChanged\\\", \\\"new\\\": {\\\"Avg. Sale Price/SqFt\\\": {\\\"__ndarray__\\\": \\\"TQEAALYBAADrAQAA8QIAAN8BAADDAwAA\\\", \\\"dtype\\\": \\\"int32\\\", \\\"order\\\": \\\"little\\\", \\\"shape\\\": [6]}, \\\"Avg_full_stop_Sale_Price_over_SqFt\\\": {\\\"__ndarray__\\\": \\\"TQEAALYBAADrAQAA8QIAAN8BAADDAwAA\\\", \\\"dtype\\\": \\\"int32\\\", \\\"order\\\": \\\"little\\\", \\\"shape\\\": [6]}, \\\"Year\\\": [2010, 2011, 2012, 2013, 2014, 2015]}}], \\\"references\\\": []}\",\"header\":\"{\\\"msgid\\\": \\\"5762\\\", \\\"msgtype\\\": \\\"PATCH-DOC\\\"}\",\"metadata\":\"{}\"}},\"values\":[\"Alamo Square\"],\"widgets\":{\"5722\":0}},\"id\":\"5734\",\"type\":\"panel.models.state.State\"},{\"attributes\":{\"children\":[{\"id\":\"5637\"},{\"id\":\"5641\"},{\"id\":\"5718\"},{\"id\":\"5719\"}],\"margin\":[0,0,0,0],\"name\":\"Row75118\",\"tags\":[\"embedded\"]},\"id\":\"5636\",\"type\":\"Row\"},{\"attributes\":{\"line_color\":\"#30a2da\",\"line_width\":2,\"x\":{\"field\":\"Year\"},\"y\":{\"field\":\"Avg. Sale Price/SqFt\"}},\"id\":\"5679\",\"type\":\"Line\"},{\"attributes\":{\"text\":\"Neighborhood: Alamo Square\",\"text_color\":\"black\",\"text_font_size\":\"12pt\"},\"id\":\"5642\",\"type\":\"Title\"},{\"attributes\":{},\"id\":\"5681\",\"type\":\"AllLabels\"},{\"attributes\":{\"line_alpha\":0.2,\"line_color\":\"#30a2da\",\"line_width\":2,\"x\":{\"field\":\"Year\"},\"y\":{\"field\":\"Avg. Sale Price/SqFt\"}},\"id\":\"5676\",\"type\":\"Line\"},{\"attributes\":{\"code\":\"\\nvar state = null\\nfor (var root of cb_obj.document.roots()) {\\n  if (root.id == '5734') {\\n    state = root;\\n    break;\\n  }\\n}\\nif (!state) { return; }\\nstate.set_state(cb_obj, cb_obj.value)\\n\"},\"id\":\"5735\",\"type\":\"CustomJS\"},{\"attributes\":{},\"id\":\"5685\",\"type\":\"BasicTickFormatter\"},{\"attributes\":{\"line_alpha\":0.1,\"line_color\":\"#30a2da\",\"line_width\":2,\"x\":{\"field\":\"Year\"},\"y\":{\"field\":\"Avg. Sale Price/SqFt\"}},\"id\":\"5675\",\"type\":\"Line\"},{\"attributes\":{\"data_source\":{\"id\":\"5671\"},\"glyph\":{\"id\":\"5674\"},\"hover_glyph\":null,\"muted_glyph\":{\"id\":\"5676\"},\"nonselection_glyph\":{\"id\":\"5675\"},\"selection_glyph\":{\"id\":\"5679\"},\"view\":{\"id\":\"5678\"}},\"id\":\"5677\",\"type\":\"GlyphRenderer\"},{\"attributes\":{\"line_color\":\"#30a2da\",\"line_width\":2,\"x\":{\"field\":\"Year\"},\"y\":{\"field\":\"Avg. Sale Price/SqFt\"}},\"id\":\"5674\",\"type\":\"Line\"},{\"attributes\":{},\"id\":\"5682\",\"type\":\"BasicTickFormatter\"},{\"attributes\":{},\"id\":\"5658\",\"type\":\"SaveTool\"},{\"attributes\":{\"children\":[{\"id\":\"5720\"},{\"id\":\"5721\"},{\"id\":\"5723\"}],\"margin\":[0,0,0,0],\"name\":\"Column75128\"},\"id\":\"5719\",\"type\":\"Column\"},{\"attributes\":{},\"id\":\"5659\",\"type\":\"PanTool\"},{\"attributes\":{},\"id\":\"5662\",\"type\":\"ResetTool\"},{\"attributes\":{},\"id\":\"5660\",\"type\":\"WheelZoomTool\"},{\"attributes\":{},\"id\":\"5646\",\"type\":\"LinearScale\"}],\"root_ids\":[\"5636\",\"5734\"]},\"title\":\"Bokeh Application\",\"version\":\"2.3.2\"}};\n",
       "    var render_items = [{\"docid\":\"0547684d-8b2c-4b2f-8756-1855b0024bf9\",\"root_ids\":[\"5636\"],\"roots\":{\"5636\":\"684b2539-7d2f-47d3-9f87-dceeedb1352e\"}}];\n",
       "    root.Bokeh.embed.embed_items_notebook(docs_json, render_items);\n",
       "  }\n",
       "  if (root.Bokeh !== undefined && root.Bokeh.Panel !== undefined && root['Plotly'] !== undefined ) {\n",
       "    embed_document(root);\n",
       "  } else {\n",
       "    var attempts = 0;\n",
       "    var timer = setInterval(function(root) {\n",
       "      if (root.Bokeh !== undefined && root.Bokeh.Panel !== undefined && root['Plotly'] !== undefined) {\n",
       "        clearInterval(timer);\n",
       "        embed_document(root);\n",
       "      } else if (document.readyState == \"complete\") {\n",
       "        attempts++;\n",
       "        if (attempts > 100) {\n",
       "          clearInterval(timer);\n",
       "          console.log(\"Bokeh: ERROR: Unable to run BokehJS code because BokehJS library is missing\");\n",
       "        }\n",
       "      }\n",
       "    }, 10, root)\n",
       "  }\n",
       "})(window);</script>"
      ]
     },
     "metadata": {
      "application/vnd.holoviews_exec.v0+json": {
       "id": "5636"
      }
     },
     "execution_count": 88
    }
   ],
   "metadata": {}
  },
  {
   "cell_type": "code",
   "execution_count": 89,
   "source": [
    "# Use hvplot to create an interactive line chart of the average monthly rent.\r\n",
    "# The plot should have a dropdown selector for the neighborhood\r\n",
    "\r\n",
    "rent_by_neighborhood = sfo_neighborhood.rename(columns={'Gross Rent':'Avg. Gross Rent'}).groupby(['Year','Neighborhood'])['Avg. Gross Rent'].mean().to_frame()\r\n",
    "print(rent_by_neighborhood, type(rent_by_neighborhood))\r\n",
    "\r\n",
    "plot_rent_by_neighborhood = rent_by_neighborhood.hvplot(\r\n",
    "    x='Year',\r\n",
    "    y='Avg. Gross Rent',\r\n",
    "    ylabel='Avg. Gross Rent per Year',\r\n",
    "    groupby='Neighborhood',\r\n",
    "    dynamic=False\r\n",
    ")\r\n",
    "plot_rent_by_neighborhood"
   ],
   "outputs": [
    {
     "output_type": "stream",
     "name": "stdout",
     "text": [
      "                             Avg. Gross Rent\n",
      "Year Neighborhood                           \n",
      "2010 Alamo Square                       1239\n",
      "     Anza Vista                         1239\n",
      "     Bayview                            1239\n",
      "     Buena Vista Park                   1239\n",
      "     Central Richmond                   1239\n",
      "...                                      ...\n",
      "2016 Telegraph Hill                     4390\n",
      "     Twin Peaks                         4390\n",
      "     Van Ness/ Civic Center             4390\n",
      "     Visitacion Valley                  4390\n",
      "     Westwood Park                      4390\n",
      "\n",
      "[397 rows x 1 columns] <class 'pandas.core.frame.DataFrame'>\n"
     ]
    },
    {
     "output_type": "display_data",
     "data": {},
     "metadata": {}
    },
    {
     "output_type": "execute_result",
     "data": {
      "application/vnd.holoviews_exec.v0+json": "",
      "text/plain": [
       ":HoloMap   [Neighborhood]\n",
       "   :Curve   [Year]   (Avg. Gross Rent)"
      ],
      "text/html": [
       "<div id='6297'>\n",
       "\n",
       "\n",
       "\n",
       "\n",
       "\n",
       "  <div class=\"bk-root\" id=\"77fc61ec-d2de-47b3-9c70-c3313e16a2de\" data-root-id=\"6297\"></div>\n",
       "</div>\n",
       "<script type=\"application/javascript\">(function(root) {\n",
       "  function embed_document(root) {\n",
       "    var docs_json = {\"4b77c94e-4149-449c-89cb-85d49e37f43a\":{\"defs\":[],\"roots\":{\"references\":[{\"attributes\":{\"line_alpha\":0.1,\"line_color\":\"#30a2da\",\"line_width\":2,\"x\":{\"field\":\"Year\"},\"y\":{\"field\":\"Avg. Gross Rent\"}},\"id\":\"6336\",\"type\":\"Line\"},{\"attributes\":{\"axis\":{\"id\":\"6315\"},\"dimension\":1,\"grid_line_color\":null,\"ticker\":null},\"id\":\"6318\",\"type\":\"Grid\"},{\"attributes\":{\"axis\":{\"id\":\"6311\"},\"grid_line_color\":null,\"ticker\":null},\"id\":\"6314\",\"type\":\"Grid\"},{\"attributes\":{\"end\":4705.1,\"reset_end\":4705.1,\"reset_start\":923.9,\"start\":923.9,\"tags\":[[[\"Avg. Gross Rent\",\"Avg. Gross Rent\",null]]]},\"id\":\"6300\",\"type\":\"Range1d\"},{\"attributes\":{\"margin\":[5,5,5,5],\"name\":\"VSpacer84266\",\"sizing_mode\":\"stretch_height\"},\"id\":\"6384\",\"type\":\"Spacer\"},{\"attributes\":{\"children\":[{\"id\":\"6381\"},{\"id\":\"6382\"},{\"id\":\"6384\"}],\"margin\":[0,0,0,0],\"name\":\"Column84267\"},\"id\":\"6380\",\"type\":\"Column\"},{\"attributes\":{\"children\":[{\"id\":\"6298\"},{\"id\":\"6302\"},{\"id\":\"6379\"},{\"id\":\"6380\"}],\"margin\":[0,0,0,0],\"name\":\"Row84257\",\"tags\":[\"embedded\"]},\"id\":\"6297\",\"type\":\"Row\"},{\"attributes\":{},\"id\":\"6316\",\"type\":\"BasicTicker\"},{\"attributes\":{\"axis_label\":\"Avg. Gross Rent per Year\",\"formatter\":{\"id\":\"6346\"},\"major_label_policy\":{\"id\":\"6345\"},\"ticker\":{\"id\":\"6316\"}},\"id\":\"6315\",\"type\":\"LinearAxis\"},{\"attributes\":{\"margin\":[5,5,5,5],\"name\":\"HSpacer84269\",\"sizing_mode\":\"stretch_width\"},\"id\":\"6379\",\"type\":\"Spacer\"},{\"attributes\":{\"callback\":null,\"renderers\":[{\"id\":\"6338\"}],\"tags\":[\"hv_created\"],\"tooltips\":[[\"Year\",\"@{Year}\"],[\"Avg. Gross Rent\",\"@{Avg_full_stop_Gross_Rent}\"]]},\"id\":\"6301\",\"type\":\"HoverTool\"},{\"attributes\":{\"active_multi\":null,\"tools\":[{\"id\":\"6301\"},{\"id\":\"6319\"},{\"id\":\"6320\"},{\"id\":\"6321\"},{\"id\":\"6322\"},{\"id\":\"6323\"}]},\"id\":\"6325\",\"type\":\"Toolbar\"},{\"attributes\":{},\"id\":\"6333\",\"type\":\"Selection\"},{\"attributes\":{\"margin\":[5,5,5,5],\"name\":\"VSpacer84265\",\"sizing_mode\":\"stretch_height\"},\"id\":\"6381\",\"type\":\"Spacer\"},{\"attributes\":{\"margin\":[5,5,5,5],\"name\":\"HSpacer84268\",\"sizing_mode\":\"stretch_width\"},\"id\":\"6298\",\"type\":\"Spacer\"},{\"attributes\":{\"bottom_units\":\"screen\",\"fill_alpha\":0.5,\"fill_color\":\"lightgrey\",\"left_units\":\"screen\",\"level\":\"overlay\",\"line_alpha\":1.0,\"line_color\":\"black\",\"line_dash\":[4,4],\"line_width\":2,\"right_units\":\"screen\",\"syncable\":false,\"top_units\":\"screen\"},\"id\":\"6324\",\"type\":\"BoxAnnotation\"},{\"attributes\":{\"state\":{\"Alamo Square\":{\"content\":\"{\\\"events\\\": [{\\\"attr\\\": \\\"text\\\", \\\"kind\\\": \\\"ModelChanged\\\", \\\"model\\\": {\\\"id\\\": \\\"6303\\\"}, \\\"new\\\": \\\"Neighborhood: Alamo Square\\\"}, {\\\"cols\\\": null, \\\"column_source\\\": {\\\"id\\\": \\\"6332\\\"}, \\\"kind\\\": \\\"ColumnDataChanged\\\", \\\"new\\\": {\\\"Avg. Gross Rent\\\": [1239, 1530, 2324, 2971, 3528, 3739, 4390], \\\"Avg_full_stop_Gross_Rent\\\": [1239, 1530, 2324, 2971, 3528, 3739, 4390], \\\"Year\\\": [2010, 2011, 2012, 2013, 2014, 2015, 2016]}}], \\\"references\\\": []}\",\"header\":\"{\\\"msgid\\\": \\\"6927\\\", \\\"msgtype\\\": \\\"PATCH-DOC\\\"}\",\"metadata\":\"{}\"},\"Anza Vista\":{\"content\":\"{\\\"events\\\": [{\\\"attr\\\": \\\"end\\\", \\\"kind\\\": \\\"ModelChanged\\\", \\\"model\\\": {\\\"id\\\": \\\"6299\\\"}, \\\"new\\\": 2016.0}, {\\\"attr\\\": \\\"reset_end\\\", \\\"kind\\\": \\\"ModelChanged\\\", \\\"model\\\": {\\\"id\\\": \\\"6299\\\"}, \\\"new\\\": 2016.0}, {\\\"attr\\\": \\\"start\\\", \\\"kind\\\": \\\"ModelChanged\\\", \\\"model\\\": {\\\"id\\\": \\\"6300\\\"}, \\\"new\\\": 923.9}, {\\\"attr\\\": \\\"reset_start\\\", \\\"kind\\\": \\\"ModelChanged\\\", \\\"model\\\": {\\\"id\\\": \\\"6300\\\"}, \\\"new\\\": 923.9}, {\\\"attr\\\": \\\"end\\\", \\\"kind\\\": \\\"ModelChanged\\\", \\\"model\\\": {\\\"id\\\": \\\"6300\\\"}, \\\"new\\\": 4705.1}, {\\\"attr\\\": \\\"reset_end\\\", \\\"kind\\\": \\\"ModelChanged\\\", \\\"model\\\": {\\\"id\\\": \\\"6300\\\"}, \\\"new\\\": 4705.1}, {\\\"attr\\\": \\\"text\\\", \\\"kind\\\": \\\"ModelChanged\\\", \\\"model\\\": {\\\"id\\\": \\\"6303\\\"}, \\\"new\\\": \\\"Neighborhood: Anza Vista\\\"}, {\\\"cols\\\": null, \\\"column_source\\\": {\\\"id\\\": \\\"6332\\\"}, \\\"kind\\\": \\\"ColumnDataChanged\\\", \\\"new\\\": {\\\"Avg. Gross Rent\\\": [1239, 2324, 2971, 3528, 3739, 4390], \\\"Avg_full_stop_Gross_Rent\\\": [1239, 2324, 2971, 3528, 3739, 4390], \\\"Year\\\": [2010, 2012, 2013, 2014, 2015, 2016]}}], \\\"references\\\": []}\",\"header\":\"{\\\"msgid\\\": \\\"6920\\\", \\\"msgtype\\\": \\\"PATCH-DOC\\\"}\",\"metadata\":\"{}\"},\"Bayview\":{\"content\":\"{\\\"events\\\": [{\\\"attr\\\": \\\"start\\\", \\\"kind\\\": \\\"ModelChanged\\\", \\\"model\\\": {\\\"id\\\": \\\"6299\\\"}, \\\"new\\\": 2010.0}, {\\\"attr\\\": \\\"reset_start\\\", \\\"kind\\\": \\\"ModelChanged\\\", \\\"model\\\": {\\\"id\\\": \\\"6299\\\"}, \\\"new\\\": 2010.0}, {\\\"attr\\\": \\\"end\\\", \\\"kind\\\": \\\"ModelChanged\\\", \\\"model\\\": {\\\"id\\\": \\\"6299\\\"}, \\\"new\\\": 2014.0}, {\\\"attr\\\": \\\"reset_end\\\", \\\"kind\\\": \\\"ModelChanged\\\", \\\"model\\\": {\\\"id\\\": \\\"6299\\\"}, \\\"new\\\": 2014.0}, {\\\"attr\\\": \\\"start\\\", \\\"kind\\\": \\\"ModelChanged\\\", \\\"model\\\": {\\\"id\\\": \\\"6300\\\"}, \\\"new\\\": 1010.1}, {\\\"attr\\\": \\\"reset_start\\\", \\\"kind\\\": \\\"ModelChanged\\\", \\\"model\\\": {\\\"id\\\": \\\"6300\\\"}, \\\"new\\\": 1010.1}, {\\\"attr\\\": \\\"end\\\", \\\"kind\\\": \\\"ModelChanged\\\", \\\"model\\\": {\\\"id\\\": \\\"6300\\\"}, \\\"new\\\": 3756.9}, {\\\"attr\\\": \\\"reset_end\\\", \\\"kind\\\": \\\"ModelChanged\\\", \\\"model\\\": {\\\"id\\\": \\\"6300\\\"}, \\\"new\\\": 3756.9}, {\\\"attr\\\": \\\"text\\\", \\\"kind\\\": \\\"ModelChanged\\\", \\\"model\\\": {\\\"id\\\": \\\"6303\\\"}, \\\"new\\\": \\\"Neighborhood: Bayview\\\"}, {\\\"cols\\\": null, \\\"column_source\\\": {\\\"id\\\": \\\"6332\\\"}, \\\"kind\\\": \\\"ColumnDataChanged\\\", \\\"new\\\": {\\\"Avg. Gross Rent\\\": [1239, 1530, 2324, 2971, 3528], \\\"Avg_full_stop_Gross_Rent\\\": [1239, 1530, 2324, 2971, 3528], \\\"Year\\\": [2010, 2011, 2012, 2013, 2014]}}], \\\"references\\\": []}\",\"header\":\"{\\\"msgid\\\": \\\"6913\\\", \\\"msgtype\\\": \\\"PATCH-DOC\\\"}\",\"metadata\":\"{}\"},\"Bayview Heights\":{\"content\":\"{\\\"events\\\": [{\\\"attr\\\": \\\"start\\\", \\\"kind\\\": \\\"ModelChanged\\\", \\\"model\\\": {\\\"id\\\": \\\"6299\\\"}, \\\"new\\\": 2014.0}, {\\\"attr\\\": \\\"reset_start\\\", \\\"kind\\\": \\\"ModelChanged\\\", \\\"model\\\": {\\\"id\\\": \\\"6299\\\"}, \\\"new\\\": 2014.0}, {\\\"attr\\\": \\\"start\\\", \\\"kind\\\": \\\"ModelChanged\\\", \\\"model\\\": {\\\"id\\\": \\\"6300\\\"}, \\\"new\\\": 3737.8}, {\\\"attr\\\": \\\"reset_start\\\", \\\"kind\\\": \\\"ModelChanged\\\", \\\"model\\\": {\\\"id\\\": \\\"6300\\\"}, \\\"new\\\": 3737.8}, {\\\"attr\\\": \\\"end\\\", \\\"kind\\\": \\\"ModelChanged\\\", \\\"model\\\": {\\\"id\\\": \\\"6300\\\"}, \\\"new\\\": 3740.2}, {\\\"attr\\\": \\\"reset_end\\\", \\\"kind\\\": \\\"ModelChanged\\\", \\\"model\\\": {\\\"id\\\": \\\"6300\\\"}, \\\"new\\\": 3740.2}, {\\\"attr\\\": \\\"text\\\", \\\"kind\\\": \\\"ModelChanged\\\", \\\"model\\\": {\\\"id\\\": \\\"6303\\\"}, \\\"new\\\": \\\"Neighborhood: Bayview Heights\\\"}, {\\\"cols\\\": null, \\\"column_source\\\": {\\\"id\\\": \\\"6332\\\"}, \\\"kind\\\": \\\"ColumnDataChanged\\\", \\\"new\\\": {\\\"Avg. Gross Rent\\\": [3739], \\\"Avg_full_stop_Gross_Rent\\\": [3739], \\\"Year\\\": [2015]}}], \\\"references\\\": []}\",\"header\":\"{\\\"msgid\\\": \\\"6906\\\", \\\"msgtype\\\": \\\"PATCH-DOC\\\"}\",\"metadata\":\"{}\"},\"Bernal Heights \":{\"content\":\"{\\\"events\\\": [{\\\"attr\\\": \\\"start\\\", \\\"kind\\\": \\\"ModelChanged\\\", \\\"model\\\": {\\\"id\\\": \\\"6299\\\"}, \\\"new\\\": 2011.0}, {\\\"attr\\\": \\\"reset_start\\\", \\\"kind\\\": \\\"ModelChanged\\\", \\\"model\\\": {\\\"id\\\": \\\"6299\\\"}, \\\"new\\\": 2011.0}, {\\\"attr\\\": \\\"start\\\", \\\"kind\\\": \\\"ModelChanged\\\", \\\"model\\\": {\\\"id\\\": \\\"6300\\\"}, \\\"new\\\": 1244.0}, {\\\"attr\\\": \\\"reset_start\\\", \\\"kind\\\": \\\"ModelChanged\\\", \\\"model\\\": {\\\"id\\\": \\\"6300\\\"}, \\\"new\\\": 1244.0}, {\\\"attr\\\": \\\"end\\\", \\\"kind\\\": \\\"ModelChanged\\\", \\\"model\\\": {\\\"id\\\": \\\"6300\\\"}, \\\"new\\\": 4676.0}, {\\\"attr\\\": \\\"reset_end\\\", \\\"kind\\\": \\\"ModelChanged\\\", \\\"model\\\": {\\\"id\\\": \\\"6300\\\"}, \\\"new\\\": 4676.0}, {\\\"attr\\\": \\\"text\\\", \\\"kind\\\": \\\"ModelChanged\\\", \\\"model\\\": {\\\"id\\\": \\\"6303\\\"}, \\\"new\\\": \\\"Neighborhood: Bernal Heights\\\"}, {\\\"cols\\\": null, \\\"column_source\\\": {\\\"id\\\": \\\"6332\\\"}, \\\"kind\\\": \\\"ColumnDataChanged\\\", \\\"new\\\": {\\\"Avg. Gross Rent\\\": [1530, 2324, 2971, 3528, 3739, 4390], \\\"Avg_full_stop_Gross_Rent\\\": [1530, 2324, 2971, 3528, 3739, 4390], \\\"Year\\\": [2011, 2012, 2013, 2014, 2015, 2016]}}], \\\"references\\\": []}\",\"header\":\"{\\\"msgid\\\": \\\"6899\\\", \\\"msgtype\\\": \\\"PATCH-DOC\\\"}\",\"metadata\":\"{}\"},\"Buena Vista Park\":{\"content\":\"{\\\"events\\\": [{\\\"attr\\\": \\\"text\\\", \\\"kind\\\": \\\"ModelChanged\\\", \\\"model\\\": {\\\"id\\\": \\\"6303\\\"}, \\\"new\\\": \\\"Neighborhood: Buena Vista Park\\\"}, {\\\"cols\\\": null, \\\"column_source\\\": {\\\"id\\\": \\\"6332\\\"}, \\\"kind\\\": \\\"ColumnDataChanged\\\", \\\"new\\\": {\\\"Avg. Gross Rent\\\": [1239, 1530, 2324, 2971, 3739, 4390], \\\"Avg_full_stop_Gross_Rent\\\": [1239, 1530, 2324, 2971, 3739, 4390], \\\"Year\\\": [2010, 2011, 2012, 2013, 2015, 2016]}}], \\\"references\\\": []}\",\"header\":\"{\\\"msgid\\\": \\\"6892\\\", \\\"msgtype\\\": \\\"PATCH-DOC\\\"}\",\"metadata\":\"{}\"},\"Central Richmond\":{\"content\":\"{\\\"events\\\": [{\\\"attr\\\": \\\"text\\\", \\\"kind\\\": \\\"ModelChanged\\\", \\\"model\\\": {\\\"id\\\": \\\"6303\\\"}, \\\"new\\\": \\\"Neighborhood: Central Richmond\\\"}, {\\\"cols\\\": null, \\\"column_source\\\": {\\\"id\\\": \\\"6332\\\"}, \\\"kind\\\": \\\"ColumnDataChanged\\\", \\\"new\\\": {\\\"Avg. Gross Rent\\\": [1239, 1530, 2324, 2971, 3528, 3739, 4390], \\\"Avg_full_stop_Gross_Rent\\\": [1239, 1530, 2324, 2971, 3528, 3739, 4390], \\\"Year\\\": [2010, 2011, 2012, 2013, 2014, 2015, 2016]}}], \\\"references\\\": []}\",\"header\":\"{\\\"msgid\\\": \\\"6885\\\", \\\"msgtype\\\": \\\"PATCH-DOC\\\"}\",\"metadata\":\"{}\"},\"Central Sunset\":{\"content\":\"{\\\"events\\\": [{\\\"attr\\\": \\\"start\\\", \\\"kind\\\": \\\"ModelChanged\\\", \\\"model\\\": {\\\"id\\\": \\\"6299\\\"}, \\\"new\\\": 2010.0}, {\\\"attr\\\": \\\"reset_start\\\", \\\"kind\\\": \\\"ModelChanged\\\", \\\"model\\\": {\\\"id\\\": \\\"6299\\\"}, \\\"new\\\": 2010.0}, {\\\"attr\\\": \\\"end\\\", \\\"kind\\\": \\\"ModelChanged\\\", \\\"model\\\": {\\\"id\\\": \\\"6299\\\"}, \\\"new\\\": 2016.0}, {\\\"attr\\\": \\\"reset_end\\\", \\\"kind\\\": \\\"ModelChanged\\\", \\\"model\\\": {\\\"id\\\": \\\"6299\\\"}, \\\"new\\\": 2016.0}, {\\\"attr\\\": \\\"start\\\", \\\"kind\\\": \\\"ModelChanged\\\", \\\"model\\\": {\\\"id\\\": \\\"6300\\\"}, \\\"new\\\": 923.9}, {\\\"attr\\\": \\\"reset_start\\\", \\\"kind\\\": \\\"ModelChanged\\\", \\\"model\\\": {\\\"id\\\": \\\"6300\\\"}, \\\"new\\\": 923.9}, {\\\"attr\\\": \\\"end\\\", \\\"kind\\\": \\\"ModelChanged\\\", \\\"model\\\": {\\\"id\\\": \\\"6300\\\"}, \\\"new\\\": 4705.1}, {\\\"attr\\\": \\\"reset_end\\\", \\\"kind\\\": \\\"ModelChanged\\\", \\\"model\\\": {\\\"id\\\": \\\"6300\\\"}, \\\"new\\\": 4705.1}, {\\\"attr\\\": \\\"text\\\", \\\"kind\\\": \\\"ModelChanged\\\", \\\"model\\\": {\\\"id\\\": \\\"6303\\\"}, \\\"new\\\": \\\"Neighborhood: Central Sunset\\\"}, {\\\"cols\\\": null, \\\"column_source\\\": {\\\"id\\\": \\\"6332\\\"}, \\\"kind\\\": \\\"ColumnDataChanged\\\", \\\"new\\\": {\\\"Avg. Gross Rent\\\": [1239, 1530, 2324, 2971, 3528, 3739, 4390], \\\"Avg_full_stop_Gross_Rent\\\": [1239, 1530, 2324, 2971, 3528, 3739, 4390], \\\"Year\\\": [2010, 2011, 2012, 2013, 2014, 2015, 2016]}}], \\\"references\\\": []}\",\"header\":\"{\\\"msgid\\\": \\\"6878\\\", \\\"msgtype\\\": \\\"PATCH-DOC\\\"}\",\"metadata\":\"{}\"},\"Clarendon Heights\":{\"content\":\"{\\\"events\\\": [{\\\"attr\\\": \\\"start\\\", \\\"kind\\\": \\\"ModelChanged\\\", \\\"model\\\": {\\\"id\\\": \\\"6299\\\"}, \\\"new\\\": 2011.0}, {\\\"attr\\\": \\\"reset_start\\\", \\\"kind\\\": \\\"ModelChanged\\\", \\\"model\\\": {\\\"id\\\": \\\"6299\\\"}, \\\"new\\\": 2011.0}, {\\\"attr\\\": \\\"end\\\", \\\"kind\\\": \\\"ModelChanged\\\", \\\"model\\\": {\\\"id\\\": \\\"6299\\\"}, \\\"new\\\": 2013.0}, {\\\"attr\\\": \\\"reset_end\\\", \\\"kind\\\": \\\"ModelChanged\\\", \\\"model\\\": {\\\"id\\\": \\\"6299\\\"}, \\\"new\\\": 2013.0}, {\\\"attr\\\": \\\"start\\\", \\\"kind\\\": \\\"ModelChanged\\\", \\\"model\\\": {\\\"id\\\": \\\"6300\\\"}, \\\"new\\\": 1385.9}, {\\\"attr\\\": \\\"reset_start\\\", \\\"kind\\\": \\\"ModelChanged\\\", \\\"model\\\": {\\\"id\\\": \\\"6300\\\"}, \\\"new\\\": 1385.9}, {\\\"attr\\\": \\\"end\\\", \\\"kind\\\": \\\"ModelChanged\\\", \\\"model\\\": {\\\"id\\\": \\\"6300\\\"}, \\\"new\\\": 3115.1}, {\\\"attr\\\": \\\"reset_end\\\", \\\"kind\\\": \\\"ModelChanged\\\", \\\"model\\\": {\\\"id\\\": \\\"6300\\\"}, \\\"new\\\": 3115.1}, {\\\"attr\\\": \\\"text\\\", \\\"kind\\\": \\\"ModelChanged\\\", \\\"model\\\": {\\\"id\\\": \\\"6303\\\"}, \\\"new\\\": \\\"Neighborhood: Clarendon Heights\\\"}, {\\\"cols\\\": null, \\\"column_source\\\": {\\\"id\\\": \\\"6332\\\"}, \\\"kind\\\": \\\"ColumnDataChanged\\\", \\\"new\\\": {\\\"Avg. Gross Rent\\\": [1530, 2971], \\\"Avg_full_stop_Gross_Rent\\\": [1530, 2971], \\\"Year\\\": [2011, 2013]}}], \\\"references\\\": []}\",\"header\":\"{\\\"msgid\\\": \\\"6871\\\", \\\"msgtype\\\": \\\"PATCH-DOC\\\"}\",\"metadata\":\"{}\"},\"Corona Heights\":{\"content\":\"{\\\"events\\\": [{\\\"attr\\\": \\\"end\\\", \\\"kind\\\": \\\"ModelChanged\\\", \\\"model\\\": {\\\"id\\\": \\\"6299\\\"}, \\\"new\\\": 2015.0}, {\\\"attr\\\": \\\"reset_end\\\", \\\"kind\\\": \\\"ModelChanged\\\", \\\"model\\\": {\\\"id\\\": \\\"6299\\\"}, \\\"new\\\": 2015.0}, {\\\"attr\\\": \\\"start\\\", \\\"kind\\\": \\\"ModelChanged\\\", \\\"model\\\": {\\\"id\\\": \\\"6300\\\"}, \\\"new\\\": 989.0}, {\\\"attr\\\": \\\"reset_start\\\", \\\"kind\\\": \\\"ModelChanged\\\", \\\"model\\\": {\\\"id\\\": \\\"6300\\\"}, \\\"new\\\": 989.0}, {\\\"attr\\\": \\\"end\\\", \\\"kind\\\": \\\"ModelChanged\\\", \\\"model\\\": {\\\"id\\\": \\\"6300\\\"}, \\\"new\\\": 3989.0}, {\\\"attr\\\": \\\"reset_end\\\", \\\"kind\\\": \\\"ModelChanged\\\", \\\"model\\\": {\\\"id\\\": \\\"6300\\\"}, \\\"new\\\": 3989.0}, {\\\"attr\\\": \\\"text\\\", \\\"kind\\\": \\\"ModelChanged\\\", \\\"model\\\": {\\\"id\\\": \\\"6303\\\"}, \\\"new\\\": \\\"Neighborhood: Corona Heights\\\"}, {\\\"cols\\\": null, \\\"column_source\\\": {\\\"id\\\": \\\"6332\\\"}, \\\"kind\\\": \\\"ColumnDataChanged\\\", \\\"new\\\": {\\\"Avg. Gross Rent\\\": [1239, 1530, 2324, 3528, 3739], \\\"Avg_full_stop_Gross_Rent\\\": [1239, 1530, 2324, 3528, 3739], \\\"Year\\\": [2010, 2011, 2012, 2014, 2015]}}], \\\"references\\\": []}\",\"header\":\"{\\\"msgid\\\": \\\"6864\\\", \\\"msgtype\\\": \\\"PATCH-DOC\\\"}\",\"metadata\":\"{}\"},\"Cow Hollow\":{\"content\":\"{\\\"events\\\": [{\\\"attr\\\": \\\"text\\\", \\\"kind\\\": \\\"ModelChanged\\\", \\\"model\\\": {\\\"id\\\": \\\"6303\\\"}, \\\"new\\\": \\\"Neighborhood: Cow Hollow\\\"}, {\\\"cols\\\": null, \\\"column_source\\\": {\\\"id\\\": \\\"6332\\\"}, \\\"kind\\\": \\\"ColumnDataChanged\\\", \\\"new\\\": {\\\"Avg. Gross Rent\\\": [1239, 1530, 2324, 2971, 3528, 3739, 4390], \\\"Avg_full_stop_Gross_Rent\\\": [1239, 1530, 2324, 2971, 3528, 3739, 4390], \\\"Year\\\": [2010, 2011, 2012, 2013, 2014, 2015, 2016]}}], \\\"references\\\": []}\",\"header\":\"{\\\"msgid\\\": \\\"6857\\\", \\\"msgtype\\\": \\\"PATCH-DOC\\\"}\",\"metadata\":\"{}\"},\"Croker Amazon\":{\"content\":\"{\\\"events\\\": [{\\\"attr\\\": \\\"end\\\", \\\"kind\\\": \\\"ModelChanged\\\", \\\"model\\\": {\\\"id\\\": \\\"6299\\\"}, \\\"new\\\": 2016.0}, {\\\"attr\\\": \\\"reset_end\\\", \\\"kind\\\": \\\"ModelChanged\\\", \\\"model\\\": {\\\"id\\\": \\\"6299\\\"}, \\\"new\\\": 2016.0}, {\\\"attr\\\": \\\"start\\\", \\\"kind\\\": \\\"ModelChanged\\\", \\\"model\\\": {\\\"id\\\": \\\"6300\\\"}, \\\"new\\\": 923.9}, {\\\"attr\\\": \\\"reset_start\\\", \\\"kind\\\": \\\"ModelChanged\\\", \\\"model\\\": {\\\"id\\\": \\\"6300\\\"}, \\\"new\\\": 923.9}, {\\\"attr\\\": \\\"end\\\", \\\"kind\\\": \\\"ModelChanged\\\", \\\"model\\\": {\\\"id\\\": \\\"6300\\\"}, \\\"new\\\": 4705.1}, {\\\"attr\\\": \\\"reset_end\\\", \\\"kind\\\": \\\"ModelChanged\\\", \\\"model\\\": {\\\"id\\\": \\\"6300\\\"}, \\\"new\\\": 4705.1}, {\\\"attr\\\": \\\"text\\\", \\\"kind\\\": \\\"ModelChanged\\\", \\\"model\\\": {\\\"id\\\": \\\"6303\\\"}, \\\"new\\\": \\\"Neighborhood: Croker Amazon\\\"}, {\\\"cols\\\": null, \\\"column_source\\\": {\\\"id\\\": \\\"6332\\\"}, \\\"kind\\\": \\\"ColumnDataChanged\\\", \\\"new\\\": {\\\"Avg. Gross Rent\\\": [1239, 1530, 2324, 2971, 3739, 4390], \\\"Avg_full_stop_Gross_Rent\\\": [1239, 1530, 2324, 2971, 3739, 4390], \\\"Year\\\": [2010, 2011, 2012, 2013, 2015, 2016]}}], \\\"references\\\": []}\",\"header\":\"{\\\"msgid\\\": \\\"6850\\\", \\\"msgtype\\\": \\\"PATCH-DOC\\\"}\",\"metadata\":\"{}\"},\"Diamond Heights\":{\"content\":\"{\\\"events\\\": [{\\\"attr\\\": \\\"end\\\", \\\"kind\\\": \\\"ModelChanged\\\", \\\"model\\\": {\\\"id\\\": \\\"6299\\\"}, \\\"new\\\": 2013.0}, {\\\"attr\\\": \\\"reset_end\\\", \\\"kind\\\": \\\"ModelChanged\\\", \\\"model\\\": {\\\"id\\\": \\\"6299\\\"}, \\\"new\\\": 2013.0}, {\\\"attr\\\": \\\"start\\\", \\\"kind\\\": \\\"ModelChanged\\\", \\\"model\\\": {\\\"id\\\": \\\"6300\\\"}, \\\"new\\\": 1065.8}, {\\\"attr\\\": \\\"reset_start\\\", \\\"kind\\\": \\\"ModelChanged\\\", \\\"model\\\": {\\\"id\\\": \\\"6300\\\"}, \\\"new\\\": 1065.8}, {\\\"attr\\\": \\\"end\\\", \\\"kind\\\": \\\"ModelChanged\\\", \\\"model\\\": {\\\"id\\\": \\\"6300\\\"}, \\\"new\\\": 3144.2}, {\\\"attr\\\": \\\"reset_end\\\", \\\"kind\\\": \\\"ModelChanged\\\", \\\"model\\\": {\\\"id\\\": \\\"6300\\\"}, \\\"new\\\": 3144.2}, {\\\"attr\\\": \\\"text\\\", \\\"kind\\\": \\\"ModelChanged\\\", \\\"model\\\": {\\\"id\\\": \\\"6303\\\"}, \\\"new\\\": \\\"Neighborhood: Diamond Heights\\\"}, {\\\"cols\\\": null, \\\"column_source\\\": {\\\"id\\\": \\\"6332\\\"}, \\\"kind\\\": \\\"ColumnDataChanged\\\", \\\"new\\\": {\\\"Avg. Gross Rent\\\": [1239, 1530, 2324, 2971], \\\"Avg_full_stop_Gross_Rent\\\": [1239, 1530, 2324, 2971], \\\"Year\\\": [2010, 2011, 2012, 2013]}}], \\\"references\\\": []}\",\"header\":\"{\\\"msgid\\\": \\\"6843\\\", \\\"msgtype\\\": \\\"PATCH-DOC\\\"}\",\"metadata\":\"{}\"},\"Downtown \":{\"content\":\"{\\\"events\\\": [{\\\"attr\\\": \\\"start\\\", \\\"kind\\\": \\\"ModelChanged\\\", \\\"model\\\": {\\\"id\\\": \\\"6299\\\"}, \\\"new\\\": 2010.0}, {\\\"attr\\\": \\\"reset_start\\\", \\\"kind\\\": \\\"ModelChanged\\\", \\\"model\\\": {\\\"id\\\": \\\"6299\\\"}, \\\"new\\\": 2010.0}, {\\\"attr\\\": \\\"end\\\", \\\"kind\\\": \\\"ModelChanged\\\", \\\"model\\\": {\\\"id\\\": \\\"6299\\\"}, \\\"new\\\": 2016.0}, {\\\"attr\\\": \\\"reset_end\\\", \\\"kind\\\": \\\"ModelChanged\\\", \\\"model\\\": {\\\"id\\\": \\\"6299\\\"}, \\\"new\\\": 2016.0}, {\\\"attr\\\": \\\"start\\\", \\\"kind\\\": \\\"ModelChanged\\\", \\\"model\\\": {\\\"id\\\": \\\"6300\\\"}, \\\"new\\\": 923.9}, {\\\"attr\\\": \\\"reset_start\\\", \\\"kind\\\": \\\"ModelChanged\\\", \\\"model\\\": {\\\"id\\\": \\\"6300\\\"}, \\\"new\\\": 923.9}, {\\\"attr\\\": \\\"end\\\", \\\"kind\\\": \\\"ModelChanged\\\", \\\"model\\\": {\\\"id\\\": \\\"6300\\\"}, \\\"new\\\": 4705.1}, {\\\"attr\\\": \\\"reset_end\\\", \\\"kind\\\": \\\"ModelChanged\\\", \\\"model\\\": {\\\"id\\\": \\\"6300\\\"}, \\\"new\\\": 4705.1}, {\\\"attr\\\": \\\"text\\\", \\\"kind\\\": \\\"ModelChanged\\\", \\\"model\\\": {\\\"id\\\": \\\"6303\\\"}, \\\"new\\\": \\\"Neighborhood: Downtown\\\"}, {\\\"cols\\\": null, \\\"column_source\\\": {\\\"id\\\": \\\"6332\\\"}, \\\"kind\\\": \\\"ColumnDataChanged\\\", \\\"new\\\": {\\\"Avg. Gross Rent\\\": [1239, 1530, 2324, 2971, 3528, 3739, 4390], \\\"Avg_full_stop_Gross_Rent\\\": [1239, 1530, 2324, 2971, 3528, 3739, 4390], \\\"Year\\\": [2010, 2011, 2012, 2013, 2014, 2015, 2016]}}], \\\"references\\\": []}\",\"header\":\"{\\\"msgid\\\": \\\"6836\\\", \\\"msgtype\\\": \\\"PATCH-DOC\\\"}\",\"metadata\":\"{}\"},\"Duboce Triangle\":{\"content\":\"{\\\"events\\\": [{\\\"attr\\\": \\\"start\\\", \\\"kind\\\": \\\"ModelChanged\\\", \\\"model\\\": {\\\"id\\\": \\\"6299\\\"}, \\\"new\\\": 2011.0}, {\\\"attr\\\": \\\"reset_start\\\", \\\"kind\\\": \\\"ModelChanged\\\", \\\"model\\\": {\\\"id\\\": \\\"6299\\\"}, \\\"new\\\": 2011.0}, {\\\"attr\\\": \\\"end\\\", \\\"kind\\\": \\\"ModelChanged\\\", \\\"model\\\": {\\\"id\\\": \\\"6299\\\"}, \\\"new\\\": 2015.0}, {\\\"attr\\\": \\\"reset_end\\\", \\\"kind\\\": \\\"ModelChanged\\\", \\\"model\\\": {\\\"id\\\": \\\"6299\\\"}, \\\"new\\\": 2015.0}, {\\\"attr\\\": \\\"start\\\", \\\"kind\\\": \\\"ModelChanged\\\", \\\"model\\\": {\\\"id\\\": \\\"6300\\\"}, \\\"new\\\": 1309.1}, {\\\"attr\\\": \\\"reset_start\\\", \\\"kind\\\": \\\"ModelChanged\\\", \\\"model\\\": {\\\"id\\\": \\\"6300\\\"}, \\\"new\\\": 1309.1}, {\\\"attr\\\": \\\"end\\\", \\\"kind\\\": \\\"ModelChanged\\\", \\\"model\\\": {\\\"id\\\": \\\"6300\\\"}, \\\"new\\\": 3959.9}, {\\\"attr\\\": \\\"reset_end\\\", \\\"kind\\\": \\\"ModelChanged\\\", \\\"model\\\": {\\\"id\\\": \\\"6300\\\"}, \\\"new\\\": 3959.9}, {\\\"attr\\\": \\\"text\\\", \\\"kind\\\": \\\"ModelChanged\\\", \\\"model\\\": {\\\"id\\\": \\\"6303\\\"}, \\\"new\\\": \\\"Neighborhood: Duboce Triangle\\\"}, {\\\"cols\\\": null, \\\"column_source\\\": {\\\"id\\\": \\\"6332\\\"}, \\\"kind\\\": \\\"ColumnDataChanged\\\", \\\"new\\\": {\\\"Avg. Gross Rent\\\": [1530, 2324, 3528, 3739], \\\"Avg_full_stop_Gross_Rent\\\": [1530, 2324, 3528, 3739], \\\"Year\\\": [2011, 2012, 2014, 2015]}}], \\\"references\\\": []}\",\"header\":\"{\\\"msgid\\\": \\\"6829\\\", \\\"msgtype\\\": \\\"PATCH-DOC\\\"}\",\"metadata\":\"{}\"},\"Eureka Valley/Dolores Heights\":{\"content\":\"{\\\"events\\\": [{\\\"attr\\\": \\\"text\\\", \\\"kind\\\": \\\"ModelChanged\\\", \\\"model\\\": {\\\"id\\\": \\\"6303\\\"}, \\\"new\\\": \\\"Neighborhood: Eureka Valley/Dolores Heights\\\"}, {\\\"cols\\\": null, \\\"column_source\\\": {\\\"id\\\": \\\"6332\\\"}, \\\"kind\\\": \\\"ColumnDataChanged\\\", \\\"new\\\": {\\\"Avg. Gross Rent\\\": [1239, 1530, 2324, 2971, 3528, 3739, 4390], \\\"Avg_full_stop_Gross_Rent\\\": [1239, 1530, 2324, 2971, 3528, 3739, 4390], \\\"Year\\\": [2010, 2011, 2012, 2013, 2014, 2015, 2016]}}], \\\"references\\\": []}\",\"header\":\"{\\\"msgid\\\": \\\"6822\\\", \\\"msgtype\\\": \\\"PATCH-DOC\\\"}\",\"metadata\":\"{}\"},\"Excelsior\":{\"content\":\"{\\\"events\\\": [{\\\"attr\\\": \\\"text\\\", \\\"kind\\\": \\\"ModelChanged\\\", \\\"model\\\": {\\\"id\\\": \\\"6303\\\"}, \\\"new\\\": \\\"Neighborhood: Excelsior\\\"}, {\\\"cols\\\": null, \\\"column_source\\\": {\\\"id\\\": \\\"6332\\\"}, \\\"kind\\\": \\\"ColumnDataChanged\\\", \\\"new\\\": {\\\"Avg. Gross Rent\\\": [1239, 2324, 2971, 3528, 3739, 4390], \\\"Avg_full_stop_Gross_Rent\\\": [1239, 2324, 2971, 3528, 3739, 4390], \\\"Year\\\": [2010, 2012, 2013, 2014, 2015, 2016]}}], \\\"references\\\": []}\",\"header\":\"{\\\"msgid\\\": \\\"6815\\\", \\\"msgtype\\\": \\\"PATCH-DOC\\\"}\",\"metadata\":\"{}\"},\"Financial District North\":{\"content\":\"{\\\"events\\\": [{\\\"attr\\\": \\\"end\\\", \\\"kind\\\": \\\"ModelChanged\\\", \\\"model\\\": {\\\"id\\\": \\\"6299\\\"}, \\\"new\\\": 2016.0}, {\\\"attr\\\": \\\"reset_end\\\", \\\"kind\\\": \\\"ModelChanged\\\", \\\"model\\\": {\\\"id\\\": \\\"6299\\\"}, \\\"new\\\": 2016.0}, {\\\"attr\\\": \\\"start\\\", \\\"kind\\\": \\\"ModelChanged\\\", \\\"model\\\": {\\\"id\\\": \\\"6300\\\"}, \\\"new\\\": 923.9}, {\\\"attr\\\": \\\"reset_start\\\", \\\"kind\\\": \\\"ModelChanged\\\", \\\"model\\\": {\\\"id\\\": \\\"6300\\\"}, \\\"new\\\": 923.9}, {\\\"attr\\\": \\\"end\\\", \\\"kind\\\": \\\"ModelChanged\\\", \\\"model\\\": {\\\"id\\\": \\\"6300\\\"}, \\\"new\\\": 4705.1}, {\\\"attr\\\": \\\"reset_end\\\", \\\"kind\\\": \\\"ModelChanged\\\", \\\"model\\\": {\\\"id\\\": \\\"6300\\\"}, \\\"new\\\": 4705.1}, {\\\"attr\\\": \\\"text\\\", \\\"kind\\\": \\\"ModelChanged\\\", \\\"model\\\": {\\\"id\\\": \\\"6303\\\"}, \\\"new\\\": \\\"Neighborhood: Financial District North\\\"}, {\\\"cols\\\": null, \\\"column_source\\\": {\\\"id\\\": \\\"6332\\\"}, \\\"kind\\\": \\\"ColumnDataChanged\\\", \\\"new\\\": {\\\"Avg. Gross Rent\\\": [1239, 1530, 2324, 2971, 3528, 3739, 4390], \\\"Avg_full_stop_Gross_Rent\\\": [1239, 1530, 2324, 2971, 3528, 3739, 4390], \\\"Year\\\": [2010, 2011, 2012, 2013, 2014, 2015, 2016]}}], \\\"references\\\": []}\",\"header\":\"{\\\"msgid\\\": \\\"6808\\\", \\\"msgtype\\\": \\\"PATCH-DOC\\\"}\",\"metadata\":\"{}\"},\"Financial District South\":{\"content\":\"{\\\"events\\\": [{\\\"attr\\\": \\\"end\\\", \\\"kind\\\": \\\"ModelChanged\\\", \\\"model\\\": {\\\"id\\\": \\\"6299\\\"}, \\\"new\\\": 2015.0}, {\\\"attr\\\": \\\"reset_end\\\", \\\"kind\\\": \\\"ModelChanged\\\", \\\"model\\\": {\\\"id\\\": \\\"6299\\\"}, \\\"new\\\": 2015.0}, {\\\"attr\\\": \\\"start\\\", \\\"kind\\\": \\\"ModelChanged\\\", \\\"model\\\": {\\\"id\\\": \\\"6300\\\"}, \\\"new\\\": 989.0}, {\\\"attr\\\": \\\"reset_start\\\", \\\"kind\\\": \\\"ModelChanged\\\", \\\"model\\\": {\\\"id\\\": \\\"6300\\\"}, \\\"new\\\": 989.0}, {\\\"attr\\\": \\\"end\\\", \\\"kind\\\": \\\"ModelChanged\\\", \\\"model\\\": {\\\"id\\\": \\\"6300\\\"}, \\\"new\\\": 3989.0}, {\\\"attr\\\": \\\"reset_end\\\", \\\"kind\\\": \\\"ModelChanged\\\", \\\"model\\\": {\\\"id\\\": \\\"6300\\\"}, \\\"new\\\": 3989.0}, {\\\"attr\\\": \\\"text\\\", \\\"kind\\\": \\\"ModelChanged\\\", \\\"model\\\": {\\\"id\\\": \\\"6303\\\"}, \\\"new\\\": \\\"Neighborhood: Financial District South\\\"}, {\\\"cols\\\": null, \\\"column_source\\\": {\\\"id\\\": \\\"6332\\\"}, \\\"kind\\\": \\\"ColumnDataChanged\\\", \\\"new\\\": {\\\"Avg. Gross Rent\\\": [1239, 1530, 2324, 3528, 3739], \\\"Avg_full_stop_Gross_Rent\\\": [1239, 1530, 2324, 3528, 3739], \\\"Year\\\": [2010, 2011, 2012, 2014, 2015]}}], \\\"references\\\": []}\",\"header\":\"{\\\"msgid\\\": \\\"6801\\\", \\\"msgtype\\\": \\\"PATCH-DOC\\\"}\",\"metadata\":\"{}\"},\"Forest Knolls\":{\"content\":\"{\\\"events\\\": [{\\\"attr\\\": \\\"end\\\", \\\"kind\\\": \\\"ModelChanged\\\", \\\"model\\\": {\\\"id\\\": \\\"6299\\\"}, \\\"new\\\": 2012.0}, {\\\"attr\\\": \\\"reset_end\\\", \\\"kind\\\": \\\"ModelChanged\\\", \\\"model\\\": {\\\"id\\\": \\\"6299\\\"}, \\\"new\\\": 2012.0}, {\\\"attr\\\": \\\"start\\\", \\\"kind\\\": \\\"ModelChanged\\\", \\\"model\\\": {\\\"id\\\": \\\"6300\\\"}, \\\"new\\\": 1130.5}, {\\\"attr\\\": \\\"reset_start\\\", \\\"kind\\\": \\\"ModelChanged\\\", \\\"model\\\": {\\\"id\\\": \\\"6300\\\"}, \\\"new\\\": 1130.5}, {\\\"attr\\\": \\\"end\\\", \\\"kind\\\": \\\"ModelChanged\\\", \\\"model\\\": {\\\"id\\\": \\\"6300\\\"}, \\\"new\\\": 2432.5}, {\\\"attr\\\": \\\"reset_end\\\", \\\"kind\\\": \\\"ModelChanged\\\", \\\"model\\\": {\\\"id\\\": \\\"6300\\\"}, \\\"new\\\": 2432.5}, {\\\"attr\\\": \\\"text\\\", \\\"kind\\\": \\\"ModelChanged\\\", \\\"model\\\": {\\\"id\\\": \\\"6303\\\"}, \\\"new\\\": \\\"Neighborhood: Forest Knolls\\\"}, {\\\"cols\\\": null, \\\"column_source\\\": {\\\"id\\\": \\\"6332\\\"}, \\\"kind\\\": \\\"ColumnDataChanged\\\", \\\"new\\\": {\\\"Avg. Gross Rent\\\": [1239, 2324], \\\"Avg_full_stop_Gross_Rent\\\": [1239, 2324], \\\"Year\\\": [2010, 2012]}}], \\\"references\\\": []}\",\"header\":\"{\\\"msgid\\\": \\\"6794\\\", \\\"msgtype\\\": \\\"PATCH-DOC\\\"}\",\"metadata\":\"{}\"},\"Glen Park\":{\"content\":\"{\\\"events\\\": [{\\\"attr\\\": \\\"end\\\", \\\"kind\\\": \\\"ModelChanged\\\", \\\"model\\\": {\\\"id\\\": \\\"6299\\\"}, \\\"new\\\": 2016.0}, {\\\"attr\\\": \\\"reset_end\\\", \\\"kind\\\": \\\"ModelChanged\\\", \\\"model\\\": {\\\"id\\\": \\\"6299\\\"}, \\\"new\\\": 2016.0}, {\\\"attr\\\": \\\"start\\\", \\\"kind\\\": \\\"ModelChanged\\\", \\\"model\\\": {\\\"id\\\": \\\"6300\\\"}, \\\"new\\\": 923.9}, {\\\"attr\\\": \\\"reset_start\\\", \\\"kind\\\": \\\"ModelChanged\\\", \\\"model\\\": {\\\"id\\\": \\\"6300\\\"}, \\\"new\\\": 923.9}, {\\\"attr\\\": \\\"end\\\", \\\"kind\\\": \\\"ModelChanged\\\", \\\"model\\\": {\\\"id\\\": \\\"6300\\\"}, \\\"new\\\": 4705.1}, {\\\"attr\\\": \\\"reset_end\\\", \\\"kind\\\": \\\"ModelChanged\\\", \\\"model\\\": {\\\"id\\\": \\\"6300\\\"}, \\\"new\\\": 4705.1}, {\\\"attr\\\": \\\"text\\\", \\\"kind\\\": \\\"ModelChanged\\\", \\\"model\\\": {\\\"id\\\": \\\"6303\\\"}, \\\"new\\\": \\\"Neighborhood: Glen Park\\\"}, {\\\"cols\\\": null, \\\"column_source\\\": {\\\"id\\\": \\\"6332\\\"}, \\\"kind\\\": \\\"ColumnDataChanged\\\", \\\"new\\\": {\\\"Avg. Gross Rent\\\": [1239, 1530, 2971, 3528, 3739, 4390], \\\"Avg_full_stop_Gross_Rent\\\": [1239, 1530, 2971, 3528, 3739, 4390], \\\"Year\\\": [2010, 2011, 2013, 2014, 2015, 2016]}}], \\\"references\\\": []}\",\"header\":\"{\\\"msgid\\\": \\\"6787\\\", \\\"msgtype\\\": \\\"PATCH-DOC\\\"}\",\"metadata\":\"{}\"},\"Golden Gate Heights\":{\"content\":\"{\\\"events\\\": [{\\\"attr\\\": \\\"end\\\", \\\"kind\\\": \\\"ModelChanged\\\", \\\"model\\\": {\\\"id\\\": \\\"6299\\\"}, \\\"new\\\": 2015.0}, {\\\"attr\\\": \\\"reset_end\\\", \\\"kind\\\": \\\"ModelChanged\\\", \\\"model\\\": {\\\"id\\\": \\\"6299\\\"}, \\\"new\\\": 2015.0}, {\\\"attr\\\": \\\"start\\\", \\\"kind\\\": \\\"ModelChanged\\\", \\\"model\\\": {\\\"id\\\": \\\"6300\\\"}, \\\"new\\\": 989.0}, {\\\"attr\\\": \\\"reset_start\\\", \\\"kind\\\": \\\"ModelChanged\\\", \\\"model\\\": {\\\"id\\\": \\\"6300\\\"}, \\\"new\\\": 989.0}, {\\\"attr\\\": \\\"end\\\", \\\"kind\\\": \\\"ModelChanged\\\", \\\"model\\\": {\\\"id\\\": \\\"6300\\\"}, \\\"new\\\": 3989.0}, {\\\"attr\\\": \\\"reset_end\\\", \\\"kind\\\": \\\"ModelChanged\\\", \\\"model\\\": {\\\"id\\\": \\\"6300\\\"}, \\\"new\\\": 3989.0}, {\\\"attr\\\": \\\"text\\\", \\\"kind\\\": \\\"ModelChanged\\\", \\\"model\\\": {\\\"id\\\": \\\"6303\\\"}, \\\"new\\\": \\\"Neighborhood: Golden Gate Heights\\\"}, {\\\"cols\\\": null, \\\"column_source\\\": {\\\"id\\\": \\\"6332\\\"}, \\\"kind\\\": \\\"ColumnDataChanged\\\", \\\"new\\\": {\\\"Avg. Gross Rent\\\": [1239, 1530, 2971, 3528, 3739], \\\"Avg_full_stop_Gross_Rent\\\": [1239, 1530, 2971, 3528, 3739], \\\"Year\\\": [2010, 2011, 2013, 2014, 2015]}}], \\\"references\\\": []}\",\"header\":\"{\\\"msgid\\\": \\\"6780\\\", \\\"msgtype\\\": \\\"PATCH-DOC\\\"}\",\"metadata\":\"{}\"},\"Haight Ashbury\":{\"content\":\"{\\\"events\\\": [{\\\"attr\\\": \\\"text\\\", \\\"kind\\\": \\\"ModelChanged\\\", \\\"model\\\": {\\\"id\\\": \\\"6303\\\"}, \\\"new\\\": \\\"Neighborhood: Haight Ashbury\\\"}, {\\\"cols\\\": null, \\\"column_source\\\": {\\\"id\\\": \\\"6332\\\"}, \\\"kind\\\": \\\"ColumnDataChanged\\\", \\\"new\\\": {\\\"Avg. Gross Rent\\\": [1239, 1530, 2324, 2971, 3528, 3739, 4390], \\\"Avg_full_stop_Gross_Rent\\\": [1239, 1530, 2324, 2971, 3528, 3739, 4390], \\\"Year\\\": [2010, 2011, 2012, 2013, 2014, 2015, 2016]}}], \\\"references\\\": []}\",\"header\":\"{\\\"msgid\\\": \\\"6773\\\", \\\"msgtype\\\": \\\"PATCH-DOC\\\"}\",\"metadata\":\"{}\"},\"Hayes Valley\":{\"content\":\"{\\\"events\\\": [{\\\"attr\\\": \\\"end\\\", \\\"kind\\\": \\\"ModelChanged\\\", \\\"model\\\": {\\\"id\\\": \\\"6299\\\"}, \\\"new\\\": 2016.0}, {\\\"attr\\\": \\\"reset_end\\\", \\\"kind\\\": \\\"ModelChanged\\\", \\\"model\\\": {\\\"id\\\": \\\"6299\\\"}, \\\"new\\\": 2016.0}, {\\\"attr\\\": \\\"start\\\", \\\"kind\\\": \\\"ModelChanged\\\", \\\"model\\\": {\\\"id\\\": \\\"6300\\\"}, \\\"new\\\": 923.9}, {\\\"attr\\\": \\\"reset_start\\\", \\\"kind\\\": \\\"ModelChanged\\\", \\\"model\\\": {\\\"id\\\": \\\"6300\\\"}, \\\"new\\\": 923.9}, {\\\"attr\\\": \\\"end\\\", \\\"kind\\\": \\\"ModelChanged\\\", \\\"model\\\": {\\\"id\\\": \\\"6300\\\"}, \\\"new\\\": 4705.1}, {\\\"attr\\\": \\\"reset_end\\\", \\\"kind\\\": \\\"ModelChanged\\\", \\\"model\\\": {\\\"id\\\": \\\"6300\\\"}, \\\"new\\\": 4705.1}, {\\\"attr\\\": \\\"text\\\", \\\"kind\\\": \\\"ModelChanged\\\", \\\"model\\\": {\\\"id\\\": \\\"6303\\\"}, \\\"new\\\": \\\"Neighborhood: Hayes Valley\\\"}, {\\\"cols\\\": null, \\\"column_source\\\": {\\\"id\\\": \\\"6332\\\"}, \\\"kind\\\": \\\"ColumnDataChanged\\\", \\\"new\\\": {\\\"Avg. Gross Rent\\\": [1239, 1530, 2324, 2971, 3528, 3739, 4390], \\\"Avg_full_stop_Gross_Rent\\\": [1239, 1530, 2324, 2971, 3528, 3739, 4390], \\\"Year\\\": [2010, 2011, 2012, 2013, 2014, 2015, 2016]}}], \\\"references\\\": []}\",\"header\":\"{\\\"msgid\\\": \\\"6766\\\", \\\"msgtype\\\": \\\"PATCH-DOC\\\"}\",\"metadata\":\"{}\"},\"Hunters Point\":{\"content\":\"{\\\"events\\\": [{\\\"attr\\\": \\\"text\\\", \\\"kind\\\": \\\"ModelChanged\\\", \\\"model\\\": {\\\"id\\\": \\\"6303\\\"}, \\\"new\\\": \\\"Neighborhood: Hunters Point\\\"}, {\\\"cols\\\": null, \\\"column_source\\\": {\\\"id\\\": \\\"6332\\\"}, \\\"kind\\\": \\\"ColumnDataChanged\\\", \\\"new\\\": {\\\"Avg. Gross Rent\\\": [1239, 3739], \\\"Avg_full_stop_Gross_Rent\\\": [1239, 3739], \\\"Year\\\": [2010, 2015]}}], \\\"references\\\": []}\",\"header\":\"{\\\"msgid\\\": \\\"6759\\\", \\\"msgtype\\\": \\\"PATCH-DOC\\\"}\",\"metadata\":\"{}\"},\"Ingleside \":{\"content\":\"{\\\"events\\\": [{\\\"attr\\\": \\\"start\\\", \\\"kind\\\": \\\"ModelChanged\\\", \\\"model\\\": {\\\"id\\\": \\\"6299\\\"}, \\\"new\\\": 2010.0}, {\\\"attr\\\": \\\"reset_start\\\", \\\"kind\\\": \\\"ModelChanged\\\", \\\"model\\\": {\\\"id\\\": \\\"6299\\\"}, \\\"new\\\": 2010.0}, {\\\"attr\\\": \\\"end\\\", \\\"kind\\\": \\\"ModelChanged\\\", \\\"model\\\": {\\\"id\\\": \\\"6299\\\"}, \\\"new\\\": 2015.0}, {\\\"attr\\\": \\\"reset_end\\\", \\\"kind\\\": \\\"ModelChanged\\\", \\\"model\\\": {\\\"id\\\": \\\"6299\\\"}, \\\"new\\\": 2015.0}, {\\\"attr\\\": \\\"start\\\", \\\"kind\\\": \\\"ModelChanged\\\", \\\"model\\\": {\\\"id\\\": \\\"6300\\\"}, \\\"new\\\": 989.0}, {\\\"attr\\\": \\\"reset_start\\\", \\\"kind\\\": \\\"ModelChanged\\\", \\\"model\\\": {\\\"id\\\": \\\"6300\\\"}, \\\"new\\\": 989.0}, {\\\"attr\\\": \\\"end\\\", \\\"kind\\\": \\\"ModelChanged\\\", \\\"model\\\": {\\\"id\\\": \\\"6300\\\"}, \\\"new\\\": 3989.0}, {\\\"attr\\\": \\\"reset_end\\\", \\\"kind\\\": \\\"ModelChanged\\\", \\\"model\\\": {\\\"id\\\": \\\"6300\\\"}, \\\"new\\\": 3989.0}, {\\\"attr\\\": \\\"text\\\", \\\"kind\\\": \\\"ModelChanged\\\", \\\"model\\\": {\\\"id\\\": \\\"6303\\\"}, \\\"new\\\": \\\"Neighborhood: Ingleside\\\"}, {\\\"cols\\\": null, \\\"column_source\\\": {\\\"id\\\": \\\"6332\\\"}, \\\"kind\\\": \\\"ColumnDataChanged\\\", \\\"new\\\": {\\\"Avg. Gross Rent\\\": [1239, 1530, 3528, 3739], \\\"Avg_full_stop_Gross_Rent\\\": [1239, 1530, 3528, 3739], \\\"Year\\\": [2010, 2011, 2014, 2015]}}], \\\"references\\\": []}\",\"header\":\"{\\\"msgid\\\": \\\"6752\\\", \\\"msgtype\\\": \\\"PATCH-DOC\\\"}\",\"metadata\":\"{}\"},\"Ingleside Heights\":{\"content\":\"{\\\"events\\\": [{\\\"attr\\\": \\\"start\\\", \\\"kind\\\": \\\"ModelChanged\\\", \\\"model\\\": {\\\"id\\\": \\\"6299\\\"}, \\\"new\\\": 2011.0}, {\\\"attr\\\": \\\"reset_start\\\", \\\"kind\\\": \\\"ModelChanged\\\", \\\"model\\\": {\\\"id\\\": \\\"6299\\\"}, \\\"new\\\": 2011.0}, {\\\"attr\\\": \\\"start\\\", \\\"kind\\\": \\\"ModelChanged\\\", \\\"model\\\": {\\\"id\\\": \\\"6300\\\"}, \\\"new\\\": 1244.0}, {\\\"attr\\\": \\\"reset_start\\\", \\\"kind\\\": \\\"ModelChanged\\\", \\\"model\\\": {\\\"id\\\": \\\"6300\\\"}, \\\"new\\\": 1244.0}, {\\\"attr\\\": \\\"end\\\", \\\"kind\\\": \\\"ModelChanged\\\", \\\"model\\\": {\\\"id\\\": \\\"6300\\\"}, \\\"new\\\": 4676.0}, {\\\"attr\\\": \\\"reset_end\\\", \\\"kind\\\": \\\"ModelChanged\\\", \\\"model\\\": {\\\"id\\\": \\\"6300\\\"}, \\\"new\\\": 4676.0}, {\\\"attr\\\": \\\"text\\\", \\\"kind\\\": \\\"ModelChanged\\\", \\\"model\\\": {\\\"id\\\": \\\"6303\\\"}, \\\"new\\\": \\\"Neighborhood: Ingleside Heights\\\"}, {\\\"cols\\\": null, \\\"column_source\\\": {\\\"id\\\": \\\"6332\\\"}, \\\"kind\\\": \\\"ColumnDataChanged\\\", \\\"new\\\": {\\\"Avg. Gross Rent\\\": [1530, 4390], \\\"Avg_full_stop_Gross_Rent\\\": [1530, 4390], \\\"Year\\\": [2011, 2016]}}], \\\"references\\\": []}\",\"header\":\"{\\\"msgid\\\": \\\"6745\\\", \\\"msgtype\\\": \\\"PATCH-DOC\\\"}\",\"metadata\":\"{}\"},\"Inner Mission\":{\"content\":\"{\\\"events\\\": [{\\\"attr\\\": \\\"text\\\", \\\"kind\\\": \\\"ModelChanged\\\", \\\"model\\\": {\\\"id\\\": \\\"6303\\\"}, \\\"new\\\": \\\"Neighborhood: Inner Mission\\\"}, {\\\"cols\\\": null, \\\"column_source\\\": {\\\"id\\\": \\\"6332\\\"}, \\\"kind\\\": \\\"ColumnDataChanged\\\", \\\"new\\\": {\\\"Avg. Gross Rent\\\": [1239, 1530, 2324, 2971, 3528, 3739, 4390], \\\"Avg_full_stop_Gross_Rent\\\": [1239, 1530, 2324, 2971, 3528, 3739, 4390], \\\"Year\\\": [2010, 2011, 2012, 2013, 2014, 2015, 2016]}}], \\\"references\\\": []}\",\"header\":\"{\\\"msgid\\\": \\\"6738\\\", \\\"msgtype\\\": \\\"PATCH-DOC\\\"}\",\"metadata\":\"{}\"},\"Inner Parkside\":{\"content\":\"{\\\"events\\\": [{\\\"attr\\\": \\\"text\\\", \\\"kind\\\": \\\"ModelChanged\\\", \\\"model\\\": {\\\"id\\\": \\\"6303\\\"}, \\\"new\\\": \\\"Neighborhood: Inner Parkside\\\"}, {\\\"cols\\\": null, \\\"column_source\\\": {\\\"id\\\": \\\"6332\\\"}, \\\"kind\\\": \\\"ColumnDataChanged\\\", \\\"new\\\": {\\\"Avg. Gross Rent\\\": [1239, 3528, 3739, 4390], \\\"Avg_full_stop_Gross_Rent\\\": [1239, 3528, 3739, 4390], \\\"Year\\\": [2010, 2014, 2015, 2016]}}], \\\"references\\\": []}\",\"header\":\"{\\\"msgid\\\": \\\"6731\\\", \\\"msgtype\\\": \\\"PATCH-DOC\\\"}\",\"metadata\":\"{}\"},\"Inner Richmond\":{\"content\":\"{\\\"events\\\": [{\\\"attr\\\": \\\"text\\\", \\\"kind\\\": \\\"ModelChanged\\\", \\\"model\\\": {\\\"id\\\": \\\"6303\\\"}, \\\"new\\\": \\\"Neighborhood: Inner Richmond\\\"}, {\\\"cols\\\": null, \\\"column_source\\\": {\\\"id\\\": \\\"6332\\\"}, \\\"kind\\\": \\\"ColumnDataChanged\\\", \\\"new\\\": {\\\"Avg. Gross Rent\\\": [1239, 1530, 2324, 2971, 3528, 3739, 4390], \\\"Avg_full_stop_Gross_Rent\\\": [1239, 1530, 2324, 2971, 3528, 3739, 4390], \\\"Year\\\": [2010, 2011, 2012, 2013, 2014, 2015, 2016]}}], \\\"references\\\": []}\",\"header\":\"{\\\"msgid\\\": \\\"6724\\\", \\\"msgtype\\\": \\\"PATCH-DOC\\\"}\",\"metadata\":\"{}\"},\"Inner Sunset\":{\"content\":\"{\\\"events\\\": [{\\\"attr\\\": \\\"text\\\", \\\"kind\\\": \\\"ModelChanged\\\", \\\"model\\\": {\\\"id\\\": \\\"6303\\\"}, \\\"new\\\": \\\"Neighborhood: Inner Sunset\\\"}, {\\\"cols\\\": null, \\\"column_source\\\": {\\\"id\\\": \\\"6332\\\"}, \\\"kind\\\": \\\"ColumnDataChanged\\\", \\\"new\\\": {\\\"Avg. Gross Rent\\\": [1239, 1530, 2324, 2971, 3528, 3739, 4390], \\\"Avg_full_stop_Gross_Rent\\\": [1239, 1530, 2324, 2971, 3528, 3739, 4390], \\\"Year\\\": [2010, 2011, 2012, 2013, 2014, 2015, 2016]}}], \\\"references\\\": []}\",\"header\":\"{\\\"msgid\\\": \\\"6717\\\", \\\"msgtype\\\": \\\"PATCH-DOC\\\"}\",\"metadata\":\"{}\"},\"Jordan Park/Laurel Heights\":{\"content\":\"{\\\"events\\\": [{\\\"attr\\\": \\\"end\\\", \\\"kind\\\": \\\"ModelChanged\\\", \\\"model\\\": {\\\"id\\\": \\\"6299\\\"}, \\\"new\\\": 2016.0}, {\\\"attr\\\": \\\"reset_end\\\", \\\"kind\\\": \\\"ModelChanged\\\", \\\"model\\\": {\\\"id\\\": \\\"6299\\\"}, \\\"new\\\": 2016.0}, {\\\"attr\\\": \\\"start\\\", \\\"kind\\\": \\\"ModelChanged\\\", \\\"model\\\": {\\\"id\\\": \\\"6300\\\"}, \\\"new\\\": 923.9}, {\\\"attr\\\": \\\"reset_start\\\", \\\"kind\\\": \\\"ModelChanged\\\", \\\"model\\\": {\\\"id\\\": \\\"6300\\\"}, \\\"new\\\": 923.9}, {\\\"attr\\\": \\\"end\\\", \\\"kind\\\": \\\"ModelChanged\\\", \\\"model\\\": {\\\"id\\\": \\\"6300\\\"}, \\\"new\\\": 4705.1}, {\\\"attr\\\": \\\"reset_end\\\", \\\"kind\\\": \\\"ModelChanged\\\", \\\"model\\\": {\\\"id\\\": \\\"6300\\\"}, \\\"new\\\": 4705.1}, {\\\"attr\\\": \\\"text\\\", \\\"kind\\\": \\\"ModelChanged\\\", \\\"model\\\": {\\\"id\\\": \\\"6303\\\"}, \\\"new\\\": \\\"Neighborhood: Jordan Park/Laurel Heights\\\"}, {\\\"cols\\\": null, \\\"column_source\\\": {\\\"id\\\": \\\"6332\\\"}, \\\"kind\\\": \\\"ColumnDataChanged\\\", \\\"new\\\": {\\\"Avg. Gross Rent\\\": [1239, 1530, 2324, 2971, 3528, 3739, 4390], \\\"Avg_full_stop_Gross_Rent\\\": [1239, 1530, 2324, 2971, 3528, 3739, 4390], \\\"Year\\\": [2010, 2011, 2012, 2013, 2014, 2015, 2016]}}], \\\"references\\\": []}\",\"header\":\"{\\\"msgid\\\": \\\"6710\\\", \\\"msgtype\\\": \\\"PATCH-DOC\\\"}\",\"metadata\":\"{}\"},\"Lake --The Presidio\":{\"content\":\"{\\\"events\\\": [{\\\"attr\\\": \\\"text\\\", \\\"kind\\\": \\\"ModelChanged\\\", \\\"model\\\": {\\\"id\\\": \\\"6303\\\"}, \\\"new\\\": \\\"Neighborhood: Lake --The Presidio\\\"}, {\\\"cols\\\": null, \\\"column_source\\\": {\\\"id\\\": \\\"6332\\\"}, \\\"kind\\\": \\\"ColumnDataChanged\\\", \\\"new\\\": {\\\"Avg. Gross Rent\\\": [1239, 1530, 2324, 2971, 3528, 3739], \\\"Avg_full_stop_Gross_Rent\\\": [1239, 1530, 2324, 2971, 3528, 3739], \\\"Year\\\": [2010, 2011, 2012, 2013, 2014, 2015]}}], \\\"references\\\": []}\",\"header\":\"{\\\"msgid\\\": \\\"6703\\\", \\\"msgtype\\\": \\\"PATCH-DOC\\\"}\",\"metadata\":\"{}\"},\"Lone Mountain\":{\"content\":\"{\\\"events\\\": [{\\\"attr\\\": \\\"end\\\", \\\"kind\\\": \\\"ModelChanged\\\", \\\"model\\\": {\\\"id\\\": \\\"6299\\\"}, \\\"new\\\": 2015.0}, {\\\"attr\\\": \\\"reset_end\\\", \\\"kind\\\": \\\"ModelChanged\\\", \\\"model\\\": {\\\"id\\\": \\\"6299\\\"}, \\\"new\\\": 2015.0}, {\\\"attr\\\": \\\"start\\\", \\\"kind\\\": \\\"ModelChanged\\\", \\\"model\\\": {\\\"id\\\": \\\"6300\\\"}, \\\"new\\\": 989.0}, {\\\"attr\\\": \\\"reset_start\\\", \\\"kind\\\": \\\"ModelChanged\\\", \\\"model\\\": {\\\"id\\\": \\\"6300\\\"}, \\\"new\\\": 989.0}, {\\\"attr\\\": \\\"end\\\", \\\"kind\\\": \\\"ModelChanged\\\", \\\"model\\\": {\\\"id\\\": \\\"6300\\\"}, \\\"new\\\": 3989.0}, {\\\"attr\\\": \\\"reset_end\\\", \\\"kind\\\": \\\"ModelChanged\\\", \\\"model\\\": {\\\"id\\\": \\\"6300\\\"}, \\\"new\\\": 3989.0}, {\\\"attr\\\": \\\"text\\\", \\\"kind\\\": \\\"ModelChanged\\\", \\\"model\\\": {\\\"id\\\": \\\"6303\\\"}, \\\"new\\\": \\\"Neighborhood: Lone Mountain\\\"}, {\\\"cols\\\": null, \\\"column_source\\\": {\\\"id\\\": \\\"6332\\\"}, \\\"kind\\\": \\\"ColumnDataChanged\\\", \\\"new\\\": {\\\"Avg. Gross Rent\\\": [1239, 1530, 2324, 2971, 3528, 3739], \\\"Avg_full_stop_Gross_Rent\\\": [1239, 1530, 2324, 2971, 3528, 3739], \\\"Year\\\": [2010, 2011, 2012, 2013, 2014, 2015]}}], \\\"references\\\": []}\",\"header\":\"{\\\"msgid\\\": \\\"6696\\\", \\\"msgtype\\\": \\\"PATCH-DOC\\\"}\",\"metadata\":\"{}\"},\"Lower Pacific Heights\":{\"content\":\"{\\\"events\\\": [{\\\"attr\\\": \\\"text\\\", \\\"kind\\\": \\\"ModelChanged\\\", \\\"model\\\": {\\\"id\\\": \\\"6303\\\"}, \\\"new\\\": \\\"Neighborhood: Lower Pacific Heights\\\"}, {\\\"cols\\\": null, \\\"column_source\\\": {\\\"id\\\": \\\"6332\\\"}, \\\"kind\\\": \\\"ColumnDataChanged\\\", \\\"new\\\": {\\\"Avg. Gross Rent\\\": [1239, 1530, 2324, 2971, 3528, 3739, 4390], \\\"Avg_full_stop_Gross_Rent\\\": [1239, 1530, 2324, 2971, 3528, 3739, 4390], \\\"Year\\\": [2010, 2011, 2012, 2013, 2014, 2015, 2016]}}], \\\"references\\\": []}\",\"header\":\"{\\\"msgid\\\": \\\"6689\\\", \\\"msgtype\\\": \\\"PATCH-DOC\\\"}\",\"metadata\":\"{}\"},\"Marina\":{\"content\":\"{\\\"events\\\": [{\\\"attr\\\": \\\"start\\\", \\\"kind\\\": \\\"ModelChanged\\\", \\\"model\\\": {\\\"id\\\": \\\"6299\\\"}, \\\"new\\\": 2010.0}, {\\\"attr\\\": \\\"reset_start\\\", \\\"kind\\\": \\\"ModelChanged\\\", \\\"model\\\": {\\\"id\\\": \\\"6299\\\"}, \\\"new\\\": 2010.0}, {\\\"attr\\\": \\\"start\\\", \\\"kind\\\": \\\"ModelChanged\\\", \\\"model\\\": {\\\"id\\\": \\\"6300\\\"}, \\\"new\\\": 923.9}, {\\\"attr\\\": \\\"reset_start\\\", \\\"kind\\\": \\\"ModelChanged\\\", \\\"model\\\": {\\\"id\\\": \\\"6300\\\"}, \\\"new\\\": 923.9}, {\\\"attr\\\": \\\"end\\\", \\\"kind\\\": \\\"ModelChanged\\\", \\\"model\\\": {\\\"id\\\": \\\"6300\\\"}, \\\"new\\\": 4705.1}, {\\\"attr\\\": \\\"reset_end\\\", \\\"kind\\\": \\\"ModelChanged\\\", \\\"model\\\": {\\\"id\\\": \\\"6300\\\"}, \\\"new\\\": 4705.1}, {\\\"attr\\\": \\\"text\\\", \\\"kind\\\": \\\"ModelChanged\\\", \\\"model\\\": {\\\"id\\\": \\\"6303\\\"}, \\\"new\\\": \\\"Neighborhood: Marina\\\"}, {\\\"cols\\\": null, \\\"column_source\\\": {\\\"id\\\": \\\"6332\\\"}, \\\"kind\\\": \\\"ColumnDataChanged\\\", \\\"new\\\": {\\\"Avg. Gross Rent\\\": [1239, 1530, 2324, 2971, 3528, 3739, 4390], \\\"Avg_full_stop_Gross_Rent\\\": [1239, 1530, 2324, 2971, 3528, 3739, 4390], \\\"Year\\\": [2010, 2011, 2012, 2013, 2014, 2015, 2016]}}], \\\"references\\\": []}\",\"header\":\"{\\\"msgid\\\": \\\"6682\\\", \\\"msgtype\\\": \\\"PATCH-DOC\\\"}\",\"metadata\":\"{}\"},\"Merced Heights\":{\"content\":\"{\\\"events\\\": [{\\\"attr\\\": \\\"end\\\", \\\"kind\\\": \\\"ModelChanged\\\", \\\"model\\\": {\\\"id\\\": \\\"6299\\\"}, \\\"new\\\": 2016.0}, {\\\"attr\\\": \\\"reset_end\\\", \\\"kind\\\": \\\"ModelChanged\\\", \\\"model\\\": {\\\"id\\\": \\\"6299\\\"}, \\\"new\\\": 2016.0}, {\\\"attr\\\": \\\"start\\\", \\\"kind\\\": \\\"ModelChanged\\\", \\\"model\\\": {\\\"id\\\": \\\"6300\\\"}, \\\"new\\\": 2117.4}, {\\\"attr\\\": \\\"reset_start\\\", \\\"kind\\\": \\\"ModelChanged\\\", \\\"model\\\": {\\\"id\\\": \\\"6300\\\"}, \\\"new\\\": 2117.4}, {\\\"attr\\\": \\\"end\\\", \\\"kind\\\": \\\"ModelChanged\\\", \\\"model\\\": {\\\"id\\\": \\\"6300\\\"}, \\\"new\\\": 4596.6}, {\\\"attr\\\": \\\"reset_end\\\", \\\"kind\\\": \\\"ModelChanged\\\", \\\"model\\\": {\\\"id\\\": \\\"6300\\\"}, \\\"new\\\": 4596.6}, {\\\"attr\\\": \\\"text\\\", \\\"kind\\\": \\\"ModelChanged\\\", \\\"model\\\": {\\\"id\\\": \\\"6303\\\"}, \\\"new\\\": \\\"Neighborhood: Merced Heights\\\"}, {\\\"cols\\\": null, \\\"column_source\\\": {\\\"id\\\": \\\"6332\\\"}, \\\"kind\\\": \\\"ColumnDataChanged\\\", \\\"new\\\": {\\\"Avg. Gross Rent\\\": [2324, 3528, 4390], \\\"Avg_full_stop_Gross_Rent\\\": [2324, 3528, 4390], \\\"Year\\\": [2012, 2014, 2016]}}], \\\"references\\\": []}\",\"header\":\"{\\\"msgid\\\": \\\"6675\\\", \\\"msgtype\\\": \\\"PATCH-DOC\\\"}\",\"metadata\":\"{}\"},\"Midtown Terrace\":{\"content\":\"{\\\"events\\\": [{\\\"attr\\\": \\\"start\\\", \\\"kind\\\": \\\"ModelChanged\\\", \\\"model\\\": {\\\"id\\\": \\\"6299\\\"}, \\\"new\\\": 2012.0}, {\\\"attr\\\": \\\"reset_start\\\", \\\"kind\\\": \\\"ModelChanged\\\", \\\"model\\\": {\\\"id\\\": \\\"6299\\\"}, \\\"new\\\": 2012.0}, {\\\"attr\\\": \\\"end\\\", \\\"kind\\\": \\\"ModelChanged\\\", \\\"model\\\": {\\\"id\\\": \\\"6299\\\"}, \\\"new\\\": 2013.0}, {\\\"attr\\\": \\\"reset_end\\\", \\\"kind\\\": \\\"ModelChanged\\\", \\\"model\\\": {\\\"id\\\": \\\"6299\\\"}, \\\"new\\\": 2013.0}, {\\\"attr\\\": \\\"start\\\", \\\"kind\\\": \\\"ModelChanged\\\", \\\"model\\\": {\\\"id\\\": \\\"6300\\\"}, \\\"new\\\": 2259.3}, {\\\"attr\\\": \\\"reset_start\\\", \\\"kind\\\": \\\"ModelChanged\\\", \\\"model\\\": {\\\"id\\\": \\\"6300\\\"}, \\\"new\\\": 2259.3}, {\\\"attr\\\": \\\"end\\\", \\\"kind\\\": \\\"ModelChanged\\\", \\\"model\\\": {\\\"id\\\": \\\"6300\\\"}, \\\"new\\\": 3035.7}, {\\\"attr\\\": \\\"reset_end\\\", \\\"kind\\\": \\\"ModelChanged\\\", \\\"model\\\": {\\\"id\\\": \\\"6300\\\"}, \\\"new\\\": 3035.7}, {\\\"attr\\\": \\\"text\\\", \\\"kind\\\": \\\"ModelChanged\\\", \\\"model\\\": {\\\"id\\\": \\\"6303\\\"}, \\\"new\\\": \\\"Neighborhood: Midtown Terrace\\\"}, {\\\"cols\\\": null, \\\"column_source\\\": {\\\"id\\\": \\\"6332\\\"}, \\\"kind\\\": \\\"ColumnDataChanged\\\", \\\"new\\\": {\\\"Avg. Gross Rent\\\": [2324, 2971], \\\"Avg_full_stop_Gross_Rent\\\": [2324, 2971], \\\"Year\\\": [2012, 2013]}}], \\\"references\\\": []}\",\"header\":\"{\\\"msgid\\\": \\\"6668\\\", \\\"msgtype\\\": \\\"PATCH-DOC\\\"}\",\"metadata\":\"{}\"},\"Miraloma Park\":{\"content\":\"{\\\"events\\\": [{\\\"attr\\\": \\\"end\\\", \\\"kind\\\": \\\"ModelChanged\\\", \\\"model\\\": {\\\"id\\\": \\\"6299\\\"}, \\\"new\\\": 2014.0}, {\\\"attr\\\": \\\"reset_end\\\", \\\"kind\\\": \\\"ModelChanged\\\", \\\"model\\\": {\\\"id\\\": \\\"6299\\\"}, \\\"new\\\": 2014.0}, {\\\"attr\\\": \\\"start\\\", \\\"kind\\\": \\\"ModelChanged\\\", \\\"model\\\": {\\\"id\\\": \\\"6300\\\"}, \\\"new\\\": 1010.1}, {\\\"attr\\\": \\\"reset_start\\\", \\\"kind\\\": \\\"ModelChanged\\\", \\\"model\\\": {\\\"id\\\": \\\"6300\\\"}, \\\"new\\\": 1010.1}, {\\\"attr\\\": \\\"end\\\", \\\"kind\\\": \\\"ModelChanged\\\", \\\"model\\\": {\\\"id\\\": \\\"6300\\\"}, \\\"new\\\": 3756.9}, {\\\"attr\\\": \\\"reset_end\\\", \\\"kind\\\": \\\"ModelChanged\\\", \\\"model\\\": {\\\"id\\\": \\\"6300\\\"}, \\\"new\\\": 3756.9}, {\\\"attr\\\": \\\"text\\\", \\\"kind\\\": \\\"ModelChanged\\\", \\\"model\\\": {\\\"id\\\": \\\"6303\\\"}, \\\"new\\\": \\\"Neighborhood: Miraloma Park\\\"}, {\\\"cols\\\": null, \\\"column_source\\\": {\\\"id\\\": \\\"6332\\\"}, \\\"kind\\\": \\\"ColumnDataChanged\\\", \\\"new\\\": {\\\"Avg. Gross Rent\\\": [1239, 1530, 2324, 3528], \\\"Avg_full_stop_Gross_Rent\\\": [1239, 1530, 2324, 3528], \\\"Year\\\": [2010, 2011, 2012, 2014]}}], \\\"references\\\": []}\",\"header\":\"{\\\"msgid\\\": \\\"6661\\\", \\\"msgtype\\\": \\\"PATCH-DOC\\\"}\",\"metadata\":\"{}\"},\"Mission Bay\":{\"content\":\"{\\\"events\\\": [{\\\"attr\\\": \\\"end\\\", \\\"kind\\\": \\\"ModelChanged\\\", \\\"model\\\": {\\\"id\\\": \\\"6299\\\"}, \\\"new\\\": 2016.0}, {\\\"attr\\\": \\\"reset_end\\\", \\\"kind\\\": \\\"ModelChanged\\\", \\\"model\\\": {\\\"id\\\": \\\"6299\\\"}, \\\"new\\\": 2016.0}, {\\\"attr\\\": \\\"start\\\", \\\"kind\\\": \\\"ModelChanged\\\", \\\"model\\\": {\\\"id\\\": \\\"6300\\\"}, \\\"new\\\": 923.9}, {\\\"attr\\\": \\\"reset_start\\\", \\\"kind\\\": \\\"ModelChanged\\\", \\\"model\\\": {\\\"id\\\": \\\"6300\\\"}, \\\"new\\\": 923.9}, {\\\"attr\\\": \\\"end\\\", \\\"kind\\\": \\\"ModelChanged\\\", \\\"model\\\": {\\\"id\\\": \\\"6300\\\"}, \\\"new\\\": 4705.1}, {\\\"attr\\\": \\\"reset_end\\\", \\\"kind\\\": \\\"ModelChanged\\\", \\\"model\\\": {\\\"id\\\": \\\"6300\\\"}, \\\"new\\\": 4705.1}, {\\\"attr\\\": \\\"text\\\", \\\"kind\\\": \\\"ModelChanged\\\", \\\"model\\\": {\\\"id\\\": \\\"6303\\\"}, \\\"new\\\": \\\"Neighborhood: Mission Bay\\\"}, {\\\"cols\\\": null, \\\"column_source\\\": {\\\"id\\\": \\\"6332\\\"}, \\\"kind\\\": \\\"ColumnDataChanged\\\", \\\"new\\\": {\\\"Avg. Gross Rent\\\": [1239, 1530, 2324, 2971, 3528, 4390], \\\"Avg_full_stop_Gross_Rent\\\": [1239, 1530, 2324, 2971, 3528, 4390], \\\"Year\\\": [2010, 2011, 2012, 2013, 2014, 2016]}}], \\\"references\\\": []}\",\"header\":\"{\\\"msgid\\\": \\\"6654\\\", \\\"msgtype\\\": \\\"PATCH-DOC\\\"}\",\"metadata\":\"{}\"},\"Mission Dolores\":{\"content\":\"{\\\"events\\\": [{\\\"attr\\\": \\\"end\\\", \\\"kind\\\": \\\"ModelChanged\\\", \\\"model\\\": {\\\"id\\\": \\\"6299\\\"}, \\\"new\\\": 2015.0}, {\\\"attr\\\": \\\"reset_end\\\", \\\"kind\\\": \\\"ModelChanged\\\", \\\"model\\\": {\\\"id\\\": \\\"6299\\\"}, \\\"new\\\": 2015.0}, {\\\"attr\\\": \\\"start\\\", \\\"kind\\\": \\\"ModelChanged\\\", \\\"model\\\": {\\\"id\\\": \\\"6300\\\"}, \\\"new\\\": 989.0}, {\\\"attr\\\": \\\"reset_start\\\", \\\"kind\\\": \\\"ModelChanged\\\", \\\"model\\\": {\\\"id\\\": \\\"6300\\\"}, \\\"new\\\": 989.0}, {\\\"attr\\\": \\\"end\\\", \\\"kind\\\": \\\"ModelChanged\\\", \\\"model\\\": {\\\"id\\\": \\\"6300\\\"}, \\\"new\\\": 3989.0}, {\\\"attr\\\": \\\"reset_end\\\", \\\"kind\\\": \\\"ModelChanged\\\", \\\"model\\\": {\\\"id\\\": \\\"6300\\\"}, \\\"new\\\": 3989.0}, {\\\"attr\\\": \\\"text\\\", \\\"kind\\\": \\\"ModelChanged\\\", \\\"model\\\": {\\\"id\\\": \\\"6303\\\"}, \\\"new\\\": \\\"Neighborhood: Mission Dolores\\\"}, {\\\"cols\\\": null, \\\"column_source\\\": {\\\"id\\\": \\\"6332\\\"}, \\\"kind\\\": \\\"ColumnDataChanged\\\", \\\"new\\\": {\\\"Avg. Gross Rent\\\": [1239, 1530, 2324, 2971, 3528, 3739], \\\"Avg_full_stop_Gross_Rent\\\": [1239, 1530, 2324, 2971, 3528, 3739], \\\"Year\\\": [2010, 2011, 2012, 2013, 2014, 2015]}}], \\\"references\\\": []}\",\"header\":\"{\\\"msgid\\\": \\\"6647\\\", \\\"msgtype\\\": \\\"PATCH-DOC\\\"}\",\"metadata\":\"{}\"},\"Mission Terrace\":{\"content\":\"{\\\"events\\\": [{\\\"attr\\\": \\\"text\\\", \\\"kind\\\": \\\"ModelChanged\\\", \\\"model\\\": {\\\"id\\\": \\\"6303\\\"}, \\\"new\\\": \\\"Neighborhood: Mission Terrace\\\"}, {\\\"cols\\\": null, \\\"column_source\\\": {\\\"id\\\": \\\"6332\\\"}, \\\"kind\\\": \\\"ColumnDataChanged\\\", \\\"new\\\": {\\\"Avg. Gross Rent\\\": [1239, 2971, 3528, 3739, 4390], \\\"Avg_full_stop_Gross_Rent\\\": [1239, 2971, 3528, 3739, 4390], \\\"Year\\\": [2010, 2013, 2014, 2015, 2016]}}], \\\"references\\\": []}\",\"header\":\"{\\\"msgid\\\": \\\"6640\\\", \\\"msgtype\\\": \\\"PATCH-DOC\\\"}\",\"metadata\":\"{}\"},\"Nob Hill\":{\"content\":\"{\\\"events\\\": [{\\\"attr\\\": \\\"text\\\", \\\"kind\\\": \\\"ModelChanged\\\", \\\"model\\\": {\\\"id\\\": \\\"6303\\\"}, \\\"new\\\": \\\"Neighborhood: Nob Hill\\\"}, {\\\"cols\\\": null, \\\"column_source\\\": {\\\"id\\\": \\\"6332\\\"}, \\\"kind\\\": \\\"ColumnDataChanged\\\", \\\"new\\\": {\\\"Avg. Gross Rent\\\": [1239, 1530, 2324, 2971, 3528, 3739, 4390], \\\"Avg_full_stop_Gross_Rent\\\": [1239, 1530, 2324, 2971, 3528, 3739, 4390], \\\"Year\\\": [2010, 2011, 2012, 2013, 2014, 2015, 2016]}}], \\\"references\\\": []}\",\"header\":\"{\\\"msgid\\\": \\\"6633\\\", \\\"msgtype\\\": \\\"PATCH-DOC\\\"}\",\"metadata\":\"{}\"},\"Noe Valley\":{\"content\":\"{\\\"events\\\": [{\\\"attr\\\": \\\"start\\\", \\\"kind\\\": \\\"ModelChanged\\\", \\\"model\\\": {\\\"id\\\": \\\"6299\\\"}, \\\"new\\\": 2010.0}, {\\\"attr\\\": \\\"reset_start\\\", \\\"kind\\\": \\\"ModelChanged\\\", \\\"model\\\": {\\\"id\\\": \\\"6299\\\"}, \\\"new\\\": 2010.0}, {\\\"attr\\\": \\\"start\\\", \\\"kind\\\": \\\"ModelChanged\\\", \\\"model\\\": {\\\"id\\\": \\\"6300\\\"}, \\\"new\\\": 923.9}, {\\\"attr\\\": \\\"reset_start\\\", \\\"kind\\\": \\\"ModelChanged\\\", \\\"model\\\": {\\\"id\\\": \\\"6300\\\"}, \\\"new\\\": 923.9}, {\\\"attr\\\": \\\"end\\\", \\\"kind\\\": \\\"ModelChanged\\\", \\\"model\\\": {\\\"id\\\": \\\"6300\\\"}, \\\"new\\\": 4705.1}, {\\\"attr\\\": \\\"reset_end\\\", \\\"kind\\\": \\\"ModelChanged\\\", \\\"model\\\": {\\\"id\\\": \\\"6300\\\"}, \\\"new\\\": 4705.1}, {\\\"attr\\\": \\\"text\\\", \\\"kind\\\": \\\"ModelChanged\\\", \\\"model\\\": {\\\"id\\\": \\\"6303\\\"}, \\\"new\\\": \\\"Neighborhood: Noe Valley\\\"}, {\\\"cols\\\": null, \\\"column_source\\\": {\\\"id\\\": \\\"6332\\\"}, \\\"kind\\\": \\\"ColumnDataChanged\\\", \\\"new\\\": {\\\"Avg. Gross Rent\\\": [1239, 1530, 2324, 2971, 3528, 3739, 4390], \\\"Avg_full_stop_Gross_Rent\\\": [1239, 1530, 2324, 2971, 3528, 3739, 4390], \\\"Year\\\": [2010, 2011, 2012, 2013, 2014, 2015, 2016]}}], \\\"references\\\": []}\",\"header\":\"{\\\"msgid\\\": \\\"6626\\\", \\\"msgtype\\\": \\\"PATCH-DOC\\\"}\",\"metadata\":\"{}\"},\"North Beach\":{\"content\":\"{\\\"events\\\": [{\\\"attr\\\": \\\"end\\\", \\\"kind\\\": \\\"ModelChanged\\\", \\\"model\\\": {\\\"id\\\": \\\"6299\\\"}, \\\"new\\\": 2016.0}, {\\\"attr\\\": \\\"reset_end\\\", \\\"kind\\\": \\\"ModelChanged\\\", \\\"model\\\": {\\\"id\\\": \\\"6299\\\"}, \\\"new\\\": 2016.0}, {\\\"attr\\\": \\\"start\\\", \\\"kind\\\": \\\"ModelChanged\\\", \\\"model\\\": {\\\"id\\\": \\\"6300\\\"}, \\\"new\\\": 1244.0}, {\\\"attr\\\": \\\"reset_start\\\", \\\"kind\\\": \\\"ModelChanged\\\", \\\"model\\\": {\\\"id\\\": \\\"6300\\\"}, \\\"new\\\": 1244.0}, {\\\"attr\\\": \\\"end\\\", \\\"kind\\\": \\\"ModelChanged\\\", \\\"model\\\": {\\\"id\\\": \\\"6300\\\"}, \\\"new\\\": 4676.0}, {\\\"attr\\\": \\\"reset_end\\\", \\\"kind\\\": \\\"ModelChanged\\\", \\\"model\\\": {\\\"id\\\": \\\"6300\\\"}, \\\"new\\\": 4676.0}, {\\\"attr\\\": \\\"text\\\", \\\"kind\\\": \\\"ModelChanged\\\", \\\"model\\\": {\\\"id\\\": \\\"6303\\\"}, \\\"new\\\": \\\"Neighborhood: North Beach\\\"}, {\\\"cols\\\": null, \\\"column_source\\\": {\\\"id\\\": \\\"6332\\\"}, \\\"kind\\\": \\\"ColumnDataChanged\\\", \\\"new\\\": {\\\"Avg. Gross Rent\\\": [1530, 2324, 2971, 3739, 4390], \\\"Avg_full_stop_Gross_Rent\\\": [1530, 2324, 2971, 3739, 4390], \\\"Year\\\": [2011, 2012, 2013, 2015, 2016]}}], \\\"references\\\": []}\",\"header\":\"{\\\"msgid\\\": \\\"6619\\\", \\\"msgtype\\\": \\\"PATCH-DOC\\\"}\",\"metadata\":\"{}\"},\"North Waterfront\":{\"content\":\"{\\\"events\\\": [{\\\"attr\\\": \\\"start\\\", \\\"kind\\\": \\\"ModelChanged\\\", \\\"model\\\": {\\\"id\\\": \\\"6299\\\"}, \\\"new\\\": 2011.0}, {\\\"attr\\\": \\\"reset_start\\\", \\\"kind\\\": \\\"ModelChanged\\\", \\\"model\\\": {\\\"id\\\": \\\"6299\\\"}, \\\"new\\\": 2011.0}, {\\\"attr\\\": \\\"start\\\", \\\"kind\\\": \\\"ModelChanged\\\", \\\"model\\\": {\\\"id\\\": \\\"6300\\\"}, \\\"new\\\": 1309.1}, {\\\"attr\\\": \\\"reset_start\\\", \\\"kind\\\": \\\"ModelChanged\\\", \\\"model\\\": {\\\"id\\\": \\\"6300\\\"}, \\\"new\\\": 1309.1}, {\\\"attr\\\": \\\"end\\\", \\\"kind\\\": \\\"ModelChanged\\\", \\\"model\\\": {\\\"id\\\": \\\"6300\\\"}, \\\"new\\\": 3959.9}, {\\\"attr\\\": \\\"reset_end\\\", \\\"kind\\\": \\\"ModelChanged\\\", \\\"model\\\": {\\\"id\\\": \\\"6300\\\"}, \\\"new\\\": 3959.9}, {\\\"attr\\\": \\\"text\\\", \\\"kind\\\": \\\"ModelChanged\\\", \\\"model\\\": {\\\"id\\\": \\\"6303\\\"}, \\\"new\\\": \\\"Neighborhood: North Waterfront\\\"}, {\\\"cols\\\": null, \\\"column_source\\\": {\\\"id\\\": \\\"6332\\\"}, \\\"kind\\\": \\\"ColumnDataChanged\\\", \\\"new\\\": {\\\"Avg. Gross Rent\\\": [1530, 2324, 2971, 3528, 3739], \\\"Avg_full_stop_Gross_Rent\\\": [1530, 2324, 2971, 3528, 3739], \\\"Year\\\": [2011, 2012, 2013, 2014, 2015]}}], \\\"references\\\": []}\",\"header\":\"{\\\"msgid\\\": \\\"6612\\\", \\\"msgtype\\\": \\\"PATCH-DOC\\\"}\",\"metadata\":\"{}\"},\"Oceanview\":{\"content\":\"{\\\"events\\\": [{\\\"attr\\\": \\\"start\\\", \\\"kind\\\": \\\"ModelChanged\\\", \\\"model\\\": {\\\"id\\\": \\\"6299\\\"}, \\\"new\\\": 2010.0}, {\\\"attr\\\": \\\"reset_start\\\", \\\"kind\\\": \\\"ModelChanged\\\", \\\"model\\\": {\\\"id\\\": \\\"6299\\\"}, \\\"new\\\": 2010.0}, {\\\"attr\\\": \\\"end\\\", \\\"kind\\\": \\\"ModelChanged\\\", \\\"model\\\": {\\\"id\\\": \\\"6299\\\"}, \\\"new\\\": 2015.0}, {\\\"attr\\\": \\\"reset_end\\\", \\\"kind\\\": \\\"ModelChanged\\\", \\\"model\\\": {\\\"id\\\": \\\"6299\\\"}, \\\"new\\\": 2015.0}, {\\\"attr\\\": \\\"start\\\", \\\"kind\\\": \\\"ModelChanged\\\", \\\"model\\\": {\\\"id\\\": \\\"6300\\\"}, \\\"new\\\": 989.0}, {\\\"attr\\\": \\\"reset_start\\\", \\\"kind\\\": \\\"ModelChanged\\\", \\\"model\\\": {\\\"id\\\": \\\"6300\\\"}, \\\"new\\\": 989.0}, {\\\"attr\\\": \\\"end\\\", \\\"kind\\\": \\\"ModelChanged\\\", \\\"model\\\": {\\\"id\\\": \\\"6300\\\"}, \\\"new\\\": 3989.0}, {\\\"attr\\\": \\\"reset_end\\\", \\\"kind\\\": \\\"ModelChanged\\\", \\\"model\\\": {\\\"id\\\": \\\"6300\\\"}, \\\"new\\\": 3989.0}, {\\\"attr\\\": \\\"text\\\", \\\"kind\\\": \\\"ModelChanged\\\", \\\"model\\\": {\\\"id\\\": \\\"6303\\\"}, \\\"new\\\": \\\"Neighborhood: Oceanview\\\"}, {\\\"cols\\\": null, \\\"column_source\\\": {\\\"id\\\": \\\"6332\\\"}, \\\"kind\\\": \\\"ColumnDataChanged\\\", \\\"new\\\": {\\\"Avg. Gross Rent\\\": [1239, 2324, 3739], \\\"Avg_full_stop_Gross_Rent\\\": [1239, 2324, 3739], \\\"Year\\\": [2010, 2012, 2015]}}], \\\"references\\\": []}\",\"header\":\"{\\\"msgid\\\": \\\"6605\\\", \\\"msgtype\\\": \\\"PATCH-DOC\\\"}\",\"metadata\":\"{}\"},\"Outer Mission\":{\"content\":\"{\\\"events\\\": [{\\\"attr\\\": \\\"start\\\", \\\"kind\\\": \\\"ModelChanged\\\", \\\"model\\\": {\\\"id\\\": \\\"6299\\\"}, \\\"new\\\": 2011.0}, {\\\"attr\\\": \\\"reset_start\\\", \\\"kind\\\": \\\"ModelChanged\\\", \\\"model\\\": {\\\"id\\\": \\\"6299\\\"}, \\\"new\\\": 2011.0}, {\\\"attr\\\": \\\"start\\\", \\\"kind\\\": \\\"ModelChanged\\\", \\\"model\\\": {\\\"id\\\": \\\"6300\\\"}, \\\"new\\\": 1244.0}, {\\\"attr\\\": \\\"reset_start\\\", \\\"kind\\\": \\\"ModelChanged\\\", \\\"model\\\": {\\\"id\\\": \\\"6300\\\"}, \\\"new\\\": 1244.0}, {\\\"attr\\\": \\\"end\\\", \\\"kind\\\": \\\"ModelChanged\\\", \\\"model\\\": {\\\"id\\\": \\\"6300\\\"}, \\\"new\\\": 4676.0}, {\\\"attr\\\": \\\"reset_end\\\", \\\"kind\\\": \\\"ModelChanged\\\", \\\"model\\\": {\\\"id\\\": \\\"6300\\\"}, \\\"new\\\": 4676.0}, {\\\"attr\\\": \\\"text\\\", \\\"kind\\\": \\\"ModelChanged\\\", \\\"model\\\": {\\\"id\\\": \\\"6303\\\"}, \\\"new\\\": \\\"Neighborhood: Outer Mission\\\"}, {\\\"cols\\\": null, \\\"column_source\\\": {\\\"id\\\": \\\"6332\\\"}, \\\"kind\\\": \\\"ColumnDataChanged\\\", \\\"new\\\": {\\\"Avg. Gross Rent\\\": [1530, 2324, 3739, 4390], \\\"Avg_full_stop_Gross_Rent\\\": [1530, 2324, 3739, 4390], \\\"Year\\\": [2011, 2012, 2015, 2016]}}], \\\"references\\\": []}\",\"header\":\"{\\\"msgid\\\": \\\"6598\\\", \\\"msgtype\\\": \\\"PATCH-DOC\\\"}\",\"metadata\":\"{}\"},\"Outer Parkside\":{\"content\":\"{\\\"events\\\": [{\\\"attr\\\": \\\"text\\\", \\\"kind\\\": \\\"ModelChanged\\\", \\\"model\\\": {\\\"id\\\": \\\"6303\\\"}, \\\"new\\\": \\\"Neighborhood: Outer Parkside\\\"}, {\\\"cols\\\": null, \\\"column_source\\\": {\\\"id\\\": \\\"6332\\\"}, \\\"kind\\\": \\\"ColumnDataChanged\\\", \\\"new\\\": {\\\"Avg. Gross Rent\\\": [1239, 1530, 2324, 2971, 3528, 3739, 4390], \\\"Avg_full_stop_Gross_Rent\\\": [1239, 1530, 2324, 2971, 3528, 3739, 4390], \\\"Year\\\": [2010, 2011, 2012, 2013, 2014, 2015, 2016]}}], \\\"references\\\": []}\",\"header\":\"{\\\"msgid\\\": \\\"6591\\\", \\\"msgtype\\\": \\\"PATCH-DOC\\\"}\",\"metadata\":\"{}\"},\"Outer Richmond \":{\"content\":\"{\\\"events\\\": [{\\\"attr\\\": \\\"text\\\", \\\"kind\\\": \\\"ModelChanged\\\", \\\"model\\\": {\\\"id\\\": \\\"6303\\\"}, \\\"new\\\": \\\"Neighborhood: Outer Richmond\\\"}, {\\\"cols\\\": null, \\\"column_source\\\": {\\\"id\\\": \\\"6332\\\"}, \\\"kind\\\": \\\"ColumnDataChanged\\\", \\\"new\\\": {\\\"Avg. Gross Rent\\\": [1239, 1530, 2324, 2971, 3528, 3739, 4390], \\\"Avg_full_stop_Gross_Rent\\\": [1239, 1530, 2324, 2971, 3528, 3739, 4390], \\\"Year\\\": [2010, 2011, 2012, 2013, 2014, 2015, 2016]}}], \\\"references\\\": []}\",\"header\":\"{\\\"msgid\\\": \\\"6584\\\", \\\"msgtype\\\": \\\"PATCH-DOC\\\"}\",\"metadata\":\"{}\"},\"Outer Sunset\":{\"content\":\"{\\\"events\\\": [{\\\"attr\\\": \\\"text\\\", \\\"kind\\\": \\\"ModelChanged\\\", \\\"model\\\": {\\\"id\\\": \\\"6303\\\"}, \\\"new\\\": \\\"Neighborhood: Outer Sunset\\\"}, {\\\"cols\\\": null, \\\"column_source\\\": {\\\"id\\\": \\\"6332\\\"}, \\\"kind\\\": \\\"ColumnDataChanged\\\", \\\"new\\\": {\\\"Avg. Gross Rent\\\": [1239, 1530, 2324, 2971, 3528, 3739, 4390], \\\"Avg_full_stop_Gross_Rent\\\": [1239, 1530, 2324, 2971, 3528, 3739, 4390], \\\"Year\\\": [2010, 2011, 2012, 2013, 2014, 2015, 2016]}}], \\\"references\\\": []}\",\"header\":\"{\\\"msgid\\\": \\\"6577\\\", \\\"msgtype\\\": \\\"PATCH-DOC\\\"}\",\"metadata\":\"{}\"},\"Pacific Heights\":{\"content\":\"{\\\"events\\\": [{\\\"attr\\\": \\\"text\\\", \\\"kind\\\": \\\"ModelChanged\\\", \\\"model\\\": {\\\"id\\\": \\\"6303\\\"}, \\\"new\\\": \\\"Neighborhood: Pacific Heights\\\"}, {\\\"cols\\\": null, \\\"column_source\\\": {\\\"id\\\": \\\"6332\\\"}, \\\"kind\\\": \\\"ColumnDataChanged\\\", \\\"new\\\": {\\\"Avg. Gross Rent\\\": [1239, 1530, 2324, 2971, 3528, 3739, 4390], \\\"Avg_full_stop_Gross_Rent\\\": [1239, 1530, 2324, 2971, 3528, 3739, 4390], \\\"Year\\\": [2010, 2011, 2012, 2013, 2014, 2015, 2016]}}], \\\"references\\\": []}\",\"header\":\"{\\\"msgid\\\": \\\"6570\\\", \\\"msgtype\\\": \\\"PATCH-DOC\\\"}\",\"metadata\":\"{}\"},\"Park North\":{\"content\":\"{\\\"events\\\": [{\\\"attr\\\": \\\"end\\\", \\\"kind\\\": \\\"ModelChanged\\\", \\\"model\\\": {\\\"id\\\": \\\"6299\\\"}, \\\"new\\\": 2016.0}, {\\\"attr\\\": \\\"reset_end\\\", \\\"kind\\\": \\\"ModelChanged\\\", \\\"model\\\": {\\\"id\\\": \\\"6299\\\"}, \\\"new\\\": 2016.0}, {\\\"attr\\\": \\\"start\\\", \\\"kind\\\": \\\"ModelChanged\\\", \\\"model\\\": {\\\"id\\\": \\\"6300\\\"}, \\\"new\\\": 923.9}, {\\\"attr\\\": \\\"reset_start\\\", \\\"kind\\\": \\\"ModelChanged\\\", \\\"model\\\": {\\\"id\\\": \\\"6300\\\"}, \\\"new\\\": 923.9}, {\\\"attr\\\": \\\"end\\\", \\\"kind\\\": \\\"ModelChanged\\\", \\\"model\\\": {\\\"id\\\": \\\"6300\\\"}, \\\"new\\\": 4705.1}, {\\\"attr\\\": \\\"reset_end\\\", \\\"kind\\\": \\\"ModelChanged\\\", \\\"model\\\": {\\\"id\\\": \\\"6300\\\"}, \\\"new\\\": 4705.1}, {\\\"attr\\\": \\\"text\\\", \\\"kind\\\": \\\"ModelChanged\\\", \\\"model\\\": {\\\"id\\\": \\\"6303\\\"}, \\\"new\\\": \\\"Neighborhood: Park North\\\"}, {\\\"cols\\\": null, \\\"column_source\\\": {\\\"id\\\": \\\"6332\\\"}, \\\"kind\\\": \\\"ColumnDataChanged\\\", \\\"new\\\": {\\\"Avg. Gross Rent\\\": [1239, 1530, 2324, 2971, 3528, 3739, 4390], \\\"Avg_full_stop_Gross_Rent\\\": [1239, 1530, 2324, 2971, 3528, 3739, 4390], \\\"Year\\\": [2010, 2011, 2012, 2013, 2014, 2015, 2016]}}], \\\"references\\\": []}\",\"header\":\"{\\\"msgid\\\": \\\"6563\\\", \\\"msgtype\\\": \\\"PATCH-DOC\\\"}\",\"metadata\":\"{}\"},\"Parkside\":{\"content\":\"{\\\"events\\\": [{\\\"attr\\\": \\\"end\\\", \\\"kind\\\": \\\"ModelChanged\\\", \\\"model\\\": {\\\"id\\\": \\\"6299\\\"}, \\\"new\\\": 2015.0}, {\\\"attr\\\": \\\"reset_end\\\", \\\"kind\\\": \\\"ModelChanged\\\", \\\"model\\\": {\\\"id\\\": \\\"6299\\\"}, \\\"new\\\": 2015.0}, {\\\"attr\\\": \\\"start\\\", \\\"kind\\\": \\\"ModelChanged\\\", \\\"model\\\": {\\\"id\\\": \\\"6300\\\"}, \\\"new\\\": 989.0}, {\\\"attr\\\": \\\"reset_start\\\", \\\"kind\\\": \\\"ModelChanged\\\", \\\"model\\\": {\\\"id\\\": \\\"6300\\\"}, \\\"new\\\": 989.0}, {\\\"attr\\\": \\\"end\\\", \\\"kind\\\": \\\"ModelChanged\\\", \\\"model\\\": {\\\"id\\\": \\\"6300\\\"}, \\\"new\\\": 3989.0}, {\\\"attr\\\": \\\"reset_end\\\", \\\"kind\\\": \\\"ModelChanged\\\", \\\"model\\\": {\\\"id\\\": \\\"6300\\\"}, \\\"new\\\": 3989.0}, {\\\"attr\\\": \\\"text\\\", \\\"kind\\\": \\\"ModelChanged\\\", \\\"model\\\": {\\\"id\\\": \\\"6303\\\"}, \\\"new\\\": \\\"Neighborhood: Parkside\\\"}, {\\\"cols\\\": null, \\\"column_source\\\": {\\\"id\\\": \\\"6332\\\"}, \\\"kind\\\": \\\"ColumnDataChanged\\\", \\\"new\\\": {\\\"Avg. Gross Rent\\\": [1239, 1530, 2324, 2971, 3528, 3739], \\\"Avg_full_stop_Gross_Rent\\\": [1239, 1530, 2324, 2971, 3528, 3739], \\\"Year\\\": [2010, 2011, 2012, 2013, 2014, 2015]}}], \\\"references\\\": []}\",\"header\":\"{\\\"msgid\\\": \\\"6556\\\", \\\"msgtype\\\": \\\"PATCH-DOC\\\"}\",\"metadata\":\"{}\"},\"Parnassus/Ashbury Heights\":{\"content\":\"{\\\"events\\\": [{\\\"attr\\\": \\\"end\\\", \\\"kind\\\": \\\"ModelChanged\\\", \\\"model\\\": {\\\"id\\\": \\\"6299\\\"}, \\\"new\\\": 2016.0}, {\\\"attr\\\": \\\"reset_end\\\", \\\"kind\\\": \\\"ModelChanged\\\", \\\"model\\\": {\\\"id\\\": \\\"6299\\\"}, \\\"new\\\": 2016.0}, {\\\"attr\\\": \\\"start\\\", \\\"kind\\\": \\\"ModelChanged\\\", \\\"model\\\": {\\\"id\\\": \\\"6300\\\"}, \\\"new\\\": 923.9}, {\\\"attr\\\": \\\"reset_start\\\", \\\"kind\\\": \\\"ModelChanged\\\", \\\"model\\\": {\\\"id\\\": \\\"6300\\\"}, \\\"new\\\": 923.9}, {\\\"attr\\\": \\\"end\\\", \\\"kind\\\": \\\"ModelChanged\\\", \\\"model\\\": {\\\"id\\\": \\\"6300\\\"}, \\\"new\\\": 4705.1}, {\\\"attr\\\": \\\"reset_end\\\", \\\"kind\\\": \\\"ModelChanged\\\", \\\"model\\\": {\\\"id\\\": \\\"6300\\\"}, \\\"new\\\": 4705.1}, {\\\"attr\\\": \\\"text\\\", \\\"kind\\\": \\\"ModelChanged\\\", \\\"model\\\": {\\\"id\\\": \\\"6303\\\"}, \\\"new\\\": \\\"Neighborhood: Parnassus/Ashbury Heights\\\"}, {\\\"cols\\\": null, \\\"column_source\\\": {\\\"id\\\": \\\"6332\\\"}, \\\"kind\\\": \\\"ColumnDataChanged\\\", \\\"new\\\": {\\\"Avg. Gross Rent\\\": [1239, 1530, 2324, 2971, 3528, 3739, 4390], \\\"Avg_full_stop_Gross_Rent\\\": [1239, 1530, 2324, 2971, 3528, 3739, 4390], \\\"Year\\\": [2010, 2011, 2012, 2013, 2014, 2015, 2016]}}], \\\"references\\\": []}\",\"header\":\"{\\\"msgid\\\": \\\"6549\\\", \\\"msgtype\\\": \\\"PATCH-DOC\\\"}\",\"metadata\":\"{}\"},\"Portola\":{\"content\":\"{\\\"events\\\": [{\\\"attr\\\": \\\"end\\\", \\\"kind\\\": \\\"ModelChanged\\\", \\\"model\\\": {\\\"id\\\": \\\"6299\\\"}, \\\"new\\\": 2014.0}, {\\\"attr\\\": \\\"reset_end\\\", \\\"kind\\\": \\\"ModelChanged\\\", \\\"model\\\": {\\\"id\\\": \\\"6299\\\"}, \\\"new\\\": 2014.0}, {\\\"attr\\\": \\\"start\\\", \\\"kind\\\": \\\"ModelChanged\\\", \\\"model\\\": {\\\"id\\\": \\\"6300\\\"}, \\\"new\\\": 1010.1}, {\\\"attr\\\": \\\"reset_start\\\", \\\"kind\\\": \\\"ModelChanged\\\", \\\"model\\\": {\\\"id\\\": \\\"6300\\\"}, \\\"new\\\": 1010.1}, {\\\"attr\\\": \\\"end\\\", \\\"kind\\\": \\\"ModelChanged\\\", \\\"model\\\": {\\\"id\\\": \\\"6300\\\"}, \\\"new\\\": 3756.9}, {\\\"attr\\\": \\\"reset_end\\\", \\\"kind\\\": \\\"ModelChanged\\\", \\\"model\\\": {\\\"id\\\": \\\"6300\\\"}, \\\"new\\\": 3756.9}, {\\\"attr\\\": \\\"text\\\", \\\"kind\\\": \\\"ModelChanged\\\", \\\"model\\\": {\\\"id\\\": \\\"6303\\\"}, \\\"new\\\": \\\"Neighborhood: Portola\\\"}, {\\\"cols\\\": null, \\\"column_source\\\": {\\\"id\\\": \\\"6332\\\"}, \\\"kind\\\": \\\"ColumnDataChanged\\\", \\\"new\\\": {\\\"Avg. Gross Rent\\\": [1239, 1530, 2324, 2971, 3528], \\\"Avg_full_stop_Gross_Rent\\\": [1239, 1530, 2324, 2971, 3528], \\\"Year\\\": [2010, 2011, 2012, 2013, 2014]}}], \\\"references\\\": []}\",\"header\":\"{\\\"msgid\\\": \\\"6542\\\", \\\"msgtype\\\": \\\"PATCH-DOC\\\"}\",\"metadata\":\"{}\"},\"Potrero Hill\":{\"content\":\"{\\\"events\\\": [{\\\"attr\\\": \\\"text\\\", \\\"kind\\\": \\\"ModelChanged\\\", \\\"model\\\": {\\\"id\\\": \\\"6303\\\"}, \\\"new\\\": \\\"Neighborhood: Potrero Hill\\\"}, {\\\"cols\\\": null, \\\"column_source\\\": {\\\"id\\\": \\\"6332\\\"}, \\\"kind\\\": \\\"ColumnDataChanged\\\", \\\"new\\\": {\\\"Avg. Gross Rent\\\": [1239, 1530, 2324, 2971, 3528, 3739, 4390], \\\"Avg_full_stop_Gross_Rent\\\": [1239, 1530, 2324, 2971, 3528, 3739, 4390], \\\"Year\\\": [2010, 2011, 2012, 2013, 2014, 2015, 2016]}}], \\\"references\\\": []}\",\"header\":\"{\\\"msgid\\\": \\\"6535\\\", \\\"msgtype\\\": \\\"PATCH-DOC\\\"}\",\"metadata\":\"{}\"},\"Presidio Heights\":{\"content\":\"{\\\"events\\\": [{\\\"attr\\\": \\\"text\\\", \\\"kind\\\": \\\"ModelChanged\\\", \\\"model\\\": {\\\"id\\\": \\\"6303\\\"}, \\\"new\\\": \\\"Neighborhood: Presidio Heights\\\"}, {\\\"cols\\\": null, \\\"column_source\\\": {\\\"id\\\": \\\"6332\\\"}, \\\"kind\\\": \\\"ColumnDataChanged\\\", \\\"new\\\": {\\\"Avg. Gross Rent\\\": [1239, 1530, 2324, 2971, 3528, 3739, 4390], \\\"Avg_full_stop_Gross_Rent\\\": [1239, 1530, 2324, 2971, 3528, 3739, 4390], \\\"Year\\\": [2010, 2011, 2012, 2013, 2014, 2015, 2016]}}], \\\"references\\\": []}\",\"header\":\"{\\\"msgid\\\": \\\"6528\\\", \\\"msgtype\\\": \\\"PATCH-DOC\\\"}\",\"metadata\":\"{}\"},\"Russian Hill\":{\"content\":\"{\\\"events\\\": [{\\\"attr\\\": \\\"start\\\", \\\"kind\\\": \\\"ModelChanged\\\", \\\"model\\\": {\\\"id\\\": \\\"6299\\\"}, \\\"new\\\": 2010.0}, {\\\"attr\\\": \\\"reset_start\\\", \\\"kind\\\": \\\"ModelChanged\\\", \\\"model\\\": {\\\"id\\\": \\\"6299\\\"}, \\\"new\\\": 2010.0}, {\\\"attr\\\": \\\"end\\\", \\\"kind\\\": \\\"ModelChanged\\\", \\\"model\\\": {\\\"id\\\": \\\"6299\\\"}, \\\"new\\\": 2016.0}, {\\\"attr\\\": \\\"reset_end\\\", \\\"kind\\\": \\\"ModelChanged\\\", \\\"model\\\": {\\\"id\\\": \\\"6299\\\"}, \\\"new\\\": 2016.0}, {\\\"attr\\\": \\\"start\\\", \\\"kind\\\": \\\"ModelChanged\\\", \\\"model\\\": {\\\"id\\\": \\\"6300\\\"}, \\\"new\\\": 923.9}, {\\\"attr\\\": \\\"reset_start\\\", \\\"kind\\\": \\\"ModelChanged\\\", \\\"model\\\": {\\\"id\\\": \\\"6300\\\"}, \\\"new\\\": 923.9}, {\\\"attr\\\": \\\"end\\\", \\\"kind\\\": \\\"ModelChanged\\\", \\\"model\\\": {\\\"id\\\": \\\"6300\\\"}, \\\"new\\\": 4705.1}, {\\\"attr\\\": \\\"reset_end\\\", \\\"kind\\\": \\\"ModelChanged\\\", \\\"model\\\": {\\\"id\\\": \\\"6300\\\"}, \\\"new\\\": 4705.1}, {\\\"attr\\\": \\\"text\\\", \\\"kind\\\": \\\"ModelChanged\\\", \\\"model\\\": {\\\"id\\\": \\\"6303\\\"}, \\\"new\\\": \\\"Neighborhood: Russian Hill\\\"}, {\\\"cols\\\": null, \\\"column_source\\\": {\\\"id\\\": \\\"6332\\\"}, \\\"kind\\\": \\\"ColumnDataChanged\\\", \\\"new\\\": {\\\"Avg. Gross Rent\\\": [1239, 1530, 2324, 2971, 3528, 3739, 4390], \\\"Avg_full_stop_Gross_Rent\\\": [1239, 1530, 2324, 2971, 3528, 3739, 4390], \\\"Year\\\": [2010, 2011, 2012, 2013, 2014, 2015, 2016]}}], \\\"references\\\": []}\",\"header\":\"{\\\"msgid\\\": \\\"6521\\\", \\\"msgtype\\\": \\\"PATCH-DOC\\\"}\",\"metadata\":\"{}\"},\"Silver Terrace\":{\"content\":\"{\\\"events\\\": [{\\\"attr\\\": \\\"start\\\", \\\"kind\\\": \\\"ModelChanged\\\", \\\"model\\\": {\\\"id\\\": \\\"6299\\\"}, \\\"new\\\": 2013.0}, {\\\"attr\\\": \\\"reset_start\\\", \\\"kind\\\": \\\"ModelChanged\\\", \\\"model\\\": {\\\"id\\\": \\\"6299\\\"}, \\\"new\\\": 2013.0}, {\\\"attr\\\": \\\"end\\\", \\\"kind\\\": \\\"ModelChanged\\\", \\\"model\\\": {\\\"id\\\": \\\"6299\\\"}, \\\"new\\\": 2015.0}, {\\\"attr\\\": \\\"reset_end\\\", \\\"kind\\\": \\\"ModelChanged\\\", \\\"model\\\": {\\\"id\\\": \\\"6299\\\"}, \\\"new\\\": 2015.0}, {\\\"attr\\\": \\\"start\\\", \\\"kind\\\": \\\"ModelChanged\\\", \\\"model\\\": {\\\"id\\\": \\\"6300\\\"}, \\\"new\\\": 3526.8}, {\\\"attr\\\": \\\"reset_start\\\", \\\"kind\\\": \\\"ModelChanged\\\", \\\"model\\\": {\\\"id\\\": \\\"6300\\\"}, \\\"new\\\": 3526.8}, {\\\"attr\\\": \\\"end\\\", \\\"kind\\\": \\\"ModelChanged\\\", \\\"model\\\": {\\\"id\\\": \\\"6300\\\"}, \\\"new\\\": 3529.2}, {\\\"attr\\\": \\\"reset_end\\\", \\\"kind\\\": \\\"ModelChanged\\\", \\\"model\\\": {\\\"id\\\": \\\"6300\\\"}, \\\"new\\\": 3529.2}, {\\\"attr\\\": \\\"text\\\", \\\"kind\\\": \\\"ModelChanged\\\", \\\"model\\\": {\\\"id\\\": \\\"6303\\\"}, \\\"new\\\": \\\"Neighborhood: Silver Terrace\\\"}, {\\\"cols\\\": null, \\\"column_source\\\": {\\\"id\\\": \\\"6332\\\"}, \\\"kind\\\": \\\"ColumnDataChanged\\\", \\\"new\\\": {\\\"Avg. Gross Rent\\\": [3528], \\\"Avg_full_stop_Gross_Rent\\\": [3528], \\\"Year\\\": [2014]}}], \\\"references\\\": []}\",\"header\":\"{\\\"msgid\\\": \\\"6514\\\", \\\"msgtype\\\": \\\"PATCH-DOC\\\"}\",\"metadata\":\"{}\"},\"South Beach\":{\"content\":\"{\\\"events\\\": [{\\\"attr\\\": \\\"end\\\", \\\"kind\\\": \\\"ModelChanged\\\", \\\"model\\\": {\\\"id\\\": \\\"6299\\\"}, \\\"new\\\": 2014.0}, {\\\"attr\\\": \\\"reset_end\\\", \\\"kind\\\": \\\"ModelChanged\\\", \\\"model\\\": {\\\"id\\\": \\\"6299\\\"}, \\\"new\\\": 2014.0}, {\\\"attr\\\": \\\"start\\\", \\\"kind\\\": \\\"ModelChanged\\\", \\\"model\\\": {\\\"id\\\": \\\"6300\\\"}, \\\"new\\\": 1010.1}, {\\\"attr\\\": \\\"reset_start\\\", \\\"kind\\\": \\\"ModelChanged\\\", \\\"model\\\": {\\\"id\\\": \\\"6300\\\"}, \\\"new\\\": 1010.1}, {\\\"attr\\\": \\\"end\\\", \\\"kind\\\": \\\"ModelChanged\\\", \\\"model\\\": {\\\"id\\\": \\\"6300\\\"}, \\\"new\\\": 3756.9}, {\\\"attr\\\": \\\"reset_end\\\", \\\"kind\\\": \\\"ModelChanged\\\", \\\"model\\\": {\\\"id\\\": \\\"6300\\\"}, \\\"new\\\": 3756.9}, {\\\"attr\\\": \\\"text\\\", \\\"kind\\\": \\\"ModelChanged\\\", \\\"model\\\": {\\\"id\\\": \\\"6303\\\"}, \\\"new\\\": \\\"Neighborhood: South Beach\\\"}, {\\\"cols\\\": null, \\\"column_source\\\": {\\\"id\\\": \\\"6332\\\"}, \\\"kind\\\": \\\"ColumnDataChanged\\\", \\\"new\\\": {\\\"Avg. Gross Rent\\\": [1239, 1530, 3528], \\\"Avg_full_stop_Gross_Rent\\\": [1239, 1530, 3528], \\\"Year\\\": [2010, 2011, 2014]}}], \\\"references\\\": []}\",\"header\":\"{\\\"msgid\\\": \\\"6507\\\", \\\"msgtype\\\": \\\"PATCH-DOC\\\"}\",\"metadata\":\"{}\"},\"South of Market\":{\"content\":\"{\\\"events\\\": [{\\\"attr\\\": \\\"text\\\", \\\"kind\\\": \\\"ModelChanged\\\", \\\"model\\\": {\\\"id\\\": \\\"6303\\\"}, \\\"new\\\": \\\"Neighborhood: South of Market\\\"}, {\\\"cols\\\": null, \\\"column_source\\\": {\\\"id\\\": \\\"6332\\\"}, \\\"kind\\\": \\\"ColumnDataChanged\\\", \\\"new\\\": {\\\"Avg. Gross Rent\\\": [1239, 1530, 2324, 2971, 3528, 3739, 4390], \\\"Avg_full_stop_Gross_Rent\\\": [1239, 1530, 2324, 2971, 3528, 3739, 4390], \\\"Year\\\": [2010, 2011, 2012, 2013, 2014, 2015, 2016]}}], \\\"references\\\": []}\",\"header\":\"{\\\"msgid\\\": \\\"6500\\\", \\\"msgtype\\\": \\\"PATCH-DOC\\\"}\",\"metadata\":\"{}\"},\"Sunnyside\":{\"content\":\"{\\\"events\\\": [{\\\"attr\\\": \\\"text\\\", \\\"kind\\\": \\\"ModelChanged\\\", \\\"model\\\": {\\\"id\\\": \\\"6303\\\"}, \\\"new\\\": \\\"Neighborhood: Sunnyside\\\"}, {\\\"cols\\\": null, \\\"column_source\\\": {\\\"id\\\": \\\"6332\\\"}, \\\"kind\\\": \\\"ColumnDataChanged\\\", \\\"new\\\": {\\\"Avg. Gross Rent\\\": [1239, 1530, 2971, 3528, 3739, 4390], \\\"Avg_full_stop_Gross_Rent\\\": [1239, 1530, 2971, 3528, 3739, 4390], \\\"Year\\\": [2010, 2011, 2013, 2014, 2015, 2016]}}], \\\"references\\\": []}\",\"header\":\"{\\\"msgid\\\": \\\"6493\\\", \\\"msgtype\\\": \\\"PATCH-DOC\\\"}\",\"metadata\":\"{}\"},\"Telegraph Hill\":{\"content\":\"{\\\"events\\\": [{\\\"attr\\\": \\\"text\\\", \\\"kind\\\": \\\"ModelChanged\\\", \\\"model\\\": {\\\"id\\\": \\\"6303\\\"}, \\\"new\\\": \\\"Neighborhood: Telegraph Hill\\\"}, {\\\"cols\\\": null, \\\"column_source\\\": {\\\"id\\\": \\\"6332\\\"}, \\\"kind\\\": \\\"ColumnDataChanged\\\", \\\"new\\\": {\\\"Avg. Gross Rent\\\": [1239, 1530, 2324, 2971, 3528, 3739, 4390], \\\"Avg_full_stop_Gross_Rent\\\": [1239, 1530, 2324, 2971, 3528, 3739, 4390], \\\"Year\\\": [2010, 2011, 2012, 2013, 2014, 2015, 2016]}}], \\\"references\\\": []}\",\"header\":\"{\\\"msgid\\\": \\\"6486\\\", \\\"msgtype\\\": \\\"PATCH-DOC\\\"}\",\"metadata\":\"{}\"},\"Twin Peaks\":{\"content\":\"{\\\"events\\\": [{\\\"attr\\\": \\\"end\\\", \\\"kind\\\": \\\"ModelChanged\\\", \\\"model\\\": {\\\"id\\\": \\\"6299\\\"}, \\\"new\\\": 2016.0}, {\\\"attr\\\": \\\"reset_end\\\", \\\"kind\\\": \\\"ModelChanged\\\", \\\"model\\\": {\\\"id\\\": \\\"6299\\\"}, \\\"new\\\": 2016.0}, {\\\"attr\\\": \\\"start\\\", \\\"kind\\\": \\\"ModelChanged\\\", \\\"model\\\": {\\\"id\\\": \\\"6300\\\"}, \\\"new\\\": 923.9}, {\\\"attr\\\": \\\"reset_start\\\", \\\"kind\\\": \\\"ModelChanged\\\", \\\"model\\\": {\\\"id\\\": \\\"6300\\\"}, \\\"new\\\": 923.9}, {\\\"attr\\\": \\\"end\\\", \\\"kind\\\": \\\"ModelChanged\\\", \\\"model\\\": {\\\"id\\\": \\\"6300\\\"}, \\\"new\\\": 4705.1}, {\\\"attr\\\": \\\"reset_end\\\", \\\"kind\\\": \\\"ModelChanged\\\", \\\"model\\\": {\\\"id\\\": \\\"6300\\\"}, \\\"new\\\": 4705.1}, {\\\"attr\\\": \\\"text\\\", \\\"kind\\\": \\\"ModelChanged\\\", \\\"model\\\": {\\\"id\\\": \\\"6303\\\"}, \\\"new\\\": \\\"Neighborhood: Twin Peaks\\\"}, {\\\"cols\\\": null, \\\"column_source\\\": {\\\"id\\\": \\\"6332\\\"}, \\\"kind\\\": \\\"ColumnDataChanged\\\", \\\"new\\\": {\\\"Avg. Gross Rent\\\": [1239, 1530, 2324, 2971, 3528, 3739, 4390], \\\"Avg_full_stop_Gross_Rent\\\": [1239, 1530, 2324, 2971, 3528, 3739, 4390], \\\"Year\\\": [2010, 2011, 2012, 2013, 2014, 2015, 2016]}}], \\\"references\\\": []}\",\"header\":\"{\\\"msgid\\\": \\\"6479\\\", \\\"msgtype\\\": \\\"PATCH-DOC\\\"}\",\"metadata\":\"{}\"},\"Union Square District\":{\"content\":\"{\\\"events\\\": [{\\\"attr\\\": \\\"end\\\", \\\"kind\\\": \\\"ModelChanged\\\", \\\"model\\\": {\\\"id\\\": \\\"6299\\\"}, \\\"new\\\": 2015.0}, {\\\"attr\\\": \\\"reset_end\\\", \\\"kind\\\": \\\"ModelChanged\\\", \\\"model\\\": {\\\"id\\\": \\\"6299\\\"}, \\\"new\\\": 2015.0}, {\\\"attr\\\": \\\"start\\\", \\\"kind\\\": \\\"ModelChanged\\\", \\\"model\\\": {\\\"id\\\": \\\"6300\\\"}, \\\"new\\\": 989.0}, {\\\"attr\\\": \\\"reset_start\\\", \\\"kind\\\": \\\"ModelChanged\\\", \\\"model\\\": {\\\"id\\\": \\\"6300\\\"}, \\\"new\\\": 989.0}, {\\\"attr\\\": \\\"end\\\", \\\"kind\\\": \\\"ModelChanged\\\", \\\"model\\\": {\\\"id\\\": \\\"6300\\\"}, \\\"new\\\": 3989.0}, {\\\"attr\\\": \\\"reset_end\\\", \\\"kind\\\": \\\"ModelChanged\\\", \\\"model\\\": {\\\"id\\\": \\\"6300\\\"}, \\\"new\\\": 3989.0}, {\\\"attr\\\": \\\"text\\\", \\\"kind\\\": \\\"ModelChanged\\\", \\\"model\\\": {\\\"id\\\": \\\"6303\\\"}, \\\"new\\\": \\\"Neighborhood: Union Square District\\\"}, {\\\"cols\\\": null, \\\"column_source\\\": {\\\"id\\\": \\\"6332\\\"}, \\\"kind\\\": \\\"ColumnDataChanged\\\", \\\"new\\\": {\\\"Avg. Gross Rent\\\": [1239, 1530, 2324, 2971, 3528, 3739], \\\"Avg_full_stop_Gross_Rent\\\": [1239, 1530, 2324, 2971, 3528, 3739], \\\"Year\\\": [2010, 2011, 2012, 2013, 2014, 2015]}}], \\\"references\\\": []}\",\"header\":\"{\\\"msgid\\\": \\\"6472\\\", \\\"msgtype\\\": \\\"PATCH-DOC\\\"}\",\"metadata\":\"{}\"},\"Van Ness/ Civic Center\":{\"content\":\"{\\\"events\\\": [{\\\"attr\\\": \\\"start\\\", \\\"kind\\\": \\\"ModelChanged\\\", \\\"model\\\": {\\\"id\\\": \\\"6299\\\"}, \\\"new\\\": 2010.0}, {\\\"attr\\\": \\\"reset_start\\\", \\\"kind\\\": \\\"ModelChanged\\\", \\\"model\\\": {\\\"id\\\": \\\"6299\\\"}, \\\"new\\\": 2010.0}, {\\\"attr\\\": \\\"start\\\", \\\"kind\\\": \\\"ModelChanged\\\", \\\"model\\\": {\\\"id\\\": \\\"6300\\\"}, \\\"new\\\": 923.9}, {\\\"attr\\\": \\\"reset_start\\\", \\\"kind\\\": \\\"ModelChanged\\\", \\\"model\\\": {\\\"id\\\": \\\"6300\\\"}, \\\"new\\\": 923.9}, {\\\"attr\\\": \\\"end\\\", \\\"kind\\\": \\\"ModelChanged\\\", \\\"model\\\": {\\\"id\\\": \\\"6300\\\"}, \\\"new\\\": 4705.1}, {\\\"attr\\\": \\\"reset_end\\\", \\\"kind\\\": \\\"ModelChanged\\\", \\\"model\\\": {\\\"id\\\": \\\"6300\\\"}, \\\"new\\\": 4705.1}, {\\\"attr\\\": \\\"text\\\", \\\"kind\\\": \\\"ModelChanged\\\", \\\"model\\\": {\\\"id\\\": \\\"6303\\\"}, \\\"new\\\": \\\"Neighborhood: Van Ness/ Civic Center\\\"}, {\\\"cols\\\": null, \\\"column_source\\\": {\\\"id\\\": \\\"6332\\\"}, \\\"kind\\\": \\\"ColumnDataChanged\\\", \\\"new\\\": {\\\"Avg. Gross Rent\\\": [1239, 1530, 2324, 2971, 3528, 3739, 4390], \\\"Avg_full_stop_Gross_Rent\\\": [1239, 1530, 2324, 2971, 3528, 3739, 4390], \\\"Year\\\": [2010, 2011, 2012, 2013, 2014, 2015, 2016]}}], \\\"references\\\": []}\",\"header\":\"{\\\"msgid\\\": \\\"6465\\\", \\\"msgtype\\\": \\\"PATCH-DOC\\\"}\",\"metadata\":\"{}\"},\"Visitacion Valley\":{\"content\":\"{\\\"events\\\": [{\\\"attr\\\": \\\"start\\\", \\\"kind\\\": \\\"ModelChanged\\\", \\\"model\\\": {\\\"id\\\": \\\"6299\\\"}, \\\"new\\\": 2013.0}, {\\\"attr\\\": \\\"reset_start\\\", \\\"kind\\\": \\\"ModelChanged\\\", \\\"model\\\": {\\\"id\\\": \\\"6299\\\"}, \\\"new\\\": 2013.0}, {\\\"attr\\\": \\\"end\\\", \\\"kind\\\": \\\"ModelChanged\\\", \\\"model\\\": {\\\"id\\\": \\\"6299\\\"}, \\\"new\\\": 2016.0}, {\\\"attr\\\": \\\"reset_end\\\", \\\"kind\\\": \\\"ModelChanged\\\", \\\"model\\\": {\\\"id\\\": \\\"6299\\\"}, \\\"new\\\": 2016.0}, {\\\"attr\\\": \\\"start\\\", \\\"kind\\\": \\\"ModelChanged\\\", \\\"model\\\": {\\\"id\\\": \\\"6300\\\"}, \\\"new\\\": 2829.1}, {\\\"attr\\\": \\\"reset_start\\\", \\\"kind\\\": \\\"ModelChanged\\\", \\\"model\\\": {\\\"id\\\": \\\"6300\\\"}, \\\"new\\\": 2829.1}, {\\\"attr\\\": \\\"end\\\", \\\"kind\\\": \\\"ModelChanged\\\", \\\"model\\\": {\\\"id\\\": \\\"6300\\\"}, \\\"new\\\": 4531.9}, {\\\"attr\\\": \\\"reset_end\\\", \\\"kind\\\": \\\"ModelChanged\\\", \\\"model\\\": {\\\"id\\\": \\\"6300\\\"}, \\\"new\\\": 4531.9}, {\\\"attr\\\": \\\"text\\\", \\\"kind\\\": \\\"ModelChanged\\\", \\\"model\\\": {\\\"id\\\": \\\"6303\\\"}, \\\"new\\\": \\\"Neighborhood: Visitacion Valley\\\"}, {\\\"cols\\\": null, \\\"column_source\\\": {\\\"id\\\": \\\"6332\\\"}, \\\"kind\\\": \\\"ColumnDataChanged\\\", \\\"new\\\": {\\\"Avg. Gross Rent\\\": [2971, 3528, 3739, 4390], \\\"Avg_full_stop_Gross_Rent\\\": [2971, 3528, 3739, 4390], \\\"Year\\\": [2013, 2014, 2015, 2016]}}], \\\"references\\\": []}\",\"header\":\"{\\\"msgid\\\": \\\"6458\\\", \\\"msgtype\\\": \\\"PATCH-DOC\\\"}\",\"metadata\":\"{}\"},\"West Portal\":{\"content\":\"{\\\"events\\\": [{\\\"attr\\\": \\\"end\\\", \\\"kind\\\": \\\"ModelChanged\\\", \\\"model\\\": {\\\"id\\\": \\\"6299\\\"}, \\\"new\\\": 2014.0}, {\\\"attr\\\": \\\"reset_end\\\", \\\"kind\\\": \\\"ModelChanged\\\", \\\"model\\\": {\\\"id\\\": \\\"6299\\\"}, \\\"new\\\": 2014.0}, {\\\"attr\\\": \\\"start\\\", \\\"kind\\\": \\\"ModelChanged\\\", \\\"model\\\": {\\\"id\\\": \\\"6300\\\"}, \\\"new\\\": 1010.1}, {\\\"attr\\\": \\\"reset_start\\\", \\\"kind\\\": \\\"ModelChanged\\\", \\\"model\\\": {\\\"id\\\": \\\"6300\\\"}, \\\"new\\\": 1010.1}, {\\\"attr\\\": \\\"end\\\", \\\"kind\\\": \\\"ModelChanged\\\", \\\"model\\\": {\\\"id\\\": \\\"6300\\\"}, \\\"new\\\": 3756.9}, {\\\"attr\\\": \\\"reset_end\\\", \\\"kind\\\": \\\"ModelChanged\\\", \\\"model\\\": {\\\"id\\\": \\\"6300\\\"}, \\\"new\\\": 3756.9}, {\\\"attr\\\": \\\"text\\\", \\\"kind\\\": \\\"ModelChanged\\\", \\\"model\\\": {\\\"id\\\": \\\"6303\\\"}, \\\"new\\\": \\\"Neighborhood: West Portal\\\"}, {\\\"cols\\\": null, \\\"column_source\\\": {\\\"id\\\": \\\"6332\\\"}, \\\"kind\\\": \\\"ColumnDataChanged\\\", \\\"new\\\": {\\\"Avg. Gross Rent\\\": [1239, 2324, 2971, 3528], \\\"Avg_full_stop_Gross_Rent\\\": [1239, 2324, 2971, 3528], \\\"Year\\\": [2010, 2012, 2013, 2014]}}], \\\"references\\\": []}\",\"header\":\"{\\\"msgid\\\": \\\"6451\\\", \\\"msgtype\\\": \\\"PATCH-DOC\\\"}\",\"metadata\":\"{}\"},\"Western Addition\":{\"content\":\"{\\\"events\\\": [{\\\"attr\\\": \\\"start\\\", \\\"kind\\\": \\\"ModelChanged\\\", \\\"model\\\": {\\\"id\\\": \\\"6299\\\"}, \\\"new\\\": 2010.0}, {\\\"attr\\\": \\\"reset_start\\\", \\\"kind\\\": \\\"ModelChanged\\\", \\\"model\\\": {\\\"id\\\": \\\"6299\\\"}, \\\"new\\\": 2010.0}, {\\\"attr\\\": \\\"end\\\", \\\"kind\\\": \\\"ModelChanged\\\", \\\"model\\\": {\\\"id\\\": \\\"6299\\\"}, \\\"new\\\": 2015.0}, {\\\"attr\\\": \\\"reset_end\\\", \\\"kind\\\": \\\"ModelChanged\\\", \\\"model\\\": {\\\"id\\\": \\\"6299\\\"}, \\\"new\\\": 2015.0}, {\\\"attr\\\": \\\"start\\\", \\\"kind\\\": \\\"ModelChanged\\\", \\\"model\\\": {\\\"id\\\": \\\"6300\\\"}, \\\"new\\\": 989.0}, {\\\"attr\\\": \\\"reset_start\\\", \\\"kind\\\": \\\"ModelChanged\\\", \\\"model\\\": {\\\"id\\\": \\\"6300\\\"}, \\\"new\\\": 989.0}, {\\\"attr\\\": \\\"end\\\", \\\"kind\\\": \\\"ModelChanged\\\", \\\"model\\\": {\\\"id\\\": \\\"6300\\\"}, \\\"new\\\": 3989.0}, {\\\"attr\\\": \\\"reset_end\\\", \\\"kind\\\": \\\"ModelChanged\\\", \\\"model\\\": {\\\"id\\\": \\\"6300\\\"}, \\\"new\\\": 3989.0}, {\\\"attr\\\": \\\"text\\\", \\\"kind\\\": \\\"ModelChanged\\\", \\\"model\\\": {\\\"id\\\": \\\"6303\\\"}, \\\"new\\\": \\\"Neighborhood: Western Addition\\\"}, {\\\"cols\\\": null, \\\"column_source\\\": {\\\"id\\\": \\\"6332\\\"}, \\\"kind\\\": \\\"ColumnDataChanged\\\", \\\"new\\\": {\\\"Avg. Gross Rent\\\": [1239, 1530, 2324, 2971, 3528, 3739], \\\"Avg_full_stop_Gross_Rent\\\": [1239, 1530, 2324, 2971, 3528, 3739], \\\"Year\\\": [2010, 2011, 2012, 2013, 2014, 2015]}}], \\\"references\\\": []}\",\"header\":\"{\\\"msgid\\\": \\\"6444\\\", \\\"msgtype\\\": \\\"PATCH-DOC\\\"}\",\"metadata\":\"{}\"},\"Westwood Highlands\":{\"content\":\"{\\\"events\\\": [{\\\"attr\\\": \\\"start\\\", \\\"kind\\\": \\\"ModelChanged\\\", \\\"model\\\": {\\\"id\\\": \\\"6299\\\"}, \\\"new\\\": 2011.0}, {\\\"attr\\\": \\\"reset_start\\\", \\\"kind\\\": \\\"ModelChanged\\\", \\\"model\\\": {\\\"id\\\": \\\"6299\\\"}, \\\"new\\\": 2011.0}, {\\\"attr\\\": \\\"end\\\", \\\"kind\\\": \\\"ModelChanged\\\", \\\"model\\\": {\\\"id\\\": \\\"6299\\\"}, \\\"new\\\": 2013.0}, {\\\"attr\\\": \\\"reset_end\\\", \\\"kind\\\": \\\"ModelChanged\\\", \\\"model\\\": {\\\"id\\\": \\\"6299\\\"}, \\\"new\\\": 2013.0}, {\\\"attr\\\": \\\"start\\\", \\\"kind\\\": \\\"ModelChanged\\\", \\\"model\\\": {\\\"id\\\": \\\"6300\\\"}, \\\"new\\\": 1385.9}, {\\\"attr\\\": \\\"reset_start\\\", \\\"kind\\\": \\\"ModelChanged\\\", \\\"model\\\": {\\\"id\\\": \\\"6300\\\"}, \\\"new\\\": 1385.9}, {\\\"attr\\\": \\\"end\\\", \\\"kind\\\": \\\"ModelChanged\\\", \\\"model\\\": {\\\"id\\\": \\\"6300\\\"}, \\\"new\\\": 3115.1}, {\\\"attr\\\": \\\"reset_end\\\", \\\"kind\\\": \\\"ModelChanged\\\", \\\"model\\\": {\\\"id\\\": \\\"6300\\\"}, \\\"new\\\": 3115.1}, {\\\"attr\\\": \\\"text\\\", \\\"kind\\\": \\\"ModelChanged\\\", \\\"model\\\": {\\\"id\\\": \\\"6303\\\"}, \\\"new\\\": \\\"Neighborhood: Westwood Highlands\\\"}, {\\\"cols\\\": null, \\\"column_source\\\": {\\\"id\\\": \\\"6332\\\"}, \\\"kind\\\": \\\"ColumnDataChanged\\\", \\\"new\\\": {\\\"Avg. Gross Rent\\\": [1530, 2971], \\\"Avg_full_stop_Gross_Rent\\\": [1530, 2971], \\\"Year\\\": [2011, 2013]}}], \\\"references\\\": []}\",\"header\":\"{\\\"msgid\\\": \\\"6437\\\", \\\"msgtype\\\": \\\"PATCH-DOC\\\"}\",\"metadata\":\"{}\"},\"Westwood Park\":{\"content\":\"{\\\"events\\\": [{\\\"attr\\\": \\\"start\\\", \\\"kind\\\": \\\"ModelChanged\\\", \\\"model\\\": {\\\"id\\\": \\\"6299\\\"}, \\\"new\\\": 2014.0}, {\\\"attr\\\": \\\"reset_start\\\", \\\"kind\\\": \\\"ModelChanged\\\", \\\"model\\\": {\\\"id\\\": \\\"6299\\\"}, \\\"new\\\": 2014.0}, {\\\"attr\\\": \\\"end\\\", \\\"kind\\\": \\\"ModelChanged\\\", \\\"model\\\": {\\\"id\\\": \\\"6299\\\"}, \\\"new\\\": 2016.0}, {\\\"attr\\\": \\\"reset_end\\\", \\\"kind\\\": \\\"ModelChanged\\\", \\\"model\\\": {\\\"id\\\": \\\"6299\\\"}, \\\"new\\\": 2016.0}, {\\\"attr\\\": \\\"start\\\", \\\"kind\\\": \\\"ModelChanged\\\", \\\"model\\\": {\\\"id\\\": \\\"6300\\\"}, \\\"new\\\": 3441.8}, {\\\"attr\\\": \\\"reset_start\\\", \\\"kind\\\": \\\"ModelChanged\\\", \\\"model\\\": {\\\"id\\\": \\\"6300\\\"}, \\\"new\\\": 3441.8}, {\\\"attr\\\": \\\"end\\\", \\\"kind\\\": \\\"ModelChanged\\\", \\\"model\\\": {\\\"id\\\": \\\"6300\\\"}, \\\"new\\\": 4476.2}, {\\\"attr\\\": \\\"reset_end\\\", \\\"kind\\\": \\\"ModelChanged\\\", \\\"model\\\": {\\\"id\\\": \\\"6300\\\"}, \\\"new\\\": 4476.2}, {\\\"attr\\\": \\\"text\\\", \\\"kind\\\": \\\"ModelChanged\\\", \\\"model\\\": {\\\"id\\\": \\\"6303\\\"}, \\\"new\\\": \\\"Neighborhood: Westwood Park\\\"}, {\\\"cols\\\": null, \\\"column_source\\\": {\\\"id\\\": \\\"6332\\\"}, \\\"kind\\\": \\\"ColumnDataChanged\\\", \\\"new\\\": {\\\"Avg. Gross Rent\\\": [3528, 4390], \\\"Avg_full_stop_Gross_Rent\\\": [3528, 4390], \\\"Year\\\": [2014, 2016]}}], \\\"references\\\": []}\",\"header\":\"{\\\"msgid\\\": \\\"6430\\\", \\\"msgtype\\\": \\\"PATCH-DOC\\\"}\",\"metadata\":\"{}\"},\"Yerba Buena\":{\"content\":\"{\\\"events\\\": [{\\\"attr\\\": \\\"end\\\", \\\"kind\\\": \\\"ModelChanged\\\", \\\"model\\\": {\\\"id\\\": \\\"6299\\\"}, \\\"new\\\": 2015.0}, {\\\"attr\\\": \\\"reset_end\\\", \\\"kind\\\": \\\"ModelChanged\\\", \\\"model\\\": {\\\"id\\\": \\\"6299\\\"}, \\\"new\\\": 2015.0}, {\\\"attr\\\": \\\"start\\\", \\\"kind\\\": \\\"ModelChanged\\\", \\\"model\\\": {\\\"id\\\": \\\"6300\\\"}, \\\"new\\\": 989.0}, {\\\"attr\\\": \\\"reset_start\\\", \\\"kind\\\": \\\"ModelChanged\\\", \\\"model\\\": {\\\"id\\\": \\\"6300\\\"}, \\\"new\\\": 989.0}, {\\\"attr\\\": \\\"end\\\", \\\"kind\\\": \\\"ModelChanged\\\", \\\"model\\\": {\\\"id\\\": \\\"6300\\\"}, \\\"new\\\": 3989.0}, {\\\"attr\\\": \\\"reset_end\\\", \\\"kind\\\": \\\"ModelChanged\\\", \\\"model\\\": {\\\"id\\\": \\\"6300\\\"}, \\\"new\\\": 3989.0}, {\\\"attr\\\": \\\"text\\\", \\\"kind\\\": \\\"ModelChanged\\\", \\\"model\\\": {\\\"id\\\": \\\"6303\\\"}, \\\"new\\\": \\\"Neighborhood: Yerba Buena\\\"}, {\\\"cols\\\": null, \\\"column_source\\\": {\\\"id\\\": \\\"6332\\\"}, \\\"kind\\\": \\\"ColumnDataChanged\\\", \\\"new\\\": {\\\"Avg. Gross Rent\\\": [1239, 1530, 2324, 2971, 3528, 3739], \\\"Avg_full_stop_Gross_Rent\\\": [1239, 1530, 2324, 2971, 3528, 3739], \\\"Year\\\": [2010, 2011, 2012, 2013, 2014, 2015]}}], \\\"references\\\": []}\",\"header\":\"{\\\"msgid\\\": \\\"6423\\\", \\\"msgtype\\\": \\\"PATCH-DOC\\\"}\",\"metadata\":\"{}\"}},\"values\":[\"Alamo Square\"],\"widgets\":{\"6383\":0}},\"id\":\"6395\",\"type\":\"panel.models.state.State\"},{\"attributes\":{\"below\":[{\"id\":\"6311\"}],\"center\":[{\"id\":\"6314\"},{\"id\":\"6318\"}],\"height\":300,\"left\":[{\"id\":\"6315\"}],\"margin\":[5,5,5,5],\"min_border_bottom\":10,\"min_border_left\":10,\"min_border_right\":10,\"min_border_top\":10,\"renderers\":[{\"id\":\"6338\"}],\"sizing_mode\":\"fixed\",\"title\":{\"id\":\"6303\"},\"toolbar\":{\"id\":\"6325\"},\"width\":700,\"x_range\":{\"id\":\"6299\"},\"x_scale\":{\"id\":\"6307\"},\"y_range\":{\"id\":\"6300\"},\"y_scale\":{\"id\":\"6309\"}},\"id\":\"6302\",\"subtype\":\"Figure\",\"type\":\"Plot\"},{\"attributes\":{\"line_color\":\"#30a2da\",\"line_width\":2,\"x\":{\"field\":\"Year\"},\"y\":{\"field\":\"Avg. Gross Rent\"}},\"id\":\"6340\",\"type\":\"Line\"},{\"attributes\":{\"code\":\"\\nvar state = null\\nfor (var root of cb_obj.document.roots()) {\\n  if (root.id == '6395') {\\n    state = root;\\n    break;\\n  }\\n}\\nif (!state) { return; }\\nstate.set_state(cb_obj, cb_obj.value)\\n\"},\"id\":\"6396\",\"type\":\"CustomJS\"},{\"attributes\":{\"text\":\"Neighborhood: Alamo Square\",\"text_color\":\"black\",\"text_font_size\":\"12pt\"},\"id\":\"6303\",\"type\":\"Title\"},{\"attributes\":{\"data_source\":{\"id\":\"6332\"},\"glyph\":{\"id\":\"6335\"},\"hover_glyph\":null,\"muted_glyph\":{\"id\":\"6337\"},\"nonselection_glyph\":{\"id\":\"6336\"},\"selection_glyph\":{\"id\":\"6340\"},\"view\":{\"id\":\"6339\"}},\"id\":\"6338\",\"type\":\"GlyphRenderer\"},{\"attributes\":{\"source\":{\"id\":\"6332\"}},\"id\":\"6339\",\"type\":\"CDSView\"},{\"attributes\":{},\"id\":\"6367\",\"type\":\"UnionRenderers\"},{\"attributes\":{},\"id\":\"6345\",\"type\":\"AllLabels\"},{\"attributes\":{},\"id\":\"6343\",\"type\":\"BasicTickFormatter\"},{\"attributes\":{\"children\":[{\"id\":\"6383\"}],\"css_classes\":[\"panel-widget-box\"],\"margin\":[5,5,5,5],\"name\":\"WidgetBox84258\"},\"id\":\"6382\",\"type\":\"Column\"},{\"attributes\":{},\"id\":\"6319\",\"type\":\"SaveTool\"},{\"attributes\":{\"line_color\":\"#30a2da\",\"line_width\":2,\"x\":{\"field\":\"Year\"},\"y\":{\"field\":\"Avg. Gross Rent\"}},\"id\":\"6335\",\"type\":\"Line\"},{\"attributes\":{},\"id\":\"6320\",\"type\":\"PanTool\"},{\"attributes\":{\"line_alpha\":0.2,\"line_color\":\"#30a2da\",\"line_width\":2,\"x\":{\"field\":\"Year\"},\"y\":{\"field\":\"Avg. Gross Rent\"}},\"id\":\"6337\",\"type\":\"Line\"},{\"attributes\":{\"end\":2016.0,\"reset_end\":2016.0,\"reset_start\":2010.0,\"start\":2010.0,\"tags\":[[[\"Year\",\"Year\",null]]]},\"id\":\"6299\",\"type\":\"Range1d\"},{\"attributes\":{},\"id\":\"6346\",\"type\":\"BasicTickFormatter\"},{\"attributes\":{},\"id\":\"6323\",\"type\":\"ResetTool\"},{\"attributes\":{},\"id\":\"6321\",\"type\":\"WheelZoomTool\"},{\"attributes\":{\"js_property_callbacks\":{\"change:value\":[{\"id\":\"6396\"}]},\"margin\":[20,20,20,20],\"min_width\":250,\"options\":[\"Alamo Square\",\"Anza Vista\",\"Bayview\",\"Bayview Heights\",\"Bernal Heights \",\"Buena Vista Park\",\"Central Richmond\",\"Central Sunset\",\"Clarendon Heights\",\"Corona Heights\",\"Cow Hollow\",\"Croker Amazon\",\"Diamond Heights\",\"Downtown \",\"Duboce Triangle\",\"Eureka Valley/Dolores Heights\",\"Excelsior\",\"Financial District North\",\"Financial District South\",\"Forest Knolls\",\"Glen Park\",\"Golden Gate Heights\",\"Haight Ashbury\",\"Hayes Valley\",\"Hunters Point\",\"Ingleside \",\"Ingleside Heights\",\"Inner Mission\",\"Inner Parkside\",\"Inner Richmond\",\"Inner Sunset\",\"Jordan Park/Laurel Heights\",\"Lake --The Presidio\",\"Lone Mountain\",\"Lower Pacific Heights\",\"Marina\",\"Merced Heights\",\"Midtown Terrace\",\"Miraloma Park\",\"Mission Bay\",\"Mission Dolores\",\"Mission Terrace\",\"Nob Hill\",\"Noe Valley\",\"North Beach\",\"North Waterfront\",\"Oceanview\",\"Outer Mission\",\"Outer Parkside\",\"Outer Richmond \",\"Outer Sunset\",\"Pacific Heights\",\"Park North\",\"Parkside\",\"Parnassus/Ashbury Heights\",\"Portola\",\"Potrero Hill\",\"Presidio Heights\",\"Russian Hill\",\"Silver Terrace\",\"South Beach\",\"South of Market\",\"Sunnyside\",\"Telegraph Hill\",\"Twin Peaks\",\"Union Square District\",\"Van Ness/ Civic Center\",\"Visitacion Valley\",\"West Portal\",\"Western Addition\",\"Westwood Highlands\",\"Westwood Park\",\"Yerba Buena\"],\"title\":\"Neighborhood\",\"value\":\"Alamo Square\",\"width\":250},\"id\":\"6383\",\"type\":\"Select\"},{\"attributes\":{\"axis_label\":\"Year\",\"formatter\":{\"id\":\"6343\"},\"major_label_policy\":{\"id\":\"6342\"},\"ticker\":{\"id\":\"6312\"}},\"id\":\"6311\",\"type\":\"LinearAxis\"},{\"attributes\":{\"overlay\":{\"id\":\"6324\"}},\"id\":\"6322\",\"type\":\"BoxZoomTool\"},{\"attributes\":{},\"id\":\"6342\",\"type\":\"AllLabels\"},{\"attributes\":{},\"id\":\"6312\",\"type\":\"BasicTicker\"},{\"attributes\":{},\"id\":\"6307\",\"type\":\"LinearScale\"},{\"attributes\":{\"data\":{\"Avg. Gross Rent\":[1239,1530,2324,2971,3528,3739,4390],\"Avg_full_stop_Gross_Rent\":[1239,1530,2324,2971,3528,3739,4390],\"Year\":[2010,2011,2012,2013,2014,2015,2016]},\"selected\":{\"id\":\"6333\"},\"selection_policy\":{\"id\":\"6367\"}},\"id\":\"6332\",\"type\":\"ColumnDataSource\"},{\"attributes\":{},\"id\":\"6309\",\"type\":\"LinearScale\"}],\"root_ids\":[\"6297\",\"6395\"]},\"title\":\"Bokeh Application\",\"version\":\"2.3.2\"}};\n",
       "    var render_items = [{\"docid\":\"4b77c94e-4149-449c-89cb-85d49e37f43a\",\"root_ids\":[\"6297\"],\"roots\":{\"6297\":\"77fc61ec-d2de-47b3-9c70-c3313e16a2de\"}}];\n",
       "    root.Bokeh.embed.embed_items_notebook(docs_json, render_items);\n",
       "  }\n",
       "  if (root.Bokeh !== undefined && root.Bokeh.Panel !== undefined && root['Plotly'] !== undefined ) {\n",
       "    embed_document(root);\n",
       "  } else {\n",
       "    var attempts = 0;\n",
       "    var timer = setInterval(function(root) {\n",
       "      if (root.Bokeh !== undefined && root.Bokeh.Panel !== undefined && root['Plotly'] !== undefined) {\n",
       "        clearInterval(timer);\n",
       "        embed_document(root);\n",
       "      } else if (document.readyState == \"complete\") {\n",
       "        attempts++;\n",
       "        if (attempts > 100) {\n",
       "          clearInterval(timer);\n",
       "          console.log(\"Bokeh: ERROR: Unable to run BokehJS code because BokehJS library is missing\");\n",
       "        }\n",
       "      }\n",
       "    }, 10, root)\n",
       "  }\n",
       "})(window);</script>"
      ]
     },
     "metadata": {
      "application/vnd.holoviews_exec.v0+json": {
       "id": "6297"
      }
     },
     "execution_count": 89
    }
   ],
   "metadata": {}
  },
  {
   "cell_type": "markdown",
   "source": [
    "## The Top 10 Most Expensive Neighborhoods\n",
    "\n",
    "In this section, you will need to calculate the mean sale price per square foot for each neighborhood and then sort the values to obtain the top 10 most expensive neighborhoods on average. Plot the results as a bar chart."
   ],
   "metadata": {}
  },
  {
   "cell_type": "code",
   "execution_count": 90,
   "source": [
    "# Getting the data from the top 10 expensive neighborhoods to own\r\n",
    "top10_neighborhoods = sfo_data.groupby('Neighborhood')['Sale Price/SqFt']\\\r\n",
    "                              .mean()\\\r\n",
    "                              .astype(int)\\\r\n",
    "                              .to_frame()\\\r\n",
    "                              .rename(columns={'Sale Price/SqFt':'Avg. Sale Price/SqFt'})\\\r\n",
    "                              .sort_values('Avg. Sale Price/SqFt',ascending=False)\\\r\n",
    "                              .head(10)\r\n",
    "print(top10_neighborhoods)\r\n",
    "\r\n",
    "plot_top10_neighborhoods = top10_neighborhoods.hvplot.bar(\r\n",
    "    x='Neighborhood',\r\n",
    "    ylabel='Avg. Sale Price per Square Foot',\r\n",
    "    rot=90,\r\n",
    "    title='Top 10 Expensive Neighborhoods in SFO',\r\n",
    "    width=700,\r\n",
    "    height=400,\r\n",
    "    color='blue'\r\n",
    ")\r\n",
    "plot_top10_neighborhoods\r\n"
   ],
   "outputs": [
    {
     "output_type": "stream",
     "name": "stdout",
     "text": [
      "                               Avg. Sale Price/SqFt\n",
      "Neighborhood                                       \n",
      "Union Square District                           903\n",
      "Merced Heights                                  788\n",
      "Miraloma Park                                   779\n",
      "Pacific Heights                                 689\n",
      "Westwood Park                                   686\n",
      "Telegraph Hill                                  676\n",
      "Cow Hollow                                      665\n",
      "Potrero Hill                                    661\n",
      "South Beach                                     649\n",
      "Eureka Valley/Dolores Heights                   641\n"
     ]
    },
    {
     "output_type": "display_data",
     "data": {},
     "metadata": {}
    },
    {
     "output_type": "execute_result",
     "data": {
      "application/vnd.holoviews_exec.v0+json": "",
      "text/plain": [
       ":Bars   [Neighborhood]   (Avg. Sale Price/SqFt)"
      ],
      "text/html": [
       "<div id='6958'>\n",
       "\n",
       "\n",
       "\n",
       "\n",
       "\n",
       "  <div class=\"bk-root\" id=\"c0fdde45-2b9c-46a0-8472-4a91abe739d9\" data-root-id=\"6958\"></div>\n",
       "</div>\n",
       "<script type=\"application/javascript\">(function(root) {\n",
       "  function embed_document(root) {\n",
       "    var docs_json = {\"e739f46c-6989-4c17-be90-96baa906c97c\":{\"defs\":[],\"roots\":{\"references\":[{\"attributes\":{},\"id\":\"6970\",\"type\":\"LinearScale\"},{\"attributes\":{},\"id\":\"7003\",\"type\":\"CategoricalTickFormatter\"},{\"attributes\":{\"callback\":null,\"renderers\":[{\"id\":\"6998\"}],\"tags\":[\"hv_created\"],\"tooltips\":[[\"Neighborhood\",\"@{Neighborhood}\"],[\"Avg. Sale Price/SqFt\",\"@{Avg_full_stop_Sale_Price_over_SqFt}\"]]},\"id\":\"6962\",\"type\":\"HoverTool\"},{\"attributes\":{\"bottom\":{\"value\":0},\"fill_alpha\":{\"value\":1.0},\"fill_color\":{\"value\":\"blue\"},\"hatch_alpha\":{\"value\":1.0},\"hatch_color\":{\"value\":\"black\"},\"hatch_scale\":{\"value\":12.0},\"hatch_weight\":{\"value\":1.0},\"line_alpha\":{\"value\":1.0},\"line_cap\":{\"value\":\"butt\"},\"line_color\":{\"value\":\"black\"},\"line_dash\":{\"value\":[]},\"line_dash_offset\":{\"value\":0},\"line_join\":{\"value\":\"bevel\"},\"line_width\":{\"value\":1},\"top\":{\"field\":\"Avg_full_stop_Sale_Price_over_SqFt\"},\"width\":{\"value\":0.8},\"x\":{\"field\":\"Neighborhood\"}},\"id\":\"7000\",\"type\":\"VBar\"},{\"attributes\":{},\"id\":\"6973\",\"type\":\"CategoricalTicker\"},{\"attributes\":{\"children\":[{\"id\":\"6959\"},{\"id\":\"6963\"},{\"id\":\"7027\"}],\"margin\":[0,0,0,0],\"name\":\"Row88415\",\"tags\":[\"embedded\"]},\"id\":\"6958\",\"type\":\"Row\"},{\"attributes\":{\"axis\":{\"id\":\"6975\"},\"dimension\":1,\"grid_line_color\":null,\"ticker\":null},\"id\":\"6978\",\"type\":\"Grid\"},{\"attributes\":{},\"id\":\"6976\",\"type\":\"BasicTicker\"},{\"attributes\":{\"axis_label\":\"Avg. Sale Price per Square Foot\",\"formatter\":{\"id\":\"7006\"},\"major_label_policy\":{\"id\":\"7005\"},\"ticker\":{\"id\":\"6976\"}},\"id\":\"6975\",\"type\":\"LinearAxis\"},{\"attributes\":{\"margin\":[5,5,5,5],\"name\":\"HSpacer88419\",\"sizing_mode\":\"stretch_width\"},\"id\":\"6959\",\"type\":\"Spacer\"},{\"attributes\":{},\"id\":\"7015\",\"type\":\"UnionRenderers\"},{\"attributes\":{\"factors\":[\"Union Square District\",\"Merced Heights\",\"Miraloma Park\",\"Pacific Heights\",\"Westwood Park\",\"Telegraph Hill\",\"Cow Hollow\",\"Potrero Hill\",\"South Beach\",\"Eureka Valley/Dolores Heights\"],\"tags\":[[[\"Neighborhood\",\"Neighborhood\",null]]]},\"id\":\"6960\",\"type\":\"FactorRange\"},{\"attributes\":{\"active_multi\":null,\"tools\":[{\"id\":\"6962\"},{\"id\":\"6979\"},{\"id\":\"6980\"},{\"id\":\"6981\"},{\"id\":\"6982\"},{\"id\":\"6983\"}]},\"id\":\"6985\",\"type\":\"Toolbar\"},{\"attributes\":{},\"id\":\"7002\",\"type\":\"AllLabels\"},{\"attributes\":{},\"id\":\"7006\",\"type\":\"BasicTickFormatter\"},{\"attributes\":{\"bottom_units\":\"screen\",\"fill_alpha\":0.5,\"fill_color\":\"lightgrey\",\"left_units\":\"screen\",\"level\":\"overlay\",\"line_alpha\":1.0,\"line_color\":\"black\",\"line_dash\":[4,4],\"line_width\":2,\"right_units\":\"screen\",\"syncable\":false,\"top_units\":\"screen\"},\"id\":\"6984\",\"type\":\"BoxAnnotation\"},{\"attributes\":{},\"id\":\"7005\",\"type\":\"AllLabels\"},{\"attributes\":{\"data\":{\"Avg_full_stop_Sale_Price_over_SqFt\":{\"__ndarray__\":\"hwMAABQDAAALAwAAsQIAAK4CAACkAgAAmQIAAJUCAACJAgAAgQIAAA==\",\"dtype\":\"int32\",\"order\":\"little\",\"shape\":[10]},\"Neighborhood\":[\"Union Square District\",\"Merced Heights\",\"Miraloma Park\",\"Pacific Heights\",\"Westwood Park\",\"Telegraph Hill\",\"Cow Hollow\",\"Potrero Hill\",\"South Beach\",\"Eureka Valley/Dolores Heights\"]},\"selected\":{\"id\":\"6993\"},\"selection_policy\":{\"id\":\"7015\"}},\"id\":\"6992\",\"type\":\"ColumnDataSource\"},{\"attributes\":{\"fill_color\":{\"value\":\"blue\"},\"top\":{\"field\":\"Avg_full_stop_Sale_Price_over_SqFt\"},\"width\":{\"value\":0.8},\"x\":{\"field\":\"Neighborhood\"}},\"id\":\"6995\",\"type\":\"VBar\"},{\"attributes\":{\"text\":\"Top 10 Expensive Neighborhoods in SFO\",\"text_color\":\"black\",\"text_font_size\":\"12pt\"},\"id\":\"6964\",\"type\":\"Title\"},{\"attributes\":{\"fill_alpha\":{\"value\":0.1},\"fill_color\":{\"value\":\"blue\"},\"line_alpha\":{\"value\":0.1},\"top\":{\"field\":\"Avg_full_stop_Sale_Price_over_SqFt\"},\"width\":{\"value\":0.8},\"x\":{\"field\":\"Neighborhood\"}},\"id\":\"6996\",\"type\":\"VBar\"},{\"attributes\":{\"margin\":[5,5,5,5],\"name\":\"HSpacer88420\",\"sizing_mode\":\"stretch_width\"},\"id\":\"7027\",\"type\":\"Spacer\"},{\"attributes\":{\"below\":[{\"id\":\"6972\"}],\"center\":[{\"id\":\"6974\"},{\"id\":\"6978\"}],\"height\":400,\"left\":[{\"id\":\"6975\"}],\"margin\":[5,5,5,5],\"min_border_bottom\":10,\"min_border_left\":10,\"min_border_right\":10,\"min_border_top\":10,\"renderers\":[{\"id\":\"6998\"}],\"sizing_mode\":\"fixed\",\"title\":{\"id\":\"6964\"},\"toolbar\":{\"id\":\"6985\"},\"width\":700,\"x_range\":{\"id\":\"6960\"},\"x_scale\":{\"id\":\"6968\"},\"y_range\":{\"id\":\"6961\"},\"y_scale\":{\"id\":\"6970\"}},\"id\":\"6963\",\"subtype\":\"Figure\",\"type\":\"Plot\"},{\"attributes\":{\"fill_alpha\":{\"value\":0.2},\"fill_color\":{\"value\":\"blue\"},\"line_alpha\":{\"value\":0.2},\"top\":{\"field\":\"Avg_full_stop_Sale_Price_over_SqFt\"},\"width\":{\"value\":0.8},\"x\":{\"field\":\"Neighborhood\"}},\"id\":\"6997\",\"type\":\"VBar\"},{\"attributes\":{\"data_source\":{\"id\":\"6992\"},\"glyph\":{\"id\":\"6995\"},\"hover_glyph\":null,\"muted_glyph\":{\"id\":\"6997\"},\"nonselection_glyph\":{\"id\":\"6996\"},\"selection_glyph\":{\"id\":\"7000\"},\"view\":{\"id\":\"6999\"}},\"id\":\"6998\",\"type\":\"GlyphRenderer\"},{\"attributes\":{},\"id\":\"6979\",\"type\":\"SaveTool\"},{\"attributes\":{},\"id\":\"6993\",\"type\":\"Selection\"},{\"attributes\":{},\"id\":\"6980\",\"type\":\"PanTool\"},{\"attributes\":{},\"id\":\"6983\",\"type\":\"ResetTool\"},{\"attributes\":{},\"id\":\"6981\",\"type\":\"WheelZoomTool\"},{\"attributes\":{\"axis_label\":\"Neighborhood\",\"formatter\":{\"id\":\"7003\"},\"major_label_orientation\":1.5707963267948966,\"major_label_policy\":{\"id\":\"7002\"},\"ticker\":{\"id\":\"6973\"}},\"id\":\"6972\",\"type\":\"CategoricalAxis\"},{\"attributes\":{\"overlay\":{\"id\":\"6984\"}},\"id\":\"6982\",\"type\":\"BoxZoomTool\"},{\"attributes\":{\"axis\":{\"id\":\"6972\"},\"grid_line_color\":null,\"ticker\":null},\"id\":\"6974\",\"type\":\"Grid\"},{\"attributes\":{\"source\":{\"id\":\"6992\"}},\"id\":\"6999\",\"type\":\"CDSView\"},{\"attributes\":{},\"id\":\"6968\",\"type\":\"CategoricalScale\"},{\"attributes\":{\"end\":929.2,\"reset_end\":929.2,\"reset_start\":0.0,\"tags\":[[[\"Avg. Sale Price/SqFt\",\"Avg. Sale Price/SqFt\",null]]]},\"id\":\"6961\",\"type\":\"Range1d\"}],\"root_ids\":[\"6958\"]},\"title\":\"Bokeh Application\",\"version\":\"2.3.2\"}};\n",
       "    var render_items = [{\"docid\":\"e739f46c-6989-4c17-be90-96baa906c97c\",\"root_ids\":[\"6958\"],\"roots\":{\"6958\":\"c0fdde45-2b9c-46a0-8472-4a91abe739d9\"}}];\n",
       "    root.Bokeh.embed.embed_items_notebook(docs_json, render_items);\n",
       "  }\n",
       "  if (root.Bokeh !== undefined && root.Bokeh.Panel !== undefined && root['Plotly'] !== undefined ) {\n",
       "    embed_document(root);\n",
       "  } else {\n",
       "    var attempts = 0;\n",
       "    var timer = setInterval(function(root) {\n",
       "      if (root.Bokeh !== undefined && root.Bokeh.Panel !== undefined && root['Plotly'] !== undefined) {\n",
       "        clearInterval(timer);\n",
       "        embed_document(root);\n",
       "      } else if (document.readyState == \"complete\") {\n",
       "        attempts++;\n",
       "        if (attempts > 100) {\n",
       "          clearInterval(timer);\n",
       "          console.log(\"Bokeh: ERROR: Unable to run BokehJS code because BokehJS library is missing\");\n",
       "        }\n",
       "      }\n",
       "    }, 10, root)\n",
       "  }\n",
       "})(window);</script>"
      ]
     },
     "metadata": {
      "application/vnd.holoviews_exec.v0+json": {
       "id": "6958"
      }
     },
     "execution_count": 90
    }
   ],
   "metadata": {}
  },
  {
   "cell_type": "markdown",
   "source": [
    "- - - "
   ],
   "metadata": {}
  },
  {
   "cell_type": "markdown",
   "source": [
    "## Comparing cost to purchase versus rental income\n",
    "\n",
    "In this section, you will use `hvplot` to create an interactive visualization with a dropdown selector for the neighborhood. This visualization will feature a side-by-side comparison of average price per square foot versus average montly rent by year.  \n",
    "\n",
    "**Hint:** Use the `hvplot` parameter, `groupby`, to create a dropdown selector for the neighborhood."
   ],
   "metadata": {}
  },
  {
   "cell_type": "code",
   "execution_count": 91,
   "source": [
    "# Fetch the previously generated DataFrame that was grouped by year and neighborhood\r\n",
    "sfo_neighborhood"
   ],
   "outputs": [
    {
     "output_type": "execute_result",
     "data": {
      "text/plain": [
       "                Neighborhood  Sale Price/SqFt  Housing Units  Gross Rent\n",
       "Year                                                                    \n",
       "2010            Alamo Square              291         372560        1239\n",
       "2010              Anza Vista              267         372560        1239\n",
       "2010                 Bayview              170         372560        1239\n",
       "2010        Buena Vista Park              347         372560        1239\n",
       "2010        Central Richmond              319         372560        1239\n",
       "...                      ...              ...            ...         ...\n",
       "2016          Telegraph Hill              903         384242        4390\n",
       "2016              Twin Peaks              970         384242        4390\n",
       "2016  Van Ness/ Civic Center              552         384242        4390\n",
       "2016       Visitacion Valley              328         384242        4390\n",
       "2016           Westwood Park              631         384242        4390\n",
       "\n",
       "[397 rows x 4 columns]"
      ],
      "text/html": [
       "<div>\n",
       "<style scoped>\n",
       "    .dataframe tbody tr th:only-of-type {\n",
       "        vertical-align: middle;\n",
       "    }\n",
       "\n",
       "    .dataframe tbody tr th {\n",
       "        vertical-align: top;\n",
       "    }\n",
       "\n",
       "    .dataframe thead th {\n",
       "        text-align: right;\n",
       "    }\n",
       "</style>\n",
       "<table border=\"1\" class=\"dataframe\">\n",
       "  <thead>\n",
       "    <tr style=\"text-align: right;\">\n",
       "      <th></th>\n",
       "      <th>Neighborhood</th>\n",
       "      <th>Sale Price/SqFt</th>\n",
       "      <th>Housing Units</th>\n",
       "      <th>Gross Rent</th>\n",
       "    </tr>\n",
       "    <tr>\n",
       "      <th>Year</th>\n",
       "      <th></th>\n",
       "      <th></th>\n",
       "      <th></th>\n",
       "      <th></th>\n",
       "    </tr>\n",
       "  </thead>\n",
       "  <tbody>\n",
       "    <tr>\n",
       "      <th>2010</th>\n",
       "      <td>Alamo Square</td>\n",
       "      <td>291</td>\n",
       "      <td>372560</td>\n",
       "      <td>1239</td>\n",
       "    </tr>\n",
       "    <tr>\n",
       "      <th>2010</th>\n",
       "      <td>Anza Vista</td>\n",
       "      <td>267</td>\n",
       "      <td>372560</td>\n",
       "      <td>1239</td>\n",
       "    </tr>\n",
       "    <tr>\n",
       "      <th>2010</th>\n",
       "      <td>Bayview</td>\n",
       "      <td>170</td>\n",
       "      <td>372560</td>\n",
       "      <td>1239</td>\n",
       "    </tr>\n",
       "    <tr>\n",
       "      <th>2010</th>\n",
       "      <td>Buena Vista Park</td>\n",
       "      <td>347</td>\n",
       "      <td>372560</td>\n",
       "      <td>1239</td>\n",
       "    </tr>\n",
       "    <tr>\n",
       "      <th>2010</th>\n",
       "      <td>Central Richmond</td>\n",
       "      <td>319</td>\n",
       "      <td>372560</td>\n",
       "      <td>1239</td>\n",
       "    </tr>\n",
       "    <tr>\n",
       "      <th>...</th>\n",
       "      <td>...</td>\n",
       "      <td>...</td>\n",
       "      <td>...</td>\n",
       "      <td>...</td>\n",
       "    </tr>\n",
       "    <tr>\n",
       "      <th>2016</th>\n",
       "      <td>Telegraph Hill</td>\n",
       "      <td>903</td>\n",
       "      <td>384242</td>\n",
       "      <td>4390</td>\n",
       "    </tr>\n",
       "    <tr>\n",
       "      <th>2016</th>\n",
       "      <td>Twin Peaks</td>\n",
       "      <td>970</td>\n",
       "      <td>384242</td>\n",
       "      <td>4390</td>\n",
       "    </tr>\n",
       "    <tr>\n",
       "      <th>2016</th>\n",
       "      <td>Van Ness/ Civic Center</td>\n",
       "      <td>552</td>\n",
       "      <td>384242</td>\n",
       "      <td>4390</td>\n",
       "    </tr>\n",
       "    <tr>\n",
       "      <th>2016</th>\n",
       "      <td>Visitacion Valley</td>\n",
       "      <td>328</td>\n",
       "      <td>384242</td>\n",
       "      <td>4390</td>\n",
       "    </tr>\n",
       "    <tr>\n",
       "      <th>2016</th>\n",
       "      <td>Westwood Park</td>\n",
       "      <td>631</td>\n",
       "      <td>384242</td>\n",
       "      <td>4390</td>\n",
       "    </tr>\n",
       "  </tbody>\n",
       "</table>\n",
       "<p>397 rows × 4 columns</p>\n",
       "</div>"
      ]
     },
     "metadata": {},
     "execution_count": 91
    }
   ],
   "metadata": {}
  },
  {
   "cell_type": "code",
   "execution_count": 92,
   "source": [
    "# Plotting the data from the top 10 expensive neighborhood\r\n",
    "## The image in the READ_ME showed all neighborhoods plotted, so I plotted it similarly here, with the top 10 after\r\n",
    "\r\n",
    "plot_compare_neighborhoods_rent_sales = sfo_neighborhood.hvplot.bar(\r\n",
    "    dynamic=False,\r\n",
    "    height=400,\r\n",
    "    width=700,\r\n",
    "    title='Top 10 Expensive Neighborhoods in SFO',\r\n",
    "    x='Year',\r\n",
    "    xlabel='Neighborhood',\r\n",
    "    y=['Gross Rent','Sale Price/SqFt'],\r\n",
    "    ylabel='Num. Housing Units',\r\n",
    "    groupby='Neighborhood',\r\n",
    "    rot=90,\r\n",
    "    bar_width=.7).opts(\r\n",
    "        padding=(0,.2),\r\n",
    "        ylim=(0,4800),\r\n",
    "        fontsize={\r\n",
    "            'title':10,\r\n",
    "            'xlabel':8\r\n",
    "        },\r\n",
    "    )\r\n",
    "    \r\n",
    "plot_compare_neighborhoods_rent_sales"
   ],
   "outputs": [
    {
     "output_type": "display_data",
     "data": {},
     "metadata": {}
    },
    {
     "output_type": "execute_result",
     "data": {
      "application/vnd.holoviews_exec.v0+json": "",
      "text/plain": [
       ":HoloMap   [Neighborhood]\n",
       "   :Bars   [Year,Variable]   (value)"
      ],
      "text/html": [
       "<div id='7079'>\n",
       "\n",
       "\n",
       "\n",
       "\n",
       "\n",
       "  <div class=\"bk-root\" id=\"4e8c0e62-4755-438d-acf7-6165156b8315\" data-root-id=\"7079\"></div>\n",
       "</div>\n",
       "<script type=\"application/javascript\">(function(root) {\n",
       "  function embed_document(root) {\n",
       "    var docs_json = {\"f67ee174-a948-4521-8964-af08cbe92c4a\":{\"defs\":[],\"roots\":{\"references\":[{\"attributes\":{\"fill_alpha\":{\"value\":0.1},\"fill_color\":{\"field\":\"Variable\",\"transform\":{\"id\":\"7113\"}},\"line_alpha\":{\"value\":0.1},\"top\":{\"field\":\"value\"},\"width\":{\"value\":0.7},\"x\":{\"field\":\"xoffsets\"}},\"id\":\"7118\",\"type\":\"VBar\"},{\"attributes\":{\"bottom_units\":\"screen\",\"fill_alpha\":0.5,\"fill_color\":\"lightgrey\",\"left_units\":\"screen\",\"level\":\"overlay\",\"line_alpha\":1.0,\"line_color\":\"black\",\"line_dash\":[4,4],\"line_width\":2,\"right_units\":\"screen\",\"syncable\":false,\"top_units\":\"screen\"},\"id\":\"7105\",\"type\":\"BoxAnnotation\"},{\"attributes\":{\"factors\":[\"Gross Rent\",\"Sale Price/SqFt\"],\"palette\":[\"#30a2da\",\"#fc4f30\"]},\"id\":\"7113\",\"type\":\"CategoricalColorMapper\"},{\"attributes\":{\"code\":\"\\nvar state = null\\nfor (var root of cb_obj.document.roots()) {\\n  if (root.id == '7177') {\\n    state = root;\\n    break;\\n  }\\n}\\nif (!state) { return; }\\nstate.set_state(cb_obj, cb_obj.value)\\n\"},\"id\":\"7178\",\"type\":\"CustomJS\"},{\"attributes\":{\"source\":{\"id\":\"7114\"}},\"id\":\"7121\",\"type\":\"CDSView\"},{\"attributes\":{\"margin\":[5,5,5,5],\"name\":\"VSpacer94942\",\"sizing_mode\":\"stretch_height\"},\"id\":\"7166\",\"type\":\"Spacer\"},{\"attributes\":{\"text\":\"Top 10 Expensive Neighborhoods in SFO\",\"text_color\":\"black\",\"text_font_size\":\"10pt\"},\"id\":\"7085\",\"type\":\"Title\"},{\"attributes\":{\"data\":{\"Variable\":[\"Gross Rent\",\"Gross Rent\",\"Gross Rent\",\"Gross Rent\",\"Gross Rent\",\"Gross Rent\",\"Gross Rent\",\"Sale Price/SqFt\",\"Sale Price/SqFt\",\"Sale Price/SqFt\",\"Sale Price/SqFt\",\"Sale Price/SqFt\",\"Sale Price/SqFt\",\"Sale Price/SqFt\"],\"Year\":[\"2010\",\"2011\",\"2012\",\"2013\",\"2014\",\"2015\",\"2016\",\"2010\",\"2011\",\"2012\",\"2013\",\"2014\",\"2015\",\"2016\"],\"value\":[1239,1530,2324,2971,3528,3739,4390,291,272,183,387,484,602,340],\"xoffsets\":[[\"2010\",\"Gross Rent\"],[\"2011\",\"Gross Rent\"],[\"2012\",\"Gross Rent\"],[\"2013\",\"Gross Rent\"],[\"2014\",\"Gross Rent\"],[\"2015\",\"Gross Rent\"],[\"2016\",\"Gross Rent\"],[\"2010\",\"Sale Price/SqFt\"],[\"2011\",\"Sale Price/SqFt\"],[\"2012\",\"Sale Price/SqFt\"],[\"2013\",\"Sale Price/SqFt\"],[\"2014\",\"Sale Price/SqFt\"],[\"2015\",\"Sale Price/SqFt\"],[\"2016\",\"Sale Price/SqFt\"]]},\"selected\":{\"id\":\"7115\"},\"selection_policy\":{\"id\":\"7149\"}},\"id\":\"7114\",\"type\":\"ColumnDataSource\"},{\"attributes\":{\"bottom\":{\"value\":0},\"fill_alpha\":{\"value\":1.0},\"fill_color\":{\"field\":\"Variable\",\"transform\":{\"id\":\"7113\"}},\"hatch_alpha\":{\"value\":1.0},\"hatch_color\":{\"value\":\"black\"},\"hatch_scale\":{\"value\":12.0},\"hatch_weight\":{\"value\":1.0},\"line_alpha\":{\"value\":1.0},\"line_cap\":{\"value\":\"butt\"},\"line_color\":{\"value\":\"black\"},\"line_dash\":{\"value\":[]},\"line_dash_offset\":{\"value\":0},\"line_join\":{\"value\":\"bevel\"},\"line_width\":{\"value\":1},\"top\":{\"field\":\"value\"},\"width\":{\"value\":0.7},\"x\":{\"field\":\"xoffsets\"}},\"id\":\"7122\",\"type\":\"VBar\"},{\"attributes\":{\"margin\":[5,5,5,5],\"name\":\"VSpacer94941\",\"sizing_mode\":\"stretch_height\"},\"id\":\"7163\",\"type\":\"Spacer\"},{\"attributes\":{\"below\":[{\"id\":\"7093\"}],\"center\":[{\"id\":\"7095\"},{\"id\":\"7099\"}],\"height\":400,\"left\":[{\"id\":\"7096\"}],\"margin\":[5,5,5,5],\"min_border_bottom\":10,\"min_border_left\":10,\"min_border_right\":10,\"min_border_top\":10,\"renderers\":[{\"id\":\"7120\"}],\"sizing_mode\":\"fixed\",\"title\":{\"id\":\"7085\"},\"toolbar\":{\"id\":\"7106\"},\"width\":700,\"x_range\":{\"id\":\"7081\"},\"x_scale\":{\"id\":\"7089\"},\"y_range\":{\"id\":\"7082\"},\"y_scale\":{\"id\":\"7091\"}},\"id\":\"7084\",\"subtype\":\"Figure\",\"type\":\"Plot\"},{\"attributes\":{\"margin\":[5,5,5,5],\"name\":\"HSpacer94945\",\"sizing_mode\":\"stretch_width\"},\"id\":\"7161\",\"type\":\"Spacer\"},{\"attributes\":{},\"id\":\"7149\",\"type\":\"UnionRenderers\"},{\"attributes\":{\"state\":{\"Alamo Square\":{\"content\":\"{\\\"events\\\": [{\\\"attr\\\": \\\"factors\\\", \\\"kind\\\": \\\"ModelChanged\\\", \\\"model\\\": {\\\"id\\\": \\\"7081\\\"}, \\\"new\\\": [[\\\"2010\\\", \\\"Gross Rent\\\"], [\\\"2010\\\", \\\"Sale Price/SqFt\\\"], [\\\"2011\\\", \\\"Gross Rent\\\"], [\\\"2011\\\", \\\"Sale Price/SqFt\\\"], [\\\"2012\\\", \\\"Gross Rent\\\"], [\\\"2012\\\", \\\"Sale Price/SqFt\\\"], [\\\"2013\\\", \\\"Gross Rent\\\"], [\\\"2013\\\", \\\"Sale Price/SqFt\\\"], [\\\"2014\\\", \\\"Gross Rent\\\"], [\\\"2014\\\", \\\"Sale Price/SqFt\\\"], [\\\"2015\\\", \\\"Gross Rent\\\"], [\\\"2015\\\", \\\"Sale Price/SqFt\\\"], [\\\"2016\\\", \\\"Gross Rent\\\"], [\\\"2016\\\", \\\"Sale Price/SqFt\\\"]]}, {\\\"cols\\\": null, \\\"column_source\\\": {\\\"id\\\": \\\"7114\\\"}, \\\"kind\\\": \\\"ColumnDataChanged\\\", \\\"new\\\": {\\\"Variable\\\": [\\\"Gross Rent\\\", \\\"Gross Rent\\\", \\\"Gross Rent\\\", \\\"Gross Rent\\\", \\\"Gross Rent\\\", \\\"Gross Rent\\\", \\\"Gross Rent\\\", \\\"Sale Price/SqFt\\\", \\\"Sale Price/SqFt\\\", \\\"Sale Price/SqFt\\\", \\\"Sale Price/SqFt\\\", \\\"Sale Price/SqFt\\\", \\\"Sale Price/SqFt\\\", \\\"Sale Price/SqFt\\\"], \\\"Year\\\": [\\\"2010\\\", \\\"2011\\\", \\\"2012\\\", \\\"2013\\\", \\\"2014\\\", \\\"2015\\\", \\\"2016\\\", \\\"2010\\\", \\\"2011\\\", \\\"2012\\\", \\\"2013\\\", \\\"2014\\\", \\\"2015\\\", \\\"2016\\\"], \\\"value\\\": [1239, 1530, 2324, 2971, 3528, 3739, 4390, 291, 272, 183, 387, 484, 602, 340], \\\"xoffsets\\\": [[\\\"2010\\\", \\\"Gross Rent\\\"], [\\\"2011\\\", \\\"Gross Rent\\\"], [\\\"2012\\\", \\\"Gross Rent\\\"], [\\\"2013\\\", \\\"Gross Rent\\\"], [\\\"2014\\\", \\\"Gross Rent\\\"], [\\\"2015\\\", \\\"Gross Rent\\\"], [\\\"2016\\\", \\\"Gross Rent\\\"], [\\\"2010\\\", \\\"Sale Price/SqFt\\\"], [\\\"2011\\\", \\\"Sale Price/SqFt\\\"], [\\\"2012\\\", \\\"Sale Price/SqFt\\\"], [\\\"2013\\\", \\\"Sale Price/SqFt\\\"], [\\\"2014\\\", \\\"Sale Price/SqFt\\\"], [\\\"2015\\\", \\\"Sale Price/SqFt\\\"], [\\\"2016\\\", \\\"Sale Price/SqFt\\\"]]}}], \\\"references\\\": []}\",\"header\":\"{\\\"msgid\\\": \\\"7709\\\", \\\"msgtype\\\": \\\"PATCH-DOC\\\"}\",\"metadata\":\"{}\"},\"Anza Vista\":{\"content\":\"{\\\"events\\\": [{\\\"attr\\\": \\\"factors\\\", \\\"kind\\\": \\\"ModelChanged\\\", \\\"model\\\": {\\\"id\\\": \\\"7081\\\"}, \\\"new\\\": [[\\\"2010\\\", \\\"Gross Rent\\\"], [\\\"2010\\\", \\\"Sale Price/SqFt\\\"], [\\\"2012\\\", \\\"Gross Rent\\\"], [\\\"2012\\\", \\\"Sale Price/SqFt\\\"], [\\\"2013\\\", \\\"Gross Rent\\\"], [\\\"2013\\\", \\\"Sale Price/SqFt\\\"], [\\\"2014\\\", \\\"Gross Rent\\\"], [\\\"2014\\\", \\\"Sale Price/SqFt\\\"], [\\\"2015\\\", \\\"Gross Rent\\\"], [\\\"2015\\\", \\\"Sale Price/SqFt\\\"], [\\\"2016\\\", \\\"Gross Rent\\\"], [\\\"2016\\\", \\\"Sale Price/SqFt\\\"]]}, {\\\"cols\\\": null, \\\"column_source\\\": {\\\"id\\\": \\\"7114\\\"}, \\\"kind\\\": \\\"ColumnDataChanged\\\", \\\"new\\\": {\\\"Variable\\\": [\\\"Gross Rent\\\", \\\"Gross Rent\\\", \\\"Gross Rent\\\", \\\"Gross Rent\\\", \\\"Gross Rent\\\", \\\"Gross Rent\\\", \\\"Sale Price/SqFt\\\", \\\"Sale Price/SqFt\\\", \\\"Sale Price/SqFt\\\", \\\"Sale Price/SqFt\\\", \\\"Sale Price/SqFt\\\", \\\"Sale Price/SqFt\\\"], \\\"Year\\\": [\\\"2010\\\", \\\"2012\\\", \\\"2013\\\", \\\"2014\\\", \\\"2015\\\", \\\"2016\\\", \\\"2010\\\", \\\"2012\\\", \\\"2013\\\", \\\"2014\\\", \\\"2015\\\", \\\"2016\\\"], \\\"value\\\": [1239, 2324, 2971, 3528, 3739, 4390, 267, 344, 453, 620, 465, 88], \\\"xoffsets\\\": [[\\\"2010\\\", \\\"Gross Rent\\\"], [\\\"2012\\\", \\\"Gross Rent\\\"], [\\\"2013\\\", \\\"Gross Rent\\\"], [\\\"2014\\\", \\\"Gross Rent\\\"], [\\\"2015\\\", \\\"Gross Rent\\\"], [\\\"2016\\\", \\\"Gross Rent\\\"], [\\\"2010\\\", \\\"Sale Price/SqFt\\\"], [\\\"2012\\\", \\\"Sale Price/SqFt\\\"], [\\\"2013\\\", \\\"Sale Price/SqFt\\\"], [\\\"2014\\\", \\\"Sale Price/SqFt\\\"], [\\\"2015\\\", \\\"Sale Price/SqFt\\\"], [\\\"2016\\\", \\\"Sale Price/SqFt\\\"]]}}], \\\"references\\\": []}\",\"header\":\"{\\\"msgid\\\": \\\"7702\\\", \\\"msgtype\\\": \\\"PATCH-DOC\\\"}\",\"metadata\":\"{}\"},\"Bayview\":{\"content\":\"{\\\"events\\\": [{\\\"attr\\\": \\\"factors\\\", \\\"kind\\\": \\\"ModelChanged\\\", \\\"model\\\": {\\\"id\\\": \\\"7081\\\"}, \\\"new\\\": [[\\\"2010\\\", \\\"Gross Rent\\\"], [\\\"2010\\\", \\\"Sale Price/SqFt\\\"], [\\\"2011\\\", \\\"Gross Rent\\\"], [\\\"2011\\\", \\\"Sale Price/SqFt\\\"], [\\\"2012\\\", \\\"Gross Rent\\\"], [\\\"2012\\\", \\\"Sale Price/SqFt\\\"], [\\\"2013\\\", \\\"Gross Rent\\\"], [\\\"2013\\\", \\\"Sale Price/SqFt\\\"], [\\\"2014\\\", \\\"Gross Rent\\\"], [\\\"2014\\\", \\\"Sale Price/SqFt\\\"]]}, {\\\"cols\\\": null, \\\"column_source\\\": {\\\"id\\\": \\\"7114\\\"}, \\\"kind\\\": \\\"ColumnDataChanged\\\", \\\"new\\\": {\\\"Variable\\\": [\\\"Gross Rent\\\", \\\"Gross Rent\\\", \\\"Gross Rent\\\", \\\"Gross Rent\\\", \\\"Gross Rent\\\", \\\"Sale Price/SqFt\\\", \\\"Sale Price/SqFt\\\", \\\"Sale Price/SqFt\\\", \\\"Sale Price/SqFt\\\", \\\"Sale Price/SqFt\\\"], \\\"Year\\\": [\\\"2010\\\", \\\"2011\\\", \\\"2012\\\", \\\"2013\\\", \\\"2014\\\", \\\"2010\\\", \\\"2011\\\", \\\"2012\\\", \\\"2013\\\", \\\"2014\\\"], \\\"value\\\": [1239, 1530, 2324, 2971, 3528, 170, 172, 165, 259, 254], \\\"xoffsets\\\": [[\\\"2010\\\", \\\"Gross Rent\\\"], [\\\"2011\\\", \\\"Gross Rent\\\"], [\\\"2012\\\", \\\"Gross Rent\\\"], [\\\"2013\\\", \\\"Gross Rent\\\"], [\\\"2014\\\", \\\"Gross Rent\\\"], [\\\"2010\\\", \\\"Sale Price/SqFt\\\"], [\\\"2011\\\", \\\"Sale Price/SqFt\\\"], [\\\"2012\\\", \\\"Sale Price/SqFt\\\"], [\\\"2013\\\", \\\"Sale Price/SqFt\\\"], [\\\"2014\\\", \\\"Sale Price/SqFt\\\"]]}}], \\\"references\\\": []}\",\"header\":\"{\\\"msgid\\\": \\\"7695\\\", \\\"msgtype\\\": \\\"PATCH-DOC\\\"}\",\"metadata\":\"{}\"},\"Bayview Heights\":{\"content\":\"{\\\"events\\\": [{\\\"attr\\\": \\\"factors\\\", \\\"kind\\\": \\\"ModelChanged\\\", \\\"model\\\": {\\\"id\\\": \\\"7081\\\"}, \\\"new\\\": [[\\\"2015\\\", \\\"Gross Rent\\\"], [\\\"2015\\\", \\\"Sale Price/SqFt\\\"]]}, {\\\"cols\\\": null, \\\"column_source\\\": {\\\"id\\\": \\\"7114\\\"}, \\\"kind\\\": \\\"ColumnDataChanged\\\", \\\"new\\\": {\\\"Variable\\\": [\\\"Gross Rent\\\", \\\"Sale Price/SqFt\\\"], \\\"Year\\\": [\\\"2015\\\", \\\"2015\\\"], \\\"value\\\": [3739, 590], \\\"xoffsets\\\": [[\\\"2015\\\", \\\"Gross Rent\\\"], [\\\"2015\\\", \\\"Sale Price/SqFt\\\"]]}}], \\\"references\\\": []}\",\"header\":\"{\\\"msgid\\\": \\\"7688\\\", \\\"msgtype\\\": \\\"PATCH-DOC\\\"}\",\"metadata\":\"{}\"},\"Bernal Heights \":{\"content\":\"{\\\"events\\\": [{\\\"attr\\\": \\\"factors\\\", \\\"kind\\\": \\\"ModelChanged\\\", \\\"model\\\": {\\\"id\\\": \\\"7081\\\"}, \\\"new\\\": [[\\\"2011\\\", \\\"Gross Rent\\\"], [\\\"2011\\\", \\\"Sale Price/SqFt\\\"], [\\\"2012\\\", \\\"Gross Rent\\\"], [\\\"2012\\\", \\\"Sale Price/SqFt\\\"], [\\\"2013\\\", \\\"Gross Rent\\\"], [\\\"2013\\\", \\\"Sale Price/SqFt\\\"], [\\\"2014\\\", \\\"Gross Rent\\\"], [\\\"2014\\\", \\\"Sale Price/SqFt\\\"], [\\\"2015\\\", \\\"Gross Rent\\\"], [\\\"2015\\\", \\\"Sale Price/SqFt\\\"], [\\\"2016\\\", \\\"Gross Rent\\\"], [\\\"2016\\\", \\\"Sale Price/SqFt\\\"]]}, {\\\"cols\\\": null, \\\"column_source\\\": {\\\"id\\\": \\\"7114\\\"}, \\\"kind\\\": \\\"ColumnDataChanged\\\", \\\"new\\\": {\\\"Variable\\\": [\\\"Gross Rent\\\", \\\"Gross Rent\\\", \\\"Gross Rent\\\", \\\"Gross Rent\\\", \\\"Gross Rent\\\", \\\"Gross Rent\\\", \\\"Sale Price/SqFt\\\", \\\"Sale Price/SqFt\\\", \\\"Sale Price/SqFt\\\", \\\"Sale Price/SqFt\\\", \\\"Sale Price/SqFt\\\", \\\"Sale Price/SqFt\\\"], \\\"Year\\\": [\\\"2011\\\", \\\"2012\\\", \\\"2013\\\", \\\"2014\\\", \\\"2015\\\", \\\"2016\\\", \\\"2011\\\", \\\"2012\\\", \\\"2013\\\", \\\"2014\\\", \\\"2015\\\", \\\"2016\\\"], \\\"value\\\": [1530, 2324, 2971, 3528, 3739, 4390, 471, 368, 630, 544, 458, 986], \\\"xoffsets\\\": [[\\\"2011\\\", \\\"Gross Rent\\\"], [\\\"2012\\\", \\\"Gross Rent\\\"], [\\\"2013\\\", \\\"Gross Rent\\\"], [\\\"2014\\\", \\\"Gross Rent\\\"], [\\\"2015\\\", \\\"Gross Rent\\\"], [\\\"2016\\\", \\\"Gross Rent\\\"], [\\\"2011\\\", \\\"Sale Price/SqFt\\\"], [\\\"2012\\\", \\\"Sale Price/SqFt\\\"], [\\\"2013\\\", \\\"Sale Price/SqFt\\\"], [\\\"2014\\\", \\\"Sale Price/SqFt\\\"], [\\\"2015\\\", \\\"Sale Price/SqFt\\\"], [\\\"2016\\\", \\\"Sale Price/SqFt\\\"]]}}], \\\"references\\\": []}\",\"header\":\"{\\\"msgid\\\": \\\"7681\\\", \\\"msgtype\\\": \\\"PATCH-DOC\\\"}\",\"metadata\":\"{}\"},\"Buena Vista Park\":{\"content\":\"{\\\"events\\\": [{\\\"attr\\\": \\\"factors\\\", \\\"kind\\\": \\\"ModelChanged\\\", \\\"model\\\": {\\\"id\\\": \\\"7081\\\"}, \\\"new\\\": [[\\\"2010\\\", \\\"Gross Rent\\\"], [\\\"2010\\\", \\\"Sale Price/SqFt\\\"], [\\\"2011\\\", \\\"Gross Rent\\\"], [\\\"2011\\\", \\\"Sale Price/SqFt\\\"], [\\\"2012\\\", \\\"Gross Rent\\\"], [\\\"2012\\\", \\\"Sale Price/SqFt\\\"], [\\\"2013\\\", \\\"Gross Rent\\\"], [\\\"2013\\\", \\\"Sale Price/SqFt\\\"], [\\\"2015\\\", \\\"Gross Rent\\\"], [\\\"2015\\\", \\\"Sale Price/SqFt\\\"], [\\\"2016\\\", \\\"Gross Rent\\\"], [\\\"2016\\\", \\\"Sale Price/SqFt\\\"]]}, {\\\"cols\\\": null, \\\"column_source\\\": {\\\"id\\\": \\\"7114\\\"}, \\\"kind\\\": \\\"ColumnDataChanged\\\", \\\"new\\\": {\\\"Variable\\\": [\\\"Gross Rent\\\", \\\"Gross Rent\\\", \\\"Gross Rent\\\", \\\"Gross Rent\\\", \\\"Gross Rent\\\", \\\"Gross Rent\\\", \\\"Sale Price/SqFt\\\", \\\"Sale Price/SqFt\\\", \\\"Sale Price/SqFt\\\", \\\"Sale Price/SqFt\\\", \\\"Sale Price/SqFt\\\", \\\"Sale Price/SqFt\\\"], \\\"Year\\\": [\\\"2010\\\", \\\"2011\\\", \\\"2012\\\", \\\"2013\\\", \\\"2015\\\", \\\"2016\\\", \\\"2010\\\", \\\"2011\\\", \\\"2012\\\", \\\"2013\\\", \\\"2015\\\", \\\"2016\\\"], \\\"value\\\": [1239, 1530, 2324, 2971, 3739, 4390, 347, 171, 338, 455, 551, 851], \\\"xoffsets\\\": [[\\\"2010\\\", \\\"Gross Rent\\\"], [\\\"2011\\\", \\\"Gross Rent\\\"], [\\\"2012\\\", \\\"Gross Rent\\\"], [\\\"2013\\\", \\\"Gross Rent\\\"], [\\\"2015\\\", \\\"Gross Rent\\\"], [\\\"2016\\\", \\\"Gross Rent\\\"], [\\\"2010\\\", \\\"Sale Price/SqFt\\\"], [\\\"2011\\\", \\\"Sale Price/SqFt\\\"], [\\\"2012\\\", \\\"Sale Price/SqFt\\\"], [\\\"2013\\\", \\\"Sale Price/SqFt\\\"], [\\\"2015\\\", \\\"Sale Price/SqFt\\\"], [\\\"2016\\\", \\\"Sale Price/SqFt\\\"]]}}], \\\"references\\\": []}\",\"header\":\"{\\\"msgid\\\": \\\"7674\\\", \\\"msgtype\\\": \\\"PATCH-DOC\\\"}\",\"metadata\":\"{}\"},\"Central Richmond\":{\"content\":\"{\\\"events\\\": [{\\\"cols\\\": null, \\\"column_source\\\": {\\\"id\\\": \\\"7114\\\"}, \\\"kind\\\": \\\"ColumnDataChanged\\\", \\\"new\\\": {\\\"Variable\\\": [\\\"Gross Rent\\\", \\\"Gross Rent\\\", \\\"Gross Rent\\\", \\\"Gross Rent\\\", \\\"Gross Rent\\\", \\\"Gross Rent\\\", \\\"Gross Rent\\\", \\\"Sale Price/SqFt\\\", \\\"Sale Price/SqFt\\\", \\\"Sale Price/SqFt\\\", \\\"Sale Price/SqFt\\\", \\\"Sale Price/SqFt\\\", \\\"Sale Price/SqFt\\\", \\\"Sale Price/SqFt\\\"], \\\"Year\\\": [\\\"2010\\\", \\\"2011\\\", \\\"2012\\\", \\\"2013\\\", \\\"2014\\\", \\\"2015\\\", \\\"2016\\\", \\\"2010\\\", \\\"2011\\\", \\\"2012\\\", \\\"2013\\\", \\\"2014\\\", \\\"2015\\\", \\\"2016\\\"], \\\"value\\\": [1239, 1530, 2324, 2971, 3528, 3739, 4390, 319, 261, 279, 343, 423, 473, 661], \\\"xoffsets\\\": [[\\\"2010\\\", \\\"Gross Rent\\\"], [\\\"2011\\\", \\\"Gross Rent\\\"], [\\\"2012\\\", \\\"Gross Rent\\\"], [\\\"2013\\\", \\\"Gross Rent\\\"], [\\\"2014\\\", \\\"Gross Rent\\\"], [\\\"2015\\\", \\\"Gross Rent\\\"], [\\\"2016\\\", \\\"Gross Rent\\\"], [\\\"2010\\\", \\\"Sale Price/SqFt\\\"], [\\\"2011\\\", \\\"Sale Price/SqFt\\\"], [\\\"2012\\\", \\\"Sale Price/SqFt\\\"], [\\\"2013\\\", \\\"Sale Price/SqFt\\\"], [\\\"2014\\\", \\\"Sale Price/SqFt\\\"], [\\\"2015\\\", \\\"Sale Price/SqFt\\\"], [\\\"2016\\\", \\\"Sale Price/SqFt\\\"]]}}], \\\"references\\\": []}\",\"header\":\"{\\\"msgid\\\": \\\"7667\\\", \\\"msgtype\\\": \\\"PATCH-DOC\\\"}\",\"metadata\":\"{}\"},\"Central Sunset\":{\"content\":\"{\\\"events\\\": [{\\\"attr\\\": \\\"factors\\\", \\\"kind\\\": \\\"ModelChanged\\\", \\\"model\\\": {\\\"id\\\": \\\"7081\\\"}, \\\"new\\\": [[\\\"2010\\\", \\\"Gross Rent\\\"], [\\\"2010\\\", \\\"Sale Price/SqFt\\\"], [\\\"2011\\\", \\\"Gross Rent\\\"], [\\\"2011\\\", \\\"Sale Price/SqFt\\\"], [\\\"2012\\\", \\\"Gross Rent\\\"], [\\\"2012\\\", \\\"Sale Price/SqFt\\\"], [\\\"2013\\\", \\\"Gross Rent\\\"], [\\\"2013\\\", \\\"Sale Price/SqFt\\\"], [\\\"2014\\\", \\\"Gross Rent\\\"], [\\\"2014\\\", \\\"Sale Price/SqFt\\\"], [\\\"2015\\\", \\\"Gross Rent\\\"], [\\\"2015\\\", \\\"Sale Price/SqFt\\\"], [\\\"2016\\\", \\\"Gross Rent\\\"], [\\\"2016\\\", \\\"Sale Price/SqFt\\\"]]}, {\\\"cols\\\": null, \\\"column_source\\\": {\\\"id\\\": \\\"7114\\\"}, \\\"kind\\\": \\\"ColumnDataChanged\\\", \\\"new\\\": {\\\"Variable\\\": [\\\"Gross Rent\\\", \\\"Gross Rent\\\", \\\"Gross Rent\\\", \\\"Gross Rent\\\", \\\"Gross Rent\\\", \\\"Gross Rent\\\", \\\"Gross Rent\\\", \\\"Sale Price/SqFt\\\", \\\"Sale Price/SqFt\\\", \\\"Sale Price/SqFt\\\", \\\"Sale Price/SqFt\\\", \\\"Sale Price/SqFt\\\", \\\"Sale Price/SqFt\\\", \\\"Sale Price/SqFt\\\"], \\\"Year\\\": [\\\"2010\\\", \\\"2011\\\", \\\"2012\\\", \\\"2013\\\", \\\"2014\\\", \\\"2015\\\", \\\"2016\\\", \\\"2010\\\", \\\"2011\\\", \\\"2012\\\", \\\"2013\\\", \\\"2014\\\", \\\"2015\\\", \\\"2016\\\"], \\\"value\\\": [1239, 1530, 2324, 2971, 3528, 3739, 4390, 418, 391, 334, 330, 456, 453, 581], \\\"xoffsets\\\": [[\\\"2010\\\", \\\"Gross Rent\\\"], [\\\"2011\\\", \\\"Gross Rent\\\"], [\\\"2012\\\", \\\"Gross Rent\\\"], [\\\"2013\\\", \\\"Gross Rent\\\"], [\\\"2014\\\", \\\"Gross Rent\\\"], [\\\"2015\\\", \\\"Gross Rent\\\"], [\\\"2016\\\", \\\"Gross Rent\\\"], [\\\"2010\\\", \\\"Sale Price/SqFt\\\"], [\\\"2011\\\", \\\"Sale Price/SqFt\\\"], [\\\"2012\\\", \\\"Sale Price/SqFt\\\"], [\\\"2013\\\", \\\"Sale Price/SqFt\\\"], [\\\"2014\\\", \\\"Sale Price/SqFt\\\"], [\\\"2015\\\", \\\"Sale Price/SqFt\\\"], [\\\"2016\\\", \\\"Sale Price/SqFt\\\"]]}}], \\\"references\\\": []}\",\"header\":\"{\\\"msgid\\\": \\\"7660\\\", \\\"msgtype\\\": \\\"PATCH-DOC\\\"}\",\"metadata\":\"{}\"},\"Clarendon Heights\":{\"content\":\"{\\\"events\\\": [{\\\"attr\\\": \\\"factors\\\", \\\"kind\\\": \\\"ModelChanged\\\", \\\"model\\\": {\\\"id\\\": \\\"7081\\\"}, \\\"new\\\": [[\\\"2011\\\", \\\"Gross Rent\\\"], [\\\"2011\\\", \\\"Sale Price/SqFt\\\"], [\\\"2013\\\", \\\"Gross Rent\\\"], [\\\"2013\\\", \\\"Sale Price/SqFt\\\"]]}, {\\\"cols\\\": null, \\\"column_source\\\": {\\\"id\\\": \\\"7114\\\"}, \\\"kind\\\": \\\"ColumnDataChanged\\\", \\\"new\\\": {\\\"Variable\\\": [\\\"Gross Rent\\\", \\\"Gross Rent\\\", \\\"Sale Price/SqFt\\\", \\\"Sale Price/SqFt\\\"], \\\"Year\\\": [\\\"2011\\\", \\\"2013\\\", \\\"2011\\\", \\\"2013\\\"], \\\"value\\\": [1530, 2971, 520, 453], \\\"xoffsets\\\": [[\\\"2011\\\", \\\"Gross Rent\\\"], [\\\"2013\\\", \\\"Gross Rent\\\"], [\\\"2011\\\", \\\"Sale Price/SqFt\\\"], [\\\"2013\\\", \\\"Sale Price/SqFt\\\"]]}}], \\\"references\\\": []}\",\"header\":\"{\\\"msgid\\\": \\\"7653\\\", \\\"msgtype\\\": \\\"PATCH-DOC\\\"}\",\"metadata\":\"{}\"},\"Corona Heights\":{\"content\":\"{\\\"events\\\": [{\\\"attr\\\": \\\"factors\\\", \\\"kind\\\": \\\"ModelChanged\\\", \\\"model\\\": {\\\"id\\\": \\\"7081\\\"}, \\\"new\\\": [[\\\"2010\\\", \\\"Gross Rent\\\"], [\\\"2010\\\", \\\"Sale Price/SqFt\\\"], [\\\"2011\\\", \\\"Gross Rent\\\"], [\\\"2011\\\", \\\"Sale Price/SqFt\\\"], [\\\"2012\\\", \\\"Gross Rent\\\"], [\\\"2012\\\", \\\"Sale Price/SqFt\\\"], [\\\"2014\\\", \\\"Gross Rent\\\"], [\\\"2014\\\", \\\"Sale Price/SqFt\\\"], [\\\"2015\\\", \\\"Gross Rent\\\"], [\\\"2015\\\", \\\"Sale Price/SqFt\\\"]]}, {\\\"cols\\\": null, \\\"column_source\\\": {\\\"id\\\": \\\"7114\\\"}, \\\"kind\\\": \\\"ColumnDataChanged\\\", \\\"new\\\": {\\\"Variable\\\": [\\\"Gross Rent\\\", \\\"Gross Rent\\\", \\\"Gross Rent\\\", \\\"Gross Rent\\\", \\\"Gross Rent\\\", \\\"Sale Price/SqFt\\\", \\\"Sale Price/SqFt\\\", \\\"Sale Price/SqFt\\\", \\\"Sale Price/SqFt\\\", \\\"Sale Price/SqFt\\\"], \\\"Year\\\": [\\\"2010\\\", \\\"2011\\\", \\\"2012\\\", \\\"2014\\\", \\\"2015\\\", \\\"2010\\\", \\\"2011\\\", \\\"2012\\\", \\\"2014\\\", \\\"2015\\\"], \\\"value\\\": [1239, 1530, 2324, 3528, 3739, 369, 222, 356, 888, 1100], \\\"xoffsets\\\": [[\\\"2010\\\", \\\"Gross Rent\\\"], [\\\"2011\\\", \\\"Gross Rent\\\"], [\\\"2012\\\", \\\"Gross Rent\\\"], [\\\"2014\\\", \\\"Gross Rent\\\"], [\\\"2015\\\", \\\"Gross Rent\\\"], [\\\"2010\\\", \\\"Sale Price/SqFt\\\"], [\\\"2011\\\", \\\"Sale Price/SqFt\\\"], [\\\"2012\\\", \\\"Sale Price/SqFt\\\"], [\\\"2014\\\", \\\"Sale Price/SqFt\\\"], [\\\"2015\\\", \\\"Sale Price/SqFt\\\"]]}}], \\\"references\\\": []}\",\"header\":\"{\\\"msgid\\\": \\\"7646\\\", \\\"msgtype\\\": \\\"PATCH-DOC\\\"}\",\"metadata\":\"{}\"},\"Cow Hollow\":{\"content\":\"{\\\"events\\\": [{\\\"attr\\\": \\\"factors\\\", \\\"kind\\\": \\\"ModelChanged\\\", \\\"model\\\": {\\\"id\\\": \\\"7081\\\"}, \\\"new\\\": [[\\\"2010\\\", \\\"Gross Rent\\\"], [\\\"2010\\\", \\\"Sale Price/SqFt\\\"], [\\\"2011\\\", \\\"Gross Rent\\\"], [\\\"2011\\\", \\\"Sale Price/SqFt\\\"], [\\\"2012\\\", \\\"Gross Rent\\\"], [\\\"2012\\\", \\\"Sale Price/SqFt\\\"], [\\\"2013\\\", \\\"Gross Rent\\\"], [\\\"2013\\\", \\\"Sale Price/SqFt\\\"], [\\\"2014\\\", \\\"Gross Rent\\\"], [\\\"2014\\\", \\\"Sale Price/SqFt\\\"], [\\\"2015\\\", \\\"Gross Rent\\\"], [\\\"2015\\\", \\\"Sale Price/SqFt\\\"], [\\\"2016\\\", \\\"Gross Rent\\\"], [\\\"2016\\\", \\\"Sale Price/SqFt\\\"]]}, {\\\"cols\\\": null, \\\"column_source\\\": {\\\"id\\\": \\\"7114\\\"}, \\\"kind\\\": \\\"ColumnDataChanged\\\", \\\"new\\\": {\\\"Variable\\\": [\\\"Gross Rent\\\", \\\"Gross Rent\\\", \\\"Gross Rent\\\", \\\"Gross Rent\\\", \\\"Gross Rent\\\", \\\"Gross Rent\\\", \\\"Gross Rent\\\", \\\"Sale Price/SqFt\\\", \\\"Sale Price/SqFt\\\", \\\"Sale Price/SqFt\\\", \\\"Sale Price/SqFt\\\", \\\"Sale Price/SqFt\\\", \\\"Sale Price/SqFt\\\", \\\"Sale Price/SqFt\\\"], \\\"Year\\\": [\\\"2010\\\", \\\"2011\\\", \\\"2012\\\", \\\"2013\\\", \\\"2014\\\", \\\"2015\\\", \\\"2016\\\", \\\"2010\\\", \\\"2011\\\", \\\"2012\\\", \\\"2013\\\", \\\"2014\\\", \\\"2015\\\", \\\"2016\\\"], \\\"value\\\": [1239, 1530, 2324, 2971, 3528, 3739, 4390, 569, 390, 644, 707, 691, 598, 1059], \\\"xoffsets\\\": [[\\\"2010\\\", \\\"Gross Rent\\\"], [\\\"2011\\\", \\\"Gross Rent\\\"], [\\\"2012\\\", \\\"Gross Rent\\\"], [\\\"2013\\\", \\\"Gross Rent\\\"], [\\\"2014\\\", \\\"Gross Rent\\\"], [\\\"2015\\\", \\\"Gross Rent\\\"], [\\\"2016\\\", \\\"Gross Rent\\\"], [\\\"2010\\\", \\\"Sale Price/SqFt\\\"], [\\\"2011\\\", \\\"Sale Price/SqFt\\\"], [\\\"2012\\\", \\\"Sale Price/SqFt\\\"], [\\\"2013\\\", \\\"Sale Price/SqFt\\\"], [\\\"2014\\\", \\\"Sale Price/SqFt\\\"], [\\\"2015\\\", \\\"Sale Price/SqFt\\\"], [\\\"2016\\\", \\\"Sale Price/SqFt\\\"]]}}], \\\"references\\\": []}\",\"header\":\"{\\\"msgid\\\": \\\"7639\\\", \\\"msgtype\\\": \\\"PATCH-DOC\\\"}\",\"metadata\":\"{}\"},\"Croker Amazon\":{\"content\":\"{\\\"events\\\": [{\\\"attr\\\": \\\"factors\\\", \\\"kind\\\": \\\"ModelChanged\\\", \\\"model\\\": {\\\"id\\\": \\\"7081\\\"}, \\\"new\\\": [[\\\"2010\\\", \\\"Gross Rent\\\"], [\\\"2010\\\", \\\"Sale Price/SqFt\\\"], [\\\"2011\\\", \\\"Gross Rent\\\"], [\\\"2011\\\", \\\"Sale Price/SqFt\\\"], [\\\"2012\\\", \\\"Gross Rent\\\"], [\\\"2012\\\", \\\"Sale Price/SqFt\\\"], [\\\"2013\\\", \\\"Gross Rent\\\"], [\\\"2013\\\", \\\"Sale Price/SqFt\\\"], [\\\"2015\\\", \\\"Gross Rent\\\"], [\\\"2015\\\", \\\"Sale Price/SqFt\\\"], [\\\"2016\\\", \\\"Gross Rent\\\"], [\\\"2016\\\", \\\"Sale Price/SqFt\\\"]]}, {\\\"cols\\\": null, \\\"column_source\\\": {\\\"id\\\": \\\"7114\\\"}, \\\"kind\\\": \\\"ColumnDataChanged\\\", \\\"new\\\": {\\\"Variable\\\": [\\\"Gross Rent\\\", \\\"Gross Rent\\\", \\\"Gross Rent\\\", \\\"Gross Rent\\\", \\\"Gross Rent\\\", \\\"Gross Rent\\\", \\\"Sale Price/SqFt\\\", \\\"Sale Price/SqFt\\\", \\\"Sale Price/SqFt\\\", \\\"Sale Price/SqFt\\\", \\\"Sale Price/SqFt\\\", \\\"Sale Price/SqFt\\\"], \\\"Year\\\": [\\\"2010\\\", \\\"2011\\\", \\\"2012\\\", \\\"2013\\\", \\\"2015\\\", \\\"2016\\\", \\\"2010\\\", \\\"2011\\\", \\\"2012\\\", \\\"2013\\\", \\\"2015\\\", \\\"2016\\\"], \\\"value\\\": [1239, 1530, 2324, 2971, 3739, 4390, 165, 145, 415, 223, 301, 566], \\\"xoffsets\\\": [[\\\"2010\\\", \\\"Gross Rent\\\"], [\\\"2011\\\", \\\"Gross Rent\\\"], [\\\"2012\\\", \\\"Gross Rent\\\"], [\\\"2013\\\", \\\"Gross Rent\\\"], [\\\"2015\\\", \\\"Gross Rent\\\"], [\\\"2016\\\", \\\"Gross Rent\\\"], [\\\"2010\\\", \\\"Sale Price/SqFt\\\"], [\\\"2011\\\", \\\"Sale Price/SqFt\\\"], [\\\"2012\\\", \\\"Sale Price/SqFt\\\"], [\\\"2013\\\", \\\"Sale Price/SqFt\\\"], [\\\"2015\\\", \\\"Sale Price/SqFt\\\"], [\\\"2016\\\", \\\"Sale Price/SqFt\\\"]]}}], \\\"references\\\": []}\",\"header\":\"{\\\"msgid\\\": \\\"7632\\\", \\\"msgtype\\\": \\\"PATCH-DOC\\\"}\",\"metadata\":\"{}\"},\"Diamond Heights\":{\"content\":\"{\\\"events\\\": [{\\\"attr\\\": \\\"factors\\\", \\\"kind\\\": \\\"ModelChanged\\\", \\\"model\\\": {\\\"id\\\": \\\"7081\\\"}, \\\"new\\\": [[\\\"2010\\\", \\\"Gross Rent\\\"], [\\\"2010\\\", \\\"Sale Price/SqFt\\\"], [\\\"2011\\\", \\\"Gross Rent\\\"], [\\\"2011\\\", \\\"Sale Price/SqFt\\\"], [\\\"2012\\\", \\\"Gross Rent\\\"], [\\\"2012\\\", \\\"Sale Price/SqFt\\\"], [\\\"2013\\\", \\\"Gross Rent\\\"], [\\\"2013\\\", \\\"Sale Price/SqFt\\\"]]}, {\\\"cols\\\": null, \\\"column_source\\\": {\\\"id\\\": \\\"7114\\\"}, \\\"kind\\\": \\\"ColumnDataChanged\\\", \\\"new\\\": {\\\"Variable\\\": [\\\"Gross Rent\\\", \\\"Gross Rent\\\", \\\"Gross Rent\\\", \\\"Gross Rent\\\", \\\"Sale Price/SqFt\\\", \\\"Sale Price/SqFt\\\", \\\"Sale Price/SqFt\\\", \\\"Sale Price/SqFt\\\"], \\\"Year\\\": [\\\"2010\\\", \\\"2011\\\", \\\"2012\\\", \\\"2013\\\", \\\"2010\\\", \\\"2011\\\", \\\"2012\\\", \\\"2013\\\"], \\\"value\\\": [1239, 1530, 2324, 2971, 456, 382, 366, 533], \\\"xoffsets\\\": [[\\\"2010\\\", \\\"Gross Rent\\\"], [\\\"2011\\\", \\\"Gross Rent\\\"], [\\\"2012\\\", \\\"Gross Rent\\\"], [\\\"2013\\\", \\\"Gross Rent\\\"], [\\\"2010\\\", \\\"Sale Price/SqFt\\\"], [\\\"2011\\\", \\\"Sale Price/SqFt\\\"], [\\\"2012\\\", \\\"Sale Price/SqFt\\\"], [\\\"2013\\\", \\\"Sale Price/SqFt\\\"]]}}], \\\"references\\\": []}\",\"header\":\"{\\\"msgid\\\": \\\"7625\\\", \\\"msgtype\\\": \\\"PATCH-DOC\\\"}\",\"metadata\":\"{}\"},\"Downtown \":{\"content\":\"{\\\"events\\\": [{\\\"attr\\\": \\\"factors\\\", \\\"kind\\\": \\\"ModelChanged\\\", \\\"model\\\": {\\\"id\\\": \\\"7081\\\"}, \\\"new\\\": [[\\\"2010\\\", \\\"Gross Rent\\\"], [\\\"2010\\\", \\\"Sale Price/SqFt\\\"], [\\\"2011\\\", \\\"Gross Rent\\\"], [\\\"2011\\\", \\\"Sale Price/SqFt\\\"], [\\\"2012\\\", \\\"Gross Rent\\\"], [\\\"2012\\\", \\\"Sale Price/SqFt\\\"], [\\\"2013\\\", \\\"Gross Rent\\\"], [\\\"2013\\\", \\\"Sale Price/SqFt\\\"], [\\\"2014\\\", \\\"Gross Rent\\\"], [\\\"2014\\\", \\\"Sale Price/SqFt\\\"], [\\\"2015\\\", \\\"Gross Rent\\\"], [\\\"2015\\\", \\\"Sale Price/SqFt\\\"], [\\\"2016\\\", \\\"Gross Rent\\\"], [\\\"2016\\\", \\\"Sale Price/SqFt\\\"]]}, {\\\"cols\\\": null, \\\"column_source\\\": {\\\"id\\\": \\\"7114\\\"}, \\\"kind\\\": \\\"ColumnDataChanged\\\", \\\"new\\\": {\\\"Variable\\\": [\\\"Gross Rent\\\", \\\"Gross Rent\\\", \\\"Gross Rent\\\", \\\"Gross Rent\\\", \\\"Gross Rent\\\", \\\"Gross Rent\\\", \\\"Gross Rent\\\", \\\"Sale Price/SqFt\\\", \\\"Sale Price/SqFt\\\", \\\"Sale Price/SqFt\\\", \\\"Sale Price/SqFt\\\", \\\"Sale Price/SqFt\\\", \\\"Sale Price/SqFt\\\", \\\"Sale Price/SqFt\\\"], \\\"Year\\\": [\\\"2010\\\", \\\"2011\\\", \\\"2012\\\", \\\"2013\\\", \\\"2014\\\", \\\"2015\\\", \\\"2016\\\", \\\"2010\\\", \\\"2011\\\", \\\"2012\\\", \\\"2013\\\", \\\"2014\\\", \\\"2015\\\", \\\"2016\\\"], \\\"value\\\": [1239, 1530, 2324, 2971, 3528, 3739, 4390, 241, 234, 269, 361, 428, 485, 718], \\\"xoffsets\\\": [[\\\"2010\\\", \\\"Gross Rent\\\"], [\\\"2011\\\", \\\"Gross Rent\\\"], [\\\"2012\\\", \\\"Gross Rent\\\"], [\\\"2013\\\", \\\"Gross Rent\\\"], [\\\"2014\\\", \\\"Gross Rent\\\"], [\\\"2015\\\", \\\"Gross Rent\\\"], [\\\"2016\\\", \\\"Gross Rent\\\"], [\\\"2010\\\", \\\"Sale Price/SqFt\\\"], [\\\"2011\\\", \\\"Sale Price/SqFt\\\"], [\\\"2012\\\", \\\"Sale Price/SqFt\\\"], [\\\"2013\\\", \\\"Sale Price/SqFt\\\"], [\\\"2014\\\", \\\"Sale Price/SqFt\\\"], [\\\"2015\\\", \\\"Sale Price/SqFt\\\"], [\\\"2016\\\", \\\"Sale Price/SqFt\\\"]]}}], \\\"references\\\": []}\",\"header\":\"{\\\"msgid\\\": \\\"7618\\\", \\\"msgtype\\\": \\\"PATCH-DOC\\\"}\",\"metadata\":\"{}\"},\"Duboce Triangle\":{\"content\":\"{\\\"events\\\": [{\\\"attr\\\": \\\"factors\\\", \\\"kind\\\": \\\"ModelChanged\\\", \\\"model\\\": {\\\"id\\\": \\\"7081\\\"}, \\\"new\\\": [[\\\"2011\\\", \\\"Gross Rent\\\"], [\\\"2011\\\", \\\"Sale Price/SqFt\\\"], [\\\"2012\\\", \\\"Gross Rent\\\"], [\\\"2012\\\", \\\"Sale Price/SqFt\\\"], [\\\"2014\\\", \\\"Gross Rent\\\"], [\\\"2014\\\", \\\"Sale Price/SqFt\\\"], [\\\"2015\\\", \\\"Gross Rent\\\"], [\\\"2015\\\", \\\"Sale Price/SqFt\\\"]]}, {\\\"cols\\\": null, \\\"column_source\\\": {\\\"id\\\": \\\"7114\\\"}, \\\"kind\\\": \\\"ColumnDataChanged\\\", \\\"new\\\": {\\\"Variable\\\": [\\\"Gross Rent\\\", \\\"Gross Rent\\\", \\\"Gross Rent\\\", \\\"Gross Rent\\\", \\\"Sale Price/SqFt\\\", \\\"Sale Price/SqFt\\\", \\\"Sale Price/SqFt\\\", \\\"Sale Price/SqFt\\\"], \\\"Year\\\": [\\\"2011\\\", \\\"2012\\\", \\\"2014\\\", \\\"2015\\\", \\\"2011\\\", \\\"2012\\\", \\\"2014\\\", \\\"2015\\\"], \\\"value\\\": [1530, 2324, 3528, 3739, 295, 452, 630, 631], \\\"xoffsets\\\": [[\\\"2011\\\", \\\"Gross Rent\\\"], [\\\"2012\\\", \\\"Gross Rent\\\"], [\\\"2014\\\", \\\"Gross Rent\\\"], [\\\"2015\\\", \\\"Gross Rent\\\"], [\\\"2011\\\", \\\"Sale Price/SqFt\\\"], [\\\"2012\\\", \\\"Sale Price/SqFt\\\"], [\\\"2014\\\", \\\"Sale Price/SqFt\\\"], [\\\"2015\\\", \\\"Sale Price/SqFt\\\"]]}}], \\\"references\\\": []}\",\"header\":\"{\\\"msgid\\\": \\\"7611\\\", \\\"msgtype\\\": \\\"PATCH-DOC\\\"}\",\"metadata\":\"{}\"},\"Eureka Valley/Dolores Heights\":{\"content\":\"{\\\"events\\\": [{\\\"attr\\\": \\\"factors\\\", \\\"kind\\\": \\\"ModelChanged\\\", \\\"model\\\": {\\\"id\\\": \\\"7081\\\"}, \\\"new\\\": [[\\\"2010\\\", \\\"Gross Rent\\\"], [\\\"2010\\\", \\\"Sale Price/SqFt\\\"], [\\\"2011\\\", \\\"Gross Rent\\\"], [\\\"2011\\\", \\\"Sale Price/SqFt\\\"], [\\\"2012\\\", \\\"Gross Rent\\\"], [\\\"2012\\\", \\\"Sale Price/SqFt\\\"], [\\\"2013\\\", \\\"Gross Rent\\\"], [\\\"2013\\\", \\\"Sale Price/SqFt\\\"], [\\\"2014\\\", \\\"Gross Rent\\\"], [\\\"2014\\\", \\\"Sale Price/SqFt\\\"], [\\\"2015\\\", \\\"Gross Rent\\\"], [\\\"2015\\\", \\\"Sale Price/SqFt\\\"], [\\\"2016\\\", \\\"Gross Rent\\\"], [\\\"2016\\\", \\\"Sale Price/SqFt\\\"]]}, {\\\"cols\\\": null, \\\"column_source\\\": {\\\"id\\\": \\\"7114\\\"}, \\\"kind\\\": \\\"ColumnDataChanged\\\", \\\"new\\\": {\\\"Variable\\\": [\\\"Gross Rent\\\", \\\"Gross Rent\\\", \\\"Gross Rent\\\", \\\"Gross Rent\\\", \\\"Gross Rent\\\", \\\"Gross Rent\\\", \\\"Gross Rent\\\", \\\"Sale Price/SqFt\\\", \\\"Sale Price/SqFt\\\", \\\"Sale Price/SqFt\\\", \\\"Sale Price/SqFt\\\", \\\"Sale Price/SqFt\\\", \\\"Sale Price/SqFt\\\", \\\"Sale Price/SqFt\\\"], \\\"Year\\\": [\\\"2010\\\", \\\"2011\\\", \\\"2012\\\", \\\"2013\\\", \\\"2014\\\", \\\"2015\\\", \\\"2016\\\", \\\"2010\\\", \\\"2011\\\", \\\"2012\\\", \\\"2013\\\", \\\"2014\\\", \\\"2015\\\", \\\"2016\\\"], \\\"value\\\": [1239, 1530, 2324, 2971, 3528, 3739, 4390, 403, 413, 524, 608, 728, 790, 1026], \\\"xoffsets\\\": [[\\\"2010\\\", \\\"Gross Rent\\\"], [\\\"2011\\\", \\\"Gross Rent\\\"], [\\\"2012\\\", \\\"Gross Rent\\\"], [\\\"2013\\\", \\\"Gross Rent\\\"], [\\\"2014\\\", \\\"Gross Rent\\\"], [\\\"2015\\\", \\\"Gross Rent\\\"], [\\\"2016\\\", \\\"Gross Rent\\\"], [\\\"2010\\\", \\\"Sale Price/SqFt\\\"], [\\\"2011\\\", \\\"Sale Price/SqFt\\\"], [\\\"2012\\\", \\\"Sale Price/SqFt\\\"], [\\\"2013\\\", \\\"Sale Price/SqFt\\\"], [\\\"2014\\\", \\\"Sale Price/SqFt\\\"], [\\\"2015\\\", \\\"Sale Price/SqFt\\\"], [\\\"2016\\\", \\\"Sale Price/SqFt\\\"]]}}], \\\"references\\\": []}\",\"header\":\"{\\\"msgid\\\": \\\"7604\\\", \\\"msgtype\\\": \\\"PATCH-DOC\\\"}\",\"metadata\":\"{}\"},\"Excelsior\":{\"content\":\"{\\\"events\\\": [{\\\"attr\\\": \\\"factors\\\", \\\"kind\\\": \\\"ModelChanged\\\", \\\"model\\\": {\\\"id\\\": \\\"7081\\\"}, \\\"new\\\": [[\\\"2010\\\", \\\"Gross Rent\\\"], [\\\"2010\\\", \\\"Sale Price/SqFt\\\"], [\\\"2012\\\", \\\"Gross Rent\\\"], [\\\"2012\\\", \\\"Sale Price/SqFt\\\"], [\\\"2013\\\", \\\"Gross Rent\\\"], [\\\"2013\\\", \\\"Sale Price/SqFt\\\"], [\\\"2014\\\", \\\"Gross Rent\\\"], [\\\"2014\\\", \\\"Sale Price/SqFt\\\"], [\\\"2015\\\", \\\"Gross Rent\\\"], [\\\"2015\\\", \\\"Sale Price/SqFt\\\"], [\\\"2016\\\", \\\"Gross Rent\\\"], [\\\"2016\\\", \\\"Sale Price/SqFt\\\"]]}, {\\\"cols\\\": null, \\\"column_source\\\": {\\\"id\\\": \\\"7114\\\"}, \\\"kind\\\": \\\"ColumnDataChanged\\\", \\\"new\\\": {\\\"Variable\\\": [\\\"Gross Rent\\\", \\\"Gross Rent\\\", \\\"Gross Rent\\\", \\\"Gross Rent\\\", \\\"Gross Rent\\\", \\\"Gross Rent\\\", \\\"Sale Price/SqFt\\\", \\\"Sale Price/SqFt\\\", \\\"Sale Price/SqFt\\\", \\\"Sale Price/SqFt\\\", \\\"Sale Price/SqFt\\\", \\\"Sale Price/SqFt\\\"], \\\"Year\\\": [\\\"2010\\\", \\\"2012\\\", \\\"2013\\\", \\\"2014\\\", \\\"2015\\\", \\\"2016\\\", \\\"2010\\\", \\\"2012\\\", \\\"2013\\\", \\\"2014\\\", \\\"2015\\\", \\\"2016\\\"], \\\"value\\\": [1239, 2324, 2971, 3528, 3739, 4390, 364, 371, 289, 358, 414, 534], \\\"xoffsets\\\": [[\\\"2010\\\", \\\"Gross Rent\\\"], [\\\"2012\\\", \\\"Gross Rent\\\"], [\\\"2013\\\", \\\"Gross Rent\\\"], [\\\"2014\\\", \\\"Gross Rent\\\"], [\\\"2015\\\", \\\"Gross Rent\\\"], [\\\"2016\\\", \\\"Gross Rent\\\"], [\\\"2010\\\", \\\"Sale Price/SqFt\\\"], [\\\"2012\\\", \\\"Sale Price/SqFt\\\"], [\\\"2013\\\", \\\"Sale Price/SqFt\\\"], [\\\"2014\\\", \\\"Sale Price/SqFt\\\"], [\\\"2015\\\", \\\"Sale Price/SqFt\\\"], [\\\"2016\\\", \\\"Sale Price/SqFt\\\"]]}}], \\\"references\\\": []}\",\"header\":\"{\\\"msgid\\\": \\\"7597\\\", \\\"msgtype\\\": \\\"PATCH-DOC\\\"}\",\"metadata\":\"{}\"},\"Financial District North\":{\"content\":\"{\\\"events\\\": [{\\\"attr\\\": \\\"factors\\\", \\\"kind\\\": \\\"ModelChanged\\\", \\\"model\\\": {\\\"id\\\": \\\"7081\\\"}, \\\"new\\\": [[\\\"2010\\\", \\\"Gross Rent\\\"], [\\\"2010\\\", \\\"Sale Price/SqFt\\\"], [\\\"2011\\\", \\\"Gross Rent\\\"], [\\\"2011\\\", \\\"Sale Price/SqFt\\\"], [\\\"2012\\\", \\\"Gross Rent\\\"], [\\\"2012\\\", \\\"Sale Price/SqFt\\\"], [\\\"2013\\\", \\\"Gross Rent\\\"], [\\\"2013\\\", \\\"Sale Price/SqFt\\\"], [\\\"2014\\\", \\\"Gross Rent\\\"], [\\\"2014\\\", \\\"Sale Price/SqFt\\\"], [\\\"2015\\\", \\\"Gross Rent\\\"], [\\\"2015\\\", \\\"Sale Price/SqFt\\\"], [\\\"2016\\\", \\\"Gross Rent\\\"], [\\\"2016\\\", \\\"Sale Price/SqFt\\\"]]}, {\\\"cols\\\": null, \\\"column_source\\\": {\\\"id\\\": \\\"7114\\\"}, \\\"kind\\\": \\\"ColumnDataChanged\\\", \\\"new\\\": {\\\"Variable\\\": [\\\"Gross Rent\\\", \\\"Gross Rent\\\", \\\"Gross Rent\\\", \\\"Gross Rent\\\", \\\"Gross Rent\\\", \\\"Gross Rent\\\", \\\"Gross Rent\\\", \\\"Sale Price/SqFt\\\", \\\"Sale Price/SqFt\\\", \\\"Sale Price/SqFt\\\", \\\"Sale Price/SqFt\\\", \\\"Sale Price/SqFt\\\", \\\"Sale Price/SqFt\\\", \\\"Sale Price/SqFt\\\"], \\\"Year\\\": [\\\"2010\\\", \\\"2011\\\", \\\"2012\\\", \\\"2013\\\", \\\"2014\\\", \\\"2015\\\", \\\"2016\\\", \\\"2010\\\", \\\"2011\\\", \\\"2012\\\", \\\"2013\\\", \\\"2014\\\", \\\"2015\\\", \\\"2016\\\"], \\\"value\\\": [1239, 1530, 2324, 2971, 3528, 3739, 4390, 401, 281, 286, 274, 409, 694, 0], \\\"xoffsets\\\": [[\\\"2010\\\", \\\"Gross Rent\\\"], [\\\"2011\\\", \\\"Gross Rent\\\"], [\\\"2012\\\", \\\"Gross Rent\\\"], [\\\"2013\\\", \\\"Gross Rent\\\"], [\\\"2014\\\", \\\"Gross Rent\\\"], [\\\"2015\\\", \\\"Gross Rent\\\"], [\\\"2016\\\", \\\"Gross Rent\\\"], [\\\"2010\\\", \\\"Sale Price/SqFt\\\"], [\\\"2011\\\", \\\"Sale Price/SqFt\\\"], [\\\"2012\\\", \\\"Sale Price/SqFt\\\"], [\\\"2013\\\", \\\"Sale Price/SqFt\\\"], [\\\"2014\\\", \\\"Sale Price/SqFt\\\"], [\\\"2015\\\", \\\"Sale Price/SqFt\\\"], [\\\"2016\\\", \\\"Sale Price/SqFt\\\"]]}}], \\\"references\\\": []}\",\"header\":\"{\\\"msgid\\\": \\\"7590\\\", \\\"msgtype\\\": \\\"PATCH-DOC\\\"}\",\"metadata\":\"{}\"},\"Financial District South\":{\"content\":\"{\\\"events\\\": [{\\\"attr\\\": \\\"factors\\\", \\\"kind\\\": \\\"ModelChanged\\\", \\\"model\\\": {\\\"id\\\": \\\"7081\\\"}, \\\"new\\\": [[\\\"2010\\\", \\\"Gross Rent\\\"], [\\\"2010\\\", \\\"Sale Price/SqFt\\\"], [\\\"2011\\\", \\\"Gross Rent\\\"], [\\\"2011\\\", \\\"Sale Price/SqFt\\\"], [\\\"2012\\\", \\\"Gross Rent\\\"], [\\\"2012\\\", \\\"Sale Price/SqFt\\\"], [\\\"2014\\\", \\\"Gross Rent\\\"], [\\\"2014\\\", \\\"Sale Price/SqFt\\\"], [\\\"2015\\\", \\\"Gross Rent\\\"], [\\\"2015\\\", \\\"Sale Price/SqFt\\\"]]}, {\\\"cols\\\": null, \\\"column_source\\\": {\\\"id\\\": \\\"7114\\\"}, \\\"kind\\\": \\\"ColumnDataChanged\\\", \\\"new\\\": {\\\"Variable\\\": [\\\"Gross Rent\\\", \\\"Gross Rent\\\", \\\"Gross Rent\\\", \\\"Gross Rent\\\", \\\"Gross Rent\\\", \\\"Sale Price/SqFt\\\", \\\"Sale Price/SqFt\\\", \\\"Sale Price/SqFt\\\", \\\"Sale Price/SqFt\\\", \\\"Sale Price/SqFt\\\"], \\\"Year\\\": [\\\"2010\\\", \\\"2011\\\", \\\"2012\\\", \\\"2014\\\", \\\"2015\\\", \\\"2010\\\", \\\"2011\\\", \\\"2012\\\", \\\"2014\\\", \\\"2015\\\"], \\\"value\\\": [1239, 1530, 2324, 3528, 3739, 162, 354, 613, 694, 453], \\\"xoffsets\\\": [[\\\"2010\\\", \\\"Gross Rent\\\"], [\\\"2011\\\", \\\"Gross Rent\\\"], [\\\"2012\\\", \\\"Gross Rent\\\"], [\\\"2014\\\", \\\"Gross Rent\\\"], [\\\"2015\\\", \\\"Gross Rent\\\"], [\\\"2010\\\", \\\"Sale Price/SqFt\\\"], [\\\"2011\\\", \\\"Sale Price/SqFt\\\"], [\\\"2012\\\", \\\"Sale Price/SqFt\\\"], [\\\"2014\\\", \\\"Sale Price/SqFt\\\"], [\\\"2015\\\", \\\"Sale Price/SqFt\\\"]]}}], \\\"references\\\": []}\",\"header\":\"{\\\"msgid\\\": \\\"7583\\\", \\\"msgtype\\\": \\\"PATCH-DOC\\\"}\",\"metadata\":\"{}\"},\"Forest Knolls\":{\"content\":\"{\\\"events\\\": [{\\\"attr\\\": \\\"factors\\\", \\\"kind\\\": \\\"ModelChanged\\\", \\\"model\\\": {\\\"id\\\": \\\"7081\\\"}, \\\"new\\\": [[\\\"2010\\\", \\\"Gross Rent\\\"], [\\\"2010\\\", \\\"Sale Price/SqFt\\\"], [\\\"2012\\\", \\\"Gross Rent\\\"], [\\\"2012\\\", \\\"Sale Price/SqFt\\\"]]}, {\\\"cols\\\": null, \\\"column_source\\\": {\\\"id\\\": \\\"7114\\\"}, \\\"kind\\\": \\\"ColumnDataChanged\\\", \\\"new\\\": {\\\"Variable\\\": [\\\"Gross Rent\\\", \\\"Gross Rent\\\", \\\"Sale Price/SqFt\\\", \\\"Sale Price/SqFt\\\"], \\\"Year\\\": [\\\"2010\\\", \\\"2012\\\", \\\"2010\\\", \\\"2012\\\"], \\\"value\\\": [1239, 2324, 209, 434], \\\"xoffsets\\\": [[\\\"2010\\\", \\\"Gross Rent\\\"], [\\\"2012\\\", \\\"Gross Rent\\\"], [\\\"2010\\\", \\\"Sale Price/SqFt\\\"], [\\\"2012\\\", \\\"Sale Price/SqFt\\\"]]}}], \\\"references\\\": []}\",\"header\":\"{\\\"msgid\\\": \\\"7576\\\", \\\"msgtype\\\": \\\"PATCH-DOC\\\"}\",\"metadata\":\"{}\"},\"Glen Park\":{\"content\":\"{\\\"events\\\": [{\\\"attr\\\": \\\"factors\\\", \\\"kind\\\": \\\"ModelChanged\\\", \\\"model\\\": {\\\"id\\\": \\\"7081\\\"}, \\\"new\\\": [[\\\"2010\\\", \\\"Gross Rent\\\"], [\\\"2010\\\", \\\"Sale Price/SqFt\\\"], [\\\"2011\\\", \\\"Gross Rent\\\"], [\\\"2011\\\", \\\"Sale Price/SqFt\\\"], [\\\"2013\\\", \\\"Gross Rent\\\"], [\\\"2013\\\", \\\"Sale Price/SqFt\\\"], [\\\"2014\\\", \\\"Gross Rent\\\"], [\\\"2014\\\", \\\"Sale Price/SqFt\\\"], [\\\"2015\\\", \\\"Gross Rent\\\"], [\\\"2015\\\", \\\"Sale Price/SqFt\\\"], [\\\"2016\\\", \\\"Gross Rent\\\"], [\\\"2016\\\", \\\"Sale Price/SqFt\\\"]]}, {\\\"cols\\\": null, \\\"column_source\\\": {\\\"id\\\": \\\"7114\\\"}, \\\"kind\\\": \\\"ColumnDataChanged\\\", \\\"new\\\": {\\\"Variable\\\": [\\\"Gross Rent\\\", \\\"Gross Rent\\\", \\\"Gross Rent\\\", \\\"Gross Rent\\\", \\\"Gross Rent\\\", \\\"Gross Rent\\\", \\\"Sale Price/SqFt\\\", \\\"Sale Price/SqFt\\\", \\\"Sale Price/SqFt\\\", \\\"Sale Price/SqFt\\\", \\\"Sale Price/SqFt\\\", \\\"Sale Price/SqFt\\\"], \\\"Year\\\": [\\\"2010\\\", \\\"2011\\\", \\\"2013\\\", \\\"2014\\\", \\\"2015\\\", \\\"2016\\\", \\\"2010\\\", \\\"2011\\\", \\\"2013\\\", \\\"2014\\\", \\\"2015\\\", \\\"2016\\\"], \\\"value\\\": [1239, 1530, 2971, 3528, 3739, 4390, 715, 457, 458, 553, 612, 945], \\\"xoffsets\\\": [[\\\"2010\\\", \\\"Gross Rent\\\"], [\\\"2011\\\", \\\"Gross Rent\\\"], [\\\"2013\\\", \\\"Gross Rent\\\"], [\\\"2014\\\", \\\"Gross Rent\\\"], [\\\"2015\\\", \\\"Gross Rent\\\"], [\\\"2016\\\", \\\"Gross Rent\\\"], [\\\"2010\\\", \\\"Sale Price/SqFt\\\"], [\\\"2011\\\", \\\"Sale Price/SqFt\\\"], [\\\"2013\\\", \\\"Sale Price/SqFt\\\"], [\\\"2014\\\", \\\"Sale Price/SqFt\\\"], [\\\"2015\\\", \\\"Sale Price/SqFt\\\"], [\\\"2016\\\", \\\"Sale Price/SqFt\\\"]]}}], \\\"references\\\": []}\",\"header\":\"{\\\"msgid\\\": \\\"7569\\\", \\\"msgtype\\\": \\\"PATCH-DOC\\\"}\",\"metadata\":\"{}\"},\"Golden Gate Heights\":{\"content\":\"{\\\"events\\\": [{\\\"attr\\\": \\\"factors\\\", \\\"kind\\\": \\\"ModelChanged\\\", \\\"model\\\": {\\\"id\\\": \\\"7081\\\"}, \\\"new\\\": [[\\\"2010\\\", \\\"Gross Rent\\\"], [\\\"2010\\\", \\\"Sale Price/SqFt\\\"], [\\\"2011\\\", \\\"Gross Rent\\\"], [\\\"2011\\\", \\\"Sale Price/SqFt\\\"], [\\\"2013\\\", \\\"Gross Rent\\\"], [\\\"2013\\\", \\\"Sale Price/SqFt\\\"], [\\\"2014\\\", \\\"Gross Rent\\\"], [\\\"2014\\\", \\\"Sale Price/SqFt\\\"], [\\\"2015\\\", \\\"Gross Rent\\\"], [\\\"2015\\\", \\\"Sale Price/SqFt\\\"]]}, {\\\"cols\\\": null, \\\"column_source\\\": {\\\"id\\\": \\\"7114\\\"}, \\\"kind\\\": \\\"ColumnDataChanged\\\", \\\"new\\\": {\\\"Variable\\\": [\\\"Gross Rent\\\", \\\"Gross Rent\\\", \\\"Gross Rent\\\", \\\"Gross Rent\\\", \\\"Gross Rent\\\", \\\"Sale Price/SqFt\\\", \\\"Sale Price/SqFt\\\", \\\"Sale Price/SqFt\\\", \\\"Sale Price/SqFt\\\", \\\"Sale Price/SqFt\\\"], \\\"Year\\\": [\\\"2010\\\", \\\"2011\\\", \\\"2013\\\", \\\"2014\\\", \\\"2015\\\", \\\"2010\\\", \\\"2011\\\", \\\"2013\\\", \\\"2014\\\", \\\"2015\\\"], \\\"value\\\": [1239, 1530, 2971, 3528, 3739, 551, 348, 956, 567, 772], \\\"xoffsets\\\": [[\\\"2010\\\", \\\"Gross Rent\\\"], [\\\"2011\\\", \\\"Gross Rent\\\"], [\\\"2013\\\", \\\"Gross Rent\\\"], [\\\"2014\\\", \\\"Gross Rent\\\"], [\\\"2015\\\", \\\"Gross Rent\\\"], [\\\"2010\\\", \\\"Sale Price/SqFt\\\"], [\\\"2011\\\", \\\"Sale Price/SqFt\\\"], [\\\"2013\\\", \\\"Sale Price/SqFt\\\"], [\\\"2014\\\", \\\"Sale Price/SqFt\\\"], [\\\"2015\\\", \\\"Sale Price/SqFt\\\"]]}}], \\\"references\\\": []}\",\"header\":\"{\\\"msgid\\\": \\\"7562\\\", \\\"msgtype\\\": \\\"PATCH-DOC\\\"}\",\"metadata\":\"{}\"},\"Haight Ashbury\":{\"content\":\"{\\\"events\\\": [{\\\"cols\\\": null, \\\"column_source\\\": {\\\"id\\\": \\\"7114\\\"}, \\\"kind\\\": \\\"ColumnDataChanged\\\", \\\"new\\\": {\\\"Variable\\\": [\\\"Gross Rent\\\", \\\"Gross Rent\\\", \\\"Gross Rent\\\", \\\"Gross Rent\\\", \\\"Gross Rent\\\", \\\"Gross Rent\\\", \\\"Gross Rent\\\", \\\"Sale Price/SqFt\\\", \\\"Sale Price/SqFt\\\", \\\"Sale Price/SqFt\\\", \\\"Sale Price/SqFt\\\", \\\"Sale Price/SqFt\\\", \\\"Sale Price/SqFt\\\", \\\"Sale Price/SqFt\\\"], \\\"Year\\\": [\\\"2010\\\", \\\"2011\\\", \\\"2012\\\", \\\"2013\\\", \\\"2014\\\", \\\"2015\\\", \\\"2016\\\", \\\"2010\\\", \\\"2011\\\", \\\"2012\\\", \\\"2013\\\", \\\"2014\\\", \\\"2015\\\", \\\"2016\\\"], \\\"value\\\": [1239, 1530, 2324, 2971, 3528, 3739, 4390, 254, 392, 418, 478, 496, 574, 531], \\\"xoffsets\\\": [[\\\"2010\\\", \\\"Gross Rent\\\"], [\\\"2011\\\", \\\"Gross Rent\\\"], [\\\"2012\\\", \\\"Gross Rent\\\"], [\\\"2013\\\", \\\"Gross Rent\\\"], [\\\"2014\\\", \\\"Gross Rent\\\"], [\\\"2015\\\", \\\"Gross Rent\\\"], [\\\"2016\\\", \\\"Gross Rent\\\"], [\\\"2010\\\", \\\"Sale Price/SqFt\\\"], [\\\"2011\\\", \\\"Sale Price/SqFt\\\"], [\\\"2012\\\", \\\"Sale Price/SqFt\\\"], [\\\"2013\\\", \\\"Sale Price/SqFt\\\"], [\\\"2014\\\", \\\"Sale Price/SqFt\\\"], [\\\"2015\\\", \\\"Sale Price/SqFt\\\"], [\\\"2016\\\", \\\"Sale Price/SqFt\\\"]]}}], \\\"references\\\": []}\",\"header\":\"{\\\"msgid\\\": \\\"7555\\\", \\\"msgtype\\\": \\\"PATCH-DOC\\\"}\",\"metadata\":\"{}\"},\"Hayes Valley\":{\"content\":\"{\\\"events\\\": [{\\\"attr\\\": \\\"factors\\\", \\\"kind\\\": \\\"ModelChanged\\\", \\\"model\\\": {\\\"id\\\": \\\"7081\\\"}, \\\"new\\\": [[\\\"2010\\\", \\\"Gross Rent\\\"], [\\\"2010\\\", \\\"Sale Price/SqFt\\\"], [\\\"2011\\\", \\\"Gross Rent\\\"], [\\\"2011\\\", \\\"Sale Price/SqFt\\\"], [\\\"2012\\\", \\\"Gross Rent\\\"], [\\\"2012\\\", \\\"Sale Price/SqFt\\\"], [\\\"2013\\\", \\\"Gross Rent\\\"], [\\\"2013\\\", \\\"Sale Price/SqFt\\\"], [\\\"2014\\\", \\\"Gross Rent\\\"], [\\\"2014\\\", \\\"Sale Price/SqFt\\\"], [\\\"2015\\\", \\\"Gross Rent\\\"], [\\\"2015\\\", \\\"Sale Price/SqFt\\\"], [\\\"2016\\\", \\\"Gross Rent\\\"], [\\\"2016\\\", \\\"Sale Price/SqFt\\\"]]}, {\\\"cols\\\": null, \\\"column_source\\\": {\\\"id\\\": \\\"7114\\\"}, \\\"kind\\\": \\\"ColumnDataChanged\\\", \\\"new\\\": {\\\"Variable\\\": [\\\"Gross Rent\\\", \\\"Gross Rent\\\", \\\"Gross Rent\\\", \\\"Gross Rent\\\", \\\"Gross Rent\\\", \\\"Gross Rent\\\", \\\"Gross Rent\\\", \\\"Sale Price/SqFt\\\", \\\"Sale Price/SqFt\\\", \\\"Sale Price/SqFt\\\", \\\"Sale Price/SqFt\\\", \\\"Sale Price/SqFt\\\", \\\"Sale Price/SqFt\\\", \\\"Sale Price/SqFt\\\"], \\\"Year\\\": [\\\"2010\\\", \\\"2011\\\", \\\"2012\\\", \\\"2013\\\", \\\"2014\\\", \\\"2015\\\", \\\"2016\\\", \\\"2010\\\", \\\"2011\\\", \\\"2012\\\", \\\"2013\\\", \\\"2014\\\", \\\"2015\\\", \\\"2016\\\"], \\\"value\\\": [1239, 1530, 2324, 2971, 3528, 3739, 4390, 272, 280, 306, 491, 428, 536, 175], \\\"xoffsets\\\": [[\\\"2010\\\", \\\"Gross Rent\\\"], [\\\"2011\\\", \\\"Gross Rent\\\"], [\\\"2012\\\", \\\"Gross Rent\\\"], [\\\"2013\\\", \\\"Gross Rent\\\"], [\\\"2014\\\", \\\"Gross Rent\\\"], [\\\"2015\\\", \\\"Gross Rent\\\"], [\\\"2016\\\", \\\"Gross Rent\\\"], [\\\"2010\\\", \\\"Sale Price/SqFt\\\"], [\\\"2011\\\", \\\"Sale Price/SqFt\\\"], [\\\"2012\\\", \\\"Sale Price/SqFt\\\"], [\\\"2013\\\", \\\"Sale Price/SqFt\\\"], [\\\"2014\\\", \\\"Sale Price/SqFt\\\"], [\\\"2015\\\", \\\"Sale Price/SqFt\\\"], [\\\"2016\\\", \\\"Sale Price/SqFt\\\"]]}}], \\\"references\\\": []}\",\"header\":\"{\\\"msgid\\\": \\\"7548\\\", \\\"msgtype\\\": \\\"PATCH-DOC\\\"}\",\"metadata\":\"{}\"},\"Hunters Point\":{\"content\":\"{\\\"events\\\": [{\\\"attr\\\": \\\"factors\\\", \\\"kind\\\": \\\"ModelChanged\\\", \\\"model\\\": {\\\"id\\\": \\\"7081\\\"}, \\\"new\\\": [[\\\"2010\\\", \\\"Gross Rent\\\"], [\\\"2010\\\", \\\"Sale Price/SqFt\\\"], [\\\"2015\\\", \\\"Gross Rent\\\"], [\\\"2015\\\", \\\"Sale Price/SqFt\\\"]]}, {\\\"cols\\\": null, \\\"column_source\\\": {\\\"id\\\": \\\"7114\\\"}, \\\"kind\\\": \\\"ColumnDataChanged\\\", \\\"new\\\": {\\\"Variable\\\": [\\\"Gross Rent\\\", \\\"Gross Rent\\\", \\\"Sale Price/SqFt\\\", \\\"Sale Price/SqFt\\\"], \\\"Year\\\": [\\\"2010\\\", \\\"2015\\\", \\\"2010\\\", \\\"2015\\\"], \\\"value\\\": [1239, 3739, 170, 0], \\\"xoffsets\\\": [[\\\"2010\\\", \\\"Gross Rent\\\"], [\\\"2015\\\", \\\"Gross Rent\\\"], [\\\"2010\\\", \\\"Sale Price/SqFt\\\"], [\\\"2015\\\", \\\"Sale Price/SqFt\\\"]]}}], \\\"references\\\": []}\",\"header\":\"{\\\"msgid\\\": \\\"7541\\\", \\\"msgtype\\\": \\\"PATCH-DOC\\\"}\",\"metadata\":\"{}\"},\"Ingleside \":{\"content\":\"{\\\"events\\\": [{\\\"attr\\\": \\\"factors\\\", \\\"kind\\\": \\\"ModelChanged\\\", \\\"model\\\": {\\\"id\\\": \\\"7081\\\"}, \\\"new\\\": [[\\\"2010\\\", \\\"Gross Rent\\\"], [\\\"2010\\\", \\\"Sale Price/SqFt\\\"], [\\\"2011\\\", \\\"Gross Rent\\\"], [\\\"2011\\\", \\\"Sale Price/SqFt\\\"], [\\\"2014\\\", \\\"Gross Rent\\\"], [\\\"2014\\\", \\\"Sale Price/SqFt\\\"], [\\\"2015\\\", \\\"Gross Rent\\\"], [\\\"2015\\\", \\\"Sale Price/SqFt\\\"]]}, {\\\"cols\\\": null, \\\"column_source\\\": {\\\"id\\\": \\\"7114\\\"}, \\\"kind\\\": \\\"ColumnDataChanged\\\", \\\"new\\\": {\\\"Variable\\\": [\\\"Gross Rent\\\", \\\"Gross Rent\\\", \\\"Gross Rent\\\", \\\"Gross Rent\\\", \\\"Sale Price/SqFt\\\", \\\"Sale Price/SqFt\\\", \\\"Sale Price/SqFt\\\", \\\"Sale Price/SqFt\\\"], \\\"Year\\\": [\\\"2010\\\", \\\"2011\\\", \\\"2014\\\", \\\"2015\\\", \\\"2010\\\", \\\"2011\\\", \\\"2014\\\", \\\"2015\\\"], \\\"value\\\": [1239, 1530, 3528, 3739, 275, 356, 647, 192], \\\"xoffsets\\\": [[\\\"2010\\\", \\\"Gross Rent\\\"], [\\\"2011\\\", \\\"Gross Rent\\\"], [\\\"2014\\\", \\\"Gross Rent\\\"], [\\\"2015\\\", \\\"Gross Rent\\\"], [\\\"2010\\\", \\\"Sale Price/SqFt\\\"], [\\\"2011\\\", \\\"Sale Price/SqFt\\\"], [\\\"2014\\\", \\\"Sale Price/SqFt\\\"], [\\\"2015\\\", \\\"Sale Price/SqFt\\\"]]}}], \\\"references\\\": []}\",\"header\":\"{\\\"msgid\\\": \\\"7534\\\", \\\"msgtype\\\": \\\"PATCH-DOC\\\"}\",\"metadata\":\"{}\"},\"Ingleside Heights\":{\"content\":\"{\\\"events\\\": [{\\\"attr\\\": \\\"factors\\\", \\\"kind\\\": \\\"ModelChanged\\\", \\\"model\\\": {\\\"id\\\": \\\"7081\\\"}, \\\"new\\\": [[\\\"2011\\\", \\\"Gross Rent\\\"], [\\\"2011\\\", \\\"Sale Price/SqFt\\\"], [\\\"2016\\\", \\\"Gross Rent\\\"], [\\\"2016\\\", \\\"Sale Price/SqFt\\\"]]}, {\\\"cols\\\": null, \\\"column_source\\\": {\\\"id\\\": \\\"7114\\\"}, \\\"kind\\\": \\\"ColumnDataChanged\\\", \\\"new\\\": {\\\"Variable\\\": [\\\"Gross Rent\\\", \\\"Gross Rent\\\", \\\"Sale Price/SqFt\\\", \\\"Sale Price/SqFt\\\"], \\\"Year\\\": [\\\"2011\\\", \\\"2016\\\", \\\"2011\\\", \\\"2016\\\"], \\\"value\\\": [1530, 4390, 198, 571], \\\"xoffsets\\\": [[\\\"2011\\\", \\\"Gross Rent\\\"], [\\\"2016\\\", \\\"Gross Rent\\\"], [\\\"2011\\\", \\\"Sale Price/SqFt\\\"], [\\\"2016\\\", \\\"Sale Price/SqFt\\\"]]}}], \\\"references\\\": []}\",\"header\":\"{\\\"msgid\\\": \\\"7527\\\", \\\"msgtype\\\": \\\"PATCH-DOC\\\"}\",\"metadata\":\"{}\"},\"Inner Mission\":{\"content\":\"{\\\"events\\\": [{\\\"attr\\\": \\\"factors\\\", \\\"kind\\\": \\\"ModelChanged\\\", \\\"model\\\": {\\\"id\\\": \\\"7081\\\"}, \\\"new\\\": [[\\\"2010\\\", \\\"Gross Rent\\\"], [\\\"2010\\\", \\\"Sale Price/SqFt\\\"], [\\\"2011\\\", \\\"Gross Rent\\\"], [\\\"2011\\\", \\\"Sale Price/SqFt\\\"], [\\\"2012\\\", \\\"Gross Rent\\\"], [\\\"2012\\\", \\\"Sale Price/SqFt\\\"], [\\\"2013\\\", \\\"Gross Rent\\\"], [\\\"2013\\\", \\\"Sale Price/SqFt\\\"], [\\\"2014\\\", \\\"Gross Rent\\\"], [\\\"2014\\\", \\\"Sale Price/SqFt\\\"], [\\\"2015\\\", \\\"Gross Rent\\\"], [\\\"2015\\\", \\\"Sale Price/SqFt\\\"], [\\\"2016\\\", \\\"Gross Rent\\\"], [\\\"2016\\\", \\\"Sale Price/SqFt\\\"]]}, {\\\"cols\\\": null, \\\"column_source\\\": {\\\"id\\\": \\\"7114\\\"}, \\\"kind\\\": \\\"ColumnDataChanged\\\", \\\"new\\\": {\\\"Variable\\\": [\\\"Gross Rent\\\", \\\"Gross Rent\\\", \\\"Gross Rent\\\", \\\"Gross Rent\\\", \\\"Gross Rent\\\", \\\"Gross Rent\\\", \\\"Gross Rent\\\", \\\"Sale Price/SqFt\\\", \\\"Sale Price/SqFt\\\", \\\"Sale Price/SqFt\\\", \\\"Sale Price/SqFt\\\", \\\"Sale Price/SqFt\\\", \\\"Sale Price/SqFt\\\", \\\"Sale Price/SqFt\\\"], \\\"Year\\\": [\\\"2010\\\", \\\"2011\\\", \\\"2012\\\", \\\"2013\\\", \\\"2014\\\", \\\"2015\\\", \\\"2016\\\", \\\"2010\\\", \\\"2011\\\", \\\"2012\\\", \\\"2013\\\", \\\"2014\\\", \\\"2015\\\", \\\"2016\\\"], \\\"value\\\": [1239, 1530, 2324, 2971, 3528, 3739, 4390, 238, 283, 336, 377, 464, 435, 647], \\\"xoffsets\\\": [[\\\"2010\\\", \\\"Gross Rent\\\"], [\\\"2011\\\", \\\"Gross Rent\\\"], [\\\"2012\\\", \\\"Gross Rent\\\"], [\\\"2013\\\", \\\"Gross Rent\\\"], [\\\"2014\\\", \\\"Gross Rent\\\"], [\\\"2015\\\", \\\"Gross Rent\\\"], [\\\"2016\\\", \\\"Gross Rent\\\"], [\\\"2010\\\", \\\"Sale Price/SqFt\\\"], [\\\"2011\\\", \\\"Sale Price/SqFt\\\"], [\\\"2012\\\", \\\"Sale Price/SqFt\\\"], [\\\"2013\\\", \\\"Sale Price/SqFt\\\"], [\\\"2014\\\", \\\"Sale Price/SqFt\\\"], [\\\"2015\\\", \\\"Sale Price/SqFt\\\"], [\\\"2016\\\", \\\"Sale Price/SqFt\\\"]]}}], \\\"references\\\": []}\",\"header\":\"{\\\"msgid\\\": \\\"7520\\\", \\\"msgtype\\\": \\\"PATCH-DOC\\\"}\",\"metadata\":\"{}\"},\"Inner Parkside\":{\"content\":\"{\\\"events\\\": [{\\\"attr\\\": \\\"factors\\\", \\\"kind\\\": \\\"ModelChanged\\\", \\\"model\\\": {\\\"id\\\": \\\"7081\\\"}, \\\"new\\\": [[\\\"2010\\\", \\\"Gross Rent\\\"], [\\\"2010\\\", \\\"Sale Price/SqFt\\\"], [\\\"2014\\\", \\\"Gross Rent\\\"], [\\\"2014\\\", \\\"Sale Price/SqFt\\\"], [\\\"2015\\\", \\\"Gross Rent\\\"], [\\\"2015\\\", \\\"Sale Price/SqFt\\\"], [\\\"2016\\\", \\\"Gross Rent\\\"], [\\\"2016\\\", \\\"Sale Price/SqFt\\\"]]}, {\\\"cols\\\": null, \\\"column_source\\\": {\\\"id\\\": \\\"7114\\\"}, \\\"kind\\\": \\\"ColumnDataChanged\\\", \\\"new\\\": {\\\"Variable\\\": [\\\"Gross Rent\\\", \\\"Gross Rent\\\", \\\"Gross Rent\\\", \\\"Gross Rent\\\", \\\"Sale Price/SqFt\\\", \\\"Sale Price/SqFt\\\", \\\"Sale Price/SqFt\\\", \\\"Sale Price/SqFt\\\"], \\\"Year\\\": [\\\"2010\\\", \\\"2014\\\", \\\"2015\\\", \\\"2016\\\", \\\"2010\\\", \\\"2014\\\", \\\"2015\\\", \\\"2016\\\"], \\\"value\\\": [1239, 3528, 3739, 4390, 199, 597, 762, 518], \\\"xoffsets\\\": [[\\\"2010\\\", \\\"Gross Rent\\\"], [\\\"2014\\\", \\\"Gross Rent\\\"], [\\\"2015\\\", \\\"Gross Rent\\\"], [\\\"2016\\\", \\\"Gross Rent\\\"], [\\\"2010\\\", \\\"Sale Price/SqFt\\\"], [\\\"2014\\\", \\\"Sale Price/SqFt\\\"], [\\\"2015\\\", \\\"Sale Price/SqFt\\\"], [\\\"2016\\\", \\\"Sale Price/SqFt\\\"]]}}], \\\"references\\\": []}\",\"header\":\"{\\\"msgid\\\": \\\"7513\\\", \\\"msgtype\\\": \\\"PATCH-DOC\\\"}\",\"metadata\":\"{}\"},\"Inner Richmond\":{\"content\":\"{\\\"events\\\": [{\\\"cols\\\": null, \\\"column_source\\\": {\\\"id\\\": \\\"7114\\\"}, \\\"kind\\\": \\\"ColumnDataChanged\\\", \\\"new\\\": {\\\"Variable\\\": [\\\"Gross Rent\\\", \\\"Gross Rent\\\", \\\"Gross Rent\\\", \\\"Gross Rent\\\", \\\"Gross Rent\\\", \\\"Gross Rent\\\", \\\"Gross Rent\\\", \\\"Sale Price/SqFt\\\", \\\"Sale Price/SqFt\\\", \\\"Sale Price/SqFt\\\", \\\"Sale Price/SqFt\\\", \\\"Sale Price/SqFt\\\", \\\"Sale Price/SqFt\\\", \\\"Sale Price/SqFt\\\"], \\\"Year\\\": [\\\"2010\\\", \\\"2011\\\", \\\"2012\\\", \\\"2013\\\", \\\"2014\\\", \\\"2015\\\", \\\"2016\\\", \\\"2010\\\", \\\"2011\\\", \\\"2012\\\", \\\"2013\\\", \\\"2014\\\", \\\"2015\\\", \\\"2016\\\"], \\\"value\\\": [1239, 1530, 2324, 2971, 3528, 3739, 4390, 285, 360, 373, 302, 430, 493, 403], \\\"xoffsets\\\": [[\\\"2010\\\", \\\"Gross Rent\\\"], [\\\"2011\\\", \\\"Gross Rent\\\"], [\\\"2012\\\", \\\"Gross Rent\\\"], [\\\"2013\\\", \\\"Gross Rent\\\"], [\\\"2014\\\", \\\"Gross Rent\\\"], [\\\"2015\\\", \\\"Gross Rent\\\"], [\\\"2016\\\", \\\"Gross Rent\\\"], [\\\"2010\\\", \\\"Sale Price/SqFt\\\"], [\\\"2011\\\", \\\"Sale Price/SqFt\\\"], [\\\"2012\\\", \\\"Sale Price/SqFt\\\"], [\\\"2013\\\", \\\"Sale Price/SqFt\\\"], [\\\"2014\\\", \\\"Sale Price/SqFt\\\"], [\\\"2015\\\", \\\"Sale Price/SqFt\\\"], [\\\"2016\\\", \\\"Sale Price/SqFt\\\"]]}}], \\\"references\\\": []}\",\"header\":\"{\\\"msgid\\\": \\\"7506\\\", \\\"msgtype\\\": \\\"PATCH-DOC\\\"}\",\"metadata\":\"{}\"},\"Inner Sunset\":{\"content\":\"{\\\"events\\\": [{\\\"cols\\\": null, \\\"column_source\\\": {\\\"id\\\": \\\"7114\\\"}, \\\"kind\\\": \\\"ColumnDataChanged\\\", \\\"new\\\": {\\\"Variable\\\": [\\\"Gross Rent\\\", \\\"Gross Rent\\\", \\\"Gross Rent\\\", \\\"Gross Rent\\\", \\\"Gross Rent\\\", \\\"Gross Rent\\\", \\\"Gross Rent\\\", \\\"Sale Price/SqFt\\\", \\\"Sale Price/SqFt\\\", \\\"Sale Price/SqFt\\\", \\\"Sale Price/SqFt\\\", \\\"Sale Price/SqFt\\\", \\\"Sale Price/SqFt\\\", \\\"Sale Price/SqFt\\\"], \\\"Year\\\": [\\\"2010\\\", \\\"2011\\\", \\\"2012\\\", \\\"2013\\\", \\\"2014\\\", \\\"2015\\\", \\\"2016\\\", \\\"2010\\\", \\\"2011\\\", \\\"2012\\\", \\\"2013\\\", \\\"2014\\\", \\\"2015\\\", \\\"2016\\\"], \\\"value\\\": [1239, 1530, 2324, 2971, 3528, 3739, 4390, 275, 302, 325, 435, 470, 639, 445], \\\"xoffsets\\\": [[\\\"2010\\\", \\\"Gross Rent\\\"], [\\\"2011\\\", \\\"Gross Rent\\\"], [\\\"2012\\\", \\\"Gross Rent\\\"], [\\\"2013\\\", \\\"Gross Rent\\\"], [\\\"2014\\\", \\\"Gross Rent\\\"], [\\\"2015\\\", \\\"Gross Rent\\\"], [\\\"2016\\\", \\\"Gross Rent\\\"], [\\\"2010\\\", \\\"Sale Price/SqFt\\\"], [\\\"2011\\\", \\\"Sale Price/SqFt\\\"], [\\\"2012\\\", \\\"Sale Price/SqFt\\\"], [\\\"2013\\\", \\\"Sale Price/SqFt\\\"], [\\\"2014\\\", \\\"Sale Price/SqFt\\\"], [\\\"2015\\\", \\\"Sale Price/SqFt\\\"], [\\\"2016\\\", \\\"Sale Price/SqFt\\\"]]}}], \\\"references\\\": []}\",\"header\":\"{\\\"msgid\\\": \\\"7499\\\", \\\"msgtype\\\": \\\"PATCH-DOC\\\"}\",\"metadata\":\"{}\"},\"Jordan Park/Laurel Heights\":{\"content\":\"{\\\"events\\\": [{\\\"attr\\\": \\\"factors\\\", \\\"kind\\\": \\\"ModelChanged\\\", \\\"model\\\": {\\\"id\\\": \\\"7081\\\"}, \\\"new\\\": [[\\\"2010\\\", \\\"Gross Rent\\\"], [\\\"2010\\\", \\\"Sale Price/SqFt\\\"], [\\\"2011\\\", \\\"Gross Rent\\\"], [\\\"2011\\\", \\\"Sale Price/SqFt\\\"], [\\\"2012\\\", \\\"Gross Rent\\\"], [\\\"2012\\\", \\\"Sale Price/SqFt\\\"], [\\\"2013\\\", \\\"Gross Rent\\\"], [\\\"2013\\\", \\\"Sale Price/SqFt\\\"], [\\\"2014\\\", \\\"Gross Rent\\\"], [\\\"2014\\\", \\\"Sale Price/SqFt\\\"], [\\\"2015\\\", \\\"Gross Rent\\\"], [\\\"2015\\\", \\\"Sale Price/SqFt\\\"], [\\\"2016\\\", \\\"Gross Rent\\\"], [\\\"2016\\\", \\\"Sale Price/SqFt\\\"]]}, {\\\"cols\\\": null, \\\"column_source\\\": {\\\"id\\\": \\\"7114\\\"}, \\\"kind\\\": \\\"ColumnDataChanged\\\", \\\"new\\\": {\\\"Variable\\\": [\\\"Gross Rent\\\", \\\"Gross Rent\\\", \\\"Gross Rent\\\", \\\"Gross Rent\\\", \\\"Gross Rent\\\", \\\"Gross Rent\\\", \\\"Gross Rent\\\", \\\"Sale Price/SqFt\\\", \\\"Sale Price/SqFt\\\", \\\"Sale Price/SqFt\\\", \\\"Sale Price/SqFt\\\", \\\"Sale Price/SqFt\\\", \\\"Sale Price/SqFt\\\", \\\"Sale Price/SqFt\\\"], \\\"Year\\\": [\\\"2010\\\", \\\"2011\\\", \\\"2012\\\", \\\"2013\\\", \\\"2014\\\", \\\"2015\\\", \\\"2016\\\", \\\"2010\\\", \\\"2011\\\", \\\"2012\\\", \\\"2013\\\", \\\"2014\\\", \\\"2015\\\", \\\"2016\\\"], \\\"value\\\": [1239, 1530, 2324, 2971, 3528, 3739, 4390, 419, 610, 383, 584, 426, 576, 704], \\\"xoffsets\\\": [[\\\"2010\\\", \\\"Gross Rent\\\"], [\\\"2011\\\", \\\"Gross Rent\\\"], [\\\"2012\\\", \\\"Gross Rent\\\"], [\\\"2013\\\", \\\"Gross Rent\\\"], [\\\"2014\\\", \\\"Gross Rent\\\"], [\\\"2015\\\", \\\"Gross Rent\\\"], [\\\"2016\\\", \\\"Gross Rent\\\"], [\\\"2010\\\", \\\"Sale Price/SqFt\\\"], [\\\"2011\\\", \\\"Sale Price/SqFt\\\"], [\\\"2012\\\", \\\"Sale Price/SqFt\\\"], [\\\"2013\\\", \\\"Sale Price/SqFt\\\"], [\\\"2014\\\", \\\"Sale Price/SqFt\\\"], [\\\"2015\\\", \\\"Sale Price/SqFt\\\"], [\\\"2016\\\", \\\"Sale Price/SqFt\\\"]]}}], \\\"references\\\": []}\",\"header\":\"{\\\"msgid\\\": \\\"7492\\\", \\\"msgtype\\\": \\\"PATCH-DOC\\\"}\",\"metadata\":\"{}\"},\"Lake --The Presidio\":{\"content\":\"{\\\"events\\\": [{\\\"cols\\\": null, \\\"column_source\\\": {\\\"id\\\": \\\"7114\\\"}, \\\"kind\\\": \\\"ColumnDataChanged\\\", \\\"new\\\": {\\\"Variable\\\": [\\\"Gross Rent\\\", \\\"Gross Rent\\\", \\\"Gross Rent\\\", \\\"Gross Rent\\\", \\\"Gross Rent\\\", \\\"Gross Rent\\\", \\\"Sale Price/SqFt\\\", \\\"Sale Price/SqFt\\\", \\\"Sale Price/SqFt\\\", \\\"Sale Price/SqFt\\\", \\\"Sale Price/SqFt\\\", \\\"Sale Price/SqFt\\\"], \\\"Year\\\": [\\\"2010\\\", \\\"2011\\\", \\\"2012\\\", \\\"2013\\\", \\\"2014\\\", \\\"2015\\\", \\\"2010\\\", \\\"2011\\\", \\\"2012\\\", \\\"2013\\\", \\\"2014\\\", \\\"2015\\\"], \\\"value\\\": [1239, 1530, 2324, 2971, 3528, 3739, 320, 330, 380, 568, 432, 426], \\\"xoffsets\\\": [[\\\"2010\\\", \\\"Gross Rent\\\"], [\\\"2011\\\", \\\"Gross Rent\\\"], [\\\"2012\\\", \\\"Gross Rent\\\"], [\\\"2013\\\", \\\"Gross Rent\\\"], [\\\"2014\\\", \\\"Gross Rent\\\"], [\\\"2015\\\", \\\"Gross Rent\\\"], [\\\"2010\\\", \\\"Sale Price/SqFt\\\"], [\\\"2011\\\", \\\"Sale Price/SqFt\\\"], [\\\"2012\\\", \\\"Sale Price/SqFt\\\"], [\\\"2013\\\", \\\"Sale Price/SqFt\\\"], [\\\"2014\\\", \\\"Sale Price/SqFt\\\"], [\\\"2015\\\", \\\"Sale Price/SqFt\\\"]]}}], \\\"references\\\": []}\",\"header\":\"{\\\"msgid\\\": \\\"7485\\\", \\\"msgtype\\\": \\\"PATCH-DOC\\\"}\",\"metadata\":\"{}\"},\"Lone Mountain\":{\"content\":\"{\\\"events\\\": [{\\\"attr\\\": \\\"factors\\\", \\\"kind\\\": \\\"ModelChanged\\\", \\\"model\\\": {\\\"id\\\": \\\"7081\\\"}, \\\"new\\\": [[\\\"2010\\\", \\\"Gross Rent\\\"], [\\\"2010\\\", \\\"Sale Price/SqFt\\\"], [\\\"2011\\\", \\\"Gross Rent\\\"], [\\\"2011\\\", \\\"Sale Price/SqFt\\\"], [\\\"2012\\\", \\\"Gross Rent\\\"], [\\\"2012\\\", \\\"Sale Price/SqFt\\\"], [\\\"2013\\\", \\\"Gross Rent\\\"], [\\\"2013\\\", \\\"Sale Price/SqFt\\\"], [\\\"2014\\\", \\\"Gross Rent\\\"], [\\\"2014\\\", \\\"Sale Price/SqFt\\\"], [\\\"2015\\\", \\\"Gross Rent\\\"], [\\\"2015\\\", \\\"Sale Price/SqFt\\\"]]}, {\\\"cols\\\": null, \\\"column_source\\\": {\\\"id\\\": \\\"7114\\\"}, \\\"kind\\\": \\\"ColumnDataChanged\\\", \\\"new\\\": {\\\"Variable\\\": [\\\"Gross Rent\\\", \\\"Gross Rent\\\", \\\"Gross Rent\\\", \\\"Gross Rent\\\", \\\"Gross Rent\\\", \\\"Gross Rent\\\", \\\"Sale Price/SqFt\\\", \\\"Sale Price/SqFt\\\", \\\"Sale Price/SqFt\\\", \\\"Sale Price/SqFt\\\", \\\"Sale Price/SqFt\\\", \\\"Sale Price/SqFt\\\"], \\\"Year\\\": [\\\"2010\\\", \\\"2011\\\", \\\"2012\\\", \\\"2013\\\", \\\"2014\\\", \\\"2015\\\", \\\"2010\\\", \\\"2011\\\", \\\"2012\\\", \\\"2013\\\", \\\"2014\\\", \\\"2015\\\"], \\\"value\\\": [1239, 1530, 2324, 2971, 3528, 3739, 398, 313, 545, 376, 317, 918], \\\"xoffsets\\\": [[\\\"2010\\\", \\\"Gross Rent\\\"], [\\\"2011\\\", \\\"Gross Rent\\\"], [\\\"2012\\\", \\\"Gross Rent\\\"], [\\\"2013\\\", \\\"Gross Rent\\\"], [\\\"2014\\\", \\\"Gross Rent\\\"], [\\\"2015\\\", \\\"Gross Rent\\\"], [\\\"2010\\\", \\\"Sale Price/SqFt\\\"], [\\\"2011\\\", \\\"Sale Price/SqFt\\\"], [\\\"2012\\\", \\\"Sale Price/SqFt\\\"], [\\\"2013\\\", \\\"Sale Price/SqFt\\\"], [\\\"2014\\\", \\\"Sale Price/SqFt\\\"], [\\\"2015\\\", \\\"Sale Price/SqFt\\\"]]}}], \\\"references\\\": []}\",\"header\":\"{\\\"msgid\\\": \\\"7478\\\", \\\"msgtype\\\": \\\"PATCH-DOC\\\"}\",\"metadata\":\"{}\"},\"Lower Pacific Heights\":{\"content\":\"{\\\"events\\\": [{\\\"cols\\\": null, \\\"column_source\\\": {\\\"id\\\": \\\"7114\\\"}, \\\"kind\\\": \\\"ColumnDataChanged\\\", \\\"new\\\": {\\\"Variable\\\": [\\\"Gross Rent\\\", \\\"Gross Rent\\\", \\\"Gross Rent\\\", \\\"Gross Rent\\\", \\\"Gross Rent\\\", \\\"Gross Rent\\\", \\\"Gross Rent\\\", \\\"Sale Price/SqFt\\\", \\\"Sale Price/SqFt\\\", \\\"Sale Price/SqFt\\\", \\\"Sale Price/SqFt\\\", \\\"Sale Price/SqFt\\\", \\\"Sale Price/SqFt\\\", \\\"Sale Price/SqFt\\\"], \\\"Year\\\": [\\\"2010\\\", \\\"2011\\\", \\\"2012\\\", \\\"2013\\\", \\\"2014\\\", \\\"2015\\\", \\\"2016\\\", \\\"2010\\\", \\\"2011\\\", \\\"2012\\\", \\\"2013\\\", \\\"2014\\\", \\\"2015\\\", \\\"2016\\\"], \\\"value\\\": [1239, 1530, 2324, 2971, 3528, 3739, 4390, 374, 303, 396, 548, 716, 800, 636], \\\"xoffsets\\\": [[\\\"2010\\\", \\\"Gross Rent\\\"], [\\\"2011\\\", \\\"Gross Rent\\\"], [\\\"2012\\\", \\\"Gross Rent\\\"], [\\\"2013\\\", \\\"Gross Rent\\\"], [\\\"2014\\\", \\\"Gross Rent\\\"], [\\\"2015\\\", \\\"Gross Rent\\\"], [\\\"2016\\\", \\\"Gross Rent\\\"], [\\\"2010\\\", \\\"Sale Price/SqFt\\\"], [\\\"2011\\\", \\\"Sale Price/SqFt\\\"], [\\\"2012\\\", \\\"Sale Price/SqFt\\\"], [\\\"2013\\\", \\\"Sale Price/SqFt\\\"], [\\\"2014\\\", \\\"Sale Price/SqFt\\\"], [\\\"2015\\\", \\\"Sale Price/SqFt\\\"], [\\\"2016\\\", \\\"Sale Price/SqFt\\\"]]}}], \\\"references\\\": []}\",\"header\":\"{\\\"msgid\\\": \\\"7471\\\", \\\"msgtype\\\": \\\"PATCH-DOC\\\"}\",\"metadata\":\"{}\"},\"Marina\":{\"content\":\"{\\\"events\\\": [{\\\"attr\\\": \\\"factors\\\", \\\"kind\\\": \\\"ModelChanged\\\", \\\"model\\\": {\\\"id\\\": \\\"7081\\\"}, \\\"new\\\": [[\\\"2010\\\", \\\"Gross Rent\\\"], [\\\"2010\\\", \\\"Sale Price/SqFt\\\"], [\\\"2011\\\", \\\"Gross Rent\\\"], [\\\"2011\\\", \\\"Sale Price/SqFt\\\"], [\\\"2012\\\", \\\"Gross Rent\\\"], [\\\"2012\\\", \\\"Sale Price/SqFt\\\"], [\\\"2013\\\", \\\"Gross Rent\\\"], [\\\"2013\\\", \\\"Sale Price/SqFt\\\"], [\\\"2014\\\", \\\"Gross Rent\\\"], [\\\"2014\\\", \\\"Sale Price/SqFt\\\"], [\\\"2015\\\", \\\"Gross Rent\\\"], [\\\"2015\\\", \\\"Sale Price/SqFt\\\"], [\\\"2016\\\", \\\"Gross Rent\\\"], [\\\"2016\\\", \\\"Sale Price/SqFt\\\"]]}, {\\\"cols\\\": null, \\\"column_source\\\": {\\\"id\\\": \\\"7114\\\"}, \\\"kind\\\": \\\"ColumnDataChanged\\\", \\\"new\\\": {\\\"Variable\\\": [\\\"Gross Rent\\\", \\\"Gross Rent\\\", \\\"Gross Rent\\\", \\\"Gross Rent\\\", \\\"Gross Rent\\\", \\\"Gross Rent\\\", \\\"Gross Rent\\\", \\\"Sale Price/SqFt\\\", \\\"Sale Price/SqFt\\\", \\\"Sale Price/SqFt\\\", \\\"Sale Price/SqFt\\\", \\\"Sale Price/SqFt\\\", \\\"Sale Price/SqFt\\\", \\\"Sale Price/SqFt\\\"], \\\"Year\\\": [\\\"2010\\\", \\\"2011\\\", \\\"2012\\\", \\\"2013\\\", \\\"2014\\\", \\\"2015\\\", \\\"2016\\\", \\\"2010\\\", \\\"2011\\\", \\\"2012\\\", \\\"2013\\\", \\\"2014\\\", \\\"2015\\\", \\\"2016\\\"], \\\"value\\\": [1239, 1530, 2324, 2971, 3528, 3739, 4390, 387, 390, 445, 655, 642, 1132, 431], \\\"xoffsets\\\": [[\\\"2010\\\", \\\"Gross Rent\\\"], [\\\"2011\\\", \\\"Gross Rent\\\"], [\\\"2012\\\", \\\"Gross Rent\\\"], [\\\"2013\\\", \\\"Gross Rent\\\"], [\\\"2014\\\", \\\"Gross Rent\\\"], [\\\"2015\\\", \\\"Gross Rent\\\"], [\\\"2016\\\", \\\"Gross Rent\\\"], [\\\"2010\\\", \\\"Sale Price/SqFt\\\"], [\\\"2011\\\", \\\"Sale Price/SqFt\\\"], [\\\"2012\\\", \\\"Sale Price/SqFt\\\"], [\\\"2013\\\", \\\"Sale Price/SqFt\\\"], [\\\"2014\\\", \\\"Sale Price/SqFt\\\"], [\\\"2015\\\", \\\"Sale Price/SqFt\\\"], [\\\"2016\\\", \\\"Sale Price/SqFt\\\"]]}}], \\\"references\\\": []}\",\"header\":\"{\\\"msgid\\\": \\\"7464\\\", \\\"msgtype\\\": \\\"PATCH-DOC\\\"}\",\"metadata\":\"{}\"},\"Merced Heights\":{\"content\":\"{\\\"events\\\": [{\\\"attr\\\": \\\"factors\\\", \\\"kind\\\": \\\"ModelChanged\\\", \\\"model\\\": {\\\"id\\\": \\\"7081\\\"}, \\\"new\\\": [[\\\"2012\\\", \\\"Gross Rent\\\"], [\\\"2012\\\", \\\"Sale Price/SqFt\\\"], [\\\"2014\\\", \\\"Gross Rent\\\"], [\\\"2014\\\", \\\"Sale Price/SqFt\\\"], [\\\"2016\\\", \\\"Gross Rent\\\"], [\\\"2016\\\", \\\"Sale Price/SqFt\\\"]]}, {\\\"cols\\\": null, \\\"column_source\\\": {\\\"id\\\": \\\"7114\\\"}, \\\"kind\\\": \\\"ColumnDataChanged\\\", \\\"new\\\": {\\\"Variable\\\": [\\\"Gross Rent\\\", \\\"Gross Rent\\\", \\\"Gross Rent\\\", \\\"Sale Price/SqFt\\\", \\\"Sale Price/SqFt\\\", \\\"Sale Price/SqFt\\\"], \\\"Year\\\": [\\\"2012\\\", \\\"2014\\\", \\\"2016\\\", \\\"2012\\\", \\\"2014\\\", \\\"2016\\\"], \\\"value\\\": [2324, 3528, 4390, 421, 528, 1416], \\\"xoffsets\\\": [[\\\"2012\\\", \\\"Gross Rent\\\"], [\\\"2014\\\", \\\"Gross Rent\\\"], [\\\"2016\\\", \\\"Gross Rent\\\"], [\\\"2012\\\", \\\"Sale Price/SqFt\\\"], [\\\"2014\\\", \\\"Sale Price/SqFt\\\"], [\\\"2016\\\", \\\"Sale Price/SqFt\\\"]]}}], \\\"references\\\": []}\",\"header\":\"{\\\"msgid\\\": \\\"7457\\\", \\\"msgtype\\\": \\\"PATCH-DOC\\\"}\",\"metadata\":\"{}\"},\"Midtown Terrace\":{\"content\":\"{\\\"events\\\": [{\\\"attr\\\": \\\"factors\\\", \\\"kind\\\": \\\"ModelChanged\\\", \\\"model\\\": {\\\"id\\\": \\\"7081\\\"}, \\\"new\\\": [[\\\"2012\\\", \\\"Gross Rent\\\"], [\\\"2012\\\", \\\"Sale Price/SqFt\\\"], [\\\"2013\\\", \\\"Gross Rent\\\"], [\\\"2013\\\", \\\"Sale Price/SqFt\\\"]]}, {\\\"cols\\\": null, \\\"column_source\\\": {\\\"id\\\": \\\"7114\\\"}, \\\"kind\\\": \\\"ColumnDataChanged\\\", \\\"new\\\": {\\\"Variable\\\": [\\\"Gross Rent\\\", \\\"Gross Rent\\\", \\\"Sale Price/SqFt\\\", \\\"Sale Price/SqFt\\\"], \\\"Year\\\": [\\\"2012\\\", \\\"2013\\\", \\\"2012\\\", \\\"2013\\\"], \\\"value\\\": [2324, 2971, 397, 703], \\\"xoffsets\\\": [[\\\"2012\\\", \\\"Gross Rent\\\"], [\\\"2013\\\", \\\"Gross Rent\\\"], [\\\"2012\\\", \\\"Sale Price/SqFt\\\"], [\\\"2013\\\", \\\"Sale Price/SqFt\\\"]]}}], \\\"references\\\": []}\",\"header\":\"{\\\"msgid\\\": \\\"7450\\\", \\\"msgtype\\\": \\\"PATCH-DOC\\\"}\",\"metadata\":\"{}\"},\"Miraloma Park\":{\"content\":\"{\\\"events\\\": [{\\\"attr\\\": \\\"factors\\\", \\\"kind\\\": \\\"ModelChanged\\\", \\\"model\\\": {\\\"id\\\": \\\"7081\\\"}, \\\"new\\\": [[\\\"2010\\\", \\\"Gross Rent\\\"], [\\\"2010\\\", \\\"Sale Price/SqFt\\\"], [\\\"2011\\\", \\\"Gross Rent\\\"], [\\\"2011\\\", \\\"Sale Price/SqFt\\\"], [\\\"2012\\\", \\\"Gross Rent\\\"], [\\\"2012\\\", \\\"Sale Price/SqFt\\\"], [\\\"2014\\\", \\\"Gross Rent\\\"], [\\\"2014\\\", \\\"Sale Price/SqFt\\\"]]}, {\\\"cols\\\": null, \\\"column_source\\\": {\\\"id\\\": \\\"7114\\\"}, \\\"kind\\\": \\\"ColumnDataChanged\\\", \\\"new\\\": {\\\"Variable\\\": [\\\"Gross Rent\\\", \\\"Gross Rent\\\", \\\"Gross Rent\\\", \\\"Gross Rent\\\", \\\"Sale Price/SqFt\\\", \\\"Sale Price/SqFt\\\", \\\"Sale Price/SqFt\\\", \\\"Sale Price/SqFt\\\"], \\\"Year\\\": [\\\"2010\\\", \\\"2011\\\", \\\"2012\\\", \\\"2014\\\", \\\"2010\\\", \\\"2011\\\", \\\"2012\\\", \\\"2014\\\"], \\\"value\\\": [1239, 1530, 2324, 3528, 680, 414, 756, 1267], \\\"xoffsets\\\": [[\\\"2010\\\", \\\"Gross Rent\\\"], [\\\"2011\\\", \\\"Gross Rent\\\"], [\\\"2012\\\", \\\"Gross Rent\\\"], [\\\"2014\\\", \\\"Gross Rent\\\"], [\\\"2010\\\", \\\"Sale Price/SqFt\\\"], [\\\"2011\\\", \\\"Sale Price/SqFt\\\"], [\\\"2012\\\", \\\"Sale Price/SqFt\\\"], [\\\"2014\\\", \\\"Sale Price/SqFt\\\"]]}}], \\\"references\\\": []}\",\"header\":\"{\\\"msgid\\\": \\\"7443\\\", \\\"msgtype\\\": \\\"PATCH-DOC\\\"}\",\"metadata\":\"{}\"},\"Mission Bay\":{\"content\":\"{\\\"events\\\": [{\\\"attr\\\": \\\"factors\\\", \\\"kind\\\": \\\"ModelChanged\\\", \\\"model\\\": {\\\"id\\\": \\\"7081\\\"}, \\\"new\\\": [[\\\"2010\\\", \\\"Gross Rent\\\"], [\\\"2010\\\", \\\"Sale Price/SqFt\\\"], [\\\"2011\\\", \\\"Gross Rent\\\"], [\\\"2011\\\", \\\"Sale Price/SqFt\\\"], [\\\"2012\\\", \\\"Gross Rent\\\"], [\\\"2012\\\", \\\"Sale Price/SqFt\\\"], [\\\"2013\\\", \\\"Gross Rent\\\"], [\\\"2013\\\", \\\"Sale Price/SqFt\\\"], [\\\"2014\\\", \\\"Gross Rent\\\"], [\\\"2014\\\", \\\"Sale Price/SqFt\\\"], [\\\"2016\\\", \\\"Gross Rent\\\"], [\\\"2016\\\", \\\"Sale Price/SqFt\\\"]]}, {\\\"cols\\\": null, \\\"column_source\\\": {\\\"id\\\": \\\"7114\\\"}, \\\"kind\\\": \\\"ColumnDataChanged\\\", \\\"new\\\": {\\\"Variable\\\": [\\\"Gross Rent\\\", \\\"Gross Rent\\\", \\\"Gross Rent\\\", \\\"Gross Rent\\\", \\\"Gross Rent\\\", \\\"Gross Rent\\\", \\\"Sale Price/SqFt\\\", \\\"Sale Price/SqFt\\\", \\\"Sale Price/SqFt\\\", \\\"Sale Price/SqFt\\\", \\\"Sale Price/SqFt\\\", \\\"Sale Price/SqFt\\\"], \\\"Year\\\": [\\\"2010\\\", \\\"2011\\\", \\\"2012\\\", \\\"2013\\\", \\\"2014\\\", \\\"2016\\\", \\\"2010\\\", \\\"2011\\\", \\\"2012\\\", \\\"2013\\\", \\\"2014\\\", \\\"2016\\\"], \\\"value\\\": [1239, 1530, 2324, 2971, 3528, 4390, 489, 506, 689, 0, 220, 924], \\\"xoffsets\\\": [[\\\"2010\\\", \\\"Gross Rent\\\"], [\\\"2011\\\", \\\"Gross Rent\\\"], [\\\"2012\\\", \\\"Gross Rent\\\"], [\\\"2013\\\", \\\"Gross Rent\\\"], [\\\"2014\\\", \\\"Gross Rent\\\"], [\\\"2016\\\", \\\"Gross Rent\\\"], [\\\"2010\\\", \\\"Sale Price/SqFt\\\"], [\\\"2011\\\", \\\"Sale Price/SqFt\\\"], [\\\"2012\\\", \\\"Sale Price/SqFt\\\"], [\\\"2013\\\", \\\"Sale Price/SqFt\\\"], [\\\"2014\\\", \\\"Sale Price/SqFt\\\"], [\\\"2016\\\", \\\"Sale Price/SqFt\\\"]]}}], \\\"references\\\": []}\",\"header\":\"{\\\"msgid\\\": \\\"7436\\\", \\\"msgtype\\\": \\\"PATCH-DOC\\\"}\",\"metadata\":\"{}\"},\"Mission Dolores\":{\"content\":\"{\\\"events\\\": [{\\\"attr\\\": \\\"factors\\\", \\\"kind\\\": \\\"ModelChanged\\\", \\\"model\\\": {\\\"id\\\": \\\"7081\\\"}, \\\"new\\\": [[\\\"2010\\\", \\\"Gross Rent\\\"], [\\\"2010\\\", \\\"Sale Price/SqFt\\\"], [\\\"2011\\\", \\\"Gross Rent\\\"], [\\\"2011\\\", \\\"Sale Price/SqFt\\\"], [\\\"2012\\\", \\\"Gross Rent\\\"], [\\\"2012\\\", \\\"Sale Price/SqFt\\\"], [\\\"2013\\\", \\\"Gross Rent\\\"], [\\\"2013\\\", \\\"Sale Price/SqFt\\\"], [\\\"2014\\\", \\\"Gross Rent\\\"], [\\\"2014\\\", \\\"Sale Price/SqFt\\\"], [\\\"2015\\\", \\\"Gross Rent\\\"], [\\\"2015\\\", \\\"Sale Price/SqFt\\\"]]}, {\\\"cols\\\": null, \\\"column_source\\\": {\\\"id\\\": \\\"7114\\\"}, \\\"kind\\\": \\\"ColumnDataChanged\\\", \\\"new\\\": {\\\"Variable\\\": [\\\"Gross Rent\\\", \\\"Gross Rent\\\", \\\"Gross Rent\\\", \\\"Gross Rent\\\", \\\"Gross Rent\\\", \\\"Gross Rent\\\", \\\"Sale Price/SqFt\\\", \\\"Sale Price/SqFt\\\", \\\"Sale Price/SqFt\\\", \\\"Sale Price/SqFt\\\", \\\"Sale Price/SqFt\\\", \\\"Sale Price/SqFt\\\"], \\\"Year\\\": [\\\"2010\\\", \\\"2011\\\", \\\"2012\\\", \\\"2013\\\", \\\"2014\\\", \\\"2015\\\", \\\"2010\\\", \\\"2011\\\", \\\"2012\\\", \\\"2013\\\", \\\"2014\\\", \\\"2015\\\"], \\\"value\\\": [1239, 1530, 2324, 2971, 3528, 3739, 257, 293, 320, 427, 642, 571], \\\"xoffsets\\\": [[\\\"2010\\\", \\\"Gross Rent\\\"], [\\\"2011\\\", \\\"Gross Rent\\\"], [\\\"2012\\\", \\\"Gross Rent\\\"], [\\\"2013\\\", \\\"Gross Rent\\\"], [\\\"2014\\\", \\\"Gross Rent\\\"], [\\\"2015\\\", \\\"Gross Rent\\\"], [\\\"2010\\\", \\\"Sale Price/SqFt\\\"], [\\\"2011\\\", \\\"Sale Price/SqFt\\\"], [\\\"2012\\\", \\\"Sale Price/SqFt\\\"], [\\\"2013\\\", \\\"Sale Price/SqFt\\\"], [\\\"2014\\\", \\\"Sale Price/SqFt\\\"], [\\\"2015\\\", \\\"Sale Price/SqFt\\\"]]}}], \\\"references\\\": []}\",\"header\":\"{\\\"msgid\\\": \\\"7429\\\", \\\"msgtype\\\": \\\"PATCH-DOC\\\"}\",\"metadata\":\"{}\"},\"Mission Terrace\":{\"content\":\"{\\\"events\\\": [{\\\"attr\\\": \\\"factors\\\", \\\"kind\\\": \\\"ModelChanged\\\", \\\"model\\\": {\\\"id\\\": \\\"7081\\\"}, \\\"new\\\": [[\\\"2010\\\", \\\"Gross Rent\\\"], [\\\"2010\\\", \\\"Sale Price/SqFt\\\"], [\\\"2013\\\", \\\"Gross Rent\\\"], [\\\"2013\\\", \\\"Sale Price/SqFt\\\"], [\\\"2014\\\", \\\"Gross Rent\\\"], [\\\"2014\\\", \\\"Sale Price/SqFt\\\"], [\\\"2015\\\", \\\"Gross Rent\\\"], [\\\"2015\\\", \\\"Sale Price/SqFt\\\"], [\\\"2016\\\", \\\"Gross Rent\\\"], [\\\"2016\\\", \\\"Sale Price/SqFt\\\"]]}, {\\\"cols\\\": null, \\\"column_source\\\": {\\\"id\\\": \\\"7114\\\"}, \\\"kind\\\": \\\"ColumnDataChanged\\\", \\\"new\\\": {\\\"Variable\\\": [\\\"Gross Rent\\\", \\\"Gross Rent\\\", \\\"Gross Rent\\\", \\\"Gross Rent\\\", \\\"Gross Rent\\\", \\\"Sale Price/SqFt\\\", \\\"Sale Price/SqFt\\\", \\\"Sale Price/SqFt\\\", \\\"Sale Price/SqFt\\\", \\\"Sale Price/SqFt\\\"], \\\"Year\\\": [\\\"2010\\\", \\\"2013\\\", \\\"2014\\\", \\\"2015\\\", \\\"2016\\\", \\\"2010\\\", \\\"2013\\\", \\\"2014\\\", \\\"2015\\\", \\\"2016\\\"], \\\"value\\\": [1239, 2971, 3528, 3739, 4390, 262, 591, 300, 583, 879], \\\"xoffsets\\\": [[\\\"2010\\\", \\\"Gross Rent\\\"], [\\\"2013\\\", \\\"Gross Rent\\\"], [\\\"2014\\\", \\\"Gross Rent\\\"], [\\\"2015\\\", \\\"Gross Rent\\\"], [\\\"2016\\\", \\\"Gross Rent\\\"], [\\\"2010\\\", \\\"Sale Price/SqFt\\\"], [\\\"2013\\\", \\\"Sale Price/SqFt\\\"], [\\\"2014\\\", \\\"Sale Price/SqFt\\\"], [\\\"2015\\\", \\\"Sale Price/SqFt\\\"], [\\\"2016\\\", \\\"Sale Price/SqFt\\\"]]}}], \\\"references\\\": []}\",\"header\":\"{\\\"msgid\\\": \\\"7422\\\", \\\"msgtype\\\": \\\"PATCH-DOC\\\"}\",\"metadata\":\"{}\"},\"Nob Hill\":{\"content\":\"{\\\"events\\\": [{\\\"cols\\\": null, \\\"column_source\\\": {\\\"id\\\": \\\"7114\\\"}, \\\"kind\\\": \\\"ColumnDataChanged\\\", \\\"new\\\": {\\\"Variable\\\": [\\\"Gross Rent\\\", \\\"Gross Rent\\\", \\\"Gross Rent\\\", \\\"Gross Rent\\\", \\\"Gross Rent\\\", \\\"Gross Rent\\\", \\\"Gross Rent\\\", \\\"Sale Price/SqFt\\\", \\\"Sale Price/SqFt\\\", \\\"Sale Price/SqFt\\\", \\\"Sale Price/SqFt\\\", \\\"Sale Price/SqFt\\\", \\\"Sale Price/SqFt\\\", \\\"Sale Price/SqFt\\\"], \\\"Year\\\": [\\\"2010\\\", \\\"2011\\\", \\\"2012\\\", \\\"2013\\\", \\\"2014\\\", \\\"2015\\\", \\\"2016\\\", \\\"2010\\\", \\\"2011\\\", \\\"2012\\\", \\\"2013\\\", \\\"2014\\\", \\\"2015\\\", \\\"2016\\\"], \\\"value\\\": [1239, 1530, 2324, 2971, 3528, 3739, 4390, 307, 340, 307, 466, 478, 529, 777], \\\"xoffsets\\\": [[\\\"2010\\\", \\\"Gross Rent\\\"], [\\\"2011\\\", \\\"Gross Rent\\\"], [\\\"2012\\\", \\\"Gross Rent\\\"], [\\\"2013\\\", \\\"Gross Rent\\\"], [\\\"2014\\\", \\\"Gross Rent\\\"], [\\\"2015\\\", \\\"Gross Rent\\\"], [\\\"2016\\\", \\\"Gross Rent\\\"], [\\\"2010\\\", \\\"Sale Price/SqFt\\\"], [\\\"2011\\\", \\\"Sale Price/SqFt\\\"], [\\\"2012\\\", \\\"Sale Price/SqFt\\\"], [\\\"2013\\\", \\\"Sale Price/SqFt\\\"], [\\\"2014\\\", \\\"Sale Price/SqFt\\\"], [\\\"2015\\\", \\\"Sale Price/SqFt\\\"], [\\\"2016\\\", \\\"Sale Price/SqFt\\\"]]}}], \\\"references\\\": []}\",\"header\":\"{\\\"msgid\\\": \\\"7415\\\", \\\"msgtype\\\": \\\"PATCH-DOC\\\"}\",\"metadata\":\"{}\"},\"Noe Valley\":{\"content\":\"{\\\"events\\\": [{\\\"attr\\\": \\\"factors\\\", \\\"kind\\\": \\\"ModelChanged\\\", \\\"model\\\": {\\\"id\\\": \\\"7081\\\"}, \\\"new\\\": [[\\\"2010\\\", \\\"Gross Rent\\\"], [\\\"2010\\\", \\\"Sale Price/SqFt\\\"], [\\\"2011\\\", \\\"Gross Rent\\\"], [\\\"2011\\\", \\\"Sale Price/SqFt\\\"], [\\\"2012\\\", \\\"Gross Rent\\\"], [\\\"2012\\\", \\\"Sale Price/SqFt\\\"], [\\\"2013\\\", \\\"Gross Rent\\\"], [\\\"2013\\\", \\\"Sale Price/SqFt\\\"], [\\\"2014\\\", \\\"Gross Rent\\\"], [\\\"2014\\\", \\\"Sale Price/SqFt\\\"], [\\\"2015\\\", \\\"Gross Rent\\\"], [\\\"2015\\\", \\\"Sale Price/SqFt\\\"], [\\\"2016\\\", \\\"Gross Rent\\\"], [\\\"2016\\\", \\\"Sale Price/SqFt\\\"]]}, {\\\"cols\\\": null, \\\"column_source\\\": {\\\"id\\\": \\\"7114\\\"}, \\\"kind\\\": \\\"ColumnDataChanged\\\", \\\"new\\\": {\\\"Variable\\\": [\\\"Gross Rent\\\", \\\"Gross Rent\\\", \\\"Gross Rent\\\", \\\"Gross Rent\\\", \\\"Gross Rent\\\", \\\"Gross Rent\\\", \\\"Gross Rent\\\", \\\"Sale Price/SqFt\\\", \\\"Sale Price/SqFt\\\", \\\"Sale Price/SqFt\\\", \\\"Sale Price/SqFt\\\", \\\"Sale Price/SqFt\\\", \\\"Sale Price/SqFt\\\", \\\"Sale Price/SqFt\\\"], \\\"Year\\\": [\\\"2010\\\", \\\"2011\\\", \\\"2012\\\", \\\"2013\\\", \\\"2014\\\", \\\"2015\\\", \\\"2016\\\", \\\"2010\\\", \\\"2011\\\", \\\"2012\\\", \\\"2013\\\", \\\"2014\\\", \\\"2015\\\", \\\"2016\\\"], \\\"value\\\": [1239, 1530, 2324, 2971, 3528, 3739, 4390, 381, 373, 428, 615, 654, 544, 799], \\\"xoffsets\\\": [[\\\"2010\\\", \\\"Gross Rent\\\"], [\\\"2011\\\", \\\"Gross Rent\\\"], [\\\"2012\\\", \\\"Gross Rent\\\"], [\\\"2013\\\", \\\"Gross Rent\\\"], [\\\"2014\\\", \\\"Gross Rent\\\"], [\\\"2015\\\", \\\"Gross Rent\\\"], [\\\"2016\\\", \\\"Gross Rent\\\"], [\\\"2010\\\", \\\"Sale Price/SqFt\\\"], [\\\"2011\\\", \\\"Sale Price/SqFt\\\"], [\\\"2012\\\", \\\"Sale Price/SqFt\\\"], [\\\"2013\\\", \\\"Sale Price/SqFt\\\"], [\\\"2014\\\", \\\"Sale Price/SqFt\\\"], [\\\"2015\\\", \\\"Sale Price/SqFt\\\"], [\\\"2016\\\", \\\"Sale Price/SqFt\\\"]]}}], \\\"references\\\": []}\",\"header\":\"{\\\"msgid\\\": \\\"7408\\\", \\\"msgtype\\\": \\\"PATCH-DOC\\\"}\",\"metadata\":\"{}\"},\"North Beach\":{\"content\":\"{\\\"events\\\": [{\\\"attr\\\": \\\"factors\\\", \\\"kind\\\": \\\"ModelChanged\\\", \\\"model\\\": {\\\"id\\\": \\\"7081\\\"}, \\\"new\\\": [[\\\"2011\\\", \\\"Gross Rent\\\"], [\\\"2011\\\", \\\"Sale Price/SqFt\\\"], [\\\"2012\\\", \\\"Gross Rent\\\"], [\\\"2012\\\", \\\"Sale Price/SqFt\\\"], [\\\"2013\\\", \\\"Gross Rent\\\"], [\\\"2013\\\", \\\"Sale Price/SqFt\\\"], [\\\"2015\\\", \\\"Gross Rent\\\"], [\\\"2015\\\", \\\"Sale Price/SqFt\\\"], [\\\"2016\\\", \\\"Gross Rent\\\"], [\\\"2016\\\", \\\"Sale Price/SqFt\\\"]]}, {\\\"cols\\\": null, \\\"column_source\\\": {\\\"id\\\": \\\"7114\\\"}, \\\"kind\\\": \\\"ColumnDataChanged\\\", \\\"new\\\": {\\\"Variable\\\": [\\\"Gross Rent\\\", \\\"Gross Rent\\\", \\\"Gross Rent\\\", \\\"Gross Rent\\\", \\\"Gross Rent\\\", \\\"Sale Price/SqFt\\\", \\\"Sale Price/SqFt\\\", \\\"Sale Price/SqFt\\\", \\\"Sale Price/SqFt\\\", \\\"Sale Price/SqFt\\\"], \\\"Year\\\": [\\\"2011\\\", \\\"2012\\\", \\\"2013\\\", \\\"2015\\\", \\\"2016\\\", \\\"2011\\\", \\\"2012\\\", \\\"2013\\\", \\\"2015\\\", \\\"2016\\\"], \\\"value\\\": [1530, 2324, 2971, 3739, 4390, 290, 517, 393, 448, 407], \\\"xoffsets\\\": [[\\\"2011\\\", \\\"Gross Rent\\\"], [\\\"2012\\\", \\\"Gross Rent\\\"], [\\\"2013\\\", \\\"Gross Rent\\\"], [\\\"2015\\\", \\\"Gross Rent\\\"], [\\\"2016\\\", \\\"Gross Rent\\\"], [\\\"2011\\\", \\\"Sale Price/SqFt\\\"], [\\\"2012\\\", \\\"Sale Price/SqFt\\\"], [\\\"2013\\\", \\\"Sale Price/SqFt\\\"], [\\\"2015\\\", \\\"Sale Price/SqFt\\\"], [\\\"2016\\\", \\\"Sale Price/SqFt\\\"]]}}], \\\"references\\\": []}\",\"header\":\"{\\\"msgid\\\": \\\"7401\\\", \\\"msgtype\\\": \\\"PATCH-DOC\\\"}\",\"metadata\":\"{}\"},\"North Waterfront\":{\"content\":\"{\\\"events\\\": [{\\\"attr\\\": \\\"factors\\\", \\\"kind\\\": \\\"ModelChanged\\\", \\\"model\\\": {\\\"id\\\": \\\"7081\\\"}, \\\"new\\\": [[\\\"2011\\\", \\\"Gross Rent\\\"], [\\\"2011\\\", \\\"Sale Price/SqFt\\\"], [\\\"2012\\\", \\\"Gross Rent\\\"], [\\\"2012\\\", \\\"Sale Price/SqFt\\\"], [\\\"2013\\\", \\\"Gross Rent\\\"], [\\\"2013\\\", \\\"Sale Price/SqFt\\\"], [\\\"2014\\\", \\\"Gross Rent\\\"], [\\\"2014\\\", \\\"Sale Price/SqFt\\\"], [\\\"2015\\\", \\\"Gross Rent\\\"], [\\\"2015\\\", \\\"Sale Price/SqFt\\\"]]}, {\\\"cols\\\": null, \\\"column_source\\\": {\\\"id\\\": \\\"7114\\\"}, \\\"kind\\\": \\\"ColumnDataChanged\\\", \\\"new\\\": {\\\"Variable\\\": [\\\"Gross Rent\\\", \\\"Gross Rent\\\", \\\"Gross Rent\\\", \\\"Gross Rent\\\", \\\"Gross Rent\\\", \\\"Sale Price/SqFt\\\", \\\"Sale Price/SqFt\\\", \\\"Sale Price/SqFt\\\", \\\"Sale Price/SqFt\\\", \\\"Sale Price/SqFt\\\"], \\\"Year\\\": [\\\"2011\\\", \\\"2012\\\", \\\"2013\\\", \\\"2014\\\", \\\"2015\\\", \\\"2011\\\", \\\"2012\\\", \\\"2013\\\", \\\"2014\\\", \\\"2015\\\"], \\\"value\\\": [1530, 2324, 2971, 3528, 3739, 346, 390, 483, 379, 890], \\\"xoffsets\\\": [[\\\"2011\\\", \\\"Gross Rent\\\"], [\\\"2012\\\", \\\"Gross Rent\\\"], [\\\"2013\\\", \\\"Gross Rent\\\"], [\\\"2014\\\", \\\"Gross Rent\\\"], [\\\"2015\\\", \\\"Gross Rent\\\"], [\\\"2011\\\", \\\"Sale Price/SqFt\\\"], [\\\"2012\\\", \\\"Sale Price/SqFt\\\"], [\\\"2013\\\", \\\"Sale Price/SqFt\\\"], [\\\"2014\\\", \\\"Sale Price/SqFt\\\"], [\\\"2015\\\", \\\"Sale Price/SqFt\\\"]]}}], \\\"references\\\": []}\",\"header\":\"{\\\"msgid\\\": \\\"7394\\\", \\\"msgtype\\\": \\\"PATCH-DOC\\\"}\",\"metadata\":\"{}\"},\"Oceanview\":{\"content\":\"{\\\"events\\\": [{\\\"attr\\\": \\\"factors\\\", \\\"kind\\\": \\\"ModelChanged\\\", \\\"model\\\": {\\\"id\\\": \\\"7081\\\"}, \\\"new\\\": [[\\\"2010\\\", \\\"Gross Rent\\\"], [\\\"2010\\\", \\\"Sale Price/SqFt\\\"], [\\\"2012\\\", \\\"Gross Rent\\\"], [\\\"2012\\\", \\\"Sale Price/SqFt\\\"], [\\\"2015\\\", \\\"Gross Rent\\\"], [\\\"2015\\\", \\\"Sale Price/SqFt\\\"]]}, {\\\"cols\\\": null, \\\"column_source\\\": {\\\"id\\\": \\\"7114\\\"}, \\\"kind\\\": \\\"ColumnDataChanged\\\", \\\"new\\\": {\\\"Variable\\\": [\\\"Gross Rent\\\", \\\"Gross Rent\\\", \\\"Gross Rent\\\", \\\"Sale Price/SqFt\\\", \\\"Sale Price/SqFt\\\", \\\"Sale Price/SqFt\\\"], \\\"Year\\\": [\\\"2010\\\", \\\"2012\\\", \\\"2015\\\", \\\"2010\\\", \\\"2012\\\", \\\"2015\\\"], \\\"value\\\": [1239, 2324, 3739, 282, 442, 265], \\\"xoffsets\\\": [[\\\"2010\\\", \\\"Gross Rent\\\"], [\\\"2012\\\", \\\"Gross Rent\\\"], [\\\"2015\\\", \\\"Gross Rent\\\"], [\\\"2010\\\", \\\"Sale Price/SqFt\\\"], [\\\"2012\\\", \\\"Sale Price/SqFt\\\"], [\\\"2015\\\", \\\"Sale Price/SqFt\\\"]]}}], \\\"references\\\": []}\",\"header\":\"{\\\"msgid\\\": \\\"7387\\\", \\\"msgtype\\\": \\\"PATCH-DOC\\\"}\",\"metadata\":\"{}\"},\"Outer Mission\":{\"content\":\"{\\\"events\\\": [{\\\"attr\\\": \\\"factors\\\", \\\"kind\\\": \\\"ModelChanged\\\", \\\"model\\\": {\\\"id\\\": \\\"7081\\\"}, \\\"new\\\": [[\\\"2011\\\", \\\"Gross Rent\\\"], [\\\"2011\\\", \\\"Sale Price/SqFt\\\"], [\\\"2012\\\", \\\"Gross Rent\\\"], [\\\"2012\\\", \\\"Sale Price/SqFt\\\"], [\\\"2015\\\", \\\"Gross Rent\\\"], [\\\"2015\\\", \\\"Sale Price/SqFt\\\"], [\\\"2016\\\", \\\"Gross Rent\\\"], [\\\"2016\\\", \\\"Sale Price/SqFt\\\"]]}, {\\\"cols\\\": null, \\\"column_source\\\": {\\\"id\\\": \\\"7114\\\"}, \\\"kind\\\": \\\"ColumnDataChanged\\\", \\\"new\\\": {\\\"Variable\\\": [\\\"Gross Rent\\\", \\\"Gross Rent\\\", \\\"Gross Rent\\\", \\\"Gross Rent\\\", \\\"Sale Price/SqFt\\\", \\\"Sale Price/SqFt\\\", \\\"Sale Price/SqFt\\\", \\\"Sale Price/SqFt\\\"], \\\"Year\\\": [\\\"2011\\\", \\\"2012\\\", \\\"2015\\\", \\\"2016\\\", \\\"2011\\\", \\\"2012\\\", \\\"2015\\\", \\\"2016\\\"], \\\"value\\\": [1530, 2324, 3739, 4390, 142, 221, 564, 40], \\\"xoffsets\\\": [[\\\"2011\\\", \\\"Gross Rent\\\"], [\\\"2012\\\", \\\"Gross Rent\\\"], [\\\"2015\\\", \\\"Gross Rent\\\"], [\\\"2016\\\", \\\"Gross Rent\\\"], [\\\"2011\\\", \\\"Sale Price/SqFt\\\"], [\\\"2012\\\", \\\"Sale Price/SqFt\\\"], [\\\"2015\\\", \\\"Sale Price/SqFt\\\"], [\\\"2016\\\", \\\"Sale Price/SqFt\\\"]]}}], \\\"references\\\": []}\",\"header\":\"{\\\"msgid\\\": \\\"7380\\\", \\\"msgtype\\\": \\\"PATCH-DOC\\\"}\",\"metadata\":\"{}\"},\"Outer Parkside\":{\"content\":\"{\\\"events\\\": [{\\\"cols\\\": null, \\\"column_source\\\": {\\\"id\\\": \\\"7114\\\"}, \\\"kind\\\": \\\"ColumnDataChanged\\\", \\\"new\\\": {\\\"Variable\\\": [\\\"Gross Rent\\\", \\\"Gross Rent\\\", \\\"Gross Rent\\\", \\\"Gross Rent\\\", \\\"Gross Rent\\\", \\\"Gross Rent\\\", \\\"Gross Rent\\\", \\\"Sale Price/SqFt\\\", \\\"Sale Price/SqFt\\\", \\\"Sale Price/SqFt\\\", \\\"Sale Price/SqFt\\\", \\\"Sale Price/SqFt\\\", \\\"Sale Price/SqFt\\\", \\\"Sale Price/SqFt\\\"], \\\"Year\\\": [\\\"2010\\\", \\\"2011\\\", \\\"2012\\\", \\\"2013\\\", \\\"2014\\\", \\\"2015\\\", \\\"2016\\\", \\\"2010\\\", \\\"2011\\\", \\\"2012\\\", \\\"2013\\\", \\\"2014\\\", \\\"2015\\\", \\\"2016\\\"], \\\"value\\\": [1239, 1530, 2324, 2971, 3528, 3739, 4390, 432, 241, 312, 372, 650, 652, 732], \\\"xoffsets\\\": [[\\\"2010\\\", \\\"Gross Rent\\\"], [\\\"2011\\\", \\\"Gross Rent\\\"], [\\\"2012\\\", \\\"Gross Rent\\\"], [\\\"2013\\\", \\\"Gross Rent\\\"], [\\\"2014\\\", \\\"Gross Rent\\\"], [\\\"2015\\\", \\\"Gross Rent\\\"], [\\\"2016\\\", \\\"Gross Rent\\\"], [\\\"2010\\\", \\\"Sale Price/SqFt\\\"], [\\\"2011\\\", \\\"Sale Price/SqFt\\\"], [\\\"2012\\\", \\\"Sale Price/SqFt\\\"], [\\\"2013\\\", \\\"Sale Price/SqFt\\\"], [\\\"2014\\\", \\\"Sale Price/SqFt\\\"], [\\\"2015\\\", \\\"Sale Price/SqFt\\\"], [\\\"2016\\\", \\\"Sale Price/SqFt\\\"]]}}], \\\"references\\\": []}\",\"header\":\"{\\\"msgid\\\": \\\"7373\\\", \\\"msgtype\\\": \\\"PATCH-DOC\\\"}\",\"metadata\":\"{}\"},\"Outer Richmond \":{\"content\":\"{\\\"events\\\": [{\\\"cols\\\": null, \\\"column_source\\\": {\\\"id\\\": \\\"7114\\\"}, \\\"kind\\\": \\\"ColumnDataChanged\\\", \\\"new\\\": {\\\"Variable\\\": [\\\"Gross Rent\\\", \\\"Gross Rent\\\", \\\"Gross Rent\\\", \\\"Gross Rent\\\", \\\"Gross Rent\\\", \\\"Gross Rent\\\", \\\"Gross Rent\\\", \\\"Sale Price/SqFt\\\", \\\"Sale Price/SqFt\\\", \\\"Sale Price/SqFt\\\", \\\"Sale Price/SqFt\\\", \\\"Sale Price/SqFt\\\", \\\"Sale Price/SqFt\\\", \\\"Sale Price/SqFt\\\"], \\\"Year\\\": [\\\"2010\\\", \\\"2011\\\", \\\"2012\\\", \\\"2013\\\", \\\"2014\\\", \\\"2015\\\", \\\"2016\\\", \\\"2010\\\", \\\"2011\\\", \\\"2012\\\", \\\"2013\\\", \\\"2014\\\", \\\"2015\\\", \\\"2016\\\"], \\\"value\\\": [1239, 1530, 2324, 2971, 3528, 3739, 4390, 338, 271, 338, 332, 401, 438, 1196], \\\"xoffsets\\\": [[\\\"2010\\\", \\\"Gross Rent\\\"], [\\\"2011\\\", \\\"Gross Rent\\\"], [\\\"2012\\\", \\\"Gross Rent\\\"], [\\\"2013\\\", \\\"Gross Rent\\\"], [\\\"2014\\\", \\\"Gross Rent\\\"], [\\\"2015\\\", \\\"Gross Rent\\\"], [\\\"2016\\\", \\\"Gross Rent\\\"], [\\\"2010\\\", \\\"Sale Price/SqFt\\\"], [\\\"2011\\\", \\\"Sale Price/SqFt\\\"], [\\\"2012\\\", \\\"Sale Price/SqFt\\\"], [\\\"2013\\\", \\\"Sale Price/SqFt\\\"], [\\\"2014\\\", \\\"Sale Price/SqFt\\\"], [\\\"2015\\\", \\\"Sale Price/SqFt\\\"], [\\\"2016\\\", \\\"Sale Price/SqFt\\\"]]}}], \\\"references\\\": []}\",\"header\":\"{\\\"msgid\\\": \\\"7366\\\", \\\"msgtype\\\": \\\"PATCH-DOC\\\"}\",\"metadata\":\"{}\"},\"Outer Sunset\":{\"content\":\"{\\\"events\\\": [{\\\"cols\\\": null, \\\"column_source\\\": {\\\"id\\\": \\\"7114\\\"}, \\\"kind\\\": \\\"ColumnDataChanged\\\", \\\"new\\\": {\\\"Variable\\\": [\\\"Gross Rent\\\", \\\"Gross Rent\\\", \\\"Gross Rent\\\", \\\"Gross Rent\\\", \\\"Gross Rent\\\", \\\"Gross Rent\\\", \\\"Gross Rent\\\", \\\"Sale Price/SqFt\\\", \\\"Sale Price/SqFt\\\", \\\"Sale Price/SqFt\\\", \\\"Sale Price/SqFt\\\", \\\"Sale Price/SqFt\\\", \\\"Sale Price/SqFt\\\", \\\"Sale Price/SqFt\\\"], \\\"Year\\\": [\\\"2010\\\", \\\"2011\\\", \\\"2012\\\", \\\"2013\\\", \\\"2014\\\", \\\"2015\\\", \\\"2016\\\", \\\"2010\\\", \\\"2011\\\", \\\"2012\\\", \\\"2013\\\", \\\"2014\\\", \\\"2015\\\", \\\"2016\\\"], \\\"value\\\": [1239, 1530, 2324, 2971, 3528, 3739, 4390, 368, 297, 413, 322, 490, 357, 510], \\\"xoffsets\\\": [[\\\"2010\\\", \\\"Gross Rent\\\"], [\\\"2011\\\", \\\"Gross Rent\\\"], [\\\"2012\\\", \\\"Gross Rent\\\"], [\\\"2013\\\", \\\"Gross Rent\\\"], [\\\"2014\\\", \\\"Gross Rent\\\"], [\\\"2015\\\", \\\"Gross Rent\\\"], [\\\"2016\\\", \\\"Gross Rent\\\"], [\\\"2010\\\", \\\"Sale Price/SqFt\\\"], [\\\"2011\\\", \\\"Sale Price/SqFt\\\"], [\\\"2012\\\", \\\"Sale Price/SqFt\\\"], [\\\"2013\\\", \\\"Sale Price/SqFt\\\"], [\\\"2014\\\", \\\"Sale Price/SqFt\\\"], [\\\"2015\\\", \\\"Sale Price/SqFt\\\"], [\\\"2016\\\", \\\"Sale Price/SqFt\\\"]]}}], \\\"references\\\": []}\",\"header\":\"{\\\"msgid\\\": \\\"7359\\\", \\\"msgtype\\\": \\\"PATCH-DOC\\\"}\",\"metadata\":\"{}\"},\"Pacific Heights\":{\"content\":\"{\\\"events\\\": [{\\\"cols\\\": null, \\\"column_source\\\": {\\\"id\\\": \\\"7114\\\"}, \\\"kind\\\": \\\"ColumnDataChanged\\\", \\\"new\\\": {\\\"Variable\\\": [\\\"Gross Rent\\\", \\\"Gross Rent\\\", \\\"Gross Rent\\\", \\\"Gross Rent\\\", \\\"Gross Rent\\\", \\\"Gross Rent\\\", \\\"Gross Rent\\\", \\\"Sale Price/SqFt\\\", \\\"Sale Price/SqFt\\\", \\\"Sale Price/SqFt\\\", \\\"Sale Price/SqFt\\\", \\\"Sale Price/SqFt\\\", \\\"Sale Price/SqFt\\\", \\\"Sale Price/SqFt\\\"], \\\"Year\\\": [\\\"2010\\\", \\\"2011\\\", \\\"2012\\\", \\\"2013\\\", \\\"2014\\\", \\\"2015\\\", \\\"2016\\\", \\\"2010\\\", \\\"2011\\\", \\\"2012\\\", \\\"2013\\\", \\\"2014\\\", \\\"2015\\\", \\\"2016\\\"], \\\"value\\\": [1239, 1530, 2324, 2971, 3528, 3739, 4390, 496, 509, 586, 503, 824, 910, 996], \\\"xoffsets\\\": [[\\\"2010\\\", \\\"Gross Rent\\\"], [\\\"2011\\\", \\\"Gross Rent\\\"], [\\\"2012\\\", \\\"Gross Rent\\\"], [\\\"2013\\\", \\\"Gross Rent\\\"], [\\\"2014\\\", \\\"Gross Rent\\\"], [\\\"2015\\\", \\\"Gross Rent\\\"], [\\\"2016\\\", \\\"Gross Rent\\\"], [\\\"2010\\\", \\\"Sale Price/SqFt\\\"], [\\\"2011\\\", \\\"Sale Price/SqFt\\\"], [\\\"2012\\\", \\\"Sale Price/SqFt\\\"], [\\\"2013\\\", \\\"Sale Price/SqFt\\\"], [\\\"2014\\\", \\\"Sale Price/SqFt\\\"], [\\\"2015\\\", \\\"Sale Price/SqFt\\\"], [\\\"2016\\\", \\\"Sale Price/SqFt\\\"]]}}], \\\"references\\\": []}\",\"header\":\"{\\\"msgid\\\": \\\"7352\\\", \\\"msgtype\\\": \\\"PATCH-DOC\\\"}\",\"metadata\":\"{}\"},\"Park North\":{\"content\":\"{\\\"events\\\": [{\\\"attr\\\": \\\"factors\\\", \\\"kind\\\": \\\"ModelChanged\\\", \\\"model\\\": {\\\"id\\\": \\\"7081\\\"}, \\\"new\\\": [[\\\"2010\\\", \\\"Gross Rent\\\"], [\\\"2010\\\", \\\"Sale Price/SqFt\\\"], [\\\"2011\\\", \\\"Gross Rent\\\"], [\\\"2011\\\", \\\"Sale Price/SqFt\\\"], [\\\"2012\\\", \\\"Gross Rent\\\"], [\\\"2012\\\", \\\"Sale Price/SqFt\\\"], [\\\"2013\\\", \\\"Gross Rent\\\"], [\\\"2013\\\", \\\"Sale Price/SqFt\\\"], [\\\"2014\\\", \\\"Gross Rent\\\"], [\\\"2014\\\", \\\"Sale Price/SqFt\\\"], [\\\"2015\\\", \\\"Gross Rent\\\"], [\\\"2015\\\", \\\"Sale Price/SqFt\\\"], [\\\"2016\\\", \\\"Gross Rent\\\"], [\\\"2016\\\", \\\"Sale Price/SqFt\\\"]]}, {\\\"cols\\\": null, \\\"column_source\\\": {\\\"id\\\": \\\"7114\\\"}, \\\"kind\\\": \\\"ColumnDataChanged\\\", \\\"new\\\": {\\\"Variable\\\": [\\\"Gross Rent\\\", \\\"Gross Rent\\\", \\\"Gross Rent\\\", \\\"Gross Rent\\\", \\\"Gross Rent\\\", \\\"Gross Rent\\\", \\\"Gross Rent\\\", \\\"Sale Price/SqFt\\\", \\\"Sale Price/SqFt\\\", \\\"Sale Price/SqFt\\\", \\\"Sale Price/SqFt\\\", \\\"Sale Price/SqFt\\\", \\\"Sale Price/SqFt\\\", \\\"Sale Price/SqFt\\\"], \\\"Year\\\": [\\\"2010\\\", \\\"2011\\\", \\\"2012\\\", \\\"2013\\\", \\\"2014\\\", \\\"2015\\\", \\\"2016\\\", \\\"2010\\\", \\\"2011\\\", \\\"2012\\\", \\\"2013\\\", \\\"2014\\\", \\\"2015\\\", \\\"2016\\\"], \\\"value\\\": [1239, 1530, 2324, 2971, 3528, 3739, 4390, 326, 289, 288, 512, 371, 616, 211], \\\"xoffsets\\\": [[\\\"2010\\\", \\\"Gross Rent\\\"], [\\\"2011\\\", \\\"Gross Rent\\\"], [\\\"2012\\\", \\\"Gross Rent\\\"], [\\\"2013\\\", \\\"Gross Rent\\\"], [\\\"2014\\\", \\\"Gross Rent\\\"], [\\\"2015\\\", \\\"Gross Rent\\\"], [\\\"2016\\\", \\\"Gross Rent\\\"], [\\\"2010\\\", \\\"Sale Price/SqFt\\\"], [\\\"2011\\\", \\\"Sale Price/SqFt\\\"], [\\\"2012\\\", \\\"Sale Price/SqFt\\\"], [\\\"2013\\\", \\\"Sale Price/SqFt\\\"], [\\\"2014\\\", \\\"Sale Price/SqFt\\\"], [\\\"2015\\\", \\\"Sale Price/SqFt\\\"], [\\\"2016\\\", \\\"Sale Price/SqFt\\\"]]}}], \\\"references\\\": []}\",\"header\":\"{\\\"msgid\\\": \\\"7345\\\", \\\"msgtype\\\": \\\"PATCH-DOC\\\"}\",\"metadata\":\"{}\"},\"Parkside\":{\"content\":\"{\\\"events\\\": [{\\\"attr\\\": \\\"factors\\\", \\\"kind\\\": \\\"ModelChanged\\\", \\\"model\\\": {\\\"id\\\": \\\"7081\\\"}, \\\"new\\\": [[\\\"2010\\\", \\\"Gross Rent\\\"], [\\\"2010\\\", \\\"Sale Price/SqFt\\\"], [\\\"2011\\\", \\\"Gross Rent\\\"], [\\\"2011\\\", \\\"Sale Price/SqFt\\\"], [\\\"2012\\\", \\\"Gross Rent\\\"], [\\\"2012\\\", \\\"Sale Price/SqFt\\\"], [\\\"2013\\\", \\\"Gross Rent\\\"], [\\\"2013\\\", \\\"Sale Price/SqFt\\\"], [\\\"2014\\\", \\\"Gross Rent\\\"], [\\\"2014\\\", \\\"Sale Price/SqFt\\\"], [\\\"2015\\\", \\\"Gross Rent\\\"], [\\\"2015\\\", \\\"Sale Price/SqFt\\\"]]}, {\\\"cols\\\": null, \\\"column_source\\\": {\\\"id\\\": \\\"7114\\\"}, \\\"kind\\\": \\\"ColumnDataChanged\\\", \\\"new\\\": {\\\"Variable\\\": [\\\"Gross Rent\\\", \\\"Gross Rent\\\", \\\"Gross Rent\\\", \\\"Gross Rent\\\", \\\"Gross Rent\\\", \\\"Gross Rent\\\", \\\"Sale Price/SqFt\\\", \\\"Sale Price/SqFt\\\", \\\"Sale Price/SqFt\\\", \\\"Sale Price/SqFt\\\", \\\"Sale Price/SqFt\\\", \\\"Sale Price/SqFt\\\"], \\\"Year\\\": [\\\"2010\\\", \\\"2011\\\", \\\"2012\\\", \\\"2013\\\", \\\"2014\\\", \\\"2015\\\", \\\"2010\\\", \\\"2011\\\", \\\"2012\\\", \\\"2013\\\", \\\"2014\\\", \\\"2015\\\"], \\\"value\\\": [1239, 1530, 2324, 2971, 3528, 3739, 274, 217, 378, 364, 446, 0], \\\"xoffsets\\\": [[\\\"2010\\\", \\\"Gross Rent\\\"], [\\\"2011\\\", \\\"Gross Rent\\\"], [\\\"2012\\\", \\\"Gross Rent\\\"], [\\\"2013\\\", \\\"Gross Rent\\\"], [\\\"2014\\\", \\\"Gross Rent\\\"], [\\\"2015\\\", \\\"Gross Rent\\\"], [\\\"2010\\\", \\\"Sale Price/SqFt\\\"], [\\\"2011\\\", \\\"Sale Price/SqFt\\\"], [\\\"2012\\\", \\\"Sale Price/SqFt\\\"], [\\\"2013\\\", \\\"Sale Price/SqFt\\\"], [\\\"2014\\\", \\\"Sale Price/SqFt\\\"], [\\\"2015\\\", \\\"Sale Price/SqFt\\\"]]}}], \\\"references\\\": []}\",\"header\":\"{\\\"msgid\\\": \\\"7338\\\", \\\"msgtype\\\": \\\"PATCH-DOC\\\"}\",\"metadata\":\"{}\"},\"Parnassus/Ashbury Heights\":{\"content\":\"{\\\"events\\\": [{\\\"attr\\\": \\\"factors\\\", \\\"kind\\\": \\\"ModelChanged\\\", \\\"model\\\": {\\\"id\\\": \\\"7081\\\"}, \\\"new\\\": [[\\\"2010\\\", \\\"Gross Rent\\\"], [\\\"2010\\\", \\\"Sale Price/SqFt\\\"], [\\\"2011\\\", \\\"Gross Rent\\\"], [\\\"2011\\\", \\\"Sale Price/SqFt\\\"], [\\\"2012\\\", \\\"Gross Rent\\\"], [\\\"2012\\\", \\\"Sale Price/SqFt\\\"], [\\\"2013\\\", \\\"Gross Rent\\\"], [\\\"2013\\\", \\\"Sale Price/SqFt\\\"], [\\\"2014\\\", \\\"Gross Rent\\\"], [\\\"2014\\\", \\\"Sale Price/SqFt\\\"], [\\\"2015\\\", \\\"Gross Rent\\\"], [\\\"2015\\\", \\\"Sale Price/SqFt\\\"], [\\\"2016\\\", \\\"Gross Rent\\\"], [\\\"2016\\\", \\\"Sale Price/SqFt\\\"]]}, {\\\"cols\\\": null, \\\"column_source\\\": {\\\"id\\\": \\\"7114\\\"}, \\\"kind\\\": \\\"ColumnDataChanged\\\", \\\"new\\\": {\\\"Variable\\\": [\\\"Gross Rent\\\", \\\"Gross Rent\\\", \\\"Gross Rent\\\", \\\"Gross Rent\\\", \\\"Gross Rent\\\", \\\"Gross Rent\\\", \\\"Gross Rent\\\", \\\"Sale Price/SqFt\\\", \\\"Sale Price/SqFt\\\", \\\"Sale Price/SqFt\\\", \\\"Sale Price/SqFt\\\", \\\"Sale Price/SqFt\\\", \\\"Sale Price/SqFt\\\", \\\"Sale Price/SqFt\\\"], \\\"Year\\\": [\\\"2010\\\", \\\"2011\\\", \\\"2012\\\", \\\"2013\\\", \\\"2014\\\", \\\"2015\\\", \\\"2016\\\", \\\"2010\\\", \\\"2011\\\", \\\"2012\\\", \\\"2013\\\", \\\"2014\\\", \\\"2015\\\", \\\"2016\\\"], \\\"value\\\": [1239, 1530, 2324, 2971, 3528, 3739, 4390, 434, 466, 515, 425, 773, 605, 1207], \\\"xoffsets\\\": [[\\\"2010\\\", \\\"Gross Rent\\\"], [\\\"2011\\\", \\\"Gross Rent\\\"], [\\\"2012\\\", \\\"Gross Rent\\\"], [\\\"2013\\\", \\\"Gross Rent\\\"], [\\\"2014\\\", \\\"Gross Rent\\\"], [\\\"2015\\\", \\\"Gross Rent\\\"], [\\\"2016\\\", \\\"Gross Rent\\\"], [\\\"2010\\\", \\\"Sale Price/SqFt\\\"], [\\\"2011\\\", \\\"Sale Price/SqFt\\\"], [\\\"2012\\\", \\\"Sale Price/SqFt\\\"], [\\\"2013\\\", \\\"Sale Price/SqFt\\\"], [\\\"2014\\\", \\\"Sale Price/SqFt\\\"], [\\\"2015\\\", \\\"Sale Price/SqFt\\\"], [\\\"2016\\\", \\\"Sale Price/SqFt\\\"]]}}], \\\"references\\\": []}\",\"header\":\"{\\\"msgid\\\": \\\"7331\\\", \\\"msgtype\\\": \\\"PATCH-DOC\\\"}\",\"metadata\":\"{}\"},\"Portola\":{\"content\":\"{\\\"events\\\": [{\\\"attr\\\": \\\"factors\\\", \\\"kind\\\": \\\"ModelChanged\\\", \\\"model\\\": {\\\"id\\\": \\\"7081\\\"}, \\\"new\\\": [[\\\"2010\\\", \\\"Gross Rent\\\"], [\\\"2010\\\", \\\"Sale Price/SqFt\\\"], [\\\"2011\\\", \\\"Gross Rent\\\"], [\\\"2011\\\", \\\"Sale Price/SqFt\\\"], [\\\"2012\\\", \\\"Gross Rent\\\"], [\\\"2012\\\", \\\"Sale Price/SqFt\\\"], [\\\"2013\\\", \\\"Gross Rent\\\"], [\\\"2013\\\", \\\"Sale Price/SqFt\\\"], [\\\"2014\\\", \\\"Gross Rent\\\"], [\\\"2014\\\", \\\"Sale Price/SqFt\\\"]]}, {\\\"cols\\\": null, \\\"column_source\\\": {\\\"id\\\": \\\"7114\\\"}, \\\"kind\\\": \\\"ColumnDataChanged\\\", \\\"new\\\": {\\\"Variable\\\": [\\\"Gross Rent\\\", \\\"Gross Rent\\\", \\\"Gross Rent\\\", \\\"Gross Rent\\\", \\\"Gross Rent\\\", \\\"Sale Price/SqFt\\\", \\\"Sale Price/SqFt\\\", \\\"Sale Price/SqFt\\\", \\\"Sale Price/SqFt\\\", \\\"Sale Price/SqFt\\\"], \\\"Year\\\": [\\\"2010\\\", \\\"2011\\\", \\\"2012\\\", \\\"2013\\\", \\\"2014\\\", \\\"2010\\\", \\\"2011\\\", \\\"2012\\\", \\\"2013\\\", \\\"2014\\\"], \\\"value\\\": [1239, 1530, 2324, 2971, 3528, 302, 208, 351, 235, 538], \\\"xoffsets\\\": [[\\\"2010\\\", \\\"Gross Rent\\\"], [\\\"2011\\\", \\\"Gross Rent\\\"], [\\\"2012\\\", \\\"Gross Rent\\\"], [\\\"2013\\\", \\\"Gross Rent\\\"], [\\\"2014\\\", \\\"Gross Rent\\\"], [\\\"2010\\\", \\\"Sale Price/SqFt\\\"], [\\\"2011\\\", \\\"Sale Price/SqFt\\\"], [\\\"2012\\\", \\\"Sale Price/SqFt\\\"], [\\\"2013\\\", \\\"Sale Price/SqFt\\\"], [\\\"2014\\\", \\\"Sale Price/SqFt\\\"]]}}], \\\"references\\\": []}\",\"header\":\"{\\\"msgid\\\": \\\"7324\\\", \\\"msgtype\\\": \\\"PATCH-DOC\\\"}\",\"metadata\":\"{}\"},\"Potrero Hill\":{\"content\":\"{\\\"events\\\": [{\\\"cols\\\": null, \\\"column_source\\\": {\\\"id\\\": \\\"7114\\\"}, \\\"kind\\\": \\\"ColumnDataChanged\\\", \\\"new\\\": {\\\"Variable\\\": [\\\"Gross Rent\\\", \\\"Gross Rent\\\", \\\"Gross Rent\\\", \\\"Gross Rent\\\", \\\"Gross Rent\\\", \\\"Gross Rent\\\", \\\"Gross Rent\\\", \\\"Sale Price/SqFt\\\", \\\"Sale Price/SqFt\\\", \\\"Sale Price/SqFt\\\", \\\"Sale Price/SqFt\\\", \\\"Sale Price/SqFt\\\", \\\"Sale Price/SqFt\\\", \\\"Sale Price/SqFt\\\"], \\\"Year\\\": [\\\"2010\\\", \\\"2011\\\", \\\"2012\\\", \\\"2013\\\", \\\"2014\\\", \\\"2015\\\", \\\"2016\\\", \\\"2010\\\", \\\"2011\\\", \\\"2012\\\", \\\"2013\\\", \\\"2014\\\", \\\"2015\\\", \\\"2016\\\"], \\\"value\\\": [1239, 1530, 2324, 2971, 3528, 3739, 4390, 491, 503, 466, 598, 1045, 821, 707], \\\"xoffsets\\\": [[\\\"2010\\\", \\\"Gross Rent\\\"], [\\\"2011\\\", \\\"Gross Rent\\\"], [\\\"2012\\\", \\\"Gross Rent\\\"], [\\\"2013\\\", \\\"Gross Rent\\\"], [\\\"2014\\\", \\\"Gross Rent\\\"], [\\\"2015\\\", \\\"Gross Rent\\\"], [\\\"2016\\\", \\\"Gross Rent\\\"], [\\\"2010\\\", \\\"Sale Price/SqFt\\\"], [\\\"2011\\\", \\\"Sale Price/SqFt\\\"], [\\\"2012\\\", \\\"Sale Price/SqFt\\\"], [\\\"2013\\\", \\\"Sale Price/SqFt\\\"], [\\\"2014\\\", \\\"Sale Price/SqFt\\\"], [\\\"2015\\\", \\\"Sale Price/SqFt\\\"], [\\\"2016\\\", \\\"Sale Price/SqFt\\\"]]}}], \\\"references\\\": []}\",\"header\":\"{\\\"msgid\\\": \\\"7317\\\", \\\"msgtype\\\": \\\"PATCH-DOC\\\"}\",\"metadata\":\"{}\"},\"Presidio Heights\":{\"content\":\"{\\\"events\\\": [{\\\"cols\\\": null, \\\"column_source\\\": {\\\"id\\\": \\\"7114\\\"}, \\\"kind\\\": \\\"ColumnDataChanged\\\", \\\"new\\\": {\\\"Variable\\\": [\\\"Gross Rent\\\", \\\"Gross Rent\\\", \\\"Gross Rent\\\", \\\"Gross Rent\\\", \\\"Gross Rent\\\", \\\"Gross Rent\\\", \\\"Gross Rent\\\", \\\"Sale Price/SqFt\\\", \\\"Sale Price/SqFt\\\", \\\"Sale Price/SqFt\\\", \\\"Sale Price/SqFt\\\", \\\"Sale Price/SqFt\\\", \\\"Sale Price/SqFt\\\", \\\"Sale Price/SqFt\\\"], \\\"Year\\\": [\\\"2010\\\", \\\"2011\\\", \\\"2012\\\", \\\"2013\\\", \\\"2014\\\", \\\"2015\\\", \\\"2016\\\", \\\"2010\\\", \\\"2011\\\", \\\"2012\\\", \\\"2013\\\", \\\"2014\\\", \\\"2015\\\", \\\"2016\\\"], \\\"value\\\": [1239, 1530, 2324, 2971, 3528, 3739, 4390, 549, 493, 426, 512, 603, 0, 1465], \\\"xoffsets\\\": [[\\\"2010\\\", \\\"Gross Rent\\\"], [\\\"2011\\\", \\\"Gross Rent\\\"], [\\\"2012\\\", \\\"Gross Rent\\\"], [\\\"2013\\\", \\\"Gross Rent\\\"], [\\\"2014\\\", \\\"Gross Rent\\\"], [\\\"2015\\\", \\\"Gross Rent\\\"], [\\\"2016\\\", \\\"Gross Rent\\\"], [\\\"2010\\\", \\\"Sale Price/SqFt\\\"], [\\\"2011\\\", \\\"Sale Price/SqFt\\\"], [\\\"2012\\\", \\\"Sale Price/SqFt\\\"], [\\\"2013\\\", \\\"Sale Price/SqFt\\\"], [\\\"2014\\\", \\\"Sale Price/SqFt\\\"], [\\\"2015\\\", \\\"Sale Price/SqFt\\\"], [\\\"2016\\\", \\\"Sale Price/SqFt\\\"]]}}], \\\"references\\\": []}\",\"header\":\"{\\\"msgid\\\": \\\"7310\\\", \\\"msgtype\\\": \\\"PATCH-DOC\\\"}\",\"metadata\":\"{}\"},\"Russian Hill\":{\"content\":\"{\\\"events\\\": [{\\\"attr\\\": \\\"factors\\\", \\\"kind\\\": \\\"ModelChanged\\\", \\\"model\\\": {\\\"id\\\": \\\"7081\\\"}, \\\"new\\\": [[\\\"2010\\\", \\\"Gross Rent\\\"], [\\\"2010\\\", \\\"Sale Price/SqFt\\\"], [\\\"2011\\\", \\\"Gross Rent\\\"], [\\\"2011\\\", \\\"Sale Price/SqFt\\\"], [\\\"2012\\\", \\\"Gross Rent\\\"], [\\\"2012\\\", \\\"Sale Price/SqFt\\\"], [\\\"2013\\\", \\\"Gross Rent\\\"], [\\\"2013\\\", \\\"Sale Price/SqFt\\\"], [\\\"2014\\\", \\\"Gross Rent\\\"], [\\\"2014\\\", \\\"Sale Price/SqFt\\\"], [\\\"2015\\\", \\\"Gross Rent\\\"], [\\\"2015\\\", \\\"Sale Price/SqFt\\\"], [\\\"2016\\\", \\\"Gross Rent\\\"], [\\\"2016\\\", \\\"Sale Price/SqFt\\\"]]}, {\\\"cols\\\": null, \\\"column_source\\\": {\\\"id\\\": \\\"7114\\\"}, \\\"kind\\\": \\\"ColumnDataChanged\\\", \\\"new\\\": {\\\"Variable\\\": [\\\"Gross Rent\\\", \\\"Gross Rent\\\", \\\"Gross Rent\\\", \\\"Gross Rent\\\", \\\"Gross Rent\\\", \\\"Gross Rent\\\", \\\"Gross Rent\\\", \\\"Sale Price/SqFt\\\", \\\"Sale Price/SqFt\\\", \\\"Sale Price/SqFt\\\", \\\"Sale Price/SqFt\\\", \\\"Sale Price/SqFt\\\", \\\"Sale Price/SqFt\\\", \\\"Sale Price/SqFt\\\"], \\\"Year\\\": [\\\"2010\\\", \\\"2011\\\", \\\"2012\\\", \\\"2013\\\", \\\"2014\\\", \\\"2015\\\", \\\"2016\\\", \\\"2010\\\", \\\"2011\\\", \\\"2012\\\", \\\"2013\\\", \\\"2014\\\", \\\"2015\\\", \\\"2016\\\"], \\\"value\\\": [1239, 1530, 2324, 2971, 3528, 3739, 4390, 362, 448, 414, 506, 714, 793, 1024], \\\"xoffsets\\\": [[\\\"2010\\\", \\\"Gross Rent\\\"], [\\\"2011\\\", \\\"Gross Rent\\\"], [\\\"2012\\\", \\\"Gross Rent\\\"], [\\\"2013\\\", \\\"Gross Rent\\\"], [\\\"2014\\\", \\\"Gross Rent\\\"], [\\\"2015\\\", \\\"Gross Rent\\\"], [\\\"2016\\\", \\\"Gross Rent\\\"], [\\\"2010\\\", \\\"Sale Price/SqFt\\\"], [\\\"2011\\\", \\\"Sale Price/SqFt\\\"], [\\\"2012\\\", \\\"Sale Price/SqFt\\\"], [\\\"2013\\\", \\\"Sale Price/SqFt\\\"], [\\\"2014\\\", \\\"Sale Price/SqFt\\\"], [\\\"2015\\\", \\\"Sale Price/SqFt\\\"], [\\\"2016\\\", \\\"Sale Price/SqFt\\\"]]}}], \\\"references\\\": []}\",\"header\":\"{\\\"msgid\\\": \\\"7303\\\", \\\"msgtype\\\": \\\"PATCH-DOC\\\"}\",\"metadata\":\"{}\"},\"Silver Terrace\":{\"content\":\"{\\\"events\\\": [{\\\"attr\\\": \\\"factors\\\", \\\"kind\\\": \\\"ModelChanged\\\", \\\"model\\\": {\\\"id\\\": \\\"7081\\\"}, \\\"new\\\": [[\\\"2014\\\", \\\"Gross Rent\\\"], [\\\"2014\\\", \\\"Sale Price/SqFt\\\"]]}, {\\\"cols\\\": null, \\\"column_source\\\": {\\\"id\\\": \\\"7114\\\"}, \\\"kind\\\": \\\"ColumnDataChanged\\\", \\\"new\\\": {\\\"Variable\\\": [\\\"Gross Rent\\\", \\\"Sale Price/SqFt\\\"], \\\"Year\\\": [\\\"2014\\\", \\\"2014\\\"], \\\"value\\\": [3528, 170], \\\"xoffsets\\\": [[\\\"2014\\\", \\\"Gross Rent\\\"], [\\\"2014\\\", \\\"Sale Price/SqFt\\\"]]}}], \\\"references\\\": []}\",\"header\":\"{\\\"msgid\\\": \\\"7296\\\", \\\"msgtype\\\": \\\"PATCH-DOC\\\"}\",\"metadata\":\"{}\"},\"South Beach\":{\"content\":\"{\\\"events\\\": [{\\\"attr\\\": \\\"factors\\\", \\\"kind\\\": \\\"ModelChanged\\\", \\\"model\\\": {\\\"id\\\": \\\"7081\\\"}, \\\"new\\\": [[\\\"2010\\\", \\\"Gross Rent\\\"], [\\\"2010\\\", \\\"Sale Price/SqFt\\\"], [\\\"2011\\\", \\\"Gross Rent\\\"], [\\\"2011\\\", \\\"Sale Price/SqFt\\\"], [\\\"2014\\\", \\\"Gross Rent\\\"], [\\\"2014\\\", \\\"Sale Price/SqFt\\\"]]}, {\\\"cols\\\": null, \\\"column_source\\\": {\\\"id\\\": \\\"7114\\\"}, \\\"kind\\\": \\\"ColumnDataChanged\\\", \\\"new\\\": {\\\"Variable\\\": [\\\"Gross Rent\\\", \\\"Gross Rent\\\", \\\"Gross Rent\\\", \\\"Sale Price/SqFt\\\", \\\"Sale Price/SqFt\\\", \\\"Sale Price/SqFt\\\"], \\\"Year\\\": [\\\"2010\\\", \\\"2011\\\", \\\"2014\\\", \\\"2010\\\", \\\"2011\\\", \\\"2014\\\"], \\\"value\\\": [1239, 1530, 3528, 1037, 388, 524], \\\"xoffsets\\\": [[\\\"2010\\\", \\\"Gross Rent\\\"], [\\\"2011\\\", \\\"Gross Rent\\\"], [\\\"2014\\\", \\\"Gross Rent\\\"], [\\\"2010\\\", \\\"Sale Price/SqFt\\\"], [\\\"2011\\\", \\\"Sale Price/SqFt\\\"], [\\\"2014\\\", \\\"Sale Price/SqFt\\\"]]}}], \\\"references\\\": []}\",\"header\":\"{\\\"msgid\\\": \\\"7289\\\", \\\"msgtype\\\": \\\"PATCH-DOC\\\"}\",\"metadata\":\"{}\"},\"South of Market\":{\"content\":\"{\\\"events\\\": [{\\\"attr\\\": \\\"factors\\\", \\\"kind\\\": \\\"ModelChanged\\\", \\\"model\\\": {\\\"id\\\": \\\"7081\\\"}, \\\"new\\\": [[\\\"2010\\\", \\\"Gross Rent\\\"], [\\\"2010\\\", \\\"Sale Price/SqFt\\\"], [\\\"2011\\\", \\\"Gross Rent\\\"], [\\\"2011\\\", \\\"Sale Price/SqFt\\\"], [\\\"2012\\\", \\\"Gross Rent\\\"], [\\\"2012\\\", \\\"Sale Price/SqFt\\\"], [\\\"2013\\\", \\\"Gross Rent\\\"], [\\\"2013\\\", \\\"Sale Price/SqFt\\\"], [\\\"2014\\\", \\\"Gross Rent\\\"], [\\\"2014\\\", \\\"Sale Price/SqFt\\\"], [\\\"2015\\\", \\\"Gross Rent\\\"], [\\\"2015\\\", \\\"Sale Price/SqFt\\\"], [\\\"2016\\\", \\\"Gross Rent\\\"], [\\\"2016\\\", \\\"Sale Price/SqFt\\\"]]}, {\\\"cols\\\": null, \\\"column_source\\\": {\\\"id\\\": \\\"7114\\\"}, \\\"kind\\\": \\\"ColumnDataChanged\\\", \\\"new\\\": {\\\"Variable\\\": [\\\"Gross Rent\\\", \\\"Gross Rent\\\", \\\"Gross Rent\\\", \\\"Gross Rent\\\", \\\"Gross Rent\\\", \\\"Gross Rent\\\", \\\"Gross Rent\\\", \\\"Sale Price/SqFt\\\", \\\"Sale Price/SqFt\\\", \\\"Sale Price/SqFt\\\", \\\"Sale Price/SqFt\\\", \\\"Sale Price/SqFt\\\", \\\"Sale Price/SqFt\\\", \\\"Sale Price/SqFt\\\"], \\\"Year\\\": [\\\"2010\\\", \\\"2011\\\", \\\"2012\\\", \\\"2013\\\", \\\"2014\\\", \\\"2015\\\", \\\"2016\\\", \\\"2010\\\", \\\"2011\\\", \\\"2012\\\", \\\"2013\\\", \\\"2014\\\", \\\"2015\\\", \\\"2016\\\"], \\\"value\\\": [1239, 1530, 2324, 2971, 3528, 3739, 4390, 401, 337, 463, 420, 1119, 717, 531], \\\"xoffsets\\\": [[\\\"2010\\\", \\\"Gross Rent\\\"], [\\\"2011\\\", \\\"Gross Rent\\\"], [\\\"2012\\\", \\\"Gross Rent\\\"], [\\\"2013\\\", \\\"Gross Rent\\\"], [\\\"2014\\\", \\\"Gross Rent\\\"], [\\\"2015\\\", \\\"Gross Rent\\\"], [\\\"2016\\\", \\\"Gross Rent\\\"], [\\\"2010\\\", \\\"Sale Price/SqFt\\\"], [\\\"2011\\\", \\\"Sale Price/SqFt\\\"], [\\\"2012\\\", \\\"Sale Price/SqFt\\\"], [\\\"2013\\\", \\\"Sale Price/SqFt\\\"], [\\\"2014\\\", \\\"Sale Price/SqFt\\\"], [\\\"2015\\\", \\\"Sale Price/SqFt\\\"], [\\\"2016\\\", \\\"Sale Price/SqFt\\\"]]}}], \\\"references\\\": []}\",\"header\":\"{\\\"msgid\\\": \\\"7282\\\", \\\"msgtype\\\": \\\"PATCH-DOC\\\"}\",\"metadata\":\"{}\"},\"Sunnyside\":{\"content\":\"{\\\"events\\\": [{\\\"attr\\\": \\\"factors\\\", \\\"kind\\\": \\\"ModelChanged\\\", \\\"model\\\": {\\\"id\\\": \\\"7081\\\"}, \\\"new\\\": [[\\\"2010\\\", \\\"Gross Rent\\\"], [\\\"2010\\\", \\\"Sale Price/SqFt\\\"], [\\\"2011\\\", \\\"Gross Rent\\\"], [\\\"2011\\\", \\\"Sale Price/SqFt\\\"], [\\\"2013\\\", \\\"Gross Rent\\\"], [\\\"2013\\\", \\\"Sale Price/SqFt\\\"], [\\\"2014\\\", \\\"Gross Rent\\\"], [\\\"2014\\\", \\\"Sale Price/SqFt\\\"], [\\\"2015\\\", \\\"Gross Rent\\\"], [\\\"2015\\\", \\\"Sale Price/SqFt\\\"], [\\\"2016\\\", \\\"Gross Rent\\\"], [\\\"2016\\\", \\\"Sale Price/SqFt\\\"]]}, {\\\"cols\\\": null, \\\"column_source\\\": {\\\"id\\\": \\\"7114\\\"}, \\\"kind\\\": \\\"ColumnDataChanged\\\", \\\"new\\\": {\\\"Variable\\\": [\\\"Gross Rent\\\", \\\"Gross Rent\\\", \\\"Gross Rent\\\", \\\"Gross Rent\\\", \\\"Gross Rent\\\", \\\"Gross Rent\\\", \\\"Sale Price/SqFt\\\", \\\"Sale Price/SqFt\\\", \\\"Sale Price/SqFt\\\", \\\"Sale Price/SqFt\\\", \\\"Sale Price/SqFt\\\", \\\"Sale Price/SqFt\\\"], \\\"Year\\\": [\\\"2010\\\", \\\"2011\\\", \\\"2013\\\", \\\"2014\\\", \\\"2015\\\", \\\"2016\\\", \\\"2010\\\", \\\"2011\\\", \\\"2013\\\", \\\"2014\\\", \\\"2015\\\", \\\"2016\\\"], \\\"value\\\": [1239, 1530, 2971, 3528, 3739, 4390, 542, 437, 505, 493, 439, 751], \\\"xoffsets\\\": [[\\\"2010\\\", \\\"Gross Rent\\\"], [\\\"2011\\\", \\\"Gross Rent\\\"], [\\\"2013\\\", \\\"Gross Rent\\\"], [\\\"2014\\\", \\\"Gross Rent\\\"], [\\\"2015\\\", \\\"Gross Rent\\\"], [\\\"2016\\\", \\\"Gross Rent\\\"], [\\\"2010\\\", \\\"Sale Price/SqFt\\\"], [\\\"2011\\\", \\\"Sale Price/SqFt\\\"], [\\\"2013\\\", \\\"Sale Price/SqFt\\\"], [\\\"2014\\\", \\\"Sale Price/SqFt\\\"], [\\\"2015\\\", \\\"Sale Price/SqFt\\\"], [\\\"2016\\\", \\\"Sale Price/SqFt\\\"]]}}], \\\"references\\\": []}\",\"header\":\"{\\\"msgid\\\": \\\"7275\\\", \\\"msgtype\\\": \\\"PATCH-DOC\\\"}\",\"metadata\":\"{}\"},\"Telegraph Hill\":{\"content\":\"{\\\"events\\\": [{\\\"cols\\\": null, \\\"column_source\\\": {\\\"id\\\": \\\"7114\\\"}, \\\"kind\\\": \\\"ColumnDataChanged\\\", \\\"new\\\": {\\\"Variable\\\": [\\\"Gross Rent\\\", \\\"Gross Rent\\\", \\\"Gross Rent\\\", \\\"Gross Rent\\\", \\\"Gross Rent\\\", \\\"Gross Rent\\\", \\\"Gross Rent\\\", \\\"Sale Price/SqFt\\\", \\\"Sale Price/SqFt\\\", \\\"Sale Price/SqFt\\\", \\\"Sale Price/SqFt\\\", \\\"Sale Price/SqFt\\\", \\\"Sale Price/SqFt\\\", \\\"Sale Price/SqFt\\\"], \\\"Year\\\": [\\\"2010\\\", \\\"2011\\\", \\\"2012\\\", \\\"2013\\\", \\\"2014\\\", \\\"2015\\\", \\\"2016\\\", \\\"2010\\\", \\\"2011\\\", \\\"2012\\\", \\\"2013\\\", \\\"2014\\\", \\\"2015\\\", \\\"2016\\\"], \\\"value\\\": [1239, 1530, 2324, 2971, 3528, 3739, 4390, 524, 483, 465, 653, 708, 996, 903], \\\"xoffsets\\\": [[\\\"2010\\\", \\\"Gross Rent\\\"], [\\\"2011\\\", \\\"Gross Rent\\\"], [\\\"2012\\\", \\\"Gross Rent\\\"], [\\\"2013\\\", \\\"Gross Rent\\\"], [\\\"2014\\\", \\\"Gross Rent\\\"], [\\\"2015\\\", \\\"Gross Rent\\\"], [\\\"2016\\\", \\\"Gross Rent\\\"], [\\\"2010\\\", \\\"Sale Price/SqFt\\\"], [\\\"2011\\\", \\\"Sale Price/SqFt\\\"], [\\\"2012\\\", \\\"Sale Price/SqFt\\\"], [\\\"2013\\\", \\\"Sale Price/SqFt\\\"], [\\\"2014\\\", \\\"Sale Price/SqFt\\\"], [\\\"2015\\\", \\\"Sale Price/SqFt\\\"], [\\\"2016\\\", \\\"Sale Price/SqFt\\\"]]}}], \\\"references\\\": []}\",\"header\":\"{\\\"msgid\\\": \\\"7268\\\", \\\"msgtype\\\": \\\"PATCH-DOC\\\"}\",\"metadata\":\"{}\"},\"Twin Peaks\":{\"content\":\"{\\\"events\\\": [{\\\"attr\\\": \\\"factors\\\", \\\"kind\\\": \\\"ModelChanged\\\", \\\"model\\\": {\\\"id\\\": \\\"7081\\\"}, \\\"new\\\": [[\\\"2010\\\", \\\"Gross Rent\\\"], [\\\"2010\\\", \\\"Sale Price/SqFt\\\"], [\\\"2011\\\", \\\"Gross Rent\\\"], [\\\"2011\\\", \\\"Sale Price/SqFt\\\"], [\\\"2012\\\", \\\"Gross Rent\\\"], [\\\"2012\\\", \\\"Sale Price/SqFt\\\"], [\\\"2013\\\", \\\"Gross Rent\\\"], [\\\"2013\\\", \\\"Sale Price/SqFt\\\"], [\\\"2014\\\", \\\"Gross Rent\\\"], [\\\"2014\\\", \\\"Sale Price/SqFt\\\"], [\\\"2015\\\", \\\"Gross Rent\\\"], [\\\"2015\\\", \\\"Sale Price/SqFt\\\"], [\\\"2016\\\", \\\"Gross Rent\\\"], [\\\"2016\\\", \\\"Sale Price/SqFt\\\"]]}, {\\\"cols\\\": null, \\\"column_source\\\": {\\\"id\\\": \\\"7114\\\"}, \\\"kind\\\": \\\"ColumnDataChanged\\\", \\\"new\\\": {\\\"Variable\\\": [\\\"Gross Rent\\\", \\\"Gross Rent\\\", \\\"Gross Rent\\\", \\\"Gross Rent\\\", \\\"Gross Rent\\\", \\\"Gross Rent\\\", \\\"Gross Rent\\\", \\\"Sale Price/SqFt\\\", \\\"Sale Price/SqFt\\\", \\\"Sale Price/SqFt\\\", \\\"Sale Price/SqFt\\\", \\\"Sale Price/SqFt\\\", \\\"Sale Price/SqFt\\\", \\\"Sale Price/SqFt\\\"], \\\"Year\\\": [\\\"2010\\\", \\\"2011\\\", \\\"2012\\\", \\\"2013\\\", \\\"2014\\\", \\\"2015\\\", \\\"2016\\\", \\\"2010\\\", \\\"2011\\\", \\\"2012\\\", \\\"2013\\\", \\\"2014\\\", \\\"2015\\\", \\\"2016\\\"], \\\"value\\\": [1239, 1530, 2324, 2971, 3528, 3739, 4390, 331, 284, 304, 414, 562, 417, 970], \\\"xoffsets\\\": [[\\\"2010\\\", \\\"Gross Rent\\\"], [\\\"2011\\\", \\\"Gross Rent\\\"], [\\\"2012\\\", \\\"Gross Rent\\\"], [\\\"2013\\\", \\\"Gross Rent\\\"], [\\\"2014\\\", \\\"Gross Rent\\\"], [\\\"2015\\\", \\\"Gross Rent\\\"], [\\\"2016\\\", \\\"Gross Rent\\\"], [\\\"2010\\\", \\\"Sale Price/SqFt\\\"], [\\\"2011\\\", \\\"Sale Price/SqFt\\\"], [\\\"2012\\\", \\\"Sale Price/SqFt\\\"], [\\\"2013\\\", \\\"Sale Price/SqFt\\\"], [\\\"2014\\\", \\\"Sale Price/SqFt\\\"], [\\\"2015\\\", \\\"Sale Price/SqFt\\\"], [\\\"2016\\\", \\\"Sale Price/SqFt\\\"]]}}], \\\"references\\\": []}\",\"header\":\"{\\\"msgid\\\": \\\"7261\\\", \\\"msgtype\\\": \\\"PATCH-DOC\\\"}\",\"metadata\":\"{}\"},\"Union Square District\":{\"content\":\"{\\\"events\\\": [{\\\"attr\\\": \\\"factors\\\", \\\"kind\\\": \\\"ModelChanged\\\", \\\"model\\\": {\\\"id\\\": \\\"7081\\\"}, \\\"new\\\": [[\\\"2010\\\", \\\"Gross Rent\\\"], [\\\"2010\\\", \\\"Sale Price/SqFt\\\"], [\\\"2011\\\", \\\"Gross Rent\\\"], [\\\"2011\\\", \\\"Sale Price/SqFt\\\"], [\\\"2012\\\", \\\"Gross Rent\\\"], [\\\"2012\\\", \\\"Sale Price/SqFt\\\"], [\\\"2013\\\", \\\"Gross Rent\\\"], [\\\"2013\\\", \\\"Sale Price/SqFt\\\"], [\\\"2014\\\", \\\"Gross Rent\\\"], [\\\"2014\\\", \\\"Sale Price/SqFt\\\"], [\\\"2015\\\", \\\"Gross Rent\\\"], [\\\"2015\\\", \\\"Sale Price/SqFt\\\"]]}, {\\\"cols\\\": null, \\\"column_source\\\": {\\\"id\\\": \\\"7114\\\"}, \\\"kind\\\": \\\"ColumnDataChanged\\\", \\\"new\\\": {\\\"Variable\\\": [\\\"Gross Rent\\\", \\\"Gross Rent\\\", \\\"Gross Rent\\\", \\\"Gross Rent\\\", \\\"Gross Rent\\\", \\\"Gross Rent\\\", \\\"Sale Price/SqFt\\\", \\\"Sale Price/SqFt\\\", \\\"Sale Price/SqFt\\\", \\\"Sale Price/SqFt\\\", \\\"Sale Price/SqFt\\\", \\\"Sale Price/SqFt\\\"], \\\"Year\\\": [\\\"2010\\\", \\\"2011\\\", \\\"2012\\\", \\\"2013\\\", \\\"2014\\\", \\\"2015\\\", \\\"2010\\\", \\\"2011\\\", \\\"2012\\\", \\\"2013\\\", \\\"2014\\\", \\\"2015\\\"], \\\"value\\\": [1239, 1530, 2324, 2971, 3528, 3739, 569, 302, 445, 1290, 558, 2258], \\\"xoffsets\\\": [[\\\"2010\\\", \\\"Gross Rent\\\"], [\\\"2011\\\", \\\"Gross Rent\\\"], [\\\"2012\\\", \\\"Gross Rent\\\"], [\\\"2013\\\", \\\"Gross Rent\\\"], [\\\"2014\\\", \\\"Gross Rent\\\"], [\\\"2015\\\", \\\"Gross Rent\\\"], [\\\"2010\\\", \\\"Sale Price/SqFt\\\"], [\\\"2011\\\", \\\"Sale Price/SqFt\\\"], [\\\"2012\\\", \\\"Sale Price/SqFt\\\"], [\\\"2013\\\", \\\"Sale Price/SqFt\\\"], [\\\"2014\\\", \\\"Sale Price/SqFt\\\"], [\\\"2015\\\", \\\"Sale Price/SqFt\\\"]]}}], \\\"references\\\": []}\",\"header\":\"{\\\"msgid\\\": \\\"7254\\\", \\\"msgtype\\\": \\\"PATCH-DOC\\\"}\",\"metadata\":\"{}\"},\"Van Ness/ Civic Center\":{\"content\":\"{\\\"events\\\": [{\\\"attr\\\": \\\"factors\\\", \\\"kind\\\": \\\"ModelChanged\\\", \\\"model\\\": {\\\"id\\\": \\\"7081\\\"}, \\\"new\\\": [[\\\"2010\\\", \\\"Gross Rent\\\"], [\\\"2010\\\", \\\"Sale Price/SqFt\\\"], [\\\"2011\\\", \\\"Gross Rent\\\"], [\\\"2011\\\", \\\"Sale Price/SqFt\\\"], [\\\"2012\\\", \\\"Gross Rent\\\"], [\\\"2012\\\", \\\"Sale Price/SqFt\\\"], [\\\"2013\\\", \\\"Gross Rent\\\"], [\\\"2013\\\", \\\"Sale Price/SqFt\\\"], [\\\"2014\\\", \\\"Gross Rent\\\"], [\\\"2014\\\", \\\"Sale Price/SqFt\\\"], [\\\"2015\\\", \\\"Gross Rent\\\"], [\\\"2015\\\", \\\"Sale Price/SqFt\\\"], [\\\"2016\\\", \\\"Gross Rent\\\"], [\\\"2016\\\", \\\"Sale Price/SqFt\\\"]]}, {\\\"cols\\\": null, \\\"column_source\\\": {\\\"id\\\": \\\"7114\\\"}, \\\"kind\\\": \\\"ColumnDataChanged\\\", \\\"new\\\": {\\\"Variable\\\": [\\\"Gross Rent\\\", \\\"Gross Rent\\\", \\\"Gross Rent\\\", \\\"Gross Rent\\\", \\\"Gross Rent\\\", \\\"Gross Rent\\\", \\\"Gross Rent\\\", \\\"Sale Price/SqFt\\\", \\\"Sale Price/SqFt\\\", \\\"Sale Price/SqFt\\\", \\\"Sale Price/SqFt\\\", \\\"Sale Price/SqFt\\\", \\\"Sale Price/SqFt\\\", \\\"Sale Price/SqFt\\\"], \\\"Year\\\": [\\\"2010\\\", \\\"2011\\\", \\\"2012\\\", \\\"2013\\\", \\\"2014\\\", \\\"2015\\\", \\\"2016\\\", \\\"2010\\\", \\\"2011\\\", \\\"2012\\\", \\\"2013\\\", \\\"2014\\\", \\\"2015\\\", \\\"2016\\\"], \\\"value\\\": [1239, 1530, 2324, 2971, 3528, 3739, 4390, 108, 384, 345, 285, 475, 677, 552], \\\"xoffsets\\\": [[\\\"2010\\\", \\\"Gross Rent\\\"], [\\\"2011\\\", \\\"Gross Rent\\\"], [\\\"2012\\\", \\\"Gross Rent\\\"], [\\\"2013\\\", \\\"Gross Rent\\\"], [\\\"2014\\\", \\\"Gross Rent\\\"], [\\\"2015\\\", \\\"Gross Rent\\\"], [\\\"2016\\\", \\\"Gross Rent\\\"], [\\\"2010\\\", \\\"Sale Price/SqFt\\\"], [\\\"2011\\\", \\\"Sale Price/SqFt\\\"], [\\\"2012\\\", \\\"Sale Price/SqFt\\\"], [\\\"2013\\\", \\\"Sale Price/SqFt\\\"], [\\\"2014\\\", \\\"Sale Price/SqFt\\\"], [\\\"2015\\\", \\\"Sale Price/SqFt\\\"], [\\\"2016\\\", \\\"Sale Price/SqFt\\\"]]}}], \\\"references\\\": []}\",\"header\":\"{\\\"msgid\\\": \\\"7247\\\", \\\"msgtype\\\": \\\"PATCH-DOC\\\"}\",\"metadata\":\"{}\"},\"Visitacion Valley\":{\"content\":\"{\\\"events\\\": [{\\\"attr\\\": \\\"factors\\\", \\\"kind\\\": \\\"ModelChanged\\\", \\\"model\\\": {\\\"id\\\": \\\"7081\\\"}, \\\"new\\\": [[\\\"2013\\\", \\\"Gross Rent\\\"], [\\\"2013\\\", \\\"Sale Price/SqFt\\\"], [\\\"2014\\\", \\\"Gross Rent\\\"], [\\\"2014\\\", \\\"Sale Price/SqFt\\\"], [\\\"2015\\\", \\\"Gross Rent\\\"], [\\\"2015\\\", \\\"Sale Price/SqFt\\\"], [\\\"2016\\\", \\\"Gross Rent\\\"], [\\\"2016\\\", \\\"Sale Price/SqFt\\\"]]}, {\\\"cols\\\": null, \\\"column_source\\\": {\\\"id\\\": \\\"7114\\\"}, \\\"kind\\\": \\\"ColumnDataChanged\\\", \\\"new\\\": {\\\"Variable\\\": [\\\"Gross Rent\\\", \\\"Gross Rent\\\", \\\"Gross Rent\\\", \\\"Gross Rent\\\", \\\"Sale Price/SqFt\\\", \\\"Sale Price/SqFt\\\", \\\"Sale Price/SqFt\\\", \\\"Sale Price/SqFt\\\"], \\\"Year\\\": [\\\"2013\\\", \\\"2014\\\", \\\"2015\\\", \\\"2016\\\", \\\"2013\\\", \\\"2014\\\", \\\"2015\\\", \\\"2016\\\"], \\\"value\\\": [2971, 3528, 3739, 4390, 293, 282, 302, 328], \\\"xoffsets\\\": [[\\\"2013\\\", \\\"Gross Rent\\\"], [\\\"2014\\\", \\\"Gross Rent\\\"], [\\\"2015\\\", \\\"Gross Rent\\\"], [\\\"2016\\\", \\\"Gross Rent\\\"], [\\\"2013\\\", \\\"Sale Price/SqFt\\\"], [\\\"2014\\\", \\\"Sale Price/SqFt\\\"], [\\\"2015\\\", \\\"Sale Price/SqFt\\\"], [\\\"2016\\\", \\\"Sale Price/SqFt\\\"]]}}], \\\"references\\\": []}\",\"header\":\"{\\\"msgid\\\": \\\"7240\\\", \\\"msgtype\\\": \\\"PATCH-DOC\\\"}\",\"metadata\":\"{}\"},\"West Portal\":{\"content\":\"{\\\"events\\\": [{\\\"attr\\\": \\\"factors\\\", \\\"kind\\\": \\\"ModelChanged\\\", \\\"model\\\": {\\\"id\\\": \\\"7081\\\"}, \\\"new\\\": [[\\\"2010\\\", \\\"Gross Rent\\\"], [\\\"2010\\\", \\\"Sale Price/SqFt\\\"], [\\\"2012\\\", \\\"Gross Rent\\\"], [\\\"2012\\\", \\\"Sale Price/SqFt\\\"], [\\\"2013\\\", \\\"Gross Rent\\\"], [\\\"2013\\\", \\\"Sale Price/SqFt\\\"], [\\\"2014\\\", \\\"Gross Rent\\\"], [\\\"2014\\\", \\\"Sale Price/SqFt\\\"]]}, {\\\"cols\\\": null, \\\"column_source\\\": {\\\"id\\\": \\\"7114\\\"}, \\\"kind\\\": \\\"ColumnDataChanged\\\", \\\"new\\\": {\\\"Variable\\\": [\\\"Gross Rent\\\", \\\"Gross Rent\\\", \\\"Gross Rent\\\", \\\"Gross Rent\\\", \\\"Sale Price/SqFt\\\", \\\"Sale Price/SqFt\\\", \\\"Sale Price/SqFt\\\", \\\"Sale Price/SqFt\\\"], \\\"Year\\\": [\\\"2010\\\", \\\"2012\\\", \\\"2013\\\", \\\"2014\\\", \\\"2010\\\", \\\"2012\\\", \\\"2013\\\", \\\"2014\\\"], \\\"value\\\": [1239, 2324, 2971, 3528, 392, 325, 588, 687], \\\"xoffsets\\\": [[\\\"2010\\\", \\\"Gross Rent\\\"], [\\\"2012\\\", \\\"Gross Rent\\\"], [\\\"2013\\\", \\\"Gross Rent\\\"], [\\\"2014\\\", \\\"Gross Rent\\\"], [\\\"2010\\\", \\\"Sale Price/SqFt\\\"], [\\\"2012\\\", \\\"Sale Price/SqFt\\\"], [\\\"2013\\\", \\\"Sale Price/SqFt\\\"], [\\\"2014\\\", \\\"Sale Price/SqFt\\\"]]}}], \\\"references\\\": []}\",\"header\":\"{\\\"msgid\\\": \\\"7233\\\", \\\"msgtype\\\": \\\"PATCH-DOC\\\"}\",\"metadata\":\"{}\"},\"Western Addition\":{\"content\":\"{\\\"events\\\": [{\\\"attr\\\": \\\"factors\\\", \\\"kind\\\": \\\"ModelChanged\\\", \\\"model\\\": {\\\"id\\\": \\\"7081\\\"}, \\\"new\\\": [[\\\"2010\\\", \\\"Gross Rent\\\"], [\\\"2010\\\", \\\"Sale Price/SqFt\\\"], [\\\"2011\\\", \\\"Gross Rent\\\"], [\\\"2011\\\", \\\"Sale Price/SqFt\\\"], [\\\"2012\\\", \\\"Gross Rent\\\"], [\\\"2012\\\", \\\"Sale Price/SqFt\\\"], [\\\"2013\\\", \\\"Gross Rent\\\"], [\\\"2013\\\", \\\"Sale Price/SqFt\\\"], [\\\"2014\\\", \\\"Gross Rent\\\"], [\\\"2014\\\", \\\"Sale Price/SqFt\\\"], [\\\"2015\\\", \\\"Gross Rent\\\"], [\\\"2015\\\", \\\"Sale Price/SqFt\\\"]]}, {\\\"cols\\\": null, \\\"column_source\\\": {\\\"id\\\": \\\"7114\\\"}, \\\"kind\\\": \\\"ColumnDataChanged\\\", \\\"new\\\": {\\\"Variable\\\": [\\\"Gross Rent\\\", \\\"Gross Rent\\\", \\\"Gross Rent\\\", \\\"Gross Rent\\\", \\\"Gross Rent\\\", \\\"Gross Rent\\\", \\\"Sale Price/SqFt\\\", \\\"Sale Price/SqFt\\\", \\\"Sale Price/SqFt\\\", \\\"Sale Price/SqFt\\\", \\\"Sale Price/SqFt\\\", \\\"Sale Price/SqFt\\\"], \\\"Year\\\": [\\\"2010\\\", \\\"2011\\\", \\\"2012\\\", \\\"2013\\\", \\\"2014\\\", \\\"2015\\\", \\\"2010\\\", \\\"2011\\\", \\\"2012\\\", \\\"2013\\\", \\\"2014\\\", \\\"2015\\\"], \\\"value\\\": [1239, 1530, 2324, 2971, 3528, 3739, 215, 227, 274, 217, 429, 481], \\\"xoffsets\\\": [[\\\"2010\\\", \\\"Gross Rent\\\"], [\\\"2011\\\", \\\"Gross Rent\\\"], [\\\"2012\\\", \\\"Gross Rent\\\"], [\\\"2013\\\", \\\"Gross Rent\\\"], [\\\"2014\\\", \\\"Gross Rent\\\"], [\\\"2015\\\", \\\"Gross Rent\\\"], [\\\"2010\\\", \\\"Sale Price/SqFt\\\"], [\\\"2011\\\", \\\"Sale Price/SqFt\\\"], [\\\"2012\\\", \\\"Sale Price/SqFt\\\"], [\\\"2013\\\", \\\"Sale Price/SqFt\\\"], [\\\"2014\\\", \\\"Sale Price/SqFt\\\"], [\\\"2015\\\", \\\"Sale Price/SqFt\\\"]]}}], \\\"references\\\": []}\",\"header\":\"{\\\"msgid\\\": \\\"7226\\\", \\\"msgtype\\\": \\\"PATCH-DOC\\\"}\",\"metadata\":\"{}\"},\"Westwood Highlands\":{\"content\":\"{\\\"events\\\": [{\\\"attr\\\": \\\"factors\\\", \\\"kind\\\": \\\"ModelChanged\\\", \\\"model\\\": {\\\"id\\\": \\\"7081\\\"}, \\\"new\\\": [[\\\"2011\\\", \\\"Gross Rent\\\"], [\\\"2011\\\", \\\"Sale Price/SqFt\\\"], [\\\"2013\\\", \\\"Gross Rent\\\"], [\\\"2013\\\", \\\"Sale Price/SqFt\\\"]]}, {\\\"cols\\\": null, \\\"column_source\\\": {\\\"id\\\": \\\"7114\\\"}, \\\"kind\\\": \\\"ColumnDataChanged\\\", \\\"new\\\": {\\\"Variable\\\": [\\\"Gross Rent\\\", \\\"Gross Rent\\\", \\\"Sale Price/SqFt\\\", \\\"Sale Price/SqFt\\\"], \\\"Year\\\": [\\\"2011\\\", \\\"2013\\\", \\\"2011\\\", \\\"2013\\\"], \\\"value\\\": [1530, 2971, 320, 747], \\\"xoffsets\\\": [[\\\"2011\\\", \\\"Gross Rent\\\"], [\\\"2013\\\", \\\"Gross Rent\\\"], [\\\"2011\\\", \\\"Sale Price/SqFt\\\"], [\\\"2013\\\", \\\"Sale Price/SqFt\\\"]]}}], \\\"references\\\": []}\",\"header\":\"{\\\"msgid\\\": \\\"7219\\\", \\\"msgtype\\\": \\\"PATCH-DOC\\\"}\",\"metadata\":\"{}\"},\"Westwood Park\":{\"content\":\"{\\\"events\\\": [{\\\"attr\\\": \\\"factors\\\", \\\"kind\\\": \\\"ModelChanged\\\", \\\"model\\\": {\\\"id\\\": \\\"7081\\\"}, \\\"new\\\": [[\\\"2014\\\", \\\"Gross Rent\\\"], [\\\"2014\\\", \\\"Sale Price/SqFt\\\"], [\\\"2016\\\", \\\"Gross Rent\\\"], [\\\"2016\\\", \\\"Sale Price/SqFt\\\"]]}, {\\\"cols\\\": null, \\\"column_source\\\": {\\\"id\\\": \\\"7114\\\"}, \\\"kind\\\": \\\"ColumnDataChanged\\\", \\\"new\\\": {\\\"Variable\\\": [\\\"Gross Rent\\\", \\\"Gross Rent\\\", \\\"Sale Price/SqFt\\\", \\\"Sale Price/SqFt\\\"], \\\"Year\\\": [\\\"2014\\\", \\\"2016\\\", \\\"2014\\\", \\\"2016\\\"], \\\"value\\\": [3528, 4390, 742, 631], \\\"xoffsets\\\": [[\\\"2014\\\", \\\"Gross Rent\\\"], [\\\"2016\\\", \\\"Gross Rent\\\"], [\\\"2014\\\", \\\"Sale Price/SqFt\\\"], [\\\"2016\\\", \\\"Sale Price/SqFt\\\"]]}}], \\\"references\\\": []}\",\"header\":\"{\\\"msgid\\\": \\\"7212\\\", \\\"msgtype\\\": \\\"PATCH-DOC\\\"}\",\"metadata\":\"{}\"},\"Yerba Buena\":{\"content\":\"{\\\"events\\\": [{\\\"attr\\\": \\\"factors\\\", \\\"kind\\\": \\\"ModelChanged\\\", \\\"model\\\": {\\\"id\\\": \\\"7081\\\"}, \\\"new\\\": [[\\\"2010\\\", \\\"Gross Rent\\\"], [\\\"2010\\\", \\\"Sale Price/SqFt\\\"], [\\\"2011\\\", \\\"Gross Rent\\\"], [\\\"2011\\\", \\\"Sale Price/SqFt\\\"], [\\\"2012\\\", \\\"Gross Rent\\\"], [\\\"2012\\\", \\\"Sale Price/SqFt\\\"], [\\\"2013\\\", \\\"Gross Rent\\\"], [\\\"2013\\\", \\\"Sale Price/SqFt\\\"], [\\\"2014\\\", \\\"Gross Rent\\\"], [\\\"2014\\\", \\\"Sale Price/SqFt\\\"], [\\\"2015\\\", \\\"Gross Rent\\\"], [\\\"2015\\\", \\\"Sale Price/SqFt\\\"]]}, {\\\"cols\\\": null, \\\"column_source\\\": {\\\"id\\\": \\\"7114\\\"}, \\\"kind\\\": \\\"ColumnDataChanged\\\", \\\"new\\\": {\\\"Variable\\\": [\\\"Gross Rent\\\", \\\"Gross Rent\\\", \\\"Gross Rent\\\", \\\"Gross Rent\\\", \\\"Gross Rent\\\", \\\"Gross Rent\\\", \\\"Sale Price/SqFt\\\", \\\"Sale Price/SqFt\\\", \\\"Sale Price/SqFt\\\", \\\"Sale Price/SqFt\\\", \\\"Sale Price/SqFt\\\", \\\"Sale Price/SqFt\\\"], \\\"Year\\\": [\\\"2010\\\", \\\"2011\\\", \\\"2012\\\", \\\"2013\\\", \\\"2014\\\", \\\"2015\\\", \\\"2010\\\", \\\"2011\\\", \\\"2012\\\", \\\"2013\\\", \\\"2014\\\", \\\"2015\\\"], \\\"value\\\": [1239, 1530, 2324, 2971, 3528, 3739, 333, 438, 491, 753, 479, 963], \\\"xoffsets\\\": [[\\\"2010\\\", \\\"Gross Rent\\\"], [\\\"2011\\\", \\\"Gross Rent\\\"], [\\\"2012\\\", \\\"Gross Rent\\\"], [\\\"2013\\\", \\\"Gross Rent\\\"], [\\\"2014\\\", \\\"Gross Rent\\\"], [\\\"2015\\\", \\\"Gross Rent\\\"], [\\\"2010\\\", \\\"Sale Price/SqFt\\\"], [\\\"2011\\\", \\\"Sale Price/SqFt\\\"], [\\\"2012\\\", \\\"Sale Price/SqFt\\\"], [\\\"2013\\\", \\\"Sale Price/SqFt\\\"], [\\\"2014\\\", \\\"Sale Price/SqFt\\\"], [\\\"2015\\\", \\\"Sale Price/SqFt\\\"]]}}], \\\"references\\\": []}\",\"header\":\"{\\\"msgid\\\": \\\"7205\\\", \\\"msgtype\\\": \\\"PATCH-DOC\\\"}\",\"metadata\":\"{}\"}},\"values\":[\"Alamo Square\"],\"widgets\":{\"7165\":0}},\"id\":\"7177\",\"type\":\"panel.models.state.State\"},{\"attributes\":{},\"id\":\"7100\",\"type\":\"SaveTool\"},{\"attributes\":{},\"id\":\"7125\",\"type\":\"CategoricalTickFormatter\"},{\"attributes\":{},\"id\":\"7101\",\"type\":\"PanTool\"},{\"attributes\":{\"js_property_callbacks\":{\"change:value\":[{\"id\":\"7178\"}]},\"margin\":[20,20,20,20],\"min_width\":250,\"options\":[\"Alamo Square\",\"Anza Vista\",\"Bayview\",\"Bayview Heights\",\"Bernal Heights \",\"Buena Vista Park\",\"Central Richmond\",\"Central Sunset\",\"Clarendon Heights\",\"Corona Heights\",\"Cow Hollow\",\"Croker Amazon\",\"Diamond Heights\",\"Downtown \",\"Duboce Triangle\",\"Eureka Valley/Dolores Heights\",\"Excelsior\",\"Financial District North\",\"Financial District South\",\"Forest Knolls\",\"Glen Park\",\"Golden Gate Heights\",\"Haight Ashbury\",\"Hayes Valley\",\"Hunters Point\",\"Ingleside \",\"Ingleside Heights\",\"Inner Mission\",\"Inner Parkside\",\"Inner Richmond\",\"Inner Sunset\",\"Jordan Park/Laurel Heights\",\"Lake --The Presidio\",\"Lone Mountain\",\"Lower Pacific Heights\",\"Marina\",\"Merced Heights\",\"Midtown Terrace\",\"Miraloma Park\",\"Mission Bay\",\"Mission Dolores\",\"Mission Terrace\",\"Nob Hill\",\"Noe Valley\",\"North Beach\",\"North Waterfront\",\"Oceanview\",\"Outer Mission\",\"Outer Parkside\",\"Outer Richmond \",\"Outer Sunset\",\"Pacific Heights\",\"Park North\",\"Parkside\",\"Parnassus/Ashbury Heights\",\"Portola\",\"Potrero Hill\",\"Presidio Heights\",\"Russian Hill\",\"Silver Terrace\",\"South Beach\",\"South of Market\",\"Sunnyside\",\"Telegraph Hill\",\"Twin Peaks\",\"Union Square District\",\"Van Ness/ Civic Center\",\"Visitacion Valley\",\"West Portal\",\"Western Addition\",\"Westwood Highlands\",\"Westwood Park\",\"Yerba Buena\"],\"title\":\"Neighborhood\",\"value\":\"Alamo Square\",\"width\":250},\"id\":\"7165\",\"type\":\"Select\"},{\"attributes\":{},\"id\":\"7104\",\"type\":\"ResetTool\"},{\"attributes\":{},\"id\":\"7102\",\"type\":\"WheelZoomTool\"},{\"attributes\":{\"axis_label\":\"Neighborhood\",\"axis_label_text_font_size\":\"8pt\",\"formatter\":{\"id\":\"7125\"},\"major_label_orientation\":1.5707963267948966,\"major_label_policy\":{\"id\":\"7124\"},\"ticker\":{\"id\":\"7094\"}},\"id\":\"7093\",\"type\":\"CategoricalAxis\"},{\"attributes\":{},\"id\":\"7128\",\"type\":\"BasicTickFormatter\"},{\"attributes\":{\"axis\":{\"id\":\"7093\"},\"grid_line_color\":null,\"ticker\":null},\"id\":\"7095\",\"type\":\"Grid\"},{\"attributes\":{\"overlay\":{\"id\":\"7105\"}},\"id\":\"7103\",\"type\":\"BoxZoomTool\"},{\"attributes\":{\"fill_color\":{\"field\":\"Variable\",\"transform\":{\"id\":\"7113\"}},\"top\":{\"field\":\"value\"},\"width\":{\"value\":0.7},\"x\":{\"field\":\"xoffsets\"}},\"id\":\"7117\",\"type\":\"VBar\"},{\"attributes\":{},\"id\":\"7089\",\"type\":\"CategoricalScale\"},{\"attributes\":{\"children\":[{\"id\":\"7165\"}],\"css_classes\":[\"panel-widget-box\"],\"margin\":[5,5,5,5],\"name\":\"WidgetBox94934\"},\"id\":\"7164\",\"type\":\"Column\"},{\"attributes\":{},\"id\":\"7091\",\"type\":\"LinearScale\"},{\"attributes\":{\"axis\":{\"id\":\"7096\"},\"dimension\":1,\"grid_line_color\":null,\"ticker\":null},\"id\":\"7099\",\"type\":\"Grid\"},{\"attributes\":{\"end\":4800,\"reset_end\":4800,\"reset_start\":0,\"tags\":[[[\"value\",\"value\",null]]]},\"id\":\"7082\",\"type\":\"Range1d\"},{\"attributes\":{\"factors\":[[\"2010\",\"Gross Rent\"],[\"2010\",\"Sale Price/SqFt\"],[\"2011\",\"Gross Rent\"],[\"2011\",\"Sale Price/SqFt\"],[\"2012\",\"Gross Rent\"],[\"2012\",\"Sale Price/SqFt\"],[\"2013\",\"Gross Rent\"],[\"2013\",\"Sale Price/SqFt\"],[\"2014\",\"Gross Rent\"],[\"2014\",\"Sale Price/SqFt\"],[\"2015\",\"Gross Rent\"],[\"2015\",\"Sale Price/SqFt\"],[\"2016\",\"Gross Rent\"],[\"2016\",\"Sale Price/SqFt\"]],\"tags\":[[[\"Year\",\"Year\",null],[\"Variable\",\"Variable\",null]]]},\"id\":\"7081\",\"type\":\"FactorRange\"},{\"attributes\":{},\"id\":\"7094\",\"type\":\"CategoricalTicker\"},{\"attributes\":{\"fill_alpha\":{\"value\":0.2},\"fill_color\":{\"field\":\"Variable\",\"transform\":{\"id\":\"7113\"}},\"line_alpha\":{\"value\":0.2},\"top\":{\"field\":\"value\"},\"width\":{\"value\":0.7},\"x\":{\"field\":\"xoffsets\"}},\"id\":\"7119\",\"type\":\"VBar\"},{\"attributes\":{\"children\":[{\"id\":\"7080\"},{\"id\":\"7084\"},{\"id\":\"7161\"},{\"id\":\"7162\"}],\"margin\":[0,0,0,0],\"name\":\"Row94933\",\"tags\":[\"embedded\"]},\"id\":\"7079\",\"type\":\"Row\"},{\"attributes\":{\"data_source\":{\"id\":\"7114\"},\"glyph\":{\"id\":\"7117\"},\"hover_glyph\":null,\"muted_glyph\":{\"id\":\"7119\"},\"nonselection_glyph\":{\"id\":\"7118\"},\"selection_glyph\":{\"id\":\"7122\"},\"view\":{\"id\":\"7121\"}},\"id\":\"7120\",\"type\":\"GlyphRenderer\"},{\"attributes\":{},\"id\":\"7115\",\"type\":\"Selection\"},{\"attributes\":{\"children\":[{\"id\":\"7163\"},{\"id\":\"7164\"},{\"id\":\"7166\"}],\"margin\":[0,0,0,0],\"name\":\"Column94943\"},\"id\":\"7162\",\"type\":\"Column\"},{\"attributes\":{},\"id\":\"7127\",\"type\":\"AllLabels\"},{\"attributes\":{},\"id\":\"7097\",\"type\":\"BasicTicker\"},{\"attributes\":{\"axis_label\":\"Num. Housing Units\",\"formatter\":{\"id\":\"7128\"},\"major_label_policy\":{\"id\":\"7127\"},\"ticker\":{\"id\":\"7097\"}},\"id\":\"7096\",\"type\":\"LinearAxis\"},{\"attributes\":{\"callback\":null,\"renderers\":[{\"id\":\"7120\"}],\"tags\":[\"hv_created\"],\"tooltips\":[[\"Year\",\"@{Year}\"],[\"Variable\",\"@{Variable}\"],[\"value\",\"@{value}\"]]},\"id\":\"7083\",\"type\":\"HoverTool\"},{\"attributes\":{},\"id\":\"7124\",\"type\":\"AllLabels\"},{\"attributes\":{\"margin\":[5,5,5,5],\"name\":\"HSpacer94944\",\"sizing_mode\":\"stretch_width\"},\"id\":\"7080\",\"type\":\"Spacer\"},{\"attributes\":{\"active_multi\":null,\"tools\":[{\"id\":\"7083\"},{\"id\":\"7100\"},{\"id\":\"7101\"},{\"id\":\"7102\"},{\"id\":\"7103\"},{\"id\":\"7104\"}]},\"id\":\"7106\",\"type\":\"Toolbar\"}],\"root_ids\":[\"7079\",\"7177\"]},\"title\":\"Bokeh Application\",\"version\":\"2.3.2\"}};\n",
       "    var render_items = [{\"docid\":\"f67ee174-a948-4521-8964-af08cbe92c4a\",\"root_ids\":[\"7079\"],\"roots\":{\"7079\":\"4e8c0e62-4755-438d-acf7-6165156b8315\"}}];\n",
       "    root.Bokeh.embed.embed_items_notebook(docs_json, render_items);\n",
       "  }\n",
       "  if (root.Bokeh !== undefined && root.Bokeh.Panel !== undefined && root['Plotly'] !== undefined ) {\n",
       "    embed_document(root);\n",
       "  } else {\n",
       "    var attempts = 0;\n",
       "    var timer = setInterval(function(root) {\n",
       "      if (root.Bokeh !== undefined && root.Bokeh.Panel !== undefined && root['Plotly'] !== undefined) {\n",
       "        clearInterval(timer);\n",
       "        embed_document(root);\n",
       "      } else if (document.readyState == \"complete\") {\n",
       "        attempts++;\n",
       "        if (attempts > 100) {\n",
       "          clearInterval(timer);\n",
       "          console.log(\"Bokeh: ERROR: Unable to run BokehJS code because BokehJS library is missing\");\n",
       "        }\n",
       "      }\n",
       "    }, 10, root)\n",
       "  }\n",
       "})(window);</script>"
      ]
     },
     "metadata": {
      "application/vnd.holoviews_exec.v0+json": {
       "id": "7079"
      }
     },
     "execution_count": 92
    }
   ],
   "metadata": {}
  },
  {
   "cell_type": "code",
   "execution_count": 93,
   "source": [
    "## Here's a comparison of only the top 10 most expensive neighborhoods\r\n",
    "\r\n",
    "top10_comparison = sfo_neighborhood.sort_values('Sale Price/SqFt',ascending=False).head(10)\r\n",
    "plot_top10_comparison = top10_comparison.hvplot.bar(\r\n",
    "    dynamic=False,\r\n",
    "    height=400,\r\n",
    "    width=700,\r\n",
    "    title='Top 10 Expensive Neighborhoods in SFO',\r\n",
    "    x='Year',\r\n",
    "    xlabel='Neighborhood',\r\n",
    "    y=['Gross Rent','Sale Price/SqFt'],\r\n",
    "    ylabel='Num. Housing Units',\r\n",
    "    groupby='Neighborhood',\r\n",
    "    rot=90,\r\n",
    "    bar_width=.7).opts(\r\n",
    "        padding=(0,.2),\r\n",
    "        ylim=(0,4800),\r\n",
    "        fontsize={\r\n",
    "            'title':10,\r\n",
    "            'xlabel':8\r\n",
    "        },\r\n",
    "    )\r\n",
    "    \r\n",
    "plot_top10_comparison"
   ],
   "outputs": [
    {
     "output_type": "display_data",
     "data": {},
     "metadata": {}
    },
    {
     "output_type": "execute_result",
     "data": {
      "application/vnd.holoviews_exec.v0+json": "",
      "text/plain": [
       ":HoloMap   [Neighborhood]\n",
       "   :Bars   [Year,Variable]   (value)"
      ],
      "text/html": [
       "<div id='7740'>\n",
       "\n",
       "\n",
       "\n",
       "\n",
       "\n",
       "  <div class=\"bk-root\" id=\"6e7cc718-54cf-4095-aedb-5c62f66403dd\" data-root-id=\"7740\"></div>\n",
       "</div>\n",
       "<script type=\"application/javascript\">(function(root) {\n",
       "  function embed_document(root) {\n",
       "    var docs_json = {\"e57bbbda-7fd4-424e-95bc-c3c540c71055\":{\"defs\":[],\"roots\":{\"references\":[{\"attributes\":{},\"id\":\"7763\",\"type\":\"WheelZoomTool\"},{\"attributes\":{\"factors\":[[\"2015\",\"Gross Rent\"],[\"2015\",\"Sale Price/SqFt\"]],\"tags\":[[[\"Year\",\"Year\",null],[\"Variable\",\"Variable\",null]]]},\"id\":\"7742\",\"type\":\"FactorRange\"},{\"attributes\":{\"axis\":{\"id\":\"7754\"},\"grid_line_color\":null,\"ticker\":null},\"id\":\"7756\",\"type\":\"Grid\"},{\"attributes\":{\"overlay\":{\"id\":\"7766\"}},\"id\":\"7764\",\"type\":\"BoxZoomTool\"},{\"attributes\":{\"bottom\":{\"value\":0},\"fill_alpha\":{\"value\":1.0},\"fill_color\":{\"field\":\"Variable\",\"transform\":{\"id\":\"7774\"}},\"hatch_alpha\":{\"value\":1.0},\"hatch_color\":{\"value\":\"black\"},\"hatch_scale\":{\"value\":12.0},\"hatch_weight\":{\"value\":1.0},\"line_alpha\":{\"value\":1.0},\"line_cap\":{\"value\":\"butt\"},\"line_color\":{\"value\":\"black\"},\"line_dash\":{\"value\":[]},\"line_dash_offset\":{\"value\":0},\"line_join\":{\"value\":\"bevel\"},\"line_width\":{\"value\":1},\"top\":{\"field\":\"value\"},\"width\":{\"value\":0.7},\"x\":{\"field\":\"xoffsets\"}},\"id\":\"7783\",\"type\":\"VBar\"},{\"attributes\":{\"js_property_callbacks\":{\"change:value\":[{\"id\":\"7839\"}]},\"margin\":[20,20,20,20],\"min_width\":250,\"options\":[\"Corona Heights\",\"Marina\",\"Merced Heights\",\"Miraloma Park\",\"Outer Richmond \",\"Parnassus/Ashbury Heights\",\"Presidio Heights\",\"South of Market\",\"Union Square District\"],\"title\":\"Neighborhood\",\"value\":\"Corona Heights\",\"width\":250},\"id\":\"7826\",\"type\":\"Select\"},{\"attributes\":{\"axis_label\":\"Neighborhood\",\"axis_label_text_font_size\":\"8pt\",\"formatter\":{\"id\":\"7786\"},\"major_label_orientation\":1.5707963267948966,\"major_label_policy\":{\"id\":\"7785\"},\"ticker\":{\"id\":\"7755\"}},\"id\":\"7754\",\"type\":\"CategoricalAxis\"},{\"attributes\":{},\"id\":\"7750\",\"type\":\"CategoricalScale\"},{\"attributes\":{\"state\":{\"Corona Heights\":{\"content\":\"{\\\"events\\\": [{\\\"cols\\\": null, \\\"column_source\\\": {\\\"id\\\": \\\"7775\\\"}, \\\"kind\\\": \\\"ColumnDataChanged\\\", \\\"new\\\": {\\\"Variable\\\": [\\\"Gross Rent\\\", \\\"Sale Price/SqFt\\\"], \\\"Year\\\": [\\\"2015\\\", \\\"2015\\\"], \\\"value\\\": [3739, 1100], \\\"xoffsets\\\": [[\\\"2015\\\", \\\"Gross Rent\\\"], [\\\"2015\\\", \\\"Sale Price/SqFt\\\"]]}}], \\\"references\\\": []}\",\"header\":\"{\\\"msgid\\\": \\\"7922\\\", \\\"msgtype\\\": \\\"PATCH-DOC\\\"}\",\"metadata\":\"{}\"},\"Marina\":{\"content\":\"{\\\"events\\\": [{\\\"attr\\\": \\\"factors\\\", \\\"kind\\\": \\\"ModelChanged\\\", \\\"model\\\": {\\\"id\\\": \\\"7742\\\"}, \\\"new\\\": [[\\\"2015\\\", \\\"Gross Rent\\\"], [\\\"2015\\\", \\\"Sale Price/SqFt\\\"]]}, {\\\"cols\\\": null, \\\"column_source\\\": {\\\"id\\\": \\\"7775\\\"}, \\\"kind\\\": \\\"ColumnDataChanged\\\", \\\"new\\\": {\\\"Variable\\\": [\\\"Gross Rent\\\", \\\"Sale Price/SqFt\\\"], \\\"Year\\\": [\\\"2015\\\", \\\"2015\\\"], \\\"value\\\": [3739, 1132], \\\"xoffsets\\\": [[\\\"2015\\\", \\\"Gross Rent\\\"], [\\\"2015\\\", \\\"Sale Price/SqFt\\\"]]}}], \\\"references\\\": []}\",\"header\":\"{\\\"msgid\\\": \\\"7915\\\", \\\"msgtype\\\": \\\"PATCH-DOC\\\"}\",\"metadata\":\"{}\"},\"Merced Heights\":{\"content\":\"{\\\"events\\\": [{\\\"attr\\\": \\\"factors\\\", \\\"kind\\\": \\\"ModelChanged\\\", \\\"model\\\": {\\\"id\\\": \\\"7742\\\"}, \\\"new\\\": [[\\\"2016\\\", \\\"Gross Rent\\\"], [\\\"2016\\\", \\\"Sale Price/SqFt\\\"]]}, {\\\"cols\\\": null, \\\"column_source\\\": {\\\"id\\\": \\\"7775\\\"}, \\\"kind\\\": \\\"ColumnDataChanged\\\", \\\"new\\\": {\\\"Variable\\\": [\\\"Gross Rent\\\", \\\"Sale Price/SqFt\\\"], \\\"Year\\\": [\\\"2016\\\", \\\"2016\\\"], \\\"value\\\": [4390, 1416], \\\"xoffsets\\\": [[\\\"2016\\\", \\\"Gross Rent\\\"], [\\\"2016\\\", \\\"Sale Price/SqFt\\\"]]}}], \\\"references\\\": []}\",\"header\":\"{\\\"msgid\\\": \\\"7908\\\", \\\"msgtype\\\": \\\"PATCH-DOC\\\"}\",\"metadata\":\"{}\"},\"Miraloma Park\":{\"content\":\"{\\\"events\\\": [{\\\"attr\\\": \\\"factors\\\", \\\"kind\\\": \\\"ModelChanged\\\", \\\"model\\\": {\\\"id\\\": \\\"7742\\\"}, \\\"new\\\": [[\\\"2014\\\", \\\"Gross Rent\\\"], [\\\"2014\\\", \\\"Sale Price/SqFt\\\"]]}, {\\\"cols\\\": null, \\\"column_source\\\": {\\\"id\\\": \\\"7775\\\"}, \\\"kind\\\": \\\"ColumnDataChanged\\\", \\\"new\\\": {\\\"Variable\\\": [\\\"Gross Rent\\\", \\\"Sale Price/SqFt\\\"], \\\"Year\\\": [\\\"2014\\\", \\\"2014\\\"], \\\"value\\\": [3528, 1267], \\\"xoffsets\\\": [[\\\"2014\\\", \\\"Gross Rent\\\"], [\\\"2014\\\", \\\"Sale Price/SqFt\\\"]]}}], \\\"references\\\": []}\",\"header\":\"{\\\"msgid\\\": \\\"7901\\\", \\\"msgtype\\\": \\\"PATCH-DOC\\\"}\",\"metadata\":\"{}\"},\"Outer Richmond \":{\"content\":\"{\\\"events\\\": [{\\\"cols\\\": null, \\\"column_source\\\": {\\\"id\\\": \\\"7775\\\"}, \\\"kind\\\": \\\"ColumnDataChanged\\\", \\\"new\\\": {\\\"Variable\\\": [\\\"Gross Rent\\\", \\\"Sale Price/SqFt\\\"], \\\"Year\\\": [\\\"2016\\\", \\\"2016\\\"], \\\"value\\\": [4390, 1196], \\\"xoffsets\\\": [[\\\"2016\\\", \\\"Gross Rent\\\"], [\\\"2016\\\", \\\"Sale Price/SqFt\\\"]]}}], \\\"references\\\": []}\",\"header\":\"{\\\"msgid\\\": \\\"7894\\\", \\\"msgtype\\\": \\\"PATCH-DOC\\\"}\",\"metadata\":\"{}\"},\"Parnassus/Ashbury Heights\":{\"content\":\"{\\\"events\\\": [{\\\"cols\\\": null, \\\"column_source\\\": {\\\"id\\\": \\\"7775\\\"}, \\\"kind\\\": \\\"ColumnDataChanged\\\", \\\"new\\\": {\\\"Variable\\\": [\\\"Gross Rent\\\", \\\"Sale Price/SqFt\\\"], \\\"Year\\\": [\\\"2016\\\", \\\"2016\\\"], \\\"value\\\": [4390, 1207], \\\"xoffsets\\\": [[\\\"2016\\\", \\\"Gross Rent\\\"], [\\\"2016\\\", \\\"Sale Price/SqFt\\\"]]}}], \\\"references\\\": []}\",\"header\":\"{\\\"msgid\\\": \\\"7887\\\", \\\"msgtype\\\": \\\"PATCH-DOC\\\"}\",\"metadata\":\"{}\"},\"Presidio Heights\":{\"content\":\"{\\\"events\\\": [{\\\"attr\\\": \\\"factors\\\", \\\"kind\\\": \\\"ModelChanged\\\", \\\"model\\\": {\\\"id\\\": \\\"7742\\\"}, \\\"new\\\": [[\\\"2016\\\", \\\"Gross Rent\\\"], [\\\"2016\\\", \\\"Sale Price/SqFt\\\"]]}, {\\\"cols\\\": null, \\\"column_source\\\": {\\\"id\\\": \\\"7775\\\"}, \\\"kind\\\": \\\"ColumnDataChanged\\\", \\\"new\\\": {\\\"Variable\\\": [\\\"Gross Rent\\\", \\\"Sale Price/SqFt\\\"], \\\"Year\\\": [\\\"2016\\\", \\\"2016\\\"], \\\"value\\\": [4390, 1465], \\\"xoffsets\\\": [[\\\"2016\\\", \\\"Gross Rent\\\"], [\\\"2016\\\", \\\"Sale Price/SqFt\\\"]]}}], \\\"references\\\": []}\",\"header\":\"{\\\"msgid\\\": \\\"7880\\\", \\\"msgtype\\\": \\\"PATCH-DOC\\\"}\",\"metadata\":\"{}\"},\"South of Market\":{\"content\":\"{\\\"events\\\": [{\\\"attr\\\": \\\"factors\\\", \\\"kind\\\": \\\"ModelChanged\\\", \\\"model\\\": {\\\"id\\\": \\\"7742\\\"}, \\\"new\\\": [[\\\"2014\\\", \\\"Gross Rent\\\"], [\\\"2014\\\", \\\"Sale Price/SqFt\\\"]]}, {\\\"cols\\\": null, \\\"column_source\\\": {\\\"id\\\": \\\"7775\\\"}, \\\"kind\\\": \\\"ColumnDataChanged\\\", \\\"new\\\": {\\\"Variable\\\": [\\\"Gross Rent\\\", \\\"Sale Price/SqFt\\\"], \\\"Year\\\": [\\\"2014\\\", \\\"2014\\\"], \\\"value\\\": [3528, 1119], \\\"xoffsets\\\": [[\\\"2014\\\", \\\"Gross Rent\\\"], [\\\"2014\\\", \\\"Sale Price/SqFt\\\"]]}}], \\\"references\\\": []}\",\"header\":\"{\\\"msgid\\\": \\\"7873\\\", \\\"msgtype\\\": \\\"PATCH-DOC\\\"}\",\"metadata\":\"{}\"},\"Union Square District\":{\"content\":\"{\\\"events\\\": [{\\\"attr\\\": \\\"factors\\\", \\\"kind\\\": \\\"ModelChanged\\\", \\\"model\\\": {\\\"id\\\": \\\"7742\\\"}, \\\"new\\\": [[\\\"2013\\\", \\\"Gross Rent\\\"], [\\\"2013\\\", \\\"Sale Price/SqFt\\\"], [\\\"2015\\\", \\\"Gross Rent\\\"], [\\\"2015\\\", \\\"Sale Price/SqFt\\\"]]}, {\\\"cols\\\": null, \\\"column_source\\\": {\\\"id\\\": \\\"7775\\\"}, \\\"kind\\\": \\\"ColumnDataChanged\\\", \\\"new\\\": {\\\"Variable\\\": [\\\"Gross Rent\\\", \\\"Gross Rent\\\", \\\"Sale Price/SqFt\\\", \\\"Sale Price/SqFt\\\"], \\\"Year\\\": [\\\"2015\\\", \\\"2013\\\", \\\"2015\\\", \\\"2013\\\"], \\\"value\\\": [3739, 2971, 2258, 1290], \\\"xoffsets\\\": [[\\\"2015\\\", \\\"Gross Rent\\\"], [\\\"2013\\\", \\\"Gross Rent\\\"], [\\\"2015\\\", \\\"Sale Price/SqFt\\\"], [\\\"2013\\\", \\\"Sale Price/SqFt\\\"]]}}], \\\"references\\\": []}\",\"header\":\"{\\\"msgid\\\": \\\"7866\\\", \\\"msgtype\\\": \\\"PATCH-DOC\\\"}\",\"metadata\":\"{}\"}},\"values\":[\"Corona Heights\"],\"widgets\":{\"7826\":0}},\"id\":\"7838\",\"type\":\"panel.models.state.State\"},{\"attributes\":{},\"id\":\"7752\",\"type\":\"LinearScale\"},{\"attributes\":{\"fill_color\":{\"field\":\"Variable\",\"transform\":{\"id\":\"7774\"}},\"top\":{\"field\":\"value\"},\"width\":{\"value\":0.7},\"x\":{\"field\":\"xoffsets\"}},\"id\":\"7778\",\"type\":\"VBar\"},{\"attributes\":{\"end\":4800,\"reset_end\":4800,\"reset_start\":0,\"tags\":[[[\"value\",\"value\",null]]]},\"id\":\"7743\",\"type\":\"Range1d\"},{\"attributes\":{},\"id\":\"7755\",\"type\":\"CategoricalTicker\"},{\"attributes\":{\"children\":[{\"id\":\"7741\"},{\"id\":\"7745\"},{\"id\":\"7822\"},{\"id\":\"7823\"}],\"margin\":[0,0,0,0],\"name\":\"Row103342\",\"tags\":[\"embedded\"]},\"id\":\"7740\",\"type\":\"Row\"},{\"attributes\":{\"children\":[{\"id\":\"7826\"}],\"css_classes\":[\"panel-widget-box\"],\"margin\":[5,5,5,5],\"name\":\"WidgetBox103343\"},\"id\":\"7825\",\"type\":\"Column\"},{\"attributes\":{\"axis\":{\"id\":\"7757\"},\"dimension\":1,\"grid_line_color\":null,\"ticker\":null},\"id\":\"7760\",\"type\":\"Grid\"},{\"attributes\":{\"code\":\"\\nvar state = null\\nfor (var root of cb_obj.document.roots()) {\\n  if (root.id == '7838') {\\n    state = root;\\n    break;\\n  }\\n}\\nif (!state) { return; }\\nstate.set_state(cb_obj, cb_obj.value)\\n\"},\"id\":\"7839\",\"type\":\"CustomJS\"},{\"attributes\":{},\"id\":\"7758\",\"type\":\"BasicTicker\"},{\"attributes\":{\"callback\":null,\"renderers\":[{\"id\":\"7781\"}],\"tags\":[\"hv_created\"],\"tooltips\":[[\"Year\",\"@{Year}\"],[\"Variable\",\"@{Variable}\"],[\"value\",\"@{value}\"]]},\"id\":\"7744\",\"type\":\"HoverTool\"},{\"attributes\":{\"fill_alpha\":{\"value\":0.1},\"fill_color\":{\"field\":\"Variable\",\"transform\":{\"id\":\"7774\"}},\"line_alpha\":{\"value\":0.1},\"top\":{\"field\":\"value\"},\"width\":{\"value\":0.7},\"x\":{\"field\":\"xoffsets\"}},\"id\":\"7779\",\"type\":\"VBar\"},{\"attributes\":{\"factors\":[\"Gross Rent\",\"Sale Price/SqFt\"],\"palette\":[\"#30a2da\",\"#fc4f30\"]},\"id\":\"7774\",\"type\":\"CategoricalColorMapper\"},{\"attributes\":{\"axis_label\":\"Num. Housing Units\",\"formatter\":{\"id\":\"7789\"},\"major_label_policy\":{\"id\":\"7788\"},\"ticker\":{\"id\":\"7758\"}},\"id\":\"7757\",\"type\":\"LinearAxis\"},{\"attributes\":{},\"id\":\"7776\",\"type\":\"Selection\"},{\"attributes\":{\"margin\":[5,5,5,5],\"name\":\"HSpacer103353\",\"sizing_mode\":\"stretch_width\"},\"id\":\"7741\",\"type\":\"Spacer\"},{\"attributes\":{\"active_multi\":null,\"tools\":[{\"id\":\"7744\"},{\"id\":\"7761\"},{\"id\":\"7762\"},{\"id\":\"7763\"},{\"id\":\"7764\"},{\"id\":\"7765\"}]},\"id\":\"7767\",\"type\":\"Toolbar\"},{\"attributes\":{\"margin\":[5,5,5,5],\"name\":\"VSpacer103351\",\"sizing_mode\":\"stretch_height\"},\"id\":\"7827\",\"type\":\"Spacer\"},{\"attributes\":{},\"id\":\"7810\",\"type\":\"UnionRenderers\"},{\"attributes\":{\"children\":[{\"id\":\"7824\"},{\"id\":\"7825\"},{\"id\":\"7827\"}],\"margin\":[0,0,0,0],\"name\":\"Column103352\"},\"id\":\"7823\",\"type\":\"Column\"},{\"attributes\":{\"data\":{\"Variable\":[\"Gross Rent\",\"Sale Price/SqFt\"],\"Year\":[\"2015\",\"2015\"],\"value\":[3739,1100],\"xoffsets\":[[\"2015\",\"Gross Rent\"],[\"2015\",\"Sale Price/SqFt\"]]},\"selected\":{\"id\":\"7776\"},\"selection_policy\":{\"id\":\"7810\"}},\"id\":\"7775\",\"type\":\"ColumnDataSource\"},{\"attributes\":{},\"id\":\"7786\",\"type\":\"CategoricalTickFormatter\"},{\"attributes\":{\"bottom_units\":\"screen\",\"fill_alpha\":0.5,\"fill_color\":\"lightgrey\",\"left_units\":\"screen\",\"level\":\"overlay\",\"line_alpha\":1.0,\"line_color\":\"black\",\"line_dash\":[4,4],\"line_width\":2,\"right_units\":\"screen\",\"syncable\":false,\"top_units\":\"screen\"},\"id\":\"7766\",\"type\":\"BoxAnnotation\"},{\"attributes\":{\"margin\":[5,5,5,5],\"name\":\"VSpacer103350\",\"sizing_mode\":\"stretch_height\"},\"id\":\"7824\",\"type\":\"Spacer\"},{\"attributes\":{},\"id\":\"7762\",\"type\":\"PanTool\"},{\"attributes\":{},\"id\":\"7785\",\"type\":\"AllLabels\"},{\"attributes\":{\"margin\":[5,5,5,5],\"name\":\"HSpacer103354\",\"sizing_mode\":\"stretch_width\"},\"id\":\"7822\",\"type\":\"Spacer\"},{\"attributes\":{\"fill_alpha\":{\"value\":0.2},\"fill_color\":{\"field\":\"Variable\",\"transform\":{\"id\":\"7774\"}},\"line_alpha\":{\"value\":0.2},\"top\":{\"field\":\"value\"},\"width\":{\"value\":0.7},\"x\":{\"field\":\"xoffsets\"}},\"id\":\"7780\",\"type\":\"VBar\"},{\"attributes\":{},\"id\":\"7788\",\"type\":\"AllLabels\"},{\"attributes\":{\"source\":{\"id\":\"7775\"}},\"id\":\"7782\",\"type\":\"CDSView\"},{\"attributes\":{\"text\":\"Top 10 Expensive Neighborhoods in SFO\",\"text_color\":\"black\",\"text_font_size\":\"10pt\"},\"id\":\"7746\",\"type\":\"Title\"},{\"attributes\":{},\"id\":\"7765\",\"type\":\"ResetTool\"},{\"attributes\":{\"below\":[{\"id\":\"7754\"}],\"center\":[{\"id\":\"7756\"},{\"id\":\"7760\"}],\"height\":400,\"left\":[{\"id\":\"7757\"}],\"margin\":[5,5,5,5],\"min_border_bottom\":10,\"min_border_left\":10,\"min_border_right\":10,\"min_border_top\":10,\"renderers\":[{\"id\":\"7781\"}],\"sizing_mode\":\"fixed\",\"title\":{\"id\":\"7746\"},\"toolbar\":{\"id\":\"7767\"},\"width\":700,\"x_range\":{\"id\":\"7742\"},\"x_scale\":{\"id\":\"7750\"},\"y_range\":{\"id\":\"7743\"},\"y_scale\":{\"id\":\"7752\"}},\"id\":\"7745\",\"subtype\":\"Figure\",\"type\":\"Plot\"},{\"attributes\":{},\"id\":\"7761\",\"type\":\"SaveTool\"},{\"attributes\":{},\"id\":\"7789\",\"type\":\"BasicTickFormatter\"},{\"attributes\":{\"data_source\":{\"id\":\"7775\"},\"glyph\":{\"id\":\"7778\"},\"hover_glyph\":null,\"muted_glyph\":{\"id\":\"7780\"},\"nonselection_glyph\":{\"id\":\"7779\"},\"selection_glyph\":{\"id\":\"7783\"},\"view\":{\"id\":\"7782\"}},\"id\":\"7781\",\"type\":\"GlyphRenderer\"}],\"root_ids\":[\"7740\",\"7838\"]},\"title\":\"Bokeh Application\",\"version\":\"2.3.2\"}};\n",
       "    var render_items = [{\"docid\":\"e57bbbda-7fd4-424e-95bc-c3c540c71055\",\"root_ids\":[\"7740\"],\"roots\":{\"7740\":\"6e7cc718-54cf-4095-aedb-5c62f66403dd\"}}];\n",
       "    root.Bokeh.embed.embed_items_notebook(docs_json, render_items);\n",
       "  }\n",
       "  if (root.Bokeh !== undefined && root.Bokeh.Panel !== undefined && root['Plotly'] !== undefined ) {\n",
       "    embed_document(root);\n",
       "  } else {\n",
       "    var attempts = 0;\n",
       "    var timer = setInterval(function(root) {\n",
       "      if (root.Bokeh !== undefined && root.Bokeh.Panel !== undefined && root['Plotly'] !== undefined) {\n",
       "        clearInterval(timer);\n",
       "        embed_document(root);\n",
       "      } else if (document.readyState == \"complete\") {\n",
       "        attempts++;\n",
       "        if (attempts > 100) {\n",
       "          clearInterval(timer);\n",
       "          console.log(\"Bokeh: ERROR: Unable to run BokehJS code because BokehJS library is missing\");\n",
       "        }\n",
       "      }\n",
       "    }, 10, root)\n",
       "  }\n",
       "})(window);</script>"
      ]
     },
     "metadata": {
      "application/vnd.holoviews_exec.v0+json": {
       "id": "7740"
      }
     },
     "execution_count": 93
    }
   ],
   "metadata": {}
  },
  {
   "cell_type": "markdown",
   "source": [
    "- - - "
   ],
   "metadata": {}
  },
  {
   "cell_type": "markdown",
   "source": [
    "## Neighborhood Map\n",
    "\n",
    "In this section, you will read in neighborhoods location data and build an interactive map with the average house value per neighborhood. Use a `scatter_mapbox` from Plotly express to create the visualization. Remember, you will need your Mapbox API key for this."
   ],
   "metadata": {}
  },
  {
   "cell_type": "markdown",
   "source": [
    "### Load Location Data"
   ],
   "metadata": {}
  },
  {
   "cell_type": "code",
   "execution_count": 94,
   "source": [
    "# Load neighborhoods coordinates data\r\n",
    "path_coord = Path('Data/neighborhoods_coordinates.csv')\r\n",
    "df_coord = pd.read_csv(path_coord, index_col='Neighborhood')\r\n",
    "\r\n",
    "df_coord"
   ],
   "outputs": [
    {
     "output_type": "execute_result",
     "data": {
      "text/plain": [
       "                          Lat         Lon\n",
       "Neighborhood                             \n",
       "Alamo Square        37.791012 -122.402100\n",
       "Anza Vista          37.779598 -122.443451\n",
       "Bayview             37.734670 -122.401060\n",
       "Bayview Heights     37.728740 -122.410980\n",
       "Bernal Heights      37.728630 -122.443050\n",
       "...                       ...         ...\n",
       "West Portal         37.740260 -122.463880\n",
       "Western Addition    37.792980 -122.435790\n",
       "Westwood Highlands  37.734700 -122.456854\n",
       "Westwood Park       37.734150 -122.457000\n",
       "Yerba Buena         37.792980 -122.396360\n",
       "\n",
       "[73 rows x 2 columns]"
      ],
      "text/html": [
       "<div>\n",
       "<style scoped>\n",
       "    .dataframe tbody tr th:only-of-type {\n",
       "        vertical-align: middle;\n",
       "    }\n",
       "\n",
       "    .dataframe tbody tr th {\n",
       "        vertical-align: top;\n",
       "    }\n",
       "\n",
       "    .dataframe thead th {\n",
       "        text-align: right;\n",
       "    }\n",
       "</style>\n",
       "<table border=\"1\" class=\"dataframe\">\n",
       "  <thead>\n",
       "    <tr style=\"text-align: right;\">\n",
       "      <th></th>\n",
       "      <th>Lat</th>\n",
       "      <th>Lon</th>\n",
       "    </tr>\n",
       "    <tr>\n",
       "      <th>Neighborhood</th>\n",
       "      <th></th>\n",
       "      <th></th>\n",
       "    </tr>\n",
       "  </thead>\n",
       "  <tbody>\n",
       "    <tr>\n",
       "      <th>Alamo Square</th>\n",
       "      <td>37.791012</td>\n",
       "      <td>-122.402100</td>\n",
       "    </tr>\n",
       "    <tr>\n",
       "      <th>Anza Vista</th>\n",
       "      <td>37.779598</td>\n",
       "      <td>-122.443451</td>\n",
       "    </tr>\n",
       "    <tr>\n",
       "      <th>Bayview</th>\n",
       "      <td>37.734670</td>\n",
       "      <td>-122.401060</td>\n",
       "    </tr>\n",
       "    <tr>\n",
       "      <th>Bayview Heights</th>\n",
       "      <td>37.728740</td>\n",
       "      <td>-122.410980</td>\n",
       "    </tr>\n",
       "    <tr>\n",
       "      <th>Bernal Heights</th>\n",
       "      <td>37.728630</td>\n",
       "      <td>-122.443050</td>\n",
       "    </tr>\n",
       "    <tr>\n",
       "      <th>...</th>\n",
       "      <td>...</td>\n",
       "      <td>...</td>\n",
       "    </tr>\n",
       "    <tr>\n",
       "      <th>West Portal</th>\n",
       "      <td>37.740260</td>\n",
       "      <td>-122.463880</td>\n",
       "    </tr>\n",
       "    <tr>\n",
       "      <th>Western Addition</th>\n",
       "      <td>37.792980</td>\n",
       "      <td>-122.435790</td>\n",
       "    </tr>\n",
       "    <tr>\n",
       "      <th>Westwood Highlands</th>\n",
       "      <td>37.734700</td>\n",
       "      <td>-122.456854</td>\n",
       "    </tr>\n",
       "    <tr>\n",
       "      <th>Westwood Park</th>\n",
       "      <td>37.734150</td>\n",
       "      <td>-122.457000</td>\n",
       "    </tr>\n",
       "    <tr>\n",
       "      <th>Yerba Buena</th>\n",
       "      <td>37.792980</td>\n",
       "      <td>-122.396360</td>\n",
       "    </tr>\n",
       "  </tbody>\n",
       "</table>\n",
       "<p>73 rows × 2 columns</p>\n",
       "</div>"
      ]
     },
     "metadata": {},
     "execution_count": 94
    }
   ],
   "metadata": {}
  },
  {
   "cell_type": "markdown",
   "source": [
    "### Data Preparation\n",
    "\n",
    "You will need to join the location data with the mean values per neighborhood.\n",
    "\n",
    "1. Calculate the mean values for each neighborhood.\n",
    "\n",
    "2. Join the average values with the neighborhood locations."
   ],
   "metadata": {}
  },
  {
   "cell_type": "code",
   "execution_count": 95,
   "source": [
    "#print(sfo_data)\r\n",
    "# Calculate the mean values for each neighborhood\r\n",
    "#avgs_neighborhood = sfo_data.reset_index().set_index('Year','Neighborhood').drop(columns='Year')\r\n",
    "#avgs_neighborhood = avgs_neighborhood.groupby('Neighborhood').mean().round(2)\r\n",
    "#avgs_neighborhood = sfo_data.groupby('Neighborhood').mean().round(2)\r\n",
    "\r\n",
    "#avgs_neighborhood = avgs_neighborhood.set_index('Neighborhood')\r\n",
    "#avgs_neighborhood = round(avgs_neighborhood['Sale Price/SqFt'])\r\n",
    "\r\n",
    "#avgs_neighborhood = avgs_neighborhood.groupby('Neighborhood').mean().drop(columns='Year')\r\n",
    "print(sfo_neighborhood)\r\n",
    "avgs_neighborhood = sfo_neighborhood.reset_index().groupby('Neighborhood')[['Sale Price/SqFt','Housing Units','Gross Rent']].mean().astype(int)\r\n",
    "\r\n",
    "avgs_neighborhood"
   ],
   "outputs": [
    {
     "output_type": "stream",
     "name": "stdout",
     "text": [
      "                Neighborhood  Sale Price/SqFt  Housing Units  Gross Rent\n",
      "Year                                                                    \n",
      "2010            Alamo Square              291         372560        1239\n",
      "2010              Anza Vista              267         372560        1239\n",
      "2010                 Bayview              170         372560        1239\n",
      "2010        Buena Vista Park              347         372560        1239\n",
      "2010        Central Richmond              319         372560        1239\n",
      "...                      ...              ...            ...         ...\n",
      "2016          Telegraph Hill              903         384242        4390\n",
      "2016              Twin Peaks              970         384242        4390\n",
      "2016  Van Ness/ Civic Center              552         384242        4390\n",
      "2016       Visitacion Valley              328         384242        4390\n",
      "2016           Westwood Park              631         384242        4390\n",
      "\n",
      "[397 rows x 4 columns]\n"
     ]
    },
    {
     "output_type": "execute_result",
     "data": {
      "text/plain": [
       "                    Sale Price/SqFt  Housing Units  Gross Rent\n",
       "Neighborhood                                                  \n",
       "Alamo Square                    365         378401        2817\n",
       "Anza Vista                      372         379050        3031\n",
       "Bayview                         204         376454        2318\n",
       "Bayview Heights                 590         382295        3739\n",
       "Bernal Heights                  576         379374        3080\n",
       "...                             ...            ...         ...\n",
       "West Portal                     498         376940        2515\n",
       "Western Addition                307         377427        2555\n",
       "Westwood Highlands              533         376454        2250\n",
       "Westwood Park                   686         382295        3959\n",
       "Yerba Buena                     576         377427        2555\n",
       "\n",
       "[73 rows x 3 columns]"
      ],
      "text/html": [
       "<div>\n",
       "<style scoped>\n",
       "    .dataframe tbody tr th:only-of-type {\n",
       "        vertical-align: middle;\n",
       "    }\n",
       "\n",
       "    .dataframe tbody tr th {\n",
       "        vertical-align: top;\n",
       "    }\n",
       "\n",
       "    .dataframe thead th {\n",
       "        text-align: right;\n",
       "    }\n",
       "</style>\n",
       "<table border=\"1\" class=\"dataframe\">\n",
       "  <thead>\n",
       "    <tr style=\"text-align: right;\">\n",
       "      <th></th>\n",
       "      <th>Sale Price/SqFt</th>\n",
       "      <th>Housing Units</th>\n",
       "      <th>Gross Rent</th>\n",
       "    </tr>\n",
       "    <tr>\n",
       "      <th>Neighborhood</th>\n",
       "      <th></th>\n",
       "      <th></th>\n",
       "      <th></th>\n",
       "    </tr>\n",
       "  </thead>\n",
       "  <tbody>\n",
       "    <tr>\n",
       "      <th>Alamo Square</th>\n",
       "      <td>365</td>\n",
       "      <td>378401</td>\n",
       "      <td>2817</td>\n",
       "    </tr>\n",
       "    <tr>\n",
       "      <th>Anza Vista</th>\n",
       "      <td>372</td>\n",
       "      <td>379050</td>\n",
       "      <td>3031</td>\n",
       "    </tr>\n",
       "    <tr>\n",
       "      <th>Bayview</th>\n",
       "      <td>204</td>\n",
       "      <td>376454</td>\n",
       "      <td>2318</td>\n",
       "    </tr>\n",
       "    <tr>\n",
       "      <th>Bayview Heights</th>\n",
       "      <td>590</td>\n",
       "      <td>382295</td>\n",
       "      <td>3739</td>\n",
       "    </tr>\n",
       "    <tr>\n",
       "      <th>Bernal Heights</th>\n",
       "      <td>576</td>\n",
       "      <td>379374</td>\n",
       "      <td>3080</td>\n",
       "    </tr>\n",
       "    <tr>\n",
       "      <th>...</th>\n",
       "      <td>...</td>\n",
       "      <td>...</td>\n",
       "      <td>...</td>\n",
       "    </tr>\n",
       "    <tr>\n",
       "      <th>West Portal</th>\n",
       "      <td>498</td>\n",
       "      <td>376940</td>\n",
       "      <td>2515</td>\n",
       "    </tr>\n",
       "    <tr>\n",
       "      <th>Western Addition</th>\n",
       "      <td>307</td>\n",
       "      <td>377427</td>\n",
       "      <td>2555</td>\n",
       "    </tr>\n",
       "    <tr>\n",
       "      <th>Westwood Highlands</th>\n",
       "      <td>533</td>\n",
       "      <td>376454</td>\n",
       "      <td>2250</td>\n",
       "    </tr>\n",
       "    <tr>\n",
       "      <th>Westwood Park</th>\n",
       "      <td>686</td>\n",
       "      <td>382295</td>\n",
       "      <td>3959</td>\n",
       "    </tr>\n",
       "    <tr>\n",
       "      <th>Yerba Buena</th>\n",
       "      <td>576</td>\n",
       "      <td>377427</td>\n",
       "      <td>2555</td>\n",
       "    </tr>\n",
       "  </tbody>\n",
       "</table>\n",
       "<p>73 rows × 3 columns</p>\n",
       "</div>"
      ]
     },
     "metadata": {},
     "execution_count": 95
    }
   ],
   "metadata": {
    "tags": []
   }
  },
  {
   "cell_type": "code",
   "execution_count": 96,
   "source": [
    "# Join the average values with the neighborhood locations\r\n",
    "concat_neighborhood = pd.concat([df_coord, avgs_neighborhood], axis='columns', join='inner')\r\n",
    "concat_neighborhood = concat_neighborhood.reset_index()\r\n",
    "\r\n",
    "concat_neighborhood"
   ],
   "outputs": [
    {
     "output_type": "execute_result",
     "data": {
      "text/plain": [
       "          Neighborhood        Lat         Lon  Sale Price/SqFt  Housing Units  \\\n",
       "0         Alamo Square  37.791012 -122.402100              365         378401   \n",
       "1           Anza Vista  37.779598 -122.443451              372         379050   \n",
       "2              Bayview  37.734670 -122.401060              204         376454   \n",
       "3      Bayview Heights  37.728740 -122.410980              590         382295   \n",
       "4     Buena Vista Park  37.768160 -122.439330              452         378076   \n",
       "..                 ...        ...         ...              ...            ...   \n",
       "64         West Portal  37.740260 -122.463880              498         376940   \n",
       "65    Western Addition  37.792980 -122.435790              307         377427   \n",
       "66  Westwood Highlands  37.734700 -122.456854              533         376454   \n",
       "67       Westwood Park  37.734150 -122.457000              686         382295   \n",
       "68         Yerba Buena  37.792980 -122.396360              576         377427   \n",
       "\n",
       "    Gross Rent  \n",
       "0         2817  \n",
       "1         3031  \n",
       "2         2318  \n",
       "3         3739  \n",
       "4         2698  \n",
       "..         ...  \n",
       "64        2515  \n",
       "65        2555  \n",
       "66        2250  \n",
       "67        3959  \n",
       "68        2555  \n",
       "\n",
       "[69 rows x 6 columns]"
      ],
      "text/html": [
       "<div>\n",
       "<style scoped>\n",
       "    .dataframe tbody tr th:only-of-type {\n",
       "        vertical-align: middle;\n",
       "    }\n",
       "\n",
       "    .dataframe tbody tr th {\n",
       "        vertical-align: top;\n",
       "    }\n",
       "\n",
       "    .dataframe thead th {\n",
       "        text-align: right;\n",
       "    }\n",
       "</style>\n",
       "<table border=\"1\" class=\"dataframe\">\n",
       "  <thead>\n",
       "    <tr style=\"text-align: right;\">\n",
       "      <th></th>\n",
       "      <th>Neighborhood</th>\n",
       "      <th>Lat</th>\n",
       "      <th>Lon</th>\n",
       "      <th>Sale Price/SqFt</th>\n",
       "      <th>Housing Units</th>\n",
       "      <th>Gross Rent</th>\n",
       "    </tr>\n",
       "  </thead>\n",
       "  <tbody>\n",
       "    <tr>\n",
       "      <th>0</th>\n",
       "      <td>Alamo Square</td>\n",
       "      <td>37.791012</td>\n",
       "      <td>-122.402100</td>\n",
       "      <td>365</td>\n",
       "      <td>378401</td>\n",
       "      <td>2817</td>\n",
       "    </tr>\n",
       "    <tr>\n",
       "      <th>1</th>\n",
       "      <td>Anza Vista</td>\n",
       "      <td>37.779598</td>\n",
       "      <td>-122.443451</td>\n",
       "      <td>372</td>\n",
       "      <td>379050</td>\n",
       "      <td>3031</td>\n",
       "    </tr>\n",
       "    <tr>\n",
       "      <th>2</th>\n",
       "      <td>Bayview</td>\n",
       "      <td>37.734670</td>\n",
       "      <td>-122.401060</td>\n",
       "      <td>204</td>\n",
       "      <td>376454</td>\n",
       "      <td>2318</td>\n",
       "    </tr>\n",
       "    <tr>\n",
       "      <th>3</th>\n",
       "      <td>Bayview Heights</td>\n",
       "      <td>37.728740</td>\n",
       "      <td>-122.410980</td>\n",
       "      <td>590</td>\n",
       "      <td>382295</td>\n",
       "      <td>3739</td>\n",
       "    </tr>\n",
       "    <tr>\n",
       "      <th>4</th>\n",
       "      <td>Buena Vista Park</td>\n",
       "      <td>37.768160</td>\n",
       "      <td>-122.439330</td>\n",
       "      <td>452</td>\n",
       "      <td>378076</td>\n",
       "      <td>2698</td>\n",
       "    </tr>\n",
       "    <tr>\n",
       "      <th>...</th>\n",
       "      <td>...</td>\n",
       "      <td>...</td>\n",
       "      <td>...</td>\n",
       "      <td>...</td>\n",
       "      <td>...</td>\n",
       "      <td>...</td>\n",
       "    </tr>\n",
       "    <tr>\n",
       "      <th>64</th>\n",
       "      <td>West Portal</td>\n",
       "      <td>37.740260</td>\n",
       "      <td>-122.463880</td>\n",
       "      <td>498</td>\n",
       "      <td>376940</td>\n",
       "      <td>2515</td>\n",
       "    </tr>\n",
       "    <tr>\n",
       "      <th>65</th>\n",
       "      <td>Western Addition</td>\n",
       "      <td>37.792980</td>\n",
       "      <td>-122.435790</td>\n",
       "      <td>307</td>\n",
       "      <td>377427</td>\n",
       "      <td>2555</td>\n",
       "    </tr>\n",
       "    <tr>\n",
       "      <th>66</th>\n",
       "      <td>Westwood Highlands</td>\n",
       "      <td>37.734700</td>\n",
       "      <td>-122.456854</td>\n",
       "      <td>533</td>\n",
       "      <td>376454</td>\n",
       "      <td>2250</td>\n",
       "    </tr>\n",
       "    <tr>\n",
       "      <th>67</th>\n",
       "      <td>Westwood Park</td>\n",
       "      <td>37.734150</td>\n",
       "      <td>-122.457000</td>\n",
       "      <td>686</td>\n",
       "      <td>382295</td>\n",
       "      <td>3959</td>\n",
       "    </tr>\n",
       "    <tr>\n",
       "      <th>68</th>\n",
       "      <td>Yerba Buena</td>\n",
       "      <td>37.792980</td>\n",
       "      <td>-122.396360</td>\n",
       "      <td>576</td>\n",
       "      <td>377427</td>\n",
       "      <td>2555</td>\n",
       "    </tr>\n",
       "  </tbody>\n",
       "</table>\n",
       "<p>69 rows × 6 columns</p>\n",
       "</div>"
      ]
     },
     "metadata": {},
     "execution_count": 96
    }
   ],
   "metadata": {}
  },
  {
   "cell_type": "markdown",
   "source": [
    "### Mapbox Visualization\n",
    "\n",
    "Plot the average values per neighborhood using a Plotly express `scatter_mapbox` visualization."
   ],
   "metadata": {}
  },
  {
   "cell_type": "code",
   "execution_count": 109,
   "source": [
    "\r\n",
    "# Set the mapbox access token\r\n",
    "load_dotenv('token.env')\r\n",
    "map_box_api = os.getenv('mapbox')\r\n",
    "px.set_mapbox_access_token(map_box_api)\r\n",
    "\r\n",
    "# Create a scatter mapbox to analyze neighborhood info\r\n",
    "plot_map_neighborhood = px.scatter_mapbox(\r\n",
    "    concat_neighborhood,\r\n",
    "    lat='Lat',\r\n",
    "    lon='Lon',\r\n",
    "    color='Neighborhood'\r\n",
    ")\r\n",
    "\r\n",
    "plot_map_neighborhood"
   ],
   "outputs": [
    {
     "output_type": "display_data",
     "data": {
      "application/vnd.plotly.v1+json": {
       "config": {
        "plotlyServerURL": "https://plot.ly"
       },
       "data": [
        {
         "hovertemplate": "Neighborhood=Alamo Square<br>Lat=%{lat}<br>Lon=%{lon}<extra></extra>",
         "lat": [
          37.791012
         ],
         "legendgroup": "Alamo Square",
         "lon": [
          -122.4021
         ],
         "marker": {
          "color": "#636efa"
         },
         "mode": "markers",
         "name": "Alamo Square",
         "showlegend": true,
         "subplot": "mapbox",
         "type": "scattermapbox"
        },
        {
         "hovertemplate": "Neighborhood=Anza Vista<br>Lat=%{lat}<br>Lon=%{lon}<extra></extra>",
         "lat": [
          37.779598
         ],
         "legendgroup": "Anza Vista",
         "lon": [
          -122.443451
         ],
         "marker": {
          "color": "#EF553B"
         },
         "mode": "markers",
         "name": "Anza Vista",
         "showlegend": true,
         "subplot": "mapbox",
         "type": "scattermapbox"
        },
        {
         "hovertemplate": "Neighborhood=Bayview<br>Lat=%{lat}<br>Lon=%{lon}<extra></extra>",
         "lat": [
          37.73467
         ],
         "legendgroup": "Bayview",
         "lon": [
          -122.40106000000002
         ],
         "marker": {
          "color": "#00cc96"
         },
         "mode": "markers",
         "name": "Bayview",
         "showlegend": true,
         "subplot": "mapbox",
         "type": "scattermapbox"
        },
        {
         "hovertemplate": "Neighborhood=Bayview Heights<br>Lat=%{lat}<br>Lon=%{lon}<extra></extra>",
         "lat": [
          37.72874
         ],
         "legendgroup": "Bayview Heights",
         "lon": [
          -122.41098000000001
         ],
         "marker": {
          "color": "#ab63fa"
         },
         "mode": "markers",
         "name": "Bayview Heights",
         "showlegend": true,
         "subplot": "mapbox",
         "type": "scattermapbox"
        },
        {
         "hovertemplate": "Neighborhood=Buena Vista Park<br>Lat=%{lat}<br>Lon=%{lon}<extra></extra>",
         "lat": [
          37.768159999999995
         ],
         "legendgroup": "Buena Vista Park",
         "lon": [
          -122.43933
         ],
         "marker": {
          "color": "#FFA15A"
         },
         "mode": "markers",
         "name": "Buena Vista Park",
         "showlegend": true,
         "subplot": "mapbox",
         "type": "scattermapbox"
        },
        {
         "hovertemplate": "Neighborhood=Central Richmond<br>Lat=%{lat}<br>Lon=%{lon}<extra></extra>",
         "lat": [
          37.77789
         ],
         "legendgroup": "Central Richmond",
         "lon": [
          -122.44516999999999
         ],
         "marker": {
          "color": "#19d3f3"
         },
         "mode": "markers",
         "name": "Central Richmond",
         "showlegend": true,
         "subplot": "mapbox",
         "type": "scattermapbox"
        },
        {
         "hovertemplate": "Neighborhood=Central Sunset<br>Lat=%{lat}<br>Lon=%{lon}<extra></extra>",
         "lat": [
          37.74961
         ],
         "legendgroup": "Central Sunset",
         "lon": [
          -122.48998999999999
         ],
         "marker": {
          "color": "#FF6692"
         },
         "mode": "markers",
         "name": "Central Sunset",
         "showlegend": true,
         "subplot": "mapbox",
         "type": "scattermapbox"
        },
        {
         "hovertemplate": "Neighborhood=Clarendon Heights<br>Lat=%{lat}<br>Lon=%{lon}<extra></extra>",
         "lat": [
          37.75331
         ],
         "legendgroup": "Clarendon Heights",
         "lon": [
          -122.44703
         ],
         "marker": {
          "color": "#B6E880"
         },
         "mode": "markers",
         "name": "Clarendon Heights",
         "showlegend": true,
         "subplot": "mapbox",
         "type": "scattermapbox"
        },
        {
         "hovertemplate": "Neighborhood=Corona Heights<br>Lat=%{lat}<br>Lon=%{lon}<extra></extra>",
         "lat": [
          37.78553
         ],
         "legendgroup": "Corona Heights",
         "lon": [
          -122.456
         ],
         "marker": {
          "color": "#FF97FF"
         },
         "mode": "markers",
         "name": "Corona Heights",
         "showlegend": true,
         "subplot": "mapbox",
         "type": "scattermapbox"
        },
        {
         "hovertemplate": "Neighborhood=Cow Hollow<br>Lat=%{lat}<br>Lon=%{lon}<extra></extra>",
         "lat": [
          37.79298
         ],
         "legendgroup": "Cow Hollow",
         "lon": [
          -122.43579
         ],
         "marker": {
          "color": "#FECB52"
         },
         "mode": "markers",
         "name": "Cow Hollow",
         "showlegend": true,
         "subplot": "mapbox",
         "type": "scattermapbox"
        },
        {
         "hovertemplate": "Neighborhood=Croker Amazon<br>Lat=%{lat}<br>Lon=%{lon}<extra></extra>",
         "lat": [
          37.7228
         ],
         "legendgroup": "Croker Amazon",
         "lon": [
          -122.43869
         ],
         "marker": {
          "color": "#636efa"
         },
         "mode": "markers",
         "name": "Croker Amazon",
         "showlegend": true,
         "subplot": "mapbox",
         "type": "scattermapbox"
        },
        {
         "hovertemplate": "Neighborhood=Diamond Heights<br>Lat=%{lat}<br>Lon=%{lon}<extra></extra>",
         "lat": [
          37.728629999999995
         ],
         "legendgroup": "Diamond Heights",
         "lon": [
          -122.44305
         ],
         "marker": {
          "color": "#EF553B"
         },
         "mode": "markers",
         "name": "Diamond Heights",
         "showlegend": true,
         "subplot": "mapbox",
         "type": "scattermapbox"
        },
        {
         "hovertemplate": "Neighborhood=Duboce Triangle<br>Lat=%{lat}<br>Lon=%{lon}<extra></extra>",
         "lat": [
          37.76964
         ],
         "legendgroup": "Duboce Triangle",
         "lon": [
          -122.42611000000001
         ],
         "marker": {
          "color": "#00cc96"
         },
         "mode": "markers",
         "name": "Duboce Triangle",
         "showlegend": true,
         "subplot": "mapbox",
         "type": "scattermapbox"
        },
        {
         "hovertemplate": "Neighborhood=Eureka Valley/Dolores Heights<br>Lat=%{lat}<br>Lon=%{lon}<extra></extra>",
         "lat": [
          37.75554
         ],
         "legendgroup": "Eureka Valley/Dolores Heights",
         "lon": [
          -122.43778999999999
         ],
         "marker": {
          "color": "#ab63fa"
         },
         "mode": "markers",
         "name": "Eureka Valley/Dolores Heights",
         "showlegend": true,
         "subplot": "mapbox",
         "type": "scattermapbox"
        },
        {
         "hovertemplate": "Neighborhood=Excelsior<br>Lat=%{lat}<br>Lon=%{lon}<extra></extra>",
         "lat": [
          37.72874
         ],
         "legendgroup": "Excelsior",
         "lon": [
          -122.41098000000001
         ],
         "marker": {
          "color": "#FFA15A"
         },
         "mode": "markers",
         "name": "Excelsior",
         "showlegend": true,
         "subplot": "mapbox",
         "type": "scattermapbox"
        },
        {
         "hovertemplate": "Neighborhood=Financial District North<br>Lat=%{lat}<br>Lon=%{lon}<extra></extra>",
         "lat": [
          37.79101
         ],
         "legendgroup": "Financial District North",
         "lon": [
          -122.4021
         ],
         "marker": {
          "color": "#19d3f3"
         },
         "mode": "markers",
         "name": "Financial District North",
         "showlegend": true,
         "subplot": "mapbox",
         "type": "scattermapbox"
        },
        {
         "hovertemplate": "Neighborhood=Financial District South<br>Lat=%{lat}<br>Lon=%{lon}<extra></extra>",
         "lat": [
          37.79101
         ],
         "legendgroup": "Financial District South",
         "lon": [
          -122.4021
         ],
         "marker": {
          "color": "#FF6692"
         },
         "mode": "markers",
         "name": "Financial District South",
         "showlegend": true,
         "subplot": "mapbox",
         "type": "scattermapbox"
        },
        {
         "hovertemplate": "Neighborhood=Forest Knolls<br>Lat=%{lat}<br>Lon=%{lon}<extra></extra>",
         "lat": [
          37.757059999999996
         ],
         "legendgroup": "Forest Knolls",
         "lon": [
          -122.45508999999998
         ],
         "marker": {
          "color": "#B6E880"
         },
         "mode": "markers",
         "name": "Forest Knolls",
         "showlegend": true,
         "subplot": "mapbox",
         "type": "scattermapbox"
        },
        {
         "hovertemplate": "Neighborhood=Glen Park<br>Lat=%{lat}<br>Lon=%{lon}<extra></extra>",
         "lat": [
          37.728629999999995
         ],
         "legendgroup": "Glen Park",
         "lon": [
          -122.44305
         ],
         "marker": {
          "color": "#FF97FF"
         },
         "mode": "markers",
         "name": "Glen Park",
         "showlegend": true,
         "subplot": "mapbox",
         "type": "scattermapbox"
        },
        {
         "hovertemplate": "Neighborhood=Golden Gate Heights<br>Lat=%{lat}<br>Lon=%{lon}<extra></extra>",
         "lat": [
          37.757912
         ],
         "legendgroup": "Golden Gate Heights",
         "lon": [
          -122.46401999999999
         ],
         "marker": {
          "color": "#FECB52"
         },
         "mode": "markers",
         "name": "Golden Gate Heights",
         "showlegend": true,
         "subplot": "mapbox",
         "type": "scattermapbox"
        },
        {
         "hovertemplate": "Neighborhood=Haight Ashbury<br>Lat=%{lat}<br>Lon=%{lon}<extra></extra>",
         "lat": [
          37.76525
         ],
         "legendgroup": "Haight Ashbury",
         "lon": [
          -122.43596000000001
         ],
         "marker": {
          "color": "#636efa"
         },
         "mode": "markers",
         "name": "Haight Ashbury",
         "showlegend": true,
         "subplot": "mapbox",
         "type": "scattermapbox"
        },
        {
         "hovertemplate": "Neighborhood=Hayes Valley<br>Lat=%{lat}<br>Lon=%{lon}<extra></extra>",
         "lat": [
          37.76525
         ],
         "legendgroup": "Hayes Valley",
         "lon": [
          -122.43596000000001
         ],
         "marker": {
          "color": "#EF553B"
         },
         "mode": "markers",
         "name": "Hayes Valley",
         "showlegend": true,
         "subplot": "mapbox",
         "type": "scattermapbox"
        },
        {
         "hovertemplate": "Neighborhood=Hunters Point<br>Lat=%{lat}<br>Lon=%{lon}<extra></extra>",
         "lat": [
          37.72551
         ],
         "legendgroup": "Hunters Point",
         "lon": [
          -122.37178
         ],
         "marker": {
          "color": "#00cc96"
         },
         "mode": "markers",
         "name": "Hunters Point",
         "showlegend": true,
         "subplot": "mapbox",
         "type": "scattermapbox"
        },
        {
         "hovertemplate": "Neighborhood=Ingleside Heights<br>Lat=%{lat}<br>Lon=%{lon}<extra></extra>",
         "lat": [
          37.72116
         ],
         "legendgroup": "Ingleside Heights",
         "lon": [
          -122.48706999999999
         ],
         "marker": {
          "color": "#ab63fa"
         },
         "mode": "markers",
         "name": "Ingleside Heights",
         "showlegend": true,
         "subplot": "mapbox",
         "type": "scattermapbox"
        },
        {
         "hovertemplate": "Neighborhood=Inner Mission<br>Lat=%{lat}<br>Lon=%{lon}<extra></extra>",
         "lat": [
          37.75416
         ],
         "legendgroup": "Inner Mission",
         "lon": [
          -122.41946999999999
         ],
         "marker": {
          "color": "#FFA15A"
         },
         "mode": "markers",
         "name": "Inner Mission",
         "showlegend": true,
         "subplot": "mapbox",
         "type": "scattermapbox"
        },
        {
         "hovertemplate": "Neighborhood=Inner Parkside<br>Lat=%{lat}<br>Lon=%{lon}<extra></extra>",
         "lat": [
          37.74961
         ],
         "legendgroup": "Inner Parkside",
         "lon": [
          -122.48998999999999
         ],
         "marker": {
          "color": "#19d3f3"
         },
         "mode": "markers",
         "name": "Inner Parkside",
         "showlegend": true,
         "subplot": "mapbox",
         "type": "scattermapbox"
        },
        {
         "hovertemplate": "Neighborhood=Inner Richmond<br>Lat=%{lat}<br>Lon=%{lon}<extra></extra>",
         "lat": [
          37.769112
         ],
         "legendgroup": "Inner Richmond",
         "lon": [
          -122.483566
         ],
         "marker": {
          "color": "#FF6692"
         },
         "mode": "markers",
         "name": "Inner Richmond",
         "showlegend": true,
         "subplot": "mapbox",
         "type": "scattermapbox"
        },
        {
         "hovertemplate": "Neighborhood=Inner Sunset<br>Lat=%{lat}<br>Lon=%{lon}<extra></extra>",
         "lat": [
          37.74961
         ],
         "legendgroup": "Inner Sunset",
         "lon": [
          -122.48997
         ],
         "marker": {
          "color": "#B6E880"
         },
         "mode": "markers",
         "name": "Inner Sunset",
         "showlegend": true,
         "subplot": "mapbox",
         "type": "scattermapbox"
        },
        {
         "hovertemplate": "Neighborhood=Jordan Park/Laurel Heights<br>Lat=%{lat}<br>Lon=%{lon}<extra></extra>",
         "lat": [
          37.78553
         ],
         "legendgroup": "Jordan Park/Laurel Heights",
         "lon": [
          -122.456
         ],
         "marker": {
          "color": "#FF97FF"
         },
         "mode": "markers",
         "name": "Jordan Park/Laurel Heights",
         "showlegend": true,
         "subplot": "mapbox",
         "type": "scattermapbox"
        },
        {
         "hovertemplate": "Neighborhood=Lake --The Presidio<br>Lat=%{lat}<br>Lon=%{lon}<extra></extra>",
         "lat": [
          37.801520000000004
         ],
         "legendgroup": "Lake --The Presidio",
         "lon": [
          -122.45456999999999
         ],
         "marker": {
          "color": "#FECB52"
         },
         "mode": "markers",
         "name": "Lake --The Presidio",
         "showlegend": true,
         "subplot": "mapbox",
         "type": "scattermapbox"
        },
        {
         "hovertemplate": "Neighborhood=Lone Mountain<br>Lat=%{lat}<br>Lon=%{lon}<extra></extra>",
         "lat": [
          37.7789
         ],
         "legendgroup": "Lone Mountain",
         "lon": [
          -122.45496000000001
         ],
         "marker": {
          "color": "#636efa"
         },
         "mode": "markers",
         "name": "Lone Mountain",
         "showlegend": true,
         "subplot": "mapbox",
         "type": "scattermapbox"
        },
        {
         "hovertemplate": "Neighborhood=Lower Pacific Heights<br>Lat=%{lat}<br>Lon=%{lon}<extra></extra>",
         "lat": [
          37.79298
         ],
         "legendgroup": "Lower Pacific Heights",
         "lon": [
          -122.43579
         ],
         "marker": {
          "color": "#EF553B"
         },
         "mode": "markers",
         "name": "Lower Pacific Heights",
         "showlegend": true,
         "subplot": "mapbox",
         "type": "scattermapbox"
        },
        {
         "hovertemplate": "Neighborhood=Marina<br>Lat=%{lat}<br>Lon=%{lon}<extra></extra>",
         "lat": [
          37.79972
         ],
         "legendgroup": "Marina",
         "lon": [
          -122.46688999999999
         ],
         "marker": {
          "color": "#00cc96"
         },
         "mode": "markers",
         "name": "Marina",
         "showlegend": true,
         "subplot": "mapbox",
         "type": "scattermapbox"
        },
        {
         "hovertemplate": "Neighborhood=Merced Heights<br>Lat=%{lat}<br>Lon=%{lon}<extra></extra>",
         "lat": [
          37.71993
         ],
         "legendgroup": "Merced Heights",
         "lon": [
          -122.46595
         ],
         "marker": {
          "color": "#ab63fa"
         },
         "mode": "markers",
         "name": "Merced Heights",
         "showlegend": true,
         "subplot": "mapbox",
         "type": "scattermapbox"
        },
        {
         "hovertemplate": "Neighborhood=Midtown Terrace<br>Lat=%{lat}<br>Lon=%{lon}<extra></extra>",
         "lat": [
          37.75331
         ],
         "legendgroup": "Midtown Terrace",
         "lon": [
          -122.44703
         ],
         "marker": {
          "color": "#FFA15A"
         },
         "mode": "markers",
         "name": "Midtown Terrace",
         "showlegend": true,
         "subplot": "mapbox",
         "type": "scattermapbox"
        },
        {
         "hovertemplate": "Neighborhood=Miraloma Park<br>Lat=%{lat}<br>Lon=%{lon}<extra></extra>",
         "lat": [
          37.73415
         ],
         "legendgroup": "Miraloma Park",
         "lon": [
          -122.45700000000001
         ],
         "marker": {
          "color": "#19d3f3"
         },
         "mode": "markers",
         "name": "Miraloma Park",
         "showlegend": true,
         "subplot": "mapbox",
         "type": "scattermapbox"
        },
        {
         "hovertemplate": "Neighborhood=Mission Bay<br>Lat=%{lat}<br>Lon=%{lon}<extra></extra>",
         "lat": [
          37.783229999999996
         ],
         "legendgroup": "Mission Bay",
         "lon": [
          -122.40065
         ],
         "marker": {
          "color": "#FF6692"
         },
         "mode": "markers",
         "name": "Mission Bay",
         "showlegend": true,
         "subplot": "mapbox",
         "type": "scattermapbox"
        },
        {
         "hovertemplate": "Neighborhood=Mission Dolores<br>Lat=%{lat}<br>Lon=%{lon}<extra></extra>",
         "lat": [
          37.75184
         ],
         "legendgroup": "Mission Dolores",
         "lon": [
          -122.42522
         ],
         "marker": {
          "color": "#B6E880"
         },
         "mode": "markers",
         "name": "Mission Dolores",
         "showlegend": true,
         "subplot": "mapbox",
         "type": "scattermapbox"
        },
        {
         "hovertemplate": "Neighborhood=Mission Terrace<br>Lat=%{lat}<br>Lon=%{lon}<extra></extra>",
         "lat": [
          37.728629999999995
         ],
         "legendgroup": "Mission Terrace",
         "lon": [
          -122.44305
         ],
         "marker": {
          "color": "#FF97FF"
         },
         "mode": "markers",
         "name": "Mission Terrace",
         "showlegend": true,
         "subplot": "mapbox",
         "type": "scattermapbox"
        },
        {
         "hovertemplate": "Neighborhood=Nob Hill<br>Lat=%{lat}<br>Lon=%{lon}<extra></extra>",
         "lat": [
          37.79298
         ],
         "legendgroup": "Nob Hill",
         "lon": [
          -122.43579
         ],
         "marker": {
          "color": "#FECB52"
         },
         "mode": "markers",
         "name": "Nob Hill",
         "showlegend": true,
         "subplot": "mapbox",
         "type": "scattermapbox"
        },
        {
         "hovertemplate": "Neighborhood=Noe Valley<br>Lat=%{lat}<br>Lon=%{lon}<extra></extra>",
         "lat": [
          37.75331
         ],
         "legendgroup": "Noe Valley",
         "lon": [
          -122.44703
         ],
         "marker": {
          "color": "#636efa"
         },
         "mode": "markers",
         "name": "Noe Valley",
         "showlegend": true,
         "subplot": "mapbox",
         "type": "scattermapbox"
        },
        {
         "hovertemplate": "Neighborhood=North Beach<br>Lat=%{lat}<br>Lon=%{lon}<extra></extra>",
         "lat": [
          37.80055
         ],
         "legendgroup": "North Beach",
         "lon": [
          -122.40433
         ],
         "marker": {
          "color": "#EF553B"
         },
         "mode": "markers",
         "name": "North Beach",
         "showlegend": true,
         "subplot": "mapbox",
         "type": "scattermapbox"
        },
        {
         "hovertemplate": "Neighborhood=North Waterfront<br>Lat=%{lat}<br>Lon=%{lon}<extra></extra>",
         "lat": [
          37.80055
         ],
         "legendgroup": "North Waterfront",
         "lon": [
          -122.40433
         ],
         "marker": {
          "color": "#00cc96"
         },
         "mode": "markers",
         "name": "North Waterfront",
         "showlegend": true,
         "subplot": "mapbox",
         "type": "scattermapbox"
        },
        {
         "hovertemplate": "Neighborhood=Oceanview<br>Lat=%{lat}<br>Lon=%{lon}<extra></extra>",
         "lat": [
          37.71993
         ],
         "legendgroup": "Oceanview",
         "lon": [
          -122.46595
         ],
         "marker": {
          "color": "#ab63fa"
         },
         "mode": "markers",
         "name": "Oceanview",
         "showlegend": true,
         "subplot": "mapbox",
         "type": "scattermapbox"
        },
        {
         "hovertemplate": "Neighborhood=Outer Mission<br>Lat=%{lat}<br>Lon=%{lon}<extra></extra>",
         "lat": [
          37.7228
         ],
         "legendgroup": "Outer Mission",
         "lon": [
          -122.43869
         ],
         "marker": {
          "color": "#FFA15A"
         },
         "mode": "markers",
         "name": "Outer Mission",
         "showlegend": true,
         "subplot": "mapbox",
         "type": "scattermapbox"
        },
        {
         "hovertemplate": "Neighborhood=Outer Parkside<br>Lat=%{lat}<br>Lon=%{lon}<extra></extra>",
         "lat": [
          37.7517
         ],
         "legendgroup": "Outer Parkside",
         "lon": [
          -122.446
         ],
         "marker": {
          "color": "#19d3f3"
         },
         "mode": "markers",
         "name": "Outer Parkside",
         "showlegend": true,
         "subplot": "mapbox",
         "type": "scattermapbox"
        },
        {
         "hovertemplate": "Neighborhood=Outer Sunset<br>Lat=%{lat}<br>Lon=%{lon}<extra></extra>",
         "lat": [
          37.74961
         ],
         "legendgroup": "Outer Sunset",
         "lon": [
          -122.48998999999999
         ],
         "marker": {
          "color": "#FF6692"
         },
         "mode": "markers",
         "name": "Outer Sunset",
         "showlegend": true,
         "subplot": "mapbox",
         "type": "scattermapbox"
        },
        {
         "hovertemplate": "Neighborhood=Pacific Heights<br>Lat=%{lat}<br>Lon=%{lon}<extra></extra>",
         "lat": [
          37.79298
         ],
         "legendgroup": "Pacific Heights",
         "lon": [
          -122.43579
         ],
         "marker": {
          "color": "#B6E880"
         },
         "mode": "markers",
         "name": "Pacific Heights",
         "showlegend": true,
         "subplot": "mapbox",
         "type": "scattermapbox"
        },
        {
         "hovertemplate": "Neighborhood=Park North<br>Lat=%{lat}<br>Lon=%{lon}<extra></extra>",
         "lat": [
          37.72838
         ],
         "legendgroup": "Park North",
         "lon": [
          -122.47851000000001
         ],
         "marker": {
          "color": "#FF97FF"
         },
         "mode": "markers",
         "name": "Park North",
         "showlegend": true,
         "subplot": "mapbox",
         "type": "scattermapbox"
        },
        {
         "hovertemplate": "Neighborhood=Parkside<br>Lat=%{lat}<br>Lon=%{lon}<extra></extra>",
         "lat": [
          37.74961
         ],
         "legendgroup": "Parkside",
         "lon": [
          -122.48998999999999
         ],
         "marker": {
          "color": "#FECB52"
         },
         "mode": "markers",
         "name": "Parkside",
         "showlegend": true,
         "subplot": "mapbox",
         "type": "scattermapbox"
        },
        {
         "hovertemplate": "Neighborhood=Parnassus/Ashbury Heights<br>Lat=%{lat}<br>Lon=%{lon}<extra></extra>",
         "lat": [
          37.76355
         ],
         "legendgroup": "Parnassus/Ashbury Heights",
         "lon": [
          -122.45765
         ],
         "marker": {
          "color": "#636efa"
         },
         "mode": "markers",
         "name": "Parnassus/Ashbury Heights",
         "showlegend": true,
         "subplot": "mapbox",
         "type": "scattermapbox"
        },
        {
         "hovertemplate": "Neighborhood=Portola<br>Lat=%{lat}<br>Lon=%{lon}<extra></extra>",
         "lat": [
          37.73467
         ],
         "legendgroup": "Portola",
         "lon": [
          -122.40106000000002
         ],
         "marker": {
          "color": "#EF553B"
         },
         "mode": "markers",
         "name": "Portola",
         "showlegend": true,
         "subplot": "mapbox",
         "type": "scattermapbox"
        },
        {
         "hovertemplate": "Neighborhood=Potrero Hill<br>Lat=%{lat}<br>Lon=%{lon}<extra></extra>",
         "lat": [
          37.73196
         ],
         "legendgroup": "Potrero Hill",
         "lon": [
          -122.38323999999999
         ],
         "marker": {
          "color": "#00cc96"
         },
         "mode": "markers",
         "name": "Potrero Hill",
         "showlegend": true,
         "subplot": "mapbox",
         "type": "scattermapbox"
        },
        {
         "hovertemplate": "Neighborhood=Presidio Heights<br>Lat=%{lat}<br>Lon=%{lon}<extra></extra>",
         "lat": [
          37.78553
         ],
         "legendgroup": "Presidio Heights",
         "lon": [
          -122.456
         ],
         "marker": {
          "color": "#ab63fa"
         },
         "mode": "markers",
         "name": "Presidio Heights",
         "showlegend": true,
         "subplot": "mapbox",
         "type": "scattermapbox"
        },
        {
         "hovertemplate": "Neighborhood=Russian Hill<br>Lat=%{lat}<br>Lon=%{lon}<extra></extra>",
         "lat": [
          37.79298
         ],
         "legendgroup": "Russian Hill",
         "lon": [
          -122.43579
         ],
         "marker": {
          "color": "#FFA15A"
         },
         "mode": "markers",
         "name": "Russian Hill",
         "showlegend": true,
         "subplot": "mapbox",
         "type": "scattermapbox"
        },
        {
         "hovertemplate": "Neighborhood=Silver Terrace<br>Lat=%{lat}<br>Lon=%{lon}<extra></extra>",
         "lat": [
          37.73467
         ],
         "legendgroup": "Silver Terrace",
         "lon": [
          -122.40106000000002
         ],
         "marker": {
          "color": "#19d3f3"
         },
         "mode": "markers",
         "name": "Silver Terrace",
         "showlegend": true,
         "subplot": "mapbox",
         "type": "scattermapbox"
        },
        {
         "hovertemplate": "Neighborhood=South Beach<br>Lat=%{lat}<br>Lon=%{lon}<extra></extra>",
         "lat": [
          37.783229999999996
         ],
         "legendgroup": "South Beach",
         "lon": [
          -122.40065
         ],
         "marker": {
          "color": "#FF6692"
         },
         "mode": "markers",
         "name": "South Beach",
         "showlegend": true,
         "subplot": "mapbox",
         "type": "scattermapbox"
        },
        {
         "hovertemplate": "Neighborhood=South of Market<br>Lat=%{lat}<br>Lon=%{lon}<extra></extra>",
         "lat": [
          37.79101
         ],
         "legendgroup": "South of Market",
         "lon": [
          -122.4021
         ],
         "marker": {
          "color": "#B6E880"
         },
         "mode": "markers",
         "name": "South of Market",
         "showlegend": true,
         "subplot": "mapbox",
         "type": "scattermapbox"
        },
        {
         "hovertemplate": "Neighborhood=Sunnyside<br>Lat=%{lat}<br>Lon=%{lon}<extra></extra>",
         "lat": [
          37.73415
         ],
         "legendgroup": "Sunnyside",
         "lon": [
          -122.45700000000001
         ],
         "marker": {
          "color": "#FF97FF"
         },
         "mode": "markers",
         "name": "Sunnyside",
         "showlegend": true,
         "subplot": "mapbox",
         "type": "scattermapbox"
        },
        {
         "hovertemplate": "Neighborhood=Telegraph Hill<br>Lat=%{lat}<br>Lon=%{lon}<extra></extra>",
         "lat": [
          37.80055
         ],
         "legendgroup": "Telegraph Hill",
         "lon": [
          -122.40433
         ],
         "marker": {
          "color": "#FECB52"
         },
         "mode": "markers",
         "name": "Telegraph Hill",
         "showlegend": true,
         "subplot": "mapbox",
         "type": "scattermapbox"
        },
        {
         "hovertemplate": "Neighborhood=Twin Peaks<br>Lat=%{lat}<br>Lon=%{lon}<extra></extra>",
         "lat": [
          37.753311
         ],
         "legendgroup": "Twin Peaks",
         "lon": [
          -122.447029
         ],
         "marker": {
          "color": "#636efa"
         },
         "mode": "markers",
         "name": "Twin Peaks",
         "showlegend": true,
         "subplot": "mapbox",
         "type": "scattermapbox"
        },
        {
         "hovertemplate": "Neighborhood=Union Square District<br>Lat=%{lat}<br>Lon=%{lon}<extra></extra>",
         "lat": [
          37.79101
         ],
         "legendgroup": "Union Square District",
         "lon": [
          -122.4021
         ],
         "marker": {
          "color": "#EF553B"
         },
         "mode": "markers",
         "name": "Union Square District",
         "showlegend": true,
         "subplot": "mapbox",
         "type": "scattermapbox"
        },
        {
         "hovertemplate": "Neighborhood=Van Ness/ Civic Center<br>Lat=%{lat}<br>Lon=%{lon}<extra></extra>",
         "lat": [
          37.779509999999995
         ],
         "legendgroup": "Van Ness/ Civic Center",
         "lon": [
          -122.42022
         ],
         "marker": {
          "color": "#00cc96"
         },
         "mode": "markers",
         "name": "Van Ness/ Civic Center",
         "showlegend": true,
         "subplot": "mapbox",
         "type": "scattermapbox"
        },
        {
         "hovertemplate": "Neighborhood=Visitacion Valley<br>Lat=%{lat}<br>Lon=%{lon}<extra></extra>",
         "lat": [
          37.72874
         ],
         "legendgroup": "Visitacion Valley",
         "lon": [
          -122.41098000000001
         ],
         "marker": {
          "color": "#ab63fa"
         },
         "mode": "markers",
         "name": "Visitacion Valley",
         "showlegend": true,
         "subplot": "mapbox",
         "type": "scattermapbox"
        },
        {
         "hovertemplate": "Neighborhood=West Portal<br>Lat=%{lat}<br>Lon=%{lon}<extra></extra>",
         "lat": [
          37.74026
         ],
         "legendgroup": "West Portal",
         "lon": [
          -122.46388
         ],
         "marker": {
          "color": "#FFA15A"
         },
         "mode": "markers",
         "name": "West Portal",
         "showlegend": true,
         "subplot": "mapbox",
         "type": "scattermapbox"
        },
        {
         "hovertemplate": "Neighborhood=Western Addition<br>Lat=%{lat}<br>Lon=%{lon}<extra></extra>",
         "lat": [
          37.79298
         ],
         "legendgroup": "Western Addition",
         "lon": [
          -122.43579
         ],
         "marker": {
          "color": "#19d3f3"
         },
         "mode": "markers",
         "name": "Western Addition",
         "showlegend": true,
         "subplot": "mapbox",
         "type": "scattermapbox"
        },
        {
         "hovertemplate": "Neighborhood=Westwood Highlands<br>Lat=%{lat}<br>Lon=%{lon}<extra></extra>",
         "lat": [
          37.7347
         ],
         "legendgroup": "Westwood Highlands",
         "lon": [
          -122.456854
         ],
         "marker": {
          "color": "#FF6692"
         },
         "mode": "markers",
         "name": "Westwood Highlands",
         "showlegend": true,
         "subplot": "mapbox",
         "type": "scattermapbox"
        },
        {
         "hovertemplate": "Neighborhood=Westwood Park<br>Lat=%{lat}<br>Lon=%{lon}<extra></extra>",
         "lat": [
          37.73415
         ],
         "legendgroup": "Westwood Park",
         "lon": [
          -122.45700000000001
         ],
         "marker": {
          "color": "#B6E880"
         },
         "mode": "markers",
         "name": "Westwood Park",
         "showlegend": true,
         "subplot": "mapbox",
         "type": "scattermapbox"
        },
        {
         "hovertemplate": "Neighborhood=Yerba Buena<br>Lat=%{lat}<br>Lon=%{lon}<extra></extra>",
         "lat": [
          37.79298
         ],
         "legendgroup": "Yerba Buena",
         "lon": [
          -122.39636000000002
         ],
         "marker": {
          "color": "#FF97FF"
         },
         "mode": "markers",
         "name": "Yerba Buena",
         "showlegend": true,
         "subplot": "mapbox",
         "type": "scattermapbox"
        }
       ],
       "layout": {
        "legend": {
         "title": {
          "text": "Neighborhood"
         },
         "tracegroupgap": 0
        },
        "mapbox": {
         "center": {
          "lat": 37.76064079710145,
          "lon": -122.43826449275363
         },
         "domain": {
          "x": [
           0,
           1
          ],
          "y": [
           0,
           1
          ]
         },
         "zoom": 8
        },
        "margin": {
         "t": 60
        },
        "template": {
         "data": {
          "bar": [
           {
            "error_x": {
             "color": "#2a3f5f"
            },
            "error_y": {
             "color": "#2a3f5f"
            },
            "marker": {
             "line": {
              "color": "#E5ECF6",
              "width": 0.5
             },
             "pattern": {
              "fillmode": "overlay",
              "size": 10,
              "solidity": 0.2
             }
            },
            "type": "bar"
           }
          ],
          "barpolar": [
           {
            "marker": {
             "line": {
              "color": "#E5ECF6",
              "width": 0.5
             },
             "pattern": {
              "fillmode": "overlay",
              "size": 10,
              "solidity": 0.2
             }
            },
            "type": "barpolar"
           }
          ],
          "carpet": [
           {
            "aaxis": {
             "endlinecolor": "#2a3f5f",
             "gridcolor": "white",
             "linecolor": "white",
             "minorgridcolor": "white",
             "startlinecolor": "#2a3f5f"
            },
            "baxis": {
             "endlinecolor": "#2a3f5f",
             "gridcolor": "white",
             "linecolor": "white",
             "minorgridcolor": "white",
             "startlinecolor": "#2a3f5f"
            },
            "type": "carpet"
           }
          ],
          "choropleth": [
           {
            "colorbar": {
             "outlinewidth": 0,
             "ticks": ""
            },
            "type": "choropleth"
           }
          ],
          "contour": [
           {
            "colorbar": {
             "outlinewidth": 0,
             "ticks": ""
            },
            "colorscale": [
             [
              0,
              "#0d0887"
             ],
             [
              0.1111111111111111,
              "#46039f"
             ],
             [
              0.2222222222222222,
              "#7201a8"
             ],
             [
              0.3333333333333333,
              "#9c179e"
             ],
             [
              0.4444444444444444,
              "#bd3786"
             ],
             [
              0.5555555555555556,
              "#d8576b"
             ],
             [
              0.6666666666666666,
              "#ed7953"
             ],
             [
              0.7777777777777778,
              "#fb9f3a"
             ],
             [
              0.8888888888888888,
              "#fdca26"
             ],
             [
              1,
              "#f0f921"
             ]
            ],
            "type": "contour"
           }
          ],
          "contourcarpet": [
           {
            "colorbar": {
             "outlinewidth": 0,
             "ticks": ""
            },
            "type": "contourcarpet"
           }
          ],
          "heatmap": [
           {
            "colorbar": {
             "outlinewidth": 0,
             "ticks": ""
            },
            "colorscale": [
             [
              0,
              "#0d0887"
             ],
             [
              0.1111111111111111,
              "#46039f"
             ],
             [
              0.2222222222222222,
              "#7201a8"
             ],
             [
              0.3333333333333333,
              "#9c179e"
             ],
             [
              0.4444444444444444,
              "#bd3786"
             ],
             [
              0.5555555555555556,
              "#d8576b"
             ],
             [
              0.6666666666666666,
              "#ed7953"
             ],
             [
              0.7777777777777778,
              "#fb9f3a"
             ],
             [
              0.8888888888888888,
              "#fdca26"
             ],
             [
              1,
              "#f0f921"
             ]
            ],
            "type": "heatmap"
           }
          ],
          "heatmapgl": [
           {
            "colorbar": {
             "outlinewidth": 0,
             "ticks": ""
            },
            "colorscale": [
             [
              0,
              "#0d0887"
             ],
             [
              0.1111111111111111,
              "#46039f"
             ],
             [
              0.2222222222222222,
              "#7201a8"
             ],
             [
              0.3333333333333333,
              "#9c179e"
             ],
             [
              0.4444444444444444,
              "#bd3786"
             ],
             [
              0.5555555555555556,
              "#d8576b"
             ],
             [
              0.6666666666666666,
              "#ed7953"
             ],
             [
              0.7777777777777778,
              "#fb9f3a"
             ],
             [
              0.8888888888888888,
              "#fdca26"
             ],
             [
              1,
              "#f0f921"
             ]
            ],
            "type": "heatmapgl"
           }
          ],
          "histogram": [
           {
            "marker": {
             "pattern": {
              "fillmode": "overlay",
              "size": 10,
              "solidity": 0.2
             }
            },
            "type": "histogram"
           }
          ],
          "histogram2d": [
           {
            "colorbar": {
             "outlinewidth": 0,
             "ticks": ""
            },
            "colorscale": [
             [
              0,
              "#0d0887"
             ],
             [
              0.1111111111111111,
              "#46039f"
             ],
             [
              0.2222222222222222,
              "#7201a8"
             ],
             [
              0.3333333333333333,
              "#9c179e"
             ],
             [
              0.4444444444444444,
              "#bd3786"
             ],
             [
              0.5555555555555556,
              "#d8576b"
             ],
             [
              0.6666666666666666,
              "#ed7953"
             ],
             [
              0.7777777777777778,
              "#fb9f3a"
             ],
             [
              0.8888888888888888,
              "#fdca26"
             ],
             [
              1,
              "#f0f921"
             ]
            ],
            "type": "histogram2d"
           }
          ],
          "histogram2dcontour": [
           {
            "colorbar": {
             "outlinewidth": 0,
             "ticks": ""
            },
            "colorscale": [
             [
              0,
              "#0d0887"
             ],
             [
              0.1111111111111111,
              "#46039f"
             ],
             [
              0.2222222222222222,
              "#7201a8"
             ],
             [
              0.3333333333333333,
              "#9c179e"
             ],
             [
              0.4444444444444444,
              "#bd3786"
             ],
             [
              0.5555555555555556,
              "#d8576b"
             ],
             [
              0.6666666666666666,
              "#ed7953"
             ],
             [
              0.7777777777777778,
              "#fb9f3a"
             ],
             [
              0.8888888888888888,
              "#fdca26"
             ],
             [
              1,
              "#f0f921"
             ]
            ],
            "type": "histogram2dcontour"
           }
          ],
          "mesh3d": [
           {
            "colorbar": {
             "outlinewidth": 0,
             "ticks": ""
            },
            "type": "mesh3d"
           }
          ],
          "parcoords": [
           {
            "line": {
             "colorbar": {
              "outlinewidth": 0,
              "ticks": ""
             }
            },
            "type": "parcoords"
           }
          ],
          "pie": [
           {
            "automargin": true,
            "type": "pie"
           }
          ],
          "scatter": [
           {
            "marker": {
             "colorbar": {
              "outlinewidth": 0,
              "ticks": ""
             }
            },
            "type": "scatter"
           }
          ],
          "scatter3d": [
           {
            "line": {
             "colorbar": {
              "outlinewidth": 0,
              "ticks": ""
             }
            },
            "marker": {
             "colorbar": {
              "outlinewidth": 0,
              "ticks": ""
             }
            },
            "type": "scatter3d"
           }
          ],
          "scattercarpet": [
           {
            "marker": {
             "colorbar": {
              "outlinewidth": 0,
              "ticks": ""
             }
            },
            "type": "scattercarpet"
           }
          ],
          "scattergeo": [
           {
            "marker": {
             "colorbar": {
              "outlinewidth": 0,
              "ticks": ""
             }
            },
            "type": "scattergeo"
           }
          ],
          "scattergl": [
           {
            "marker": {
             "colorbar": {
              "outlinewidth": 0,
              "ticks": ""
             }
            },
            "type": "scattergl"
           }
          ],
          "scattermapbox": [
           {
            "marker": {
             "colorbar": {
              "outlinewidth": 0,
              "ticks": ""
             }
            },
            "type": "scattermapbox"
           }
          ],
          "scatterpolar": [
           {
            "marker": {
             "colorbar": {
              "outlinewidth": 0,
              "ticks": ""
             }
            },
            "type": "scatterpolar"
           }
          ],
          "scatterpolargl": [
           {
            "marker": {
             "colorbar": {
              "outlinewidth": 0,
              "ticks": ""
             }
            },
            "type": "scatterpolargl"
           }
          ],
          "scatterternary": [
           {
            "marker": {
             "colorbar": {
              "outlinewidth": 0,
              "ticks": ""
             }
            },
            "type": "scatterternary"
           }
          ],
          "surface": [
           {
            "colorbar": {
             "outlinewidth": 0,
             "ticks": ""
            },
            "colorscale": [
             [
              0,
              "#0d0887"
             ],
             [
              0.1111111111111111,
              "#46039f"
             ],
             [
              0.2222222222222222,
              "#7201a8"
             ],
             [
              0.3333333333333333,
              "#9c179e"
             ],
             [
              0.4444444444444444,
              "#bd3786"
             ],
             [
              0.5555555555555556,
              "#d8576b"
             ],
             [
              0.6666666666666666,
              "#ed7953"
             ],
             [
              0.7777777777777778,
              "#fb9f3a"
             ],
             [
              0.8888888888888888,
              "#fdca26"
             ],
             [
              1,
              "#f0f921"
             ]
            ],
            "type": "surface"
           }
          ],
          "table": [
           {
            "cells": {
             "fill": {
              "color": "#EBF0F8"
             },
             "line": {
              "color": "white"
             }
            },
            "header": {
             "fill": {
              "color": "#C8D4E3"
             },
             "line": {
              "color": "white"
             }
            },
            "type": "table"
           }
          ]
         },
         "layout": {
          "annotationdefaults": {
           "arrowcolor": "#2a3f5f",
           "arrowhead": 0,
           "arrowwidth": 1
          },
          "autotypenumbers": "strict",
          "coloraxis": {
           "colorbar": {
            "outlinewidth": 0,
            "ticks": ""
           }
          },
          "colorscale": {
           "diverging": [
            [
             0,
             "#8e0152"
            ],
            [
             0.1,
             "#c51b7d"
            ],
            [
             0.2,
             "#de77ae"
            ],
            [
             0.3,
             "#f1b6da"
            ],
            [
             0.4,
             "#fde0ef"
            ],
            [
             0.5,
             "#f7f7f7"
            ],
            [
             0.6,
             "#e6f5d0"
            ],
            [
             0.7,
             "#b8e186"
            ],
            [
             0.8,
             "#7fbc41"
            ],
            [
             0.9,
             "#4d9221"
            ],
            [
             1,
             "#276419"
            ]
           ],
           "sequential": [
            [
             0,
             "#0d0887"
            ],
            [
             0.1111111111111111,
             "#46039f"
            ],
            [
             0.2222222222222222,
             "#7201a8"
            ],
            [
             0.3333333333333333,
             "#9c179e"
            ],
            [
             0.4444444444444444,
             "#bd3786"
            ],
            [
             0.5555555555555556,
             "#d8576b"
            ],
            [
             0.6666666666666666,
             "#ed7953"
            ],
            [
             0.7777777777777778,
             "#fb9f3a"
            ],
            [
             0.8888888888888888,
             "#fdca26"
            ],
            [
             1,
             "#f0f921"
            ]
           ],
           "sequentialminus": [
            [
             0,
             "#0d0887"
            ],
            [
             0.1111111111111111,
             "#46039f"
            ],
            [
             0.2222222222222222,
             "#7201a8"
            ],
            [
             0.3333333333333333,
             "#9c179e"
            ],
            [
             0.4444444444444444,
             "#bd3786"
            ],
            [
             0.5555555555555556,
             "#d8576b"
            ],
            [
             0.6666666666666666,
             "#ed7953"
            ],
            [
             0.7777777777777778,
             "#fb9f3a"
            ],
            [
             0.8888888888888888,
             "#fdca26"
            ],
            [
             1,
             "#f0f921"
            ]
           ]
          },
          "colorway": [
           "#636efa",
           "#EF553B",
           "#00cc96",
           "#ab63fa",
           "#FFA15A",
           "#19d3f3",
           "#FF6692",
           "#B6E880",
           "#FF97FF",
           "#FECB52"
          ],
          "font": {
           "color": "#2a3f5f"
          },
          "geo": {
           "bgcolor": "white",
           "lakecolor": "white",
           "landcolor": "#E5ECF6",
           "showlakes": true,
           "showland": true,
           "subunitcolor": "white"
          },
          "hoverlabel": {
           "align": "left"
          },
          "hovermode": "closest",
          "mapbox": {
           "style": "light"
          },
          "paper_bgcolor": "white",
          "plot_bgcolor": "#E5ECF6",
          "polar": {
           "angularaxis": {
            "gridcolor": "white",
            "linecolor": "white",
            "ticks": ""
           },
           "bgcolor": "#E5ECF6",
           "radialaxis": {
            "gridcolor": "white",
            "linecolor": "white",
            "ticks": ""
           }
          },
          "scene": {
           "xaxis": {
            "backgroundcolor": "#E5ECF6",
            "gridcolor": "white",
            "gridwidth": 2,
            "linecolor": "white",
            "showbackground": true,
            "ticks": "",
            "zerolinecolor": "white"
           },
           "yaxis": {
            "backgroundcolor": "#E5ECF6",
            "gridcolor": "white",
            "gridwidth": 2,
            "linecolor": "white",
            "showbackground": true,
            "ticks": "",
            "zerolinecolor": "white"
           },
           "zaxis": {
            "backgroundcolor": "#E5ECF6",
            "gridcolor": "white",
            "gridwidth": 2,
            "linecolor": "white",
            "showbackground": true,
            "ticks": "",
            "zerolinecolor": "white"
           }
          },
          "shapedefaults": {
           "line": {
            "color": "#2a3f5f"
           }
          },
          "ternary": {
           "aaxis": {
            "gridcolor": "white",
            "linecolor": "white",
            "ticks": ""
           },
           "baxis": {
            "gridcolor": "white",
            "linecolor": "white",
            "ticks": ""
           },
           "bgcolor": "#E5ECF6",
           "caxis": {
            "gridcolor": "white",
            "linecolor": "white",
            "ticks": ""
           }
          },
          "title": {
           "x": 0.05
          },
          "xaxis": {
           "automargin": true,
           "gridcolor": "white",
           "linecolor": "white",
           "ticks": "",
           "title": {
            "standoff": 15
           },
           "zerolinecolor": "white",
           "zerolinewidth": 2
          },
          "yaxis": {
           "automargin": true,
           "gridcolor": "white",
           "linecolor": "white",
           "ticks": "",
           "title": {
            "standoff": 15
           },
           "zerolinecolor": "white",
           "zerolinewidth": 2
          }
         }
        }
       }
      }
     },
     "metadata": {}
    }
   ],
   "metadata": {}
  },
  {
   "cell_type": "markdown",
   "source": [
    "- - -"
   ],
   "metadata": {}
  },
  {
   "cell_type": "markdown",
   "source": [
    "## Cost Analysis - Optional Challenge\r\n",
    "\r\n",
    "In this section, you will use Plotly express to create visualizations that investors can use to interactively filter and explore various factors related to the house value of the San Francisco's neighborhoods. \r\n",
    "\r\n",
    "### Create a DataFrame showing the most expensive neighborhoods in San Francisco by year"
   ],
   "metadata": {}
  },
  {
   "cell_type": "code",
   "execution_count": 98,
   "source": [
    "## Tested other methods of getting the most expensive Neighborhoods per Year\r\n",
    "## Used a thread on .nlargest() in stackoverflow as a resource\r\n",
    "## https://stackoverflow.com/questions/27842613/pandas-groupby-sort-within-groups\r\n",
    "\r\n",
    "#df_most_expensive_by_year = sfo_neighborhood[sfo_neighborhood.sort_values('Sale Price/SqFt')]\r\n",
    "\r\n",
    "#sfo = sfo_neighborhood.reset_index().groupby(['Year','Neighborhood'])['Sale Price/SqFt'].nlargest(10).to_frame()\r\n",
    "\r\n",
    "#sfo = sfo.apply(lambda x: x.sort_values(ascending=False).head(5))\r\n",
    "\r\n",
    "sfo = sfo_neighborhood.groupby(['Year','Neighborhood']).agg({'Sale Price/SqFt':sum})\r\n",
    "sfo = sfo['Sale Price/SqFt'].astype(int).groupby('Year', group_keys=False)\r\n",
    "\r\n",
    "sfo = sfo.nlargest(10).to_frame()\r\n",
    "\r\n",
    "sfo"
   ],
   "outputs": [
    {
     "output_type": "execute_result",
     "data": {
      "text/plain": [
       "                                    Sale Price/SqFt\n",
       "Year Neighborhood                                  \n",
       "2010 South Beach                               1037\n",
       "     Glen Park                                  715\n",
       "     Miraloma Park                              680\n",
       "     Cow Hollow                                 569\n",
       "     Union Square District                      569\n",
       "...                                             ...\n",
       "2016 Eureka Valley/Dolores Heights             1026\n",
       "     Russian Hill                              1024\n",
       "     Pacific Heights                            996\n",
       "     Bernal Heights                             986\n",
       "     Twin Peaks                                 970\n",
       "\n",
       "[70 rows x 1 columns]"
      ],
      "text/html": [
       "<div>\n",
       "<style scoped>\n",
       "    .dataframe tbody tr th:only-of-type {\n",
       "        vertical-align: middle;\n",
       "    }\n",
       "\n",
       "    .dataframe tbody tr th {\n",
       "        vertical-align: top;\n",
       "    }\n",
       "\n",
       "    .dataframe thead th {\n",
       "        text-align: right;\n",
       "    }\n",
       "</style>\n",
       "<table border=\"1\" class=\"dataframe\">\n",
       "  <thead>\n",
       "    <tr style=\"text-align: right;\">\n",
       "      <th></th>\n",
       "      <th></th>\n",
       "      <th>Sale Price/SqFt</th>\n",
       "    </tr>\n",
       "    <tr>\n",
       "      <th>Year</th>\n",
       "      <th>Neighborhood</th>\n",
       "      <th></th>\n",
       "    </tr>\n",
       "  </thead>\n",
       "  <tbody>\n",
       "    <tr>\n",
       "      <th rowspan=\"5\" valign=\"top\">2010</th>\n",
       "      <th>South Beach</th>\n",
       "      <td>1037</td>\n",
       "    </tr>\n",
       "    <tr>\n",
       "      <th>Glen Park</th>\n",
       "      <td>715</td>\n",
       "    </tr>\n",
       "    <tr>\n",
       "      <th>Miraloma Park</th>\n",
       "      <td>680</td>\n",
       "    </tr>\n",
       "    <tr>\n",
       "      <th>Cow Hollow</th>\n",
       "      <td>569</td>\n",
       "    </tr>\n",
       "    <tr>\n",
       "      <th>Union Square District</th>\n",
       "      <td>569</td>\n",
       "    </tr>\n",
       "    <tr>\n",
       "      <th>...</th>\n",
       "      <th>...</th>\n",
       "      <td>...</td>\n",
       "    </tr>\n",
       "    <tr>\n",
       "      <th rowspan=\"5\" valign=\"top\">2016</th>\n",
       "      <th>Eureka Valley/Dolores Heights</th>\n",
       "      <td>1026</td>\n",
       "    </tr>\n",
       "    <tr>\n",
       "      <th>Russian Hill</th>\n",
       "      <td>1024</td>\n",
       "    </tr>\n",
       "    <tr>\n",
       "      <th>Pacific Heights</th>\n",
       "      <td>996</td>\n",
       "    </tr>\n",
       "    <tr>\n",
       "      <th>Bernal Heights</th>\n",
       "      <td>986</td>\n",
       "    </tr>\n",
       "    <tr>\n",
       "      <th>Twin Peaks</th>\n",
       "      <td>970</td>\n",
       "    </tr>\n",
       "  </tbody>\n",
       "</table>\n",
       "<p>70 rows × 1 columns</p>\n",
       "</div>"
      ]
     },
     "metadata": {},
     "execution_count": 98
    }
   ],
   "metadata": {}
  },
  {
   "cell_type": "code",
   "execution_count": 99,
   "source": [
    "## More testing\r\n",
    "\r\n",
    "sfo2 = sfo_neighborhood.groupby(['Year','Neighborhood'], group_keys=False).mean().nlargest(5, columns='Sale Price/SqFt')#.round(2).to_frame()\r\n",
    "\r\n",
    "sfo2"
   ],
   "outputs": [
    {
     "output_type": "execute_result",
     "data": {
      "text/plain": [
       "                            Sale Price/SqFt  Housing Units  Gross Rent\n",
       "Year Neighborhood                                                     \n",
       "2015 Union Square District             2258         382295        3739\n",
       "2016 Presidio Heights                  1465         384242        4390\n",
       "     Merced Heights                    1416         384242        4390\n",
       "2013 Union Square District             1290         378401        2971\n",
       "2014 Miraloma Park                     1267         380348        3528"
      ],
      "text/html": [
       "<div>\n",
       "<style scoped>\n",
       "    .dataframe tbody tr th:only-of-type {\n",
       "        vertical-align: middle;\n",
       "    }\n",
       "\n",
       "    .dataframe tbody tr th {\n",
       "        vertical-align: top;\n",
       "    }\n",
       "\n",
       "    .dataframe thead th {\n",
       "        text-align: right;\n",
       "    }\n",
       "</style>\n",
       "<table border=\"1\" class=\"dataframe\">\n",
       "  <thead>\n",
       "    <tr style=\"text-align: right;\">\n",
       "      <th></th>\n",
       "      <th></th>\n",
       "      <th>Sale Price/SqFt</th>\n",
       "      <th>Housing Units</th>\n",
       "      <th>Gross Rent</th>\n",
       "    </tr>\n",
       "    <tr>\n",
       "      <th>Year</th>\n",
       "      <th>Neighborhood</th>\n",
       "      <th></th>\n",
       "      <th></th>\n",
       "      <th></th>\n",
       "    </tr>\n",
       "  </thead>\n",
       "  <tbody>\n",
       "    <tr>\n",
       "      <th>2015</th>\n",
       "      <th>Union Square District</th>\n",
       "      <td>2258</td>\n",
       "      <td>382295</td>\n",
       "      <td>3739</td>\n",
       "    </tr>\n",
       "    <tr>\n",
       "      <th rowspan=\"2\" valign=\"top\">2016</th>\n",
       "      <th>Presidio Heights</th>\n",
       "      <td>1465</td>\n",
       "      <td>384242</td>\n",
       "      <td>4390</td>\n",
       "    </tr>\n",
       "    <tr>\n",
       "      <th>Merced Heights</th>\n",
       "      <td>1416</td>\n",
       "      <td>384242</td>\n",
       "      <td>4390</td>\n",
       "    </tr>\n",
       "    <tr>\n",
       "      <th>2013</th>\n",
       "      <th>Union Square District</th>\n",
       "      <td>1290</td>\n",
       "      <td>378401</td>\n",
       "      <td>2971</td>\n",
       "    </tr>\n",
       "    <tr>\n",
       "      <th>2014</th>\n",
       "      <th>Miraloma Park</th>\n",
       "      <td>1267</td>\n",
       "      <td>380348</td>\n",
       "      <td>3528</td>\n",
       "    </tr>\n",
       "  </tbody>\n",
       "</table>\n",
       "</div>"
      ]
     },
     "metadata": {},
     "execution_count": 99
    }
   ],
   "metadata": {}
  },
  {
   "cell_type": "code",
   "execution_count": 100,
   "source": [
    "sfo_neighborhood"
   ],
   "outputs": [
    {
     "output_type": "execute_result",
     "data": {
      "text/plain": [
       "                Neighborhood  Sale Price/SqFt  Housing Units  Gross Rent\n",
       "Year                                                                    \n",
       "2010            Alamo Square              291         372560        1239\n",
       "2010              Anza Vista              267         372560        1239\n",
       "2010                 Bayview              170         372560        1239\n",
       "2010        Buena Vista Park              347         372560        1239\n",
       "2010        Central Richmond              319         372560        1239\n",
       "...                      ...              ...            ...         ...\n",
       "2016          Telegraph Hill              903         384242        4390\n",
       "2016              Twin Peaks              970         384242        4390\n",
       "2016  Van Ness/ Civic Center              552         384242        4390\n",
       "2016       Visitacion Valley              328         384242        4390\n",
       "2016           Westwood Park              631         384242        4390\n",
       "\n",
       "[397 rows x 4 columns]"
      ],
      "text/html": [
       "<div>\n",
       "<style scoped>\n",
       "    .dataframe tbody tr th:only-of-type {\n",
       "        vertical-align: middle;\n",
       "    }\n",
       "\n",
       "    .dataframe tbody tr th {\n",
       "        vertical-align: top;\n",
       "    }\n",
       "\n",
       "    .dataframe thead th {\n",
       "        text-align: right;\n",
       "    }\n",
       "</style>\n",
       "<table border=\"1\" class=\"dataframe\">\n",
       "  <thead>\n",
       "    <tr style=\"text-align: right;\">\n",
       "      <th></th>\n",
       "      <th>Neighborhood</th>\n",
       "      <th>Sale Price/SqFt</th>\n",
       "      <th>Housing Units</th>\n",
       "      <th>Gross Rent</th>\n",
       "    </tr>\n",
       "    <tr>\n",
       "      <th>Year</th>\n",
       "      <th></th>\n",
       "      <th></th>\n",
       "      <th></th>\n",
       "      <th></th>\n",
       "    </tr>\n",
       "  </thead>\n",
       "  <tbody>\n",
       "    <tr>\n",
       "      <th>2010</th>\n",
       "      <td>Alamo Square</td>\n",
       "      <td>291</td>\n",
       "      <td>372560</td>\n",
       "      <td>1239</td>\n",
       "    </tr>\n",
       "    <tr>\n",
       "      <th>2010</th>\n",
       "      <td>Anza Vista</td>\n",
       "      <td>267</td>\n",
       "      <td>372560</td>\n",
       "      <td>1239</td>\n",
       "    </tr>\n",
       "    <tr>\n",
       "      <th>2010</th>\n",
       "      <td>Bayview</td>\n",
       "      <td>170</td>\n",
       "      <td>372560</td>\n",
       "      <td>1239</td>\n",
       "    </tr>\n",
       "    <tr>\n",
       "      <th>2010</th>\n",
       "      <td>Buena Vista Park</td>\n",
       "      <td>347</td>\n",
       "      <td>372560</td>\n",
       "      <td>1239</td>\n",
       "    </tr>\n",
       "    <tr>\n",
       "      <th>2010</th>\n",
       "      <td>Central Richmond</td>\n",
       "      <td>319</td>\n",
       "      <td>372560</td>\n",
       "      <td>1239</td>\n",
       "    </tr>\n",
       "    <tr>\n",
       "      <th>...</th>\n",
       "      <td>...</td>\n",
       "      <td>...</td>\n",
       "      <td>...</td>\n",
       "      <td>...</td>\n",
       "    </tr>\n",
       "    <tr>\n",
       "      <th>2016</th>\n",
       "      <td>Telegraph Hill</td>\n",
       "      <td>903</td>\n",
       "      <td>384242</td>\n",
       "      <td>4390</td>\n",
       "    </tr>\n",
       "    <tr>\n",
       "      <th>2016</th>\n",
       "      <td>Twin Peaks</td>\n",
       "      <td>970</td>\n",
       "      <td>384242</td>\n",
       "      <td>4390</td>\n",
       "    </tr>\n",
       "    <tr>\n",
       "      <th>2016</th>\n",
       "      <td>Van Ness/ Civic Center</td>\n",
       "      <td>552</td>\n",
       "      <td>384242</td>\n",
       "      <td>4390</td>\n",
       "    </tr>\n",
       "    <tr>\n",
       "      <th>2016</th>\n",
       "      <td>Visitacion Valley</td>\n",
       "      <td>328</td>\n",
       "      <td>384242</td>\n",
       "      <td>4390</td>\n",
       "    </tr>\n",
       "    <tr>\n",
       "      <th>2016</th>\n",
       "      <td>Westwood Park</td>\n",
       "      <td>631</td>\n",
       "      <td>384242</td>\n",
       "      <td>4390</td>\n",
       "    </tr>\n",
       "  </tbody>\n",
       "</table>\n",
       "<p>397 rows × 4 columns</p>\n",
       "</div>"
      ]
     },
     "metadata": {},
     "execution_count": 100
    }
   ],
   "metadata": {}
  },
  {
   "cell_type": "code",
   "execution_count": 101,
   "source": [
    "# Fetch the data from all expensive neighborhoods per year.\r\n",
    "\r\n",
    "df_top10 = sfo_neighborhood.reset_index()\\\r\n",
    "                     .groupby('Neighborhood')['Sale Price/SqFt','Housing Units','Gross Rent']\\\r\n",
    "                     .mean()\\\r\n",
    "                     .astype(int)\r\n",
    "\r\n",
    "df_top10 = df_top10.nlargest(10, columns='Sale Price/SqFt').reset_index()\r\n",
    "\r\n",
    "df_top10"
   ],
   "outputs": [
    {
     "output_type": "execute_result",
     "data": {
      "text/plain": [
       "                    Neighborhood  Sale Price/SqFt  Housing Units  Gross Rent\n",
       "0          Union Square District              903         377427        2555\n",
       "1                 Merced Heights              788         380348        3414\n",
       "2                  Miraloma Park              779         375967        2155\n",
       "3                Pacific Heights              689         378401        2817\n",
       "4                  Westwood Park              686         382295        3959\n",
       "5                 Telegraph Hill              676         378401        2817\n",
       "6                     Cow Hollow              665         378401        2817\n",
       "7                   Potrero Hill              661         378401        2817\n",
       "8                    South Beach              649         375805        2099\n",
       "9  Eureka Valley/Dolores Heights              641         378401        2817"
      ],
      "text/html": [
       "<div>\n",
       "<style scoped>\n",
       "    .dataframe tbody tr th:only-of-type {\n",
       "        vertical-align: middle;\n",
       "    }\n",
       "\n",
       "    .dataframe tbody tr th {\n",
       "        vertical-align: top;\n",
       "    }\n",
       "\n",
       "    .dataframe thead th {\n",
       "        text-align: right;\n",
       "    }\n",
       "</style>\n",
       "<table border=\"1\" class=\"dataframe\">\n",
       "  <thead>\n",
       "    <tr style=\"text-align: right;\">\n",
       "      <th></th>\n",
       "      <th>Neighborhood</th>\n",
       "      <th>Sale Price/SqFt</th>\n",
       "      <th>Housing Units</th>\n",
       "      <th>Gross Rent</th>\n",
       "    </tr>\n",
       "  </thead>\n",
       "  <tbody>\n",
       "    <tr>\n",
       "      <th>0</th>\n",
       "      <td>Union Square District</td>\n",
       "      <td>903</td>\n",
       "      <td>377427</td>\n",
       "      <td>2555</td>\n",
       "    </tr>\n",
       "    <tr>\n",
       "      <th>1</th>\n",
       "      <td>Merced Heights</td>\n",
       "      <td>788</td>\n",
       "      <td>380348</td>\n",
       "      <td>3414</td>\n",
       "    </tr>\n",
       "    <tr>\n",
       "      <th>2</th>\n",
       "      <td>Miraloma Park</td>\n",
       "      <td>779</td>\n",
       "      <td>375967</td>\n",
       "      <td>2155</td>\n",
       "    </tr>\n",
       "    <tr>\n",
       "      <th>3</th>\n",
       "      <td>Pacific Heights</td>\n",
       "      <td>689</td>\n",
       "      <td>378401</td>\n",
       "      <td>2817</td>\n",
       "    </tr>\n",
       "    <tr>\n",
       "      <th>4</th>\n",
       "      <td>Westwood Park</td>\n",
       "      <td>686</td>\n",
       "      <td>382295</td>\n",
       "      <td>3959</td>\n",
       "    </tr>\n",
       "    <tr>\n",
       "      <th>5</th>\n",
       "      <td>Telegraph Hill</td>\n",
       "      <td>676</td>\n",
       "      <td>378401</td>\n",
       "      <td>2817</td>\n",
       "    </tr>\n",
       "    <tr>\n",
       "      <th>6</th>\n",
       "      <td>Cow Hollow</td>\n",
       "      <td>665</td>\n",
       "      <td>378401</td>\n",
       "      <td>2817</td>\n",
       "    </tr>\n",
       "    <tr>\n",
       "      <th>7</th>\n",
       "      <td>Potrero Hill</td>\n",
       "      <td>661</td>\n",
       "      <td>378401</td>\n",
       "      <td>2817</td>\n",
       "    </tr>\n",
       "    <tr>\n",
       "      <th>8</th>\n",
       "      <td>South Beach</td>\n",
       "      <td>649</td>\n",
       "      <td>375805</td>\n",
       "      <td>2099</td>\n",
       "    </tr>\n",
       "    <tr>\n",
       "      <th>9</th>\n",
       "      <td>Eureka Valley/Dolores Heights</td>\n",
       "      <td>641</td>\n",
       "      <td>378401</td>\n",
       "      <td>2817</td>\n",
       "    </tr>\n",
       "  </tbody>\n",
       "</table>\n",
       "</div>"
      ]
     },
     "metadata": {},
     "execution_count": 101
    }
   ],
   "metadata": {}
  },
  {
   "cell_type": "markdown",
   "source": [
    "### Create a parallel coordinates plot and parallel categories plot of most expensive neighborhoods in San Francisco per year\n"
   ],
   "metadata": {}
  },
  {
   "cell_type": "code",
   "execution_count": 102,
   "source": [
    "# Parallel Categories Plot\r\n",
    "plot_parallel_categories = px.parallel_categories(\r\n",
    "    df_top10,\r\n",
    "    dimensions=['Neighborhood','Sale Price/SqFt','Housing Units','Gross Rent'],\r\n",
    "    color='Sale Price/SqFt',\r\n",
    "    color_continuous_scale='Inferno'\r\n",
    ")\r\n",
    "plot_parallel_categories"
   ],
   "outputs": [
    {
     "output_type": "display_data",
     "data": {
      "application/vnd.plotly.v1+json": {
       "config": {
        "plotlyServerURL": "https://plot.ly"
       },
       "data": [
        {
         "dimensions": [
          {
           "label": "Neighborhood",
           "values": [
            "Union Square District",
            "Merced Heights",
            "Miraloma Park",
            "Pacific Heights",
            "Westwood Park",
            "Telegraph Hill",
            "Cow Hollow",
            "Potrero Hill",
            "South Beach",
            "Eureka Valley/Dolores Heights"
           ]
          },
          {
           "label": "Sale Price/SqFt",
           "values": [
            903,
            788,
            779,
            689,
            686,
            676,
            665,
            661,
            649,
            641
           ]
          },
          {
           "label": "Housing Units",
           "values": [
            377427,
            380348,
            375967,
            378401,
            382295,
            378401,
            378401,
            378401,
            375805,
            378401
           ]
          },
          {
           "label": "Gross Rent",
           "values": [
            2555,
            3414,
            2155,
            2817,
            3959,
            2817,
            2817,
            2817,
            2099,
            2817
           ]
          }
         ],
         "domain": {
          "x": [
           0,
           1
          ],
          "y": [
           0,
           1
          ]
         },
         "line": {
          "color": [
           903,
           788,
           779,
           689,
           686,
           676,
           665,
           661,
           649,
           641
          ],
          "coloraxis": "coloraxis"
         },
         "name": "",
         "type": "parcats"
        }
       ],
       "layout": {
        "coloraxis": {
         "colorbar": {
          "title": {
           "text": "Sale Price/SqFt"
          }
         },
         "colorscale": [
          [
           0,
           "#000004"
          ],
          [
           0.1111111111111111,
           "#1b0c41"
          ],
          [
           0.2222222222222222,
           "#4a0c6b"
          ],
          [
           0.3333333333333333,
           "#781c6d"
          ],
          [
           0.4444444444444444,
           "#a52c60"
          ],
          [
           0.5555555555555556,
           "#cf4446"
          ],
          [
           0.6666666666666666,
           "#ed6925"
          ],
          [
           0.7777777777777778,
           "#fb9b06"
          ],
          [
           0.8888888888888888,
           "#f7d13d"
          ],
          [
           1,
           "#fcffa4"
          ]
         ]
        },
        "legend": {
         "tracegroupgap": 0
        },
        "margin": {
         "t": 60
        },
        "template": {
         "data": {
          "bar": [
           {
            "error_x": {
             "color": "#2a3f5f"
            },
            "error_y": {
             "color": "#2a3f5f"
            },
            "marker": {
             "line": {
              "color": "#E5ECF6",
              "width": 0.5
             },
             "pattern": {
              "fillmode": "overlay",
              "size": 10,
              "solidity": 0.2
             }
            },
            "type": "bar"
           }
          ],
          "barpolar": [
           {
            "marker": {
             "line": {
              "color": "#E5ECF6",
              "width": 0.5
             },
             "pattern": {
              "fillmode": "overlay",
              "size": 10,
              "solidity": 0.2
             }
            },
            "type": "barpolar"
           }
          ],
          "carpet": [
           {
            "aaxis": {
             "endlinecolor": "#2a3f5f",
             "gridcolor": "white",
             "linecolor": "white",
             "minorgridcolor": "white",
             "startlinecolor": "#2a3f5f"
            },
            "baxis": {
             "endlinecolor": "#2a3f5f",
             "gridcolor": "white",
             "linecolor": "white",
             "minorgridcolor": "white",
             "startlinecolor": "#2a3f5f"
            },
            "type": "carpet"
           }
          ],
          "choropleth": [
           {
            "colorbar": {
             "outlinewidth": 0,
             "ticks": ""
            },
            "type": "choropleth"
           }
          ],
          "contour": [
           {
            "colorbar": {
             "outlinewidth": 0,
             "ticks": ""
            },
            "colorscale": [
             [
              0,
              "#0d0887"
             ],
             [
              0.1111111111111111,
              "#46039f"
             ],
             [
              0.2222222222222222,
              "#7201a8"
             ],
             [
              0.3333333333333333,
              "#9c179e"
             ],
             [
              0.4444444444444444,
              "#bd3786"
             ],
             [
              0.5555555555555556,
              "#d8576b"
             ],
             [
              0.6666666666666666,
              "#ed7953"
             ],
             [
              0.7777777777777778,
              "#fb9f3a"
             ],
             [
              0.8888888888888888,
              "#fdca26"
             ],
             [
              1,
              "#f0f921"
             ]
            ],
            "type": "contour"
           }
          ],
          "contourcarpet": [
           {
            "colorbar": {
             "outlinewidth": 0,
             "ticks": ""
            },
            "type": "contourcarpet"
           }
          ],
          "heatmap": [
           {
            "colorbar": {
             "outlinewidth": 0,
             "ticks": ""
            },
            "colorscale": [
             [
              0,
              "#0d0887"
             ],
             [
              0.1111111111111111,
              "#46039f"
             ],
             [
              0.2222222222222222,
              "#7201a8"
             ],
             [
              0.3333333333333333,
              "#9c179e"
             ],
             [
              0.4444444444444444,
              "#bd3786"
             ],
             [
              0.5555555555555556,
              "#d8576b"
             ],
             [
              0.6666666666666666,
              "#ed7953"
             ],
             [
              0.7777777777777778,
              "#fb9f3a"
             ],
             [
              0.8888888888888888,
              "#fdca26"
             ],
             [
              1,
              "#f0f921"
             ]
            ],
            "type": "heatmap"
           }
          ],
          "heatmapgl": [
           {
            "colorbar": {
             "outlinewidth": 0,
             "ticks": ""
            },
            "colorscale": [
             [
              0,
              "#0d0887"
             ],
             [
              0.1111111111111111,
              "#46039f"
             ],
             [
              0.2222222222222222,
              "#7201a8"
             ],
             [
              0.3333333333333333,
              "#9c179e"
             ],
             [
              0.4444444444444444,
              "#bd3786"
             ],
             [
              0.5555555555555556,
              "#d8576b"
             ],
             [
              0.6666666666666666,
              "#ed7953"
             ],
             [
              0.7777777777777778,
              "#fb9f3a"
             ],
             [
              0.8888888888888888,
              "#fdca26"
             ],
             [
              1,
              "#f0f921"
             ]
            ],
            "type": "heatmapgl"
           }
          ],
          "histogram": [
           {
            "marker": {
             "pattern": {
              "fillmode": "overlay",
              "size": 10,
              "solidity": 0.2
             }
            },
            "type": "histogram"
           }
          ],
          "histogram2d": [
           {
            "colorbar": {
             "outlinewidth": 0,
             "ticks": ""
            },
            "colorscale": [
             [
              0,
              "#0d0887"
             ],
             [
              0.1111111111111111,
              "#46039f"
             ],
             [
              0.2222222222222222,
              "#7201a8"
             ],
             [
              0.3333333333333333,
              "#9c179e"
             ],
             [
              0.4444444444444444,
              "#bd3786"
             ],
             [
              0.5555555555555556,
              "#d8576b"
             ],
             [
              0.6666666666666666,
              "#ed7953"
             ],
             [
              0.7777777777777778,
              "#fb9f3a"
             ],
             [
              0.8888888888888888,
              "#fdca26"
             ],
             [
              1,
              "#f0f921"
             ]
            ],
            "type": "histogram2d"
           }
          ],
          "histogram2dcontour": [
           {
            "colorbar": {
             "outlinewidth": 0,
             "ticks": ""
            },
            "colorscale": [
             [
              0,
              "#0d0887"
             ],
             [
              0.1111111111111111,
              "#46039f"
             ],
             [
              0.2222222222222222,
              "#7201a8"
             ],
             [
              0.3333333333333333,
              "#9c179e"
             ],
             [
              0.4444444444444444,
              "#bd3786"
             ],
             [
              0.5555555555555556,
              "#d8576b"
             ],
             [
              0.6666666666666666,
              "#ed7953"
             ],
             [
              0.7777777777777778,
              "#fb9f3a"
             ],
             [
              0.8888888888888888,
              "#fdca26"
             ],
             [
              1,
              "#f0f921"
             ]
            ],
            "type": "histogram2dcontour"
           }
          ],
          "mesh3d": [
           {
            "colorbar": {
             "outlinewidth": 0,
             "ticks": ""
            },
            "type": "mesh3d"
           }
          ],
          "parcoords": [
           {
            "line": {
             "colorbar": {
              "outlinewidth": 0,
              "ticks": ""
             }
            },
            "type": "parcoords"
           }
          ],
          "pie": [
           {
            "automargin": true,
            "type": "pie"
           }
          ],
          "scatter": [
           {
            "marker": {
             "colorbar": {
              "outlinewidth": 0,
              "ticks": ""
             }
            },
            "type": "scatter"
           }
          ],
          "scatter3d": [
           {
            "line": {
             "colorbar": {
              "outlinewidth": 0,
              "ticks": ""
             }
            },
            "marker": {
             "colorbar": {
              "outlinewidth": 0,
              "ticks": ""
             }
            },
            "type": "scatter3d"
           }
          ],
          "scattercarpet": [
           {
            "marker": {
             "colorbar": {
              "outlinewidth": 0,
              "ticks": ""
             }
            },
            "type": "scattercarpet"
           }
          ],
          "scattergeo": [
           {
            "marker": {
             "colorbar": {
              "outlinewidth": 0,
              "ticks": ""
             }
            },
            "type": "scattergeo"
           }
          ],
          "scattergl": [
           {
            "marker": {
             "colorbar": {
              "outlinewidth": 0,
              "ticks": ""
             }
            },
            "type": "scattergl"
           }
          ],
          "scattermapbox": [
           {
            "marker": {
             "colorbar": {
              "outlinewidth": 0,
              "ticks": ""
             }
            },
            "type": "scattermapbox"
           }
          ],
          "scatterpolar": [
           {
            "marker": {
             "colorbar": {
              "outlinewidth": 0,
              "ticks": ""
             }
            },
            "type": "scatterpolar"
           }
          ],
          "scatterpolargl": [
           {
            "marker": {
             "colorbar": {
              "outlinewidth": 0,
              "ticks": ""
             }
            },
            "type": "scatterpolargl"
           }
          ],
          "scatterternary": [
           {
            "marker": {
             "colorbar": {
              "outlinewidth": 0,
              "ticks": ""
             }
            },
            "type": "scatterternary"
           }
          ],
          "surface": [
           {
            "colorbar": {
             "outlinewidth": 0,
             "ticks": ""
            },
            "colorscale": [
             [
              0,
              "#0d0887"
             ],
             [
              0.1111111111111111,
              "#46039f"
             ],
             [
              0.2222222222222222,
              "#7201a8"
             ],
             [
              0.3333333333333333,
              "#9c179e"
             ],
             [
              0.4444444444444444,
              "#bd3786"
             ],
             [
              0.5555555555555556,
              "#d8576b"
             ],
             [
              0.6666666666666666,
              "#ed7953"
             ],
             [
              0.7777777777777778,
              "#fb9f3a"
             ],
             [
              0.8888888888888888,
              "#fdca26"
             ],
             [
              1,
              "#f0f921"
             ]
            ],
            "type": "surface"
           }
          ],
          "table": [
           {
            "cells": {
             "fill": {
              "color": "#EBF0F8"
             },
             "line": {
              "color": "white"
             }
            },
            "header": {
             "fill": {
              "color": "#C8D4E3"
             },
             "line": {
              "color": "white"
             }
            },
            "type": "table"
           }
          ]
         },
         "layout": {
          "annotationdefaults": {
           "arrowcolor": "#2a3f5f",
           "arrowhead": 0,
           "arrowwidth": 1
          },
          "autotypenumbers": "strict",
          "coloraxis": {
           "colorbar": {
            "outlinewidth": 0,
            "ticks": ""
           }
          },
          "colorscale": {
           "diverging": [
            [
             0,
             "#8e0152"
            ],
            [
             0.1,
             "#c51b7d"
            ],
            [
             0.2,
             "#de77ae"
            ],
            [
             0.3,
             "#f1b6da"
            ],
            [
             0.4,
             "#fde0ef"
            ],
            [
             0.5,
             "#f7f7f7"
            ],
            [
             0.6,
             "#e6f5d0"
            ],
            [
             0.7,
             "#b8e186"
            ],
            [
             0.8,
             "#7fbc41"
            ],
            [
             0.9,
             "#4d9221"
            ],
            [
             1,
             "#276419"
            ]
           ],
           "sequential": [
            [
             0,
             "#0d0887"
            ],
            [
             0.1111111111111111,
             "#46039f"
            ],
            [
             0.2222222222222222,
             "#7201a8"
            ],
            [
             0.3333333333333333,
             "#9c179e"
            ],
            [
             0.4444444444444444,
             "#bd3786"
            ],
            [
             0.5555555555555556,
             "#d8576b"
            ],
            [
             0.6666666666666666,
             "#ed7953"
            ],
            [
             0.7777777777777778,
             "#fb9f3a"
            ],
            [
             0.8888888888888888,
             "#fdca26"
            ],
            [
             1,
             "#f0f921"
            ]
           ],
           "sequentialminus": [
            [
             0,
             "#0d0887"
            ],
            [
             0.1111111111111111,
             "#46039f"
            ],
            [
             0.2222222222222222,
             "#7201a8"
            ],
            [
             0.3333333333333333,
             "#9c179e"
            ],
            [
             0.4444444444444444,
             "#bd3786"
            ],
            [
             0.5555555555555556,
             "#d8576b"
            ],
            [
             0.6666666666666666,
             "#ed7953"
            ],
            [
             0.7777777777777778,
             "#fb9f3a"
            ],
            [
             0.8888888888888888,
             "#fdca26"
            ],
            [
             1,
             "#f0f921"
            ]
           ]
          },
          "colorway": [
           "#636efa",
           "#EF553B",
           "#00cc96",
           "#ab63fa",
           "#FFA15A",
           "#19d3f3",
           "#FF6692",
           "#B6E880",
           "#FF97FF",
           "#FECB52"
          ],
          "font": {
           "color": "#2a3f5f"
          },
          "geo": {
           "bgcolor": "white",
           "lakecolor": "white",
           "landcolor": "#E5ECF6",
           "showlakes": true,
           "showland": true,
           "subunitcolor": "white"
          },
          "hoverlabel": {
           "align": "left"
          },
          "hovermode": "closest",
          "mapbox": {
           "style": "light"
          },
          "paper_bgcolor": "white",
          "plot_bgcolor": "#E5ECF6",
          "polar": {
           "angularaxis": {
            "gridcolor": "white",
            "linecolor": "white",
            "ticks": ""
           },
           "bgcolor": "#E5ECF6",
           "radialaxis": {
            "gridcolor": "white",
            "linecolor": "white",
            "ticks": ""
           }
          },
          "scene": {
           "xaxis": {
            "backgroundcolor": "#E5ECF6",
            "gridcolor": "white",
            "gridwidth": 2,
            "linecolor": "white",
            "showbackground": true,
            "ticks": "",
            "zerolinecolor": "white"
           },
           "yaxis": {
            "backgroundcolor": "#E5ECF6",
            "gridcolor": "white",
            "gridwidth": 2,
            "linecolor": "white",
            "showbackground": true,
            "ticks": "",
            "zerolinecolor": "white"
           },
           "zaxis": {
            "backgroundcolor": "#E5ECF6",
            "gridcolor": "white",
            "gridwidth": 2,
            "linecolor": "white",
            "showbackground": true,
            "ticks": "",
            "zerolinecolor": "white"
           }
          },
          "shapedefaults": {
           "line": {
            "color": "#2a3f5f"
           }
          },
          "ternary": {
           "aaxis": {
            "gridcolor": "white",
            "linecolor": "white",
            "ticks": ""
           },
           "baxis": {
            "gridcolor": "white",
            "linecolor": "white",
            "ticks": ""
           },
           "bgcolor": "#E5ECF6",
           "caxis": {
            "gridcolor": "white",
            "linecolor": "white",
            "ticks": ""
           }
          },
          "title": {
           "x": 0.05
          },
          "xaxis": {
           "automargin": true,
           "gridcolor": "white",
           "linecolor": "white",
           "ticks": "",
           "title": {
            "standoff": 15
           },
           "zerolinecolor": "white",
           "zerolinewidth": 2
          },
          "yaxis": {
           "automargin": true,
           "gridcolor": "white",
           "linecolor": "white",
           "ticks": "",
           "title": {
            "standoff": 15
           },
           "zerolinecolor": "white",
           "zerolinewidth": 2
          }
         }
        }
       }
      }
     },
     "metadata": {}
    }
   ],
   "metadata": {}
  },
  {
   "cell_type": "code",
   "execution_count": 103,
   "source": [
    "# Parallel Coordinates Plot\r\n",
    "plot_parallel_coordinates = px.parallel_coordinates(\r\n",
    "    df_top10,\r\n",
    "    dimensions=['Neighborhood','Sale Price/SqFt','Housing Units','Gross Rent'],\r\n",
    "    color='Sale Price/SqFt'\r\n",
    ")\r\n",
    "plot_parallel_coordinates"
   ],
   "outputs": [
    {
     "output_type": "display_data",
     "data": {
      "application/vnd.plotly.v1+json": {
       "config": {
        "plotlyServerURL": "https://plot.ly"
       },
       "data": [
        {
         "dimensions": [
          {
           "label": "Sale Price/SqFt",
           "values": [
            903,
            788,
            779,
            689,
            686,
            676,
            665,
            661,
            649,
            641
           ]
          },
          {
           "label": "Housing Units",
           "values": [
            377427,
            380348,
            375967,
            378401,
            382295,
            378401,
            378401,
            378401,
            375805,
            378401
           ]
          },
          {
           "label": "Gross Rent",
           "values": [
            2555,
            3414,
            2155,
            2817,
            3959,
            2817,
            2817,
            2817,
            2099,
            2817
           ]
          }
         ],
         "domain": {
          "x": [
           0,
           1
          ],
          "y": [
           0,
           1
          ]
         },
         "line": {
          "color": [
           903,
           788,
           779,
           689,
           686,
           676,
           665,
           661,
           649,
           641
          ],
          "coloraxis": "coloraxis"
         },
         "name": "",
         "type": "parcoords"
        }
       ],
       "layout": {
        "coloraxis": {
         "colorbar": {
          "title": {
           "text": "Sale Price/SqFt"
          }
         },
         "colorscale": [
          [
           0,
           "#0d0887"
          ],
          [
           0.1111111111111111,
           "#46039f"
          ],
          [
           0.2222222222222222,
           "#7201a8"
          ],
          [
           0.3333333333333333,
           "#9c179e"
          ],
          [
           0.4444444444444444,
           "#bd3786"
          ],
          [
           0.5555555555555556,
           "#d8576b"
          ],
          [
           0.6666666666666666,
           "#ed7953"
          ],
          [
           0.7777777777777778,
           "#fb9f3a"
          ],
          [
           0.8888888888888888,
           "#fdca26"
          ],
          [
           1,
           "#f0f921"
          ]
         ]
        },
        "legend": {
         "tracegroupgap": 0
        },
        "margin": {
         "t": 60
        },
        "template": {
         "data": {
          "bar": [
           {
            "error_x": {
             "color": "#2a3f5f"
            },
            "error_y": {
             "color": "#2a3f5f"
            },
            "marker": {
             "line": {
              "color": "#E5ECF6",
              "width": 0.5
             },
             "pattern": {
              "fillmode": "overlay",
              "size": 10,
              "solidity": 0.2
             }
            },
            "type": "bar"
           }
          ],
          "barpolar": [
           {
            "marker": {
             "line": {
              "color": "#E5ECF6",
              "width": 0.5
             },
             "pattern": {
              "fillmode": "overlay",
              "size": 10,
              "solidity": 0.2
             }
            },
            "type": "barpolar"
           }
          ],
          "carpet": [
           {
            "aaxis": {
             "endlinecolor": "#2a3f5f",
             "gridcolor": "white",
             "linecolor": "white",
             "minorgridcolor": "white",
             "startlinecolor": "#2a3f5f"
            },
            "baxis": {
             "endlinecolor": "#2a3f5f",
             "gridcolor": "white",
             "linecolor": "white",
             "minorgridcolor": "white",
             "startlinecolor": "#2a3f5f"
            },
            "type": "carpet"
           }
          ],
          "choropleth": [
           {
            "colorbar": {
             "outlinewidth": 0,
             "ticks": ""
            },
            "type": "choropleth"
           }
          ],
          "contour": [
           {
            "colorbar": {
             "outlinewidth": 0,
             "ticks": ""
            },
            "colorscale": [
             [
              0,
              "#0d0887"
             ],
             [
              0.1111111111111111,
              "#46039f"
             ],
             [
              0.2222222222222222,
              "#7201a8"
             ],
             [
              0.3333333333333333,
              "#9c179e"
             ],
             [
              0.4444444444444444,
              "#bd3786"
             ],
             [
              0.5555555555555556,
              "#d8576b"
             ],
             [
              0.6666666666666666,
              "#ed7953"
             ],
             [
              0.7777777777777778,
              "#fb9f3a"
             ],
             [
              0.8888888888888888,
              "#fdca26"
             ],
             [
              1,
              "#f0f921"
             ]
            ],
            "type": "contour"
           }
          ],
          "contourcarpet": [
           {
            "colorbar": {
             "outlinewidth": 0,
             "ticks": ""
            },
            "type": "contourcarpet"
           }
          ],
          "heatmap": [
           {
            "colorbar": {
             "outlinewidth": 0,
             "ticks": ""
            },
            "colorscale": [
             [
              0,
              "#0d0887"
             ],
             [
              0.1111111111111111,
              "#46039f"
             ],
             [
              0.2222222222222222,
              "#7201a8"
             ],
             [
              0.3333333333333333,
              "#9c179e"
             ],
             [
              0.4444444444444444,
              "#bd3786"
             ],
             [
              0.5555555555555556,
              "#d8576b"
             ],
             [
              0.6666666666666666,
              "#ed7953"
             ],
             [
              0.7777777777777778,
              "#fb9f3a"
             ],
             [
              0.8888888888888888,
              "#fdca26"
             ],
             [
              1,
              "#f0f921"
             ]
            ],
            "type": "heatmap"
           }
          ],
          "heatmapgl": [
           {
            "colorbar": {
             "outlinewidth": 0,
             "ticks": ""
            },
            "colorscale": [
             [
              0,
              "#0d0887"
             ],
             [
              0.1111111111111111,
              "#46039f"
             ],
             [
              0.2222222222222222,
              "#7201a8"
             ],
             [
              0.3333333333333333,
              "#9c179e"
             ],
             [
              0.4444444444444444,
              "#bd3786"
             ],
             [
              0.5555555555555556,
              "#d8576b"
             ],
             [
              0.6666666666666666,
              "#ed7953"
             ],
             [
              0.7777777777777778,
              "#fb9f3a"
             ],
             [
              0.8888888888888888,
              "#fdca26"
             ],
             [
              1,
              "#f0f921"
             ]
            ],
            "type": "heatmapgl"
           }
          ],
          "histogram": [
           {
            "marker": {
             "pattern": {
              "fillmode": "overlay",
              "size": 10,
              "solidity": 0.2
             }
            },
            "type": "histogram"
           }
          ],
          "histogram2d": [
           {
            "colorbar": {
             "outlinewidth": 0,
             "ticks": ""
            },
            "colorscale": [
             [
              0,
              "#0d0887"
             ],
             [
              0.1111111111111111,
              "#46039f"
             ],
             [
              0.2222222222222222,
              "#7201a8"
             ],
             [
              0.3333333333333333,
              "#9c179e"
             ],
             [
              0.4444444444444444,
              "#bd3786"
             ],
             [
              0.5555555555555556,
              "#d8576b"
             ],
             [
              0.6666666666666666,
              "#ed7953"
             ],
             [
              0.7777777777777778,
              "#fb9f3a"
             ],
             [
              0.8888888888888888,
              "#fdca26"
             ],
             [
              1,
              "#f0f921"
             ]
            ],
            "type": "histogram2d"
           }
          ],
          "histogram2dcontour": [
           {
            "colorbar": {
             "outlinewidth": 0,
             "ticks": ""
            },
            "colorscale": [
             [
              0,
              "#0d0887"
             ],
             [
              0.1111111111111111,
              "#46039f"
             ],
             [
              0.2222222222222222,
              "#7201a8"
             ],
             [
              0.3333333333333333,
              "#9c179e"
             ],
             [
              0.4444444444444444,
              "#bd3786"
             ],
             [
              0.5555555555555556,
              "#d8576b"
             ],
             [
              0.6666666666666666,
              "#ed7953"
             ],
             [
              0.7777777777777778,
              "#fb9f3a"
             ],
             [
              0.8888888888888888,
              "#fdca26"
             ],
             [
              1,
              "#f0f921"
             ]
            ],
            "type": "histogram2dcontour"
           }
          ],
          "mesh3d": [
           {
            "colorbar": {
             "outlinewidth": 0,
             "ticks": ""
            },
            "type": "mesh3d"
           }
          ],
          "parcoords": [
           {
            "line": {
             "colorbar": {
              "outlinewidth": 0,
              "ticks": ""
             }
            },
            "type": "parcoords"
           }
          ],
          "pie": [
           {
            "automargin": true,
            "type": "pie"
           }
          ],
          "scatter": [
           {
            "marker": {
             "colorbar": {
              "outlinewidth": 0,
              "ticks": ""
             }
            },
            "type": "scatter"
           }
          ],
          "scatter3d": [
           {
            "line": {
             "colorbar": {
              "outlinewidth": 0,
              "ticks": ""
             }
            },
            "marker": {
             "colorbar": {
              "outlinewidth": 0,
              "ticks": ""
             }
            },
            "type": "scatter3d"
           }
          ],
          "scattercarpet": [
           {
            "marker": {
             "colorbar": {
              "outlinewidth": 0,
              "ticks": ""
             }
            },
            "type": "scattercarpet"
           }
          ],
          "scattergeo": [
           {
            "marker": {
             "colorbar": {
              "outlinewidth": 0,
              "ticks": ""
             }
            },
            "type": "scattergeo"
           }
          ],
          "scattergl": [
           {
            "marker": {
             "colorbar": {
              "outlinewidth": 0,
              "ticks": ""
             }
            },
            "type": "scattergl"
           }
          ],
          "scattermapbox": [
           {
            "marker": {
             "colorbar": {
              "outlinewidth": 0,
              "ticks": ""
             }
            },
            "type": "scattermapbox"
           }
          ],
          "scatterpolar": [
           {
            "marker": {
             "colorbar": {
              "outlinewidth": 0,
              "ticks": ""
             }
            },
            "type": "scatterpolar"
           }
          ],
          "scatterpolargl": [
           {
            "marker": {
             "colorbar": {
              "outlinewidth": 0,
              "ticks": ""
             }
            },
            "type": "scatterpolargl"
           }
          ],
          "scatterternary": [
           {
            "marker": {
             "colorbar": {
              "outlinewidth": 0,
              "ticks": ""
             }
            },
            "type": "scatterternary"
           }
          ],
          "surface": [
           {
            "colorbar": {
             "outlinewidth": 0,
             "ticks": ""
            },
            "colorscale": [
             [
              0,
              "#0d0887"
             ],
             [
              0.1111111111111111,
              "#46039f"
             ],
             [
              0.2222222222222222,
              "#7201a8"
             ],
             [
              0.3333333333333333,
              "#9c179e"
             ],
             [
              0.4444444444444444,
              "#bd3786"
             ],
             [
              0.5555555555555556,
              "#d8576b"
             ],
             [
              0.6666666666666666,
              "#ed7953"
             ],
             [
              0.7777777777777778,
              "#fb9f3a"
             ],
             [
              0.8888888888888888,
              "#fdca26"
             ],
             [
              1,
              "#f0f921"
             ]
            ],
            "type": "surface"
           }
          ],
          "table": [
           {
            "cells": {
             "fill": {
              "color": "#EBF0F8"
             },
             "line": {
              "color": "white"
             }
            },
            "header": {
             "fill": {
              "color": "#C8D4E3"
             },
             "line": {
              "color": "white"
             }
            },
            "type": "table"
           }
          ]
         },
         "layout": {
          "annotationdefaults": {
           "arrowcolor": "#2a3f5f",
           "arrowhead": 0,
           "arrowwidth": 1
          },
          "autotypenumbers": "strict",
          "coloraxis": {
           "colorbar": {
            "outlinewidth": 0,
            "ticks": ""
           }
          },
          "colorscale": {
           "diverging": [
            [
             0,
             "#8e0152"
            ],
            [
             0.1,
             "#c51b7d"
            ],
            [
             0.2,
             "#de77ae"
            ],
            [
             0.3,
             "#f1b6da"
            ],
            [
             0.4,
             "#fde0ef"
            ],
            [
             0.5,
             "#f7f7f7"
            ],
            [
             0.6,
             "#e6f5d0"
            ],
            [
             0.7,
             "#b8e186"
            ],
            [
             0.8,
             "#7fbc41"
            ],
            [
             0.9,
             "#4d9221"
            ],
            [
             1,
             "#276419"
            ]
           ],
           "sequential": [
            [
             0,
             "#0d0887"
            ],
            [
             0.1111111111111111,
             "#46039f"
            ],
            [
             0.2222222222222222,
             "#7201a8"
            ],
            [
             0.3333333333333333,
             "#9c179e"
            ],
            [
             0.4444444444444444,
             "#bd3786"
            ],
            [
             0.5555555555555556,
             "#d8576b"
            ],
            [
             0.6666666666666666,
             "#ed7953"
            ],
            [
             0.7777777777777778,
             "#fb9f3a"
            ],
            [
             0.8888888888888888,
             "#fdca26"
            ],
            [
             1,
             "#f0f921"
            ]
           ],
           "sequentialminus": [
            [
             0,
             "#0d0887"
            ],
            [
             0.1111111111111111,
             "#46039f"
            ],
            [
             0.2222222222222222,
             "#7201a8"
            ],
            [
             0.3333333333333333,
             "#9c179e"
            ],
            [
             0.4444444444444444,
             "#bd3786"
            ],
            [
             0.5555555555555556,
             "#d8576b"
            ],
            [
             0.6666666666666666,
             "#ed7953"
            ],
            [
             0.7777777777777778,
             "#fb9f3a"
            ],
            [
             0.8888888888888888,
             "#fdca26"
            ],
            [
             1,
             "#f0f921"
            ]
           ]
          },
          "colorway": [
           "#636efa",
           "#EF553B",
           "#00cc96",
           "#ab63fa",
           "#FFA15A",
           "#19d3f3",
           "#FF6692",
           "#B6E880",
           "#FF97FF",
           "#FECB52"
          ],
          "font": {
           "color": "#2a3f5f"
          },
          "geo": {
           "bgcolor": "white",
           "lakecolor": "white",
           "landcolor": "#E5ECF6",
           "showlakes": true,
           "showland": true,
           "subunitcolor": "white"
          },
          "hoverlabel": {
           "align": "left"
          },
          "hovermode": "closest",
          "mapbox": {
           "style": "light"
          },
          "paper_bgcolor": "white",
          "plot_bgcolor": "#E5ECF6",
          "polar": {
           "angularaxis": {
            "gridcolor": "white",
            "linecolor": "white",
            "ticks": ""
           },
           "bgcolor": "#E5ECF6",
           "radialaxis": {
            "gridcolor": "white",
            "linecolor": "white",
            "ticks": ""
           }
          },
          "scene": {
           "xaxis": {
            "backgroundcolor": "#E5ECF6",
            "gridcolor": "white",
            "gridwidth": 2,
            "linecolor": "white",
            "showbackground": true,
            "ticks": "",
            "zerolinecolor": "white"
           },
           "yaxis": {
            "backgroundcolor": "#E5ECF6",
            "gridcolor": "white",
            "gridwidth": 2,
            "linecolor": "white",
            "showbackground": true,
            "ticks": "",
            "zerolinecolor": "white"
           },
           "zaxis": {
            "backgroundcolor": "#E5ECF6",
            "gridcolor": "white",
            "gridwidth": 2,
            "linecolor": "white",
            "showbackground": true,
            "ticks": "",
            "zerolinecolor": "white"
           }
          },
          "shapedefaults": {
           "line": {
            "color": "#2a3f5f"
           }
          },
          "ternary": {
           "aaxis": {
            "gridcolor": "white",
            "linecolor": "white",
            "ticks": ""
           },
           "baxis": {
            "gridcolor": "white",
            "linecolor": "white",
            "ticks": ""
           },
           "bgcolor": "#E5ECF6",
           "caxis": {
            "gridcolor": "white",
            "linecolor": "white",
            "ticks": ""
           }
          },
          "title": {
           "x": 0.05
          },
          "xaxis": {
           "automargin": true,
           "gridcolor": "white",
           "linecolor": "white",
           "ticks": "",
           "title": {
            "standoff": 15
           },
           "zerolinecolor": "white",
           "zerolinewidth": 2
          },
          "yaxis": {
           "automargin": true,
           "gridcolor": "white",
           "linecolor": "white",
           "ticks": "",
           "title": {
            "standoff": 15
           },
           "zerolinecolor": "white",
           "zerolinewidth": 2
          }
         }
        }
       }
      }
     },
     "metadata": {}
    }
   ],
   "metadata": {}
  },
  {
   "cell_type": "markdown",
   "source": [
    "### Create a sunburst chart to conduct a costs analysis of most expensive neighborhoods in San Francisco per year"
   ],
   "metadata": {}
  },
  {
   "cell_type": "code",
   "execution_count": 104,
   "source": [
    "# Sunburst Plot\r\n",
    "\r\n",
    "#df_expensive_neighborhoods_per_year = salePrice_neighborhood\r\n",
    "\r\n",
    "#df_expensive_neighborhoods_per_year = df_expensive_neighborhoods[df_expensive_neighborhoods['Neighborhood']].isin(sfo_data['Neighborhood'])\r\n",
    "\r\n",
    "# df_expensive_neighborhoods_per_year = df_costs[df_costs['neighborhood'].isin(df_expensive_neighborhoods['neighborhood'])]\r\n",
    "# df_expensive_neighborhoods_per_year.head()\r\n",
    "\r\n",
    "\r\n",
    "# top10 = top10_neighborhoods.rename(columns={'Avg. Sale Price/SqFt':'Sale Price/SqFt'})#.reset_index()\r\n",
    "# sale = sfo_neighborhood#.reset_index()\r\n",
    "# print(top10)\r\n",
    "# print(top10.index)\r\n",
    "# print(sale)\r\n",
    "# print(sale.index)\r\n",
    "# df = top10[top10['Neighborhood']].isin(sale['Neighborhood'])\r\n",
    "# df\r\n",
    "\r\n",
    "\r\n",
    "# df_top10 = sfo_neighborhood.reset_index()\\\r\n",
    "#                      .groupby('Neighborhood')['Sale Price/SqFt','Housing Units','Gross Rent']\\\r\n",
    "#                      .mean()\\\r\n",
    "#                      .astype(int)\r\n",
    "\r\n",
    "# df_top10 = df_top10.nlargest(10, columns='Sale Price/SqFt').reset_index()\r\n",
    "\r\n",
    "\r\n",
    "# df_top10_per_year = sfo_neighborhood.reset_index()\\\r\n",
    "#                                     .groupby(['Year','Neighborhood'])[\r\n",
    "#                                         'Sale Price/SqFt',\r\n",
    "#                                         'Housing Units',\r\n",
    "#                                         'Gross Rent']\\\r\n",
    "#                                     .mean()\\\r\n",
    "#                                     .astype(int)\\\r\n",
    "#                                     #.nlargest(10, columns='Sale Price/SqFt')\r\n",
    "\r\n",
    "# print(df_top10_per_year)\r\n",
    "\r\n",
    "# print(sfo_neighborhood)\r\n",
    "# print(df_top10)\r\n",
    "# sfo_neighborhood2 = sfo_neighborhood.reset_index().dropna()\r\n",
    "# df_top102 = df_top10.reset_index().drop('index', axis='columns').dropna()\r\n",
    "# print(sfo_neighborhood2)\r\n",
    "# print(df_top102)\r\n",
    "# sunburst = avg_salePrice_per_year[avg_salePrice_per_year['Neighborhood'].isin(top10_neighboorhoods['Neighborhood'])]\r\n",
    "# sunburst = sfo_neighborhood2[sfo_neighborhood2.isin(df_top102)]\r\n",
    "# sunburst = df_top102[df_top102.isin(sfo_neighborhood2)]\r\n",
    "\r\n",
    "# plot_sunburst = df_top10[df_top10['Neighborhood'].isin(plot_sunburst['Neighborhood'])]\r\n",
    "# print(plot_sunburst.head(10))\r\n",
    "\r\n",
    "print(df_top10['Neighborhood'])\r\n",
    "sunburst = sfo_neighborhood[sfo_neighborhood['Neighborhood'].isin(df_top10['Neighborhood'])].reset_index()\r\n",
    "print(sunburst)\r\n",
    "\r\n",
    "plot_sunburst = px.sunburst(\r\n",
    "    sunburst,\r\n",
    "    path=['Year','Neighborhood'],\r\n",
    "    values='Sale Price/SqFt',\r\n",
    "    color='Gross Rent',\r\n",
    "    color_continuous_scale='Blues',\r\n",
    "    title='Cost Analysis of Most Expensive Neighborhoods in San Francisco per Year',\r\n",
    "    height=700\r\n",
    ")\r\n",
    "plot_sunburst"
   ],
   "outputs": [
    {
     "output_type": "stream",
     "name": "stdout",
     "text": [
      "0            Union Square District\n",
      "1                   Merced Heights\n",
      "2                    Miraloma Park\n",
      "3                  Pacific Heights\n",
      "4                    Westwood Park\n",
      "5                   Telegraph Hill\n",
      "6                       Cow Hollow\n",
      "7                     Potrero Hill\n",
      "8                      South Beach\n",
      "9    Eureka Valley/Dolores Heights\n",
      "Name: Neighborhood, dtype: object\n",
      "    Year                   Neighborhood  Sale Price/SqFt  Housing Units  \\\n",
      "0   2010                     Cow Hollow              569         372560   \n",
      "1   2010  Eureka Valley/Dolores Heights              403         372560   \n",
      "2   2010                  Miraloma Park              680         372560   \n",
      "3   2010                Pacific Heights              496         372560   \n",
      "4   2010                   Potrero Hill              491         372560   \n",
      "5   2010                    South Beach             1037         372560   \n",
      "6   2010                 Telegraph Hill              524         372560   \n",
      "7   2010          Union Square District              569         372560   \n",
      "8   2011                     Cow Hollow              390         374507   \n",
      "9   2011  Eureka Valley/Dolores Heights              413         374507   \n",
      "10  2011                  Miraloma Park              414         374507   \n",
      "11  2011                Pacific Heights              509         374507   \n",
      "12  2011                   Potrero Hill              503         374507   \n",
      "13  2011                    South Beach              388         374507   \n",
      "14  2011                 Telegraph Hill              483         374507   \n",
      "15  2011          Union Square District              302         374507   \n",
      "16  2012                     Cow Hollow              644         376454   \n",
      "17  2012  Eureka Valley/Dolores Heights              524         376454   \n",
      "18  2012                 Merced Heights              421         376454   \n",
      "19  2012                  Miraloma Park              756         376454   \n",
      "20  2012                Pacific Heights              586         376454   \n",
      "21  2012                   Potrero Hill              466         376454   \n",
      "22  2012                 Telegraph Hill              465         376454   \n",
      "23  2012          Union Square District              445         376454   \n",
      "24  2013                     Cow Hollow              707         378401   \n",
      "25  2013  Eureka Valley/Dolores Heights              608         378401   \n",
      "26  2013                Pacific Heights              503         378401   \n",
      "27  2013                   Potrero Hill              598         378401   \n",
      "28  2013                 Telegraph Hill              653         378401   \n",
      "29  2013          Union Square District             1290         378401   \n",
      "30  2014                     Cow Hollow              691         380348   \n",
      "31  2014  Eureka Valley/Dolores Heights              728         380348   \n",
      "32  2014                 Merced Heights              528         380348   \n",
      "33  2014                  Miraloma Park             1267         380348   \n",
      "34  2014                Pacific Heights              824         380348   \n",
      "35  2014                   Potrero Hill             1045         380348   \n",
      "36  2014                    South Beach              524         380348   \n",
      "37  2014                 Telegraph Hill              708         380348   \n",
      "38  2014          Union Square District              558         380348   \n",
      "39  2014                  Westwood Park              742         380348   \n",
      "40  2015                     Cow Hollow              598         382295   \n",
      "41  2015  Eureka Valley/Dolores Heights              790         382295   \n",
      "42  2015                Pacific Heights              910         382295   \n",
      "43  2015                   Potrero Hill              821         382295   \n",
      "44  2015                 Telegraph Hill              996         382295   \n",
      "45  2015          Union Square District             2258         382295   \n",
      "46  2016                     Cow Hollow             1059         384242   \n",
      "47  2016  Eureka Valley/Dolores Heights             1026         384242   \n",
      "48  2016                 Merced Heights             1416         384242   \n",
      "49  2016                Pacific Heights              996         384242   \n",
      "50  2016                   Potrero Hill              707         384242   \n",
      "51  2016                 Telegraph Hill              903         384242   \n",
      "52  2016                  Westwood Park              631         384242   \n",
      "\n",
      "    Gross Rent  \n",
      "0         1239  \n",
      "1         1239  \n",
      "2         1239  \n",
      "3         1239  \n",
      "4         1239  \n",
      "5         1239  \n",
      "6         1239  \n",
      "7         1239  \n",
      "8         1530  \n",
      "9         1530  \n",
      "10        1530  \n",
      "11        1530  \n",
      "12        1530  \n",
      "13        1530  \n",
      "14        1530  \n",
      "15        1530  \n",
      "16        2324  \n",
      "17        2324  \n",
      "18        2324  \n",
      "19        2324  \n",
      "20        2324  \n",
      "21        2324  \n",
      "22        2324  \n",
      "23        2324  \n",
      "24        2971  \n",
      "25        2971  \n",
      "26        2971  \n",
      "27        2971  \n",
      "28        2971  \n",
      "29        2971  \n",
      "30        3528  \n",
      "31        3528  \n",
      "32        3528  \n",
      "33        3528  \n",
      "34        3528  \n",
      "35        3528  \n",
      "36        3528  \n",
      "37        3528  \n",
      "38        3528  \n",
      "39        3528  \n",
      "40        3739  \n",
      "41        3739  \n",
      "42        3739  \n",
      "43        3739  \n",
      "44        3739  \n",
      "45        3739  \n",
      "46        4390  \n",
      "47        4390  \n",
      "48        4390  \n",
      "49        4390  \n",
      "50        4390  \n",
      "51        4390  \n",
      "52        4390  \n"
     ]
    },
    {
     "output_type": "display_data",
     "data": {
      "application/vnd.plotly.v1+json": {
       "config": {
        "plotlyServerURL": "https://plot.ly"
       },
       "data": [
        {
         "branchvalues": "total",
         "customdata": [
          [
           1239
          ],
          [
           1530
          ],
          [
           2324
          ],
          [
           2971
          ],
          [
           3528
          ],
          [
           3739
          ],
          [
           4390
          ],
          [
           1239
          ],
          [
           1530
          ],
          [
           2324
          ],
          [
           2971
          ],
          [
           3528
          ],
          [
           3739
          ],
          [
           4390
          ],
          [
           2324
          ],
          [
           3528
          ],
          [
           4390
          ],
          [
           1239
          ],
          [
           1530
          ],
          [
           2324
          ],
          [
           3528
          ],
          [
           1239
          ],
          [
           1530
          ],
          [
           2324
          ],
          [
           2971
          ],
          [
           3528
          ],
          [
           3739
          ],
          [
           4390
          ],
          [
           1239
          ],
          [
           1530
          ],
          [
           2324
          ],
          [
           2971
          ],
          [
           3528
          ],
          [
           3739
          ],
          [
           4390
          ],
          [
           1239
          ],
          [
           1530
          ],
          [
           3528
          ],
          [
           1239
          ],
          [
           1530
          ],
          [
           2324
          ],
          [
           2971
          ],
          [
           3528
          ],
          [
           3739
          ],
          [
           4390
          ],
          [
           1239
          ],
          [
           1530
          ],
          [
           2324
          ],
          [
           2971
          ],
          [
           3528
          ],
          [
           3739
          ],
          [
           3528
          ],
          [
           4390
          ],
          [
           1239
          ],
          [
           1530
          ],
          [
           2324
          ],
          [
           2971
          ],
          [
           3528
          ],
          [
           3739
          ],
          [
           4390
          ]
         ],
         "domain": {
          "x": [
           0,
           1
          ],
          "y": [
           0,
           1
          ]
         },
         "hovertemplate": "labels=%{label}<br>Sale Price/SqFt=%{value}<br>parent=%{parent}<br>id=%{id}<br>Gross Rent=%{color}<extra></extra>",
         "ids": [
          "2010/Cow Hollow",
          "2011/Cow Hollow",
          "2012/Cow Hollow",
          "2013/Cow Hollow",
          "2014/Cow Hollow",
          "2015/Cow Hollow",
          "2016/Cow Hollow",
          "2010/Eureka Valley/Dolores Heights",
          "2011/Eureka Valley/Dolores Heights",
          "2012/Eureka Valley/Dolores Heights",
          "2013/Eureka Valley/Dolores Heights",
          "2014/Eureka Valley/Dolores Heights",
          "2015/Eureka Valley/Dolores Heights",
          "2016/Eureka Valley/Dolores Heights",
          "2012/Merced Heights",
          "2014/Merced Heights",
          "2016/Merced Heights",
          "2010/Miraloma Park",
          "2011/Miraloma Park",
          "2012/Miraloma Park",
          "2014/Miraloma Park",
          "2010/Pacific Heights",
          "2011/Pacific Heights",
          "2012/Pacific Heights",
          "2013/Pacific Heights",
          "2014/Pacific Heights",
          "2015/Pacific Heights",
          "2016/Pacific Heights",
          "2010/Potrero Hill",
          "2011/Potrero Hill",
          "2012/Potrero Hill",
          "2013/Potrero Hill",
          "2014/Potrero Hill",
          "2015/Potrero Hill",
          "2016/Potrero Hill",
          "2010/South Beach",
          "2011/South Beach",
          "2014/South Beach",
          "2010/Telegraph Hill",
          "2011/Telegraph Hill",
          "2012/Telegraph Hill",
          "2013/Telegraph Hill",
          "2014/Telegraph Hill",
          "2015/Telegraph Hill",
          "2016/Telegraph Hill",
          "2010/Union Square District",
          "2011/Union Square District",
          "2012/Union Square District",
          "2013/Union Square District",
          "2014/Union Square District",
          "2015/Union Square District",
          "2014/Westwood Park",
          "2016/Westwood Park",
          "2010",
          "2011",
          "2012",
          "2013",
          "2014",
          "2015",
          "2016"
         ],
         "labels": [
          "Cow Hollow",
          "Cow Hollow",
          "Cow Hollow",
          "Cow Hollow",
          "Cow Hollow",
          "Cow Hollow",
          "Cow Hollow",
          "Eureka Valley/Dolores Heights",
          "Eureka Valley/Dolores Heights",
          "Eureka Valley/Dolores Heights",
          "Eureka Valley/Dolores Heights",
          "Eureka Valley/Dolores Heights",
          "Eureka Valley/Dolores Heights",
          "Eureka Valley/Dolores Heights",
          "Merced Heights",
          "Merced Heights",
          "Merced Heights",
          "Miraloma Park",
          "Miraloma Park",
          "Miraloma Park",
          "Miraloma Park",
          "Pacific Heights",
          "Pacific Heights",
          "Pacific Heights",
          "Pacific Heights",
          "Pacific Heights",
          "Pacific Heights",
          "Pacific Heights",
          "Potrero Hill",
          "Potrero Hill",
          "Potrero Hill",
          "Potrero Hill",
          "Potrero Hill",
          "Potrero Hill",
          "Potrero Hill",
          "South Beach",
          "South Beach",
          "South Beach",
          "Telegraph Hill",
          "Telegraph Hill",
          "Telegraph Hill",
          "Telegraph Hill",
          "Telegraph Hill",
          "Telegraph Hill",
          "Telegraph Hill",
          "Union Square District",
          "Union Square District",
          "Union Square District",
          "Union Square District",
          "Union Square District",
          "Union Square District",
          "Westwood Park",
          "Westwood Park",
          "2010",
          "2011",
          "2012",
          "2013",
          "2014",
          "2015",
          "2016"
         ],
         "marker": {
          "coloraxis": "coloraxis",
          "colors": [
           1239,
           1530,
           2324,
           2971,
           3528,
           3739,
           4390,
           1239,
           1530,
           2324,
           2971,
           3528,
           3739,
           4390,
           2324,
           3528,
           4390,
           1239,
           1530,
           2324,
           3528,
           1239,
           1530,
           2324,
           2971,
           3528,
           3739,
           4390,
           1239,
           1530,
           2324,
           2971,
           3528,
           3739,
           4390,
           1239,
           1530,
           3528,
           1239,
           1530,
           2324,
           2971,
           3528,
           3739,
           4390,
           1239,
           1530,
           2324,
           2971,
           3528,
           3739,
           3528,
           4390,
           1239,
           1530,
           2324,
           2971,
           3528,
           3739,
           4390
          ]
         },
         "name": "",
         "parents": [
          "2010",
          "2011",
          "2012",
          "2013",
          "2014",
          "2015",
          "2016",
          "2010",
          "2011",
          "2012",
          "2013",
          "2014",
          "2015",
          "2016",
          "2012",
          "2014",
          "2016",
          "2010",
          "2011",
          "2012",
          "2014",
          "2010",
          "2011",
          "2012",
          "2013",
          "2014",
          "2015",
          "2016",
          "2010",
          "2011",
          "2012",
          "2013",
          "2014",
          "2015",
          "2016",
          "2010",
          "2011",
          "2014",
          "2010",
          "2011",
          "2012",
          "2013",
          "2014",
          "2015",
          "2016",
          "2010",
          "2011",
          "2012",
          "2013",
          "2014",
          "2015",
          "2014",
          "2016",
          "",
          "",
          "",
          "",
          "",
          "",
          ""
         ],
         "type": "sunburst",
         "values": [
          569,
          390,
          644,
          707,
          691,
          598,
          1059,
          403,
          413,
          524,
          608,
          728,
          790,
          1026,
          421,
          528,
          1416,
          680,
          414,
          756,
          1267,
          496,
          509,
          586,
          503,
          824,
          910,
          996,
          491,
          503,
          466,
          598,
          1045,
          821,
          707,
          1037,
          388,
          524,
          524,
          483,
          465,
          653,
          708,
          996,
          903,
          569,
          302,
          445,
          1290,
          558,
          2258,
          742,
          631,
          4769,
          3402,
          4307,
          4359,
          7615,
          6373,
          6738
         ]
        }
       ],
       "layout": {
        "coloraxis": {
         "colorbar": {
          "title": {
           "text": "Gross Rent"
          }
         },
         "colorscale": [
          [
           0,
           "rgb(247,251,255)"
          ],
          [
           0.125,
           "rgb(222,235,247)"
          ],
          [
           0.25,
           "rgb(198,219,239)"
          ],
          [
           0.375,
           "rgb(158,202,225)"
          ],
          [
           0.5,
           "rgb(107,174,214)"
          ],
          [
           0.625,
           "rgb(66,146,198)"
          ],
          [
           0.75,
           "rgb(33,113,181)"
          ],
          [
           0.875,
           "rgb(8,81,156)"
          ],
          [
           1,
           "rgb(8,48,107)"
          ]
         ]
        },
        "height": 700,
        "legend": {
         "tracegroupgap": 0
        },
        "template": {
         "data": {
          "bar": [
           {
            "error_x": {
             "color": "#2a3f5f"
            },
            "error_y": {
             "color": "#2a3f5f"
            },
            "marker": {
             "line": {
              "color": "#E5ECF6",
              "width": 0.5
             },
             "pattern": {
              "fillmode": "overlay",
              "size": 10,
              "solidity": 0.2
             }
            },
            "type": "bar"
           }
          ],
          "barpolar": [
           {
            "marker": {
             "line": {
              "color": "#E5ECF6",
              "width": 0.5
             },
             "pattern": {
              "fillmode": "overlay",
              "size": 10,
              "solidity": 0.2
             }
            },
            "type": "barpolar"
           }
          ],
          "carpet": [
           {
            "aaxis": {
             "endlinecolor": "#2a3f5f",
             "gridcolor": "white",
             "linecolor": "white",
             "minorgridcolor": "white",
             "startlinecolor": "#2a3f5f"
            },
            "baxis": {
             "endlinecolor": "#2a3f5f",
             "gridcolor": "white",
             "linecolor": "white",
             "minorgridcolor": "white",
             "startlinecolor": "#2a3f5f"
            },
            "type": "carpet"
           }
          ],
          "choropleth": [
           {
            "colorbar": {
             "outlinewidth": 0,
             "ticks": ""
            },
            "type": "choropleth"
           }
          ],
          "contour": [
           {
            "colorbar": {
             "outlinewidth": 0,
             "ticks": ""
            },
            "colorscale": [
             [
              0,
              "#0d0887"
             ],
             [
              0.1111111111111111,
              "#46039f"
             ],
             [
              0.2222222222222222,
              "#7201a8"
             ],
             [
              0.3333333333333333,
              "#9c179e"
             ],
             [
              0.4444444444444444,
              "#bd3786"
             ],
             [
              0.5555555555555556,
              "#d8576b"
             ],
             [
              0.6666666666666666,
              "#ed7953"
             ],
             [
              0.7777777777777778,
              "#fb9f3a"
             ],
             [
              0.8888888888888888,
              "#fdca26"
             ],
             [
              1,
              "#f0f921"
             ]
            ],
            "type": "contour"
           }
          ],
          "contourcarpet": [
           {
            "colorbar": {
             "outlinewidth": 0,
             "ticks": ""
            },
            "type": "contourcarpet"
           }
          ],
          "heatmap": [
           {
            "colorbar": {
             "outlinewidth": 0,
             "ticks": ""
            },
            "colorscale": [
             [
              0,
              "#0d0887"
             ],
             [
              0.1111111111111111,
              "#46039f"
             ],
             [
              0.2222222222222222,
              "#7201a8"
             ],
             [
              0.3333333333333333,
              "#9c179e"
             ],
             [
              0.4444444444444444,
              "#bd3786"
             ],
             [
              0.5555555555555556,
              "#d8576b"
             ],
             [
              0.6666666666666666,
              "#ed7953"
             ],
             [
              0.7777777777777778,
              "#fb9f3a"
             ],
             [
              0.8888888888888888,
              "#fdca26"
             ],
             [
              1,
              "#f0f921"
             ]
            ],
            "type": "heatmap"
           }
          ],
          "heatmapgl": [
           {
            "colorbar": {
             "outlinewidth": 0,
             "ticks": ""
            },
            "colorscale": [
             [
              0,
              "#0d0887"
             ],
             [
              0.1111111111111111,
              "#46039f"
             ],
             [
              0.2222222222222222,
              "#7201a8"
             ],
             [
              0.3333333333333333,
              "#9c179e"
             ],
             [
              0.4444444444444444,
              "#bd3786"
             ],
             [
              0.5555555555555556,
              "#d8576b"
             ],
             [
              0.6666666666666666,
              "#ed7953"
             ],
             [
              0.7777777777777778,
              "#fb9f3a"
             ],
             [
              0.8888888888888888,
              "#fdca26"
             ],
             [
              1,
              "#f0f921"
             ]
            ],
            "type": "heatmapgl"
           }
          ],
          "histogram": [
           {
            "marker": {
             "pattern": {
              "fillmode": "overlay",
              "size": 10,
              "solidity": 0.2
             }
            },
            "type": "histogram"
           }
          ],
          "histogram2d": [
           {
            "colorbar": {
             "outlinewidth": 0,
             "ticks": ""
            },
            "colorscale": [
             [
              0,
              "#0d0887"
             ],
             [
              0.1111111111111111,
              "#46039f"
             ],
             [
              0.2222222222222222,
              "#7201a8"
             ],
             [
              0.3333333333333333,
              "#9c179e"
             ],
             [
              0.4444444444444444,
              "#bd3786"
             ],
             [
              0.5555555555555556,
              "#d8576b"
             ],
             [
              0.6666666666666666,
              "#ed7953"
             ],
             [
              0.7777777777777778,
              "#fb9f3a"
             ],
             [
              0.8888888888888888,
              "#fdca26"
             ],
             [
              1,
              "#f0f921"
             ]
            ],
            "type": "histogram2d"
           }
          ],
          "histogram2dcontour": [
           {
            "colorbar": {
             "outlinewidth": 0,
             "ticks": ""
            },
            "colorscale": [
             [
              0,
              "#0d0887"
             ],
             [
              0.1111111111111111,
              "#46039f"
             ],
             [
              0.2222222222222222,
              "#7201a8"
             ],
             [
              0.3333333333333333,
              "#9c179e"
             ],
             [
              0.4444444444444444,
              "#bd3786"
             ],
             [
              0.5555555555555556,
              "#d8576b"
             ],
             [
              0.6666666666666666,
              "#ed7953"
             ],
             [
              0.7777777777777778,
              "#fb9f3a"
             ],
             [
              0.8888888888888888,
              "#fdca26"
             ],
             [
              1,
              "#f0f921"
             ]
            ],
            "type": "histogram2dcontour"
           }
          ],
          "mesh3d": [
           {
            "colorbar": {
             "outlinewidth": 0,
             "ticks": ""
            },
            "type": "mesh3d"
           }
          ],
          "parcoords": [
           {
            "line": {
             "colorbar": {
              "outlinewidth": 0,
              "ticks": ""
             }
            },
            "type": "parcoords"
           }
          ],
          "pie": [
           {
            "automargin": true,
            "type": "pie"
           }
          ],
          "scatter": [
           {
            "marker": {
             "colorbar": {
              "outlinewidth": 0,
              "ticks": ""
             }
            },
            "type": "scatter"
           }
          ],
          "scatter3d": [
           {
            "line": {
             "colorbar": {
              "outlinewidth": 0,
              "ticks": ""
             }
            },
            "marker": {
             "colorbar": {
              "outlinewidth": 0,
              "ticks": ""
             }
            },
            "type": "scatter3d"
           }
          ],
          "scattercarpet": [
           {
            "marker": {
             "colorbar": {
              "outlinewidth": 0,
              "ticks": ""
             }
            },
            "type": "scattercarpet"
           }
          ],
          "scattergeo": [
           {
            "marker": {
             "colorbar": {
              "outlinewidth": 0,
              "ticks": ""
             }
            },
            "type": "scattergeo"
           }
          ],
          "scattergl": [
           {
            "marker": {
             "colorbar": {
              "outlinewidth": 0,
              "ticks": ""
             }
            },
            "type": "scattergl"
           }
          ],
          "scattermapbox": [
           {
            "marker": {
             "colorbar": {
              "outlinewidth": 0,
              "ticks": ""
             }
            },
            "type": "scattermapbox"
           }
          ],
          "scatterpolar": [
           {
            "marker": {
             "colorbar": {
              "outlinewidth": 0,
              "ticks": ""
             }
            },
            "type": "scatterpolar"
           }
          ],
          "scatterpolargl": [
           {
            "marker": {
             "colorbar": {
              "outlinewidth": 0,
              "ticks": ""
             }
            },
            "type": "scatterpolargl"
           }
          ],
          "scatterternary": [
           {
            "marker": {
             "colorbar": {
              "outlinewidth": 0,
              "ticks": ""
             }
            },
            "type": "scatterternary"
           }
          ],
          "surface": [
           {
            "colorbar": {
             "outlinewidth": 0,
             "ticks": ""
            },
            "colorscale": [
             [
              0,
              "#0d0887"
             ],
             [
              0.1111111111111111,
              "#46039f"
             ],
             [
              0.2222222222222222,
              "#7201a8"
             ],
             [
              0.3333333333333333,
              "#9c179e"
             ],
             [
              0.4444444444444444,
              "#bd3786"
             ],
             [
              0.5555555555555556,
              "#d8576b"
             ],
             [
              0.6666666666666666,
              "#ed7953"
             ],
             [
              0.7777777777777778,
              "#fb9f3a"
             ],
             [
              0.8888888888888888,
              "#fdca26"
             ],
             [
              1,
              "#f0f921"
             ]
            ],
            "type": "surface"
           }
          ],
          "table": [
           {
            "cells": {
             "fill": {
              "color": "#EBF0F8"
             },
             "line": {
              "color": "white"
             }
            },
            "header": {
             "fill": {
              "color": "#C8D4E3"
             },
             "line": {
              "color": "white"
             }
            },
            "type": "table"
           }
          ]
         },
         "layout": {
          "annotationdefaults": {
           "arrowcolor": "#2a3f5f",
           "arrowhead": 0,
           "arrowwidth": 1
          },
          "autotypenumbers": "strict",
          "coloraxis": {
           "colorbar": {
            "outlinewidth": 0,
            "ticks": ""
           }
          },
          "colorscale": {
           "diverging": [
            [
             0,
             "#8e0152"
            ],
            [
             0.1,
             "#c51b7d"
            ],
            [
             0.2,
             "#de77ae"
            ],
            [
             0.3,
             "#f1b6da"
            ],
            [
             0.4,
             "#fde0ef"
            ],
            [
             0.5,
             "#f7f7f7"
            ],
            [
             0.6,
             "#e6f5d0"
            ],
            [
             0.7,
             "#b8e186"
            ],
            [
             0.8,
             "#7fbc41"
            ],
            [
             0.9,
             "#4d9221"
            ],
            [
             1,
             "#276419"
            ]
           ],
           "sequential": [
            [
             0,
             "#0d0887"
            ],
            [
             0.1111111111111111,
             "#46039f"
            ],
            [
             0.2222222222222222,
             "#7201a8"
            ],
            [
             0.3333333333333333,
             "#9c179e"
            ],
            [
             0.4444444444444444,
             "#bd3786"
            ],
            [
             0.5555555555555556,
             "#d8576b"
            ],
            [
             0.6666666666666666,
             "#ed7953"
            ],
            [
             0.7777777777777778,
             "#fb9f3a"
            ],
            [
             0.8888888888888888,
             "#fdca26"
            ],
            [
             1,
             "#f0f921"
            ]
           ],
           "sequentialminus": [
            [
             0,
             "#0d0887"
            ],
            [
             0.1111111111111111,
             "#46039f"
            ],
            [
             0.2222222222222222,
             "#7201a8"
            ],
            [
             0.3333333333333333,
             "#9c179e"
            ],
            [
             0.4444444444444444,
             "#bd3786"
            ],
            [
             0.5555555555555556,
             "#d8576b"
            ],
            [
             0.6666666666666666,
             "#ed7953"
            ],
            [
             0.7777777777777778,
             "#fb9f3a"
            ],
            [
             0.8888888888888888,
             "#fdca26"
            ],
            [
             1,
             "#f0f921"
            ]
           ]
          },
          "colorway": [
           "#636efa",
           "#EF553B",
           "#00cc96",
           "#ab63fa",
           "#FFA15A",
           "#19d3f3",
           "#FF6692",
           "#B6E880",
           "#FF97FF",
           "#FECB52"
          ],
          "font": {
           "color": "#2a3f5f"
          },
          "geo": {
           "bgcolor": "white",
           "lakecolor": "white",
           "landcolor": "#E5ECF6",
           "showlakes": true,
           "showland": true,
           "subunitcolor": "white"
          },
          "hoverlabel": {
           "align": "left"
          },
          "hovermode": "closest",
          "mapbox": {
           "style": "light"
          },
          "paper_bgcolor": "white",
          "plot_bgcolor": "#E5ECF6",
          "polar": {
           "angularaxis": {
            "gridcolor": "white",
            "linecolor": "white",
            "ticks": ""
           },
           "bgcolor": "#E5ECF6",
           "radialaxis": {
            "gridcolor": "white",
            "linecolor": "white",
            "ticks": ""
           }
          },
          "scene": {
           "xaxis": {
            "backgroundcolor": "#E5ECF6",
            "gridcolor": "white",
            "gridwidth": 2,
            "linecolor": "white",
            "showbackground": true,
            "ticks": "",
            "zerolinecolor": "white"
           },
           "yaxis": {
            "backgroundcolor": "#E5ECF6",
            "gridcolor": "white",
            "gridwidth": 2,
            "linecolor": "white",
            "showbackground": true,
            "ticks": "",
            "zerolinecolor": "white"
           },
           "zaxis": {
            "backgroundcolor": "#E5ECF6",
            "gridcolor": "white",
            "gridwidth": 2,
            "linecolor": "white",
            "showbackground": true,
            "ticks": "",
            "zerolinecolor": "white"
           }
          },
          "shapedefaults": {
           "line": {
            "color": "#2a3f5f"
           }
          },
          "ternary": {
           "aaxis": {
            "gridcolor": "white",
            "linecolor": "white",
            "ticks": ""
           },
           "baxis": {
            "gridcolor": "white",
            "linecolor": "white",
            "ticks": ""
           },
           "bgcolor": "#E5ECF6",
           "caxis": {
            "gridcolor": "white",
            "linecolor": "white",
            "ticks": ""
           }
          },
          "title": {
           "x": 0.05
          },
          "xaxis": {
           "automargin": true,
           "gridcolor": "white",
           "linecolor": "white",
           "ticks": "",
           "title": {
            "standoff": 15
           },
           "zerolinecolor": "white",
           "zerolinewidth": 2
          },
          "yaxis": {
           "automargin": true,
           "gridcolor": "white",
           "linecolor": "white",
           "ticks": "",
           "title": {
            "standoff": 15
           },
           "zerolinecolor": "white",
           "zerolinewidth": 2
          }
         }
        },
        "title": {
         "text": "Cost Analysis of Most Expensive Neighborhoods in San Francisco per Year"
        }
       }
      }
     },
     "metadata": {}
    }
   ],
   "metadata": {}
  }
 ],
 "metadata": {
  "file_extension": ".py",
  "kernelspec": {
   "name": "python3",
   "display_name": "Python 3.7.10 64-bit ('pyvizenv': conda)"
  },
  "language_info": {
   "codemirror_mode": {
    "name": "ipython",
    "version": 3
   },
   "file_extension": ".py",
   "mimetype": "text/x-python",
   "name": "python",
   "nbconvert_exporter": "python",
   "pygments_lexer": "ipython3",
   "version": "3.7.10"
  },
  "mimetype": "text/x-python",
  "name": "python",
  "npconvert_exporter": "python",
  "pygments_lexer": "ipython3",
  "version": 3,
  "interpreter": {
   "hash": "b137740fc2bcbde1e37a831a88110efc5ce739436e40983aa0d133162956a4c2"
  }
 },
 "nbformat": 4,
 "nbformat_minor": 4
}